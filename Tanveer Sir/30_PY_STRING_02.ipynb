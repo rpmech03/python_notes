{
 "cells": [
  {
   "cell_type": "code",
   "execution_count": 12,
   "id": "799cad74",
   "metadata": {},
   "outputs": [
    {
     "data": {
      "text/plain": [
       "['__add__',\n",
       " '__class__',\n",
       " '__contains__',\n",
       " '__delattr__',\n",
       " '__dir__',\n",
       " '__doc__',\n",
       " '__eq__',\n",
       " '__format__',\n",
       " '__ge__',\n",
       " '__getattribute__',\n",
       " '__getitem__',\n",
       " '__getnewargs__',\n",
       " '__gt__',\n",
       " '__hash__',\n",
       " '__init__',\n",
       " '__init_subclass__',\n",
       " '__iter__',\n",
       " '__le__',\n",
       " '__len__',\n",
       " '__lt__',\n",
       " '__mod__',\n",
       " '__mul__',\n",
       " '__ne__',\n",
       " '__new__',\n",
       " '__reduce__',\n",
       " '__reduce_ex__',\n",
       " '__repr__',\n",
       " '__rmod__',\n",
       " '__rmul__',\n",
       " '__setattr__',\n",
       " '__sizeof__',\n",
       " '__str__',\n",
       " '__subclasshook__',\n",
       " 'capitalize',\n",
       " 'casefold',\n",
       " 'center',\n",
       " 'count',\n",
       " 'encode',\n",
       " 'endswith',\n",
       " 'expandtabs',\n",
       " 'find',\n",
       " 'format',\n",
       " 'format_map',\n",
       " 'index',\n",
       " 'isalnum',\n",
       " 'isalpha',\n",
       " 'isascii',\n",
       " 'isdecimal',\n",
       " 'isdigit',\n",
       " 'isidentifier',\n",
       " 'islower',\n",
       " 'isnumeric',\n",
       " 'isprintable',\n",
       " 'isspace',\n",
       " 'istitle',\n",
       " 'isupper',\n",
       " 'join',\n",
       " 'ljust',\n",
       " 'lower',\n",
       " 'lstrip',\n",
       " 'maketrans',\n",
       " 'partition',\n",
       " 'removeprefix',\n",
       " 'removesuffix',\n",
       " 'replace',\n",
       " 'rfind',\n",
       " 'rindex',\n",
       " 'rjust',\n",
       " 'rpartition',\n",
       " 'rsplit',\n",
       " 'rstrip',\n",
       " 'split',\n",
       " 'splitlines',\n",
       " 'startswith',\n",
       " 'strip',\n",
       " 'swapcase',\n",
       " 'title',\n",
       " 'translate',\n",
       " 'upper',\n",
       " 'zfill']"
      ]
     },
     "execution_count": 12,
     "metadata": {},
     "output_type": "execute_result"
    }
   ],
   "source": [
    "dir(str)"
   ]
  },
  {
   "cell_type": "code",
   "execution_count": 1,
   "id": "7a7fa69e",
   "metadata": {},
   "outputs": [
    {
     "name": "stdout",
     "output_type": "stream",
     "text": [
      "2\n"
     ]
    }
   ],
   "source": [
    "s=\"hello\"\n",
    "i=s.count('l')\n",
    "print(i)\n",
    "\n",
    "# To count occurence of substrings count in string."
   ]
  },
  {
   "cell_type": "code",
   "execution_count": 15,
   "id": "f01d67e0",
   "metadata": {},
   "outputs": [
    {
     "name": "stdout",
     "output_type": "stream",
     "text": [
      "b'hello'\n"
     ]
    }
   ],
   "source": [
    "s=\"hello\"\n",
    "i=s.encode()\n",
    "print(i)"
   ]
  },
  {
   "cell_type": "code",
   "execution_count": 16,
   "id": "581b93ef",
   "metadata": {},
   "outputs": [
    {
     "name": "stdout",
     "output_type": "stream",
     "text": [
      "True\n"
     ]
    }
   ],
   "source": [
    "s=\"hello\"\n",
    "i=s.endswith('lo')\n",
    "print(i)              \n",
    "\n",
    "#if ends with lo then return true otherwise returns false.\n",
    "# Used to check a string if ending with a specific substring."
   ]
  },
  {
   "cell_type": "code",
   "execution_count": 17,
   "id": "08a2f8b4",
   "metadata": {},
   "outputs": [
    {
     "name": "stdout",
     "output_type": "stream",
     "text": [
      "False\n"
     ]
    }
   ],
   "source": [
    "s=\"hello\"\n",
    "i=s.endswith('ol')\n",
    "print(i)"
   ]
  },
  {
   "cell_type": "code",
   "execution_count": 23,
   "id": "3b815869",
   "metadata": {},
   "outputs": [
    {
     "name": "stdout",
     "output_type": "stream",
     "text": [
      "hello         hii           python\n"
     ]
    }
   ],
   "source": [
    "s=\"hello\"\n",
    "s1=\"hello\\thii\\tpython\"\n",
    "s1=s1.expandtabs(14)\n",
    "print(s1)\n",
    "\n",
    "# To pass tab size of the string.\n",
    "# The expandtabs() method sets the tab size to the specified number of whitespaces."
   ]
  },
  {
   "cell_type": "code",
   "execution_count": 5,
   "id": "bc4bd6c6",
   "metadata": {},
   "outputs": [
    {
     "name": "stdout",
     "output_type": "stream",
     "text": [
      "2\n"
     ]
    }
   ],
   "source": [
    "s=\"hello\"\n",
    "i=s.find('l')\n",
    "print(i)    #return lowest index of l."
   ]
  },
  {
   "cell_type": "code",
   "execution_count": 6,
   "id": "0cd12073",
   "metadata": {},
   "outputs": [
    {
     "name": "stdout",
     "output_type": "stream",
     "text": [
      "3\n"
     ]
    }
   ],
   "source": [
    "s=\"hello\"\n",
    "i=s.rfind('l')\n",
    "print(i)    #return highest index of l from right side."
   ]
  },
  {
   "cell_type": "code",
   "execution_count": 7,
   "id": "4d726a56",
   "metadata": {},
   "outputs": [],
   "source": [
    "# find n index are same but we get error in index method if we dont get the value and in the case of find if we dont get the \n",
    "# value then we will get -1."
   ]
  },
  {
   "cell_type": "code",
   "execution_count": 8,
   "id": "e68f9f20",
   "metadata": {},
   "outputs": [
    {
     "name": "stdout",
     "output_type": "stream",
     "text": [
      "-1\n"
     ]
    }
   ],
   "source": [
    "s=\"hello\"\n",
    "i=s.find('z')\n",
    "print(i)    # z is not in the string then it will return -1."
   ]
  },
  {
   "cell_type": "code",
   "execution_count": 9,
   "id": "2acfb85e",
   "metadata": {},
   "outputs": [
    {
     "name": "stdout",
     "output_type": "stream",
     "text": [
      "2\n"
     ]
    }
   ],
   "source": [
    "s=\"hello\"\n",
    "i=s.index('l')\n",
    "print(i)   \n",
    "\n",
    "# Used to search substring within string and return lowest index value when substring will find otherwise raise a \n",
    "# value error exception."
   ]
  },
  {
   "cell_type": "code",
   "execution_count": 10,
   "id": "6d5eb96d",
   "metadata": {},
   "outputs": [
    {
     "name": "stdout",
     "output_type": "stream",
     "text": [
      "3\n"
     ]
    }
   ],
   "source": [
    "s=\"hello\"\n",
    "i=s.rindex('l')\n",
    "print(i)  \n",
    "\n",
    "# To search a specific element from highest index in string and return specific index when element will find\n",
    "# otherwise produce error."
   ]
  },
  {
   "cell_type": "code",
   "execution_count": 11,
   "id": "5ba5e465",
   "metadata": {},
   "outputs": [
    {
     "ename": "ValueError",
     "evalue": "substring not found",
     "output_type": "error",
     "traceback": [
      "\u001b[1;31m---------------------------------------------------------------------------\u001b[0m",
      "\u001b[1;31mValueError\u001b[0m                                Traceback (most recent call last)",
      "\u001b[1;32m~\\AppData\\Local\\Temp/ipykernel_5320/2689135226.py\u001b[0m in \u001b[0;36m<module>\u001b[1;34m\u001b[0m\n\u001b[0;32m      1\u001b[0m \u001b[0ms\u001b[0m\u001b[1;33m=\u001b[0m\u001b[1;34m\"hello\"\u001b[0m\u001b[1;33m\u001b[0m\u001b[1;33m\u001b[0m\u001b[0m\n\u001b[1;32m----> 2\u001b[1;33m \u001b[0mi\u001b[0m\u001b[1;33m=\u001b[0m\u001b[0ms\u001b[0m\u001b[1;33m.\u001b[0m\u001b[0mindex\u001b[0m\u001b[1;33m(\u001b[0m\u001b[1;34m'z'\u001b[0m\u001b[1;33m)\u001b[0m\u001b[1;33m\u001b[0m\u001b[1;33m\u001b[0m\u001b[0m\n\u001b[0m\u001b[0;32m      3\u001b[0m \u001b[0mprint\u001b[0m\u001b[1;33m(\u001b[0m\u001b[0mi\u001b[0m\u001b[1;33m)\u001b[0m\u001b[1;33m\u001b[0m\u001b[1;33m\u001b[0m\u001b[0m\n",
      "\u001b[1;31mValueError\u001b[0m: substring not found"
     ]
    }
   ],
   "source": [
    "s=\"hello\"\n",
    "i=s.index('z')\n",
    "print(i)   "
   ]
  },
  {
   "cell_type": "code",
   "execution_count": 24,
   "id": "2f905742",
   "metadata": {},
   "outputs": [
    {
     "name": "stdout",
     "output_type": "stream",
     "text": [
      "True\n"
     ]
    }
   ],
   "source": [
    "s=\"hello\"\n",
    "i=s.isalpha()\n",
    "print(i)   "
   ]
  },
  {
   "cell_type": "code",
   "execution_count": 25,
   "id": "6b972835",
   "metadata": {},
   "outputs": [
    {
     "name": "stdout",
     "output_type": "stream",
     "text": [
      "True\n"
     ]
    }
   ],
   "source": [
    "s=\"hello\"\n",
    "i=s.isalnum()\n",
    "print(i)   \n",
    "\n",
    "#  It returns true when string contains alphabets."
   ]
  },
  {
   "cell_type": "code",
   "execution_count": 26,
   "id": "ecb4d7d4",
   "metadata": {},
   "outputs": [
    {
     "name": "stdout",
     "output_type": "stream",
     "text": [
      "False\n"
     ]
    }
   ],
   "source": [
    "s=\"hello\"\n",
    "i=s.isdecimal()\n",
    "print(i)   "
   ]
  },
  {
   "cell_type": "code",
   "execution_count": 27,
   "id": "7b008554",
   "metadata": {},
   "outputs": [
    {
     "name": "stdout",
     "output_type": "stream",
     "text": [
      "False\n"
     ]
    }
   ],
   "source": [
    "s=\"hello\"\n",
    "i=s.istitle()\n",
    "print(i)             #if title or first word of the letter will be capital then it will return true otherwise false."
   ]
  },
  {
   "cell_type": "code",
   "execution_count": 1,
   "id": "f29544ab",
   "metadata": {},
   "outputs": [
    {
     "name": "stdout",
     "output_type": "stream",
     "text": [
      "False\n"
     ]
    }
   ],
   "source": [
    "s=\"Hello world\"\n",
    "i=s.istitle()\n",
    "print(i)             \n",
    "\n",
    "#if title or first word of the letter of each substring will be capital then it will return true otherwise false."
   ]
  },
  {
   "cell_type": "code",
   "execution_count": 33,
   "id": "221ad0dc",
   "metadata": {},
   "outputs": [
    {
     "name": "stdout",
     "output_type": "stream",
     "text": [
      "True\n"
     ]
    }
   ],
   "source": [
    "s=\"hello\"\n",
    "i=s.isascii()\n",
    "print(i)   "
   ]
  },
  {
   "cell_type": "code",
   "execution_count": 34,
   "id": "c4691f07",
   "metadata": {},
   "outputs": [
    {
     "name": "stdout",
     "output_type": "stream",
     "text": [
      "False\n"
     ]
    }
   ],
   "source": [
    "s=\"hello\"\n",
    "i=s.isdigit()\n",
    "print(i)   "
   ]
  },
  {
   "cell_type": "code",
   "execution_count": 35,
   "id": "9ae1b788",
   "metadata": {},
   "outputs": [
    {
     "name": "stdout",
     "output_type": "stream",
     "text": [
      "True\n"
     ]
    }
   ],
   "source": [
    "s=\"hello\"\n",
    "i=s.isidentifier()\n",
    "print(i)           \n",
    "\n",
    "#Return True if the string is a valid Python identifier, False otherwise."
   ]
  },
  {
   "cell_type": "code",
   "execution_count": 37,
   "id": "55fde09d",
   "metadata": {},
   "outputs": [
    {
     "name": "stdout",
     "output_type": "stream",
     "text": [
      "True\n"
     ]
    }
   ],
   "source": [
    "s=\"hello\"\n",
    "i=s.islower()\n",
    "print(i)   "
   ]
  },
  {
   "cell_type": "code",
   "execution_count": 38,
   "id": "484f0e18",
   "metadata": {},
   "outputs": [
    {
     "name": "stdout",
     "output_type": "stream",
     "text": [
      "True\n"
     ]
    }
   ],
   "source": [
    "s=\"hello\"\n",
    "i=s.isprintable()\n",
    "print(i)   "
   ]
  },
  {
   "cell_type": "code",
   "execution_count": 41,
   "id": "b3e0b930",
   "metadata": {},
   "outputs": [
    {
     "name": "stdout",
     "output_type": "stream",
     "text": [
      "javahello pythonhello reacthello \n"
     ]
    }
   ],
   "source": [
    "s=\"hello \"                         #list m se ek2 ko uthayega n string m merge krta jayega.\n",
    "t=[\"java\",\"python\",\"react\",\"\"]\n",
    "s=s.join(t)\n",
    "print(s)"
   ]
  },
  {
   "cell_type": "code",
   "execution_count": 43,
   "id": "17e51bbd",
   "metadata": {},
   "outputs": [
    {
     "name": "stdout",
     "output_type": "stream",
     "text": [
      "jayhello ajayhello rajhello \n"
     ]
    }
   ],
   "source": [
    "s=\"hello \"\n",
    "t=[\"jay\",\"ajay\",\"raj\",\"\"]\n",
    "s=s.join(t)\n",
    "print(s)"
   ]
  },
  {
   "cell_type": "code",
   "execution_count": null,
   "id": "aa3435ba",
   "metadata": {},
   "outputs": [],
   "source": []
  },
  {
   "cell_type": "code",
   "execution_count": null,
   "id": "91eb1545",
   "metadata": {},
   "outputs": [],
   "source": []
  },
  {
   "cell_type": "code",
   "execution_count": null,
   "id": "2270a13d",
   "metadata": {},
   "outputs": [],
   "source": []
  },
  {
   "cell_type": "code",
   "execution_count": null,
   "id": "5c9c5c87",
   "metadata": {},
   "outputs": [],
   "source": []
  },
  {
   "cell_type": "code",
   "execution_count": null,
   "id": "df8370cd",
   "metadata": {},
   "outputs": [],
   "source": []
  }
 ],
 "metadata": {
  "kernelspec": {
   "display_name": "Python 3 (ipykernel)",
   "language": "python",
   "name": "python3"
  },
  "language_info": {
   "codemirror_mode": {
    "name": "ipython",
    "version": 3
   },
   "file_extension": ".py",
   "mimetype": "text/x-python",
   "name": "python",
   "nbconvert_exporter": "python",
   "pygments_lexer": "ipython3",
   "version": "3.9.7"
  }
 },
 "nbformat": 4,
 "nbformat_minor": 5
}
