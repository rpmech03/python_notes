{
 "cells": [
  {
   "cell_type": "markdown",
   "id": "9bb6251b",
   "metadata": {},
   "source": [
    "# FUNCTION :\n",
    "\n",
    "Function contains block of codes which we can repititively used in python program.\n",
    "\n",
    "We can define a fun with the help of following syntax...\n",
    "         \n",
    "def function_name(arguments):\n",
    "    body\n",
    "    return statement"
   ]
  },
  {
   "cell_type": "code",
   "execution_count": 1,
   "id": "14ab9127",
   "metadata": {},
   "outputs": [],
   "source": [
    "def function_name(arguments):\n",
    "    body\n",
    "    return statement"
   ]
  },
  {
   "cell_type": "markdown",
   "id": "b6530064",
   "metadata": {},
   "source": [
    "# function without argument and no return value---"
   ]
  },
  {
   "cell_type": "code",
   "execution_count": 2,
   "id": "5b7119c7",
   "metadata": {},
   "outputs": [
    {
     "name": "stdout",
     "output_type": "stream",
     "text": [
      "show is running....\n"
     ]
    }
   ],
   "source": [
    "def show():\n",
    "    print(\"show is running....\")\n",
    "show()"
   ]
  },
  {
   "cell_type": "markdown",
   "id": "d7335cb3",
   "metadata": {},
   "source": [
    "# function with argument and no return value---"
   ]
  },
  {
   "cell_type": "code",
   "execution_count": 4,
   "id": "a300847a",
   "metadata": {},
   "outputs": [
    {
     "name": "stdout",
     "output_type": "stream",
     "text": [
      "factorial of 5 is 120\n",
      "factorial of 7 is 5040\n",
      "factorial of 8 is 40320\n"
     ]
    }
   ],
   "source": [
    "def factorial(n):\n",
    "    f=1\n",
    "    for i in range(1,n+1):\n",
    "        f=f*i\n",
    "    print(\"factorial of\",n,\"is\",f)\n",
    "factorial(5)\n",
    "factorial(7)\n",
    "factorial(8)"
   ]
  },
  {
   "cell_type": "markdown",
   "id": "f6286ac9",
   "metadata": {},
   "source": [
    "# Function without argument and  return value---\n",
    "\n",
    "when we will return a value from fun then a return value will be received by called function. \n",
    "\n",
    "We can dircetly call the fun inside the print fun or we can store a value return by fun inside a variable."
   ]
  },
  {
   "cell_type": "code",
   "execution_count": 5,
   "id": "78101a26",
   "metadata": {},
   "outputs": [
    {
     "name": "stdout",
     "output_type": "stream",
     "text": [
      "1059\n",
      "1059\n"
     ]
    }
   ],
   "source": [
    "def getCode():\n",
    "    return 1059\n",
    "print(getCode())\n",
    "t=getCode()\n",
    "print(t)"
   ]
  },
  {
   "cell_type": "markdown",
   "id": "847ba33e",
   "metadata": {},
   "source": [
    "# function with argument and  return value---"
   ]
  },
  {
   "cell_type": "code",
   "execution_count": 6,
   "id": "9de335be",
   "metadata": {},
   "outputs": [
    {
     "name": "stdout",
     "output_type": "stream",
     "text": [
      "120\n",
      "720\n"
     ]
    }
   ],
   "source": [
    "def factorial(n):\n",
    "    f=1\n",
    "    for i in range(1,n+1):\n",
    "        f=f*i\n",
    "    return f\n",
    "print(factorial(5))\n",
    "t=factorial(6)\n",
    "print(t)"
   ]
  },
  {
   "cell_type": "code",
   "execution_count": 4,
   "id": "93fa420a",
   "metadata": {},
   "outputs": [
    {
     "name": "stdout",
     "output_type": "stream",
     "text": [
      "True\n"
     ]
    }
   ],
   "source": [
    "def evenodd(n):\n",
    "    if n%2==0:\n",
    "        return True\n",
    "    else:\n",
    "        return False\n",
    "print(evenodd(6))"
   ]
  },
  {
   "cell_type": "code",
   "execution_count": 3,
   "id": "2ef78746",
   "metadata": {},
   "outputs": [
    {
     "name": "stdout",
     "output_type": "stream",
     "text": [
      "False\n"
     ]
    }
   ],
   "source": [
    "def primeno(n):\n",
    "    if n==0 or n==1:\n",
    "        return False\n",
    "    else:\n",
    "        for i in range(2,n):\n",
    "            if n%i==0:\n",
    "                return False\n",
    "            \n",
    "        else:\n",
    "            return False\n",
    "print(primeno(1))\n",
    "            "
   ]
  },
  {
   "cell_type": "code",
   "execution_count": null,
   "id": "62759b46",
   "metadata": {},
   "outputs": [],
   "source": []
  },
  {
   "cell_type": "code",
   "execution_count": null,
   "id": "f9c3e05e",
   "metadata": {},
   "outputs": [],
   "source": []
  },
  {
   "cell_type": "code",
   "execution_count": null,
   "id": "fbdcdc88",
   "metadata": {},
   "outputs": [],
   "source": []
  },
  {
   "cell_type": "code",
   "execution_count": null,
   "id": "3c83577d",
   "metadata": {},
   "outputs": [],
   "source": []
  },
  {
   "cell_type": "code",
   "execution_count": null,
   "id": "3fe6a886",
   "metadata": {},
   "outputs": [],
   "source": []
  },
  {
   "cell_type": "code",
   "execution_count": null,
   "id": "39c3f2b4",
   "metadata": {},
   "outputs": [],
   "source": []
  },
  {
   "cell_type": "code",
   "execution_count": null,
   "id": "e004d3a6",
   "metadata": {},
   "outputs": [],
   "source": []
  },
  {
   "cell_type": "code",
   "execution_count": null,
   "id": "5412f35e",
   "metadata": {},
   "outputs": [],
   "source": []
  },
  {
   "cell_type": "code",
   "execution_count": null,
   "id": "9283cee4",
   "metadata": {},
   "outputs": [],
   "source": []
  },
  {
   "cell_type": "code",
   "execution_count": null,
   "id": "05d51e1b",
   "metadata": {},
   "outputs": [],
   "source": []
  },
  {
   "cell_type": "code",
   "execution_count": null,
   "id": "b3b656ce",
   "metadata": {},
   "outputs": [],
   "source": []
  },
  {
   "cell_type": "code",
   "execution_count": null,
   "id": "b956b2af",
   "metadata": {},
   "outputs": [],
   "source": []
  },
  {
   "cell_type": "code",
   "execution_count": null,
   "id": "18f5b9d8",
   "metadata": {},
   "outputs": [],
   "source": []
  },
  {
   "cell_type": "code",
   "execution_count": null,
   "id": "e10a4400",
   "metadata": {},
   "outputs": [],
   "source": []
  },
  {
   "cell_type": "code",
   "execution_count": null,
   "id": "d83b6e9a",
   "metadata": {},
   "outputs": [],
   "source": []
  },
  {
   "cell_type": "code",
   "execution_count": null,
   "id": "3f927291",
   "metadata": {},
   "outputs": [],
   "source": []
  },
  {
   "cell_type": "code",
   "execution_count": null,
   "id": "217f2dba",
   "metadata": {},
   "outputs": [],
   "source": []
  },
  {
   "cell_type": "code",
   "execution_count": null,
   "id": "37d5fd00",
   "metadata": {},
   "outputs": [],
   "source": []
  }
 ],
 "metadata": {
  "kernelspec": {
   "display_name": "Python 3 (ipykernel)",
   "language": "python",
   "name": "python3"
  },
  "language_info": {
   "codemirror_mode": {
    "name": "ipython",
    "version": 3
   },
   "file_extension": ".py",
   "mimetype": "text/x-python",
   "name": "python",
   "nbconvert_exporter": "python",
   "pygments_lexer": "ipython3",
   "version": "3.9.7"
  }
 },
 "nbformat": 4,
 "nbformat_minor": 5
}
