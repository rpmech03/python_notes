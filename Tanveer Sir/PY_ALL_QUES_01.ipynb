{
 "cells": [
  {
   "cell_type": "code",
   "execution_count": 38,
   "id": "20d1c260",
   "metadata": {},
   "outputs": [
    {
     "name": "stdout",
     "output_type": "stream",
     "text": [
      "*  *  *  *  *  \n",
      "*  *  *  *  *  \n",
      "*  *  *  *  *  \n",
      "*  *  *  *  *  \n",
      "*  *  *  *  *  \n"
     ]
    }
   ],
   "source": [
    "for i in range (1,6):\n",
    "    for j in range(1,6):\n",
    "        print(\"*\",end=\"  \")\n",
    "    print()"
   ]
  },
  {
   "cell_type": "code",
   "execution_count": 1,
   "id": "e81d0c53",
   "metadata": {},
   "outputs": [
    {
     "name": "stdout",
     "output_type": "stream",
     "text": [
      "5 is prime\n"
     ]
    }
   ],
   "source": [
    "n=5\n",
    "if n==0 or n==1:\n",
    "    print(n,\"is not prime\")\n",
    "else:\n",
    "    for i in range(2,n):\n",
    "        if n%i==0:\n",
    "            print(n,\"is not prime\")\n",
    "            break\n",
    "    else:\n",
    "        print(n,\"is prime\")"
   ]
  },
  {
   "cell_type": "code",
   "execution_count": 1,
   "id": "036db25c",
   "metadata": {},
   "outputs": [
    {
     "name": "stdout",
     "output_type": "stream",
     "text": [
      "Enter Terms :4\n",
      "0\n",
      "1\n",
      "1\n",
      "2\n"
     ]
    }
   ],
   "source": [
    "t=int(input(\"Enter Terms :\"))\n",
    "a=0\n",
    "b=1\n",
    "if t==1:\n",
    "    print(a)\n",
    "else:\n",
    "    print(a)\n",
    "    print(b)\n",
    "    t=t-2\n",
    "    for i in range(t):\n",
    "        c=a+b\n",
    "        print(c)\n",
    "        a,b=b,c"
   ]
  },
  {
   "cell_type": "code",
   "execution_count": 2,
   "id": "8e1db6ad",
   "metadata": {},
   "outputs": [
    {
     "name": "stdout",
     "output_type": "stream",
     "text": [
      "1 \n",
      "1 2 \n",
      "1 2 3 \n",
      "1 2 3 4 \n",
      "1 2 3 4 5 \n"
     ]
    }
   ],
   "source": [
    "for i in range (1,6):\n",
    "    for j in range(1,i+1):\n",
    "        print(j,end=\" \")\n",
    "    print()\n"
   ]
  },
  {
   "cell_type": "code",
   "execution_count": 3,
   "id": "f496cd99",
   "metadata": {},
   "outputs": [
    {
     "name": "stdout",
     "output_type": "stream",
     "text": [
      "1 \n",
      "2 2 \n",
      "3 3 3 \n",
      "4 4 4 4 \n",
      "5 5 5 5 5 \n"
     ]
    }
   ],
   "source": [
    "for i in range (1,6):\n",
    "    for j in range(1,i+1):\n",
    "        print(i,end=\" \")\n",
    "    print()"
   ]
  },
  {
   "cell_type": "code",
   "execution_count": 2,
   "id": "34549e5a",
   "metadata": {},
   "outputs": [
    {
     "name": "stdout",
     "output_type": "stream",
     "text": [
      "1   \n",
      "1   1   \n",
      "1   1   1   \n",
      "1   1   1   1   \n",
      "1   1   1   1   1   \n"
     ]
    }
   ],
   "source": [
    "for i in range (1,6):\n",
    "    for j in range(1,i+1):\n",
    "        print(1,end=\"   \")\n",
    "    print()"
   ]
  },
  {
   "cell_type": "code",
   "execution_count": 5,
   "id": "861bd548",
   "metadata": {},
   "outputs": [
    {
     "name": "stdout",
     "output_type": "stream",
     "text": [
      "1 \n",
      "2 4 \n",
      "3 6 9 \n",
      "4 8 12 16 \n",
      "5 10 15 20 25 \n"
     ]
    }
   ],
   "source": [
    "\n",
    "for i in range (1,6):\n",
    "    for j in range(1,i+1):\n",
    "        print(i*j,end=\" \")\n",
    "    print()"
   ]
  },
  {
   "cell_type": "code",
   "execution_count": 45,
   "id": "86290ced",
   "metadata": {},
   "outputs": [
    {
     "name": "stdout",
     "output_type": "stream",
     "text": [
      "1  \n",
      "2  1  \n",
      "3  2  1  \n",
      "4  3  2  1  \n",
      "5  4  3  2  1  \n"
     ]
    }
   ],
   "source": [
    "for i in range (1,6):\n",
    "    for j in range(i,0,-1):\n",
    "        print(j,end=\"  \")\n",
    "    print()"
   ]
  },
  {
   "cell_type": "code",
   "execution_count": 3,
   "id": "5df71e5c",
   "metadata": {},
   "outputs": [
    {
     "name": "stdout",
     "output_type": "stream",
     "text": [
      "1 \n",
      "2 1 \n",
      "3 2 1 \n",
      "4 3 2 1 \n",
      "5 4 3 2 1 \n"
     ]
    }
   ],
   "source": [
    "for i in range(0,5):\n",
    "    for j in range(i+1,0,-1):\n",
    "        print(j,end=' ')\n",
    "    print()"
   ]
  },
  {
   "cell_type": "code",
   "execution_count": 4,
   "id": "230f8359",
   "metadata": {},
   "outputs": [
    {
     "name": "stdout",
     "output_type": "stream",
     "text": [
      "1  1  1  1  1  \n",
      "2  2  2  2  \n",
      "3  3  3  \n",
      "4  4  \n",
      "5  \n"
     ]
    }
   ],
   "source": [
    "for i in range (1,6):\n",
    "    for j in range(6-i,0,-1):\n",
    "        print(i,end=\"  \")\n",
    "    print()"
   ]
  },
  {
   "cell_type": "code",
   "execution_count": 5,
   "id": "6a8deff3",
   "metadata": {},
   "outputs": [
    {
     "name": "stdout",
     "output_type": "stream",
     "text": [
      "5  4  3  2  1  \n",
      "4  3  2  1  \n",
      "3  2  1  \n",
      "2  1  \n",
      "1  \n"
     ]
    }
   ],
   "source": [
    "for i in range (1,6):\n",
    "    for j in range(6-i,0,-1):\n",
    "        print(j,end=\"  \")\n",
    "    print()"
   ]
  },
  {
   "cell_type": "code",
   "execution_count": 6,
   "id": "55a6078a",
   "metadata": {},
   "outputs": [
    {
     "name": "stdout",
     "output_type": "stream",
     "text": [
      "+ + + +  *  \n",
      "+ + +  *   *  \n",
      "+ +  *   *   *  \n",
      "+  *   *   *   *  \n",
      " *   *   *   *   *  \n"
     ]
    }
   ],
   "source": [
    "\n",
    "for i in range (1,6):\n",
    "    for j in range(5-i,0,-1):\n",
    "        print(\"+\",end=\" \")\n",
    "    for j in range (1,i+1):\n",
    "        print(\" * \",end=\" \")\n",
    "    print()\n",
    "    \n",
    "#1 se bdega to i m +1 kr dege but  2 ke difference se bda to i m 2 ka multiply kr dege.\n",
    "\n",
    "#5-i islye h cz 5 bar loop chalega to usme se 1 minus kr dege"
   ]
  },
  {
   "cell_type": "code",
   "execution_count": 6,
   "id": "6f20c960",
   "metadata": {},
   "outputs": [
    {
     "name": "stdout",
     "output_type": "stream",
     "text": [
      "      * \n",
      "    * * * \n",
      "  * * * * * \n",
      "* * * * * * * \n"
     ]
    }
   ],
   "source": [
    "for i in range (1,5):\n",
    "    for j in range(4-i,0,-1):\n",
    "        print(\"\",end=\"  \")\n",
    "    for j in range (1,2*i):\n",
    "        print(\"*\",end=\" \")\n",
    "    print()"
   ]
  },
  {
   "cell_type": "code",
   "execution_count": 5,
   "id": "d5dd37fe",
   "metadata": {},
   "outputs": [
    {
     "name": "stdout",
     "output_type": "stream",
     "text": [
      " *   *   *   *   *  \n",
      "   *   *   *   *  \n",
      "     *   *   *  \n",
      "       *   *  \n",
      "         *  \n"
     ]
    }
   ],
   "source": [
    "for i in range(1,6):\n",
    "    for j in range(1,i):\n",
    "        print(' ',end=' ')\n",
    "    for j in range(6-i,0,-1):\n",
    "        print(' * ',end=' ')\n",
    "    print()"
   ]
  },
  {
   "cell_type": "code",
   "execution_count": 49,
   "id": "2a19f733",
   "metadata": {},
   "outputs": [
    {
     "name": "stdout",
     "output_type": "stream",
     "text": [
      "*  *  *  *  *  *  *  \n",
      "   *  *  *  *  *  \n",
      "      *  *  *  \n",
      "         *  \n"
     ]
    }
   ],
   "source": [
    "for i in range (1,5):\n",
    "    for j in range(1,i):\n",
    "        print(\" \",end=\"  \")\n",
    "    for j in range (2*4+1-2*i,0,-1):\n",
    "        print(\"*\",end=\"  \")\n",
    "    print()"
   ]
  },
  {
   "cell_type": "code",
   "execution_count": 9,
   "id": "16b25cf7",
   "metadata": {},
   "outputs": [
    {
     "name": "stdout",
     "output_type": "stream",
     "text": [
      "*  *  *  *  *  *  *  *  *  \n",
      "   *  *  *  *  *  *  *  \n",
      "      *  *  *  *  *  \n",
      "         *  *  *  \n",
      "            *  \n"
     ]
    }
   ],
   "source": [
    "for i in range (1,6):\n",
    "    for j in range(1,i):\n",
    "        print(\" \",end=\"  \")\n",
    "    for j in range (2*5+1-2*i,0,-1):\n",
    "        print(\"*\",end=\"  \")\n",
    "    print()"
   ]
  },
  {
   "cell_type": "code",
   "execution_count": 10,
   "id": "89e13565",
   "metadata": {},
   "outputs": [
    {
     "name": "stdout",
     "output_type": "stream",
     "text": [
      "   *\n",
      "  ***\n",
      " *****\n",
      "*******\n",
      "*******\n",
      " *****\n",
      "  ***\n",
      "   *\n",
      "   *\n",
      "  ***\n",
      " *****\n",
      "*******\n"
     ]
    }
   ],
   "source": [
    "for i in range (1,5):\n",
    "    for j in range(4-i,0,-1):\n",
    "        print(\"\",end=\" \")\n",
    "    for j in range (1,2*i):\n",
    "        print(\"*\",end=\"\")\n",
    "    print()\n",
    "for i in range (1,5):\n",
    "    for j in range(1,i):\n",
    "        print(\"\",end=\" \")\n",
    "    for j in range (2*4+1-2*i,0,-1):\n",
    "        print(\"*\",end=\"\")\n",
    "    print() \n",
    "for i in range (1,5):\n",
    "    for j in range(4-i,0,-1):\n",
    "        print(\"\",end=\" \")\n",
    "    for j in range (1,2*i):\n",
    "        print(\"*\",end=\"\")\n",
    "    print()    "
   ]
  },
  {
   "cell_type": "code",
   "execution_count": 7,
   "id": "bb836b2d",
   "metadata": {},
   "outputs": [
    {
     "name": "stdout",
     "output_type": "stream",
     "text": [
      "*******\n",
      " *****\n",
      "  ***\n",
      "   *\n",
      "  ***\n",
      " *****\n",
      "*******\n"
     ]
    }
   ],
   "source": [
    "for i in range (1,4):\n",
    "    for j in range(1,i):\n",
    "        print(\"\",end=\" \")\n",
    "    for j in range (2*4+1-2*i,0,-1):\n",
    "        print(\"*\",end=\"\")\n",
    "    print()\n",
    "for i in range (1,5):\n",
    "    for j in range(4-i,0,-1):\n",
    "        print(\"\",end=\" \")\n",
    "    for j in range (1,2*i):\n",
    "        print(\"*\",end=\"\")\n",
    "    print() "
   ]
  },
  {
   "cell_type": "code",
   "execution_count": 23,
   "id": "27d4d48a",
   "metadata": {},
   "outputs": [
    {
     "name": "stdout",
     "output_type": "stream",
     "text": [
      " *  *  *  *  *  *  * \n",
      "-   *  *  *  *  * \n",
      "-  -   *  *  * \n",
      "-  -  -   * \n"
     ]
    }
   ],
   "source": [
    "for i in range (1,5):\n",
    "    for j in range(1,i):\n",
    "        print(\"- \",end=\" \")\n",
    "    for j in range (2*4+1-2*i,0,-1):\n",
    "        print(\" * \",end=\"\")\n",
    "    print()"
   ]
  },
  {
   "cell_type": "code",
   "execution_count": 24,
   "id": "5df4b373",
   "metadata": {},
   "outputs": [
    {
     "name": "stdout",
     "output_type": "stream",
     "text": [
      " *  *  *  *  *  *  * \n",
      "    *  *  *  *  * \n",
      "       *  *  * \n",
      "          * \n"
     ]
    }
   ],
   "source": [
    "for i in range (1,5):\n",
    "    for j in range(1,i):\n",
    "        print(\"  \",end=\" \")\n",
    "    for j in range (2*4+1-2*i,0,-1):\n",
    "        print(\" * \",end=\"\")\n",
    "    print()"
   ]
  },
  {
   "cell_type": "code",
   "execution_count": 8,
   "id": "f812edcd",
   "metadata": {},
   "outputs": [
    {
     "name": "stdout",
     "output_type": "stream",
     "text": [
      " *  *  *  *  *  *  * \n",
      "    *  *  *  *  * \n",
      "       *  *  * \n",
      "          * \n",
      "       *  *  * \n",
      "    *  *  *  *  * \n",
      " *  *  *  *  *  *  * \n"
     ]
    }
   ],
   "source": [
    "for i in range (1,4):\n",
    "    for j in range(1,i):\n",
    "        print(\"  \",end=\" \")\n",
    "    for j in range (2*4+1-2*i,0,-1):\n",
    "        print(\" * \",end=\"\")\n",
    "    print()\n",
    "for i in range (1,5):\n",
    "    for j in range(4-i,0,-1):\n",
    "        print(\" \",end=\"  \")\n",
    "    for j in range (1,2*i):\n",
    "        print(\" * \",end=\"\")\n",
    "    print()"
   ]
  },
  {
   "cell_type": "code",
   "execution_count": 9,
   "id": "35990e82",
   "metadata": {},
   "outputs": [
    {
     "name": "stdout",
     "output_type": "stream",
     "text": [
      "          * \n",
      "       *  *  * \n",
      "    *  *  *  *  * \n",
      " *  *  *  *  *  *  * \n",
      "    *  *  *  *  * \n",
      "       *  *  * \n",
      "          * \n"
     ]
    }
   ],
   "source": [
    "for i in range (1,4):\n",
    "    for j in range(4-i,0,-1):\n",
    "        print(\" \",end=\"  \")\n",
    "    for j in range (1,2*i):\n",
    "        print(\" * \",end=\"\")\n",
    "    print()\n",
    "for i in range (1,5):\n",
    "    for j in range(1,i):\n",
    "        print(\"  \",end=\" \")\n",
    "    for j in range (2*4+1-2*i,0,-1):\n",
    "        print(\" * \",end=\"\")\n",
    "    print()"
   ]
  },
  {
   "cell_type": "code",
   "execution_count": 28,
   "id": "307c69a8",
   "metadata": {},
   "outputs": [
    {
     "name": "stdout",
     "output_type": "stream",
     "text": [
      "0  1  2  3  4  5  \n",
      "0  1  2  3  4  \n",
      "0  1  2  3  \n",
      "0  1  2  \n",
      "0  1  \n",
      "0  \n"
     ]
    }
   ],
   "source": [
    "for i in range (0,6):\n",
    "    for j in range(0,6-i):\n",
    "        print(j,end=\"  \")\n",
    "    print()"
   ]
  },
  {
   "cell_type": "code",
   "execution_count": 29,
   "id": "5069e8d1",
   "metadata": {},
   "outputs": [
    {
     "name": "stdout",
     "output_type": "stream",
     "text": [
      "1  \n",
      "3  3  3  \n",
      "5  5  5  5  5  \n",
      "7  7  7  7  7  7  7  \n",
      "9  9  9  9  9  9  9  9  9  \n"
     ]
    }
   ],
   "source": [
    "for i in range (1,10):\n",
    "    if(i%2!=0):\n",
    "        for j in range(1,i+1):\n",
    "            print(i,end=\"  \")\n",
    "        print()"
   ]
  },
  {
   "cell_type": "code",
   "execution_count": 24,
   "id": "8f9fc89d",
   "metadata": {},
   "outputs": [
    {
     "name": "stdout",
     "output_type": "stream",
     "text": [
      "1  \n",
      "2  3  \n",
      "4  5  6  \n",
      "7  8  9  10  \n"
     ]
    }
   ],
   "source": [
    "number=1\n",
    "for i in range (1,5):\n",
    "    for j in range(1,i+1):\n",
    "        print(number,end=\"  \")\n",
    "        number=number+1\n",
    "    print()"
   ]
  },
  {
   "cell_type": "markdown",
   "id": "f027bd2e",
   "metadata": {},
   "source": [
    "# LIST QUES :"
   ]
  },
  {
   "cell_type": "markdown",
   "id": "02a5f32a",
   "metadata": {},
   "source": [
    "# SUM OF TWO LIST :"
   ]
  },
  {
   "cell_type": "code",
   "execution_count": 3,
   "id": "13a9c7c7",
   "metadata": {},
   "outputs": [
    {
     "data": {
      "text/plain": [
       "[6, 8, 10, 12, 16]"
      ]
     },
     "execution_count": 3,
     "metadata": {},
     "output_type": "execute_result"
    }
   ],
   "source": [
    "a=[1,2,3,4,7]\n",
    "b=[5,6,7,8,9]\n",
    "d=[]\n",
    "# a[4]=0\n",
    "for i in range (len(a) or len(b)):\n",
    "    if a[i] is None or b[i] is None:\n",
    "        a.append(0)\n",
    "    c=a[i]+b[i]\n",
    "    d.append(c)\n",
    "d\n",
    "    \n",
    "    \n",
    " \n",
    "    "
   ]
  },
  {
   "cell_type": "code",
   "execution_count": 8,
   "id": "df56ccf6",
   "metadata": {},
   "outputs": [
    {
     "name": "stdout",
     "output_type": "stream",
     "text": [
      "[6, 8, 10, 12, 16]\n"
     ]
    }
   ],
   "source": [
    "a=[1,2,3,4,7]\n",
    "b=[5,6,7,8,9]\n",
    "c=[(a[i]+b[i]) for i in range(len(a))]\n",
    "print(c)"
   ]
  },
  {
   "cell_type": "code",
   "execution_count": 50,
   "id": "7063ffae",
   "metadata": {},
   "outputs": [
    {
     "name": "stdout",
     "output_type": "stream",
     "text": [
      "enter size of list3\n",
      "enter 3 elements\n",
      "enter 1 element\n",
      "1\n",
      "enter 2 element\n",
      "2\n",
      "enter 3 element\n",
      "3\n",
      "[1, 2, 3]\n"
     ]
    }
   ],
   "source": [
    "a=[]\n",
    "s=int(input(\"enter size of list\"))\n",
    "print(\"enter\",s,\"elements\")\n",
    "for i in range(1,s+1):\n",
    "    print(\"enter\",i,\"element\")\n",
    "    t=int(input())\n",
    "    a.append(t)\n",
    "print(a)"
   ]
  },
  {
   "cell_type": "code",
   "execution_count": 51,
   "id": "7517b744",
   "metadata": {},
   "outputs": [
    {
     "name": "stdout",
     "output_type": "stream",
     "text": [
      "enter size of list :3\n",
      "enter 3 elements\n",
      "enter 1 element\n",
      "1\n",
      "enter 2 element\n",
      "2\n",
      "enter 3 element\n",
      "3\n",
      "[1, 2, 3]\n",
      "sum of the list 6\n"
     ]
    }
   ],
   "source": [
    "a=[]\n",
    "s=int(input(\"enter size of list :\"))\n",
    "print(\"enter\",s,\"elements\")\n",
    "for i in range(1,s+1):\n",
    "    print(\"enter\",i,\"element\")\n",
    "    t=int(input())\n",
    "    a.append(t)\n",
    "print(a)\n",
    "sum=0\n",
    "for i in a:\n",
    "    sum=sum+i\n",
    "print(\"sum of the list\",sum)"
   ]
  },
  {
   "cell_type": "code",
   "execution_count": 52,
   "id": "a80493e3",
   "metadata": {},
   "outputs": [
    {
     "name": "stdout",
     "output_type": "stream",
     "text": [
      "enter size of list :3\n",
      "enter 3 elements\n",
      "enter 1 element\n",
      "1\n",
      "enter 2 element\n",
      "2\n",
      "enter 3 element\n",
      "3\n",
      "[1, 2, 3]\n",
      "6\n"
     ]
    }
   ],
   "source": [
    "a=[]\n",
    "s=int(input(\"enter size of list :\"))\n",
    "print(\"enter\",s,\"elements\")\n",
    "for i in range(1,s+1):\n",
    "    print(\"enter\",i,\"element\")\n",
    "    t=int(input())\n",
    "    a.append(t)\n",
    "print(a)\n",
    "sum=0\n",
    "for i in range(len(a)):\n",
    "    sum = sum + a[i]\n",
    "print(sum)"
   ]
  },
  {
   "cell_type": "code",
   "execution_count": 53,
   "id": "098e92be",
   "metadata": {},
   "outputs": [
    {
     "name": "stdout",
     "output_type": "stream",
     "text": [
      "enter size of list :3\n",
      "enter 3 elements\n",
      "enter 1 element\n",
      "1\n",
      "enter 2 element\n",
      "2\n",
      "enter 3 element\n",
      "3\n",
      "[1, 2, 3]\n",
      "smallest element is 1\n",
      "Biggest element is 3\n"
     ]
    }
   ],
   "source": [
    "a=[]\n",
    "s=int(input(\"enter size of list :\"))\n",
    "print(\"enter\",s,\"elements\")\n",
    "for i in range(1,s+1):\n",
    "    print(\"enter\",i,\"element\")\n",
    "    t = int(input())\n",
    "    a.append(t)\n",
    "print(a)\n",
    "a.sort()\n",
    "print(\"smallest element is\",a[0])\n",
    "a.reverse()\n",
    "print(\"Biggest element is\",a[0])"
   ]
  },
  {
   "cell_type": "code",
   "execution_count": 1,
   "id": "356d0760",
   "metadata": {
    "scrolled": true
   },
   "outputs": [
    {
     "name": "stdout",
     "output_type": "stream",
     "text": [
      "[10, 30]\n"
     ]
    }
   ],
   "source": [
    "a=[10,20,30,30,30,10,10,20,50]\n",
    "b=[]\n",
    "for i in a:\n",
    "    if a.count(i)>2 and i not in b:\n",
    "        b.append(i)\n",
    "print(b)"
   ]
  },
  {
   "cell_type": "markdown",
   "id": "b25764aa",
   "metadata": {},
   "source": [
    "# OWN SQUARE IN THE SAME LIST :"
   ]
  },
  {
   "cell_type": "code",
   "execution_count": 2,
   "id": "96db988b",
   "metadata": {},
   "outputs": [
    {
     "name": "stdout",
     "output_type": "stream",
     "text": [
      "[2, 3, 4]\n"
     ]
    }
   ],
   "source": [
    "a=[2,8,3,9,4,15,16,17]\n",
    "b=[]\n",
    "for i in a:\n",
    "    if i**2 in a:\n",
    "        b.append(i)\n",
    "print(b)"
   ]
  },
  {
   "cell_type": "code",
   "execution_count": 54,
   "id": "281fe290",
   "metadata": {},
   "outputs": [
    {
     "name": "stdout",
     "output_type": "stream",
     "text": [
      "enter size of list3\n",
      "enter 3 elements\n",
      "enter 1 element\n",
      "1\n",
      "enter 2 element\n",
      "2\n",
      "enter 3 element\n",
      "3\n",
      "[1, 2, 3]\n",
      "sum of even is 2\n",
      "sum of odd is 4\n"
     ]
    }
   ],
   "source": [
    "a=[]\n",
    "s=int(input(\"enter size of list\"))\n",
    "print(\"enter\",s,\"elements\")\n",
    "for i in range(1,s+1):\n",
    "    print(\"enter\",i,\"element\")\n",
    "    t=int(input())\n",
    "    a.append(t)\n",
    "print(a)\n",
    "se=0\n",
    "so=0\n",
    "for i in a:\n",
    "    if i%2==0:\n",
    "        se=se+i\n",
    "    else:\n",
    "        so=so+i\n",
    "print(\"sum of even is\",se)\n",
    "print(\"sum of odd is\",so)"
   ]
  },
  {
   "cell_type": "code",
   "execution_count": 55,
   "id": "d782b2f4",
   "metadata": {},
   "outputs": [
    {
     "name": "stdout",
     "output_type": "stream",
     "text": [
      "10 repeated 5 times\n",
      "20 repeated 4 times\n",
      "10 repeated 5 times\n",
      "20 repeated 4 times\n",
      "30 repeated 3 times\n",
      "40 repeated 4 times\n",
      "10 repeated 5 times\n",
      "20 repeated 4 times\n",
      "30 repeated 3 times\n",
      "40 repeated 4 times\n",
      "40 repeated 4 times\n",
      "50 repeated 2 times\n",
      "10 repeated 5 times\n",
      "20 repeated 4 times\n",
      "30 repeated 3 times\n",
      "40 repeated 4 times\n",
      "50 repeated 2 times\n",
      "60 repeated 2 times\n",
      "10 repeated 5 times\n",
      "60 repeated 2 times\n"
     ]
    }
   ],
   "source": [
    "a=[10,20,10,20,30,40,10,20,30,40,40,50,10,20,30,40,50,60,10,60]\n",
    "for i in a:\n",
    "     if a.count(i)>1 :\n",
    "            print(i,\"repeated\",a.count(i),\"times\")       #but isme problem h ki ye har bar bta rha h ki ye repeat ho rha h."
   ]
  },
  {
   "cell_type": "code",
   "execution_count": 8,
   "id": "41a555a1",
   "metadata": {},
   "outputs": [
    {
     "name": "stdout",
     "output_type": "stream",
     "text": [
      "10 repeated 5 times\n",
      "20 repeated 4 times\n",
      "30 repeated 3 times\n",
      "40 repeated 4 times\n",
      "50 repeated 2 times\n",
      "60 repeated 2 times\n"
     ]
    }
   ],
   "source": [
    "a=[10,20,10,20,30,40,10,20,30,40,40,50,10,20,30,40,50,60,10,60]\n",
    "b=[]\n",
    "for i in a:\n",
    "     if a.count(i)>1 and i not in b:\n",
    "            print(i,\"repeated\",a.count(i),\"times\")\n",
    "            b.append(i)"
   ]
  },
  {
   "cell_type": "code",
   "execution_count": 6,
   "id": "9f85d8ea",
   "metadata": {},
   "outputs": [
    {
     "name": "stdout",
     "output_type": "stream",
     "text": [
      "10 repeated 5 times\n",
      "20 repeated 4 times\n",
      "30 repeated 3 times\n",
      "40 repeated 4 times\n",
      "50 repeated 2 times\n",
      "60 repeated 2 times\n",
      "sum of repeated elements is 210\n"
     ]
    }
   ],
   "source": [
    "a=[10,20,10,20,30,40,10,20,30,40,40,50,10,20,30,40,50,60,10,60]\n",
    "b=[]\n",
    "s=0\n",
    "for i in a:\n",
    "     if a.count(i)>1 and i not in b:\n",
    "            print(i,\"repeated\",a.count(i),\"times\")\n",
    "            b.append(i)\n",
    "            s=s+i\n",
    "print(\"sum of repeated elements is\",s)"
   ]
  },
  {
   "cell_type": "code",
   "execution_count": null,
   "id": "eddce475",
   "metadata": {},
   "outputs": [],
   "source": [
    "'''\n",
    "1_find out factorial of each element in list\n",
    "2_check each element of list is prime or not.\n",
    "3_print sum of prime no and sum of non prime no from the list.\n",
    "4_Find out repeated elements and their counts from the list.\n",
    "# 1_print non repeated element from list\n",
    "# 2_sum of non repeated elements.\n",
    "'''"
   ]
  },
  {
   "cell_type": "code",
   "execution_count": 2,
   "id": "b359088c",
   "metadata": {},
   "outputs": [
    {
     "name": "stdout",
     "output_type": "stream",
     "text": [
      "[5, 6, 7, 8, 9]\n",
      "fact of  5  is 120\n",
      "fact of  6  is 720\n",
      "fact of  7  is 5040\n",
      "fact of  8  is 40320\n",
      "fact of  9  is 362880\n"
     ]
    }
   ],
   "source": [
    "a=[]\n",
    "for i in range(5,10):\n",
    "    a.append(i)\n",
    "print(a)\n",
    "for i in a:\n",
    "    f=1\n",
    "    for j in range(1,i+1):\n",
    "        f=f*j\n",
    "#         print(f)\n",
    "    print(\"fact of \",i,\" is\",f)"
   ]
  },
  {
   "cell_type": "markdown",
   "id": "74f9fb67",
   "metadata": {},
   "source": [
    "a=[]\n",
    "n=int(input(\"enter size of list :\"))\n",
    "for i in range(n):\n",
    "    t=int(input())\n",
    "    a.append(t)\n",
    "print(a)"
   ]
  },
  {
   "cell_type": "code",
   "execution_count": 5,
   "id": "2f113241",
   "metadata": {},
   "outputs": [
    {
     "name": "stdout",
     "output_type": "stream",
     "text": [
      "[5, 6, 7, 8, 9]\n",
      "5  is prime \n",
      "6  is not a prime\n",
      "7  is prime \n",
      "8  is not a prime\n",
      "9  is not a prime\n"
     ]
    }
   ],
   "source": [
    "print(a)\n",
    "for i in a:\n",
    "    for j in range(2,i):\n",
    "        if i%j==0:\n",
    "            print(i,\" is not a prime\")\n",
    "            break\n",
    "    else:\n",
    "        print(i,\" is prime \")"
   ]
  },
  {
   "cell_type": "code",
   "execution_count": null,
   "id": "5d5fa55e",
   "metadata": {},
   "outputs": [],
   "source": [
    "d={\n",
    "    'x':'10',\n",
    "    'y':'20'\n",
    "  }\n",
    "c={\n",
    "    'pi':'3.14',\n",
    "    'q':'1.2'\n",
    "}\n",
    "o/p--\n",
    "d={\n",
    "    'x':10,\n",
    "    'y':20\n",
    "  }\n",
    "c={\n",
    "    'pi':3.14,\n",
    "    'q':1.2\n",
    "}\n"
   ]
  },
  {
   "cell_type": "code",
   "execution_count": 38,
   "id": "a6bc3139",
   "metadata": {},
   "outputs": [
    {
     "name": "stdout",
     "output_type": "stream",
     "text": [
      "(3, 1)\n",
      "4 2\n",
      "(4, 2)\n",
      "5 3\n",
      "(4, 1)\n",
      "5 2\n",
      "(5, 2)\n",
      "6 3\n",
      "{(3, 1), (4, 1), (4, 2), (5, 2)}\n"
     ]
    }
   ],
   "source": [
    "s1={3,4}\n",
    "s2={1,2}\n",
    "s3=set()\n",
    "i=0\n",
    "j=0\n",
    "for i in s1:\n",
    "    for j in s2:\n",
    "        s3.add((i,j))\n",
    "        print((i,j))\n",
    "        i+=1\n",
    "        j+=1\n",
    "        print(i,j)\n",
    "print(s3)"
   ]
  },
  {
   "cell_type": "code",
   "execution_count": 2,
   "id": "e0c21c4f",
   "metadata": {},
   "outputs": [
    {
     "name": "stdout",
     "output_type": "stream",
     "text": [
      "23\n"
     ]
    }
   ],
   "source": [
    "values=[\"823\",\"863\"]\n",
    "num=values[0][0:]\n",
    "for row in range(0,len(values)):\n",
    "    for column in range(0,len(values[row])):\n",
    "        if num>values[row][column:]:\n",
    "            num=values[row][column:]\n",
    "print(num)"
   ]
  },
  {
   "cell_type": "code",
   "execution_count": 47,
   "id": "0913cc9e",
   "metadata": {},
   "outputs": [
    {
     "name": "stdout",
     "output_type": "stream",
     "text": [
      "enter no 5\n",
      "5\n",
      "55\n",
      "615\n"
     ]
    }
   ],
   "source": [
    "n=input(\"enter no \")\n",
    "n1=int(n)\n",
    "print(n1)\n",
    "n2=int(n+n)\n",
    "print(n2)\n",
    "n3=int(n+n+n)\n",
    "print(n1+n2+n3)"
   ]
  },
  {
   "cell_type": "code",
   "execution_count": 43,
   "id": "cc6e18da",
   "metadata": {},
   "outputs": [
    {
     "name": "stdout",
     "output_type": "stream",
     "text": [
      "55\n"
     ]
    }
   ],
   "source": [
    "print('5'+'5')"
   ]
  },
  {
   "cell_type": "code",
   "execution_count": null,
   "id": "83c2f590",
   "metadata": {},
   "outputs": [],
   "source": []
  },
  {
   "cell_type": "code",
   "execution_count": null,
   "id": "6572f1a0",
   "metadata": {},
   "outputs": [],
   "source": []
  },
  {
   "cell_type": "code",
   "execution_count": null,
   "id": "f0842ba5",
   "metadata": {},
   "outputs": [],
   "source": []
  },
  {
   "cell_type": "code",
   "execution_count": null,
   "id": "0ccf53ed",
   "metadata": {},
   "outputs": [],
   "source": []
  },
  {
   "cell_type": "code",
   "execution_count": 4,
   "id": "a9748c92",
   "metadata": {},
   "outputs": [
    {
     "name": "stdout",
     "output_type": "stream",
     "text": [
      "enter the current salary:6000\n",
      "enter the year of joining:2020\n",
      "your total year of exp is: 1\n",
      "your updated salary is: 6600.000000000001\n"
     ]
    }
   ],
   "source": [
    "# Nested---condition under condition\n",
    "\n",
    "sal = int(input(\"enter the current salary:\"))\n",
    "YOJ = int(input(\"enter the year of joining:\"))\n",
    "CY = 2021\n",
    "if(YOJ<=CY):\n",
    "    exp = CY-YOJ\n",
    "    print(\"your total year of exp is:\",exp)\n",
    "    if(exp>=5):\n",
    "        sal = 1.3*sal\n",
    "        print(\"your updated salary is:\",sal)\n",
    "    else:\n",
    "        if(exp>=3):\n",
    "            sal = 1.2*sal\n",
    "            print(\"your updated salary is:\",sal)\n",
    "        else:\n",
    "            if(exp>=1):\n",
    "                sal = 1.1*sal\n",
    "                print(\"your updated salary is:\",sal)\n",
    "            else:  \n",
    "                print(\"sorry you are not eligible for increment\",sal)   \n",
    "else:\n",
    "     print(\"please enter the valid year of joining\")\n",
    "                    "
   ]
  },
  {
   "cell_type": "code",
   "execution_count": 7,
   "id": "c0ce0536",
   "metadata": {},
   "outputs": [
    {
     "name": "stdout",
     "output_type": "stream",
     "text": [
      "enter the current salary:6000\n",
      "enter the year of joining:2018\n",
      "your total year of exp is: 3\n"
     ]
    }
   ],
   "source": [
    "sal = int(input(\"enter the current salary:\"))\n",
    "YOJ = int(input(\"enter the year of joining:\"))\n",
    "CY = 2021\n",
    "if(YOJ<=CY):\n",
    "    exp = CY-YOJ\n",
    "    print(\"your total year of exp is:\",exp)\n",
    "elif(exp>=5):\n",
    "    sal = 1.3*sal\n",
    "    print(\"your updated salary is:\",sal)\n",
    "elif(exp>=3):\n",
    "    sal = 1.2*sal\n",
    "    print(\"your updated salary is:\",sal)\n",
    "elif(exp>=1):\n",
    "    sal = 1.1*sal\n",
    "    print(\"your updated salary is:\",sal)\n",
    "else:    \n",
    "    print(\"sorry you are not eligible for increment\",sal)\n"
   ]
  },
  {
   "cell_type": "code",
   "execution_count": 1,
   "id": "242bc3c6",
   "metadata": {},
   "outputs": [
    {
     "name": "stdout",
     "output_type": "stream",
     "text": [
      "enter any date:12\n",
      "enter any month:08\n",
      "enter any year:2021\n",
      "date is valid\n"
     ]
    }
   ],
   "source": [
    "date = int(input(\"enter any date:\"))\n",
    "months = int(input(\"enter any month:\"))\n",
    "year = int(input(\"enter any year:\"))\n",
    "if(date > 0 and date < 32 and months > 0 and months < 13 and year > 0):\n",
    "    print(\"date is valid\")\n",
    "else: print(\"Invalid date\")\n",
    "\n"
   ]
  },
  {
   "cell_type": "code",
   "execution_count": 4,
   "id": "189e37d6",
   "metadata": {},
   "outputs": [
    {
     "name": "stdout",
     "output_type": "stream",
     "text": [
      "Enter the date in dd/mm/yy format: 12,12,2021\n"
     ]
    },
    {
     "ename": "ValueError",
     "evalue": "not enough values to unpack (expected 3, got 1)",
     "output_type": "error",
     "traceback": [
      "\u001b[1;31m---------------------------------------------------------------------------\u001b[0m",
      "\u001b[1;31mValueError\u001b[0m                                Traceback (most recent call last)",
      "\u001b[1;32m~\\AppData\\Local\\Temp/ipykernel_6564/676523869.py\u001b[0m in \u001b[0;36m<module>\u001b[1;34m\u001b[0m\n\u001b[0;32m      1\u001b[0m \u001b[0mdate\u001b[0m\u001b[1;33m=\u001b[0m\u001b[0minput\u001b[0m\u001b[1;33m(\u001b[0m\u001b[1;34m\"Enter the date in dd/mm/yy format: \"\u001b[0m\u001b[1;33m)\u001b[0m\u001b[1;33m\u001b[0m\u001b[1;33m\u001b[0m\u001b[0m\n\u001b[1;32m----> 2\u001b[1;33m \u001b[0mdd\u001b[0m\u001b[1;33m,\u001b[0m\u001b[0mmm\u001b[0m\u001b[1;33m,\u001b[0m\u001b[0myy\u001b[0m\u001b[1;33m=\u001b[0m\u001b[0mdate\u001b[0m\u001b[1;33m.\u001b[0m\u001b[0msplit\u001b[0m\u001b[1;33m(\u001b[0m\u001b[1;34m'/'\u001b[0m\u001b[1;33m)\u001b[0m\u001b[1;33m\u001b[0m\u001b[1;33m\u001b[0m\u001b[0m\n\u001b[0m\u001b[0;32m      3\u001b[0m \u001b[0mdd\u001b[0m\u001b[1;33m=\u001b[0m\u001b[0mint\u001b[0m\u001b[1;33m(\u001b[0m\u001b[0mdd\u001b[0m\u001b[1;33m)\u001b[0m\u001b[1;33m\u001b[0m\u001b[1;33m\u001b[0m\u001b[0m\n\u001b[0;32m      4\u001b[0m \u001b[0mmm\u001b[0m\u001b[1;33m=\u001b[0m\u001b[0mint\u001b[0m\u001b[1;33m(\u001b[0m\u001b[0mmm\u001b[0m\u001b[1;33m)\u001b[0m\u001b[1;33m\u001b[0m\u001b[1;33m\u001b[0m\u001b[0m\n\u001b[0;32m      5\u001b[0m \u001b[0myy\u001b[0m\u001b[1;33m=\u001b[0m\u001b[0mint\u001b[0m\u001b[1;33m(\u001b[0m\u001b[0myy\u001b[0m\u001b[1;33m)\u001b[0m\u001b[1;33m\u001b[0m\u001b[1;33m\u001b[0m\u001b[0m\n",
      "\u001b[1;31mValueError\u001b[0m: not enough values to unpack (expected 3, got 1)"
     ]
    }
   ],
   "source": [
    "date=input(\"Enter the date in dd/mm/yy format: \")\n",
    "dd,mm,yy=date.split('/')\n",
    "dd=int(dd)\n",
    "mm=int(mm)\n",
    "yy=int(yy)\n",
    "if(mm==1 or mm==3 or mm==5 or mm==7 or mm==8 or mm==10 or mm==12):\n",
    "    max1=31\n",
    "elif(mm==4 or mm==6 or mm==9 or mm==11):\n",
    "    max1=30\n",
    "elif(yy%4==0 and yy%100!=0 or yy%400==0):\n",
    "    max1=29\n",
    "else:\n",
    "    max1=28\n",
    "if(mm<1 or mm>12):\n",
    "    print(\"Date is invalid.\")\n",
    "elif(dd<1 or dd>max1):\n",
    "    print(\"Date is invalid.\")\n",
    "elif(dd==max1 and mm!=12):\n",
    "    dd=1\n",
    "    mm=mm+1\n",
    "    print(\"The incremented date is: \",dd,mm,yy)\n",
    "elif(dd==31 and mm==12):\n",
    "    dd=1\n",
    "    mm=1\n",
    "    yy=yy+1\n",
    "    print(\"The incremented date is: \",dd,mm,yy)\n",
    "else:\n",
    "    dd=dd+1\n",
    "    print(\"The incremented date is: \",dd,mm,yy)"
   ]
  },
  {
   "cell_type": "code",
   "execution_count": 5,
   "id": "ff195e6f",
   "metadata": {},
   "outputs": [
    {
     "name": "stdout",
     "output_type": "stream",
     "text": [
      "enter a character:1\n",
      "it is a number or digit: 1\n"
     ]
    }
   ],
   "source": [
    "ch = input(\"enter a character:\")\n",
    "if(ch=='A' or ch=='a' or ch=='E' or ch=='e' or ch=='I' or ch=='i' or ch=='O' or ch=='o' or ch=='U' or ch=='u'):\n",
    "    print(\"it is a vowel:\",ch)\n",
    "elif((ch>='A' or ch>='a') and (ch<='Z' or ch<='z')):\n",
    "     print(\"it is a consonant:\",ch)\n",
    "elif(ch>='0' and ch<='9'):\n",
    "     print(\"it is a number or digit:\",ch)\n",
    "else:\n",
    "    print(\"it is a special character\")"
   ]
  },
  {
   "cell_type": "code",
   "execution_count": null,
   "id": "676e4b4f",
   "metadata": {},
   "outputs": [],
   "source": [
    "ch = input(\"enter a character:\")\n",
    "if(ch=='A' or ch=='a' or ch=='E' or ch=='e' or ch=='I' or ch=='i' or ch=='O' or ch=='o' or ch=='U' or ch=='u'):\n",
    "    print(\"it is a vowel:\",ch)\n",
    "elif(ch>='0' and ch<='9'):\n",
    "     print(\"it is a number or digit:\",ch)\n",
    "else:\n",
    "    print(\"it is a consonant.\")"
   ]
  },
  {
   "cell_type": "code",
   "execution_count": 6,
   "id": "86f668ae",
   "metadata": {},
   "outputs": [
    {
     "name": "stdout",
     "output_type": "stream",
     "text": [
      "enter a number:23\n",
      "23 is not divisible by 3 and 7\n"
     ]
    }
   ],
   "source": [
    "# wap to check entered no is divisible by both 3 and 7.\n",
    "Number= int(input(\"enter a number:\"))\n",
    "if((Number%3==0) and (Number%7==0)):\n",
    "    print(\"{} is divisible by 3 and 7\".format(Number))\n",
    "else:\n",
    "    print(\"{} is not divisible by 3 and 7\".format(Number))"
   ]
  },
  {
   "cell_type": "code",
   "execution_count": 7,
   "id": "b73b43a3",
   "metadata": {},
   "outputs": [
    {
     "name": "stdout",
     "output_type": "stream",
     "text": [
      "enter a number:23\n",
      "23 is not divisible by 3\n",
      "23 is not divisible by 5\n"
     ]
    }
   ],
   "source": [
    "Number= int(input(\"enter a number:\"))\n",
    "if(Number%3==0):\n",
    "    print(\"{} is divisible by 3\".format(Number))\n",
    "elif(Number%5==0):\n",
    "    print(\"{} is divisible by 5\".format(Number))\n",
    "else:\n",
    "    print(\"{} is not divisible by 3\".format(Number)) \n",
    "    print(\"{} is not divisible by 5\".format(Number))"
   ]
  },
  {
   "cell_type": "code",
   "execution_count": 8,
   "id": "df61446d",
   "metadata": {},
   "outputs": [
    {
     "name": "stdout",
     "output_type": "stream",
     "text": [
      "enter a number:45\n",
      "it is divisible by 3\n"
     ]
    }
   ],
   "source": [
    "# wap to check entered no is divisible by 3 and 5 each.\n",
    "no= int(input(\"enter a number:\"))\n",
    "if(no%3==0):\n",
    "    print(\"it is divisible by 3\")\n",
    "elif(no%5==0):\n",
    "    print(\"it is divisible by 5\")\n",
    "else:\n",
    "     print(\"it is not divisible by 3\") \n",
    "     print(\"it is not divisible by 5\")   \n",
    "        "
   ]
  },
  {
   "cell_type": "code",
   "execution_count": null,
   "id": "8346e454",
   "metadata": {},
   "outputs": [],
   "source": [
    "# Even or odd without modulus----\n",
    "no = int(input(\"enter any no:\"))\n",
    "if(no//2==0):\n",
    "    print(\"It is an even no\")\n",
    "else:\n",
    "    print(\"it is an odd no\")"
   ]
  },
  {
   "cell_type": "code",
   "execution_count": 9,
   "id": "d29d025c",
   "metadata": {},
   "outputs": [
    {
     "name": "stdout",
     "output_type": "stream",
     "text": [
      "enter any character:a\n",
      "it is lower case character\n"
     ]
    }
   ],
   "source": [
    "#If any character is entered through the keyboard then wap to check it is upper case or lower case character and swap \n",
    "# the case of character.\n",
    "\n",
    "ch=input(\"enter any character:\")\n",
    "if(ch>='A' and ch<='Z'):\n",
    "    print(\"it is upper case character\")\n",
    "else:\n",
    "    print(\"it is lower case character\")"
   ]
  },
  {
   "cell_type": "code",
   "execution_count": 10,
   "id": "73a10a3d",
   "metadata": {},
   "outputs": [
    {
     "name": "stdout",
     "output_type": "stream",
     "text": [
      "Enter employee name:loku\n",
      "enter basic salary:20000\n"
     ]
    },
    {
     "ename": "TypeError",
     "evalue": "can't multiply sequence by non-int of type 'float'",
     "output_type": "error",
     "traceback": [
      "\u001b[1;31m---------------------------------------------------------------------------\u001b[0m",
      "\u001b[1;31mTypeError\u001b[0m                                 Traceback (most recent call last)",
      "\u001b[1;32m~\\AppData\\Local\\Temp/ipykernel_6564/2001411369.py\u001b[0m in \u001b[0;36m<module>\u001b[1;34m\u001b[0m\n\u001b[0;32m      3\u001b[0m \u001b[0mdepartment1\u001b[0m \u001b[1;33m=\u001b[0m \u001b[1;34m\"Quality control\"\u001b[0m\u001b[1;33m\u001b[0m\u001b[1;33m\u001b[0m\u001b[0m\n\u001b[0;32m      4\u001b[0m \u001b[0mdepartment2\u001b[0m \u001b[1;33m=\u001b[0m \u001b[1;34m\"Manufacturing\"\u001b[0m\u001b[1;33m\u001b[0m\u001b[1;33m\u001b[0m\u001b[0m\n\u001b[1;32m----> 5\u001b[1;33m \u001b[0mHRA\u001b[0m \u001b[1;33m=\u001b[0m \u001b[0mbasic\u001b[0m\u001b[1;33m*\u001b[0m\u001b[1;36m.15\u001b[0m\u001b[1;33m\u001b[0m\u001b[1;33m\u001b[0m\u001b[0m\n\u001b[0m\u001b[0;32m      6\u001b[0m \u001b[0mDA\u001b[0m \u001b[1;33m=\u001b[0m \u001b[0mbasic\u001b[0m\u001b[1;33m*\u001b[0m\u001b[1;36m.25\u001b[0m\u001b[1;33m\u001b[0m\u001b[1;33m\u001b[0m\u001b[0m\n\u001b[0;32m      7\u001b[0m \u001b[0mPF\u001b[0m \u001b[1;33m=\u001b[0m \u001b[1;33m(\u001b[0m\u001b[1;33m(\u001b[0m\u001b[0mbasic\u001b[0m \u001b[1;33m+\u001b[0m \u001b[0mDA\u001b[0m\u001b[1;33m)\u001b[0m\u001b[1;33m*\u001b[0m\u001b[1;36m.12\u001b[0m\u001b[1;33m)\u001b[0m\u001b[1;33m\u001b[0m\u001b[1;33m\u001b[0m\u001b[0m\n",
      "\u001b[1;31mTypeError\u001b[0m: can't multiply sequence by non-int of type 'float'"
     ]
    }
   ],
   "source": [
    "\n",
    "name = input(\"Enter employee name:\")\n",
    "basic = input(\"enter basic salary:\")\n",
    "department1 = \"Quality control\"\n",
    "department2 = \"Manufacturing\"\n",
    "HRA = basic*.15\n",
    "DA = basic*.25\n",
    "PF = ((basic + DA)*.12)\n",
    "TA = basic*.75\n",
    "netpay = (basic+DA+HRA+TA)\n",
    "grosspay = (netpay - PF)\n",
    "days in month == 30\n",
    "if(basic>=20000 and basic<=22000):\n",
    "    print(\"salary of Quality control:\",department1)\n",
    "    if(basic>=25000 and basic<=28000):\n",
    "         print(\"salary of Manufacturing:\",department2)\n",
    "    else:\n",
    "        print(\"Invalid basic entered\")\n",
    "    "
   ]
  },
  {
   "cell_type": "code",
   "execution_count": 1,
   "id": "8a7cb424",
   "metadata": {},
   "outputs": [
    {
     "ename": "IndexError",
     "evalue": "list index out of range",
     "output_type": "error",
     "traceback": [
      "\u001b[1;31m---------------------------------------------------------------------------\u001b[0m",
      "\u001b[1;31mIndexError\u001b[0m                                Traceback (most recent call last)",
      "\u001b[1;32m~\\AppData\\Local\\Temp/ipykernel_2300/2405788354.py\u001b[0m in \u001b[0;36m<module>\u001b[1;34m\u001b[0m\n\u001b[0;32m      9\u001b[0m     \u001b[1;32mfor\u001b[0m \u001b[0mi\u001b[0m \u001b[1;32min\u001b[0m \u001b[0mrange\u001b[0m\u001b[1;33m(\u001b[0m\u001b[0ma1\u001b[0m\u001b[1;33m)\u001b[0m\u001b[1;33m:\u001b[0m\u001b[1;33m\u001b[0m\u001b[1;33m\u001b[0m\u001b[0m\n\u001b[0;32m     10\u001b[0m         \u001b[1;32mif\u001b[0m\u001b[1;33m(\u001b[0m\u001b[0mi\u001b[0m\u001b[1;33m<\u001b[0m\u001b[0ma1\u001b[0m\u001b[1;33m)\u001b[0m\u001b[1;33m:\u001b[0m\u001b[1;33m\u001b[0m\u001b[1;33m\u001b[0m\u001b[0m\n\u001b[1;32m---> 11\u001b[1;33m             \u001b[0md\u001b[0m\u001b[1;33m.\u001b[0m\u001b[0mappend\u001b[0m\u001b[1;33m(\u001b[0m\u001b[0ma\u001b[0m\u001b[1;33m[\u001b[0m\u001b[0mi\u001b[0m\u001b[1;33m]\u001b[0m\u001b[1;33m+\u001b[0m\u001b[0mb\u001b[0m\u001b[1;33m[\u001b[0m\u001b[0mi\u001b[0m\u001b[1;33m]\u001b[0m\u001b[1;33m)\u001b[0m\u001b[1;33m\u001b[0m\u001b[1;33m\u001b[0m\u001b[0m\n\u001b[0m\u001b[0;32m     12\u001b[0m         \u001b[1;32melse\u001b[0m\u001b[1;33m:\u001b[0m\u001b[1;33m\u001b[0m\u001b[1;33m\u001b[0m\u001b[0m\n\u001b[0;32m     13\u001b[0m             \u001b[0md\u001b[0m\u001b[1;33m.\u001b[0m\u001b[0mappend\u001b[0m\u001b[1;33m(\u001b[0m\u001b[0ma\u001b[0m\u001b[1;33m[\u001b[0m\u001b[0mi\u001b[0m\u001b[1;33m]\u001b[0m\u001b[1;33m)\u001b[0m\u001b[1;33m\u001b[0m\u001b[1;33m\u001b[0m\u001b[0m\n",
      "\u001b[1;31mIndexError\u001b[0m: list index out of range"
     ]
    }
   ],
   "source": [
    "a=[1,2,3,4,7,8,1]\n",
    "b=[5,6,7,8,7,6]\n",
    "d=[]\n",
    "a1=len(a)\n",
    "b1=len(b)\n",
    "# print(a1)\n",
    "# print(b1)\n",
    "if(a1>b1):\n",
    "    for i in range(a1):\n",
    "        if(i<a1):\n",
    "            d.append(a[i]+b[i])\n",
    "        else:\n",
    "            d.append(a[i])\n",
    "else:\n",
    "    for i in range(b1):\n",
    "#         print(i)\n",
    "        if(i<a1):\n",
    "            d.append(a[i]+b[i])\n",
    "        else:\n",
    "            d.append(b[i])\n",
    "    \n",
    "print(d)    \n",
    "print('length of a1 ',a1)\n",
    "print('length of b1 ',b1)"
   ]
  },
  {
   "cell_type": "code",
   "execution_count": null,
   "id": "f52984ac",
   "metadata": {},
   "outputs": [],
   "source": []
  }
 ],
 "metadata": {
  "kernelspec": {
   "display_name": "Python 3 (ipykernel)",
   "language": "python",
   "name": "python3"
  },
  "language_info": {
   "codemirror_mode": {
    "name": "ipython",
    "version": 3
   },
   "file_extension": ".py",
   "mimetype": "text/x-python",
   "name": "python",
   "nbconvert_exporter": "python",
   "pygments_lexer": "ipython3",
   "version": "3.9.7"
  }
 },
 "nbformat": 4,
 "nbformat_minor": 5
}
