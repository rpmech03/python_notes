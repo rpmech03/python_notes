{
 "cells": [
  {
   "cell_type": "code",
   "execution_count": 1,
   "id": "f6b81295",
   "metadata": {},
   "outputs": [
    {
     "name": "stdout",
     "output_type": "stream",
     "text": [
      "{1: 1, 4: 1, 3: 1, 2: 4, 56: 1, 7: 2, 6: 1, 5: 1}\n"
     ]
    }
   ],
   "source": [
    "list = [1,4,3,2,56,7,6,5,7,2,2,2]\n",
    "# output = [{1:1:},{2:4},{3:1},{4:2}...]\n",
    "d = {}\n",
    "for i in list:\n",
    "    if i in d:\n",
    "        d[i] +=1\n",
    "    else:\n",
    "        d[i] = 1\n",
    "print(d)"
   ]
  },
  {
   "cell_type": "code",
   "execution_count": null,
   "id": "97bc8c4d",
   "metadata": {},
   "outputs": [],
   "source": []
  }
 ],
 "metadata": {
  "kernelspec": {
   "display_name": "Python 3 (ipykernel)",
   "language": "python",
   "name": "python3"
  },
  "language_info": {
   "codemirror_mode": {
    "name": "ipython",
    "version": 3
   },
   "file_extension": ".py",
   "mimetype": "text/x-python",
   "name": "python",
   "nbconvert_exporter": "python",
   "pygments_lexer": "ipython3",
   "version": "3.9.7"
  }
 },
 "nbformat": 4,
 "nbformat_minor": 5
}
