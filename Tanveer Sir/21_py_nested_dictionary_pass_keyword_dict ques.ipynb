{
 "cells": [
  {
   "cell_type": "markdown",
   "id": "d4498861",
   "metadata": {},
   "source": [
    "# Nested Collection With dictionary :"
   ]
  },
  {
   "cell_type": "code",
   "execution_count": 2,
   "id": "89f45449",
   "metadata": {},
   "outputs": [
    {
     "name": "stdout",
     "output_type": "stream",
     "text": [
      "roll 101\n",
      "name raka\n",
      "address zambada\n",
      "marks 100 99 99 99 99 \n",
      "result is 99.2\n"
     ]
    }
   ],
   "source": [
    "a={\n",
    "    'roll':101,\n",
    "    'name':'raka',\n",
    "    'address':'zambada',\n",
    "    'marks':[100,99,99,99,99]\n",
    "}\n",
    "for i,j in a.items():\n",
    "    if i=='marks' :\n",
    "        print(i,end=\" \")\n",
    "        r=0\n",
    "        for t in j:\n",
    "            print(t,end=\" \")\n",
    "            r=r+t\n",
    "        print(\"\\nresult is\",r/len(j))\n",
    "    else:\n",
    "        print(i,j)\n",
    "        \n",
    "        \n",
    "# It returns like a zip object in form of list or tuple."
   ]
  },
  {
   "cell_type": "code",
   "execution_count": null,
   "id": "186b2c5f",
   "metadata": {},
   "outputs": [],
   "source": [
    "key always string and values can be set ,list,tuple."
   ]
  },
  {
   "cell_type": "markdown",
   "id": "8a1a82c2",
   "metadata": {},
   "source": [
    "# Pass keyword:\n",
    "                             \n",
    "pass is a keyword which is use to define empty body of a block in python."
   ]
  },
  {
   "cell_type": "code",
   "execution_count": 5,
   "id": "0169ae78",
   "metadata": {},
   "outputs": [
    {
     "name": "stdout",
     "output_type": "stream",
     "text": [
      "roll 101\n",
      "name raka\n",
      "address zambada road Amla mp "
     ]
    }
   ],
   "source": [
    "a={\n",
    "    'roll':101,\n",
    "    'name':'raka',\n",
    "    'address':{'street':'zambada road',\n",
    "              'city':'Amla',\n",
    "              'state':'mp'}\n",
    "}\n",
    "for i,j in a.items():\n",
    "    if type(j)==dict:\n",
    "        print(i,end=\" \")\n",
    "        for t in j.values():\n",
    "            print(t,end=\" \")\n",
    "    else:\n",
    "        print(i,j)"
   ]
  },
  {
   "cell_type": "code",
   "execution_count": 5,
   "id": "9c09a591",
   "metadata": {},
   "outputs": [
    {
     "name": "stdout",
     "output_type": "stream",
     "text": [
      "roll 101\n",
      "name raka\n",
      "address street city state "
     ]
    }
   ],
   "source": [
    "a={\n",
    "    'roll':101,\n",
    "    'name':'raka',\n",
    "    'address':{'street':'zambada road',\n",
    "              'city':'Amla',\n",
    "              'state':'mp'}\n",
    "}\n",
    "for i,j in a.items():\n",
    "    if type(j)==dict:\n",
    "        print(i,end=\" \")\n",
    "        for t in j:\n",
    "            print(t,end=\" \")\n",
    "    else:\n",
    "        print(i,j)\n",
    "        \n",
    "# values ko hta de 2nd loop m se to only keys print hogi."
   ]
  },
  {
   "cell_type": "code",
   "execution_count": 4,
   "id": "8a022180",
   "metadata": {},
   "outputs": [
    {
     "name": "stdout",
     "output_type": "stream",
     "text": [
      "{'student1': {'roll': 101, 'name': 'jay', 'address': 'Indore'}, 'student2': {'roll': 102, 'name': 'ajay', 'address': 'Ujjain'}, 'student3': {'roll': 103, 'name': 'jaya', 'address': 'Bhopal'}}\n"
     ]
    }
   ],
   "source": [
    "s1={\n",
    "    'roll':101,\n",
    "    'name':'jay',\n",
    "    'address':'Indore'\n",
    "}\n",
    "s2={\n",
    "    'roll':102,\n",
    "    'name':'ajay',\n",
    "    'address':'Ujjain'\n",
    "}\n",
    "s3={\n",
    "    'roll':103,\n",
    "    'name':'jaya',\n",
    "    'address':'Bhopal'\n",
    "}\n",
    "s={\n",
    "    'student1':s1,\n",
    "    'student2':s2,\n",
    "    'student3':s3\n",
    "}\n",
    "print(s)\n"
   ]
  },
  {
   "cell_type": "code",
   "execution_count": 5,
   "id": "01fc0336",
   "metadata": {},
   "outputs": [
    {
     "name": "stdout",
     "output_type": "stream",
     "text": [
      "student1\n",
      "roll 101\n",
      "name jay\n",
      "address Indore\n",
      "student2\n",
      "roll 102\n",
      "name ajay\n",
      "address Ujjain\n",
      "student3\n",
      "roll 103\n",
      "name jaya\n",
      "address Bhopal\n"
     ]
    }
   ],
   "source": [
    "s1={\n",
    "    'roll':101,\n",
    "    'name':'jay',\n",
    "    'address':'Indore'\n",
    "}\n",
    "s2={\n",
    "    'roll':102,\n",
    "    'name':'ajay',\n",
    "    'address':'Ujjain'\n",
    "}\n",
    "s3={\n",
    "    'roll':103,\n",
    "    'name':'jaya',\n",
    "    'address':'Bhopal'\n",
    "}\n",
    "s={\n",
    "    'student1':s1,\n",
    "    'student2':s2,\n",
    "    'student3':s3\n",
    "}\n",
    "for i,j in s.items():\n",
    "    print(i)\n",
    "    for k,v in j.items():\n",
    "        print(k,v)\n"
   ]
  },
  {
   "cell_type": "code",
   "execution_count": 4,
   "id": "f11ebf53",
   "metadata": {},
   "outputs": [
    {
     "name": "stdout",
     "output_type": "stream",
     "text": [
      "student1 :\n",
      "roll 101\n",
      "name jay\n",
      "address Indore\n",
      "student2 :\n",
      "roll 102\n",
      "name ajay\n",
      "address Ujjain\n",
      "student3 :\n",
      "roll 103\n",
      "name jaya\n",
      "address Bhopal\n"
     ]
    }
   ],
   "source": [
    "# doing same thing but above process better to use.\n",
    "s={\n",
    "    'student1':{\n",
    "    'roll':101,\n",
    "    'name':'jay',\n",
    "    'address':'Indore'\n",
    "},\n",
    "    'student2':{\n",
    "    'roll':102,\n",
    "    'name':'ajay',\n",
    "    'address':'Ujjain'\n",
    "},\n",
    "    'student3':{\n",
    "    'roll':103,\n",
    "    'name':'jaya',\n",
    "    'address':'Bhopal'\n",
    "}\n",
    "}\n",
    "for i,j in s.items():\n",
    "    print(i,\":\")\n",
    "    for k,v in j.items():\n",
    "        print(k,v)\n"
   ]
  },
  {
   "cell_type": "code",
   "execution_count": null,
   "id": "cdc7bb86",
   "metadata": {},
   "outputs": [],
   "source": []
  }
 ],
 "metadata": {
  "kernelspec": {
   "display_name": "Python 3 (ipykernel)",
   "language": "python",
   "name": "python3"
  },
  "language_info": {
   "codemirror_mode": {
    "name": "ipython",
    "version": 3
   },
   "file_extension": ".py",
   "mimetype": "text/x-python",
   "name": "python",
   "nbconvert_exporter": "python",
   "pygments_lexer": "ipython3",
   "version": "3.9.7"
  }
 },
 "nbformat": 4,
 "nbformat_minor": 5
}
