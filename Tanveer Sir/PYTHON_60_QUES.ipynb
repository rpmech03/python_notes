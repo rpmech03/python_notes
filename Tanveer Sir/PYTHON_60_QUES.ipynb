{
 "cells": [
  {
   "cell_type": "code",
   "execution_count": 1,
   "id": "df6ddb4a",
   "metadata": {},
   "outputs": [
    {
     "name": "stdout",
     "output_type": "stream",
     "text": [
      "Snowball Cat 1\n",
      "Chewy Dog 2\n",
      "Bubbles Fish 2\n",
      "Gruff Goat 6\n"
     ]
    }
   ],
   "source": [
    "# 2. How to iterate over 2+ lists at the same time\n",
    "\n",
    "# You can zip() lists and then iterate over the zip object. A zip object is an iterator of tuples.\n",
    "\n",
    "# Below we iterate over 3 lists simultaneously and interpolate the values into a string.\n",
    "\n",
    "name = ['Snowball', 'Chewy', 'Bubbles', 'Gruff']\n",
    "animal = ['Cat', 'Dog', 'Fish', 'Goat']\n",
    "age = [1, 2, 2, 6]\n",
    "\n",
    "for i,j,k in zip(name, animal, age):\n",
    "    print(i,j,k)\n",
    "    "
   ]
  },
  {
   "cell_type": "code",
   "execution_count": null,
   "id": "2d056497",
   "metadata": {},
   "outputs": [],
   "source": [
    "# 3. When would you use a list vs dictionary?\n",
    "\n",
    "# Lists and dictionary generally have slightly different use cases but there is some overlap.\n",
    "\n",
    "# The general rule of algorithm questions I’ve come to is that if you can use both, use a dictionary because lookups are faster.\n",
    "\n",
    "# List\n",
    "# Use a list if you need to store the order of something.\n",
    "\n",
    "# Ie: id’s of database records in the order they’ll be displayed.\n",
    "\n",
    "# ids = [23,1,7,9]\n",
    "# While both lists and dictionaries are ordered as of python 3.7, a list allows duplicate values while a dictionary doesn’t \n",
    "# allow duplicate keys.\n",
    "\n",
    "# Dictionary\n",
    "# Use a dictionary if you want to count occurrences of something. Like the number of pets in a home.\n",
    "\n",
    "# pets = {'dogs':2,'cats':1,'fish':5}\n",
    "# Each key can only exist once in a dictionary. Note that keys can also be other immutable data structures like tuples. \n",
    "# Ie: {('a',1):1, ('b',2):1}."
   ]
  },
  {
   "cell_type": "code",
   "execution_count": null,
   "id": "ec980912",
   "metadata": {},
   "outputs": [],
   "source": [
    "# 4. Is a list mutable?\n",
    "# Yes. Notice in the code below how the value associated with the same identifier in memory has not changed.\n",
    "\n",
    "# x = [1]\n",
    "# print(id(x),':',x) #=> 4501046920 : [1]\n",
    "# x.append(5)\n",
    "# x.extend([6,7])\n",
    "# print(id(x),':',x) #=> 4501046920 : [1, 5, 6, 7]"
   ]
  },
  {
   "cell_type": "code",
   "execution_count": null,
   "id": "acdf4c9a",
   "metadata": {},
   "outputs": [],
   "source": [
    "# 5. Does a list need to be homogeneous?\n",
    "# No. Different types of object can be mixed together in a list.\n",
    "\n",
    "# a = [1,'a',1.0,[]]\n",
    "# a #=> [1, 'a', 1.0, []]"
   ]
  },
  {
   "cell_type": "code",
   "execution_count": null,
   "id": "ec567eb7",
   "metadata": {},
   "outputs": [],
   "source": [
    "# 6. What is the difference between append and extend?\n",
    "# .append() adds an object to the end of a list.\n",
    "\n",
    "# a = [1,2,3]\n",
    "# a.append(4)\n",
    "# a #=> [1, 2, 3, 4]\n",
    "# This also means appending a list adds that whole list as a single element, rather than appending each of its values.\n",
    "\n",
    "# a.append([5,6])\n",
    "# a #=> [1, 2, 3, 4, [5, 6]]\n",
    "# .extend() adds each value from a 2nd list as its own element. So extending a list with another list combines their values.\n",
    "\n",
    "# b = [1,2,3]\n",
    "# b.extend([5,6])\n",
    "# b #=> [1, 2, 3, 5, 6]"
   ]
  },
  {
   "cell_type": "code",
   "execution_count": null,
   "id": "05446dfe",
   "metadata": {},
   "outputs": [],
   "source": [
    "# 7. Do python lists store values or pointers?\n",
    "# Python lists don’t store values themselves. They store pointers to values stored elsewhere in memory. This allows lists to be\n",
    "# mutable.\n",
    "\n",
    "# Here we initialize values 1 and 2, then create a list including the values 1 and 2.\n",
    "\n",
    "# print( id(1) ) #=> 4438537632\n",
    "# print( id(2) ) #=> 4438537664\n",
    "# a = [1,2,3]\n",
    "# print( id(a) ) #=> 4579953480\n",
    "# print( id(a[0]) ) #=> 4438537632\n",
    "# print( id(a[1]) ) #=> 4438537664\n",
    "# Notice how the list has its own memory address. But 1 and 2 in the list point to the same place in memory as the 1 and 2 we\n",
    "# previously defined."
   ]
  },
  {
   "cell_type": "code",
   "execution_count": null,
   "id": "af13075d",
   "metadata": {},
   "outputs": [],
   "source": [
    "# 8. What does “del” do?\n",
    "\n",
    "# del removes an item from a list given its index.\n",
    "\n",
    "# Here we’ll remove the value at index 1.\n",
    "\n",
    "# a = ['w', 'x', 'y', 'z']\n",
    "# a #=> ['w', 'x', 'y', 'z']\n",
    "# del a[1]\n",
    "# a #=> ['w', 'y', 'z']\n",
    "# Notice how del does not return the removed element."
   ]
  },
  {
   "cell_type": "code",
   "execution_count": null,
   "id": "8ccfb6af",
   "metadata": {},
   "outputs": [],
   "source": [
    "# 9. What is the difference between “remove” and “pop”?\n",
    "\n",
    "# .remove() removes the first instance of a matching object. Below we remove the first b.\n",
    "\n",
    "# a = ['a', 'a', 'b', 'b', 'c', 'c']\n",
    "# a.remove('b')\n",
    "# a #=> ['a', 'a', 'b', 'c', 'c']\n",
    "\n",
    "# .pop() removes an object by its index.\n",
    "\n",
    "# The difference between pop and del is that pop returns the popped element. This allows using a list like a stack.\n",
    "\n",
    "# a = ['a', 'a', 'b', 'b', 'c', 'c']\n",
    "# a.pop(4) #=> 'c'\n",
    "# a #=> ['a', 'a', 'b', 'b', 'c']\n",
    "# By default, pop removes the last element from a list if an index isn’t specified."
   ]
  },
  {
   "cell_type": "code",
   "execution_count": null,
   "id": "758b4cf0",
   "metadata": {},
   "outputs": [],
   "source": [
    "# 10. Remove duplicates from a list\n",
    "\n",
    "# If you’re not concerned about maintaining the order of a list, then converting to a set and back to a list will achieve this.\n",
    "\n",
    "# li = [3, 2, 2, 1, 1, 1]\n",
    "# list(set(li)) #=> [1, 2, 3]"
   ]
  },
  {
   "cell_type": "code",
   "execution_count": null,
   "id": "dba7a3f7",
   "metadata": {},
   "outputs": [],
   "source": [
    "# 11. Find the index of the 1st matching element\n",
    "\n",
    "# For example, you want to find the first “apple” in a list of fruit. Use the .index() method.\n",
    "\n",
    "# fruit = ['pear', 'orange', 'apple', 'grapefruit', 'apple', 'pear']\n",
    "# fruit.index('apple') #=> 2\n",
    "# fruit.index('pear') #=> 0"
   ]
  },
  {
   "cell_type": "code",
   "execution_count": null,
   "id": "586d4e9d",
   "metadata": {},
   "outputs": [],
   "source": [
    "# 12. Remove all elements from a list\n",
    "\n",
    "# Rather than creating a new empty list, we can clear the elements from an existing list with .clear().\n",
    "\n",
    "# fruit = ['pear', 'orange', 'apple']\n",
    "# print( fruit )     #=> ['pear', 'orange', 'apple']\n",
    "# print( id(fruit) ) #=> 4581174216\n",
    "# fruit.clear()\n",
    "# print( fruit )     #=> []\n",
    "# print( id(fruit) ) #=> 4581174216\n",
    "\n",
    "# Or with del.\n",
    "\n",
    "# fruit = ['pear', 'orange', 'apple']\n",
    "# print( fruit )     #=> ['pear', 'orange', 'apple']\n",
    "# print( id(fruit) ) #=> 4581166792\n",
    "# del fruit[:]\n",
    "# print( fruit )     #=> []\n",
    "# print( id(fruit) ) #=> 4581166792"
   ]
  },
  {
   "cell_type": "code",
   "execution_count": 2,
   "id": "33f51cf4",
   "metadata": {},
   "outputs": [
    {
     "name": "stdout",
     "output_type": "stream",
     "text": [
      "0 flour\n",
      "1 cheese\n",
      "2 carrots\n"
     ]
    }
   ],
   "source": [
    "# 13. Iterate over both the values in a list and their indices\n",
    "\n",
    "# enumerate() adds a counter to the list passed as an argument.\n",
    "\n",
    "# Below we iterate over the list and pass both value and index into string interpolation.\n",
    "\n",
    "grocery_list = ['flour','cheese','carrots']\n",
    "\n",
    "for idx,val in enumerate(grocery_list):\n",
    "    print(idx,val)"
   ]
  },
  {
   "cell_type": "code",
   "execution_count": 3,
   "id": "e26945ec",
   "metadata": {},
   "outputs": [
    {
     "name": "stdout",
     "output_type": "stream",
     "text": [
      "['a', 'b', 'c', 1, 2, 3]\n"
     ]
    }
   ],
   "source": [
    "# 14. How to concatenate two lists\n",
    "\n",
    "# The + operator will concatenate 2 lists.\n",
    "\n",
    "one = ['a', 'b', 'c']\n",
    "two = [1, 2, 3]\n",
    "\n",
    "print(one+two)"
   ]
  },
  {
   "cell_type": "code",
   "execution_count": 4,
   "id": "e08c07bd",
   "metadata": {},
   "outputs": [
    {
     "data": {
      "text/plain": [
       "[2, 3, 4]"
      ]
     },
     "execution_count": 4,
     "metadata": {},
     "output_type": "execute_result"
    }
   ],
   "source": [
    "# 15. How to manipulate every element in a list with list comprehension?\n",
    "\n",
    "# Below we return a new list with 1 added to every element.\n",
    "\n",
    "a=[1,2,3]\n",
    "b=[i+1 for i in a]\n",
    "b"
   ]
  },
  {
   "cell_type": "code",
   "execution_count": null,
   "id": "064a57b5",
   "metadata": {},
   "outputs": [],
   "source": [
    "# 16. Count the occurrence of a specific object in a list?\n",
    "\n",
    "# The count() method returns the number of occurrences of a specific object. Below we return the number of times the string, \n",
    "# “fish” exists in a list called pets.\n",
    "\n",
    "# pets = ['dog','cat','fish','fish','cat']\n",
    "# pets.count('fish')\n",
    "# #=> 2"
   ]
  },
  {
   "cell_type": "code",
   "execution_count": 5,
   "id": "b82a2bd9",
   "metadata": {},
   "outputs": [
    {
     "name": "stdout",
     "output_type": "stream",
     "text": [
      "['chuck norris', 'bruce lee', 'sonny chiba']\n",
      "['chuck norris', 'bruce lee']\n"
     ]
    }
   ],
   "source": [
    "# 17. How to shallow copy a list?\n",
    "\n",
    "# .copy() can be used to shallow copy a list.\n",
    "\n",
    "# Below we create a shallow copy of round1, assign it to a new name, round2, and then remove the string sonny chiba.\n",
    "\n",
    "round1 = ['chuck norris', 'bruce lee', 'sonny chiba']\n",
    "round2 = round1.copy()\n",
    "round2.remove('sonny chiba')\n",
    "print(round1) #=> ['chuck norris', 'bruce lee', 'sonny chiba']\n",
    "print(round2) #=> ['chuck norris', 'bruce lee']"
   ]
  },
  {
   "cell_type": "code",
   "execution_count": null,
   "id": "8728359b",
   "metadata": {},
   "outputs": [],
   "source": [
    "# 18. Why create a shallow copy of a list?\n",
    "\n",
    "# Building off the previous example, modifying round2 will modify round1 if we don’t create a shallow copy.\n",
    "\n",
    "# round1 = ['chuck norris', 'bruce lee', 'sonny chiba']\n",
    "# round2 = round1\n",
    "# round2.remove('sonny chiba')\n",
    "# print(round1) #=> ['chuck norris', 'bruce lee']\n",
    "# print(round2) #=> ['chuck norris', 'bruce lee']\n",
    "# Without a shallow copy, round1 and round2 are just names pointing to the same list in memory. That’s why it appears that \n",
    "# changing the value of one changes the value of the other."
   ]
  },
  {
   "cell_type": "code",
   "execution_count": null,
   "id": "90e5021d",
   "metadata": {},
   "outputs": [],
   "source": [
    "# 19. How to deep copy a list?\n",
    "\n",
    "# For this we need to import the copy module, then call copy.deepcopy().\n",
    "\n",
    "# Below we create a deep copy of a list, round1 called round2, update a value in round2, then print both. In this case, round1 \n",
    "# isn’t affected.\n",
    "\n",
    "# round1 = [['Arnold', 'Sylvester', 'Jean Claude'],['Buttercup', 'Bubbles', 'Blossom'] ]\n",
    "\n",
    "# import copy\n",
    "# round2 = copy.deepcopy(round1)\n",
    "# round2[0][0] = 'Jet Lee'\n",
    "# print(round1)\n",
    "# #=> [['Arnold', 'Sylvester', 'Jean Claude'], ['Buttercup', 'Bubbles', 'Blossom']]\n",
    "# print(round2)\n",
    "# #=> [['Jet Lee', 'Sylvester', 'Jean Claude'], ['Buttercup', 'Bubbles', 'Blossom']]\n",
    "# Above we can see that changing the nested array in round2 did not update round1."
   ]
  },
  {
   "cell_type": "code",
   "execution_count": null,
   "id": "31a139a8",
   "metadata": {},
   "outputs": [],
   "source": [
    "# 20. What is the difference between a deep copy and a shallow copy?\n",
    "\n",
    "# Building off the previous example, creating a shallow copy and then modifying it would have affected the original list..\n",
    "\n",
    "# round1 = [\n",
    "#     ['Arnold', 'Sylvester', 'Jean Claude'],\n",
    "#     ['Buttercup', 'Bubbles', 'Blossom']\n",
    "# ]\n",
    "\n",
    "# import copy\n",
    "# round2 = round1.copy()\n",
    "# round2[0][0] = 'Jet Lee'\n",
    "# print(round1)\n",
    "# #=> [['Jet Lee', 'Sylvester', 'Jean Claude'], ['Buttercup', 'Bubbles', 'Blossom']]\n",
    "# print(round2)\n",
    "# #=> [['Jet Lee', 'Sylvester', 'Jean Claude'], ['Buttercup', 'Bubbles', 'Blossom']]\n",
    "# Why does this happen?\n",
    "\n",
    "# Creating a shallow copy does create a new object in memory, but it’s filled with the same references to existing objects that \n",
    "# the previous list has.\n",
    "\n",
    "# Creating a deep copy creates copies of the original objects and points to these new versions. So the new list is completely \n",
    "# unaffected by changes to the old list and vice versa."
   ]
  },
  {
   "cell_type": "code",
   "execution_count": null,
   "id": "95e00e8d",
   "metadata": {},
   "outputs": [],
   "source": [
    "# 21. What is the difference between a list and a tuple.?\n",
    "\n",
    "# Tuples cannot be updated after creation. Adding/removing/updating an existing tuple requires creating a new tuple.\n",
    "\n",
    "# Lists can be modified after creation.\n",
    "\n",
    "# Tuples often represent an object like a record loaded from a database where elements are of different datatypes.\n",
    "\n",
    "# Lists are generally used to store an ordered sequence of a specific type of object (but not always).\n",
    "\n",
    "# Both are sequences and allow duplicate values."
   ]
  },
  {
   "cell_type": "code",
   "execution_count": null,
   "id": "be8a01bb",
   "metadata": {},
   "outputs": [],
   "source": [
    "# 22. Return the length of a list?\n",
    "\n",
    "# len() can returns the length of a list.\n",
    "\n",
    "# li = ['a', 'b', 'c', 'd', 'e']\n",
    "# len(li)\n",
    "# #=> 5\n",
    "# But note it counts top level objects, so a nested list of several integers will only be counted as a single object. Below, \n",
    "# li has a length of 2, not 5.\n",
    "\n",
    "# li = [[1,2],[3,4,5]]\n",
    "# len(li)\n",
    "# #=> 2"
   ]
  },
  {
   "cell_type": "code",
   "execution_count": null,
   "id": "57c5c706",
   "metadata": {},
   "outputs": [],
   "source": [
    "# 23. What is the difference between a list and a set?\n",
    "\n",
    "# While a list is ordered, a set is not. That’s why using set to find unique values in a list, like list( set([3, 3, 2, 1]) ) \n",
    "# loses the order.\n",
    "\n",
    "# While lists are often used to track order, sets are often used to track existence.\n",
    "\n",
    "# Lists allow duplicates, but all values in a set are unique by definition."
   ]
  },
  {
   "cell_type": "code",
   "execution_count": null,
   "id": "9670281f",
   "metadata": {},
   "outputs": [],
   "source": [
    "# 24. How to check if an element is not in a list?\n",
    "\n",
    "# For this we use the in operator, but prefix it with not.\n",
    "\n",
    "# li = [1,2,3,4]\n",
    "# 5 not in li #=> True\n",
    "# 4 not in li #=> False"
   ]
  },
  {
   "cell_type": "code",
   "execution_count": 7,
   "id": "03dc55ef",
   "metadata": {},
   "outputs": [
    {
     "data": {
      "text/plain": [
       "[5, 10, 15, 20, 25]"
      ]
     },
     "execution_count": 7,
     "metadata": {},
     "output_type": "execute_result"
    }
   ],
   "source": [
    "# 25. Multiply every element in a list by 5 with the map function:\n",
    "\n",
    "# .map() allows iterating over a sequence and updating each value with another function.\n",
    "\n",
    "# map() returns a map object but I’ve wrapped it with a list comprehension so we can see the updated values.\n",
    "\n",
    "def mul_5(val):\n",
    "    return val*5\n",
    "\n",
    "a=[1,2,3,4,5]\n",
    "b=[val for val in map(mul_5,a)]\n",
    "b"
   ]
  },
  {
   "cell_type": "code",
   "execution_count": 8,
   "id": "8b440094",
   "metadata": {},
   "outputs": [
    {
     "data": {
      "text/plain": [
       "[('a', 1), ('b', 2), ('c', 3)]"
      ]
     },
     "execution_count": 8,
     "metadata": {},
     "output_type": "execute_result"
    }
   ],
   "source": [
    "# 26. Combine 2 lists into a list of tuples with the zip function:\n",
    "\n",
    "# zip() combines multiple sequences into an iterator of tuples, where values at the same sequence index are combined in the \n",
    "# same tuple.\n",
    "\n",
    "alphabet = ['a', 'b', 'c']\n",
    "integers = [1, 2, 3]\n",
    "\n",
    "list(zip(alphabet,integers))"
   ]
  },
  {
   "cell_type": "code",
   "execution_count": 9,
   "id": "d4686f18",
   "metadata": {},
   "outputs": [
    {
     "data": {
      "text/plain": [
       "[(1, 4), (2, 5), (3, 6)]"
      ]
     },
     "execution_count": 9,
     "metadata": {},
     "output_type": "execute_result"
    }
   ],
   "source": [
    "a=[1,2,3]\n",
    "b=[4,5,6]\n",
    "list(zip(a,b))"
   ]
  },
  {
   "cell_type": "code",
   "execution_count": null,
   "id": "b4d70cd3",
   "metadata": {},
   "outputs": [],
   "source": [
    "# 27. Insert a value at a specific index in an existing list\n",
    "\n",
    "# The insert() method takes an object to insert and the index to insert it at.\n",
    "\n",
    "# li = ['a','b','c','d','e']\n",
    "# li.insert(2, 'HERE')\n",
    "# li #=> ['a', 'b', 'HERE', 'c', 'd', 'e']\n",
    "# Note that the element previously at the specified index is shifted to the right, not overwritten"
   ]
  },
  {
   "cell_type": "code",
   "execution_count": 10,
   "id": "83b5d9d5",
   "metadata": {},
   "outputs": [
    {
     "data": {
      "text/plain": [
       "[1, 2, 5, 3]"
      ]
     },
     "execution_count": 10,
     "metadata": {},
     "output_type": "execute_result"
    }
   ],
   "source": [
    "a=[1,2,3]\n",
    "a.insert(2,5)\n",
    "a"
   ]
  },
  {
   "cell_type": "code",
   "execution_count": null,
   "id": "6dcf0aa1",
   "metadata": {},
   "outputs": [],
   "source": [
    "# 28. Subtract values in a list from the first element with the reduce function:\n",
    "\n",
    "# reduce() needs to be imported from functools.\n",
    "\n",
    "# Given a function, reduce iterates over a sequence and calls the function on every element. The output from the previous\n",
    "# element is passed as an argument when calling the function on the next element.\n",
    "\n",
    "# from functools import reduce\n",
    "# def subtract(a,b):\n",
    "#     return a - b\n",
    "# numbers = [100,10,5,1,2,7,5]\n",
    "# reduce(subtract, numbers) #=> 70\n",
    "# Above we subtracted 10, 5, 1, 2, 7 and 5 from 100."
   ]
  },
  {
   "cell_type": "code",
   "execution_count": 11,
   "id": "8b26dd57",
   "metadata": {},
   "outputs": [],
   "source": [
    "from functools import reduce"
   ]
  },
  {
   "cell_type": "code",
   "execution_count": 12,
   "id": "3623a27c",
   "metadata": {},
   "outputs": [
    {
     "data": {
      "text/plain": [
       "27"
      ]
     },
     "execution_count": 12,
     "metadata": {},
     "output_type": "execute_result"
    }
   ],
   "source": [
    "def subtract(a,b):\n",
    "    return a-b\n",
    "\n",
    "numbers=[100,12,23,34,4]\n",
    "reduce(subtract,numbers)"
   ]
  },
  {
   "cell_type": "code",
   "execution_count": 20,
   "id": "5757a76b",
   "metadata": {},
   "outputs": [
    {
     "data": {
      "text/plain": [
       "False"
      ]
     },
     "execution_count": 20,
     "metadata": {},
     "output_type": "execute_result"
    }
   ],
   "source": [
    "def even(a,b):\n",
    "    return a%2==0\n",
    "n=[1,2,3,4,5,6]\n",
    "reduce(even,n)"
   ]
  },
  {
   "cell_type": "code",
   "execution_count": 13,
   "id": "54407f15",
   "metadata": {},
   "outputs": [],
   "source": [
    "# 29. Remove negative values from a list with the filter function:\n",
    "\n",
    "# Given a function, filter() will remove any elements from a sequence on which the function doesn’t return True.\n",
    "\n",
    "# Below we remove elements less than zero.\n",
    "\n",
    "# def remove_negatives(x):\n",
    "#     return True if x >= 0 else False\n",
    "    \n",
    "# a = [-10, 27, 1000, -1, 0, -30]\n",
    "# [x for x in filter(remove_negatives, a)] \n",
    "# #=> [27, 1000, 0]"
   ]
  },
  {
   "cell_type": "code",
   "execution_count": 21,
   "id": "07af685f",
   "metadata": {},
   "outputs": [
    {
     "data": {
      "text/plain": [
       "[10, 9, 8, 7, 6, 5, 4, 3, 2, 1]"
      ]
     },
     "execution_count": 21,
     "metadata": {},
     "output_type": "execute_result"
    }
   ],
   "source": [
    "li = [1,2,3,4,5,6,7,8,9,10]\n",
    "list(reversed(li))"
   ]
  },
  {
   "cell_type": "code",
   "execution_count": 22,
   "id": "37123049",
   "metadata": {},
   "outputs": [
    {
     "data": {
      "text/plain": [
       "[10, 9, 8, 7, 6, 5, 4, 3, 2, 1]"
      ]
     },
     "execution_count": 22,
     "metadata": {},
     "output_type": "execute_result"
    }
   ],
   "source": [
    "li.reverse()\n",
    "li"
   ]
  },
  {
   "cell_type": "code",
   "execution_count": 14,
   "id": "60637169",
   "metadata": {},
   "outputs": [
    {
     "data": {
      "text/plain": [
       "[12, 13, 2, 3, 4]"
      ]
     },
     "execution_count": 14,
     "metadata": {},
     "output_type": "execute_result"
    }
   ],
   "source": [
    "def negative(x):\n",
    "    return True if x>=0 else False\n",
    "\n",
    "b=[12,13,-12,-1,-2,2,3,4]\n",
    "\n",
    "[x for x in filter(negative,b)]"
   ]
  },
  {
   "cell_type": "code",
   "execution_count": 18,
   "id": "c2b76530",
   "metadata": {},
   "outputs": [
    {
     "data": {
      "text/plain": [
       "[2, 4, 6, 8, 10]"
      ]
     },
     "execution_count": 18,
     "metadata": {},
     "output_type": "execute_result"
    }
   ],
   "source": [
    "def even(x):\n",
    "    return x%2==0\n",
    "\n",
    "b=[1,2,3,4,5,6,7,8,9,10]\n",
    "\n",
    "[x for x in filter(even,b)]"
   ]
  },
  {
   "cell_type": "code",
   "execution_count": null,
   "id": "f8f4e931",
   "metadata": {},
   "outputs": [],
   "source": []
  },
  {
   "cell_type": "code",
   "execution_count": null,
   "id": "2a0beada",
   "metadata": {},
   "outputs": [],
   "source": []
  },
  {
   "cell_type": "code",
   "execution_count": null,
   "id": "ccfb242b",
   "metadata": {},
   "outputs": [],
   "source": []
  },
  {
   "cell_type": "code",
   "execution_count": null,
   "id": "1d2bfd13",
   "metadata": {},
   "outputs": [],
   "source": []
  },
  {
   "cell_type": "code",
   "execution_count": null,
   "id": "b912a8af",
   "metadata": {},
   "outputs": [],
   "source": []
  },
  {
   "cell_type": "code",
   "execution_count": null,
   "id": "c2c7c428",
   "metadata": {},
   "outputs": [],
   "source": []
  },
  {
   "cell_type": "code",
   "execution_count": null,
   "id": "d96c6379",
   "metadata": {},
   "outputs": [],
   "source": []
  }
 ],
 "metadata": {
  "kernelspec": {
   "display_name": "Python 3 (ipykernel)",
   "language": "python",
   "name": "python3"
  },
  "language_info": {
   "codemirror_mode": {
    "name": "ipython",
    "version": 3
   },
   "file_extension": ".py",
   "mimetype": "text/x-python",
   "name": "python",
   "nbconvert_exporter": "python",
   "pygments_lexer": "ipython3",
   "version": "3.9.7"
  }
 },
 "nbformat": 4,
 "nbformat_minor": 5
}
