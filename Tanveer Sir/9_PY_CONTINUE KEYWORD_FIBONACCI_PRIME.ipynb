{
 "cells": [
  {
   "cell_type": "markdown",
   "id": "ca9d7dc3",
   "metadata": {},
   "source": [
    "# CONTINUE KEYWORD :\n",
    "\n",
    "Continue is a keyword which is mainly use to \"\"skip or bypass execution of a loop\"\" according to specified condition."
   ]
  },
  {
   "cell_type": "code",
   "execution_count": 1,
   "id": "4d7c30a9",
   "metadata": {},
   "outputs": [
    {
     "name": "stdout",
     "output_type": "stream",
     "text": [
      "1\n",
      "2\n",
      "3\n",
      "4\n",
      "6\n",
      "7\n",
      "8\n",
      "9\n",
      "10\n"
     ]
    }
   ],
   "source": [
    "for i in range(1,11):\n",
    "    if i==5:\n",
    "        continue\n",
    "    print(i)                        #if ke sath condition de do n jise skip krna hai use equal krwa do i ke."
   ]
  },
  {
   "cell_type": "code",
   "execution_count": 6,
   "id": "2b606292",
   "metadata": {},
   "outputs": [
    {
     "name": "stdout",
     "output_type": "stream",
     "text": [
      "1\n",
      "2\n",
      "3\n",
      "4\n",
      "5\n",
      "6\n",
      "7\n",
      "8\n",
      "9\n",
      "10\n"
     ]
    }
   ],
   "source": [
    "for i in range(1,11):\n",
    "     print(i)\n",
    "     if i==5:\n",
    "        continue       #print upr kr diya to pura print hoga.\n",
    "                           "
   ]
  },
  {
   "cell_type": "code",
   "execution_count": 7,
   "id": "6e03aea0",
   "metadata": {},
   "outputs": [
    {
     "name": "stdout",
     "output_type": "stream",
     "text": [
      "1\n",
      "2\n",
      "3\n",
      "4\n",
      "6\n",
      "9\n",
      "10\n"
     ]
    }
   ],
   "source": [
    "for i in range(1,11):\n",
    "    if i==5 or i==8 or i==7:\n",
    "        continue\n",
    "    print(i)    "
   ]
  },
  {
   "cell_type": "code",
   "execution_count": 8,
   "id": "d6e8629d",
   "metadata": {},
   "outputs": [
    {
     "name": "stdout",
     "output_type": "stream",
     "text": [
      "1\n",
      "2\n",
      "3\n",
      "4\n",
      "5\n",
      "6\n",
      "7\n",
      "8\n",
      "9\n",
      "10\n"
     ]
    }
   ],
   "source": [
    "for i in range(1,11):\n",
    "    if i==5 and i==8 and i==7:\n",
    "        continue                           #at a time tino equal nh ho skte hai.\n",
    "    print(i) "
   ]
  },
  {
   "cell_type": "markdown",
   "id": "87fdf35a",
   "metadata": {},
   "source": [
    "# NOTE :\n",
    "\n",
    " In python we will use \"else block\"  with \"for loop\" it will execute after successful execution of \"for loop\" but if \n",
    " \n",
    " \"for loop\" will terminate by \"break keyword\" then \"else block\" will not execute."
   ]
  },
  {
   "cell_type": "code",
   "execution_count": 9,
   "id": "bf150cf4",
   "metadata": {},
   "outputs": [
    {
     "name": "stdout",
     "output_type": "stream",
     "text": [
      "1\n",
      "2\n",
      "3\n",
      "4\n",
      "5\n",
      "6\n",
      "7\n",
      "8\n",
      "9\n",
      "10\n",
      "else block is running\n"
     ]
    }
   ],
   "source": [
    "for i in range(1,11):\n",
    "    print(i)\n",
    "else:\n",
    "    print(\"else block is running\")"
   ]
  },
  {
   "cell_type": "code",
   "execution_count": 10,
   "id": "4178d817",
   "metadata": {},
   "outputs": [
    {
     "name": "stdout",
     "output_type": "stream",
     "text": [
      "1\n",
      "2\n",
      "3\n",
      "4\n"
     ]
    }
   ],
   "source": [
    "for i in range(1,11):\n",
    "    if i==5:\n",
    "        break\n",
    "    print(i)\n",
    "else:\n",
    "    print(\"else block is running\")"
   ]
  },
  {
   "cell_type": "code",
   "execution_count": 3,
   "id": "9b285d1b",
   "metadata": {},
   "outputs": [
    {
     "name": "stdout",
     "output_type": "stream",
     "text": [
      "5 is prime\n"
     ]
    }
   ],
   "source": [
    "n=5\n",
    "if n==0 or n==1:\n",
    "    print(n,\"is not prime\")\n",
    "else:\n",
    "    for i in range(2,n):\n",
    "        if n%i==0:\n",
    "            print(n,\"is not prime\")\n",
    "            break\n",
    "    else:\n",
    "        print(n,\"is prime\")"
   ]
  },
  {
   "cell_type": "markdown",
   "id": "f3c730c1",
   "metadata": {},
   "source": [
    "# fibonacci series\n",
    "0\n",
    "1\n",
    "2\n",
    "3\n",
    "4\n",
    "5"
   ]
  },
  {
   "cell_type": "code",
   "execution_count": 2,
   "id": "14ce8b7e",
   "metadata": {},
   "outputs": [
    {
     "name": "stdout",
     "output_type": "stream",
     "text": [
      "Enter Terms :7\n",
      "0\n",
      "1\n",
      "1\n",
      "2\n",
      "3\n",
      "5\n",
      "8\n"
     ]
    }
   ],
   "source": [
    "t=int(input(\"Enter Terms :\"))\n",
    "a=0\n",
    "b=1\n",
    "if t==1:\n",
    "    print(a)\n",
    "else:\n",
    "    print(a)\n",
    "    print(b)\n",
    "    t=t-2\n",
    "    for i in range(t):\n",
    "        c=a+b\n",
    "        print(c)\n",
    "        a,b=b,c"
   ]
  },
  {
   "cell_type": "code",
   "execution_count": 5,
   "id": "4aedd1cf",
   "metadata": {},
   "outputs": [
    {
     "name": "stdout",
     "output_type": "stream",
     "text": [
      "enter terms1\n",
      "0\n"
     ]
    }
   ],
   "source": [
    "t=int(input(\"enter terms\"))\n",
    "a=0\n",
    "b=1\n",
    "if t==1:\n",
    "    print(a)\n",
    "else:\n",
    "    print(a)\n",
    "    print(b)\n",
    "    t=t-2\n",
    "    for i in range(t):\n",
    "        c=a+b\n",
    "        print(c)\n",
    "        a,b=b,c\n",
    "        "
   ]
  },
  {
   "cell_type": "code",
   "execution_count": 6,
   "id": "7e7d0276",
   "metadata": {},
   "outputs": [
    {
     "name": "stdout",
     "output_type": "stream",
     "text": [
      "enter terms2\n",
      "0\n",
      "1\n"
     ]
    }
   ],
   "source": [
    "t=int(input(\"enter terms\"))\n",
    "a=0\n",
    "b=1\n",
    "if t==1:\n",
    "    print(a)\n",
    "else:\n",
    "    print(a)\n",
    "    print(b)\n",
    "    t=t-2\n",
    "    for i in range(t):\n",
    "        c=a+b\n",
    "        print(c)\n",
    "        a,b=b,c"
   ]
  },
  {
   "cell_type": "code",
   "execution_count": 7,
   "id": "e4db73be",
   "metadata": {},
   "outputs": [
    {
     "name": "stdout",
     "output_type": "stream",
     "text": [
      "enter terms3\n",
      "0\n",
      "1\n",
      "1\n"
     ]
    }
   ],
   "source": [
    "t=int(input(\"enter terms\"))\n",
    "a=0\n",
    "b=1\n",
    "if t==1:\n",
    "    print(a)\n",
    "else:\n",
    "    print(a)\n",
    "    print(b)\n",
    "    t=t-2\n",
    "    for i in range(t):\n",
    "        c=a+b\n",
    "        print(c)\n",
    "        a,b=b,c"
   ]
  },
  {
   "cell_type": "code",
   "execution_count": null,
   "id": "33cc9b03",
   "metadata": {},
   "outputs": [],
   "source": [
    "sbse phle 2 var le luga ie a=0 n b=1 this is for start, then ek condition le luga jisme agr user input 1 dal de to zero \n",
    "print krwa sku with the help of print(a)..ab else block m a n b dono ko print krwa duga thik h cz agr user 1 se jyda value \n",
    "enter kre to 0 n 1 to print hona he h...ab user jo b value enter kre usme se m dono var a n b ko minus krwa duga taki\n",
    "loop bs age wali value ke liye he chle cz 0 n 1 to print ho he jayega agr 1 se bdi value user enter krta h to ...so hm\n",
    "t=t-2 kr denge...abb hm loop chalayege then a n b ke sum ko ek var c m store krwa denge then use print krwa denge....n last m \n",
    "a n b ko swap krwa dnege b n c se like a,b=b,c."
   ]
  },
  {
   "cell_type": "code",
   "execution_count": null,
   "id": "0be3f6c7",
   "metadata": {},
   "outputs": [],
   "source": []
  },
  {
   "cell_type": "code",
   "execution_count": null,
   "id": "b22d95c9",
   "metadata": {},
   "outputs": [],
   "source": []
  },
  {
   "cell_type": "code",
   "execution_count": null,
   "id": "6d8a5fca",
   "metadata": {},
   "outputs": [],
   "source": []
  },
  {
   "cell_type": "code",
   "execution_count": null,
   "id": "84c85c01",
   "metadata": {},
   "outputs": [],
   "source": []
  },
  {
   "cell_type": "code",
   "execution_count": null,
   "id": "71fba5c5",
   "metadata": {},
   "outputs": [],
   "source": []
  },
  {
   "cell_type": "code",
   "execution_count": null,
   "id": "b745dfcb",
   "metadata": {},
   "outputs": [],
   "source": []
  },
  {
   "cell_type": "code",
   "execution_count": null,
   "id": "fa4096c9",
   "metadata": {},
   "outputs": [],
   "source": []
  },
  {
   "cell_type": "code",
   "execution_count": null,
   "id": "16cfcb24",
   "metadata": {},
   "outputs": [],
   "source": []
  },
  {
   "cell_type": "code",
   "execution_count": null,
   "id": "31a0cf00",
   "metadata": {},
   "outputs": [],
   "source": []
  },
  {
   "cell_type": "code",
   "execution_count": null,
   "id": "b42908a4",
   "metadata": {},
   "outputs": [],
   "source": []
  },
  {
   "cell_type": "code",
   "execution_count": null,
   "id": "b50c9ed7",
   "metadata": {},
   "outputs": [],
   "source": []
  },
  {
   "cell_type": "code",
   "execution_count": null,
   "id": "d3e30815",
   "metadata": {},
   "outputs": [],
   "source": []
  },
  {
   "cell_type": "code",
   "execution_count": null,
   "id": "27f80a48",
   "metadata": {},
   "outputs": [],
   "source": []
  },
  {
   "cell_type": "code",
   "execution_count": null,
   "id": "dd3fd833",
   "metadata": {},
   "outputs": [],
   "source": []
  },
  {
   "cell_type": "code",
   "execution_count": null,
   "id": "f669b1d3",
   "metadata": {},
   "outputs": [],
   "source": []
  },
  {
   "cell_type": "code",
   "execution_count": null,
   "id": "056a7507",
   "metadata": {},
   "outputs": [],
   "source": []
  },
  {
   "cell_type": "code",
   "execution_count": null,
   "id": "b79681fa",
   "metadata": {},
   "outputs": [],
   "source": []
  },
  {
   "cell_type": "code",
   "execution_count": null,
   "id": "b66693b1",
   "metadata": {},
   "outputs": [],
   "source": []
  },
  {
   "cell_type": "code",
   "execution_count": null,
   "id": "4be1f430",
   "metadata": {},
   "outputs": [],
   "source": []
  },
  {
   "cell_type": "code",
   "execution_count": null,
   "id": "0b27eb60",
   "metadata": {},
   "outputs": [],
   "source": []
  },
  {
   "cell_type": "code",
   "execution_count": null,
   "id": "dbc53535",
   "metadata": {},
   "outputs": [],
   "source": []
  },
  {
   "cell_type": "code",
   "execution_count": null,
   "id": "aea79660",
   "metadata": {},
   "outputs": [],
   "source": []
  },
  {
   "cell_type": "code",
   "execution_count": null,
   "id": "6aa06bd1",
   "metadata": {},
   "outputs": [],
   "source": []
  },
  {
   "cell_type": "code",
   "execution_count": null,
   "id": "5a860731",
   "metadata": {},
   "outputs": [],
   "source": []
  },
  {
   "cell_type": "code",
   "execution_count": null,
   "id": "683302df",
   "metadata": {},
   "outputs": [],
   "source": []
  },
  {
   "cell_type": "code",
   "execution_count": null,
   "id": "983751f0",
   "metadata": {},
   "outputs": [],
   "source": []
  },
  {
   "cell_type": "code",
   "execution_count": null,
   "id": "39467694",
   "metadata": {},
   "outputs": [],
   "source": []
  },
  {
   "cell_type": "code",
   "execution_count": null,
   "id": "dc852e9a",
   "metadata": {},
   "outputs": [],
   "source": []
  },
  {
   "cell_type": "code",
   "execution_count": null,
   "id": "e32fc17a",
   "metadata": {},
   "outputs": [],
   "source": []
  },
  {
   "cell_type": "code",
   "execution_count": null,
   "id": "e841fd46",
   "metadata": {},
   "outputs": [],
   "source": []
  },
  {
   "cell_type": "code",
   "execution_count": null,
   "id": "fbf25f50",
   "metadata": {},
   "outputs": [],
   "source": []
  }
 ],
 "metadata": {
  "kernelspec": {
   "display_name": "Python 3 (ipykernel)",
   "language": "python",
   "name": "python3"
  },
  "language_info": {
   "codemirror_mode": {
    "name": "ipython",
    "version": 3
   },
   "file_extension": ".py",
   "mimetype": "text/x-python",
   "name": "python",
   "nbconvert_exporter": "python",
   "pygments_lexer": "ipython3",
   "version": "3.9.7"
  }
 },
 "nbformat": 4,
 "nbformat_minor": 5
}
