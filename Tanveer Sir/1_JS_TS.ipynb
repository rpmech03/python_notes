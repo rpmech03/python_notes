{
 "cells": [
  {
   "cell_type": "markdown",
   "id": "e980e03e",
   "metadata": {},
   "source": [
    "# There are 3 types of scripts in js---\n",
    "\n",
    "1_window\n",
    "2_document\n",
    "3_console\n",
    "\n",
    "http---stateless protocol ...all browsers are http's specific...state couldnt maintain b/w client and server...if we want to maintain state then we have to use sessions...if cookies used then u r definitely using session...\n",
    "\n",
    "console n document is a predefined obj...\n",
    "\n",
    "##DOT(.) :\n",
    "\n",
    "member access operator through which we can access or call data members and member fun with the help of an object.\n",
    "\n",
    "js follow camel case means whatever fun you are using which is 1st letter is capital and remaining are small letter and again new word is starting which is 1st letter will be capital and remaing are small letters.\n",
    "\n",
    "console is a obj ,dot is a member access operator and log is a method.\n",
    "\n",
    "##We have 3 messages on console ie \n",
    "\n",
    "1_normal msg by log method.\n",
    "2_warning msg by warn method.\n",
    "3_error by error method.\n",
    "\n",
    "alert ke case m option h hmare pas ki ap window add kro ya nh baki kisi or m nh h..cz window nh use krte h to wo automatically add kr deta h.\n",
    "\n"
   ]
  }
 ],
 "metadata": {
  "kernelspec": {
   "display_name": "Python 3 (ipykernel)",
   "language": "python",
   "name": "python3"
  },
  "language_info": {
   "codemirror_mode": {
    "name": "ipython",
    "version": 3
   },
   "file_extension": ".py",
   "mimetype": "text/x-python",
   "name": "python",
   "nbconvert_exporter": "python",
   "pygments_lexer": "ipython3",
   "version": "3.9.7"
  }
 },
 "nbformat": 4,
 "nbformat_minor": 5
}
