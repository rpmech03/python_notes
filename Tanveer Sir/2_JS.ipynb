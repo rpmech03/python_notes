{
 "cells": [
  {
   "cell_type": "markdown",
   "id": "79dd52b8",
   "metadata": {},
   "source": [
    "# DOCUMENT OBJECT MODEL:\n",
    "\n",
    "document is a predefined obj through which we can perform some imp operations within a html page using javascript.We can call \n",
    "n no of fun by using document objects.\n",
    "\n",
    "COMMENTS ARE document area of program which is not execute during program execution.In js we will use 2 types of comments...\n",
    "\n",
    "1_SINGLE LINE COMMENT:\n",
    "\n",
    "We will use double back slash(//) to comment out a single line.\n",
    "\n",
    "2_MULTILINE COMMENT:\n",
    "\n",
    "shift+/\n",
    "\n",
    "##VARIABLE:\n",
    "\n",
    "It is a name of memory location which is use to store      we can modify or change many time during program execution.We can define js variable with the help of var,let,const keyword,with the help of type of keyword we can identify data type of variable.\n",
    "\n",
    "##TYPE CASTING :\n",
    "\n"
   ]
  }
 ],
 "metadata": {
  "kernelspec": {
   "display_name": "Python 3 (ipykernel)",
   "language": "python",
   "name": "python3"
  },
  "language_info": {
   "codemirror_mode": {
    "name": "ipython",
    "version": 3
   },
   "file_extension": ".py",
   "mimetype": "text/x-python",
   "name": "python",
   "nbconvert_exporter": "python",
   "pygments_lexer": "ipython3",
   "version": "3.9.7"
  }
 },
 "nbformat": 4,
 "nbformat_minor": 5
}
