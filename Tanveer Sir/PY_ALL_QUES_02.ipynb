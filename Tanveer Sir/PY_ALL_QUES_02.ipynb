{
 "cells": [
  {
   "cell_type": "code",
   "execution_count": 2,
   "id": "9cc6081d",
   "metadata": {},
   "outputs": [
    {
     "name": "stdout",
     "output_type": "stream",
     "text": [
      "total int 3\n",
      "total float 2\n",
      "total string 2\n"
     ]
    }
   ],
   "source": [
    "a=[10,20,30,12.5,13.6,\"hello\",\"python\"]\n",
    "ci=0\n",
    "cf=0\n",
    "cs=0\n",
    "for i in a:\n",
    "    if type(i)==int:\n",
    "        ci=ci+1\n",
    "    elif type(i)==float:\n",
    "        cf=cf+1\n",
    "    else:\n",
    "        cs=cs+1\n",
    "print(\"total int\",ci)\n",
    "print(\"total float\",cf)\n",
    "print(\"total string\",cs)"
   ]
  },
  {
   "cell_type": "code",
   "execution_count": 4,
   "id": "26e5eaf4",
   "metadata": {},
   "outputs": [
    {
     "name": "stdout",
     "output_type": "stream",
     "text": [
      "[12, 4, 3]\n",
      "[7, 5, 8]\n"
     ]
    }
   ],
   "source": [
    "# Program to transpose a matrix using a nested loop\n",
    "\n",
    "X = [[12,7],\n",
    "    [4 ,5],\n",
    "    [3 ,8]]\n",
    "\n",
    "result = [[0,0,0],\n",
    "         [0,0,0]]\n",
    "\n",
    "# iterate through rows\n",
    "for i in range(len(X)):\n",
    "   # iterate through columns\n",
    "   for j in range(len(X[0])):\n",
    "        result[j][i] = X[i][j]\n",
    "\n",
    "for r in result:\n",
    "    print(r)"
   ]
  },
  {
   "cell_type": "code",
   "execution_count": 2,
   "id": "19f3e826",
   "metadata": {},
   "outputs": [
    {
     "name": "stdout",
     "output_type": "stream",
     "text": [
      "[12, 4, 3]\n",
      "[7, 5, 8]\n"
     ]
    }
   ],
   "source": [
    "''' Program to transpose a matrix using list comprehension'''\n",
    "\n",
    "X = [[12,7],\n",
    "    [4 ,5],\n",
    "    [3 ,8]]\n",
    "\n",
    "result = [[X[i][j] for i in range(len(X))]for j in range(len(X[0]))]\n",
    "\n",
    "for r in result:\n",
    "    print(r)"
   ]
  },
  {
   "cell_type": "code",
   "execution_count": 3,
   "id": "3ce9c17b",
   "metadata": {},
   "outputs": [
    {
     "name": "stdout",
     "output_type": "stream",
     "text": [
      "(1, 2, 3)\n",
      "(4, 5, 6)\n",
      "(7, 8, 9)\n",
      "(10, 11, 12)\n",
      "\n",
      "\n",
      "(1, 4, 7, 10)\n",
      "(2, 5, 8, 11)\n",
      "(3, 6, 9, 12)\n"
     ]
    }
   ],
   "source": [
    "# Using zip: Zip returns an iterator of tuples, where the i-th tuple contains the i-th element from \n",
    "# each of the argument sequences or iterables. In this example we unzip our array using * and then zip it to get the transpose.\n",
    "\n",
    "matrix=[(1,2,3),(4,5,6),(7,8,9),(10,11,12)]\n",
    "for row in matrix:\n",
    "    print(row)\n",
    "print(\"\\n\")\n",
    "t_matrix = zip(*matrix)\n",
    "for row in t_matrix:\n",
    "    print(row)\n"
   ]
  },
  {
   "cell_type": "code",
   "execution_count": 3,
   "id": "fb2342de",
   "metadata": {},
   "outputs": [
    {
     "name": "stdout",
     "output_type": "stream",
     "text": [
      "[10, 20, 30]\n",
      "[40, 50, 60]\n",
      "[70, 80, 90]\n"
     ]
    }
   ],
   "source": [
    "a=[[10,20,30],[40,50,60],[70,80,90]]\n",
    "for i in a:\n",
    "    print(i)               # i m bhi list mil rhi hai so is list m se bhi har ek element nikalna h to ek or loop lgayege n us \n",
    "                           # i wali list m se ek2 element j m ayega n ye list nh matrix form m print hoga,u can see below-"
   ]
  },
  {
   "cell_type": "code",
   "execution_count": 4,
   "id": "d8d03448",
   "metadata": {},
   "outputs": [
    {
     "name": "stdout",
     "output_type": "stream",
     "text": [
      "10 20 30 \n",
      "40 50 60 \n",
      "70 80 90 \n"
     ]
    }
   ],
   "source": [
    "a=[[10,20,30],[40,50,60],[70,80,90]]\n",
    "for i in a:\n",
    "    for j in i:\n",
    "        print(j,end=\" \")\n",
    "    print()"
   ]
  },
  {
   "cell_type": "code",
   "execution_count": 5,
   "id": "08fb6e06",
   "metadata": {},
   "outputs": [
    {
     "name": "stdout",
     "output_type": "stream",
     "text": [
      "450\n"
     ]
    }
   ],
   "source": [
    "a=[[10,20,30],[40,50,60],[70,80,90]]     #yha list h to ek2 element nikal kr add kiya jayega n wo element hm j wala loop \n",
    "s=0                                      #lgakr nikalege then uska sum kr denge s=s+j krke n bahr ek variable b man lenge.\n",
    "for i in a:                              \n",
    "    for j in i:\n",
    "        s=s+j\n",
    "print(s)"
   ]
  },
  {
   "cell_type": "code",
   "execution_count": 3,
   "id": "36a4850a",
   "metadata": {},
   "outputs": [
    {
     "name": "stdout",
     "output_type": "stream",
     "text": [
      "450\n"
     ]
    }
   ],
   "source": [
    "a=[[10,20,30],[40,50,60],[70,80,90]]     #yha list h to ek2 element nikal kr add kiya jayega n wo element hm j wala loop \n",
    "s=0                                      #lgakr nikalege then uska sum kr denge s=s+j krke n bahr ek variable b man lenge.\n",
    "for i in a:                              \n",
    "    s=s+sum(i)\n",
    "print(s)"
   ]
  },
  {
   "cell_type": "code",
   "execution_count": 6,
   "id": "af84d5ff",
   "metadata": {},
   "outputs": [
    {
     "name": "stdout",
     "output_type": "stream",
     "text": [
      "450\n"
     ]
    }
   ],
   "source": [
    "a=[[10,20,30],[40,50,60],70,80,90]      #yha normal element b h to kya kre,krna kch nh h i ka type check kr lenge n agr list h\n",
    "s=0                                     #to ek2 element j m nikal krke add kr lenge n jo list m nh h means normal element h use\n",
    "for i in a:                             # else wali condition lgakr directly add kr lenge so like that we got the sum.\n",
    "    if type(i)==list:\n",
    "        for j in i:\n",
    "                s=s+j\n",
    "    else:\n",
    "        s=s+i\n",
    "print(s)"
   ]
  },
  {
   "cell_type": "code",
   "execution_count": 1,
   "id": "6be64e59",
   "metadata": {},
   "outputs": [
    {
     "name": "stdout",
     "output_type": "stream",
     "text": [
      "enter num of rows3\n",
      "enter num of cols3\n",
      "enter 3 elements for row 1\n",
      "1\n",
      "2\n",
      "3\n",
      "enter 3 elements for row 2\n",
      "4\n",
      "5\n",
      "6\n",
      "enter 3 elements for row 3\n",
      "7\n",
      "8\n",
      "9\n",
      "[[1, 2, 3], [4, 5, 6], [7, 8, 9]] "
     ]
    }
   ],
   "source": [
    "a=[]                                    #har row ke liye ek empty list lena hai ie b here,n next loop column ke liye chla rhe h\n",
    "r=int(input(\"enter num of rows\"))       #so jo b input hm dalege wo sb ek empty list b m jata jayega or can say append krwa \n",
    "c=int(input(\"enter num of cols\"))       #lenge,after that we will again append it into list a.\n",
    "for i in range(1,r+1):\n",
    "    print(\"enter\",c,\"elements for row\",i)\n",
    "    b=[]\n",
    "    for j in range(1,c+1):\n",
    "        b.append(int(input()))\n",
    "    a.append(b)\n",
    "print(a,end=' ')"
   ]
  },
  {
   "cell_type": "code",
   "execution_count": null,
   "id": "f5df2b1f",
   "metadata": {},
   "outputs": [],
   "source": []
  }
 ],
 "metadata": {
  "kernelspec": {
   "display_name": "Python 3 (ipykernel)",
   "language": "python",
   "name": "python3"
  },
  "language_info": {
   "codemirror_mode": {
    "name": "ipython",
    "version": 3
   },
   "file_extension": ".py",
   "mimetype": "text/x-python",
   "name": "python",
   "nbconvert_exporter": "python",
   "pygments_lexer": "ipython3",
   "version": "3.9.7"
  }
 },
 "nbformat": 4,
 "nbformat_minor": 5
}
