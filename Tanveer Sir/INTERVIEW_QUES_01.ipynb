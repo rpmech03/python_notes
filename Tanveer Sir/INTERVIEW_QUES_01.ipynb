{
 "cells": [
  {
   "cell_type": "code",
   "execution_count": null,
   "id": "146c62df",
   "metadata": {},
   "outputs": [],
   "source": [
    "# WHAT IS GIL(GLOBAL INTERPRETER LOCK)?\n",
    "\n",
    "# Python m multi-threading jyada support nh krti h so usi ko rokn e ke liye gil ka use kiya jata h..cz jb python m multi-threading \n",
    "# hone lgti h to deadlock ki condition ajati h so isi se bchne ke liye gil ka use kiya jata h."
   ]
  },
  {
   "cell_type": "code",
   "execution_count": null,
   "id": "e0990b33",
   "metadata": {},
   "outputs": [],
   "source": [
    "# WHAT IS NAMESPACE?\n",
    "\n",
    "# in python we are dealing with variables,fun,libraries n modules so we should not use predefined variable or modules etc ."
   ]
  },
  {
   "cell_type": "code",
   "execution_count": null,
   "id": "0685e725",
   "metadata": {},
   "outputs": [],
   "source": [
    "#what is middleware?\n",
    "\n",
    "#FE se jo request ati h n BE pe jo response ata h,in dono ke bich m jo layer hoti use he middleware khte h..ye security purpose \n",
    "#ke liye use krte h                                                                                      "
   ]
  },
  {
   "cell_type": "code",
   "execution_count": null,
   "id": "6418b412",
   "metadata": {},
   "outputs": [],
   "source": []
  },
  {
   "cell_type": "code",
   "execution_count": null,
   "id": "aae15f7d",
   "metadata": {},
   "outputs": [],
   "source": []
  },
  {
   "cell_type": "code",
   "execution_count": null,
   "id": "fae178f9",
   "metadata": {},
   "outputs": [],
   "source": []
  },
  {
   "cell_type": "code",
   "execution_count": null,
   "id": "f9c6dfbf",
   "metadata": {},
   "outputs": [],
   "source": []
  },
  {
   "cell_type": "code",
   "execution_count": null,
   "id": "ba99b6e8",
   "metadata": {},
   "outputs": [],
   "source": []
  },
  {
   "cell_type": "code",
   "execution_count": null,
   "id": "273a8410",
   "metadata": {},
   "outputs": [],
   "source": []
  }
 ],
 "metadata": {
  "kernelspec": {
   "display_name": "Python 3 (ipykernel)",
   "language": "python",
   "name": "python3"
  },
  "language_info": {
   "codemirror_mode": {
    "name": "ipython",
    "version": 3
   },
   "file_extension": ".py",
   "mimetype": "text/x-python",
   "name": "python",
   "nbconvert_exporter": "python",
   "pygments_lexer": "ipython3",
   "version": "3.9.7"
  }
 },
 "nbformat": 4,
 "nbformat_minor": 5
}
