{
 "cells": [
  {
   "cell_type": "markdown",
   "id": "5f8e9977",
   "metadata": {},
   "source": [
    "# Take size of the list and list element from user-\n"
   ]
  },
  {
   "cell_type": "code",
   "execution_count": 2,
   "id": "302dc42a",
   "metadata": {
    "scrolled": true
   },
   "outputs": [
    {
     "name": "stdout",
     "output_type": "stream",
     "text": [
      "enter size of list3\n",
      "enter 3 elements\n",
      "enter 1 element\n",
      "1\n",
      "enter 2 element\n",
      "2\n",
      "enter 3 element\n",
      "3\n",
      "[1, 2, 3]\n"
     ]
    }
   ],
   "source": [
    "a=[]\n",
    "s=int(input(\"enter size of list\"))\n",
    "print(\"enter\",s,\"elements\")\n",
    "for i in range(1,s+1):\n",
    "    print(\"enter\",i,\"element\")\n",
    "    t=int(input())\n",
    "    a.append(t)\n",
    "print(a)"
   ]
  },
  {
   "cell_type": "markdown",
   "id": "b00eac86",
   "metadata": {},
   "source": [
    "# Sum of the list :"
   ]
  },
  {
   "cell_type": "code",
   "execution_count": 3,
   "id": "80211f72",
   "metadata": {},
   "outputs": [
    {
     "name": "stdout",
     "output_type": "stream",
     "text": [
      "enter size of list :3\n",
      "enter 3 elements\n",
      "enter 1 element\n",
      "1\n",
      "enter 2 element\n",
      "2\n",
      "enter 3 element\n",
      "3\n",
      "[1, 2, 3]\n",
      "sum of the list 6\n"
     ]
    }
   ],
   "source": [
    "a=[]\n",
    "s=int(input(\"enter size of list :\"))\n",
    "print(\"enter\",s,\"elements\")\n",
    "for i in range(1,s+1):\n",
    "    print(\"enter\",i,\"element\")\n",
    "    t=int(input())\n",
    "    a.append(t)\n",
    "print(a)\n",
    "sum=0\n",
    "for i in a:\n",
    "    sum=sum+i\n",
    "print(\"sum of the list\",sum)"
   ]
  },
  {
   "cell_type": "markdown",
   "id": "8b3292a6",
   "metadata": {},
   "source": [
    "# With the help of Length ,find out sum of the list :\n"
   ]
  },
  {
   "cell_type": "code",
   "execution_count": 4,
   "id": "1a390831",
   "metadata": {},
   "outputs": [
    {
     "name": "stdout",
     "output_type": "stream",
     "text": [
      "enter size of list :3\n",
      "enter 3 elements\n",
      "enter 1 element\n",
      "1\n",
      "enter 2 element\n",
      "2\n",
      "enter 3 element\n",
      "3\n",
      "[1, 2, 3]\n",
      "6\n"
     ]
    }
   ],
   "source": [
    "a=[]\n",
    "s=int(input(\"enter size of list :\"))\n",
    "print(\"enter\",s,\"elements\")\n",
    "for i in range(1,s+1):\n",
    "    print(\"enter\",i,\"element\")\n",
    "    t=int(input())\n",
    "    a.append(t)\n",
    "print(a)\n",
    "sum=0\n",
    "for i in range(len(a)):\n",
    "    sum = sum + a[i]\n",
    "print(sum)"
   ]
  },
  {
   "cell_type": "markdown",
   "id": "c8bd97f9",
   "metadata": {},
   "source": [
    "# Smallest and Biggest Element in list:"
   ]
  },
  {
   "cell_type": "code",
   "execution_count": 5,
   "id": "442e2621",
   "metadata": {},
   "outputs": [
    {
     "name": "stdout",
     "output_type": "stream",
     "text": [
      "enter size of list :3\n",
      "enter 3 elements\n",
      "enter 1 element\n",
      "1\n",
      "enter 2 element\n",
      "2\n",
      "enter 3 element\n",
      "3\n",
      "[1, 2, 3]\n",
      "smallest element is 1\n",
      "Biggest element is 3\n"
     ]
    }
   ],
   "source": [
    "a=[]\n",
    "s=int(input(\"enter size of list :\"))\n",
    "print(\"enter\",s,\"elements\")\n",
    "for i in range(1,s+1):\n",
    "    print(\"enter\",i,\"element\")\n",
    "    t = int(input())\n",
    "    a.append(t)\n",
    "print(a)\n",
    "a.sort()\n",
    "print(\"smallest element is\",a[0])\n",
    "a.reverse()\n",
    "print(\"Biggest element is\",a[0])"
   ]
  },
  {
   "cell_type": "markdown",
   "id": "a12bc9e2",
   "metadata": {},
   "source": [
    "# Sum of Even and odd No Individually:"
   ]
  },
  {
   "cell_type": "code",
   "execution_count": 6,
   "id": "ad02ebb3",
   "metadata": {},
   "outputs": [
    {
     "name": "stdout",
     "output_type": "stream",
     "text": [
      "enter size of list3\n",
      "enter 3 elements\n",
      "enter 1 element\n",
      "1\n",
      "enter 2 element\n",
      "2\n",
      "enter 3 element\n",
      "3\n",
      "[1, 2, 3]\n",
      "sum of even is 2\n",
      "sum of odd is 4\n"
     ]
    }
   ],
   "source": [
    "a=[]\n",
    "s=int(input(\"enter size of list\"))\n",
    "print(\"enter\",s,\"elements\")\n",
    "for i in range(1,s+1):\n",
    "    print(\"enter\",i,\"element\")\n",
    "    t=int(input())\n",
    "    a.append(t)\n",
    "print(a)\n",
    "se=0\n",
    "so=0\n",
    "for i in a:\n",
    "    if i%2==0:\n",
    "        se=se+i\n",
    "    else:\n",
    "        so=so+i\n",
    "print(\"sum of even is\",se)\n",
    "print(\"sum of odd is\",so)"
   ]
  },
  {
   "cell_type": "markdown",
   "id": "afd8f19f",
   "metadata": {},
   "source": [
    "# 4_Find out repeated elements and their counts from the list---"
   ]
  },
  {
   "cell_type": "code",
   "execution_count": 7,
   "id": "82ad7c89",
   "metadata": {},
   "outputs": [
    {
     "name": "stdout",
     "output_type": "stream",
     "text": [
      "10 repeated 5 times\n",
      "20 repeated 4 times\n",
      "10 repeated 5 times\n",
      "20 repeated 4 times\n",
      "30 repeated 3 times\n",
      "40 repeated 4 times\n",
      "10 repeated 5 times\n",
      "20 repeated 4 times\n",
      "30 repeated 3 times\n",
      "40 repeated 4 times\n",
      "40 repeated 4 times\n",
      "50 repeated 2 times\n",
      "10 repeated 5 times\n",
      "20 repeated 4 times\n",
      "30 repeated 3 times\n",
      "40 repeated 4 times\n",
      "50 repeated 2 times\n",
      "60 repeated 2 times\n",
      "10 repeated 5 times\n",
      "60 repeated 2 times\n"
     ]
    }
   ],
   "source": [
    "a=[10,20,10,20,30,40,10,20,30,40,40,50,10,20,30,40,50,60,10,60]\n",
    "for i in a:\n",
    "     if a.count(i)>1 :\n",
    "            print(i,\"repeated\",a.count(i),\"times\")       #but isme problem h ki ye har bar bta rha h ki ye repeat ho rha h."
   ]
  },
  {
   "cell_type": "code",
   "execution_count": 8,
   "id": "9e2fc7a7",
   "metadata": {},
   "outputs": [
    {
     "name": "stdout",
     "output_type": "stream",
     "text": [
      "10 repeated 5 times\n",
      "20 repeated 4 times\n",
      "30 repeated 3 times\n",
      "40 repeated 4 times\n",
      "50 repeated 2 times\n",
      "60 repeated 2 times\n"
     ]
    }
   ],
   "source": [
    "a=[10,20,10,20,30,40,10,20,30,40,40,50,10,20,30,40,50,60,10,60]\n",
    "b=[]\n",
    "for i in a:\n",
    "     if a.count(i)>1 and i not in b:\n",
    "            print(i,\"repeated\",a.count(i),\"times\")\n",
    "            b.append(i)"
   ]
  },
  {
   "cell_type": "code",
   "execution_count": 9,
   "id": "0659d06e",
   "metadata": {},
   "outputs": [
    {
     "name": "stdout",
     "output_type": "stream",
     "text": [
      "10 repeated 5 times\n",
      "20 repeated 4 times\n",
      "30 repeated 3 times\n",
      "40 repeated 4 times\n",
      "50 repeated 2 times\n",
      "60 repeated 2 times\n",
      "sum of repeated elements is 210\n"
     ]
    }
   ],
   "source": [
    "a=[10,20,10,20,30,40,10,20,30,40,40,50,10,20,30,40,50,60,10,60]\n",
    "b=[]\n",
    "s=0\n",
    "for i in a:\n",
    "     if a.count(i)>1 and i not in b:\n",
    "            print(i,\"repeated\",a.count(i),\"times\")\n",
    "            b.append(i)\n",
    "            s=s+i\n",
    "print(\"sum of repeated elements is\",s)"
   ]
  },
  {
   "cell_type": "code",
   "execution_count": 10,
   "id": "89211936",
   "metadata": {},
   "outputs": [
    {
     "name": "stdout",
     "output_type": "stream",
     "text": [
      "list of non-repeated no : [1, 2, 3, 4, 5, 6]\n"
     ]
    }
   ],
   "source": [
    "a=[10,20,10,20,30,40,10,20,30,40,40,50,10,20,30,40,50,60,10,60,1,2,3,4,5,6]\n",
    "b=[]\n",
    "for i in a:\n",
    "     if a.count(i)<=1 and i not in b:\n",
    "            b.append(i)\n",
    "print(\"list of non-repeated no :\",b)"
   ]
  },
  {
   "cell_type": "markdown",
   "id": "8247d719",
   "metadata": {},
   "source": [
    "# SUM OF NON-REPEATED NO:"
   ]
  },
  {
   "cell_type": "code",
   "execution_count": 11,
   "id": "445b90a7",
   "metadata": {},
   "outputs": [
    {
     "name": "stdout",
     "output_type": "stream",
     "text": [
      "[9, 8, 7]\n",
      "24\n"
     ]
    }
   ],
   "source": [
    "a=[1,2,3,3,2,1,4,5,6,6,5,4,4,4,4,4,4,4,9,8,7]\n",
    "b=[]\n",
    "s=0\n",
    "for i in a:\n",
    "    if a.count(i)<=1:\n",
    "        b.append(i)\n",
    "        s=s+i\n",
    "print(b)\n",
    "print(s)\n"
   ]
  },
  {
   "cell_type": "code",
   "execution_count": 12,
   "id": "660f615b",
   "metadata": {},
   "outputs": [
    {
     "data": {
      "text/plain": [
       "'\\n1_find out factorial of each element in list\\n2_check each element of list is prime or not.\\n3_print sum of prime no and sum of non prime no from the list.\\n4_Find out repeated elements and their counts from the list.\\n# 1_print non repeated element from list\\n# 2_sum of non repeated elements.\\n'"
      ]
     },
     "execution_count": 12,
     "metadata": {},
     "output_type": "execute_result"
    }
   ],
   "source": [
    "'''\n",
    "1_find out factorial of each element in list\n",
    "2_check each element of list is prime or not.\n",
    "3_print sum of prime no and sum of non prime no from the list.\n",
    "4_Find out repeated elements and their counts from the list.\n",
    "# 1_print non repeated element from list\n",
    "# 2_sum of non repeated elements.\n",
    "'''"
   ]
  },
  {
   "cell_type": "markdown",
   "id": "362fcadd",
   "metadata": {},
   "source": [
    "# find out factorial of each element in list"
   ]
  },
  {
   "cell_type": "code",
   "execution_count": 13,
   "id": "ce056a39",
   "metadata": {},
   "outputs": [
    {
     "name": "stdout",
     "output_type": "stream",
     "text": [
      "enter size of list3\n",
      "enter 3 elements\n",
      "enter 1 element\n",
      "2\n",
      "enter 2 element\n",
      "3\n",
      "enter 3 element\n",
      "4\n",
      "[2, 3, 4]\n",
      "fact of  4 is  6\n"
     ]
    }
   ],
   "source": [
    "a=[]\n",
    "s=int(input(\"enter size of list\"))\n",
    "print(\"enter\",s,\"elements\")\n",
    "for i in range(1,s+1):\n",
    "    print(\"enter\",i,\"element\")\n",
    "    t=int(input())\n",
    "    a.append(t)\n",
    "print(a)\n",
    "f=1\n",
    "for j in range(1,s+1):\n",
    "    f=f*j\n",
    "print(\"fact of \",t,\"is \",f)"
   ]
  },
  {
   "cell_type": "code",
   "execution_count": 16,
   "id": "0fffdf53",
   "metadata": {},
   "outputs": [
    {
     "name": "stdout",
     "output_type": "stream",
     "text": [
      "enter size of list :4\n",
      "3\n",
      "7\n",
      "9\n",
      "3\n",
      "[3, 7, 9, 3]\n"
     ]
    }
   ],
   "source": [
    "a=[]\n",
    "n=int(input(\"enter size of list :\"))\n",
    "for i in range(n):\n",
    "    t=int(input())\n",
    "    a.append(t)\n",
    "print(a)"
   ]
  },
  {
   "cell_type": "code",
   "execution_count": 17,
   "id": "93d70adc",
   "metadata": {},
   "outputs": [
    {
     "name": "stdout",
     "output_type": "stream",
     "text": [
      "[3, 7, 9, 3]\n",
      "3  is prime \n",
      "7  is prime \n",
      "9  is not a prime\n",
      "3  is prime \n"
     ]
    }
   ],
   "source": [
    "print(a)\n",
    "for i in a:\n",
    "    for j in range(2,i):#2 se lekr man lo 9 tk jana ho so 9 ko 2,3,4,5,6,7,8 in sb se devide krke dekhege,agr divide ho gya \n",
    "        if i%j==0:#so man lo ki non prime h.\n",
    "            print(i,\" is not a prime\")\n",
    "            break#jha divide ho jaye wha loop break rk do\n",
    "    else:\n",
    "        print(i,\" is prime \")"
   ]
  },
  {
   "cell_type": "code",
   "execution_count": null,
   "id": "4f0e6221",
   "metadata": {},
   "outputs": [],
   "source": []
  }
 ],
 "metadata": {
  "kernelspec": {
   "display_name": "Python 3 (ipykernel)",
   "language": "python",
   "name": "python3"
  },
  "language_info": {
   "codemirror_mode": {
    "name": "ipython",
    "version": 3
   },
   "file_extension": ".py",
   "mimetype": "text/x-python",
   "name": "python",
   "nbconvert_exporter": "python",
   "pygments_lexer": "ipython3",
   "version": "3.9.7"
  }
 },
 "nbformat": 4,
 "nbformat_minor": 5
}
