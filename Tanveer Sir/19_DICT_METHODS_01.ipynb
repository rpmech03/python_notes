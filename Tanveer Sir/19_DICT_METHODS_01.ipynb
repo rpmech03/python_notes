{
 "cells": [
  {
   "cell_type": "markdown",
   "id": "2ff1d98b",
   "metadata": {},
   "source": [
    "# Dictionary :\n",
    "                     \n",
    "Dictionary is a collection which is mainly used to store values based on keys.\n",
    "                     \n",
    "We can store unique keys in dictionary and store duplicate values in dictionary.(n agr duplicate value dal bhi di to last wali duplicate value replace kr dega first wali ko)\n",
    "                     \n",
    "Dictionay is an index based collection.\n",
    "                     \n",
    "It contains insertion order after python 3.5.(means3.5 version ke bad se insertion order aya h usse phle nh tha)\n",
    "                     \n",
    "We can also update elements of dict.\n",
    "                     \n",
    "We can create a python dict with the help of following two ways-\n",
    "                     \n",
    "a={}\n",
    "print(a)\n",
    "print(type(a))\n",
    "a=dict()#dict by constructor\n",
    "print(a)\n",
    "print(type(a))\n",
    "                     \n",
    "We will represent indexes of dictionary by their keys.(Dict m key wale indexes hote h)\n",
    "                     \n",
    "Keys can never be duplicate."
   ]
  },
  {
   "cell_type": "code",
   "execution_count": 1,
   "id": "dc47fe5f",
   "metadata": {},
   "outputs": [
    {
     "name": "stdout",
     "output_type": "stream",
     "text": [
      "{}\n",
      "<class 'dict'>\n",
      "{}\n",
      "<class 'dict'>\n"
     ]
    }
   ],
   "source": [
    "a={}\n",
    "print(a)\n",
    "print(type(a))\n",
    "a=dict()#dict by constructor\n",
    "print(a)\n",
    "print(type(a))"
   ]
  },
  {
   "cell_type": "code",
   "execution_count": 1,
   "id": "3318e0e5",
   "metadata": {},
   "outputs": [
    {
     "name": "stdout",
     "output_type": "stream",
     "text": [
      "{'roll': 101, 'name': 'jay', 'mobile': 9643837, 'reference': 'jay'}\n"
     ]
    }
   ],
   "source": [
    "a={                   \n",
    "     'roll': 101,      \n",
    "    'name': 'ajay',   \n",
    "    'mobile': 9643837,\n",
    "    'name' :'jay',     \n",
    "    'reference':'jay'\n",
    "}\n",
    "print(a)\n",
    "\n",
    "\n",
    "#yha key always unique rhegi n values can be duplicate but hmne yha do same key di h so wo last wali lega.\n",
    "# We will represent indexes of dictionary by their keys.\n",
    "#ajay islye print nh hua cz usko replace kr diya jay wali key ne.\n",
    "#yha key unique h it shows by name print hua h last wala n 1st wale ko replace kr diya h.\n",
    "#values can be duplicate which is shown by reference ."
   ]
  },
  {
   "cell_type": "code",
   "execution_count": 8,
   "id": "c5d339c9",
   "metadata": {},
   "outputs": [
    {
     "name": "stdout",
     "output_type": "stream",
     "text": [
      "101\n",
      "{'roll': 101, 'name': 'jay', 'mobile': 9643837, 'reference': 'jay'}\n"
     ]
    }
   ],
   "source": [
    "a={                  #ise indexed based collection islye nh kha jata h cz hm yha ise index se represent nh krte h,yha hm \n",
    "'roll': 101,         #represent krte h by keys like hme print krna h a ka roll no so hm directly likh dege wha.\n",
    "'name': 'ajay',\n",
    " 'mobile': 9643837,\n",
    "'name' :'jay', \n",
    "'reference':'jay'\n",
    "}\n",
    "print(a['roll'])\n",
    "print(a)"
   ]
  },
  {
   "cell_type": "code",
   "execution_count": 9,
   "id": "b34e9767",
   "metadata": {},
   "outputs": [
    {
     "ename": "SyntaxError",
     "evalue": "invalid syntax (Temp/ipykernel_11288/3785295297.py, line 5)",
     "output_type": "error",
     "traceback": [
      "\u001b[1;36m  File \u001b[1;32m\"C:\\Users\\HZT\\AppData\\Local\\Temp/ipykernel_11288/3785295297.py\"\u001b[1;36m, line \u001b[1;32m5\u001b[0m\n\u001b[1;33m    'name' :'jay',\u001b[0m\n\u001b[1;37m    ^\u001b[0m\n\u001b[1;31mSyntaxError\u001b[0m\u001b[1;31m:\u001b[0m invalid syntax\n"
     ]
    }
   ],
   "source": [
    "a={\n",
    "'roll': 101,\n",
    "'name': 'ajay',\n",
    " 'mobile': 9643837\n",
    "'name' :'jay', \n",
    "'reference':'jay'\n",
    "}\n",
    "print(a.roll)     #a.roll ye javascript m work krta h but yha python m nh krega.\n",
    "print(a)"
   ]
  },
  {
   "cell_type": "code",
   "execution_count": 11,
   "id": "4aefade0",
   "metadata": {},
   "outputs": [
    {
     "name": "stdout",
     "output_type": "stream",
     "text": [
      "101\n",
      "{'roll': 105, 'name': 'jay', 'mobile': 9643837, 'reference': 'jay'}\n"
     ]
    }
   ],
   "source": [
    "a={\n",
    "'roll': 101,\n",
    "'name': 'ajay',\n",
    " 'mobile': 9643837,\n",
    "'name' :'jay', \n",
    "'reference':'jay'\n",
    "}\n",
    "print(a['roll'])\n",
    "a['roll']=105       #We can also update the dictionary you can see we updated here roll no.\n",
    "print(a)"
   ]
  },
  {
   "cell_type": "code",
   "execution_count": 12,
   "id": "2d7abc94",
   "metadata": {},
   "outputs": [
    {
     "data": {
      "text/plain": [
       "['__class__',\n",
       " '__class_getitem__',\n",
       " '__contains__',\n",
       " '__delattr__',\n",
       " '__delitem__',\n",
       " '__dir__',\n",
       " '__doc__',\n",
       " '__eq__',\n",
       " '__format__',\n",
       " '__ge__',\n",
       " '__getattribute__',\n",
       " '__getitem__',\n",
       " '__gt__',\n",
       " '__hash__',\n",
       " '__init__',\n",
       " '__init_subclass__',\n",
       " '__ior__',\n",
       " '__iter__',\n",
       " '__le__',\n",
       " '__len__',\n",
       " '__lt__',\n",
       " '__ne__',\n",
       " '__new__',\n",
       " '__or__',\n",
       " '__reduce__',\n",
       " '__reduce_ex__',\n",
       " '__repr__',\n",
       " '__reversed__',\n",
       " '__ror__',\n",
       " '__setattr__',\n",
       " '__setitem__',\n",
       " '__sizeof__',\n",
       " '__str__',\n",
       " '__subclasshook__',\n",
       " 'clear',\n",
       " 'copy',\n",
       " 'fromkeys',\n",
       " 'get',\n",
       " 'items',\n",
       " 'keys',\n",
       " 'pop',\n",
       " 'popitem',\n",
       " 'setdefault',\n",
       " 'update',\n",
       " 'values']"
      ]
     },
     "execution_count": 12,
     "metadata": {},
     "output_type": "execute_result"
    }
   ],
   "source": [
    "dir(dict)"
   ]
  },
  {
   "cell_type": "markdown",
   "id": "220f812f",
   "metadata": {},
   "source": [
    "# Commonly used methods of dict class are-\n",
    "\n",
    "1_Clear: It is used to remove all elements of dict but it will not delete structure of dictionary. \n",
    "    \n",
    "2_Copy: It is used to create shallow copy of dict.\n",
    "    \n",
    "3_fromkeys: Create a new dictionary with keys from iterable and values set to value.\n",
    "    \n",
    "4_Get : It returns a value according to specified keys.It will take key in arguments and return value according to key.\n",
    "\n",
    "5_Items: It returns  like a zip object in form of list or tuple.\n",
    "    \n",
    "6_Keys: Keys method return list of keys from dictionary.\n",
    "\n",
    "7_Pop : Pop method remove a specified element according to key from dictionary and returns its value.\n",
    "    \n",
    "8_popitem : this method return a tuple that contains keys and values and remove last entry from dictionary.\n",
    "\n",
    "9_setdefault: this method is used to set a value according to specified key and dictionary but if key already exist in \n",
    "             dictionary then it will do nothing and return value corresponding to key.\n",
    "\n",
    "10_update: it is used to add another dict elements within a dictionary .\n",
    "    \n",
    "11_values: it returns list of values from dictionary."
   ]
  },
  {
   "cell_type": "code",
   "execution_count": 1,
   "id": "c57dfe9e",
   "metadata": {},
   "outputs": [
    {
     "name": "stdout",
     "output_type": "stream",
     "text": [
      "{}\n"
     ]
    }
   ],
   "source": [
    "a={\n",
    "    'roll':101,\n",
    "    'name':'ajay',\n",
    "    'address':'indore'\n",
    "}\n",
    "a.clear()   #it clears all elements and left empty dictionary.\n",
    "print(a)"
   ]
  },
  {
   "cell_type": "code",
   "execution_count": 19,
   "id": "2a180c00",
   "metadata": {},
   "outputs": [
    {
     "name": "stdout",
     "output_type": "stream",
     "text": [
      "{'roll': 101, 'name': 'ajay', 'address': 'indore'}\n"
     ]
    }
   ],
   "source": [
    "a={\n",
    "    'roll':101,\n",
    "    'name':'ajay',\n",
    "    'address':'indore'\n",
    "}\n",
    "b=a.copy()\n",
    "print(a)"
   ]
  },
  {
   "cell_type": "markdown",
   "id": "cda4f795",
   "metadata": {},
   "source": [
    "# CONVERSION FROM LIST TO DICTIONARY :"
   ]
  },
  {
   "cell_type": "code",
   "execution_count": 13,
   "id": "e46a1ae2",
   "metadata": {},
   "outputs": [
    {
     "name": "stdout",
     "output_type": "stream",
     "text": [
      "{'name': None, 'email': None, 'pwd': None}\n"
     ]
    }
   ],
   "source": [
    "b={}                    #is list ke according ek dictionary create krni h so kse krege uske liye fromkeys ka use krege n ek\n",
    "a=[\"name\",\"email\",\"pwd\"]    # empty dict create krege n agr isme none ki jgh kch or rkhna ho to hm (a,0)rkh dege.\n",
    "b=b.fromkeys(a)\n",
    "print(b)\n",
    "\n",
    "# Create a new dictionary with keys from iterable and values set to value."
   ]
  },
  {
   "cell_type": "code",
   "execution_count": 2,
   "id": "ec42a6a3",
   "metadata": {},
   "outputs": [
    {
     "name": "stdout",
     "output_type": "stream",
     "text": [
      "{'name': 0, 'email': 0, 'pwd': 0}\n"
     ]
    }
   ],
   "source": [
    "b={} \n",
    "a=[\"name\",\"email\",\"pwd\"]\n",
    "b=b.fromkeys(a,0)\n",
    "print(b)"
   ]
  },
  {
   "cell_type": "markdown",
   "id": "1c402bc6",
   "metadata": {},
   "source": [
    "'''NOTE : get m agr wrong key enter ki ho to return m none dega but index ke case m ye return krega error'''"
   ]
  },
  {
   "cell_type": "code",
   "execution_count": 20,
   "id": "208360d5",
   "metadata": {},
   "outputs": [
    {
     "name": "stdout",
     "output_type": "stream",
     "text": [
      "101\n"
     ]
    }
   ],
   "source": [
    "a={\n",
    "    'roll':101,\n",
    "    'name':'ajay',\n",
    "    'address':'indore'\n",
    "}\n",
    "print(a.get('roll')) \n",
    "\n",
    "# It returns a value according to specified keys.it will take key in arguments and return value according to key."
   ]
  },
  {
   "cell_type": "code",
   "execution_count": 21,
   "id": "ff94999b",
   "metadata": {},
   "outputs": [
    {
     "name": "stdout",
     "output_type": "stream",
     "text": [
      "None\n"
     ]
    }
   ],
   "source": [
    "a={\n",
    "    'roll':101,\n",
    "    'name':'ajay',\n",
    "    'address':'indore'\n",
    "}\n",
    "print(a.get('rolls'))    #if there is no key like rolls then it will return NONE."
   ]
  },
  {
   "cell_type": "code",
   "execution_count": 24,
   "id": "449da45f",
   "metadata": {},
   "outputs": [
    {
     "name": "stdout",
     "output_type": "stream",
     "text": [
      "101\n"
     ]
    }
   ],
   "source": [
    "a={\n",
    "    'roll':101,\n",
    "    'name':'ajay',\n",
    "    'address':'indore'\n",
    "}\n",
    "print(a['roll'])   # we can use here this method at the place of get."
   ]
  },
  {
   "cell_type": "code",
   "execution_count": 25,
   "id": "0e082988",
   "metadata": {},
   "outputs": [
    {
     "ename": "KeyError",
     "evalue": "'rolls'",
     "output_type": "error",
     "traceback": [
      "\u001b[1;31m---------------------------------------------------------------------------\u001b[0m",
      "\u001b[1;31mKeyError\u001b[0m                                  Traceback (most recent call last)",
      "\u001b[1;32m~\\AppData\\Local\\Temp/ipykernel_11288/1241642714.py\u001b[0m in \u001b[0;36m<module>\u001b[1;34m\u001b[0m\n\u001b[0;32m      4\u001b[0m     \u001b[1;34m'address'\u001b[0m\u001b[1;33m:\u001b[0m\u001b[1;34m'indore'\u001b[0m\u001b[1;33m\u001b[0m\u001b[1;33m\u001b[0m\u001b[0m\n\u001b[0;32m      5\u001b[0m }\n\u001b[1;32m----> 6\u001b[1;33m \u001b[0mprint\u001b[0m\u001b[1;33m(\u001b[0m\u001b[0ma\u001b[0m\u001b[1;33m[\u001b[0m\u001b[1;34m'rolls'\u001b[0m\u001b[1;33m]\u001b[0m\u001b[1;33m)\u001b[0m   \u001b[1;31m# we can use here this method at the place of get.\u001b[0m\u001b[1;33m\u001b[0m\u001b[1;33m\u001b[0m\u001b[0m\n\u001b[0m",
      "\u001b[1;31mKeyError\u001b[0m: 'rolls'"
     ]
    }
   ],
   "source": [
    "a={\n",
    "    'roll':101,\n",
    "    'name':'ajay',\n",
    "    'address':'indore'\n",
    "}\n",
    "print(a['rolls'])   # we can use here this method at the place of get n index ke andar key error de dega."
   ]
  },
  {
   "cell_type": "code",
   "execution_count": 27,
   "id": "485d32a8",
   "metadata": {},
   "outputs": [
    {
     "name": "stdout",
     "output_type": "stream",
     "text": [
      "101\n"
     ]
    }
   ],
   "source": [
    "a={\n",
    "    'roll':101,\n",
    "    'name':'ajay',\n",
    "    'address':'indore'\n",
    "}\n",
    "print(a.pop('roll'))     #le rha h key n return kr rha h value.\n",
    "\n",
    "#Pop method remove a specified element according to key from dictionary and returns its value."
   ]
  },
  {
   "cell_type": "code",
   "execution_count": 28,
   "id": "4468b46e",
   "metadata": {},
   "outputs": [
    {
     "name": "stdout",
     "output_type": "stream",
     "text": [
      "('address', 'indore')\n"
     ]
    }
   ],
   "source": [
    "a={\n",
    "    'roll':101,\n",
    "    'name':'ajay',\n",
    "    'address':'indore'\n",
    "}\n",
    "print(a.popitem())      #ye last entry hatayega n return m dega tuple m key n value."
   ]
  },
  {
   "cell_type": "code",
   "execution_count": null,
   "id": "2d7cb461",
   "metadata": {},
   "outputs": [],
   "source": []
  }
 ],
 "metadata": {
  "kernelspec": {
   "display_name": "Python 3 (ipykernel)",
   "language": "python",
   "name": "python3"
  },
  "language_info": {
   "codemirror_mode": {
    "name": "ipython",
    "version": 3
   },
   "file_extension": ".py",
   "mimetype": "text/x-python",
   "name": "python",
   "nbconvert_exporter": "python",
   "pygments_lexer": "ipython3",
   "version": "3.9.7"
  }
 },
 "nbformat": 4,
 "nbformat_minor": 5
}
