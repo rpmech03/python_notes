{
 "cells": [
  {
   "cell_type": "code",
   "execution_count": 1,
   "id": "2fd23067",
   "metadata": {},
   "outputs": [
    {
     "name": "stdout",
     "output_type": "stream",
     "text": [
      "working of is\n",
      "True\n"
     ]
    }
   ],
   "source": [
    "a=\"hello\"\n",
    "b=\"hello\"\n",
    "c=\"ppoint\"\n",
    "print(\"working of is\")\n",
    "c= a is b \n",
    "print(c)"
   ]
  },
  {
   "cell_type": "code",
   "execution_count": 2,
   "id": "763aa26a",
   "metadata": {},
   "outputs": [
    {
     "name": "stdout",
     "output_type": "stream",
     "text": [
      "working of is\n",
      "True\n",
      "False\n"
     ]
    }
   ],
   "source": [
    "a=\"hello\"\n",
    "b=\"hello\"\n",
    "c=\"ppoint\"\n",
    "print(\"working of is\")\n",
    "r=a is b\n",
    "print(r)\n",
    "r= a is c\n",
    "print(r)"
   ]
  },
  {
   "cell_type": "code",
   "execution_count": 3,
   "id": "f84665fa",
   "metadata": {},
   "outputs": [
    {
     "name": "stdout",
     "output_type": "stream",
     "text": [
      "working of is :\n",
      "True\n",
      "False\n",
      "working of is not :\n",
      "False\n",
      "True\n"
     ]
    }
   ],
   "source": [
    "a=\"hello\"\n",
    "b=\"hello\"\n",
    "c=\"ppoint\"\n",
    "print(\"working of is :\")\n",
    "r= a is b\n",
    "print(r)\n",
    "r= a is c\n",
    "print(r)\n",
    "print(\"working of is not :\")\n",
    "r=a is not b\n",
    "print(r)\n",
    "r=a is not c\n",
    "print(r)"
   ]
  },
  {
   "cell_type": "code",
   "execution_count": 5,
   "id": "a2c20006",
   "metadata": {},
   "outputs": [
    {
     "name": "stdout",
     "output_type": "stream",
     "text": [
      "result of in\n",
      "True\n"
     ]
    }
   ],
   "source": [
    "a=[10,20,30,40,50]\n",
    "print(\"result of in\")\n",
    "r=10 in a\n",
    "print(r)"
   ]
  },
  {
   "cell_type": "code",
   "execution_count": 6,
   "id": "c9ac9f0f",
   "metadata": {},
   "outputs": [
    {
     "name": "stdout",
     "output_type": "stream",
     "text": [
      "result of in :\n",
      "True\n",
      "False\n",
      "result of not in :\n",
      "False\n",
      "True\n"
     ]
    }
   ],
   "source": [
    "a=[10,20,30,40,50]\n",
    "print(\"result of in :\")\n",
    "r=10 in a\n",
    "print(r)\n",
    "r=60 in a\n",
    "print(r)\n",
    "print(\"result of not in :\")\n",
    "r=10 not in a\n",
    "print(r)\n",
    "r=60 not in a\n",
    "print(r)"
   ]
  },
  {
   "cell_type": "code",
   "execution_count": 7,
   "id": "08dc8bee",
   "metadata": {},
   "outputs": [
    {
     "name": "stdout",
     "output_type": "stream",
     "text": [
      "if block is running\n",
      "if block is running\n",
      "if block is running\n",
      "if block is running\n"
     ]
    }
   ],
   "source": [
    "if True:\n",
    "    print(\"if block is running\")\n",
    "a=True\n",
    "if a:\n",
    "    print(\"if block is running\")\n",
    "i=10\n",
    "if i>0:\n",
    "    print(\"if block is running\")\n",
    "r=i>0\n",
    "if r:\n",
    "    print(\"if block is running\")"
   ]
  },
  {
   "cell_type": "code",
   "execution_count": 9,
   "id": "88d0f1d8",
   "metadata": {},
   "outputs": [
    {
     "name": "stdout",
     "output_type": "stream",
     "text": [
      "else block is running\n",
      "else block is running\n",
      "else block is running\n",
      "else block is running\n",
      "else block is running\n"
     ]
    }
   ],
   "source": [
    "if False:\n",
    "    print(\"if block is running\")\n",
    "else:\n",
    "    print(\"else block is running\")\n",
    "a=False\n",
    "if a:\n",
    "    print(\"if block is running\")\n",
    "else:\n",
    "    print(\"else block is running\")\n",
    "i=-10\n",
    "if i>0:\n",
    "    print(\"if block is running\")\n",
    "else:\n",
    "    print(\"else block is running\")\n",
    "r=i>0\n",
    "if r:\n",
    "    print(\"if block is running\")\n",
    "else:\n",
    "    print(\"else block is running\")\n",
    "if 0:\n",
    "    print(\"if block is running\")\n",
    "else:\n",
    "    print(\"else block is running\")\n"
   ]
  }
 ],
 "metadata": {
  "kernelspec": {
   "display_name": "Python 3 (ipykernel)",
   "language": "python",
   "name": "python3"
  },
  "language_info": {
   "codemirror_mode": {
    "name": "ipython",
    "version": 3
   },
   "file_extension": ".py",
   "mimetype": "text/x-python",
   "name": "python",
   "nbconvert_exporter": "python",
   "pygments_lexer": "ipython3",
   "version": "3.9.7"
  }
 },
 "nbformat": 4,
 "nbformat_minor": 5
}
