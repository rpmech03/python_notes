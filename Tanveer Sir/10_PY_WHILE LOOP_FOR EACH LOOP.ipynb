{
 "cells": [
  {
   "cell_type": "markdown",
   "id": "fd9fc975",
   "metadata": {},
   "source": [
    "# LENGTH FUNCTION:\n",
    "\n",
    "Length is a function which is used to identify length of a perticular object like string,list,tuple,set etc. "
   ]
  },
  {
   "cell_type": "code",
   "execution_count": 1,
   "id": "758529ef",
   "metadata": {},
   "outputs": [
    {
     "name": "stdout",
     "output_type": "stream",
     "text": [
      "5\n"
     ]
    }
   ],
   "source": [
    "a=\"hello\"\n",
    "s=len(a)\n",
    "print(s)"
   ]
  },
  {
   "cell_type": "markdown",
   "id": "5daaaa18",
   "metadata": {},
   "source": [
    "# WHILE LOOP :\n",
    "\n",
    "Mainly used to perform repititive operations in python programming.\n",
    "                        \n",
    "initialization\n",
    "while True/False:\n",
    "statements\n",
    "increment"
   ]
  },
  {
   "cell_type": "code",
   "execution_count": 2,
   "id": "f980eb3c",
   "metadata": {},
   "outputs": [
    {
     "name": "stdout",
     "output_type": "stream",
     "text": [
      "1\n",
      "2\n",
      "3\n",
      "4\n",
      "5\n",
      "6\n",
      "7\n",
      "8\n",
      "9\n",
      "10\n"
     ]
    }
   ],
   "source": [
    "i=1\n",
    "while i<=10:\n",
    "    print(i)\n",
    "    i=i+1"
   ]
  },
  {
   "cell_type": "code",
   "execution_count": 3,
   "id": "5e92e182",
   "metadata": {},
   "outputs": [
    {
     "name": "stdout",
     "output_type": "stream",
     "text": [
      "1\n",
      "5\n",
      "9\n",
      "13\n",
      "17\n"
     ]
    }
   ],
   "source": [
    "i=1\n",
    "while i<=20:\n",
    "    print(i)\n",
    "    i=i+4"
   ]
  },
  {
   "cell_type": "code",
   "execution_count": 5,
   "id": "9df5df08",
   "metadata": {},
   "outputs": [
    {
     "name": "stdout",
     "output_type": "stream",
     "text": [
      "5\n",
      "10\n",
      "15\n",
      "20\n",
      "25\n",
      "30\n",
      "35\n",
      "40\n",
      "45\n",
      "50\n"
     ]
    }
   ],
   "source": [
    "i=1\n",
    "n=5\n",
    "while i<=10:\n",
    "    print(i*n)\n",
    "    i=i+1"
   ]
  },
  {
   "cell_type": "code",
   "execution_count": 1,
   "id": "9bcb5414",
   "metadata": {},
   "outputs": [
    {
     "name": "stdout",
     "output_type": "stream",
     "text": [
      "10\n",
      "9\n",
      "8\n",
      "7\n",
      "6\n",
      "5\n",
      "4\n",
      "3\n",
      "2\n",
      "1\n"
     ]
    }
   ],
   "source": [
    "i=10\n",
    "while i>=1:\n",
    "    print(i)\n",
    "    i=i-1"
   ]
  },
  {
   "cell_type": "code",
   "execution_count": 2,
   "id": "adf341dd",
   "metadata": {},
   "outputs": [
    {
     "name": "stdout",
     "output_type": "stream",
     "text": [
      "20\n",
      "18\n",
      "16\n",
      "14\n",
      "12\n",
      "10\n",
      "8\n",
      "6\n",
      "4\n",
      "2\n"
     ]
    }
   ],
   "source": [
    "# reverse table\n",
    "i=20\n",
    "while i>=1:\n",
    "    print(i)\n",
    "    i=i-2\n"
   ]
  },
  {
   "cell_type": "code",
   "execution_count": 3,
   "id": "eb7b047a",
   "metadata": {},
   "outputs": [
    {
     "name": "stdout",
     "output_type": "stream",
     "text": [
      "15\n"
     ]
    }
   ],
   "source": [
    "# sum of no--\n",
    "i=1\n",
    "s=0\n",
    "while i<=5:\n",
    "    s=s+i\n",
    "    i=i+1\n",
    "print(s)"
   ]
  },
  {
   "cell_type": "code",
   "execution_count": 4,
   "id": "6fa9531c",
   "metadata": {},
   "outputs": [
    {
     "name": "stdout",
     "output_type": "stream",
     "text": [
      "1\n",
      "2\n",
      "3\n",
      "4\n",
      "5\n",
      "sum of no : 15\n"
     ]
    }
   ],
   "source": [
    "# sum of no--\n",
    "i=1\n",
    "s=0\n",
    "while i<=5:\n",
    "    s=s+i\n",
    "    i=i+1\n",
    "    print(i-1)\n",
    "print(\"sum of no :\",s)"
   ]
  },
  {
   "cell_type": "code",
   "execution_count": 5,
   "id": "4c692b84",
   "metadata": {},
   "outputs": [
    {
     "name": "stdout",
     "output_type": "stream",
     "text": [
      "enter a no :5\n",
      "120\n"
     ]
    }
   ],
   "source": [
    "# Factorial with increment----\n",
    "n= int(input(\"enter a no :\"))\n",
    "s=1\n",
    "i=1\n",
    "while i<=n :\n",
    "    s=s*i\n",
    "    i=i+1\n",
    "print(s)"
   ]
  },
  {
   "cell_type": "code",
   "execution_count": 7,
   "id": "51ea28e0",
   "metadata": {},
   "outputs": [
    {
     "name": "stdout",
     "output_type": "stream",
     "text": [
      "1\n",
      "2\n",
      "3\n",
      "4\n",
      "5\n"
     ]
    }
   ],
   "source": [
    "# break program\n",
    "i=1\n",
    "while i<=10 :\n",
    "    if i>5:\n",
    "        break\n",
    "    print(i)\n",
    "    i=i+1"
   ]
  },
  {
   "cell_type": "code",
   "execution_count": 8,
   "id": "051fb378",
   "metadata": {},
   "outputs": [
    {
     "name": "stdout",
     "output_type": "stream",
     "text": [
      "1\n",
      "2\n",
      "3\n",
      "4\n",
      "6\n",
      "7\n",
      "8\n",
      "9\n",
      "10\n",
      "11\n"
     ]
    }
   ],
   "source": [
    "i=0\n",
    "while i<=10:\n",
    "    i=i+1\n",
    "    if i==5:\n",
    "        continue\n",
    "    print(i)"
   ]
  },
  {
   "cell_type": "markdown",
   "id": "4b4ab065",
   "metadata": {},
   "source": [
    "# ELSE BLOCK WITH WHILE LOOP :    \n",
    "\n",
    "we can also use else block with while loop in python,it will execute after successful execution of loop but if loop will \n",
    "\n",
    "terminate by \"break keyword\" then \"else block\" will not execute."
   ]
  },
  {
   "cell_type": "code",
   "execution_count": 10,
   "id": "dd380bc5",
   "metadata": {},
   "outputs": [
    {
     "name": "stdout",
     "output_type": "stream",
     "text": [
      "1\n",
      "2\n",
      "3\n",
      "4\n"
     ]
    }
   ],
   "source": [
    "i=1\n",
    "while i<=10:\n",
    "    if i==5:\n",
    "        break\n",
    "    print(i)\n",
    "    i=i+1\n",
    "else:\n",
    "    print(\"else block is running\")"
   ]
  },
  {
   "cell_type": "code",
   "execution_count": 11,
   "id": "7ec4f863",
   "metadata": {},
   "outputs": [
    {
     "name": "stdout",
     "output_type": "stream",
     "text": [
      "1\n",
      "2\n",
      "3\n",
      "4\n",
      "5\n",
      "6\n",
      "7\n",
      "8\n",
      "9\n",
      "10\n",
      "else block is running\n"
     ]
    }
   ],
   "source": [
    "i=1\n",
    "while i<=10:\n",
    "    print(i)\n",
    "    i=i+1\n",
    "else:\n",
    "    print(\"else block is running\")"
   ]
  },
  {
   "cell_type": "code",
   "execution_count": 12,
   "id": "306a90ef",
   "metadata": {},
   "outputs": [
    {
     "name": "stdout",
     "output_type": "stream",
     "text": [
      "else block is running\n"
     ]
    }
   ],
   "source": [
    "i=1\n",
    "while i<=0:\n",
    "    print(i)\n",
    "    i=i+1\n",
    "else:\n",
    "    print(\"else block is running\")"
   ]
  },
  {
   "cell_type": "markdown",
   "id": "fc28abdf",
   "metadata": {},
   "source": [
    "# FOR EACH LOOP WITHOUT RANGE :\n",
    "                                                     \n",
    "For each loop is mainly used to \"\"traverse collection object like list,tuple,set,dict and string in python\"\"."
   ]
  },
  {
   "cell_type": "code",
   "execution_count": 13,
   "id": "8a9b4456",
   "metadata": {},
   "outputs": [
    {
     "name": "stdout",
     "output_type": "stream",
     "text": [
      "h\n",
      "e\n",
      "l\n",
      "l\n",
      "o\n"
     ]
    }
   ],
   "source": [
    "s=\"hello\"\n",
    "for i in s:\n",
    "    print(i)"
   ]
  },
  {
   "cell_type": "code",
   "execution_count": 14,
   "id": "3c82e48b",
   "metadata": {},
   "outputs": [
    {
     "name": "stdout",
     "output_type": "stream",
     "text": [
      "hello"
     ]
    }
   ],
   "source": [
    "s=\"hello\"\n",
    "for i in s:\n",
    "    print(i,end=\"\")"
   ]
  },
  {
   "cell_type": "markdown",
   "id": "0aaf07b8",
   "metadata": {},
   "source": [
    "# ELSE BLOCK WITH FOR EACH LOOP:\n",
    "                               \n",
    "We can also use else block with for each loop but if for each loop will terminate by break keyword then else block will not execute."
   ]
  },
  {
   "cell_type": "code",
   "execution_count": 6,
   "id": "83f590a1",
   "metadata": {},
   "outputs": [
    {
     "name": "stdout",
     "output_type": "stream",
     "text": [
      "h\n",
      "e\n",
      "l\n",
      "l\n",
      "o\n",
      "else block is running\n"
     ]
    }
   ],
   "source": [
    "s=\"hello\"\n",
    "for i in s:\n",
    "    print(i)\n",
    "else:\n",
    "    print(\"else block is running\")"
   ]
  },
  {
   "cell_type": "code",
   "execution_count": 7,
   "id": "6ea31f24",
   "metadata": {},
   "outputs": [
    {
     "name": "stdout",
     "output_type": "stream",
     "text": [
      "h\n",
      "e\n"
     ]
    }
   ],
   "source": [
    "s=\"hello\"\n",
    "for i in s:\n",
    "    if i==\"l\" :\n",
    "        break\n",
    "    print(i)\n",
    "else:\n",
    "    print(\"else block is running\")"
   ]
  },
  {
   "cell_type": "code",
   "execution_count": null,
   "id": "fa25e886",
   "metadata": {},
   "outputs": [],
   "source": [
    "i=0\n",
    "while i<11:\n",
    "    if i==7:\n",
    "        continue\n",
    "        print(i)\n",
    "        i=i+1\n",
    "else:\n",
    "    print(\"else block is running\")\n",
    "        "
   ]
  },
  {
   "cell_type": "code",
   "execution_count": null,
   "id": "982a032f",
   "metadata": {},
   "outputs": [],
   "source": []
  }
 ],
 "metadata": {
  "kernelspec": {
   "display_name": "Python 3 (ipykernel)",
   "language": "python",
   "name": "python3"
  },
  "language_info": {
   "codemirror_mode": {
    "name": "ipython",
    "version": 3
   },
   "file_extension": ".py",
   "mimetype": "text/x-python",
   "name": "python",
   "nbconvert_exporter": "python",
   "pygments_lexer": "ipython3",
   "version": "3.9.7"
  }
 },
 "nbformat": 4,
 "nbformat_minor": 5
}
