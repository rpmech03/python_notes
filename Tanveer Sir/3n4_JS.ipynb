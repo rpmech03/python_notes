{
 "cells": [
  {
   "cell_type": "code",
   "execution_count": null,
   "id": "6c76c5b7",
   "metadata": {},
   "outputs": [],
   "source": [
    "ASSIGNMENT OPERATOR:\n",
    "\n",
    "Mainly use to assign value or result of an operator to variable.In js we will use following assignment operator....\n",
    "\n",
    "\n",
    "# STRING CONCATINATION:\n",
    "\n"
   ]
  }
 ],
 "metadata": {
  "kernelspec": {
   "display_name": "Python 3 (ipykernel)",
   "language": "python",
   "name": "python3"
  },
  "language_info": {
   "codemirror_mode": {
    "name": "ipython",
    "version": 3
   },
   "file_extension": ".py",
   "mimetype": "text/x-python",
   "name": "python",
   "nbconvert_exporter": "python",
   "pygments_lexer": "ipython3",
   "version": "3.9.7"
  }
 },
 "nbformat": 4,
 "nbformat_minor": 5
}
