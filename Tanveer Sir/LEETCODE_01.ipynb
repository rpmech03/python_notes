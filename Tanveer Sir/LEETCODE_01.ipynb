{
 "cells": [
  {
   "cell_type": "markdown",
   "id": "afcfdfd8",
   "metadata": {},
   "source": [
    "# 1_TWO SUM:"
   ]
  },
  {
   "cell_type": "code",
   "execution_count": 11,
   "id": "ab241ba6",
   "metadata": {},
   "outputs": [
    {
     "name": "stdout",
     "output_type": "stream",
     "text": [
      "[0, 8]\n",
      "[1, 8]\n",
      "[2, 8]\n",
      "[3, 8]\n",
      "[4, 8]\n",
      "[6, 9][5, 8]\n",
      "[7, 8][6, 8]\n",
      "[7, 8]\n",
      "[8, 8]\n"
     ]
    }
   ],
   "source": [
    "a=[]\n",
    "for i in range(1,10):\n",
    "    a.append(i)\n",
    "# print(a)\n",
    "sum=15\n",
    "for i in range(len(a)):\n",
    "    for j in range(i, len(a)):\n",
    "        if a[i] + a[j] == sum:\n",
    "            print([a[i],a[j]],end=\"\")\n",
    "    print([i,j])\n",
    "            \n",
    "            \n",
    "                    "
   ]
  },
  {
   "cell_type": "code",
   "execution_count": 15,
   "id": "eeb35fdd",
   "metadata": {},
   "outputs": [
    {
     "name": "stdout",
     "output_type": "stream",
     "text": [
      "enter list items :2 3 4 5\n",
      "enter target :5\n",
      "[0, 1]\n"
     ]
    }
   ],
   "source": [
    "a=list(map(int,input(\"enter list items :\").split()))\n",
    "target=int(input(\"enter target :\"))\n",
    "# a=[10,20,30,40]\n",
    "n=len(a)\n",
    "# sum=50\n",
    "for i in range(n):\n",
    "    for j in range(i+1,n):\n",
    "        if a[i]+a[j]==target:\n",
    "            print([i,j])\n"
   ]
  },
  {
   "cell_type": "markdown",
   "id": "12a55359",
   "metadata": {},
   "source": [
    "# 2_SUM OF TWO LIST:\n",
    "\n",
    "<!-- You are given two non-empty linked lists representing two non-negative integers. The digits are stored in reverse order, and each of their nodes contains a single digit. Add the two numbers and return the sum as a linked list.\n",
    "\n",
    "You may assume the two numbers do not contain any leading zero, except the number 0 itself. -->"
   ]
  },
  {
   "cell_type": "code",
   "execution_count": 13,
   "id": "5f1384cf",
   "metadata": {},
   "outputs": [
    {
     "data": {
      "text/plain": [
       "[5, 7, 9]"
      ]
     },
     "execution_count": 13,
     "metadata": {},
     "output_type": "execute_result"
    }
   ],
   "source": [
    "a=[1,2,3]\n",
    "b=[4,5,6]\n",
    "c=[a[i]+b[i] for i in range(len(a))]\n",
    "c"
   ]
  },
  {
   "cell_type": "markdown",
   "id": "e2ce032b",
   "metadata": {},
   "source": [
    "# 3. Length of Longest Substring Without Repeating Characters"
   ]
  },
  {
   "cell_type": "code",
   "execution_count": 14,
   "id": "b4a68c1b",
   "metadata": {},
   "outputs": [
    {
     "name": "stdout",
     "output_type": "stream",
     "text": [
      "The input string is geeksforgeeks\n",
      "The length of the longest non-repeating character substring is 7\n"
     ]
    }
   ],
   "source": [
    "# Python3 program to find the length\n",
    "# of the longest substring\n",
    "# without repeating characters\n",
    "def longestUniqueSubsttr(string):\n",
    "\n",
    "\t# last index of every character\n",
    "\tlast_idx = {}\n",
    "\tmax_len = 0\n",
    "\n",
    "\t# starting index of current\n",
    "\t# window to calculate max_len\n",
    "\tstart_idx = 0\n",
    "\n",
    "\tfor i in range(0, len(string)):\n",
    "\t\n",
    "\t\t# Find the last index of str[i]\n",
    "\t\t# Update start_idx (starting index of current window)\n",
    "\t\t# as maximum of current value of start_idx and last\n",
    "\t\t# index plus 1\n",
    "\t\tif string[i] in last_idx:\n",
    "\t\t\tstart_idx = max(start_idx, last_idx[string[i]] + 1)\n",
    "\n",
    "\t\t# Update result if we get a larger window\n",
    "\t\tmax_len = max(max_len, i-start_idx + 1)\n",
    "\n",
    "\t\t# Update last index of current char.\n",
    "\t\tlast_idx[string[i]] = i\n",
    "\n",
    "\treturn max_len\n",
    "\n",
    "\n",
    "# Driver program to test the above function\n",
    "string = \"geeksforgeeks\"\n",
    "print(\"The input string is \" + string)\n",
    "length = longestUniqueSubsttr(string)\n",
    "print(\"The length of the longest non-repeating character\" +\n",
    "\t\" substring is \" + str(length))\n"
   ]
  },
  {
   "cell_type": "markdown",
   "id": "7106cc6f",
   "metadata": {},
   "source": [
    "# Median of Two Sorted Arrays\n",
    ":\n",
    "<!-- Given two sorted arrays nums1 and nums2 of size m and n respectively, return the median of the two sorted arrays.\n",
    "\n",
    "The overall run time complexity should be O(log (m+n)). -->"
   ]
  },
  {
   "cell_type": "code",
   "execution_count": 28,
   "id": "4a731f7f",
   "metadata": {},
   "outputs": [
    {
     "name": "stdout",
     "output_type": "stream",
     "text": [
      "[14, 11, 2, 3, 12, 78, 44, 55, 6]\n",
      "[2, 3, 6, 11, 12, 14, 44, 55, 78]\n",
      "median is 25.0\n"
     ]
    }
   ],
   "source": [
    "a=[14,11,2,3,12]\n",
    "b=[78,44,55,6]\n",
    "a.extend(b)\n",
    "print(a)\n",
    "a.sort()\n",
    "print(a)\n",
    "sum=0\n",
    "for i in a:\n",
    "    sum+=i\n",
    "print('median is',sum/len(a))"
   ]
  },
  {
   "cell_type": "code",
   "execution_count": 25,
   "id": "dba9267a",
   "metadata": {},
   "outputs": [
    {
     "name": "stdout",
     "output_type": "stream",
     "text": [
      "Median =  3\n"
     ]
    }
   ],
   "source": [
    "def Solution(arr):\n",
    "    n = len(arr)\n",
    "    if n % 2 == 0:\n",
    "        z = n // 2\n",
    "        e = arr[z]\n",
    "        q = arr[z - 1]\n",
    "        ans = (e + q) / 2\n",
    "        return ans\n",
    "\n",
    "\telse:\n",
    "\t\tz = n // 2\n",
    "\t\tans = arr[z]\n",
    "\t\treturn ans\n",
    "\n",
    "# Driver code\n",
    "if __name__ == \"__main__\":\n",
    "\t\n",
    "\tarr1 = [ -5, 3, 6, 12, 15 ]\n",
    "\tarr2 = [ -12, -10, -6, -3, 4, 10 ]\n",
    "\n",
    "\t# Concatenating the two arrays\n",
    "\tarr3 = arr1 + arr2\n",
    "\n",
    "\t# Sorting the resultant array\n",
    "\tarr3.sort()\n",
    "\n",
    "\tprint(\"Median = \", Solution(arr3))\n",
    "\t\n",
    "# This code is contributed by kush11\n"
   ]
  },
  {
   "cell_type": "markdown",
   "id": "8a584ac0",
   "metadata": {},
   "source": [
    "# 5. Longest Palindromic Substring\n",
    "\n",
    "<!-- Given a string s, return the longest \n",
    "palindromic\n",
    " \n",
    "substring\n",
    " in s. -->"
   ]
  },
  {
   "cell_type": "code",
   "execution_count": 29,
   "id": "59859b6b",
   "metadata": {},
   "outputs": [
    {
     "name": "stdout",
     "output_type": "stream",
     "text": [
      "Longest palindrome subString is: geeksskeeg\n",
      "Length is:  10\n"
     ]
    }
   ],
   "source": [
    "# A Python3 solution for longest palindrome\n",
    "\n",
    "# Function to print a subString str[low..high]\n",
    "def printSubStr(str, low, high):\n",
    "\t\n",
    "\tfor i in range(low, high + 1):\n",
    "\t\tprint(str[i], end = \"\")\n",
    "\n",
    "# This function prints the\n",
    "# longest palindrome subString\n",
    "# It also returns the length\n",
    "# of the longest palindrome\n",
    "def longestPalSubstr(str):\n",
    "\t\n",
    "\t# Get length of input String\n",
    "\tn = len(str)\n",
    "\t\n",
    "\t# All subStrings of length 1\n",
    "\t# are palindromes\n",
    "\tmaxLength = 1\n",
    "\tstart = 0\n",
    "\t\n",
    "\t# Nested loop to mark start\n",
    "\t# and end index\n",
    "\tfor i in range(n):\n",
    "\t\tfor j in range(i, n):\n",
    "\t\t\tflag = 1\n",
    "\t\t\t\n",
    "\t\t\t# Check palindrome\n",
    "\t\t\tfor k in range(0, ((j - i) // 2) + 1):\n",
    "\t\t\t\tif (str[i + k] != str[j - k]):\n",
    "\t\t\t\t\tflag = 0\n",
    "\n",
    "\t\t\t# Palindrome\n",
    "\t\t\tif (flag != 0 and (j - i + 1) > maxLength):\n",
    "\t\t\t\tstart = i\n",
    "\t\t\t\tmaxLength = j - i + 1\n",
    "\t\t\t\t\n",
    "\tprint(\"Longest palindrome subString is: \", end = \"\")\n",
    "\tprintSubStr(str, start, start + maxLength - 1)\n",
    "\n",
    "\t# Return length of LPS\n",
    "\treturn maxLength\n",
    "\n",
    "# Driver Code\n",
    "if __name__ == '__main__':\n",
    "\n",
    "\tstr = \"forgeeksskeegfor\"\n",
    "\t\n",
    "\tprint(\"\\nLength is: \", longestPalSubstr(str))\n",
    "\n",
    "# This code is contributed by 29AjayKumar\n"
   ]
  },
  {
   "cell_type": "code",
   "execution_count": null,
   "id": "e2175b31",
   "metadata": {},
   "outputs": [],
   "source": [
    "def longestPalSubstr(str):\n",
    "     \n",
    "    # Get length of input String\n",
    "    n = len(str)\n",
    "     \n",
    "    # All subStrings of length 1\n",
    "    # are palindromes\n",
    "    maxLength = 1\n",
    "    start = 0\n",
    "     \n",
    "    # Nested loop to mark start\n",
    "    # and end index\n",
    "    for i in range(n):\n",
    "        for j in range(i, n):\n",
    "            flag = 1\n",
    "             \n",
    "            # Check palindrome\n",
    "            for k in range(0, ((j - i) // 2) + 1):\n",
    "                if (str[i + k] != str[j - k]):\n",
    "                    flag = 0\n",
    " \n",
    "            # Palindrome\n",
    "            if (flag != 0 and (j - i + 1) > maxLength):\n",
    "                start = i\n",
    "                maxLength = j - i + 1\n",
    "                 \n",
    " \n",
    "    # Return length of LPS\n",
    "    return maxLength\n",
    "\n",
    "if __name__ == \"__main__\":\n",
    "    # Your code goes here\n",
    "    s = \"Hello\"\n",
    "    print(longestPalSubstr(s))"
   ]
  },
  {
   "cell_type": "markdown",
   "id": "f51d131a",
   "metadata": {},
   "source": [
    "# Reverse Integer\n",
    "\n",
    "<!-- Given a signed 32-bit integer x, return x with its digits reversed. If reversing x causes the value to go outside the signed 32-bit integer range [-231, 231 - 1], then return 0.\n",
    "\n",
    "Assume the environment does not allow you to store 64-bit integers (signed or unsigned). -->"
   ]
  },
  {
   "cell_type": "code",
   "execution_count": 30,
   "id": "25339b19",
   "metadata": {},
   "outputs": [
    {
     "name": "stdout",
     "output_type": "stream",
     "text": [
      "2654\n"
     ]
    }
   ],
   "source": [
    "n = 4562\n",
    "rev = 0\n",
    "\n",
    "while(n > 0):\n",
    "\ta = n % 10\n",
    "\trev = rev * 10 + a\n",
    "\tn = n // 10\n",
    "\n",
    "print(rev)\n"
   ]
  },
  {
   "cell_type": "markdown",
   "id": "8e247492",
   "metadata": {},
   "source": [
    "# 8. String to Integer (atoi)\n",
    "\n",
    "Implement the myAtoi(string s) function, which converts a string to a 32-bit signed integer (similar to C/C++'s atoi function).\n",
    "\n",
    "The algorithm for myAtoi(string s) is as follows:\n",
    "\n",
    "Read in and ignore any leading whitespace.\n",
    "Check if the next character (if not already at the end of the string) is '-' or '+'. Read this character in if it is either. This determines if the final result is negative or positive respectively. Assume the result is positive if neither is present.\n",
    "Read in next the characters until the next non-digit character or the end of the input is reached. The rest of the string is ignored.\n",
    "Convert these digits into an integer (i.e. \"123\" -> 123, \"0032\" -> 32). If no digits were read, then the integer is 0. Change the sign as necessary (from step 2).\n",
    "If the integer is out of the 32-bit signed integer range [-231, 231 - 1], then clamp the integer so that it remains in the range. Specifically, integers less than -231 should be clamped to -231, and integers greater than 231 - 1 should be clamped to 231 - 1.\n",
    "Return the integer as the final result.\n",
    "Note:\n",
    "\n",
    "Only the space character ' ' is considered a whitespace character.\n",
    "Do not ignore any characters other than the leading whitespace or the rest of the string after the digits."
   ]
  },
  {
   "cell_type": "code",
   "execution_count": null,
   "id": "647315db",
   "metadata": {},
   "outputs": [],
   "source": []
  },
  {
   "cell_type": "markdown",
   "id": "dea8e5b8",
   "metadata": {},
   "source": [
    "# Regular Expression Matching\n",
    "\n",
    "Given an input string s and a pattern p, implement regular expression matching with support for '.' and '*' where:\n",
    "\n",
    "'.' Matches any single character.​​​​\n",
    "'*' Matches zero or more of the preceding element.\n",
    "The matching should cover the entire input string (not partial)."
   ]
  },
  {
   "cell_type": "code",
   "execution_count": 31,
   "id": "76cc9462",
   "metadata": {},
   "outputs": [],
   "source": [
    "def isMatch(s: str, p: str) -> bool:\n",
    "    rows, columns = (len(s), len(p))\n",
    "    # Base conditions\n",
    "    if rows == 0 and columns == 0:\n",
    "        return True\n",
    "    if columns == 0:\n",
    "        return False\n",
    "    # DP array\n",
    "    dp = [[False for j in range(columns + 1)] for i in range(rows + 1)]\n",
    "    # Since empty string and empty pattern are a match\n",
    "    dp[0][0] = True\n",
    "    # Deals with patterns containing *\n",
    "    for i in range(2, columns + 1):\n",
    "        if p[i - 1] == '*':\n",
    "            dp[0][i] = dp[0][i - 2]\n",
    "    # For remaining characters\n",
    "    for i in range(1, rows + 1):\n",
    "        for j in range(1, columns + 1):\n",
    "            if s[i - 1] == p[j - 1] or p[j - 1] == '.':\n",
    "                dp[i][j] = dp[i - 1][j - 1]\n",
    "            elif j > 1 and p[j - 1] == '*':\n",
    "                dp[i][j] = dp[i][j - 2]\n",
    "                if p[j - 2] == '.' or p[j - 2] == s[i - 1]:\n",
    "                    dp[i][j] = dp[i][j] or dp[i - 1][j]\n",
    "    return dp[rows][columns]\n",
    "isMatch()"
   ]
  },
  {
   "cell_type": "code",
   "execution_count": null,
   "id": "8cdc8e74",
   "metadata": {},
   "outputs": [],
   "source": []
  }
 ],
 "metadata": {
  "kernelspec": {
   "display_name": "Python 3 (ipykernel)",
   "language": "python",
   "name": "python3"
  },
  "language_info": {
   "codemirror_mode": {
    "name": "ipython",
    "version": 3
   },
   "file_extension": ".py",
   "mimetype": "text/x-python",
   "name": "python",
   "nbconvert_exporter": "python",
   "pygments_lexer": "ipython3",
   "version": "3.9.7"
  }
 },
 "nbformat": 4,
 "nbformat_minor": 5
}
