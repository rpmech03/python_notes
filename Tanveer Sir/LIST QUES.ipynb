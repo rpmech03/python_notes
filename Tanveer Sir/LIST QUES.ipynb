{
 "cells": [
  {
   "cell_type": "markdown",
   "id": "d5ba50d8",
   "metadata": {},
   "source": [
    "# Python program to interchange first and last elements in a list"
   ]
  },
  {
   "cell_type": "code",
   "execution_count": null,
   "id": "ece9e6e3",
   "metadata": {},
   "outputs": [],
   "source": [
    "# Approach #1: Find the length of the list and simply swap the first element with (n-1)th element"
   ]
  },
  {
   "cell_type": "code",
   "execution_count": 4,
   "id": "8392d810",
   "metadata": {},
   "outputs": [
    {
     "name": "stdout",
     "output_type": "stream",
     "text": [
      "[24, 35, 9, 56, 12]\n"
     ]
    }
   ],
   "source": [
    "a = [12, 35, 9, 56, 24]\n",
    "n=len(a)\n",
    "for i in range(len(a)):\n",
    "    a[0],a[n-1] = a[n-1],a[0]\n",
    "#     temp = a[0]\n",
    "#     a[0] = a[n-1]\n",
    "#     a[n-1] = temp\n",
    "print(a)"
   ]
  },
  {
   "cell_type": "code",
   "execution_count": null,
   "id": "3594cc8c",
   "metadata": {},
   "outputs": [],
   "source": [
    "# Approach #2: The last element of the list can be referred as list[-1]. Therefore, we can simply swap list[0] with list[-1]."
   ]
  },
  {
   "cell_type": "code",
   "execution_count": 3,
   "id": "296753f5",
   "metadata": {},
   "outputs": [
    {
     "name": "stdout",
     "output_type": "stream",
     "text": [
      "[24, 35, 9, 56, 12]\n"
     ]
    }
   ],
   "source": [
    "a = [12, 35, 9, 56, 24]\n",
    "n = len(a)\n",
    "for i in range(len(a)):\n",
    "    a[0],a[-1] = a[-1],a[0]\n",
    "print(a)"
   ]
  },
  {
   "cell_type": "code",
   "execution_count": null,
   "id": "a7c05462",
   "metadata": {},
   "outputs": [],
   "source": [
    "# Approach #3: Swap the first and last element is using tuple variable. Store the first and last element as a pair in a tuple \n",
    "# variable, say get, and unpack \n",
    "# those elements with first and last element in that list. Now, the First and last values in that list are"
   ]
  },
  {
   "cell_type": "code",
   "execution_count": 5,
   "id": "5b1f1b20",
   "metadata": {},
   "outputs": [
    {
     "name": "stdout",
     "output_type": "stream",
     "text": [
      "[24, 35, 9, 56, 12]\n"
     ]
    }
   ],
   "source": [
    "a = [12, 35, 9, 56, 24]\n",
    "n = len(a)\n",
    "for i in range(len(a)):\n",
    "    a[0],a[-1] = a[-1], a[0]\n",
    "print(a)"
   ]
  },
  {
   "cell_type": "code",
   "execution_count": 6,
   "id": "5ac34869",
   "metadata": {},
   "outputs": [
    {
     "name": "stdout",
     "output_type": "stream",
     "text": [
      "[24, 35, 9, 56, 12]\n"
     ]
    }
   ],
   "source": [
    "# Python3 program to swap first\n",
    "# and last element of a list\n",
    "\n",
    "# Swap function\n",
    "def swapList(list):\n",
    "\t\n",
    "\t# Storing the first and last element\n",
    "\t# as a pair in a tuple variable get\n",
    "\tget = list[-1], list[0]\n",
    "\t\n",
    "\t# unpacking those elements\n",
    "\tlist[0], list[-1] = get\n",
    "\t\n",
    "\treturn list\n",
    "\t\n",
    "# Driver code\n",
    "newList = [12, 35, 9, 56, 24]\n",
    "print(swapList(newList))\n"
   ]
  },
  {
   "cell_type": "code",
   "execution_count": null,
   "id": "86f37329",
   "metadata": {},
   "outputs": [],
   "source": [
    "# Approach #4: Using * operand. \n",
    "# This operand proposes a change to iterable unpacking syntax, allowing to specify a “catch-all” name which will be assigned a\n",
    "# list of all items not assigned to a “regular” name. "
   ]
  },
  {
   "cell_type": "code",
   "execution_count": 8,
   "id": "548fe031",
   "metadata": {},
   "outputs": [
    {
     "name": "stdout",
     "output_type": "stream",
     "text": [
      "1\n",
      "[2, 3]\n",
      "4\n"
     ]
    }
   ],
   "source": [
    "list = [1, 2, 3, 4]\n",
    "a, *b, c = list\n",
    "print(a)\n",
    "print(b)\n",
    "print(c)"
   ]
  },
  {
   "cell_type": "code",
   "execution_count": 9,
   "id": "ea289c10",
   "metadata": {},
   "outputs": [
    {
     "name": "stdout",
     "output_type": "stream",
     "text": [
      "[24, 35, 9, 56, 12]\n"
     ]
    }
   ],
   "source": [
    "# Python3 program to swap first\n",
    "# and last element of a list\n",
    "\n",
    "# Swap function\n",
    "def swapList(list):\n",
    "\t\n",
    "\tstart, *middle, end = list\n",
    "\tlist = [end, *middle, start]\n",
    "\t\n",
    "\treturn list\n",
    "\t\n",
    "# Driver code\n",
    "newList = [12, 35, 9, 56, 24]\n",
    "\n",
    "print(swapList(newList))\n"
   ]
  },
  {
   "cell_type": "code",
   "execution_count": 10,
   "id": "fc9821e9",
   "metadata": {},
   "outputs": [
    {
     "name": "stdout",
     "output_type": "stream",
     "text": [
      "[4, 2, 3, 1]\n"
     ]
    }
   ],
   "source": [
    "list = [1, 2, 3, 4]\n",
    "\n",
    "start, *middle, end = list\n",
    "list = [end, *middle, start]\n",
    "\n",
    "print(list)"
   ]
  },
  {
   "cell_type": "code",
   "execution_count": 13,
   "id": "78228d51",
   "metadata": {},
   "outputs": [
    {
     "name": "stdout",
     "output_type": "stream",
     "text": [
      "[2, 3]\n",
      "[4, 2, 3, 1]\n"
     ]
    }
   ],
   "source": [
    "list = [1, 2, 3, 4]\n",
    "first = list.pop(0)\n",
    "last = list.pop(-1)\n",
    "print(list)\n",
    "list.insert(0,last)\n",
    "list.append(first)\n",
    "print(list)\n"
   ]
  },
  {
   "cell_type": "markdown",
   "id": "8d06ecd2",
   "metadata": {},
   "source": [
    "# Python program to swap two elements in a list"
   ]
  },
  {
   "cell_type": "code",
   "execution_count": null,
   "id": "de5c70e8",
   "metadata": {},
   "outputs": [],
   "source": [
    "# Approach #1: Simple swap, using comma assignment \n",
    "# Since the positions of the elements are known, we can simply swap the positions of the elements."
   ]
  },
  {
   "cell_type": "code",
   "execution_count": 14,
   "id": "54735f12",
   "metadata": {},
   "outputs": [
    {
     "name": "stdout",
     "output_type": "stream",
     "text": [
      "[19, 65, 23, 90]\n"
     ]
    }
   ],
   "source": [
    "# Python3 program to swap elements\n",
    "# at given positions\n",
    "\n",
    "# Swap function\n",
    "def swapPositions(list, pos1, pos2):\n",
    "\t\n",
    "\tlist[pos1], list[pos2] = list[pos2], list[pos1]\n",
    "\treturn list\n",
    "\n",
    "# Driver function\n",
    "List = [23, 65, 19, 90]\n",
    "pos1, pos2 = 1, 3\n",
    "\n",
    "print(swapPositions(List, pos1-1, pos2-1))\n"
   ]
  },
  {
   "cell_type": "code",
   "execution_count": 16,
   "id": "b78c0f6d",
   "metadata": {},
   "outputs": [
    {
     "name": "stdout",
     "output_type": "stream",
     "text": [
      "[1, 4, 3, 2]\n"
     ]
    }
   ],
   "source": [
    "def swap(l,p1,p2):\n",
    "    l[p1], l[p2] = l[p2], l[p1]\n",
    "    return l\n",
    "l = [1,2,3,4]\n",
    "print(swap(l, 1, 3))"
   ]
  },
  {
   "cell_type": "code",
   "execution_count": null,
   "id": "5f123b09",
   "metadata": {},
   "outputs": [],
   "source": [
    "# Approach #2 : Using Inbuilt list.pop() function \n",
    "# Pop the element at pos1 and store it in a variable. Similarly, pop the element at pos2 and store it in another variable. \n",
    "# Now insert the two popped element at each other’s original position."
   ]
  },
  {
   "cell_type": "code",
   "execution_count": 19,
   "id": "15fb5bad",
   "metadata": {},
   "outputs": [
    {
     "data": {
      "text/plain": [
       "[1, 3, 2, 3]"
      ]
     },
     "execution_count": 19,
     "metadata": {},
     "output_type": "execute_result"
    }
   ],
   "source": [
    "l = [1,2,3,4]\n",
    "l.pop(1)\n",
    "l.pop(2)\n",
    "l.insert(1,3)\n",
    "l.insert(2,2)\n",
    "l"
   ]
  },
  {
   "cell_type": "code",
   "execution_count": 20,
   "id": "3a0ab70f",
   "metadata": {},
   "outputs": [
    {
     "name": "stdout",
     "output_type": "stream",
     "text": [
      "[19, 65, 23, 90]\n"
     ]
    }
   ],
   "source": [
    "# Python3 program to swap elements\n",
    "# at given positions\n",
    "\n",
    "# Swap function\n",
    "def swapPositions(list, pos1, pos2):\n",
    "\t\n",
    "\t# popping both the elements from list\n",
    "\tfirst_ele = list.pop(pos1)\n",
    "\tsecond_ele = list.pop(pos2-1)\n",
    "\t\n",
    "\t# inserting in each others positions\n",
    "\tlist.insert(pos1, second_ele)\n",
    "\tlist.insert(pos2, first_ele)\n",
    "\t\n",
    "\treturn list\n",
    "\n",
    "# Driver function\n",
    "List = [23, 65, 19, 90]\n",
    "pos1, pos2 = 1, 3\n",
    "\n",
    "print(swapPositions(List, pos1-1, pos2-1))\n"
   ]
  },
  {
   "cell_type": "code",
   "execution_count": 21,
   "id": "906a0115",
   "metadata": {},
   "outputs": [],
   "source": [
    "# Approach #3 : Using tuple variable\n",
    "# Store the element at pos1 and pos2 as a pair in a tuple variable, say get. Unpack those elements with pos2 and pos1 positions \n",
    "# in that list. Now, both the positions in that list are swapped. "
   ]
  },
  {
   "cell_type": "code",
   "execution_count": 22,
   "id": "3ae3ac00",
   "metadata": {},
   "outputs": [
    {
     "name": "stdout",
     "output_type": "stream",
     "text": [
      "[19, 65, 23, 90]\n"
     ]
    }
   ],
   "source": [
    "# Python3 program to swap elements at\n",
    "# given positions\n",
    "\n",
    "# Swap function\n",
    "def swapPositions(list, pos1, pos2):\n",
    "\n",
    "\t# Storing the two elements\n",
    "\t# as a pair in a tuple variable get\n",
    "\tget = list[pos1], list[pos2]\n",
    "\t\n",
    "\t# unpacking those elements\n",
    "\tlist[pos2], list[pos1] = get\n",
    "\t\n",
    "\treturn list\n",
    "\n",
    "# Driver Code\n",
    "List = [23, 65, 19, 90]\n",
    "\n",
    "pos1, pos2 = 1, 3\n",
    "print(swapPositions(List, pos1-1, pos2-1))\n"
   ]
  },
  {
   "cell_type": "code",
   "execution_count": 29,
   "id": "08f24217",
   "metadata": {},
   "outputs": [
    {
     "name": "stdout",
     "output_type": "stream",
     "text": [
      "[3, 2, 1, 4]\n"
     ]
    }
   ],
   "source": [
    "def swap(l, p1, p2):\n",
    "    l[p2], l[p1] = l[p1], l[p2]\n",
    "    return l\n",
    "l = [1,2,3,4]\n",
    "p1, p2 = 1, 3\n",
    "print(swap(l, p1-1, p2-1))"
   ]
  },
  {
   "cell_type": "code",
   "execution_count": 31,
   "id": "899443bf",
   "metadata": {},
   "outputs": [],
   "source": [
    "# Approach #4: Using temp variable"
   ]
  },
  {
   "cell_type": "code",
   "execution_count": 32,
   "id": "f3242713",
   "metadata": {},
   "outputs": [
    {
     "name": "stdout",
     "output_type": "stream",
     "text": [
      "[19, 65, 23, 90]\n"
     ]
    }
   ],
   "source": [
    "# Python3 program to swap elements\n",
    "# at given positions\n",
    "\n",
    "# Swap function\n",
    "def swapPositions(lis, pos1, pos2):\n",
    "\ttemp=lis[pos1]\n",
    "\tlis[pos1]=lis[pos2]\n",
    "\tlis[pos2]=temp\n",
    "\treturn lis\n",
    "# Driver function\n",
    "List = [23, 65, 19, 90]\n",
    "pos1, pos2 = 1, 3\n",
    "\n",
    "print(swapPositions(List, pos1-1, pos2-1))\n"
   ]
  },
  {
   "cell_type": "code",
   "execution_count": null,
   "id": "df781fc0",
   "metadata": {},
   "outputs": [],
   "source": [
    "# Approach #5: Using enumerate\n",
    "\n",
    "# Another approach to swapping elements in a list is to use the enumerate function to get the index and value of each element in \n",
    "# the list, and then use a loop to find the elements that need to be swapped and swap them.\n",
    "\n",
    "\n",
    "# This approach has a time complexity of O(n), since it involves looping through the entire list to find the elements \n",
    "# to be swapped. The space complexity is O(1), since it only uses a constant amount of additional space to store the \n",
    "# elements to be swapped.\n",
    "\n",
    "# Note that this approach can be made more efficient by using a single loop and breaking out of the loop once the \n",
    "# elements have been found and swapped."
   ]
  },
  {
   "cell_type": "code",
   "execution_count": 33,
   "id": "0911bb2c",
   "metadata": {},
   "outputs": [
    {
     "name": "stdout",
     "output_type": "stream",
     "text": [
      "[19, 65, 23, 90]\n"
     ]
    }
   ],
   "source": [
    "def swapPositions(lis, pos1, pos2):\n",
    "\tfor i, x in enumerate(lis):\n",
    "\t\tif i == pos1:\n",
    "\t\t\telem1 = x\n",
    "\t\tif i == pos2:\n",
    "\t\t\telem2 = x\n",
    "\tlis[pos1] = elem2\n",
    "\tlis[pos2] = elem1\n",
    "\treturn lis\n",
    "\n",
    "List = [23, 65, 19, 90]\n",
    "pos1, pos2 = 1, 3\n",
    "print(swapPositions(List, pos1-1, pos2-1))\n",
    "#This code is contributed by Edula Vinay Kumar Reddy\n"
   ]
  },
  {
   "cell_type": "code",
   "execution_count": null,
   "id": "ba780af2",
   "metadata": {},
   "outputs": [],
   "source": [
    "def swap(l, p1, p2)"
   ]
  }
 ],
 "metadata": {
  "kernelspec": {
   "display_name": "Python 3 (ipykernel)",
   "language": "python",
   "name": "python3"
  },
  "language_info": {
   "codemirror_mode": {
    "name": "ipython",
    "version": 3
   },
   "file_extension": ".py",
   "mimetype": "text/x-python",
   "name": "python",
   "nbconvert_exporter": "python",
   "pygments_lexer": "ipython3",
   "version": "3.9.7"
  }
 },
 "nbformat": 4,
 "nbformat_minor": 5
}
