{
 "cells": [
  {
   "cell_type": "code",
   "execution_count": 1,
   "id": "6ec31888",
   "metadata": {},
   "outputs": [
    {
     "name": "stdout",
     "output_type": "stream",
     "text": [
      "enter a number :5\n",
      "120\n"
     ]
    }
   ],
   "source": [
    "# WAP OF Factorial 5 :\n",
    "n=int(input(\"enter a number :\"))\n",
    "f=1\n",
    "for i in range(1,n+1):\n",
    "    f=f*i\n",
    "print(f)"
   ]
  },
  {
   "cell_type": "code",
   "execution_count": 1,
   "id": "778bcb76",
   "metadata": {},
   "outputs": [
    {
     "name": "stdout",
     "output_type": "stream",
     "text": [
      "ENter a No :7\n",
      "5040\n"
     ]
    }
   ],
   "source": [
    "# WAP OF FACTORIAL 7\n",
    "n=int(input(\"ENter a No :\"))\n",
    "f=1\n",
    "for i in range(1,n+1):\n",
    "    f=f*i\n",
    "print(f)"
   ]
  },
  {
   "cell_type": "code",
   "execution_count": 1,
   "id": "13aeb7bf",
   "metadata": {},
   "outputs": [
    {
     "name": "stdout",
     "output_type": "stream",
     "text": [
      "enter a no :8\n",
      "40320\n"
     ]
    }
   ],
   "source": [
    "n=int(input(\"enter a no :\"))\n",
    "f=1\n",
    "for i in range(1,n+1):\n",
    "    f=f*i\n",
    "print(f)"
   ]
  },
  {
   "cell_type": "code",
   "execution_count": 2,
   "id": "63287b36",
   "metadata": {},
   "outputs": [
    {
     "name": "stdout",
     "output_type": "stream",
     "text": [
      "enter a no :9\n",
      "362880\n"
     ]
    }
   ],
   "source": [
    "n=int(input(\"enter a no :\"))\n",
    "f=1\n",
    "for i in range(1,n+1):\n",
    "    f=f*i\n",
    "print(f)"
   ]
  },
  {
   "cell_type": "markdown",
   "id": "0c5b0ad4",
   "metadata": {},
   "source": [
    "# SUM OF EVEN AND ODD :"
   ]
  },
  {
   "cell_type": "code",
   "execution_count": 2,
   "id": "71c05951",
   "metadata": {},
   "outputs": [
    {
     "name": "stdout",
     "output_type": "stream",
     "text": [
      "enter starting  number :2\n",
      "enter ending number :30\n",
      "sum  of even is 240\n",
      "sum  of odd is 224\n"
     ]
    }
   ],
   "source": [
    "\n",
    "s=int(input(\"enter starting  number :\"))\n",
    "e=int(input(\"enter ending number :\"))\n",
    "se=0\n",
    "so=0\n",
    "for i in range (s,e+1):\n",
    "    if i%2==0:\n",
    "        se=se+i\n",
    "    else:\n",
    "        so=so+i\n",
    "print(\"sum  of even is\",se)\n",
    "print(\"sum  of odd is\",so)"
   ]
  },
  {
   "cell_type": "markdown",
   "id": "265263d6",
   "metadata": {},
   "source": [
    "# RANGE FUN WITH 3 ARGUMENTS :\n",
    "\n",
    "when we wil pass 3 arguments in range fun then first argument is starting of loop ,\n",
    "2nd argument is condition but its depends on 3rd argument .if 3rd argument is a positive value then\n",
    "we will treat condition as less than and if 3rd argument is a negative value then we will treat condition as \n",
    "greater than...3rd argument is mainly used for increment or decrement, we will use positive value for increment \n",
    "and negative value for decrement."
   ]
  },
  {
   "cell_type": "code",
   "execution_count": 7,
   "id": "30fafe29",
   "metadata": {},
   "outputs": [
    {
     "name": "stdout",
     "output_type": "stream",
     "text": [
      "1\n",
      "2\n",
      "3\n",
      "4\n",
      "5\n",
      "6\n",
      "7\n",
      "8\n",
      "9\n",
      "10\n"
     ]
    }
   ],
   "source": [
    "for i in range(1,11,1):\n",
    "    print(i)"
   ]
  },
  {
   "cell_type": "code",
   "execution_count": 8,
   "id": "421463dc",
   "metadata": {},
   "outputs": [
    {
     "name": "stdout",
     "output_type": "stream",
     "text": [
      "1\n",
      "3\n",
      "5\n",
      "7\n",
      "9\n"
     ]
    }
   ],
   "source": [
    "for i in range(1,11,2):\n",
    "    print(i)"
   ]
  },
  {
   "cell_type": "markdown",
   "id": "654e8e49",
   "metadata": {},
   "source": [
    "PRINT TABLE BY GIVEN VALUES IN LOOP :"
   ]
  },
  {
   "cell_type": "code",
   "execution_count": 13,
   "id": "b68645d0",
   "metadata": {},
   "outputs": [
    {
     "name": "stdout",
     "output_type": "stream",
     "text": [
      "5\n",
      "10\n",
      "15\n",
      "20\n",
      "25\n",
      "30\n",
      "35\n",
      "40\n",
      "45\n",
      "50\n"
     ]
    }
   ],
   "source": [
    "n=5\n",
    "for i in range(n,n*10+1,n):\n",
    "       print(i)"
   ]
  },
  {
   "cell_type": "code",
   "execution_count": 4,
   "id": "88a1dde2",
   "metadata": {},
   "outputs": [
    {
     "name": "stdout",
     "output_type": "stream",
     "text": [
      "enter a no :5\n",
      "50\n"
     ]
    }
   ],
   "source": [
    "n=int(input(\"enter a no :\"))\n",
    "for i in range(1,11):\n",
    "     print(n*i)"
   ]
  },
  {
   "cell_type": "markdown",
   "id": "36b371a1",
   "metadata": {},
   "source": [
    "REVERSE COUNTING :"
   ]
  },
  {
   "cell_type": "code",
   "execution_count": 14,
   "id": "539f11aa",
   "metadata": {},
   "outputs": [
    {
     "name": "stdout",
     "output_type": "stream",
     "text": [
      "10\n",
      "9\n",
      "8\n",
      "7\n",
      "6\n",
      "5\n",
      "4\n",
      "3\n",
      "2\n",
      "1\n"
     ]
    }
   ],
   "source": [
    "for i in range(10,0,-1):\n",
    "       print(i)"
   ]
  },
  {
   "cell_type": "code",
   "execution_count": 15,
   "id": "147e0df7",
   "metadata": {},
   "outputs": [
    {
     "name": "stdout",
     "output_type": "stream",
     "text": [
      "17\n",
      "14\n",
      "11\n",
      "8\n"
     ]
    }
   ],
   "source": [
    "for i in range(17,6,-3):\n",
    "       print(i)"
   ]
  },
  {
   "cell_type": "markdown",
   "id": "35e43e23",
   "metadata": {},
   "source": [
    "REVERSE TABLE :"
   ]
  },
  {
   "cell_type": "code",
   "execution_count": 16,
   "id": "880e70dc",
   "metadata": {},
   "outputs": [
    {
     "name": "stdout",
     "output_type": "stream",
     "text": [
      "enter a number5\n",
      "50\n",
      "45\n",
      "40\n",
      "35\n",
      "30\n",
      "25\n",
      "20\n",
      "15\n",
      "10\n",
      "5\n"
     ]
    }
   ],
   "source": [
    "\n",
    "n=int(input(\"enter a number\"))\n",
    "for i in range(10,0,-1):\n",
    "       print(i*n)"
   ]
  },
  {
   "cell_type": "code",
   "execution_count": 2,
   "id": "4a5d3a8a",
   "metadata": {},
   "outputs": [
    {
     "name": "stdout",
     "output_type": "stream",
     "text": [
      "enter a number :5\n",
      "50\n",
      "45\n",
      "40\n",
      "35\n",
      "30\n",
      "25\n",
      "20\n",
      "15\n",
      "10\n",
      "5\n"
     ]
    }
   ],
   "source": [
    "n=int(input(\"enter a number :\"))\n",
    "for i in range(10*n,n-1,-n):\n",
    "       print(i)"
   ]
  },
  {
   "cell_type": "markdown",
   "id": "e4970faf",
   "metadata": {},
   "source": [
    "# '''Break Keyword:\n",
    "                 break is a keyword which is mainly use to terminate execution of a loop according to specified condition'''"
   ]
  },
  {
   "cell_type": "code",
   "execution_count": 21,
   "id": "dd608944",
   "metadata": {},
   "outputs": [
    {
     "name": "stdout",
     "output_type": "stream",
     "text": [
      "1\n",
      "2\n",
      "3\n",
      "4\n",
      "5\n",
      "after loop statement\n"
     ]
    }
   ],
   "source": [
    "for i in range(1,11):\n",
    "    if i>5:\n",
    "        break\n",
    "    print(i)\n",
    "print(\"after loop statement\")"
   ]
  },
  {
   "cell_type": "code",
   "execution_count": 6,
   "id": "bebb349f",
   "metadata": {},
   "outputs": [
    {
     "name": "stdout",
     "output_type": "stream",
     "text": [
      "1\n",
      "2\n",
      "3\n",
      "4\n",
      "5\n",
      "6\n",
      "7\n",
      "8\n",
      "after loop statement\n"
     ]
    }
   ],
   "source": [
    "for i in range (1,13):\n",
    "    if i>8:\n",
    "        break\n",
    "    print(i)\n",
    "print(\"after loop statement\")"
   ]
  },
  {
   "cell_type": "code",
   "execution_count": null,
   "id": "e05cffb6",
   "metadata": {},
   "outputs": [],
   "source": []
  }
 ],
 "metadata": {
  "kernelspec": {
   "display_name": "Python 3 (ipykernel)",
   "language": "python",
   "name": "python3"
  },
  "language_info": {
   "codemirror_mode": {
    "name": "ipython",
    "version": 3
   },
   "file_extension": ".py",
   "mimetype": "text/x-python",
   "name": "python",
   "nbconvert_exporter": "python",
   "pygments_lexer": "ipython3",
   "version": "3.9.7"
  }
 },
 "nbformat": 4,
 "nbformat_minor": 5
}
