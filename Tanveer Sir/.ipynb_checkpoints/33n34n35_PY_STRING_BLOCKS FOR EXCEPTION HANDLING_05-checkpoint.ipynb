{
 "cells": [
  {
   "cell_type": "markdown",
   "id": "f2cc1ffb",
   "metadata": {},
   "source": [
    "# COMMONLY USED BLOCKS FOR EXCEPTION HANDLING :\n",
    "\n",
    "1_TRY BLOCK : \n",
    "\n",
    "Inside the try block we will write code that \"\"may contains exception\"\",when exception will \"\"come inside the try block\"\" then \n",
    "\n",
    "try block will \"\"pause execution of program\"\" and \"\"search corresponding exception class\"\" in \"\"hierarchy of exception\"\" and\n",
    "\n",
    "\"\"create an object of corresponding exception class\"\" then raise exception object.\n",
    "\n",
    "2_EXCEPT BLOCK :\n",
    "\n",
    "In except block we will receive and store an object which is raised by try block and we will write handling code.\n",
    "\n",
    "3_ELSE BLOCK :\n",
    "\n",
    "Else block will ''execute'' after succesful execution of try block but if try block contains any exception then else block will \n",
    "\n",
    "not execute.\n",
    "\n",
    "4_FINALLY BLOCK :\n",
    "\n",
    "Finally block will execute after try and except, it means if you want to execute some special code when exception will come or \n",
    "\n",
    "not we write that code inside finally block."
   ]
  },
  {
   "cell_type": "code",
   "execution_count": null,
   "id": "f6e88279",
   "metadata": {},
   "outputs": [],
   "source": [
    "# try block: jisme exception ane ke chances ho usme hm code likhege ie try block...n exception aya to try nh chlega n wo chla \n",
    "#             jayega except block ke pas.\n",
    "# finally jb chlega jb output lana he h.\n",
    "\n",
    "# exception handling are of two types----\n",
    "# exception handling hm phle khud ke liye krege then client ke liye....1_as being a developer then for 2_client\n",
    "\n",
    "# Exception means runtime error."
   ]
  },
  {
   "cell_type": "code",
   "execution_count": 4,
   "id": "96ccb37b",
   "metadata": {},
   "outputs": [
    {
     "ename": "ZeroDivisionError",
     "evalue": "division by zero",
     "output_type": "error",
     "traceback": [
      "\u001b[1;31m---------------------------------------------------------------------------\u001b[0m",
      "\u001b[1;31mZeroDivisionError\u001b[0m                         Traceback (most recent call last)",
      "\u001b[1;32m~\\AppData\\Local\\Temp/ipykernel_7920/4166635422.py\u001b[0m in \u001b[0;36m<module>\u001b[1;34m\u001b[0m\n\u001b[1;32m----> 1\u001b[1;33m \u001b[0ma\u001b[0m\u001b[1;33m=\u001b[0m\u001b[1;36m10\u001b[0m\u001b[1;33m/\u001b[0m\u001b[1;36m0\u001b[0m\u001b[1;33m\u001b[0m\u001b[1;33m\u001b[0m\u001b[0m\n\u001b[0m\u001b[0;32m      2\u001b[0m \u001b[0mprint\u001b[0m\u001b[1;33m(\u001b[0m\u001b[0ma\u001b[0m\u001b[1;33m)\u001b[0m\u001b[1;33m\u001b[0m\u001b[1;33m\u001b[0m\u001b[0m\n",
      "\u001b[1;31mZeroDivisionError\u001b[0m: division by zero"
     ]
    }
   ],
   "source": [
    "a=10/0\n",
    "print(a)\n",
    "#yha pr chances h ki exception mile so hm ise try block m likhege,that is below cell..."
   ]
  },
  {
   "cell_type": "code",
   "execution_count": 5,
   "id": "36e4dd87",
   "metadata": {},
   "outputs": [
    {
     "name": "stdout",
     "output_type": "stream",
     "text": [
      "unable to divide by zero\n"
     ]
    }
   ],
   "source": [
    "try:\n",
    "    a=10/0\n",
    "    print(a)#wo code likhege jisme exception ane ke chances ho.\n",
    "except:\n",
    "     print(\"unable to divide by zero\")#handling code to prevent program from termination.\n",
    "        \n",
    "#note: In this case we got the exception so exception block ran."
   ]
  },
  {
   "cell_type": "code",
   "execution_count": 6,
   "id": "825a808f",
   "metadata": {},
   "outputs": [
    {
     "name": "stdout",
     "output_type": "stream",
     "text": [
      "5.0\n"
     ]
    }
   ],
   "source": [
    "try:\n",
    "    a=10/2\n",
    "    print(a)#wo code likhege jisme exception ane ke chances ho.\n",
    "except:\n",
    "     print(\"unable to divide by zero\")#handling code to prevent program from termination.\n",
    "        \n",
    "#note: In this case we didn't get the exception so try block had run."
   ]
  },
  {
   "cell_type": "code",
   "execution_count": 7,
   "id": "65307d94",
   "metadata": {},
   "outputs": [
    {
     "name": "stdout",
     "output_type": "stream",
     "text": [
      "enter first number :10\n",
      "enter second number :2\n",
      "div is 5.0\n",
      "after successful execution of try block\n"
     ]
    }
   ],
   "source": [
    "a=int(input(\"enter first number :\"))\n",
    "b=int(input(\"enter second number :\"))\n",
    "try:\n",
    "    c=a/b#pause\n",
    "    print(\"div is\",c)\n",
    "except:\n",
    "    print(\"unable to divide by zero\")\n",
    "else:\n",
    "    print(\"after successful execution of try block\")\n",
    "    \n",
    "NOTE: Else block ran here after try block had run."
   ]
  },
  {
   "cell_type": "code",
   "execution_count": 1,
   "id": "7633ded5",
   "metadata": {},
   "outputs": [
    {
     "name": "stdout",
     "output_type": "stream",
     "text": [
      "enter first number :10\n",
      "enter second number :2\n",
      "div is 5.0\n",
      "after successful execution of try block\n",
      "always execute\n"
     ]
    }
   ],
   "source": [
    "a=int(input(\"enter first number :\"))\n",
    "b=int(input(\"enter second number :\"))\n",
    "try:\n",
    "    c=a/b#pause\n",
    "    print(\"div is\",c)\n",
    "except:\n",
    "    print(\"unable to divide by zero\")\n",
    "else:\n",
    "    print(\"after successful execution of try block\")\n",
    "finally:\n",
    "    print(\"always execute\")\n",
    "    \n",
    "#1_jaise he divided by zero mila, kise python virtual machine ko,kisme program m,exception hierarchy m search krta h,kisko  \n",
    "#search krta h class ko,to class milti h zero division error n us zero division error ka ye object bnata h, us object  \n",
    "#ko ye raise kr deta h n raise kiya hua object apke program  ko terminate krke message ko expand kr deta h.\n",
    "\n",
    "#2_ab raise kiya hua object program ko terminate na kre to hm except block ka use krege n usme is problem ko handle krne \n",
    "#ke liye handling code likhege.\n",
    "\n",
    "#3_else block chlega after successful execution of try block.\n",
    "\n",
    "#4_finally block, try and except block dono ke sath chlega n try block chelga to else b chlega n also finally block will run."
   ]
  },
  {
   "cell_type": "code",
   "execution_count": 2,
   "id": "cfc13053",
   "metadata": {},
   "outputs": [
    {
     "name": "stdout",
     "output_type": "stream",
     "text": [
      "enter first number :10\n",
      "enter second number :0\n",
      "unable to divide by zero\n",
      "always execute\n"
     ]
    }
   ],
   "source": [
    "a=int(input(\"enter first number :\"))\n",
    "b=int(input(\"enter second number :\"))\n",
    "try:\n",
    "    c=a/b#pause\n",
    "    print(\"div is\",c)\n",
    "except:\n",
    "    print(\"unable to divide by zero\")\n",
    "else:\n",
    "    print(\"after successful execution of try block\")\n",
    "finally:\n",
    "    print(\"always execute\")"
   ]
  },
  {
   "cell_type": "markdown",
   "id": "94bc580e",
   "metadata": {},
   "source": [
    "# ZERO DIVISION ERROR :"
   ]
  },
  {
   "cell_type": "code",
   "execution_count": null,
   "id": "b50f6acd",
   "metadata": {},
   "outputs": [],
   "source": [
    "#Exception handling is of two types one is for developer and other one for client or user....\n",
    "#EH will do fisrt for ourself then for client."
   ]
  },
  {
   "cell_type": "code",
   "execution_count": 8,
   "id": "13929371",
   "metadata": {},
   "outputs": [
    {
     "name": "stdout",
     "output_type": "stream",
     "text": [
      "enter first number :10\n",
      "enter second number :0\n",
      "<class 'ZeroDivisionError'>\n",
      "division by zero\n"
     ]
    }
   ],
   "source": [
    "#for developer :\n",
    "\n",
    "try:\n",
    "    a=int(input(\"enter first number :\"))\n",
    "    b=int(input(\"enter second number :\"))\n",
    "    c=a/b#pause\n",
    "    print(\"div is\",c)\n",
    "except Exception as e:   #e is here child class of exception and any error can be stored ,cz exception is parent class.\n",
    "    print(type(e))#we will know type of class.\n",
    "    print(e)#kis reason se aya h error wo btayega"
   ]
  },
  {
   "cell_type": "code",
   "execution_count": 6,
   "id": "5bac2158",
   "metadata": {},
   "outputs": [
    {
     "name": "stdout",
     "output_type": "stream",
     "text": [
      "enter first number :10\n",
      "enter second number :0\n",
      "unable to divide by zero\n"
     ]
    }
   ],
   "source": [
    "#for user or client :\n",
    "\n",
    "try:\n",
    "    a=int(input(\"enter first number :\"))\n",
    "    b=int(input(\"enter second number :\"))\n",
    "    c=a/b#pause\n",
    "    print(\"div is\",c)\n",
    "except ZeroDivisionError:\n",
    "    print(\"unable to divide by zero\")\n",
    "    "
   ]
  },
  {
   "cell_type": "code",
   "execution_count": 10,
   "id": "f64343e0",
   "metadata": {},
   "outputs": [
    {
     "name": "stdout",
     "output_type": "stream",
     "text": [
      "enter first number :10\n",
      "enter second number :2\n",
      "div is 5.0\n"
     ]
    }
   ],
   "source": [
    "#for developer :\n",
    "\n",
    "try:\n",
    "    a=int(input(\"enter first number :\"))\n",
    "    b=int(input(\"enter second number :\"))\n",
    "    c=a/b#pause\n",
    "    print(\"div is\",c)\n",
    "except Exception as e:\n",
    "    print(type(e))\n",
    "    print(e)"
   ]
  },
  {
   "cell_type": "code",
   "execution_count": 7,
   "id": "feeb4c97",
   "metadata": {},
   "outputs": [
    {
     "name": "stdout",
     "output_type": "stream",
     "text": [
      "enter first number :10\n",
      "enter second number :2\n",
      "div is 5.0\n"
     ]
    }
   ],
   "source": [
    "#for user or client :\n",
    "\n",
    "try:\n",
    "    a=int(input(\"enter first number :\"))\n",
    "    b=int(input(\"enter second number :\"))\n",
    "    c=a/b#pause\n",
    "    print(\"div is\",c)\n",
    "except ZeroDivisionError:\n",
    "    print(\"unable to divide by zero\")\n",
    "    "
   ]
  },
  {
   "cell_type": "markdown",
   "id": "8234bf3d",
   "metadata": {},
   "source": [
    "# NAME ERROR :"
   ]
  },
  {
   "cell_type": "code",
   "execution_count": 1,
   "id": "2634d0fc",
   "metadata": {},
   "outputs": [
    {
     "ename": "NameError",
     "evalue": "name 'a' is not defined",
     "output_type": "error",
     "traceback": [
      "\u001b[1;31m---------------------------------------------------------------------------\u001b[0m",
      "\u001b[1;31mNameError\u001b[0m                                 Traceback (most recent call last)",
      "\u001b[1;32m~\\AppData\\Local\\Temp/ipykernel_9004/1189138062.py\u001b[0m in \u001b[0;36m<module>\u001b[1;34m\u001b[0m\n\u001b[1;32m----> 1\u001b[1;33m \u001b[0mprint\u001b[0m\u001b[1;33m(\u001b[0m\u001b[0ma\u001b[0m\u001b[1;33m)\u001b[0m\u001b[1;33m\u001b[0m\u001b[1;33m\u001b[0m\u001b[0m\n\u001b[0m",
      "\u001b[1;31mNameError\u001b[0m: name 'a' is not defined"
     ]
    }
   ],
   "source": [
    "print(a)"
   ]
  },
  {
   "cell_type": "code",
   "execution_count": 3,
   "id": "1900225a",
   "metadata": {},
   "outputs": [
    {
     "name": "stdout",
     "output_type": "stream",
     "text": [
      "name 'a' is not defined\n",
      "<class 'NameError'>\n"
     ]
    }
   ],
   "source": [
    "try:\n",
    "    print(a)\n",
    "except Exception as e:\n",
    "    print(e)#kis reason se aya h error wo btayega\n",
    "    print(type(e))#type btayega error ka"
   ]
  },
  {
   "cell_type": "code",
   "execution_count": 5,
   "id": "94fa2b71",
   "metadata": {},
   "outputs": [
    {
     "name": "stdout",
     "output_type": "stream",
     "text": [
      "name has not defined please define it first\n"
     ]
    }
   ],
   "source": [
    "try:\n",
    "    print(a)\n",
    "except NameError:\n",
    "    print(\"name has not defined please define it first\")\n",
    "except Exception as e:\n",
    "    print(e)#kis reason se aya h error wo btayega\n",
    "    print(type(e))#type btayega error ka"
   ]
  },
  {
   "cell_type": "markdown",
   "id": "34467f88",
   "metadata": {},
   "source": [
    "# INDEX ERROR :"
   ]
  },
  {
   "cell_type": "code",
   "execution_count": 6,
   "id": "8f6db39c",
   "metadata": {},
   "outputs": [
    {
     "name": "stdout",
     "output_type": "stream",
     "text": [
      "list assignment index out of range\n",
      "<class 'IndexError'>\n"
     ]
    }
   ],
   "source": [
    "try:\n",
    "    a=[]\n",
    "    a[0]=10\n",
    "except Exception as e:\n",
    "    print(e)#kis reason se aya h error wo btayega\n",
    "    print(type(e))#type btayega error ka"
   ]
  },
  {
   "cell_type": "code",
   "execution_count": 7,
   "id": "fd4d5b60",
   "metadata": {},
   "outputs": [
    {
     "name": "stdout",
     "output_type": "stream",
     "text": [
      "Index is not present in list\n"
     ]
    }
   ],
   "source": [
    "try:\n",
    "    a=[]\n",
    "    a[0]=10\n",
    "except IndexError:\n",
    "    print(\"Index is not present in list\")\n",
    "except Exception as e:\n",
    "    print(e)#kis reason se aya h error wo btayega\n",
    "    print(type(e))#type btayega error ka"
   ]
  },
  {
   "cell_type": "markdown",
   "id": "f5e661ee",
   "metadata": {},
   "source": [
    "# ONE TRY WITH MULTIPLE EXCEPT :"
   ]
  },
  {
   "cell_type": "code",
   "execution_count": 4,
   "id": "bb92f01b",
   "metadata": {},
   "outputs": [
    {
     "name": "stdout",
     "output_type": "stream",
     "text": [
      "key is not present in the list\n"
     ]
    }
   ],
   "source": [
    "try:\n",
    "#     a=[]\n",
    "#     a[0]=10/2\n",
    "    b={}\n",
    "    print(b['name'])\n",
    "except NameError:\n",
    "    print(\"name is not defined\")\n",
    "except ZeroDivisionError:\n",
    "    print(\"unable to divide by zero\")\n",
    "except IndexError:\n",
    "    print(\"Index is not present in list\")\n",
    "except KeyError:\n",
    "    print(\"key is not present in the list\")\n",
    "except Exception as e:\n",
    "    print(e)#kis reason se aya h error wo btayega\n",
    "    print(type(e))#type btayega error ka"
   ]
  },
  {
   "cell_type": "code",
   "execution_count": 5,
   "id": "c3ac92c1",
   "metadata": {},
   "outputs": [
    {
     "name": "stdout",
     "output_type": "stream",
     "text": [
      "enter a number :10a\n",
      "invalid literal for int() with base 10: '10a'\n",
      "<class 'ValueError'>\n"
     ]
    }
   ],
   "source": [
    "try:\n",
    "    a=int(input(\"enter a number :\"))\n",
    "    print(\"you entered\",a)\n",
    "    a[0]=10\n",
    "except Exception as e:\n",
    "    print(e)#kis reason se aya h error wo btayega\n",
    "    print(type(e))#type btayega error ka"
   ]
  },
  {
   "cell_type": "code",
   "execution_count": 6,
   "id": "eef9c6d8",
   "metadata": {},
   "outputs": [
    {
     "name": "stdout",
     "output_type": "stream",
     "text": [
      "enter a number :10a\n",
      "please enter only int value\n"
     ]
    }
   ],
   "source": [
    "try:\n",
    "    a=int(input(\"enter a number :\"))\n",
    "    print(\"you entered\",a)\n",
    "except ValueError:\n",
    "    print(\"please enter only int value\")\n",
    "except Exception as e:\n",
    "    print(e)#kis reason se aya h error wo btayega\n",
    "    print(type(e))#type btayega error ka"
   ]
  },
  {
   "cell_type": "markdown",
   "id": "b7a2fbb6",
   "metadata": {},
   "source": [
    "# RAISE KEYWORD :\n",
    "\n",
    "It is mainly used to \"raise or generate exception\" according to specified condition, with the help of raise we can raise either\n",
    "\n",
    "\"user defined exception class object\" or \"system defined exception class object\".\n",
    "\n",
    "\n",
    "NOTE:\n",
    "\n",
    "Jb koi no even ho tb to thik but jb odd ho tb m ye chahta hu yha ki m exception raise kru, ab tk ye ho rha tha ki python \n",
    "\n",
    "interpreter raise krwa rha tha.\n",
    "\n"
   ]
  },
  {
   "cell_type": "code",
   "execution_count": 1,
   "id": "1ff1b5c7",
   "metadata": {},
   "outputs": [
    {
     "name": "stdout",
     "output_type": "stream",
     "text": [
      "enter a number :10\n",
      "10  is even\n"
     ]
    }
   ],
   "source": [
    "n=int(input(\"enter a number :\"))\n",
    "if n%2==0:\n",
    "    print(n,\" is even\")\n",
    "else:\n",
    "    raise Exception(\"odd not accepted\") \n",
    "    \n",
    "#is exception ke object ko mne raise keyword lgakr raise kr diya h so this is how i will do\n",
    "# raise myself exception not interpreter n yha mne msg decide kr diya h ki kya print hona chahye ie \"odd not accepted\"."
   ]
  },
  {
   "cell_type": "code",
   "execution_count": 1,
   "id": "2b53a055",
   "metadata": {},
   "outputs": [
    {
     "name": "stdout",
     "output_type": "stream",
     "text": [
      "enter a number :3\n"
     ]
    },
    {
     "ename": "Exception",
     "evalue": "odd not accepted",
     "output_type": "error",
     "traceback": [
      "\u001b[1;31m---------------------------------------------------------------------------\u001b[0m",
      "\u001b[1;31mException\u001b[0m                                 Traceback (most recent call last)",
      "\u001b[1;32m~\\AppData\\Local\\Temp/ipykernel_6476/2834602083.py\u001b[0m in \u001b[0;36m<module>\u001b[1;34m\u001b[0m\n\u001b[0;32m      3\u001b[0m     \u001b[0mprint\u001b[0m\u001b[1;33m(\u001b[0m\u001b[0mn\u001b[0m\u001b[1;33m,\u001b[0m\u001b[1;34m\" is even\"\u001b[0m\u001b[1;33m)\u001b[0m\u001b[1;33m\u001b[0m\u001b[1;33m\u001b[0m\u001b[0m\n\u001b[0;32m      4\u001b[0m \u001b[1;32melse\u001b[0m\u001b[1;33m:\u001b[0m\u001b[1;33m\u001b[0m\u001b[1;33m\u001b[0m\u001b[0m\n\u001b[1;32m----> 5\u001b[1;33m     \u001b[1;32mraise\u001b[0m \u001b[0mException\u001b[0m\u001b[1;33m(\u001b[0m\u001b[1;34m\"odd not accepted\"\u001b[0m\u001b[1;33m)\u001b[0m\u001b[1;33m\u001b[0m\u001b[1;33m\u001b[0m\u001b[0m\n\u001b[0m\u001b[0;32m      6\u001b[0m \u001b[1;33m\u001b[0m\u001b[0m\n\u001b[0;32m      7\u001b[0m \u001b[1;31m#yha ye jaruri nh h ki hm exception he raise kre, hm iski jgh zerodivisionerror b raise krwa skte h n wo raise krwayege to erro\u001b[0m\u001b[1;33m\u001b[0m\u001b[1;33m\u001b[0m\u001b[0m\n",
      "\u001b[1;31mException\u001b[0m: odd not accepted"
     ]
    }
   ],
   "source": [
    "n=int(input(\"enter a number :\"))\n",
    "if n%2==0:\n",
    "    print(n,\" is even\")\n",
    "else:\n",
    "    raise Exception(\"odd not accepted\")\n",
    "    \n",
    "#yha ye jaruri nh h ki hm exception he raise kre, hm iski jgh zerodivisionerror b raise krwa skte h n wo raise krwayege to erro \n",
    "# m hme milega b whi."
   ]
  },
  {
   "cell_type": "code",
   "execution_count": 3,
   "id": "b1933686",
   "metadata": {},
   "outputs": [
    {
     "name": "stdout",
     "output_type": "stream",
     "text": [
      "enter a number :3\n"
     ]
    },
    {
     "ename": "ZeroDivisionError",
     "evalue": "odd not accepted",
     "output_type": "error",
     "traceback": [
      "\u001b[1;31m---------------------------------------------------------------------------\u001b[0m",
      "\u001b[1;31mZeroDivisionError\u001b[0m                         Traceback (most recent call last)",
      "\u001b[1;32m~\\AppData\\Local\\Temp/ipykernel_10036/2194345839.py\u001b[0m in \u001b[0;36m<module>\u001b[1;34m\u001b[0m\n\u001b[0;32m      3\u001b[0m     \u001b[0mprint\u001b[0m\u001b[1;33m(\u001b[0m\u001b[0mn\u001b[0m\u001b[1;33m,\u001b[0m\u001b[1;34m\" is even\"\u001b[0m\u001b[1;33m)\u001b[0m\u001b[1;33m\u001b[0m\u001b[1;33m\u001b[0m\u001b[0m\n\u001b[0;32m      4\u001b[0m \u001b[1;32melse\u001b[0m\u001b[1;33m:\u001b[0m\u001b[1;33m\u001b[0m\u001b[1;33m\u001b[0m\u001b[0m\n\u001b[1;32m----> 5\u001b[1;33m     \u001b[1;32mraise\u001b[0m \u001b[0mZeroDivisionError\u001b[0m\u001b[1;33m(\u001b[0m\u001b[1;34m\"odd not accepted\"\u001b[0m\u001b[1;33m)\u001b[0m\u001b[1;33m\u001b[0m\u001b[1;33m\u001b[0m\u001b[0m\n\u001b[0m",
      "\u001b[1;31mZeroDivisionError\u001b[0m: odd not accepted"
     ]
    }
   ],
   "source": [
    "n=int(input(\"enter a number :\"))\n",
    "if n%2==0:\n",
    "    print(n,\" is even\")\n",
    "else:\n",
    "    raise ZeroDivisionError(\"odd not accepted\")\n",
    "    \n",
    "#see here we hv replaced exception with zerodivisionerror but hmara msg abhi b whi h, upr b n yha b...n iska kya mtlb h apko \n",
    "#raise ke bad kisi bhi exception class ka nam likhna h n uska kya bn jayega , \"object\"  n ap uske sath m jo b msg dena chahte \n",
    "#ho de skte ho.\n",
    "\n",
    "#see what's happening exaclty here, jb hm 10 ko divide kr rhe hoge zero se tb usi tym pr interpreter ek object bna rha hoga \n",
    "#ie ZeroDivisionError n uske aage raise keyword lga rha hoga...n advance python m hm khud ki b exception classes bna skte h\n",
    "#n ie called user defined exception.\n",
    "\n",
    "#hm exception raise kr q rhe h ??? cz jb ye program 500 developer use kr rhe hoge, tb,agr koi b developer asi value use kr \n",
    "# le jise mne define na kiya ho,us case m mjhe exception raise krna h\n",
    "#then abye developer us problem ko handle krege apne2 according...n kisi b type ka exception raise kr skte h."
   ]
  },
  {
   "cell_type": "code",
   "execution_count": 2,
   "id": "54d7b92b",
   "metadata": {},
   "outputs": [],
   "source": [
    "def show():\n",
    "    n=int(input(\"enter a number :\"))\n",
    "    if n%2==0:\n",
    "        print(n,\" is even\")\n",
    "    else:\n",
    "        raise ZeroDivisionError(\"odd not accepted\")\n",
    "#syntax error ko chhodkr jitni b error h wo sb exceptions hai n exceptions ko exception handling se handle kiya jata h n syntax\n",
    "# error compiler deta h use exception handling se dur nh kr skte.\n",
    "#yha hm same code ko show method m use krege n ise bnakr chhod diya then hm show method ko call krege n apne even no diya to \n",
    "#woto print hojayega but odd denge wo error denga then hm show method ko try block m call krege n ab hme pta h ki isme \n",
    "#exception arha h so hm ab yha exception raise krege with the help of except block n usme ek object bna denge zerodivision class\n",
    "#ka ie zerodivisionerror.\n",
    "#ab yha even no print kraya wo ho jayega but ap jb odd print krwaoge to error denga n is error ko hmne phle he defined kr diya \n",
    "# tha\n",
    "\n",
    "#show method wala program bnaya mne tha but use kaun kr rha h??...ap use kr rhe h...n mne jb bnaya tha tb mne ek exception raise\n",
    "#kr diya tha ie ZeroDivisionError n ab ap sb apne2 hisab se handle kr le then apne kiya then u hv entered odd value u got the\n",
    "#msg odd not accepted ...n yha ab mne jo bnaya h use use nh kroge to mera program apke program ko terminate krega he krega n\n",
    "#ap nh chahte ho ki apka program terminate ho, so yha ise apko handle krna he hoga...so kisi b situtation m ap apka exception \n",
    "#raise krwa skte ho."
   ]
  },
  {
   "cell_type": "code",
   "execution_count": 7,
   "id": "a5176937",
   "metadata": {},
   "outputs": [],
   "source": [
    "def show():\n",
    "    n=int(input(\"enter a number :\"))\n",
    "    if n%2==0:\n",
    "        print(n,\" is even\")\n",
    "    else:\n",
    "        raise ZeroDivisionError(\"odd not accepted\")"
   ]
  },
  {
   "cell_type": "code",
   "execution_count": 8,
   "id": "7cde873e",
   "metadata": {},
   "outputs": [
    {
     "name": "stdout",
     "output_type": "stream",
     "text": [
      "enter a number :6\n",
      "6  is even\n"
     ]
    }
   ],
   "source": [
    "show()"
   ]
  },
  {
   "cell_type": "code",
   "execution_count": 9,
   "id": "0c7bf13a",
   "metadata": {},
   "outputs": [
    {
     "name": "stdout",
     "output_type": "stream",
     "text": [
      "enter a number :3\n"
     ]
    },
    {
     "ename": "ZeroDivisionError",
     "evalue": "odd not accepted",
     "output_type": "error",
     "traceback": [
      "\u001b[1;31m---------------------------------------------------------------------------\u001b[0m",
      "\u001b[1;31mZeroDivisionError\u001b[0m                         Traceback (most recent call last)",
      "\u001b[1;32m~\\AppData\\Local\\Temp/ipykernel_6104/2152131889.py\u001b[0m in \u001b[0;36m<module>\u001b[1;34m\u001b[0m\n\u001b[1;32m----> 1\u001b[1;33m \u001b[0mshow\u001b[0m\u001b[1;33m(\u001b[0m\u001b[1;33m)\u001b[0m\u001b[1;33m\u001b[0m\u001b[1;33m\u001b[0m\u001b[0m\n\u001b[0m",
      "\u001b[1;32m~\\AppData\\Local\\Temp/ipykernel_6104/495017628.py\u001b[0m in \u001b[0;36mshow\u001b[1;34m()\u001b[0m\n\u001b[0;32m      4\u001b[0m         \u001b[0mprint\u001b[0m\u001b[1;33m(\u001b[0m\u001b[0mn\u001b[0m\u001b[1;33m,\u001b[0m\u001b[1;34m\" is even\"\u001b[0m\u001b[1;33m)\u001b[0m\u001b[1;33m\u001b[0m\u001b[1;33m\u001b[0m\u001b[0m\n\u001b[0;32m      5\u001b[0m     \u001b[1;32melse\u001b[0m\u001b[1;33m:\u001b[0m\u001b[1;33m\u001b[0m\u001b[1;33m\u001b[0m\u001b[0m\n\u001b[1;32m----> 6\u001b[1;33m         \u001b[1;32mraise\u001b[0m \u001b[0mZeroDivisionError\u001b[0m\u001b[1;33m(\u001b[0m\u001b[1;34m\"odd not accepted\"\u001b[0m\u001b[1;33m)\u001b[0m\u001b[1;33m\u001b[0m\u001b[1;33m\u001b[0m\u001b[0m\n\u001b[0m",
      "\u001b[1;31mZeroDivisionError\u001b[0m: odd not accepted"
     ]
    }
   ],
   "source": [
    "show()"
   ]
  },
  {
   "cell_type": "markdown",
   "id": "4dbc3f92",
   "metadata": {},
   "source": [
    "# NESTED TRY EXCEPT :"
   ]
  },
  {
   "cell_type": "code",
   "execution_count": 4,
   "id": "c4b81e7a",
   "metadata": {},
   "outputs": [
    {
     "name": "stdout",
     "output_type": "stream",
     "text": [
      "enter first number :10\n",
      "enter second number :2\n",
      "enter index :0\n",
      "value is 5.0\n"
     ]
    }
   ],
   "source": [
    "try:\n",
    "    a=int(input(\"enter first number :\"))\n",
    "    b=int(input(\"enter second number :\"))\n",
    "    z=[0]\n",
    "    c=a/b\n",
    "    try:\n",
    "          i=int(input(\"enter index :\"))\n",
    "          z[i]=c\n",
    "          print(\"value is\",c)\n",
    "    except IndexError :\n",
    "          print(\"index not exist\")\n",
    "except ZeroDivisionError:\n",
    "          print(\"unable to divide by zero\")"
   ]
  },
  {
   "cell_type": "code",
   "execution_count": 8,
   "id": "579a47a1",
   "metadata": {},
   "outputs": [
    {
     "name": "stdout",
     "output_type": "stream",
     "text": [
      "enter first number :10\n",
      "enter second number :0\n",
      "unable to divide by zero\n"
     ]
    }
   ],
   "source": [
    "try:\n",
    "    a=int(input(\"enter first number :\"))\n",
    "    b=int(input(\"enter second number :\"))\n",
    "    z=[0]\n",
    "    c=a/b\n",
    "    try:\n",
    "          i=int(input(\"enter index\"))\n",
    "          z[i]=c\n",
    "          print(\"value is\",c)\n",
    "    except IndexError :\n",
    "          print(\"index not exist\")\n",
    "except ZeroDivisionError:\n",
    "          print(\"unable to divide by zero\")"
   ]
  },
  {
   "cell_type": "code",
   "execution_count": 1,
   "id": "f049fa4f",
   "metadata": {},
   "outputs": [
    {
     "name": "stdout",
     "output_type": "stream",
     "text": [
      "enter first number :10\n",
      "enter second number :2\n",
      "enter index5\n",
      "unable to divide by zero\n"
     ]
    }
   ],
   "source": [
    "try:\n",
    "    a=int(input(\"enter first number :\"))\n",
    "    b=int(input(\"enter second number :\"))\n",
    "    z=[10,10]\n",
    "    c=a/b\n",
    "    try:\n",
    "        i=int(input(\"enter index\"))\n",
    "        z[i]=c\n",
    "        print(\"value is\",c)\n",
    "    except ZeroDivisionError :\n",
    "            print(\"index not exist\")\n",
    "except IndexError:\n",
    "          print(\"unable to divide by zero\")"
   ]
  },
  {
   "cell_type": "code",
   "execution_count": 13,
   "id": "0d65b74b",
   "metadata": {},
   "outputs": [
    {
     "name": "stdout",
     "output_type": "stream",
     "text": [
      "enter first number :10\n",
      "enter second number :2\n",
      "enter index1\n",
      "value is 5.0\n"
     ]
    }
   ],
   "source": [
    "try:\n",
    "    a=int(input(\"enter first number :\"))\n",
    "    b=int(input(\"enter second number :\"))\n",
    "    z=[10,10]\n",
    "    c=a/b\n",
    "    try:\n",
    "        i=int(input(\"enter index\"))\n",
    "        z[i]=c\n",
    "        print(\"value is\",c)\n",
    "    except ZeroDivisionError :\n",
    "            print(\"index not exist\")\n",
    "except IndexError:\n",
    "          print(\"unable to divide by zero\")"
   ]
  },
  {
   "cell_type": "code",
   "execution_count": 14,
   "id": "4b5eecaf",
   "metadata": {},
   "outputs": [
    {
     "name": "stdout",
     "output_type": "stream",
     "text": [
      "enter first number :10\n",
      "enter second number :0\n"
     ]
    },
    {
     "ename": "ZeroDivisionError",
     "evalue": "division by zero",
     "output_type": "error",
     "traceback": [
      "\u001b[1;31m---------------------------------------------------------------------------\u001b[0m",
      "\u001b[1;31mZeroDivisionError\u001b[0m                         Traceback (most recent call last)",
      "\u001b[1;32m~\\AppData\\Local\\Temp/ipykernel_10036/1808386050.py\u001b[0m in \u001b[0;36m<module>\u001b[1;34m\u001b[0m\n\u001b[0;32m      3\u001b[0m     \u001b[0mb\u001b[0m\u001b[1;33m=\u001b[0m\u001b[0mint\u001b[0m\u001b[1;33m(\u001b[0m\u001b[0minput\u001b[0m\u001b[1;33m(\u001b[0m\u001b[1;34m\"enter second number :\"\u001b[0m\u001b[1;33m)\u001b[0m\u001b[1;33m)\u001b[0m\u001b[1;33m\u001b[0m\u001b[1;33m\u001b[0m\u001b[0m\n\u001b[0;32m      4\u001b[0m     \u001b[0mz\u001b[0m\u001b[1;33m=\u001b[0m\u001b[1;33m[\u001b[0m\u001b[1;36m10\u001b[0m\u001b[1;33m,\u001b[0m\u001b[1;36m10\u001b[0m\u001b[1;33m]\u001b[0m\u001b[1;33m\u001b[0m\u001b[1;33m\u001b[0m\u001b[0m\n\u001b[1;32m----> 5\u001b[1;33m     \u001b[0mc\u001b[0m\u001b[1;33m=\u001b[0m\u001b[0ma\u001b[0m\u001b[1;33m/\u001b[0m\u001b[0mb\u001b[0m\u001b[1;33m\u001b[0m\u001b[1;33m\u001b[0m\u001b[0m\n\u001b[0m\u001b[0;32m      6\u001b[0m     \u001b[1;32mtry\u001b[0m\u001b[1;33m:\u001b[0m\u001b[1;33m\u001b[0m\u001b[1;33m\u001b[0m\u001b[0m\n\u001b[0;32m      7\u001b[0m         \u001b[0mi\u001b[0m\u001b[1;33m=\u001b[0m\u001b[0mint\u001b[0m\u001b[1;33m(\u001b[0m\u001b[0minput\u001b[0m\u001b[1;33m(\u001b[0m\u001b[1;34m\"enter index\"\u001b[0m\u001b[1;33m)\u001b[0m\u001b[1;33m)\u001b[0m\u001b[1;33m\u001b[0m\u001b[1;33m\u001b[0m\u001b[0m\n",
      "\u001b[1;31mZeroDivisionError\u001b[0m: division by zero"
     ]
    }
   ],
   "source": [
    "try:\n",
    "    a=int(input(\"enter first number :\"))\n",
    "    b=int(input(\"enter second number :\"))\n",
    "    z=[10,10]\n",
    "    c=a/b\n",
    "    try:\n",
    "        i=int(input(\"enter index\"))\n",
    "        z[i]=c\n",
    "        print(\"value is\",c)\n",
    "    except ZeroDivisionError :\n",
    "            print(\"index not exist\")\n",
    "except IndexError:\n",
    "          print(\"unable to divide by zero\")"
   ]
  },
  {
   "cell_type": "code",
   "execution_count": null,
   "id": "4dd228af",
   "metadata": {},
   "outputs": [],
   "source": []
  },
  {
   "cell_type": "code",
   "execution_count": null,
   "id": "2a1ac253",
   "metadata": {},
   "outputs": [],
   "source": []
  }
 ],
 "metadata": {
  "kernelspec": {
   "display_name": "Python 3 (ipykernel)",
   "language": "python",
   "name": "python3"
  },
  "language_info": {
   "codemirror_mode": {
    "name": "ipython",
    "version": 3
   },
   "file_extension": ".py",
   "mimetype": "text/x-python",
   "name": "python",
   "nbconvert_exporter": "python",
   "pygments_lexer": "ipython3",
   "version": "3.9.7"
  }
 },
 "nbformat": 4,
 "nbformat_minor": 5
}
