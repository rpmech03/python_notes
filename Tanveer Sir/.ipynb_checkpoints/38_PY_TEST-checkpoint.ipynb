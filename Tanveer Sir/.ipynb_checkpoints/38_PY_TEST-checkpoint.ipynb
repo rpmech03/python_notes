{
 "cells": [
  {
   "cell_type": "code",
   "execution_count": 1,
   "id": "2b5b495c",
   "metadata": {},
   "outputs": [
    {
     "ename": "SyntaxError",
     "evalue": "invalid decimal literal (Temp/ipykernel_5432/32231469.py, line 2)",
     "output_type": "error",
     "traceback": [
      "\u001b[1;36m  File \u001b[1;32m\"C:\\Users\\HZT\\AppData\\Local\\Temp/ipykernel_5432/32231469.py\"\u001b[1;36m, line \u001b[1;32m2\u001b[0m\n\u001b[1;33m    2_take dictionary from user n print all its data.\u001b[0m\n\u001b[1;37m     ^\u001b[0m\n\u001b[1;31mSyntaxError\u001b[0m\u001b[1;31m:\u001b[0m invalid decimal literal\n"
     ]
    }
   ],
   "source": [
    "1_take a list  from user n check its element of list is prime or not?\n",
    "2_take dictionary from user n print all its data.\n",
    "3_take a string from user and count no of vowels from string.\n",
    "4_take  a string from user n check its palindrome or not?\n",
    "5_take two sets from user n check second set is subset of first or not? "
   ]
  },
  {
   "cell_type": "markdown",
   "id": "83a91cfa",
   "metadata": {},
   "source": [
    "# 1_take a list  from user n check its element of list is prime or not?"
   ]
  },
  {
   "cell_type": "code",
   "execution_count": 6,
   "id": "8376834b",
   "metadata": {},
   "outputs": [
    {
     "name": "stdout",
     "output_type": "stream",
     "text": [
      "enter size of list :4\n",
      "3\n",
      "4\n",
      "6\n",
      "9\n",
      "[3, 4, 6, 9]\n",
      "3  is prime \n",
      "4  is not a prime\n",
      "6  is not a prime\n",
      "9  is not a prime\n"
     ]
    }
   ],
   "source": [
    "a=[]\n",
    "n=int(input(\"enter size of list :\"))\n",
    "for i in range(n):\n",
    "    t=int(input())\n",
    "    a.append(t)\n",
    "print(a)\n",
    "for i in a:\n",
    "    for j in range(2,i):\n",
    "        if i%j==0:\n",
    "            print(i,\" is not a prime\")\n",
    "            break\n",
    "    else:\n",
    "        print(i,\" is prime \")"
   ]
  },
  {
   "cell_type": "markdown",
   "id": "1d964bd2",
   "metadata": {},
   "source": [
    "# 2_take dictionary from user n print all its data."
   ]
  },
  {
   "cell_type": "code",
   "execution_count": 2,
   "id": "fcafbfb1",
   "metadata": {},
   "outputs": [
    {
     "name": "stdout",
     "output_type": "stream",
     "text": [
      "enter number of entry3\n",
      "enter detail for entry 1\n",
      "enter key :Name\n",
      "enter value :Rakesh\n",
      "enter detail for entry 2\n",
      "enter key :Roll Number\n",
      "enter value :0183CS111045\n",
      "enter detail for entry 3\n",
      "enter key :Grade\n",
      "enter value :A+\n",
      "{'Name': 'Rakesh', 'Roll Number': '0183CS111045', 'Grade': 'A+'}\n"
     ]
    }
   ],
   "source": [
    "a={}\n",
    "e=int(input(\"enter number of entry :\"))\n",
    "for i in range(1,e+1):\n",
    "    print(\"enter detail for entry \",i)\n",
    "    k=input(\"enter key :\")\n",
    "    v=input(\"enter value :\")\n",
    "    a.update({k:v})\n",
    "print(a)"
   ]
  },
  {
   "cell_type": "markdown",
   "id": "890b9276",
   "metadata": {},
   "source": [
    "# 3_take a string from user and count no of vowels from string."
   ]
  },
  {
   "cell_type": "code",
   "execution_count": 4,
   "id": "e0511625",
   "metadata": {},
   "outputs": [
    {
     "name": "stdout",
     "output_type": "stream",
     "text": [
      "Number of vowels are:\n",
      "7\n"
     ]
    }
   ],
   "source": [
    "s=\"we are learning python\"\n",
    "vowels=0\n",
    "for i in s:\n",
    "    if(i=='a' or i=='e' or i=='i' or i=='o' or i=='u'):\n",
    "        vowels=vowels+1\n",
    "print(\"Number of vowels are:\")\n",
    "print(vowels)"
   ]
  },
  {
   "cell_type": "markdown",
   "id": "ab569835",
   "metadata": {},
   "source": [
    "# 4_take  a string from user n check its palindrome or not?"
   ]
  },
  {
   "cell_type": "code",
   "execution_count": 5,
   "id": "9e74ef63",
   "metadata": {},
   "outputs": [
    {
     "name": "stdout",
     "output_type": "stream",
     "text": [
      "enter a string :hello\n",
      "hello is not palindrome\n"
     ]
    }
   ],
   "source": [
    "s=input(\"enter a string :\")\n",
    "r=s[::-1]\n",
    "if s==r:\n",
    "    print(s,\"is palindrome\")\n",
    "else:\n",
    "    print(s,\"is not palindrome\")"
   ]
  },
  {
   "cell_type": "markdown",
   "id": "ce7416a7",
   "metadata": {},
   "source": [
    "# 5_take two sets from user n check second set is subset of first or not? "
   ]
  },
  {
   "cell_type": "code",
   "execution_count": null,
   "id": "70a16f7b",
   "metadata": {},
   "outputs": [],
   "source": [
    "a={1,2,3,4}\n",
    "b={1,2}\n",
    "c=b.issubset(a)\n",
    "print(c)"
   ]
  }
 ],
 "metadata": {
  "kernelspec": {
   "display_name": "Python 3 (ipykernel)",
   "language": "python",
   "name": "python3"
  },
  "language_info": {
   "codemirror_mode": {
    "name": "ipython",
    "version": 3
   },
   "file_extension": ".py",
   "mimetype": "text/x-python",
   "name": "python",
   "nbconvert_exporter": "python",
   "pygments_lexer": "ipython3",
   "version": "3.9.7"
  }
 },
 "nbformat": 4,
 "nbformat_minor": 5
}
