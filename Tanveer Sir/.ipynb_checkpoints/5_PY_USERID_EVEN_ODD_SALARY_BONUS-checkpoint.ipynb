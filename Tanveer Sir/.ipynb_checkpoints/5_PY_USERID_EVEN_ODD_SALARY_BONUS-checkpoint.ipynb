{
 "cells": [
  {
   "cell_type": "code",
   "execution_count": 1,
   "id": "9e7b7807",
   "metadata": {},
   "outputs": [
    {
     "name": "stdout",
     "output_type": "stream",
     "text": [
      "enter user id :admin\n",
      "enter user pwd :12345\n",
      "welcome to user home\n"
     ]
    }
   ],
   "source": [
    "uid=input(\"enter user id :\")\n",
    "pwd=input(\"enter user pwd :\")\n",
    "if uid==\"admin\" and pwd==\"12345\":\n",
    "    print(\"welcome to user home\")\n",
    "else:\n",
    "    print(\"Invalid id or password\")"
   ]
  },
  {
   "cell_type": "code",
   "execution_count": 2,
   "id": "0f14d088",
   "metadata": {},
   "outputs": [
    {
     "name": "stdout",
     "output_type": "stream",
     "text": [
      "enter user id :rp\n",
      "enter user pwd :123\n",
      "Invalid id or password\n"
     ]
    }
   ],
   "source": [
    "uid=input(\"enter user id :\")\n",
    "pwd=input(\"enter user pwd :\")\n",
    "if uid==\"admin\" and pwd==\"12345\":\n",
    "    print(\"welcome to user home\")\n",
    "else:\n",
    "    print(\"Invalid id or password\")    \n",
    "    \n",
    "# But there is problem we couldnt identify here that which thing is invalid, id or password???"
   ]
  },
  {
   "cell_type": "code",
   "execution_count": 3,
   "id": "6e28d514",
   "metadata": {},
   "outputs": [
    {
     "name": "stdout",
     "output_type": "stream",
     "text": [
      "enter user id :admin\n",
      "enter password :12345\n",
      "welcome to user home\n"
     ]
    }
   ],
   "source": [
    "uid=input(\"enter user id :\")\n",
    "if uid==\"admin\":\n",
    "    pwd=input(\"enter password :\")\n",
    "    if pwd==\"12345\":\n",
    "        print(\"welcome to home\")\n",
    "    else:\n",
    "        print(\"Invalid Password\")\n",
    "else:\n",
    "     print(\"Invalid user id\")"
   ]
  },
  {
   "cell_type": "code",
   "execution_count": 6,
   "id": "5c81642a",
   "metadata": {},
   "outputs": [
    {
     "name": "stdout",
     "output_type": "stream",
     "text": [
      "enter a no :101\n",
      "Invalid value\n"
     ]
    }
   ],
   "source": [
    "a=int(input(\"enter a no :\"))\n",
    "if a>=0 and a<=100:\n",
    "    print(\"under range\")\n",
    "else:\n",
    "    print(\"Invalid value\")"
   ]
  },
  {
   "cell_type": "code",
   "execution_count": 8,
   "id": "c5e7a499",
   "metadata": {},
   "outputs": [
    {
     "name": "stdout",
     "output_type": "stream",
     "text": [
      "enter a no :3\n",
      "3 is odd\n"
     ]
    }
   ],
   "source": [
    "a=int(input(\"enter a no :\"))\n",
    "if a%2==0:\n",
    "    print(a,\"is even\")\n",
    "    \n",
    "else:\n",
    "    print(a,\"is odd\")"
   ]
  },
  {
   "cell_type": "code",
   "execution_count": 10,
   "id": "70b7ebb9",
   "metadata": {},
   "outputs": [
    {
     "name": "stdout",
     "output_type": "stream",
     "text": [
      "enter a amount :90000\n",
      "target completed\n",
      "salary is 20000\n"
     ]
    }
   ],
   "source": [
    "sal= 20000\n",
    "a=int(input(\"enter a amount :\"))\n",
    "if a>=50000 and a<=200000:\n",
    "    print(\"target completed\")\n",
    "    print(\"salary is\",sal)\n",
    "    if a>100000:\n",
    "        bonus=sal*.25\n",
    "        print(\"bonus is\",bonus)\n",
    "        total=sal+bonus\n",
    "        print(\"total amount is\",total)"
   ]
  },
  {
   "cell_type": "code",
   "execution_count": 11,
   "id": "41ed82e3",
   "metadata": {},
   "outputs": [
    {
     "name": "stdout",
     "output_type": "stream",
     "text": [
      "enter a amount :120000\n",
      "target completed\n",
      "salary is 20000\n",
      "bonus is 5000.0\n",
      "total amount is 25000.0\n"
     ]
    }
   ],
   "source": [
    "sal= 20000\n",
    "a=int(input(\"enter a amount :\"))\n",
    "if a>=50000 and a<=200000:\n",
    "    print(\"target completed\")\n",
    "    print(\"salary is\",sal)\n",
    "    if a>100000:\n",
    "        bonus=sal*.25\n",
    "        print(\"bonus is\",bonus)\n",
    "        total=sal+bonus\n",
    "        print(\"total amount is\",total)"
   ]
  },
  {
   "cell_type": "code",
   "execution_count": 12,
   "id": "44cf0238",
   "metadata": {},
   "outputs": [
    {
     "name": "stdout",
     "output_type": "stream",
     "text": [
      "enter a amount :25000\n",
      "contact to manager\n"
     ]
    }
   ],
   "source": [
    "sal= 20000\n",
    "a=int(input(\"enter a amount :\"))\n",
    "if a>=50000 and a<=200000:\n",
    "    print(\"target completed\")\n",
    "    print(\"salary is\",sal)\n",
    "    if a>100000:\n",
    "        bonus=sal*.25\n",
    "        print(\"bonus is\",bonus)\n",
    "        total=sal+bonus\n",
    "        print(\"total amount is\",total)\n",
    "else:\n",
    "    print(\"contact to manager\")"
   ]
  },
  {
   "cell_type": "code",
   "execution_count": 14,
   "id": "b5bdbfa9",
   "metadata": {},
   "outputs": [
    {
     "name": "stdout",
     "output_type": "stream",
     "text": [
      "839.6995310110069\n"
     ]
    }
   ],
   "source": [
    "import random\n",
    "n=random.random()*1000\n",
    "print(n)"
   ]
  },
  {
   "cell_type": "code",
   "execution_count": 15,
   "id": "9be635fa",
   "metadata": {},
   "outputs": [
    {
     "name": "stdout",
     "output_type": "stream",
     "text": [
      "474\n"
     ]
    }
   ],
   "source": [
    "import random\n",
    "n=int(random.random()*1000)\n",
    "print(n)"
   ]
  },
  {
   "cell_type": "code",
   "execution_count": 16,
   "id": "59657a3c",
   "metadata": {},
   "outputs": [
    {
     "name": "stdout",
     "output_type": "stream",
     "text": [
      "3926\n"
     ]
    }
   ],
   "source": [
    "import random\n",
    "n=int(random.random()*10000)\n",
    "print(n)"
   ]
  },
  {
   "cell_type": "code",
   "execution_count": 2,
   "id": "038cd06d",
   "metadata": {},
   "outputs": [
    {
     "name": "stdout",
     "output_type": "stream",
     "text": [
      "44\n"
     ]
    }
   ],
   "source": [
    "import random\n",
    "n=int(random.random()*100)\n",
    "print(n)"
   ]
  }
 ],
 "metadata": {
  "kernelspec": {
   "display_name": "Python 3 (ipykernel)",
   "language": "python",
   "name": "python3"
  },
  "language_info": {
   "codemirror_mode": {
    "name": "ipython",
    "version": 3
   },
   "file_extension": ".py",
   "mimetype": "text/x-python",
   "name": "python",
   "nbconvert_exporter": "python",
   "pygments_lexer": "ipython3",
   "version": "3.9.7"
  }
 },
 "nbformat": 4,
 "nbformat_minor": 5
}
