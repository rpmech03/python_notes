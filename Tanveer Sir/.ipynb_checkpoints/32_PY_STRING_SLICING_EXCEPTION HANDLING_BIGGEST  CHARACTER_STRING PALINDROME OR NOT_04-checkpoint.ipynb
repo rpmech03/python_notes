{
 "cells": [
  {
   "cell_type": "markdown",
   "id": "58405f67",
   "metadata": {},
   "source": [
    "# String Slicing :\n",
    "\n",
    "Slicing is mainly use to print substring from a string.We can print substring with the help of slicing in forward and backward \n",
    "\n",
    "direction."
   ]
  },
  {
   "cell_type": "code",
   "execution_count": null,
   "id": "1c8ddd02",
   "metadata": {},
   "outputs": [],
   "source": [
    "start:end:steps or jump ...print less than 3 or whataevr u hv entered. "
   ]
  },
  {
   "cell_type": "code",
   "execution_count": 2,
   "id": "449f9d65",
   "metadata": {},
   "outputs": [
    {
     "name": "stdout",
     "output_type": "stream",
     "text": [
      "hel\n"
     ]
    }
   ],
   "source": [
    "s=\"hello\"\n",
    "s=s[0:3]#started from zero n printed the values less than 3.\n",
    "print(s)"
   ]
  },
  {
   "cell_type": "code",
   "execution_count": 3,
   "id": "f99e3dda",
   "metadata": {},
   "outputs": [
    {
     "name": "stdout",
     "output_type": "stream",
     "text": [
      "ello\n"
     ]
    }
   ],
   "source": [
    "s=\"hello\"\n",
    "s=s[1:]#here\n",
    "print(s)"
   ]
  },
  {
   "cell_type": "code",
   "execution_count": 4,
   "id": "f7f6421b",
   "metadata": {},
   "outputs": [
    {
     "name": "stdout",
     "output_type": "stream",
     "text": [
      "hl\n"
     ]
    }
   ],
   "source": [
    "s=\"hello\"\n",
    "s=s[0:4:2]\n",
    "print(s)"
   ]
  },
  {
   "cell_type": "markdown",
   "id": "35953a0d",
   "metadata": {},
   "source": [
    "# REVERSE:"
   ]
  },
  {
   "cell_type": "code",
   "execution_count": 1,
   "id": "c30203cd",
   "metadata": {},
   "outputs": [
    {
     "name": "stdout",
     "output_type": "stream",
     "text": [
      "olle\n"
     ]
    }
   ],
   "source": [
    "s=\"hello\"\n",
    "s=s[4:0:-1]\n",
    "print(s)"
   ]
  },
  {
   "cell_type": "code",
   "execution_count": 2,
   "id": "c4243b55",
   "metadata": {},
   "outputs": [
    {
     "name": "stdout",
     "output_type": "stream",
     "text": [
      "olleh\n"
     ]
    }
   ],
   "source": [
    "s=\"hello\"\n",
    "s=s[4::-1]\n",
    "print(s)"
   ]
  },
  {
   "cell_type": "code",
   "execution_count": null,
   "id": "6575f87a",
   "metadata": {},
   "outputs": [],
   "source": [
    "#end argument can never be negative."
   ]
  },
  {
   "cell_type": "code",
   "execution_count": 6,
   "id": "8b12316e",
   "metadata": {},
   "outputs": [
    {
     "name": "stdout",
     "output_type": "stream",
     "text": [
      "olleh\n"
     ]
    }
   ],
   "source": [
    "s=\"hello\"\n",
    "s=s[::-1]#will be printed whole string if u hv not given the start and end values.\n",
    "print(s)"
   ]
  },
  {
   "cell_type": "code",
   "execution_count": 7,
   "id": "d2773dbe",
   "metadata": {},
   "outputs": [
    {
     "name": "stdout",
     "output_type": "stream",
     "text": [
      "hello\n"
     ]
    }
   ],
   "source": [
    "s=\"hello\"\n",
    "s=s[::]#printed whole if u left empty start and end.\n",
    "print(s)"
   ]
  },
  {
   "cell_type": "markdown",
   "id": "16cbc05c",
   "metadata": {},
   "source": [
    "# COMPARISION OF TWO PYTHON STRING :\n",
    "\n",
    "We can compare 2 python string by using \"equal operator or by using membership operator\"."
   ]
  },
  {
   "cell_type": "code",
   "execution_count": 9,
   "id": "ecf30440",
   "metadata": {},
   "outputs": [
    {
     "name": "stdout",
     "output_type": "stream",
     "text": [
      "compare using == operator\n",
      "True\n",
      "False\n",
      "Membership Operator\n",
      "True\n",
      "False\n",
      "False\n",
      "True\n"
     ]
    }
   ],
   "source": [
    "s=\"hello\"\n",
    "s1=\"hello\"\n",
    "s2=\"python\"\n",
    "print(\"compare using == operator\")\n",
    "print(s==s1)\n",
    "print(s==s2)\n",
    "print(\"Membership Operator\")\n",
    "print(s is s1)\n",
    "print(s is s2)\n",
    "print(s is not s1)\n",
    "print(s is not s2)"
   ]
  },
  {
   "cell_type": "markdown",
   "id": "647e6a39",
   "metadata": {},
   "source": [
    "# STRING IS PALINDROME OR NOT :"
   ]
  },
  {
   "cell_type": "code",
   "execution_count": 10,
   "id": "fe84b0aa",
   "metadata": {},
   "outputs": [
    {
     "name": "stdout",
     "output_type": "stream",
     "text": [
      "enter a string :hello\n",
      "hello is not palindrome\n"
     ]
    }
   ],
   "source": [
    "s=input(\"enter a string :\")\n",
    "r=s[::-1]\n",
    "if s==r:\n",
    "    print(s,\"is palindrome\")\n",
    "else:\n",
    "    print(s,\"is not palindrome\")"
   ]
  },
  {
   "cell_type": "code",
   "execution_count": 4,
   "id": "a4f9ecc6",
   "metadata": {},
   "outputs": [
    {
     "name": "stdout",
     "output_type": "stream",
     "text": [
      "Enter a string :krk\n",
      "krk is palindrome\n"
     ]
    }
   ],
   "source": [
    "s=input(\"Enter a string :\")\n",
    "r=s[::-1]\n",
    "if s==r:\n",
    "    print(s,\"is palindrome\")\n",
    "else:\n",
    "    print(s,\"is not palindrome\")\n",
    "    "
   ]
  },
  {
   "cell_type": "code",
   "execution_count": 11,
   "id": "1b55c60d",
   "metadata": {},
   "outputs": [
    {
     "name": "stdout",
     "output_type": "stream",
     "text": [
      "enter a string :aba\n",
      "aba is palindrome\n"
     ]
    }
   ],
   "source": [
    "s=input(\"enter a string :\")\n",
    "r=s[::-1]\n",
    "if s==r:\n",
    "    print(s,\"is palindrome\")\n",
    "else:\n",
    "    print(s,\"is not palindrome\")"
   ]
  },
  {
   "cell_type": "markdown",
   "id": "a68c6b96",
   "metadata": {},
   "source": [
    "# NO OF VOWELS IN STRING :"
   ]
  },
  {
   "cell_type": "code",
   "execution_count": 5,
   "id": "f5fc5396",
   "metadata": {},
   "outputs": [
    {
     "name": "stdout",
     "output_type": "stream",
     "text": [
      "Number of vowels are: 7\n"
     ]
    }
   ],
   "source": [
    "s=\"we are learning python\"\n",
    "vowels=0\n",
    "for i in s:\n",
    "    if(i=='a' or i=='e' or i=='i' or i=='o' or i=='u'):\n",
    "        vowels=vowels+1\n",
    "print(\"Number of vowels are:\",vowels)\n"
   ]
  },
  {
   "cell_type": "code",
   "execution_count": 6,
   "id": "a04e1ebf",
   "metadata": {},
   "outputs": [
    {
     "name": "stdout",
     "output_type": "stream",
     "text": [
      "No of vowels are : 16\n"
     ]
    }
   ],
   "source": [
    "s=\"Aaj twelth ka result ayega n raka has concerned about it\"\n",
    "vowels=0\n",
    "for i in s:\n",
    "    if(i=='a' or i=='e' or i=='i' or i=='u' or i=='u'):\n",
    "        vowels=vowels+1\n",
    "print(\"No of vowels are :\",vowels)"
   ]
  },
  {
   "cell_type": "markdown",
   "id": "32faa917",
   "metadata": {},
   "source": [
    "# EXCEPTION HANDLING :\n",
    "\n",
    "Exceptions are \"\"run time error or predefined scenario\"\" but in python \"\"exception is an object\"\" which is \"\"raised by \n",
    "\n",
    "PVM[PYTHON VIRTUAL MACHINE]\"\" according to specified condition or in python, \"\"exception is parent class of all type of \n",
    "\n",
    "exception\"\"."
   ]
  },
  {
   "cell_type": "markdown",
   "id": "e412ce12",
   "metadata": {},
   "source": [
    "# HIERARCHY OF EXCEPTION :\n",
    "\n",
    "BaseException\n",
    "\n",
    "Exception\n",
    "\n",
    "Standard Error\n",
    "\n",
    "Arithmetic Error   Environement Error   Runtime Error     Lookup Error     Syntax Error\n",
    "\n",
    "ZeroDivision                                                  Key Error  Index Error          Indentation Error\n",
    "Erro\n",
    "\n",
    "                     IO Error   OS error"
   ]
  },
  {
   "cell_type": "markdown",
   "id": "409cfe5e",
   "metadata": {},
   "source": [
    "# ORD FUNCTION :\n",
    "    \n",
    "Mainly used to convert a CHARACTER into ASCII CODE.We can convert a ASCII CODE Into CHARACTER by using chr function."
   ]
  },
  {
   "cell_type": "code",
   "execution_count": 12,
   "id": "b8081439",
   "metadata": {},
   "outputs": [
    {
     "name": "stdout",
     "output_type": "stream",
     "text": [
      "65\n"
     ]
    }
   ],
   "source": [
    "a='A'\n",
    "print(ord(a))"
   ]
  },
  {
   "cell_type": "code",
   "execution_count": 13,
   "id": "b159a93b",
   "metadata": {},
   "outputs": [
    {
     "name": "stdout",
     "output_type": "stream",
     "text": [
      "biggest char in string is z\n"
     ]
    }
   ],
   "source": [
    "a=\"helzlo\"\n",
    "b=0\n",
    "for i in a:\n",
    "    if b<ord(i):\n",
    "        b=ord(i)\n",
    "print(\"biggest char in string is\",chr(b))"
   ]
  },
  {
   "cell_type": "code",
   "execution_count": 20,
   "id": "8e8be0c7",
   "metadata": {},
   "outputs": [
    {
     "name": "stdout",
     "output_type": "stream",
     "text": [
      "24\n"
     ]
    }
   ],
   "source": [
    "s=\"i hope you are all right\"\n",
    "print(len(s))"
   ]
  },
  {
   "cell_type": "code",
   "execution_count": 21,
   "id": "e395d238",
   "metadata": {},
   "outputs": [
    {
     "name": "stdout",
     "output_type": "stream",
     "text": [
      "10\n"
     ]
    }
   ],
   "source": [
    "s=\"are you ok\"\n",
    "print(len(s))"
   ]
  },
  {
   "cell_type": "code",
   "execution_count": null,
   "id": "ffe09e06",
   "metadata": {},
   "outputs": [],
   "source": []
  }
 ],
 "metadata": {
  "kernelspec": {
   "display_name": "Python 3 (ipykernel)",
   "language": "python",
   "name": "python3"
  },
  "language_info": {
   "codemirror_mode": {
    "name": "ipython",
    "version": 3
   },
   "file_extension": ".py",
   "mimetype": "text/x-python",
   "name": "python",
   "nbconvert_exporter": "python",
   "pygments_lexer": "ipython3",
   "version": "3.9.7"
  }
 },
 "nbformat": 4,
 "nbformat_minor": 5
}
