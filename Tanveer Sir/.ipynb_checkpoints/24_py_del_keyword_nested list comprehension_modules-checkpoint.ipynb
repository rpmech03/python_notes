{
 "cells": [
  {
   "cell_type": "markdown",
   "id": "4c03ca15",
   "metadata": {},
   "source": [
    "# DEL KEYWORD :\n",
    "              \n",
    "Del keyword is mainly use to delete dictionary."
   ]
  },
  {
   "cell_type": "code",
   "execution_count": 1,
   "id": "f0d40f37",
   "metadata": {},
   "outputs": [
    {
     "name": "stdout",
     "output_type": "stream",
     "text": [
      "{'name': 'ajay'}\n"
     ]
    }
   ],
   "source": [
    "a={\n",
    "    'roll':101,\n",
    "    'name': 'ajay'\n",
    "}\n",
    "del a['roll']\n",
    "print(a)              "
   ]
  },
  {
   "cell_type": "code",
   "execution_count": 4,
   "id": "21211a63",
   "metadata": {},
   "outputs": [
    {
     "name": "stdout",
     "output_type": "stream",
     "text": [
      "[2, 4, 6, 8, 10]\n"
     ]
    }
   ],
   "source": [
    "a=[i for i in range(2,11,2)]\n",
    "print(a)"
   ]
  },
  {
   "cell_type": "code",
   "execution_count": 2,
   "id": "13ea51fe",
   "metadata": {},
   "outputs": [
    {
     "name": "stdout",
     "output_type": "stream",
     "text": [
      "[4, 16, 36, 64, 100]\n"
     ]
    }
   ],
   "source": [
    "a=[i**2 for i in range(2,11,2)]\n",
    "print(a)"
   ]
  },
  {
   "cell_type": "code",
   "execution_count": 3,
   "id": "00adb623",
   "metadata": {},
   "outputs": [
    {
     "name": "stdout",
     "output_type": "stream",
     "text": [
      "[1, 2, 3, 4]\n"
     ]
    }
   ],
   "source": [
    "a=[i for i in range(1,5)]\n",
    "print(a)"
   ]
  },
  {
   "cell_type": "code",
   "execution_count": 13,
   "id": "a9fe7d80",
   "metadata": {},
   "outputs": [
    {
     "name": "stdout",
     "output_type": "stream",
     "text": [
      "[[1, 2, 3], [2, 3, 4], [3, 4, 5]]\n"
     ]
    }
   ],
   "source": [
    "\n",
    "a=[[j for j in range(i,3+i)] for i in range(1,4)]\n",
    "print(a)"
   ]
  },
  {
   "cell_type": "code",
   "execution_count": 14,
   "id": "d918777d",
   "metadata": {},
   "outputs": [
    {
     "name": "stdout",
     "output_type": "stream",
     "text": [
      "[[2, 4, 6], [4, 6, 8], [6, 8, 10]]\n"
     ]
    }
   ],
   "source": [
    "\n",
    "a=[[j*2 for j in range(i,3+i)] for i in range(1,4)]\n",
    "print(a)"
   ]
  },
  {
   "cell_type": "markdown",
   "id": "004d0dca",
   "metadata": {},
   "source": [
    "# Modules :\n",
    "                 \n",
    "Modules are .py files that contains functions, classes and objects[CFO].\n",
    "\n",
    "Modules is a concept which is used for a code reusability.\n",
    "\n",
    "We can find out list of all modules in our system by using following commands- help('modules')\n",
    "                  \n",
    "In python we used two types of modules-\n",
    "\n",
    "1_Pre or System Defined Modules.\n",
    "2_User Defined Modules.\n",
    "                  \n",
    "2_User defined modules : It is nothing but .py file in which we store fun,classes and objects.We can use this module in any                              program by using import keyword.\n"
   ]
  },
  {
   "cell_type": "code",
   "execution_count": 15,
   "id": "30840295",
   "metadata": {},
   "outputs": [
    {
     "name": "stdout",
     "output_type": "stream",
     "text": [
      "\n",
      "Please wait a moment while I gather a list of all available modules...\n",
      "\n"
     ]
    },
    {
     "name": "stderr",
     "output_type": "stream",
     "text": [
      "C:\\Users\\HZT\\anaconda3\\lib\\site-packages\\IPython\\kernel\\__init__.py:12: ShimWarning: The `IPython.kernel` package has been deprecated since IPython 4.0.You should import from ipykernel or jupyter_client instead.\n",
      "  warn(\"The `IPython.kernel` package has been deprecated since IPython 4.0.\"\n",
      "WARNING: AstropyDeprecationWarning: The private astropy._erfa module has been made into its own package, pyerfa, which is a dependency of astropy and can be imported directly using \"import erfa\" [astropy._erfa]\n",
      "C:\\Users\\HZT\\anaconda3\\lib\\pkgutil.py:93: MatplotlibDeprecationWarning: \n",
      "The matplotlib.compat module was deprecated in Matplotlib 3.3 and will be removed two minor releases later.\n",
      "  __import__(info.name)\n",
      "C:\\Users\\HZT\\anaconda3\\lib\\site-packages\\nltk\\twitter\\__init__.py:20: UserWarning: The twython library has not been installed. Some functionality from the twitter package will not be available.\n",
      "  warnings.warn(\n"
     ]
    },
    {
     "name": "stdout",
     "output_type": "stream",
     "text": [
      "Update LANGUAGE_CODES (inside config/base.py) if a new translation has been added to Spyder\n"
     ]
    },
    {
     "name": "stderr",
     "output_type": "stream",
     "text": [
      "QSS file sucessfuly loaded.\n",
      "Found application patches to be applied.\n",
      "No QCoreApplication instance found. Application patches not applied. You have to call load_stylesheet function after instantiation of QApplication to take effect. \n",
      "C:\\Users\\HZT\\anaconda3\\lib\\pkgutil.py:108: VisibleDeprecationWarning: zmq.eventloop.minitornado is deprecated in pyzmq 14.0 and will be removed.\n",
      "    Install tornado itself to use zmq with the tornado IOLoop.\n",
      "    \n",
      "  yield from walk_packages(path, info.name+'.', onerror)\n"
     ]
    },
    {
     "name": "stdout",
     "output_type": "stream",
     "text": [
      "Cython              codecs              mock                sortedcontainers\n",
      "IPython             codeop              modulefinder        soupsieve\n",
      "OpenSSL             collections         more_itertools      sphinx\n",
      "PIL                 colorama            mpmath              sphinxcontrib\n",
      "PyQt5               colorsys            msgpack             spyder\n",
      "TBB                 commctrl            msilib              spyder_kernels\n",
      "__future__          compileall          msvcrt              sqlalchemy\n",
      "_abc                comtypes            multipledispatch    sqlite3\n",
      "_aix_support        concurrent          multiprocessing     sqlparse\n",
      "_ast                conda               munkres             sre_compile\n",
      "_asyncio            conda_build         mypy_extensions     sre_constants\n",
      "_bisect             conda_content_trust nacl                sre_parse\n",
      "_black_version      conda_env           navigator_updater   ssl\n",
      "_blake2             conda_pack          nbclassic           sspi\n",
      "_bootlocale         conda_package_handling nbclient            sspicon\n",
      "_bootsubprocess     conda_token         nbconvert           stat\n",
      "_bz2                conda_verify        nbformat            statistics\n",
      "_cffi_backend       configparser        nest_asyncio        statsmodels\n",
      "_codecs             contextlib          netbios             storemagic\n",
      "_codecs_cn          contextlib2         netrc               string\n",
      "_codecs_hk          contextvars         networkx            stringprep\n",
      "_codecs_iso2022     cookiecutter        nltk                struct\n",
      "_codecs_jp          copy                nntplib             subprocess\n",
      "_codecs_kr          copyreg             nose                sunau\n",
      "_codecs_tw          crypt               notebook            symbol\n",
      "_collections        cryptography        nt                  sympy\n",
      "_collections_abc    csv                 ntpath              sympyprinting\n",
      "_compat_pickle      ctypes              ntsecuritycon       symtable\n",
      "_compression        curl                nturl2path          sys\n",
      "_contextvars        curses              numba               sysconfig\n",
      "_csv                cwp                 numbers             tables\n",
      "_ctypes             cycler              numexpr             tabnanny\n",
      "_ctypes_test        cython              numpy               tarfile\n",
      "_daal4py            cythonmagic         numpydoc            tbb\n",
      "_datetime           cytoolz             odbc                tblib\n",
      "_decimal            daal4py             olefile             telnetlib\n",
      "_distutils_hack     dask                onedal              tempfile\n",
      "_elementtree        dataclasses         opcode              terminado\n",
      "_functools          datetime            openpyxl            test\n",
      "_hashlib            dateutil            operator            test_data\n",
      "_heapq              dbi                 optparse            test_pycosat\n",
      "_imp                dbm                 os                  testpath\n",
      "_io                 dde                 packaging           tests\n",
      "_json               debugpy             pandas              text_unidecode\n",
      "_locale             decimal             pandocfilters       textdistance\n",
      "_lsprof             decorator           paramiko            textwrap\n",
      "_lzma               defusedxml          parser              this\n",
      "_markupbase         diff_match_patch    parso               threading\n",
      "_md5                difflib             partd               threadpoolctl\n",
      "_msi                dis                 past                three_merge\n",
      "_multibytecodec     distributed         path                tifffile\n",
      "_multiprocessing    distutils           pathlib             time\n",
      "_nsis               django              pathlib2            timeit\n",
      "_onedal4py_host     doctest             pathspec            timer\n",
      "_opcode             docutils            patsy               tinycss\n",
      "_operator           email               pdb                 tkinter\n",
      "_osx_support        encodings           pep8                tlz\n",
      "_overlapped         ensurepip           perfmon             token\n",
      "_peg_parser         entrypoints         pexpect             tokenize\n",
      "_pickle             enum                pickle              toml\n",
      "_py_abc             erfa                pickleshare         toolz\n",
      "_pydecimal          errno               pickletools         tornado\n",
      "_pyio               et_xmlfile          pip                 tqdm\n",
      "_pyrsistent_version executing           pipes               trace\n",
      "_pytest             fastcache           pkg_resources       traceback\n",
      "_queue              faulthandler        pkginfo             tracemalloc\n",
      "_random             filecmp             pkgutil             traitlets\n",
      "_sha1               fileinput           platform            tty\n",
      "_sha256             filelock            playsound           turtle\n",
      "_sha3               flake8              plistlib            turtledemo\n",
      "_sha512             flask               pluggy              typed_ast\n",
      "_signal             fnmatch             ply                 types\n",
      "_sitebuiltins       fontTools           poplib              typing\n",
      "_socket             formatter           posixpath           typing_extensions\n",
      "_sqlite3            fractions           poyo                tzdata\n",
      "_sre                fsspec              pprint              ujson\n",
      "_ssl                ftplib              profile             unicodecsv\n",
      "_stat               functools           prometheus_client   unicodedata\n",
      "_statistics         future              prompt_toolkit      unidecode\n",
      "_string             gc                  pstats              unittest\n",
      "_strptime           genericpath         psutil              urllib\n",
      "_struct             getopt              pty                 urllib3\n",
      "_symtable           getpass             ptyprocess          uu\n",
      "_system_path        gettext             pvectorc            uuid\n",
      "_testbuffer         gevent              py                  venv\n",
      "_testcapi           glob                py_compile          warnings\n",
      "_testconsole        glob2               pyclbr              watchdog\n",
      "_testimportmultiple graphlib            pycodestyle         wave\n",
      "_testinternalcapi   greenlet            pycosat             wcwidth\n",
      "_testmultiphase     gzip                pycparser           weakref\n",
      "_thread             h5py                pycurl              webbrowser\n",
      "_threading_local    hashlib             pydoc               webencodings\n",
      "_tkinter            heapdict            pydoc_data          werkzeug\n",
      "_tracemalloc        heapq               pydocstyle          wheel\n",
      "_uuid               hmac                pyexpat             whichcraft\n",
      "_warnings           html                pyflakes            widgetsnbextension\n",
      "_weakref            html5lib            pygments            win2kras\n",
      "_weakrefset         http                pylab               win32api\n",
      "_win32sysloader     icecream            pylint              win32clipboard\n",
      "_winapi             idlelib             pyls_spyder         win32com\n",
      "_winxptheme         idna                pylsp               win32con\n",
      "_xxsubinterpreters  imagecodecs         pylsp_black         win32console\n",
      "_yaml               imageio             pylsp_jsonrpc       win32cred\n",
      "_zoneinfo           imagesize           pyodbc              win32crypt\n",
      "abc                 imaplib             pyparsing           win32cryptcon\n",
      "adodbapi            imghdr              pyreadline          win32ctypes\n",
      "afxres              imp                 pyrsistent          win32event\n",
      "aifc                importlib           pytest              win32evtlog\n",
      "alabaster           importlib_metadata  pythoncom           win32evtlogutil\n",
      "anaconda_navigator  inflection          pytz                win32file\n",
      "anaconda_project    iniconfig           pywin               win32gui\n",
      "antigravity         inspect             pywin32_bootstrap   win32gui_struct\n",
      "anyio               intervaltree        pywin32_testutil    win32help\n",
      "appdirs             io                  pywintypes          win32inet\n",
      "argh                ipaddress           pywt                win32inetcon\n",
      "argon2              ipykernel           pyximport           win32job\n",
      "argparse            ipykernel_launcher  qdarkstyle          win32lz\n",
      "array               ipython_genutils    qstylizer           win32net\n",
      "arrow               ipywidgets          qtawesome           win32netcon\n",
      "asgiref             isapi               qtconsole           win32pdh\n",
      "asn1crypto          isort               qtpy                win32pdhquery\n",
      "ast                 isympy              queue               win32pdhutil\n",
      "astroid             itertools           quopri              win32pipe\n",
      "astropy             itsdangerous        random              win32print\n",
      "asttokens           jdcal               rasutil             win32process\n",
      "async_generator     jedi                re                  win32profile\n",
      "asynchat            jinja2              readline            win32ras\n",
      "asyncio             jinja2_time         regcheck            win32rcparser\n",
      "asyncore            joblib              regex               win32security\n",
      "atexit              json                regutil             win32service\n",
      "atomicwrites        json5               repo_cli            win32serviceutil\n",
      "attr                jsonschema          reprlib             win32timezone\n",
      "audioop             jupyter             requests            win32trace\n",
      "autopep8            jupyter_client      rlcompleter         win32traceutil\n",
      "autoreload          jupyter_console     rmagic              win32transaction\n",
      "babel               jupyter_core        rope                win32ts\n",
      "backcall            jupyter_server      rtree               win32ui\n",
      "backports           jupyterlab          ruamel_yaml         win32uiole\n",
      "base64              jupyterlab_pygments run                 win32verstamp\n",
      "bcrypt              jupyterlab_server   runpy               win32wnet\n",
      "bdb                 jupyterlab_widgets  sched               win_inet_pton\n",
      "binaryornot         jwt                 scipy               win_unicode_console\n",
      "binascii            keyring             scripts             wincertstore\n",
      "binhex              keyword             seaborn             winerror\n",
      "binstar_client      kiwisolver          secrets             winioctlcon\n",
      "bisect              lazy_object_proxy   select              winnt\n",
      "bitarray            lib2to3             selectors           winperf\n",
      "bkcharts            libarchive          send2trash          winpty\n",
      "black               libfuturize         servicemanager      winreg\n",
      "blackd              libpasteurize       setuptools          winsound\n",
      "bleach              lief                shelve              winxpgui\n",
      "blib2to3            linecache           shlex               winxptheme\n",
      "bokeh               llvmlite            shutil              wrapt\n",
      "boto                locale              signal              wsgiref\n",
      "bottleneck          locket              simplegeneric       xdrlib\n",
      "brotli              logging             singledispatch      xlrd\n",
      "bs4                 lxml                sip                 xlsxwriter\n",
      "builtins            lzma                sipconfig           xlwings\n",
      "bz2                 mailbox             sipdistutils        xlwt\n",
      "cProfile            mailcap             site                xml\n",
      "cached_property     markupsafe          six                 xmlrpc\n",
      "calendar            marshal             skimage             xmltodict\n",
      "certifi             math                sklearn             xxsubtype\n",
      "cffi                matplotlib          sklearnex           yaml\n",
      "cgi                 matplotlib_inline   slugify             yapf\n",
      "cgitb               mccabe              smtpd               yapftests\n",
      "chardet             menuinst            smtplib             zict\n",
      "charset_normalizer  mimetypes           sndhdr              zipapp\n",
      "chunk               mistune             sniffio             zipfile\n",
      "click               mkl                 snowballstemmer     zipimport\n",
      "cloudpickle         mkl_fft             socket              zipp\n",
      "clyent              mkl_random          socketserver        zlib\n",
      "cmath               mmap                socks               zmq\n",
      "cmd                 mmapfile            sockshandler        zoneinfo\n",
      "code                mmsystem            sortedcollections   zope\n",
      "\n",
      "Enter any module name to get more help.  Or, type \"modules spam\" to search\n",
      "for modules whose name or summary contain the string \"spam\".\n",
      "\n"
     ]
    }
   ],
   "source": [
    "help('modules')"
   ]
  },
  {
   "cell_type": "code",
   "execution_count": null,
   "id": "2f9010b2",
   "metadata": {},
   "outputs": [],
   "source": []
  },
  {
   "cell_type": "code",
   "execution_count": null,
   "id": "f15706b8",
   "metadata": {},
   "outputs": [],
   "source": []
  },
  {
   "cell_type": "code",
   "execution_count": null,
   "id": "b5f477d0",
   "metadata": {},
   "outputs": [],
   "source": []
  },
  {
   "cell_type": "code",
   "execution_count": null,
   "id": "71c836f7",
   "metadata": {},
   "outputs": [],
   "source": []
  },
  {
   "cell_type": "code",
   "execution_count": null,
   "id": "fc51c62f",
   "metadata": {},
   "outputs": [],
   "source": []
  }
 ],
 "metadata": {
  "kernelspec": {
   "display_name": "Python 3 (ipykernel)",
   "language": "python",
   "name": "python3"
  },
  "language_info": {
   "codemirror_mode": {
    "name": "ipython",
    "version": 3
   },
   "file_extension": ".py",
   "mimetype": "text/x-python",
   "name": "python",
   "nbconvert_exporter": "python",
   "pygments_lexer": "ipython3",
   "version": "3.9.7"
  }
 },
 "nbformat": 4,
 "nbformat_minor": 5
}
