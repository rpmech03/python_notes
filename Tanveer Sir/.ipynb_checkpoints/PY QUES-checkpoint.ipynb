{
 "cells": [
  {
   "cell_type": "markdown",
   "id": "281cd648",
   "metadata": {},
   "source": [
    "# PALINDROME QUES :"
   ]
  },
  {
   "cell_type": "code",
   "execution_count": 2,
   "id": "61e1b3b5",
   "metadata": {},
   "outputs": [
    {
     "name": "stdout",
     "output_type": "stream",
     "text": [
      "yes its a palindrome\n"
     ]
    }
   ],
   "source": [
    "#PALINDROME NUMBER:\n",
    "\n",
    "#A_BY SPLIT METHOD:\n",
    "\n",
    "def palindrome(s):\n",
    "    temp=s[::-1]\n",
    "    if s==temp:\n",
    "        print(\"yes its a palindrome\")\n",
    "    else:\n",
    "        print(\"no,its not a palindrome\")\n",
    "s=\"nitin\"\n",
    "palindrome(s)"
   ]
  },
  {
   "cell_type": "code",
   "execution_count": 3,
   "id": "ff59bee5",
   "metadata": {},
   "outputs": [
    {
     "name": "stdout",
     "output_type": "stream",
     "text": [
      "True\n"
     ]
    }
   ],
   "source": [
    "#BY INDEXING OR LOOP:\n",
    "\n",
    "# If string nitin ho n m indexing se ise solve kr rha hu so m condition apply kruga ie sbse phle wo actual jo string h use \n",
    "# compare krega us string ke last substring se like 1st equal h last ke to next check krega n next ko 2nd last se n like that \n",
    "# wo check krega uske liye condition de dete h ie ---\n",
    "# s[i]!=s[n-i-1]\n",
    "# to do reverse string =s[n-i-1]\n",
    "\n",
    "def palindrome2(s):\n",
    "    n=len(s)\n",
    "    for i in range(n):\n",
    "        if s[i] != s[n-i-1]:\n",
    "            return False\n",
    "        else:\n",
    "            return True\n",
    "s=\"nitin\"\n",
    "print(palindrome2(s))"
   ]
  },
  {
   "cell_type": "code",
   "execution_count": 11,
   "id": "e6d2b4e7",
   "metadata": {},
   "outputs": [
    {
     "name": "stdout",
     "output_type": "stream",
     "text": [
      "yddas"
     ]
    }
   ],
   "source": [
    "a= \"saddy\"\n",
    "n=len(a)\n",
    "for i in range(n):\n",
    "    print(a[n-i-1],end=\"\")"
   ]
  },
  {
   "cell_type": "code",
   "execution_count": 4,
   "id": "22fffad9",
   "metadata": {},
   "outputs": [
    {
     "name": "stdout",
     "output_type": "stream",
     "text": [
      "True\n"
     ]
    }
   ],
   "source": [
    "#BY INBUILT FUN :REVERSED N JOIN:\n",
    "\n",
    "def palindrome3(s):\n",
    "#     reverse_s = reversed(s)\n",
    "#     print(reverse_s)\n",
    "#     for i in reverse_s:\n",
    "#         print(i)\n",
    "    temp=''.join(reversed(s))\n",
    "#     print(temp)\n",
    "    if s==temp:\n",
    "        return True\n",
    "    else:\n",
    "        return True\n",
    "print(palindrome3(s))"
   ]
  },
  {
   "cell_type": "code",
   "execution_count": 15,
   "id": "eb6e14f4",
   "metadata": {},
   "outputs": [
    {
     "name": "stdout",
     "output_type": "stream",
     "text": [
      "yddas\n"
     ]
    }
   ],
   "source": [
    "a=\"saddy\"\n",
    "r= ''.join(reversed(a))\n",
    "print(r)"
   ]
  },
  {
   "cell_type": "code",
   "execution_count": 4,
   "id": "4de3b575",
   "metadata": {},
   "outputs": [
    {
     "data": {
      "text/plain": [
       "True"
      ]
     },
     "execution_count": 4,
     "metadata": {},
     "output_type": "execute_result"
    }
   ],
   "source": [
    "def pal(s):\n",
    "    for i in a:\n",
    "    #     temp=''.join(reversed(s))\n",
    "        if s==''.join(reversed(s)):\n",
    "            return True\n",
    "        else:\n",
    "            return False\n",
    "pal(\"nitin\")"
   ]
  },
  {
   "cell_type": "code",
   "execution_count": 1,
   "id": "3f1d25dc",
   "metadata": {},
   "outputs": [
    {
     "name": "stdout",
     "output_type": "stream",
     "text": [
      "p\n"
     ]
    }
   ],
   "source": [
    "#BY INBUILT FUN :REVERSED N JOIN:\n",
    "s='nitin'\n",
    "a=reversed(s)\n",
    "for i in a:\n",
    "    temp=''.join(reversed(s))\n",
    "if s==temp:\n",
    "    print(\"p\")\n",
    "else:\n",
    "    print(\"np\")"
   ]
  },
  {
   "cell_type": "code",
   "execution_count": 5,
   "id": "05db39ec",
   "metadata": {},
   "outputs": [
    {
     "data": {
      "text/plain": [
       "True"
      ]
     },
     "execution_count": 5,
     "metadata": {},
     "output_type": "execute_result"
    }
   ],
   "source": [
    "#BY USING WHILE LOOP:\n",
    "\n",
    "# last element = total length(n) - 1\n",
    "\n",
    "def palindrome4(s):\n",
    "    n=len(s)\n",
    "    first=0\n",
    "    last=n-1\n",
    "    while(first<last):\n",
    "        if s[first] == s[last]:\n",
    "            first += 1\n",
    "            last -= 1\n",
    "        else:\n",
    "            return False\n",
    "    return True\n",
    "s='nitin'\n",
    "palindrome4(s)\n"
   ]
  },
  {
   "cell_type": "code",
   "execution_count": 1,
   "id": "7fbf2758",
   "metadata": {},
   "outputs": [
    {
     "data": {
      "text/plain": [
       "True"
      ]
     },
     "execution_count": 1,
     "metadata": {},
     "output_type": "execute_result"
    }
   ],
   "source": [
    "def pal(s):\n",
    "    n=len(s)\n",
    "    while s[0]<s[n-1]:\n",
    "        if s[0]==s[n-1]:\n",
    "            s[0]+=1\n",
    "            s[n-1]-=1\n",
    "        else:\n",
    "            return False\n",
    "    return True\n",
    "pal('nitin')"
   ]
  },
  {
   "cell_type": "code",
   "execution_count": 30,
   "id": "4feb71b0",
   "metadata": {},
   "outputs": [
    {
     "name": "stdout",
     "output_type": "stream",
     "text": [
      "npal\n"
     ]
    }
   ],
   "source": [
    "a = 125\n",
    "temp = a\n",
    "rev = 0\n",
    "while temp > 0:\n",
    "    digit = temp % 10\n",
    "    rev = rev*10 +digit\n",
    "    temp = temp//10\n",
    "    \n",
    "if temp == rev:\n",
    "    print('pal')\n",
    "else:\n",
    "    print('npal')"
   ]
  },
  {
   "cell_type": "code",
   "execution_count": 19,
   "id": "65de8871",
   "metadata": {},
   "outputs": [
    {
     "data": {
      "text/plain": [
       "3"
      ]
     },
     "execution_count": 19,
     "metadata": {},
     "output_type": "execute_result"
    }
   ],
   "source": [
    "a =143\n",
    "digit = a % 10\n",
    "digit"
   ]
  },
  {
   "cell_type": "code",
   "execution_count": 21,
   "id": "fdd48376",
   "metadata": {},
   "outputs": [
    {
     "data": {
      "text/plain": [
       "14"
      ]
     },
     "execution_count": 21,
     "metadata": {},
     "output_type": "execute_result"
    }
   ],
   "source": [
    "a =143\n",
    "a = a//10\n",
    "a"
   ]
  },
  {
   "cell_type": "code",
   "execution_count": 6,
   "id": "071207c6",
   "metadata": {},
   "outputs": [
    {
     "data": {
      "text/plain": [
       "True"
      ]
     },
     "execution_count": 6,
     "metadata": {},
     "output_type": "execute_result"
    }
   ],
   "source": [
    "#PALINDROME NUMBER:\n",
    "#IN CASE OF NO:\n",
    "#BY SPLIT METHOD: CONVERTING NO TO STRING ---\n",
    "#NOT PREFERRED!\n",
    "\n",
    "def palindrome5(n):\n",
    "    s=str(n)\n",
    "    temp=s[::-1]\n",
    "    if s==temp:\n",
    "        return True\n",
    "    else:\n",
    "         return False\n",
    "n=12345654321\n",
    "palindrome5(n)"
   ]
  },
  {
   "cell_type": "code",
   "execution_count": 7,
   "id": "3ca1edd2",
   "metadata": {},
   "outputs": [
    {
     "data": {
      "text/plain": [
       "False"
      ]
     },
     "execution_count": 7,
     "metadata": {},
     "output_type": "execute_result"
    }
   ],
   "source": [
    "#BY WHILE LOOP: USE THIS\n",
    "\n",
    "def palindrome6(n):\n",
    "    temp=n\n",
    "    rev_n=0\n",
    "    while(temp>0):\n",
    "        digit=temp%10\n",
    "        rev_n=rev_n*10+digit\n",
    "        temp=temp//10\n",
    "    if n==rev_n:\n",
    "        return True\n",
    "    else:\n",
    "        return False\n",
    "n=123456\n",
    "palindrome6(n)"
   ]
  },
  {
   "cell_type": "code",
   "execution_count": 2,
   "id": "b28837d6",
   "metadata": {},
   "outputs": [
    {
     "name": "stdout",
     "output_type": "stream",
     "text": [
      "0\n",
      "1\n",
      "1\n",
      "2\n"
     ]
    }
   ],
   "source": [
    "def fibo(n):\n",
    "    a,b=0,1\n",
    "    print(a)\n",
    "    while b<n:\n",
    "        print(b)\n",
    "        a,b=b,a+b\n",
    "fibo(3)"
   ]
  },
  {
   "cell_type": "code",
   "execution_count": null,
   "id": "9a5ae055",
   "metadata": {},
   "outputs": [],
   "source": [
    "# What is Fibonacci sequence in simple words?\n",
    "# The Fibonacci sequence is a set of integers (the Fibonacci numbers) that starts with a zero, followed by a one, then by another \n",
    "# one, and then by a series of steadily increasing numbers. The sequence follows the rule that each number is equal to the sum of\n",
    "# the preceding two numbers."
   ]
  },
  {
   "cell_type": "markdown",
   "id": "82424b58",
   "metadata": {},
   "source": [
    "# FIBONNACI SERIES:\n",
    "\n",
    "#FIND THE FIBONNACI SERIES FROM 0 TO NTH NUMBER USING WHILE LOOP---\n"
   ]
  },
  {
   "cell_type": "code",
   "execution_count": 1,
   "id": "0863caed",
   "metadata": {},
   "outputs": [
    {
     "name": "stdout",
     "output_type": "stream",
     "text": [
      "0\n",
      "1\n",
      "1\n",
      "2\n"
     ]
    }
   ],
   "source": [
    "def fibonnaci(n):\n",
    "    a,b=0,1\n",
    "    print(a)\n",
    "    while(b<n):\n",
    "        print(b)\n",
    "        c=a+b\n",
    "        a,b=b,c\n",
    "fibonnaci(3)"
   ]
  },
  {
   "cell_type": "code",
   "execution_count": 2,
   "id": "0ce17ef0",
   "metadata": {},
   "outputs": [
    {
     "name": "stdout",
     "output_type": "stream",
     "text": [
      "0\n"
     ]
    }
   ],
   "source": [
    "#w/o using 3rd variable:\n",
    "\n",
    "def fibonnaci(n):\n",
    "    a,b=0,1\n",
    "    print(a)\n",
    "    while(b<n):\n",
    "        print(b)\n",
    "        a,b=b,a+b\n",
    "fibonnaci(1)"
   ]
  },
  {
   "cell_type": "code",
   "execution_count": 36,
   "id": "3ea888f4",
   "metadata": {},
   "outputs": [
    {
     "name": "stdout",
     "output_type": "stream",
     "text": [
      "enter no 10\n",
      "0\n",
      "1\n",
      "1\n",
      "2\n",
      "3\n",
      "5\n",
      "8\n",
      "13\n",
      "21\n",
      "34\n"
     ]
    }
   ],
   "source": [
    "#by using for loop:\n",
    "\n",
    "def fibonnaci2(n):\n",
    "    a,b=0,1\n",
    "    if n==1:\n",
    "        print(a)\n",
    "    else:\n",
    "        print(a)\n",
    "        print(b)\n",
    "        for i in range(2,n):\n",
    "            c=a+b\n",
    "            a,b=b,c\n",
    "            print(c)\n",
    "n = int(input(\"enter no \"))\n",
    "fibonnaci2(n)"
   ]
  },
  {
   "cell_type": "code",
   "execution_count": 5,
   "id": "ad6f36d3",
   "metadata": {},
   "outputs": [
    {
     "name": "stdout",
     "output_type": "stream",
     "text": [
      "0\n",
      "1\n",
      "1\n"
     ]
    }
   ],
   "source": [
    "#FIBONNACI SERIES USING RECUSRSION:\n",
    "\n",
    "def fibonnaci(n):\n",
    "    if n<=1:\n",
    "        return n\n",
    "    else:\n",
    "        return(fibonnaci(n-1)+fibonnaci(n-2))\n",
    "n=3\n",
    "if n<=0:\n",
    "    print(\"invalid\")\n",
    "else:\n",
    "    for i in range(n):\n",
    "        print(fibonnaci(i))"
   ]
  },
  {
   "cell_type": "code",
   "execution_count": 45,
   "id": "8df47052",
   "metadata": {},
   "outputs": [
    {
     "name": "stdout",
     "output_type": "stream",
     "text": [
      "enter no 5\n",
      "0\n",
      "1\n",
      "1\n",
      "2\n",
      "3\n"
     ]
    }
   ],
   "source": [
    "def fibo(n):\n",
    "    if n<=1:\n",
    "        return n\n",
    "    elif n<=0:\n",
    "        print(\"invalid\")\n",
    "    else:\n",
    "        return(fibo(n-1)+fibo(n-2))\n",
    "n = int(input(\"enter no \"))\n",
    "for i in range(n):\n",
    "    print(fibo(i))"
   ]
  },
  {
   "cell_type": "markdown",
   "id": "ed6fa366",
   "metadata": {},
   "source": [
    "# STRING:"
   ]
  },
  {
   "cell_type": "code",
   "execution_count": 1,
   "id": "999776d5",
   "metadata": {},
   "outputs": [
    {
     "name": "stdout",
     "output_type": "stream",
     "text": [
      "['123456789X', '123456789A']\n"
     ]
    }
   ],
   "source": [
    "a=['1234567890','0987654321','ABCDEFGH','123456789X','1234567890','123456789X','123456789A']\n",
    "b=[]\n",
    "for i in a:\n",
    "    if i.isnumeric() or i.isalpha():\n",
    "        continue\n",
    "    elif i.isalnum():\n",
    "        if i not in b:#to not repeat the same element\n",
    "            b.append(i)\n",
    "print(b)"
   ]
  },
  {
   "cell_type": "code",
   "execution_count": 2,
   "id": "0363cf14",
   "metadata": {},
   "outputs": [
    {
     "name": "stdout",
     "output_type": "stream",
     "text": [
      "honesty is  best  policy and I am  honest\n"
     ]
    }
   ],
   "source": [
    "#Remove Punctuation (except space)\n",
    "\n",
    "s1=\"/*honesty is & best % policy and @I am & honest\"\n",
    "s2=''\n",
    "for i in s1:\n",
    "    if ((i>='A' and i<='Z') | (i>='a' and i<='z') | (i==' ')):\n",
    "        s2=s2+i\n",
    "        \n",
    "print(s2)"
   ]
  },
  {
   "cell_type": "code",
   "execution_count": 3,
   "id": "1d836195",
   "metadata": {},
   "outputs": [
    {
     "name": "stdout",
     "output_type": "stream",
     "text": [
      "[(110, 'raka'), (200, 'zoro'), (578, 'loku')]\n"
     ]
    }
   ],
   "source": [
    "#Sort A Dictionary w/o using predefined methods:\n",
    "\n",
    "dict1={578:'loku',110:'raka',200:'zoro'}\n",
    "# d=sorted(d1.keys())\n",
    "dict2=list(dict1.items())\n",
    "for i in range(len(dict2)):\n",
    "    for j in range(i+1,len(dict2)):\n",
    "        if dict2[i]>dict2[j]:\n",
    "            dict2[i],dict2[j]=dict2[j],dict2[i]\n",
    "print(dict2)"
   ]
  },
  {
   "cell_type": "code",
   "execution_count": 4,
   "id": "f6c455c1",
   "metadata": {},
   "outputs": [
    {
     "name": "stdout",
     "output_type": "stream",
     "text": [
      "1\n",
      "2\n",
      "3\n",
      "4\n",
      "5\n",
      "6\n",
      "7\n",
      "8\n",
      "9\n",
      "10\n",
      "total sum of books page  55\n",
      "49\n",
      "missing no is : 6\n"
     ]
    }
   ],
   "source": [
    "#FIND THE MISSING NUMBER:\n",
    "Books=[1,2,3,4,5,7,8,9,10]\n",
    "n=len(Books)+1\n",
    "# print(n)\n",
    "total_sum=0\n",
    "for i in range(1,n+1):\n",
    "    print(i)\n",
    "    total_sum+=i\n",
    "print(\"total sum of books page \",total_sum)    \n",
    "sum=0\n",
    "for i in Books:\n",
    "    sum+=i\n",
    "print(sum) \n",
    "print('missing no is :',total_sum-sum)"
   ]
  },
  {
   "cell_type": "code",
   "execution_count": 5,
   "id": "f56aaa17",
   "metadata": {},
   "outputs": [
    {
     "name": "stdout",
     "output_type": "stream",
     "text": [
      "12\n"
     ]
    }
   ],
   "source": [
    "#FIND PRODUCT OF 2 NO W/O USING MULTIPLICATION OPERATOR:\n",
    "\n",
    "a=3\n",
    "b=4\n",
    "num=0\n",
    "for i in range(1,b+1):\n",
    "    num+=a\n",
    "print(num)"
   ]
  },
  {
   "cell_type": "code",
   "execution_count": 6,
   "id": "b86150ff",
   "metadata": {},
   "outputs": [
    {
     "name": "stdout",
     "output_type": "stream",
     "text": [
      "{'p': 4, 'q': 2, 'a': 3}\n",
      "{'p': 1, 'q': 2}\n"
     ]
    }
   ],
   "source": [
    "def my_func(*args,**kwargs):\n",
    "    c=kwargs.get('my_dictionary')\n",
    "    c={k:v for k,v in c.items()}\n",
    "    c['a']=3\n",
    "    c['p']=4\n",
    "    print(c)\n",
    "    \n",
    "def my_func_2():\n",
    "    c={'p':1,'q':2}\n",
    "    my_func(my_dictionary=c)\n",
    "    print(c)\n",
    "    \n",
    "my_func_2()"
   ]
  },
  {
   "cell_type": "code",
   "execution_count": 17,
   "id": "0df5c60f",
   "metadata": {},
   "outputs": [
    {
     "name": "stdout",
     "output_type": "stream",
     "text": [
      "a1k1\n"
     ]
    }
   ],
   "source": [
    "#COMPRESS STRING:\n",
    "\n",
    "#input - aabbccaaaafffeiii\n",
    "#output - a2b2c2a4f3e1i3\n",
    "\n",
    "#by using for loop--\n",
    "\n",
    "def compress(s):\n",
    "    n=len(s)\n",
    "    new_s=''\n",
    "    count=1\n",
    "    for i in range(n-1):\n",
    "        if s[i]==s[i+1]:\n",
    "            count+=1\n",
    "        else:\n",
    "            new_s=new_s+s[i]+str(count)\n",
    "            count=1\n",
    "    return new_s\n",
    "s='aks'\n",
    "print(compress(s))\n",
    "\n",
    "#couldn't get the full o/p"
   ]
  },
  {
   "cell_type": "code",
   "execution_count": 46,
   "id": "10f21498",
   "metadata": {},
   "outputs": [
    {
     "name": "stdout",
     "output_type": "stream",
     "text": [
      "s1a1d2y1\n"
     ]
    }
   ],
   "source": [
    "#COMPRESS STRING:\n",
    "\n",
    "#input - aabbccaaaafffeiii\n",
    "#output - a2b2c2a4f3e1i3\n",
    "\n",
    "#by using for loop--best to use\n",
    "\n",
    "def compress(s):\n",
    "    n=len(s)\n",
    "    new_s=''\n",
    "    count=1\n",
    "    for i in range(n-1):\n",
    "        if s[i]==s[i+1]:\n",
    "            count+=1\n",
    "        else:\n",
    "            new_s=new_s+s[i]+str(count)\n",
    "            count=1\n",
    "    new_s=new_s+s[i+1]+str(count)\n",
    "    return new_s\n",
    "s='saddy'\n",
    "print(compress(s))\n",
    "\n",
    "#here we get full o/p"
   ]
  },
  {
   "cell_type": "code",
   "execution_count": 8,
   "id": "9f0455a3",
   "metadata": {},
   "outputs": [
    {
     "name": "stdout",
     "output_type": "stream",
     "text": [
      "akr2Rr2\n"
     ]
    }
   ],
   "source": [
    "def solve(s):\n",
    "   res = \"\"\n",
    "   cnt = 1\n",
    "   for i in range(1, len(s)):\n",
    "      if s[i - 1] == s[i]:\n",
    "         cnt += 1\n",
    "      else:\n",
    "         res = res + s[i - 1]\n",
    "         if cnt > 1:\n",
    "            res += str(cnt)\n",
    "         cnt = 1\n",
    "   res = res + s[-1]\n",
    "   if cnt > 1:\n",
    "      res += str(cnt)\n",
    "   return res\n",
    "\n",
    "s = \"akrrRrr\"\n",
    "print(solve(s))"
   ]
  },
  {
   "cell_type": "code",
   "execution_count": 49,
   "id": "89839e16",
   "metadata": {},
   "outputs": [
    {
     "name": "stdout",
     "output_type": "stream",
     "text": [
      "s1a1d2y1\n"
     ]
    }
   ],
   "source": [
    "new_string = \"\"\n",
    "string = \"saddy\"\n",
    "count = 1\n",
    "for i in range(len(string)-1):\n",
    "    if string[i] == string[i+1]:\n",
    "        count = count + 1\n",
    "    else:         \n",
    "        new_string =  new_string + string[i] + str(count)\n",
    "        count = 1#ye nh hoga to count increase hote chla jayega like substring same rhi,like 2 bar lagatar rhi to 2 he print\n",
    "                 #hota jayega\n",
    "new_string = new_string + string[i+1] + str(count)#ye next sequence ko print krega\n",
    "print(new_string)"
   ]
  },
  {
   "cell_type": "code",
   "execution_count": 4,
   "id": "1c1b53e7",
   "metadata": {},
   "outputs": [
    {
     "name": "stdout",
     "output_type": "stream",
     "text": [
      "s1a1d2y1d1\n"
     ]
    }
   ],
   "source": [
    "s1 = \"saddyd\"\n",
    "news=\"\"\n",
    "count=1\n",
    "for i in range(len(s1)-1):\n",
    "    if s1[i] == s1[i+1]:\n",
    "        count+=1\n",
    "    else: \n",
    "        news = news + s1[i] + str(count)\n",
    "        count = 1\n",
    "news = news + s1[i+1] + str(count)\n",
    "print(news)"
   ]
  },
  {
   "cell_type": "code",
   "execution_count": 53,
   "id": "3d79ad36",
   "metadata": {},
   "outputs": [
    {
     "name": "stdout",
     "output_type": "stream",
     "text": [
      "a1\n"
     ]
    }
   ],
   "source": [
    "#BY USING WHILE LOOP:\n",
    "\n",
    "def compress2(s):\n",
    "    n=len(s)\n",
    "    i=0\n",
    "    new_s=''\n",
    "    while(i<n-1):\n",
    "        count=1\n",
    "        while(i<n-1 and s[i]==s[i+1]):\n",
    "            count+=1\n",
    "            i+=1\n",
    "        i+=1\n",
    "        new_s=new_s+s[i-1]+str(count)\n",
    "    return new_s\n",
    "s='ak'\n",
    "print(compress2(s))"
   ]
  },
  {
   "cell_type": "code",
   "execution_count": 1,
   "id": "dff5f05e",
   "metadata": {},
   "outputs": [
    {
     "name": "stdout",
     "output_type": "stream",
     "text": [
      "{'n': 6, 'i': 2, 't': 1, 'j': 3, 'h': 2, 'g': 4, 'd': 2, 's': 2, 'f': 3, 'u': 2, 'b': 3}\n"
     ]
    }
   ],
   "source": [
    "#Count no of occurence of a character in a string and print each character.\n",
    "\n",
    "s='nitinnnnnjhgdsgfugugsjbdbfhjbf'\n",
    "d={}\n",
    "for i in s:\n",
    "    if i in d:\n",
    "        d[i]+=1\n",
    "    else:\n",
    "        d[i]=1\n",
    "print(d)"
   ]
  },
  {
   "cell_type": "code",
   "execution_count": 1,
   "id": "18f06a79",
   "metadata": {},
   "outputs": [
    {
     "name": "stdout",
     "output_type": "stream",
     "text": [
      "['hello', 'world', 'nitin']\n",
      "['nitin', 'world', 'hello']\n",
      "nitin world hello\n"
     ]
    }
   ],
   "source": [
    "#PRINT THE REQUIRED O/P.\n",
    "# I/P-'hello,world,nitin'\n",
    "# o/p-'nitin,world,hello'\n",
    "\n",
    "# string.split(separator, maxsplit)\n",
    "\n",
    "#SSJ = SPLIT, SLICING, JOIN\n",
    "\n",
    "s='hello,world,nitin'\n",
    "s=s.split(',')\n",
    "print(s)\n",
    "s=s[::-1]\n",
    "print(s)\n",
    "s=' '.join(s)\n",
    "print(s)\n",
    "\n",
    "\n",
    "# The join() method takes all items in an iterable and joins them into one string.\n",
    "\n",
    "# A string must be specified as the separator.\n",
    "\n",
    "# string.join(iterable)"
   ]
  },
  {
   "cell_type": "code",
   "execution_count": 12,
   "id": "fe3589b1",
   "metadata": {},
   "outputs": [
    {
     "name": "stdout",
     "output_type": "stream",
     "text": [
      "nitin world hello\n"
     ]
    }
   ],
   "source": [
    "s='hello world nitin'\n",
    "print(' '.join(s.split(' ')[::-1]))\n"
   ]
  },
  {
   "cell_type": "code",
   "execution_count": 1,
   "id": "a2c48f5f",
   "metadata": {},
   "outputs": [
    {
     "name": "stdout",
     "output_type": "stream",
     "text": [
      "20a1b2c7d3e5f2\n"
     ]
    }
   ],
   "source": [
    "#I/P- abcdef,(fibonacci-112358)\n",
    "# o/p-20a1b1c2d3e5f8\n",
    "\n",
    "s1='abcdef'\n",
    "fibo=[1,2,7,3,5,2]\n",
    "sum=0\n",
    "for i in fibo:\n",
    "    sum+=i\n",
    "#     print(sum)\n",
    "new_s=str(sum)\n",
    "n=len(s1)\n",
    "for i in range(n):\n",
    "    new_s=new_s+str(s1[i])+str(fibo[i])\n",
    "print(new_s)    "
   ]
  },
  {
   "cell_type": "markdown",
   "id": "c7aeb066",
   "metadata": {},
   "source": [
    "# FIZZBUZZ:"
   ]
  },
  {
   "cell_type": "code",
   "execution_count": 15,
   "id": "cbbe7553",
   "metadata": {},
   "outputs": [],
   "source": [
    "#If no divisible by 3- print Fizz\n",
    "#If no divisible by 5- print Buzz\n",
    "#If no divisible by 15- print FizzBuzz\n",
    "#else print the number\n",
    "\n",
    "#1-1\n",
    "#2-2\n",
    "#3-Fizz\n",
    "#4-4\n",
    "#5-Buzz\n",
    "#6-Fizz\n",
    "#......\n",
    "#15-FizzBuzz\n",
    "\n",
    "\n"
   ]
  },
  {
   "cell_type": "code",
   "execution_count": 16,
   "id": "a47370be",
   "metadata": {},
   "outputs": [
    {
     "name": "stdout",
     "output_type": "stream",
     "text": [
      "1\n",
      "2\n",
      "Fizz\n",
      "4\n",
      "Buzz\n",
      "Fizz\n",
      "7\n",
      "8\n",
      "Fizz\n",
      "Buzz\n",
      "11\n",
      "Fizz\n",
      "13\n",
      "14\n",
      "FizzBuzz\n"
     ]
    }
   ],
   "source": [
    "#By using for loop---\n",
    "\n",
    "for i in range(1,16):\n",
    "    if i%3==0 and i%5==0:\n",
    "        print('FizzBuzz')\n",
    "    elif i%3==0:\n",
    "        print('Fizz')\n",
    "    elif i%5==0:\n",
    "        print('Buzz')\n",
    "    else:\n",
    "        print(i)\n",
    "    \n",
    "    "
   ]
  },
  {
   "cell_type": "code",
   "execution_count": 17,
   "id": "67c0c3b4",
   "metadata": {},
   "outputs": [
    {
     "name": "stdout",
     "output_type": "stream",
     "text": [
      "1\n",
      "2\n",
      "Fizz\n",
      "4\n",
      "Buzz\n",
      "Fizz\n",
      "7\n",
      "8\n",
      "Fizz\n",
      "Buzz\n",
      "11\n",
      "Fizz\n",
      "13\n",
      "14\n",
      "FizzBuzz\n",
      "16\n",
      "17\n",
      "Fizz\n",
      "19\n",
      "Buzz\n"
     ]
    }
   ],
   "source": [
    "def FizzBuzz(n):\n",
    "    for i in range(1,n+1):\n",
    "        if i%3==0 and i%5==0:\n",
    "            print('FizzBuzz')\n",
    "        elif i%3==0:\n",
    "            print('Fizz')\n",
    "        elif i%5==0:\n",
    "            print('Buzz')\n",
    "        else:\n",
    "            print(i)\n",
    "FizzBuzz(20)"
   ]
  },
  {
   "cell_type": "code",
   "execution_count": 18,
   "id": "cb498998",
   "metadata": {},
   "outputs": [
    {
     "name": "stdout",
     "output_type": "stream",
     "text": [
      "1\n",
      "2\n",
      "fizz\n",
      "4\n",
      "buzz\n",
      "fizz\n",
      "7\n",
      "8\n",
      "fizz\n",
      "buzz\n",
      "11\n",
      "fizz\n",
      "13\n",
      "14\n",
      "fizzbuzz\n"
     ]
    }
   ],
   "source": [
    "#FizzBuzz using dictionary:\n",
    "\n",
    "d={\n",
    "    3:'fizz',\n",
    "    5:'buzz'\n",
    "}\n",
    "for i in range(1,16):\n",
    "    result=''\n",
    "    for k,v in d.items():\n",
    "        if i%k==0:\n",
    "            result+=v\n",
    "    if not result:\n",
    "        result=i\n",
    "    print(result)"
   ]
  },
  {
   "cell_type": "code",
   "execution_count": 19,
   "id": "de102e2a",
   "metadata": {},
   "outputs": [
    {
     "name": "stdout",
     "output_type": "stream",
     "text": [
      "1\n",
      "2\n",
      "fizz\n",
      "4\n",
      "buzz\n",
      "fizz\n",
      "7\n",
      "8\n",
      "fizz\n",
      "buzz\n",
      "11\n",
      "fizz\n",
      "13\n",
      "14\n",
      "fizzbuzz\n"
     ]
    }
   ],
   "source": [
    "def fizzbuzz2(n):\n",
    "    d={\n",
    "        3:'fizz',\n",
    "        5:'buzz'\n",
    "}\n",
    "    for i in range(1,n+1):\n",
    "        result=''\n",
    "        for k,v in d.items():\n",
    "            if i%k==0:\n",
    "                result+=v\n",
    "        if not result:\n",
    "            result=i\n",
    "        print(result)\n",
    "fizzbuzz2(15)"
   ]
  },
  {
   "cell_type": "markdown",
   "id": "b1e14aa5",
   "metadata": {},
   "source": [
    "# CHARACTER OCCURENCE:\n",
    "\n",
    "# 1. LEAST REPEATING CHARACTER IN A STRING:"
   ]
  },
  {
   "cell_type": "code",
   "execution_count": 62,
   "id": "8635342e",
   "metadata": {},
   "outputs": [
    {
     "name": "stdout",
     "output_type": "stream",
     "text": [
      "{'k': 1, 'j': 2, 'd': 3, 's': 2, 'b': 2, 'h': 4, 'f': 7, 'u': 5, 'y': 1, 'g': 2, 'w': 2, 'r': 1, 'e': 2}\n"
     ]
    },
    {
     "ename": "TypeError",
     "evalue": "'int' object is not callable",
     "output_type": "error",
     "traceback": [
      "\u001b[1;31m---------------------------------------------------------------------------\u001b[0m",
      "\u001b[1;31mTypeError\u001b[0m                                 Traceback (most recent call last)",
      "\u001b[1;32m~\\AppData\\Local\\Temp/ipykernel_5464/3355146728.py\u001b[0m in \u001b[0;36m<module>\u001b[1;34m\u001b[0m\n\u001b[0;32m     13\u001b[0m \u001b[1;33m\u001b[0m\u001b[0m\n\u001b[0;32m     14\u001b[0m \u001b[0ms\u001b[0m\u001b[1;33m=\u001b[0m\u001b[1;34m'kjdsbhfuygfwurefbfdjfhuhfdhsufgewu'\u001b[0m\u001b[1;33m\u001b[0m\u001b[1;33m\u001b[0m\u001b[0m\n\u001b[1;32m---> 15\u001b[1;33m \u001b[0mleast_char_occurence\u001b[0m\u001b[1;33m(\u001b[0m\u001b[0ms\u001b[0m\u001b[1;33m)\u001b[0m\u001b[1;33m\u001b[0m\u001b[1;33m\u001b[0m\u001b[0m\n\u001b[0m",
      "\u001b[1;32m~\\AppData\\Local\\Temp/ipykernel_5464/3355146728.py\u001b[0m in \u001b[0;36mleast_char_occurence\u001b[1;34m(s)\u001b[0m\n\u001b[0;32m      9\u001b[0m             \u001b[0mch\u001b[0m\u001b[1;33m[\u001b[0m\u001b[0mi\u001b[0m\u001b[1;33m]\u001b[0m\u001b[1;33m=\u001b[0m\u001b[1;36m1\u001b[0m\u001b[1;33m\u001b[0m\u001b[1;33m\u001b[0m\u001b[0m\n\u001b[0;32m     10\u001b[0m     \u001b[0mprint\u001b[0m\u001b[1;33m(\u001b[0m\u001b[0mch\u001b[0m\u001b[1;33m)\u001b[0m\u001b[1;31m#to print no of occurence of all char\u001b[0m\u001b[1;33m\u001b[0m\u001b[1;33m\u001b[0m\u001b[0m\n\u001b[1;32m---> 11\u001b[1;33m     \u001b[0mresult\u001b[0m\u001b[1;33m=\u001b[0m\u001b[0mmin\u001b[0m\u001b[1;33m(\u001b[0m\u001b[0mch\u001b[0m\u001b[1;33m,\u001b[0m\u001b[0mkey\u001b[0m\u001b[1;33m=\u001b[0m\u001b[0mch\u001b[0m\u001b[1;33m.\u001b[0m\u001b[0mget\u001b[0m\u001b[1;33m)\u001b[0m\u001b[1;33m\u001b[0m\u001b[1;33m\u001b[0m\u001b[0m\n\u001b[0m\u001b[0;32m     12\u001b[0m     \u001b[0mprint\u001b[0m\u001b[1;33m(\u001b[0m\u001b[1;34m'least repeating character is:'\u001b[0m\u001b[1;33m,\u001b[0m\u001b[0mresult\u001b[0m\u001b[1;33m)\u001b[0m\u001b[1;33m\u001b[0m\u001b[1;33m\u001b[0m\u001b[0m\n\u001b[0;32m     13\u001b[0m \u001b[1;33m\u001b[0m\u001b[0m\n",
      "\u001b[1;31mTypeError\u001b[0m: 'int' object is not callable"
     ]
    }
   ],
   "source": [
    "#Using dict: best to use \n",
    "\n",
    "def least_char_occurence(s):\n",
    "    ch={}\n",
    "    for i in s:\n",
    "        if i in ch:\n",
    "            ch[i]=ch[i]+1\n",
    "        else:\n",
    "            ch[i]=1\n",
    "    print(ch)#to print no of occurence of all char\n",
    "    result=min(ch,key=ch.get)\n",
    "    print('least repeating character is:',result)\n",
    "    \n",
    "s='kjdsbhfuygfwurefbfdjfhuhfdhsufgewu'\n",
    "least_char_occurence(s)\n"
   ]
  },
  {
   "cell_type": "code",
   "execution_count": 3,
   "id": "a2c9fd85",
   "metadata": {},
   "outputs": [
    {
     "name": "stdout",
     "output_type": "stream",
     "text": [
      "least repeating character is: j\n"
     ]
    }
   ],
   "source": [
    "#Using inbuilt fun counter:\n",
    "\n",
    "from collections import Counter\n",
    "s='bjsfbiehifheihwifhuehcbdu'\n",
    "ch=Counter(s)\n",
    "result=min(ch,key=ch.get)\n",
    "print('least repeating character is:',result)"
   ]
  },
  {
   "cell_type": "code",
   "execution_count": 22,
   "id": "1efe5df2",
   "metadata": {},
   "outputs": [
    {
     "name": "stdout",
     "output_type": "stream",
     "text": [
      "1\n"
     ]
    }
   ],
   "source": [
    "#count of any perticular element:\n",
    "#by using count(for string,number,list):\n",
    "\n",
    "l=[1,2,3,4,5,6,12,3,5,6,1,7,8,9]\n",
    "print(l.count(4))"
   ]
  },
  {
   "cell_type": "code",
   "execution_count": 23,
   "id": "f829c7f5",
   "metadata": {},
   "outputs": [
    {
     "name": "stdout",
     "output_type": "stream",
     "text": [
      "2\n"
     ]
    }
   ],
   "source": [
    "s='kjdbhfgeufew'\n",
    "print(s.count('f'))"
   ]
  },
  {
   "cell_type": "code",
   "execution_count": 2,
   "id": "fe6d00f4",
   "metadata": {},
   "outputs": [
    {
     "name": "stdout",
     "output_type": "stream",
     "text": [
      "4\n"
     ]
    }
   ],
   "source": [
    "#w/o using count/dict:\n",
    "\n",
    "def count_char_occurence(s,search_ch):\n",
    "    ch={}\n",
    "    for i in s:\n",
    "        if i in ch:\n",
    "            ch[i]+=1\n",
    "        else:\n",
    "            ch[i]=1\n",
    "    print(ch[search_ch])\n",
    "s='jdbfyfatydstrdasfdfytd'\n",
    "count_char_occurence(s,'f')"
   ]
  },
  {
   "cell_type": "code",
   "execution_count": 25,
   "id": "fd4400f2",
   "metadata": {},
   "outputs": [
    {
     "name": "stdout",
     "output_type": "stream",
     "text": [
      "{'d': 4, 'k': 2, 'n': 1, 'j': 2, 'b': 1, 'f': 4, 'w': 1, 's': 1, 'a': 1, 'e': 1}\n",
      "4\n"
     ]
    }
   ],
   "source": [
    "#w/o using count/dict:\n",
    "\n",
    "def count_char_occurence(s,search_ch):\n",
    "    ch={}\n",
    "    for i in s:\n",
    "        if i in ch:\n",
    "            ch[i]+=1\n",
    "        else:\n",
    "            ch[i]=1\n",
    "    print(ch)\n",
    "    try:\n",
    "        print(ch[search_ch])\n",
    "    except:\n",
    "        print(0)\n",
    "\n",
    "s='dknkjdbfjwsadfdfef'\n",
    "count_char_occurence(s,'f')"
   ]
  },
  {
   "cell_type": "code",
   "execution_count": 2,
   "id": "b594e578",
   "metadata": {},
   "outputs": [
    {
     "name": "stdout",
     "output_type": "stream",
     "text": [
      "ghiqwerty\n"
     ]
    }
   ],
   "source": [
    "#LONGEST SUBSTRING WHERE CHARACTER IS NOT REPEATED:\n",
    "\n",
    "s1='abcfggdghiqwerty'\n",
    "temp_s=''\n",
    "l=[]\n",
    "for i in range(len(s1)):\n",
    "#     print(s1[i])\n",
    "    if s1[i] in temp_s:\n",
    "        l.append(temp_s)\n",
    "        temp_s=s1[i]\n",
    "    else:\n",
    "        temp_s+=s1[i]\n",
    "l.append(temp_s)\n",
    "print(max(l))"
   ]
  },
  {
   "cell_type": "code",
   "execution_count": null,
   "id": "3626a052",
   "metadata": {},
   "outputs": [],
   "source": [
    "When should I use list or dictionary in Python?\n",
    "when to use dictionary in python\n",
    "Lists are used to store the data, which should be ordered and sequential. On the other hand, dictionary is used to store\n",
    "large amounts of data for easy and quick access. List is ordered and mutable, whereas dictionaries are unordered and mutable."
   ]
  },
  {
   "cell_type": "code",
   "execution_count": 10,
   "id": "43cd25eb",
   "metadata": {},
   "outputs": [
    {
     "name": "stdout",
     "output_type": "stream",
     "text": [
      "i\n"
     ]
    }
   ],
   "source": [
    "#FIND MAX REPEATED CHARACTER IN A STRING(TIME COMPLEXITY SHOULD BE LESSER THAN 0(n2))\n",
    "\n",
    "s='iiiitinjuvrhughru'\n",
    "ch={}\n",
    "for i in s:\n",
    "    if i in ch:\n",
    "        ch[i]+=1\n",
    "    else:\n",
    "        ch[i]=1\n",
    "max_char=max(ch,key=ch.get)\n",
    "print(max_char)"
   ]
  },
  {
   "cell_type": "markdown",
   "id": "6d72c551",
   "metadata": {},
   "source": [
    "# SORT A LIST W/O USING SORT :"
   ]
  },
  {
   "cell_type": "code",
   "execution_count": 54,
   "id": "f9024d6b",
   "metadata": {},
   "outputs": [
    {
     "name": "stdout",
     "output_type": "stream",
     "text": [
      "[1, 2, 4, 5, 6, 11, 12, 23]\n"
     ]
    }
   ],
   "source": [
    "a = [12,11, 23, 4, 5, 1, 2, 6]\n",
    "n = len(a)\n",
    "for i in range(n):\n",
    "    for j in range(i+1, n):\n",
    "        if a[i] > a[j]:\n",
    "            a[i],a[j] = a[j],a[i]\n",
    "            \n",
    "print(a)"
   ]
  },
  {
   "cell_type": "code",
   "execution_count": 2,
   "id": "72d9c2a5",
   "metadata": {},
   "outputs": [
    {
     "name": "stdout",
     "output_type": "stream",
     "text": [
      "[6, 2, 1, 5, 4, 23, 11, 12]\n"
     ]
    }
   ],
   "source": [
    "#reverse a list:\n",
    "\n",
    "a = [12,11, 23, 4, 5, 1, 2, 6]\n",
    "n = len(a)\n",
    "for i in range(int(n/2)):\n",
    "    a[i],a[n-i-1] = a[n-i-1],a[i]\n",
    "print(a)"
   ]
  },
  {
   "cell_type": "code",
   "execution_count": 1,
   "id": "025492a9",
   "metadata": {},
   "outputs": [
    {
     "name": "stdout",
     "output_type": "stream",
     "text": [
      "[1, 2, 3, 4, 4, 12, 23]\n"
     ]
    }
   ],
   "source": [
    "a = [1, 12, 4, 23, 2, 4, 3]\n",
    "b=[]\n",
    "while a:\n",
    "    min = a[0]\n",
    "    for i in a:\n",
    "        if i<min:\n",
    "            min = i\n",
    "    b.append(min)\n",
    "    a.remove(min)\n",
    "print(b)"
   ]
  },
  {
   "cell_type": "markdown",
   "id": "43e9c47c",
   "metadata": {},
   "source": [
    "# PRIME NO:"
   ]
  },
  {
   "cell_type": "code",
   "execution_count": 1,
   "id": "a181f0ae",
   "metadata": {},
   "outputs": [
    {
     "name": "stdout",
     "output_type": "stream",
     "text": [
      "yes! Its a prime no\n"
     ]
    }
   ],
   "source": [
    "#USING FLAG:\n",
    "\n",
    "def prime_number(n):\n",
    "    flag=False\n",
    "    if n>1:\n",
    "        for i in range(2,n):\n",
    "            if n%i==0:\n",
    "                flag=True\n",
    "                break\n",
    "        if flag:\n",
    "            return 'No! Its not a prime no'\n",
    "        else:\n",
    "            return 'yes! Its a prime no'\n",
    "print(prime_number(3))\n",
    "\n",
    "# Flag variable is used as a signal in programming to let the program know that a certain condition has met. It usually acts \n",
    "# as a boolean variable indicating a condition to be either true or false."
   ]
  },
  {
   "cell_type": "code",
   "execution_count": 4,
   "id": "2c92207d",
   "metadata": {},
   "outputs": [
    {
     "name": "stdout",
     "output_type": "stream",
     "text": [
      "No! Its not a prime no\n"
     ]
    }
   ],
   "source": [
    "#USING FOR-ELSE:\n",
    "\n",
    "def prime_number2(n):\n",
    "    if n>1:\n",
    "        for i in range(2,n//2+1):\n",
    "            if n%i==0:\n",
    "                print('No! Its not a prime no')\n",
    "                break\n",
    "        else:\n",
    "            print('yes! Its a prime no')\n",
    "    else:\n",
    "        print('No! Its not a prime no')\n",
    "prime_number2(9)"
   ]
  },
  {
   "cell_type": "code",
   "execution_count": 5,
   "id": "c73f6aca",
   "metadata": {},
   "outputs": [
    {
     "name": "stdout",
     "output_type": "stream",
     "text": [
      "2 is pn\n",
      "3 is pn\n",
      "5 is pn\n",
      "7 is pn\n",
      "11 is pn\n",
      "13 is pn\n",
      "17 is pn\n",
      "19 is pn\n",
      "23 is pn\n",
      "29 is pn\n",
      "31 is pn\n",
      "37 is pn\n"
     ]
    }
   ],
   "source": [
    "#DISPLAY ALL PRIME NO WITHIN AN INTERVAL:\n",
    "\n",
    "#USING FOR-ELSE IS BEST :\n",
    "\n",
    "def prime_number2(start,end):\n",
    "    for n in range(start,end):\n",
    "        if n>1:\n",
    "            for i in range(2,n//2+1):\n",
    "                if n%i==0:\n",
    "                    break\n",
    "            else:\n",
    "                print(n,'is pn')\n",
    "prime_number2(2,40)"
   ]
  },
  {
   "cell_type": "code",
   "execution_count": 29,
   "id": "e2b76fc4",
   "metadata": {},
   "outputs": [],
   "source": [
    "#MODIFY STRING FORMAT:\n",
    "\n",
    "#I/P=I_Am_Coder\n",
    "#o/p=i.aM.cODER\n",
    "\n",
    "#I/P=This_Is_A_Good_Morning\n",
    "#o/p=tHIS.iS.a.gOOD.mORNING\n",
    "\n",
    "#CHANGES:\n",
    "\n",
    "#_ = .\n",
    "#first_upper_letter = first_lower_letter\n",
    "#remaining_lower_letter = remaining_upper_letter"
   ]
  },
  {
   "cell_type": "code",
   "execution_count": 30,
   "id": "ff54f1f1",
   "metadata": {},
   "outputs": [
    {
     "name": "stdout",
     "output_type": "stream",
     "text": [
      "['tHIS', 'iS', 'a', 'gOOD', 'mORNING']\n",
      "tHISiSagOODmORNING\n"
     ]
    }
   ],
   "source": [
    "s='This_Is_A_Good_Morning'\n",
    "l=[]\n",
    "temp=s.split('_')\n",
    "# print(temp)\n",
    "for i in temp:\n",
    "#     print(i)\n",
    "    l.append(i[0].lower()+i[1:].upper())\n",
    "print(l)\n",
    "s=''.join(l)\n",
    "print(s)"
   ]
  },
  {
   "cell_type": "code",
   "execution_count": 31,
   "id": "d469ac19",
   "metadata": {},
   "outputs": [
    {
     "name": "stdout",
     "output_type": "stream",
     "text": [
      "['tHIS', 'iS', 'a', 'gOOD', 'mORNING']\n",
      "tHIS.iS.a.gOOD.mORNING\n"
     ]
    }
   ],
   "source": [
    "s='This_Is_A_Good_Morning'\n",
    "l=[]\n",
    "temp=s.split('_')\n",
    "# print(temp)\n",
    "for i in temp:\n",
    "#     print(i)\n",
    "    l.append(i[0].lower()+i[1:].upper())\n",
    "print(l)\n",
    "s='.'.join(l)\n",
    "print(s)"
   ]
  },
  {
   "cell_type": "code",
   "execution_count": 15,
   "id": "bb90afa5",
   "metadata": {},
   "outputs": [
    {
     "name": "stdout",
     "output_type": "stream",
     "text": [
      "tHIS iS a gOOD mORNING \n"
     ]
    }
   ],
   "source": [
    "#USING STRING:\n",
    "\n",
    "s='This_Is_A_Good_Morning'\n",
    "new_s=''\n",
    "temp=s.split('_')\n",
    "# print(temp)\n",
    "for i in temp:\n",
    "#     print(i)\n",
    "    new_s=new_s+i[0].lower()+i[1:].upper()+' '\n",
    "print(new_s)\n"
   ]
  },
  {
   "cell_type": "code",
   "execution_count": 23,
   "id": "c6dd9ffc",
   "metadata": {},
   "outputs": [
    {
     "name": "stdout",
     "output_type": "stream",
     "text": [
      "33\n",
      "16\n"
     ]
    }
   ],
   "source": [
    "#HIGHEST NO IN A LIST:\n",
    "#USING FOR LOOP\n",
    "\n",
    "# l=[10,20,30,4,100,22,666,666]\n",
    "l=[11,2,33,16,5]\n",
    "for i in l:\n",
    "    if l[0]>l[1]:\n",
    "        first=l[0]\n",
    "        second=l[1]\n",
    "    else:\n",
    "        first=l[1]\n",
    "        second=l[0]\n",
    "    for i in range(2,len(l)):\n",
    "        if l[i]>first:\n",
    "            second=first\n",
    "            first=l[i]\n",
    "        elif l[i]>second:\n",
    "            second=l[i]\n",
    "print(first)\n",
    "print(second)"
   ]
  },
  {
   "cell_type": "code",
   "execution_count": 34,
   "id": "8fa58862",
   "metadata": {},
   "outputs": [
    {
     "name": "stdout",
     "output_type": "stream",
     "text": [
      "100\n"
     ]
    }
   ],
   "source": [
    "#SECOND HIGHEST NO IN A LIST:\n",
    "#USING FOR LOOP\n",
    "\n",
    "l=[10,20,30,4,100,22,666,666]\n",
    "for i in l:\n",
    "    if l[0]>l[1]:\n",
    "        first=l[0]\n",
    "        second=l[1]\n",
    "    else:\n",
    "        first=l[1]\n",
    "        second=l[0]\n",
    "    for i in range(2,len(l)):\n",
    "        if l[i]>first:\n",
    "            second=first\n",
    "            first=l[i]\n",
    "        elif l[i]>second and first!=l[i]:\n",
    "            second=l[i]\n",
    "print(second)"
   ]
  },
  {
   "cell_type": "code",
   "execution_count": 35,
   "id": "8472fff8",
   "metadata": {},
   "outputs": [
    {
     "name": "stdout",
     "output_type": "stream",
     "text": [
      "666\n",
      "666\n"
     ]
    }
   ],
   "source": [
    "#USING REVERSE SORT:\n",
    "\n",
    "l.sort(reverse=True)\n",
    "print(l[1])\n",
    "l.sort()\n",
    "print(l[-2])"
   ]
  },
  {
   "cell_type": "code",
   "execution_count": 16,
   "id": "63df3732",
   "metadata": {},
   "outputs": [
    {
     "name": "stdout",
     "output_type": "stream",
     "text": [
      "enter no :3\n",
      "[666, 666, 100, 30, 22, 20, 10, 4]\n",
      "100\n"
     ]
    }
   ],
   "source": [
    "#FIND NTH HIGHEST:\n",
    "l=[10,20,30,4,100,22,666,666]\n",
    "n=int(input(\"enter no :\"))\n",
    "l.sort(reverse=True)\n",
    "print(l)\n",
    "print(l[n-1])"
   ]
  },
  {
   "cell_type": "code",
   "execution_count": 26,
   "id": "7d28eaf8",
   "metadata": {},
   "outputs": [
    {
     "name": "stdout",
     "output_type": "stream",
     "text": [
      "[34, 22, 11, 3, 2, 1]\n",
      "3\n"
     ]
    }
   ],
   "source": [
    "l=[1,2,3,11,22,34]\n",
    "l.sort(reverse=True)\n",
    "print(l)\n",
    "print(l[3])"
   ]
  },
  {
   "cell_type": "code",
   "execution_count": 37,
   "id": "e230592a",
   "metadata": {},
   "outputs": [
    {
     "name": "stdout",
     "output_type": "stream",
     "text": [
      "[666, 666, 100, 30, 22, 20, 10, 4]\n",
      "22\n"
     ]
    }
   ],
   "source": [
    "def second_highest_no_using_sort(l,n):\n",
    "    l.sort(reverse=True)\n",
    "    print(l)\n",
    "    print(l[n-1])\n",
    "    \n",
    "l=[10,20,30,4,100,22,666,666]\n",
    "second_highest_no_using_sort(l,5)"
   ]
  },
  {
   "cell_type": "code",
   "execution_count": 38,
   "id": "99214470",
   "metadata": {},
   "outputs": [
    {
     "name": "stdout",
     "output_type": "stream",
     "text": [
      "{100, 4, 10, 20, 22, 666, 30}\n",
      "{100, 4, 10, 20, 22, 30}\n",
      "100\n"
     ]
    }
   ],
   "source": [
    "#USING SET N MAX:\n",
    "\n",
    "l=[10,20,30,4,100,22,666,666]\n",
    "new_l=set(l)\n",
    "print(new_l)\n",
    "new_l.remove(max(new_l))\n",
    "print(new_l)\n",
    "print(max(new_l))"
   ]
  },
  {
   "cell_type": "markdown",
   "id": "3017c941",
   "metadata": {},
   "source": [
    "# ARMSTRONG NO:"
   ]
  },
  {
   "cell_type": "code",
   "execution_count": 39,
   "id": "14b6049e",
   "metadata": {},
   "outputs": [
    {
     "name": "stdout",
     "output_type": "stream",
     "text": [
      "yes\n"
     ]
    }
   ],
   "source": [
    "def armstrong(n):\n",
    "    temp=n\n",
    "    sum=0\n",
    "    while temp>0:\n",
    "        digit= temp%10\n",
    "        sum=sum+(digit**3)\n",
    "        temp=temp//10\n",
    "    if n==sum:\n",
    "        print(\"yes\")\n",
    "    else:\n",
    "        print(\"no\")\n",
    "armstrong(153)"
   ]
  },
  {
   "cell_type": "code",
   "execution_count": 40,
   "id": "6c892738",
   "metadata": {},
   "outputs": [
    {
     "name": "stdout",
     "output_type": "stream",
     "text": [
      "153\n",
      "370\n",
      "371\n",
      "407\n"
     ]
    }
   ],
   "source": [
    "#ARMSTRONG NO FOR A PERTICULAR INTERVAL:\n",
    "\n",
    "def armstrong(s,e):\n",
    "    for n in range(s,e):\n",
    "        sum=0\n",
    "        temp=n\n",
    "        while temp>0:\n",
    "            digit= temp%10\n",
    "            sum=sum+(digit**3)\n",
    "            temp=temp//10\n",
    "        if n==sum:\n",
    "            print(n)\n",
    "armstrong(153,500)"
   ]
  },
  {
   "cell_type": "code",
   "execution_count": 41,
   "id": "a829f135",
   "metadata": {},
   "outputs": [
    {
     "name": "stdout",
     "output_type": "stream",
     "text": [
      "21\n"
     ]
    }
   ],
   "source": [
    "#WAP TO WRITE SUM OF DIGITS OF A NO:\n",
    "\n",
    "def sum_of_digit(n):\n",
    "    sum=0\n",
    "    temp=n\n",
    "    if n>9:\n",
    "        while temp>0:\n",
    "            digit=temp%10\n",
    "            sum=sum+digit\n",
    "            temp=temp//10\n",
    "    else:\n",
    "        sum==n\n",
    "    return sum\n",
    "\n",
    "print(sum_of_digit(1234515))"
   ]
  },
  {
   "cell_type": "code",
   "execution_count": 17,
   "id": "84ad5411",
   "metadata": {},
   "outputs": [
    {
     "ename": "UnboundLocalError",
     "evalue": "local variable 'facto' referenced before assignment",
     "output_type": "error",
     "traceback": [
      "\u001b[1;31m---------------------------------------------------------------------------\u001b[0m",
      "\u001b[1;31mUnboundLocalError\u001b[0m                         Traceback (most recent call last)",
      "\u001b[1;32m~\\AppData\\Local\\Temp/ipykernel_1664/2783699551.py\u001b[0m in \u001b[0;36m<module>\u001b[1;34m\u001b[0m\n\u001b[0;32m     12\u001b[0m         \u001b[0mprint\u001b[0m\u001b[1;33m(\u001b[0m\u001b[1;34m'no'\u001b[0m\u001b[1;33m)\u001b[0m\u001b[1;33m\u001b[0m\u001b[1;33m\u001b[0m\u001b[0m\n\u001b[0;32m     13\u001b[0m \u001b[1;33m\u001b[0m\u001b[0m\n\u001b[1;32m---> 14\u001b[1;33m \u001b[0msum_of_facto\u001b[0m\u001b[1;33m(\u001b[0m\u001b[1;36m145\u001b[0m\u001b[1;33m)\u001b[0m\u001b[1;33m\u001b[0m\u001b[1;33m\u001b[0m\u001b[0m\n\u001b[0m",
      "\u001b[1;32m~\\AppData\\Local\\Temp/ipykernel_1664/2783699551.py\u001b[0m in \u001b[0;36msum_of_facto\u001b[1;34m(n)\u001b[0m\n\u001b[0;32m      5\u001b[0m         \u001b[0mdigit\u001b[0m\u001b[1;33m=\u001b[0m\u001b[0mtemp\u001b[0m\u001b[1;33m%\u001b[0m\u001b[1;36m10\u001b[0m\u001b[1;33m\u001b[0m\u001b[1;33m\u001b[0m\u001b[0m\n\u001b[0;32m      6\u001b[0m         \u001b[0mtemp\u001b[0m\u001b[1;33m=\u001b[0m\u001b[0mtemp\u001b[0m\u001b[1;33m//\u001b[0m\u001b[1;36m10\u001b[0m\u001b[1;33m\u001b[0m\u001b[1;33m\u001b[0m\u001b[0m\n\u001b[1;32m----> 7\u001b[1;33m         \u001b[0mfacto\u001b[0m\u001b[1;33m=\u001b[0m\u001b[0mfacto\u001b[0m\u001b[1;33m*\u001b[0m\u001b[1;33m(\u001b[0m\u001b[0mdigit\u001b[0m\u001b[1;33m)\u001b[0m\u001b[1;33m\u001b[0m\u001b[1;33m\u001b[0m\u001b[0m\n\u001b[0m\u001b[0;32m      8\u001b[0m         \u001b[0msum\u001b[0m\u001b[1;33m=\u001b[0m\u001b[0msum\u001b[0m\u001b[1;33m+\u001b[0m\u001b[0mfacto\u001b[0m\u001b[1;33m\u001b[0m\u001b[1;33m\u001b[0m\u001b[0m\n\u001b[0;32m      9\u001b[0m     \u001b[1;32mif\u001b[0m \u001b[0msum\u001b[0m\u001b[1;33m==\u001b[0m\u001b[0mn\u001b[0m\u001b[1;33m:\u001b[0m\u001b[1;33m\u001b[0m\u001b[1;33m\u001b[0m\u001b[0m\n",
      "\u001b[1;31mUnboundLocalError\u001b[0m: local variable 'facto' referenced before assignment"
     ]
    }
   ],
   "source": [
    "def sum_of_facto(n):\n",
    "    temp=n\n",
    "    sum=0\n",
    "    while (temp>0):\n",
    "        digit=temp%10\n",
    "        temp=temp//10\n",
    "        facto=facto*(digit)\n",
    "        sum=sum+facto\n",
    "    if sum==n:\n",
    "        print('yes')\n",
    "    else:\n",
    "        print('no')\n",
    "        \n",
    "sum_of_facto(145)"
   ]
  },
  {
   "cell_type": "code",
   "execution_count": 18,
   "id": "10c0b1b9",
   "metadata": {},
   "outputs": [
    {
     "name": "stdout",
     "output_type": "stream",
     "text": [
      "153\n"
     ]
    }
   ],
   "source": [
    "# python program to compute sum of series\n",
    "# 1! + 2! + 3! + ... + N!\n",
    "\n",
    "# Function to return sum\n",
    "# of 1!, 2! upto N!\n",
    "def findFactSum(N):\n",
    "\n",
    "\t# Initializing the variables\n",
    "\tf = 1\n",
    "\tSum = 0\n",
    "\n",
    "\t# Calculate the factorial and sum\n",
    "\t# in the same loop\n",
    "\tfor i in range(1, N + 1):\n",
    "\t\tf = f * i\n",
    "\t\tSum += f\n",
    "\n",
    "\t# Return Sum as the final result.\n",
    "\treturn Sum\n",
    "\n",
    "# Driver Code\n",
    "if __name__ == \"__main__\":\n",
    "\tN = 5\n",
    "\n",
    "\t# Function call\n",
    "\tprint(findFactSum(N))\n",
    "\n",
    "\t# This code is contributed by rakeshsahni\n"
   ]
  },
  {
   "cell_type": "code",
   "execution_count": 19,
   "id": "47fadd25",
   "metadata": {},
   "outputs": [
    {
     "data": {
      "text/plain": [
       "153"
      ]
     },
     "execution_count": 19,
     "metadata": {},
     "output_type": "execute_result"
    }
   ],
   "source": [
    "def factsum(n):\n",
    "    sum=0\n",
    "    f=1\n",
    "    for i in range(1,n+1):\n",
    "        f=f*i\n",
    "        sum+=f\n",
    "    return sum\n",
    "factsum(5)"
   ]
  },
  {
   "cell_type": "code",
   "execution_count": 54,
   "id": "a108e692",
   "metadata": {},
   "outputs": [
    {
     "ename": "NameError",
     "evalue": "name 'factorial' is not defined",
     "output_type": "error",
     "traceback": [
      "\u001b[1;31m---------------------------------------------------------------------------\u001b[0m",
      "\u001b[1;31mNameError\u001b[0m                                 Traceback (most recent call last)",
      "\u001b[1;32m~\\AppData\\Local\\Temp/ipykernel_5872/1355837076.py\u001b[0m in \u001b[0;36m<module>\u001b[1;34m\u001b[0m\n\u001b[0;32m     13\u001b[0m             \u001b[0mprint\u001b[0m\u001b[1;33m(\u001b[0m\u001b[0mn\u001b[0m\u001b[1;33m)\u001b[0m\u001b[1;33m\u001b[0m\u001b[1;33m\u001b[0m\u001b[0m\n\u001b[0;32m     14\u001b[0m \u001b[1;33m\u001b[0m\u001b[0m\n\u001b[1;32m---> 15\u001b[1;33m \u001b[0msum_of_facto\u001b[0m\u001b[1;33m(\u001b[0m\u001b[1;36m1\u001b[0m\u001b[1;33m,\u001b[0m\u001b[1;36m200000\u001b[0m\u001b[1;33m)\u001b[0m\u001b[1;33m\u001b[0m\u001b[1;33m\u001b[0m\u001b[0m\n\u001b[0m",
      "\u001b[1;32m~\\AppData\\Local\\Temp/ipykernel_5872/1355837076.py\u001b[0m in \u001b[0;36msum_of_facto\u001b[1;34m(s, e)\u001b[0m\n\u001b[0;32m      8\u001b[0m             \u001b[0mdigit\u001b[0m\u001b[1;33m=\u001b[0m\u001b[0mtemp\u001b[0m\u001b[1;33m%\u001b[0m\u001b[1;36m10\u001b[0m\u001b[1;33m\u001b[0m\u001b[1;33m\u001b[0m\u001b[0m\n\u001b[0;32m      9\u001b[0m             \u001b[0mtemp\u001b[0m\u001b[1;33m=\u001b[0m\u001b[0mtemp\u001b[0m\u001b[1;33m//\u001b[0m\u001b[1;36m10\u001b[0m\u001b[1;33m\u001b[0m\u001b[1;33m\u001b[0m\u001b[0m\n\u001b[1;32m---> 10\u001b[1;33m             \u001b[0mfacto\u001b[0m\u001b[1;33m=\u001b[0m\u001b[0mfactorial\u001b[0m\u001b[1;33m(\u001b[0m\u001b[0mdigit\u001b[0m\u001b[1;33m)\u001b[0m\u001b[1;33m\u001b[0m\u001b[1;33m\u001b[0m\u001b[0m\n\u001b[0m\u001b[0;32m     11\u001b[0m             \u001b[0msum\u001b[0m\u001b[1;33m=\u001b[0m\u001b[0msum\u001b[0m\u001b[1;33m+\u001b[0m\u001b[0mfacto\u001b[0m\u001b[1;33m\u001b[0m\u001b[1;33m\u001b[0m\u001b[0m\n\u001b[0;32m     12\u001b[0m         \u001b[1;32mif\u001b[0m \u001b[0msum\u001b[0m\u001b[1;33m==\u001b[0m\u001b[0mn\u001b[0m\u001b[1;33m:\u001b[0m\u001b[1;33m\u001b[0m\u001b[1;33m\u001b[0m\u001b[0m\n",
      "\u001b[1;31mNameError\u001b[0m: name 'factorial' is not defined"
     ]
    }
   ],
   "source": [
    "#PRINT LIST OF NO THAT FOLLOWS THE CASE WITHIN INTERVAL:\n",
    "\n",
    "def sum_of_facto(s,e):\n",
    "    for n in range(s,e):\n",
    "        temp=n\n",
    "        sum=0\n",
    "        while (temp>0):\n",
    "            digit=temp%10\n",
    "            temp=temp//10\n",
    "            facto=factorial(digit)\n",
    "            sum=sum+facto\n",
    "        if sum==n:\n",
    "            print(n)\n",
    "        \n",
    "sum_of_facto(1,200000)"
   ]
  },
  {
   "cell_type": "code",
   "execution_count": null,
   "id": "356e99dd",
   "metadata": {},
   "outputs": [],
   "source": []
  },
  {
   "cell_type": "code",
   "execution_count": null,
   "id": "33a8d745",
   "metadata": {},
   "outputs": [],
   "source": []
  },
  {
   "cell_type": "code",
   "execution_count": null,
   "id": "ecba8db6",
   "metadata": {},
   "outputs": [],
   "source": []
  }
 ],
 "metadata": {
  "kernelspec": {
   "display_name": "Python 3 (ipykernel)",
   "language": "python",
   "name": "python3"
  },
  "language_info": {
   "codemirror_mode": {
    "name": "ipython",
    "version": 3
   },
   "file_extension": ".py",
   "mimetype": "text/x-python",
   "name": "python",
   "nbconvert_exporter": "python",
   "pygments_lexer": "ipython3",
   "version": "3.9.7"
  }
 },
 "nbformat": 4,
 "nbformat_minor": 5
}
