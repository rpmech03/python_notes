{
 "cells": [
  {
   "cell_type": "code",
   "execution_count": 4,
   "id": "76bf7556",
   "metadata": {},
   "outputs": [],
   "source": [
    "#CAN WE ADD 2 OBJECTS IN PYTHON?\n",
    "\n",
    "class A:\n",
    "    def __init__(self,score,age):\n",
    "        self.name=score\n",
    "        self.age=age\n",
    "    \n",
    "    def __add__(self,score):\n",
    "        return self.score\n",
    "A_obj=A(9,24)\n",
    "A2_Obj=A(7,28)"
   ]
  },
  {
   "cell_type": "code",
   "execution_count": 4,
   "id": "84b55be1",
   "metadata": {},
   "outputs": [
    {
     "ename": "AttributeError",
     "evalue": "'A' object has no attribute 'score'",
     "output_type": "error",
     "traceback": [
      "\u001b[1;31m---------------------------------------------------------------------------\u001b[0m",
      "\u001b[1;31mAttributeError\u001b[0m                            Traceback (most recent call last)",
      "\u001b[1;32m~\\AppData\\Local\\Temp/ipykernel_11760/1863831025.py\u001b[0m in \u001b[0;36m<module>\u001b[1;34m\u001b[0m\n\u001b[0;32m     12\u001b[0m \u001b[0mA2_Obj\u001b[0m\u001b[1;33m=\u001b[0m\u001b[0mA\u001b[0m\u001b[1;33m(\u001b[0m\u001b[1;36m7\u001b[0m\u001b[1;33m,\u001b[0m\u001b[1;36m28\u001b[0m\u001b[1;33m)\u001b[0m\u001b[1;33m\u001b[0m\u001b[1;33m\u001b[0m\u001b[0m\n\u001b[0;32m     13\u001b[0m \u001b[1;33m\u001b[0m\u001b[0m\n\u001b[1;32m---> 14\u001b[1;33m \u001b[0ma3\u001b[0m\u001b[1;33m=\u001b[0m\u001b[0mA_obj\u001b[0m\u001b[1;33m+\u001b[0m\u001b[0mA2_Obj\u001b[0m\u001b[1;33m\u001b[0m\u001b[1;33m\u001b[0m\u001b[0m\n\u001b[0m\u001b[0;32m     15\u001b[0m \u001b[0mprint\u001b[0m\u001b[1;33m(\u001b[0m\u001b[0ma3\u001b[0m\u001b[1;33m)\u001b[0m\u001b[1;33m\u001b[0m\u001b[1;33m\u001b[0m\u001b[0m\n",
      "\u001b[1;32m~\\AppData\\Local\\Temp/ipykernel_11760/1863831025.py\u001b[0m in \u001b[0;36m__add__\u001b[1;34m(self, score)\u001b[0m\n\u001b[0;32m      7\u001b[0m \u001b[1;33m\u001b[0m\u001b[0m\n\u001b[0;32m      8\u001b[0m     \u001b[1;32mdef\u001b[0m \u001b[0m__add__\u001b[0m\u001b[1;33m(\u001b[0m\u001b[0mself\u001b[0m\u001b[1;33m,\u001b[0m\u001b[0mscore\u001b[0m\u001b[1;33m)\u001b[0m\u001b[1;33m:\u001b[0m\u001b[1;33m\u001b[0m\u001b[1;33m\u001b[0m\u001b[0m\n\u001b[1;32m----> 9\u001b[1;33m         \u001b[1;32mreturn\u001b[0m \u001b[0mself\u001b[0m\u001b[1;33m.\u001b[0m\u001b[0mscore\u001b[0m\u001b[1;33m\u001b[0m\u001b[1;33m\u001b[0m\u001b[0m\n\u001b[0m\u001b[0;32m     10\u001b[0m \u001b[1;33m\u001b[0m\u001b[0m\n\u001b[0;32m     11\u001b[0m \u001b[0mA_obj\u001b[0m\u001b[1;33m=\u001b[0m\u001b[0mA\u001b[0m\u001b[1;33m(\u001b[0m\u001b[1;36m9\u001b[0m\u001b[1;33m,\u001b[0m\u001b[1;36m24\u001b[0m\u001b[1;33m)\u001b[0m\u001b[1;33m\u001b[0m\u001b[1;33m\u001b[0m\u001b[0m\n",
      "\u001b[1;31mAttributeError\u001b[0m: 'A' object has no attribute 'score'"
     ]
    }
   ],
   "source": [
    "#CAN WE ADD 2 OBJECTS IN PYTHON?\n",
    "\n",
    "class A:\n",
    "    def __init__(self,score,age):\n",
    "        self.name=score\n",
    "        self.age=age\n",
    "    \n",
    "    def __add__(self,score):\n",
    "        return self.score\n",
    "    \n",
    "#Asked, Make 2 objects?\n",
    "    \n",
    "A_obj=A(9,24)\n",
    "A2_Obj=A(7,28)\n",
    "\n",
    "#Can we add 2 objects?\n",
    "#no we cant add.\n",
    "\n",
    "a3=A_obj+A2_Obj\n",
    "print(a3)"
   ]
  },
  {
   "cell_type": "code",
   "execution_count": 1,
   "id": "513bef8b",
   "metadata": {},
   "outputs": [
    {
     "name": "stdout",
     "output_type": "stream",
     "text": [
      "0\n",
      "1\n",
      "1\n",
      "2\n",
      "3\n",
      "5\n",
      "8\n",
      "13\n",
      "21\n",
      "34\n"
     ]
    }
   ],
   "source": [
    "#FIBONACCI BY GENERATOR:\n",
    "\n",
    "def fibo():\n",
    "    a,b=0,1\n",
    "    while True:\n",
    "        yield a\n",
    "        a,b=b,a+b\n",
    "f1=fibo()\n",
    "print(next(f1))\n",
    "print(next(f1))\n",
    "print(next(f1))\n",
    "print(next(f1))\n",
    "print(next(f1))\n",
    "print(next(f1))\n",
    "print(next(f1))\n",
    "print(next(f1))\n",
    "print(next(f1))\n",
    "print(next(f1))"
   ]
  },
  {
   "cell_type": "code",
   "execution_count": 5,
   "id": "14b843e9",
   "metadata": {},
   "outputs": [
    {
     "name": "stdout",
     "output_type": "stream",
     "text": [
      "0\n",
      "1\n",
      "1\n",
      "2\n",
      "3\n",
      "5\n",
      "8\n",
      "13\n",
      "21\n",
      "34\n",
      "55\n",
      "89\n"
     ]
    }
   ],
   "source": [
    "#FIBONACCI BY GENERATOR:\n",
    "\n",
    "def fibo():\n",
    "    a,b=0,1\n",
    "    while True:\n",
    "        yield a\n",
    "        a,b=b,a+b\n",
    "for f in fibo():\n",
    "    if f>100:\n",
    "        break\n",
    "    print(f)"
   ]
  },
  {
   "cell_type": "code",
   "execution_count": 2,
   "id": "feb574da",
   "metadata": {},
   "outputs": [
    {
     "name": "stdout",
     "output_type": "stream",
     "text": [
      "[2, 4, 2, 6, 2]\n"
     ]
    }
   ],
   "source": [
    "#FIND EVEN NO FROM LIST USING LAMBDA FUN:\n",
    "\n",
    "a=[2,3,4,2,1,3,6,3,1,2,5]\n",
    "sum=list(filter(lambda x:x%2==0,a))\n",
    "print(sum)"
   ]
  },
  {
   "cell_type": "code",
   "execution_count": 15,
   "id": "53bd15e4",
   "metadata": {},
   "outputs": [
    {
     "ename": "Exception",
     "evalue": "Exception: 1 is found",
     "output_type": "error",
     "traceback": [
      "\u001b[1;31m---------------------------------------------------------------------------\u001b[0m",
      "\u001b[1;31mException\u001b[0m                                 Traceback (most recent call last)",
      "\u001b[1;32m~\\AppData\\Local\\Temp/ipykernel_11760/2192678531.py\u001b[0m in \u001b[0;36m<module>\u001b[1;34m\u001b[0m\n\u001b[0;32m      5\u001b[0m \u001b[1;32mfor\u001b[0m \u001b[0mi\u001b[0m \u001b[1;32min\u001b[0m \u001b[0ma\u001b[0m\u001b[1;33m:\u001b[0m\u001b[1;33m\u001b[0m\u001b[1;33m\u001b[0m\u001b[0m\n\u001b[0;32m      6\u001b[0m     \u001b[1;32mif\u001b[0m \u001b[0mi\u001b[0m\u001b[1;33m==\u001b[0m\u001b[1;36m1\u001b[0m\u001b[1;33m:\u001b[0m\u001b[1;33m\u001b[0m\u001b[1;33m\u001b[0m\u001b[0m\n\u001b[1;32m----> 7\u001b[1;33m         \u001b[1;32mraise\u001b[0m \u001b[0mException\u001b[0m\u001b[1;33m(\u001b[0m\u001b[1;34m\"Exception: 1 is found\"\u001b[0m\u001b[1;33m)\u001b[0m\u001b[1;33m\u001b[0m\u001b[1;33m\u001b[0m\u001b[0m\n\u001b[0m\u001b[0;32m      8\u001b[0m     \u001b[1;32melse\u001b[0m\u001b[1;33m:\u001b[0m\u001b[1;33m\u001b[0m\u001b[1;33m\u001b[0m\u001b[0m\n\u001b[0;32m      9\u001b[0m         \u001b[0msum\u001b[0m\u001b[1;33m+=\u001b[0m\u001b[0mi\u001b[0m\u001b[1;33m\u001b[0m\u001b[1;33m\u001b[0m\u001b[0m\n",
      "\u001b[1;31mException\u001b[0m: Exception: 1 is found"
     ]
    }
   ],
   "source": [
    "#RAISE EXCEPTION IF ELEMENT IS 1 IN A LIST:\n",
    "\n",
    "a=[1,2,3,4]\n",
    "sum=0\n",
    "for i in a:\n",
    "    if i==1:\n",
    "        raise Exception(\"Exception: 1 is found\")\n",
    "    else:\n",
    "        sum+=i\n",
    "print(sum)"
   ]
  },
  {
   "cell_type": "code",
   "execution_count": 2,
   "id": "4b4a2261",
   "metadata": {},
   "outputs": [
    {
     "ename": "FileNotFoundError",
     "evalue": "[Errno 2] No such file or directory: 'sample.txt'",
     "output_type": "error",
     "traceback": [
      "\u001b[1;31m---------------------------------------------------------------------------\u001b[0m",
      "\u001b[1;31mFileNotFoundError\u001b[0m                         Traceback (most recent call last)",
      "\u001b[1;32m~\\AppData\\Local\\Temp/ipykernel_10120/3531270663.py\u001b[0m in \u001b[0;36m<module>\u001b[1;34m\u001b[0m\n\u001b[0;32m      1\u001b[0m \u001b[1;31m#RAISE EOF:\u001b[0m\u001b[1;33m\u001b[0m\u001b[1;33m\u001b[0m\u001b[0m\n\u001b[0;32m      2\u001b[0m \u001b[1;33m\u001b[0m\u001b[0m\n\u001b[1;32m----> 3\u001b[1;33m \u001b[0mf1\u001b[0m \u001b[1;33m=\u001b[0m \u001b[0mopen\u001b[0m\u001b[1;33m(\u001b[0m\u001b[1;34m\"sample.txt\"\u001b[0m\u001b[1;33m)\u001b[0m\u001b[1;33m\u001b[0m\u001b[1;33m\u001b[0m\u001b[0m\n\u001b[0m\u001b[0;32m      4\u001b[0m \u001b[1;33m\u001b[0m\u001b[0m\n\u001b[0;32m      5\u001b[0m \u001b[1;32mwhile\u001b[0m \u001b[1;32mTrue\u001b[0m\u001b[1;33m:\u001b[0m\u001b[1;33m\u001b[0m\u001b[1;33m\u001b[0m\u001b[0m\n",
      "\u001b[1;31mFileNotFoundError\u001b[0m: [Errno 2] No such file or directory: 'sample.txt'"
     ]
    }
   ],
   "source": [
    "#RAISE EOF:\n",
    "\n",
    "f1 = open(\"sample.txt\")\n",
    "\n",
    "while True:\n",
    "    line = f1.readline()\n",
    "    print(line)\n",
    "    if (\"\" == line):\n",
    "        print(\"file finished\")\n",
    "        break"
   ]
  },
  {
   "cell_type": "code",
   "execution_count": 4,
   "id": "ddf48a6a",
   "metadata": {},
   "outputs": [
    {
     "name": "stdout",
     "output_type": "stream",
     "text": [
      "2nd constructor\n"
     ]
    }
   ],
   "source": [
    "#which constructor will be called?\n",
    "\n",
    "class X:\n",
    "    def __init__(self):\n",
    "        print('1st constructor')\n",
    "        \n",
    "    def __init__(self):\n",
    "        print('2nd constructor')\n",
    "a=X()\n"
   ]
  },
  {
   "cell_type": "code",
   "execution_count": 6,
   "id": "ed752986",
   "metadata": {},
   "outputs": [
    {
     "name": "stdout",
     "output_type": "stream",
     "text": [
      "enter perimeter :3\n",
      "enter perpendicular distance :3\n",
      "4.5\n"
     ]
    }
   ],
   "source": [
    "#FIND AREA OF POLYGON?\n",
    "p=int(input('enter perimeter :'))\n",
    "d=int(input('enter perpendicular distance :'))\n",
    "area=1/2*(p)*(d)\n",
    "print(area)"
   ]
  },
  {
   "cell_type": "code",
   "execution_count": null,
   "id": "90ee2304",
   "metadata": {},
   "outputs": [],
   "source": [
    "# You are given m*n grid.\n",
    "# Where each cell can have one of the three values:\n",
    "    \n",
    "# 0 representing an empty cell.\n",
    "# 1 representing a fresh orange,or\n",
    "# 2 representing a rotten orange.\n",
    "\n",
    "# Every minute any fresh orange that is 4-directionally adjacent to a rotten becomes rotten.\n",
    "\n",
    "# Return the minimum no of minutes that must elapse until no cell has a fresh orange.\n",
    "# if thi is impossible return -1."
   ]
  },
  {
   "cell_type": "code",
   "execution_count": 3,
   "id": "d3d20bca",
   "metadata": {},
   "outputs": [
    {
     "ename": "TypeError",
     "evalue": "'<' not supported between instances of 'list' and 'int'",
     "output_type": "error",
     "traceback": [
      "\u001b[1;31m---------------------------------------------------------------------------\u001b[0m",
      "\u001b[1;31mTypeError\u001b[0m                                 Traceback (most recent call last)",
      "\u001b[1;32m~\\AppData\\Local\\Temp/ipykernel_10980/1216948043.py\u001b[0m in \u001b[0;36m<module>\u001b[1;34m\u001b[0m\n\u001b[0;32m     19\u001b[0m             \u001b[1;32melse\u001b[0m\u001b[1;33m:\u001b[0m\u001b[1;33m\u001b[0m\u001b[1;33m\u001b[0m\u001b[0m\n\u001b[0;32m     20\u001b[0m                 \u001b[0mlower\u001b[0m\u001b[1;33m=\u001b[0m\u001b[0mmid\u001b[0m\u001b[1;33m-\u001b[0m\u001b[1;36m1\u001b[0m\u001b[1;33m\u001b[0m\u001b[1;33m\u001b[0m\u001b[0m\n\u001b[1;32m---> 21\u001b[1;33m \u001b[0msorting\u001b[0m\u001b[1;33m(\u001b[0m\u001b[0ma\u001b[0m\u001b[1;33m,\u001b[0m\u001b[1;36m9\u001b[0m\u001b[1;33m)\u001b[0m\u001b[1;33m\u001b[0m\u001b[1;33m\u001b[0m\u001b[0m\n\u001b[0m",
      "\u001b[1;32m~\\AppData\\Local\\Temp/ipykernel_10980/1216948043.py\u001b[0m in \u001b[0;36msorting\u001b[1;34m(a, k)\u001b[0m\n\u001b[0;32m     15\u001b[0m             \u001b[0mprint\u001b[0m\u001b[1;33m(\u001b[0m\u001b[1;34m\"matched\"\u001b[0m\u001b[1;33m)\u001b[0m\u001b[1;33m\u001b[0m\u001b[1;33m\u001b[0m\u001b[0m\n\u001b[0;32m     16\u001b[0m         \u001b[1;32melse\u001b[0m\u001b[1;33m:\u001b[0m\u001b[1;33m\u001b[0m\u001b[1;33m\u001b[0m\u001b[0m\n\u001b[1;32m---> 17\u001b[1;33m             \u001b[1;32mif\u001b[0m \u001b[0ma\u001b[0m\u001b[1;33m[\u001b[0m\u001b[0mmid\u001b[0m\u001b[1;33m]\u001b[0m\u001b[1;33m<\u001b[0m\u001b[0mk\u001b[0m\u001b[1;33m:\u001b[0m\u001b[1;33m\u001b[0m\u001b[1;33m\u001b[0m\u001b[0m\n\u001b[0m\u001b[0;32m     18\u001b[0m                 \u001b[0mupper\u001b[0m\u001b[1;33m=\u001b[0m\u001b[0mmid\u001b[0m\u001b[1;33m+\u001b[0m\u001b[1;36m1\u001b[0m\u001b[1;33m\u001b[0m\u001b[1;33m\u001b[0m\u001b[0m\n\u001b[0;32m     19\u001b[0m             \u001b[1;32melse\u001b[0m\u001b[1;33m:\u001b[0m\u001b[1;33m\u001b[0m\u001b[1;33m\u001b[0m\u001b[0m\n",
      "\u001b[1;31mTypeError\u001b[0m: '<' not supported between instances of 'list' and 'int'"
     ]
    }
   ],
   "source": [
    "#FIND AN ELEMENT :\n",
    "\n",
    "a=[[1,4,5],\n",
    "  [6,7,9],\n",
    "  [10,11,20],\n",
    "  [23,34,45]]\n",
    "k=6\n",
    "def sorting(a,k):\n",
    "    lower=0\n",
    "    upper=len(a)-1\n",
    "    mid=(lower+upper)//2\n",
    "    \n",
    "    while lower<=upper:\n",
    "        if a[mid]==k:\n",
    "            print(\"matched\")\n",
    "        else:\n",
    "            if a[mid]<k:\n",
    "                upper=mid+1\n",
    "            else:\n",
    "                lower=mid-1\n",
    "sorting(a,9)"
   ]
  },
  {
   "cell_type": "code",
   "execution_count": 3,
   "id": "902e76d2",
   "metadata": {},
   "outputs": [
    {
     "name": "stdout",
     "output_type": "stream",
     "text": [
      "not exist\n"
     ]
    }
   ],
   "source": [
    "# python code to Check if element exists in list or not\n",
    " \n",
    "lst=[ 1, 6, 3, 5, 3, 4 ]\n",
    "#checking if element 7 is present\n",
    "# in the given list or not\n",
    "i=7\n",
    "# if element present then return\n",
    "# exist otherwise not exist\n",
    "if i in lst:\n",
    "    print(\"exist\")\n",
    "else:\n",
    "    print(\"not exist\")"
   ]
  },
  {
   "cell_type": "code",
   "execution_count": 4,
   "id": "e67ffb99",
   "metadata": {},
   "outputs": [
    {
     "name": "stdout",
     "output_type": "stream",
     "text": [
      "Element Exists\n"
     ]
    }
   ],
   "source": [
    "# Initializing list\n",
    "test_list = [1, 6, 3, 5, 3, 4]\n",
    " \n",
    "# Checking if 4 exists in list\n",
    "for i in test_list:\n",
    "    if(i == 4):\n",
    "        print(\"Element Exists\")"
   ]
  },
  {
   "cell_type": "code",
   "execution_count": 5,
   "id": "058e04b8",
   "metadata": {},
   "outputs": [
    {
     "name": "stdout",
     "output_type": "stream",
     "text": [
      "Element Exists\n"
     ]
    }
   ],
   "source": [
    "# Initializing list\n",
    "test_list = [1, 6, 3, 5, 3, 4]\n",
    " \n",
    "# Checking if 4 exists in list\n",
    "# using in\n",
    "if (4 in test_list):\n",
    "    print(\"Element Exists\")"
   ]
  },
  {
   "cell_type": "code",
   "execution_count": 18,
   "id": "30edcf40",
   "metadata": {},
   "outputs": [
    {
     "name": "stdout",
     "output_type": "stream",
     "text": [
      "max value : 45\n",
      "min value : 1\n"
     ]
    }
   ],
   "source": [
    "#FIND MAX N MIN VALUE FROM A LIST W/O USING ANY PREDEFINED FUNS?\n",
    "\n",
    "#max se jyada hogi to use max m store kra dege n min se b km hogi to use min m store kra dege.\n",
    "\n",
    "x=[2,3,1,3,9,4,23,12,45]\n",
    "min_value=max_value=x[0]\n",
    "for i in x[1:]:\n",
    "    if i<min_value:\n",
    "        min_value=i\n",
    "    else:\n",
    "        if i>max_value:\n",
    "            max_value=i\n",
    "print(\"max value :\",max_value)\n",
    "print(\"min value :\",min_value)"
   ]
  },
  {
   "cell_type": "code",
   "execution_count": 19,
   "id": "5b0f3af9",
   "metadata": {},
   "outputs": [
    {
     "name": "stdout",
     "output_type": "stream",
     "text": [
      "ghiqwerty\n"
     ]
    }
   ],
   "source": [
    "#LONGEST SUBSTRING WHERE CHARACTER IS NOT REPEATED:\n",
    "\n",
    "#string ko new string m n new string ko list m dal do then old string ko new string m bhejte jao.\n",
    "\n",
    "s1='abcfggdghiqwerty'\n",
    "temp_s=''\n",
    "l=[]\n",
    "for i in range(len(s1)):\n",
    "#     print(s1[i])\n",
    "    if s1[i] in temp_s:\n",
    "        l.append(temp_s)\n",
    "        temp_s=s1[i]#old string ki values ek2 krke new string m jayegi \n",
    "    else:\n",
    "        temp_s+=s1[i]#new string m old string add krwa do\n",
    "l.append(temp_s)\n",
    "print(max(l))"
   ]
  },
  {
   "cell_type": "code",
   "execution_count": 25,
   "id": "74ce7801",
   "metadata": {},
   "outputs": [
    {
     "name": "stdout",
     "output_type": "stream",
     "text": [
      "1\n",
      "2\n",
      "3\n",
      "4\n",
      "5\n",
      "6\n",
      "7\n",
      "8\n",
      "9\n",
      "10\n",
      "total sum of books page  55\n",
      "49\n",
      "missing no is : 6\n"
     ]
    }
   ],
   "source": [
    "#FIND THE MISSING NUMBER:\n",
    "Books=[1,2,3,4,5,7,8,9,10]\n",
    "n=len(Books)+1\n",
    "# print(n)\n",
    "total_sum=0\n",
    "for i in range(1,n+1):\n",
    "    print(i)\n",
    "    total_sum+=i\n",
    "print(\"total sum of books page \",total_sum)    \n",
    "sum=0\n",
    "for i in Books:\n",
    "    sum+=i\n",
    "print(sum) \n",
    "print('missing no is :',total_sum-sum)"
   ]
  },
  {
   "cell_type": "code",
   "execution_count": 23,
   "id": "3d4319b1",
   "metadata": {},
   "outputs": [
    {
     "name": "stdout",
     "output_type": "stream",
     "text": [
      "False\n"
     ]
    }
   ],
   "source": [
    "# i/p-arr[]={1,2,1,3,2,3},k=3\n",
    "# o/p- yes\n",
    "# explanation- {1,2,3} and {1,2,3}\n",
    "\n",
    "# both having k numbers of elements and have all elements of arr[]\n",
    "\n",
    "# 1/p2-arr[]={4,3,1,2},k=2\n",
    "# o/p2-no\n",
    "\n",
    "def check_sequence(arr,k):\n",
    "    n=len(arr)\n",
    "    arr2=arr.copy()\n",
    "    for i in range(n):\n",
    "        count=1\n",
    "        for j in range(i+1,n):\n",
    "            if arr2[j]>arr[i]:\n",
    "                arr2[i]=0\n",
    "                arr2[j]=0\n",
    "                count+=1\n",
    "                if count==k:\n",
    "                    break\n",
    "                if count!=k:\n",
    "                    break\n",
    "    if count==k:\n",
    "        print(True)\n",
    "    else:\n",
    "        print(False)\n",
    "arr=[4,3,1,2]\n",
    "k=2\n",
    "check_sequence(arr,k)"
   ]
  },
  {
   "cell_type": "code",
   "execution_count": 12,
   "id": "81cc9a38",
   "metadata": {},
   "outputs": [
    {
     "name": "stdout",
     "output_type": "stream",
     "text": [
      "[1, 8, 6, 17, 2]\n",
      "[17, 8, 1]\n"
     ]
    }
   ],
   "source": [
    "#FIND MAX HEIGHT OF PERSON THAT WILL SEE ALL ITS PEOPLE W/O SORTING,AND THEY WILL BE PLACED IN ORDER.\n",
    "#I/P-2,17,6,8,1\n",
    "# O/P-1,8,17\n",
    "\n",
    "x=[2,17,6,8,1]\n",
    "x=list(reversed(x))\n",
    "print(x)\n",
    "max_value=x[0]\n",
    "li=[]\n",
    "for i in x:\n",
    "    if i>=max_value:\n",
    "        max_value=i\n",
    "        li.insert(0,i)\n",
    "print(li)"
   ]
  },
  {
   "cell_type": "code",
   "execution_count": 22,
   "id": "148879de",
   "metadata": {},
   "outputs": [
    {
     "name": "stdout",
     "output_type": "stream",
     "text": [
      "12\n"
     ]
    }
   ],
   "source": [
    "#FIND PRODUCT OF 2 NO W/O USING MULTIPLICATION OPERATOR:\n",
    "\n",
    "a=3\n",
    "b=4\n",
    "num=0\n",
    "for i in range(1,b+1):\n",
    "    num+=a\n",
    "print(num)"
   ]
  },
  {
   "cell_type": "code",
   "execution_count": null,
   "id": "a5bfe947",
   "metadata": {},
   "outputs": [],
   "source": []
  }
 ],
 "metadata": {
  "kernelspec": {
   "display_name": "Python 3 (ipykernel)",
   "language": "python",
   "name": "python3"
  },
  "language_info": {
   "codemirror_mode": {
    "name": "ipython",
    "version": 3
   },
   "file_extension": ".py",
   "mimetype": "text/x-python",
   "name": "python",
   "nbconvert_exporter": "python",
   "pygments_lexer": "ipython3",
   "version": "3.9.7"
  }
 },
 "nbformat": 4,
 "nbformat_minor": 5
}
