{
 "cells": [
  {
   "cell_type": "code",
   "execution_count": 7,
   "id": "97a097b5",
   "metadata": {},
   "outputs": [
    {
     "data": {
      "text/plain": [
       "False"
      ]
     },
     "execution_count": 7,
     "metadata": {},
     "output_type": "execute_result"
    }
   ],
   "source": [
    "def pal(s):\n",
    "    n = len(s)\n",
    "    first = 0\n",
    "    last = n-1\n",
    "    while first<last:\n",
    "        if s[first]<s[last]:\n",
    "                first = first+1\n",
    "                last = last-1\n",
    "        else:\n",
    "            return False\n",
    "    return True\n",
    "pal(\"nitin\")"
   ]
  },
  {
   "cell_type": "code",
   "execution_count": null,
   "id": "10b69ded",
   "metadata": {},
   "outputs": [],
   "source": []
  }
 ],
 "metadata": {
  "kernelspec": {
   "display_name": "Python 3 (ipykernel)",
   "language": "python",
   "name": "python3"
  },
  "language_info": {
   "codemirror_mode": {
    "name": "ipython",
    "version": 3
   },
   "file_extension": ".py",
   "mimetype": "text/x-python",
   "name": "python",
   "nbconvert_exporter": "python",
   "pygments_lexer": "ipython3",
   "version": "3.9.7"
  }
 },
 "nbformat": 4,
 "nbformat_minor": 5
}
