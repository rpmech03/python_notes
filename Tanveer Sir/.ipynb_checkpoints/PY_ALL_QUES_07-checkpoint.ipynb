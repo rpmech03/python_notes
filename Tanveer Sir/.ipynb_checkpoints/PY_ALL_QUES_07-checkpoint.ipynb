{
 "cells": [
  {
   "cell_type": "code",
   "execution_count": 5,
   "id": "e145f7f5",
   "metadata": {},
   "outputs": [
    {
     "name": "stdout",
     "output_type": "stream",
     "text": [
      "['hello', 'world', 'nitin']\n",
      "['nitin', 'world', 'hello']\n",
      "nitin world hello\n"
     ]
    }
   ],
   "source": [
    "#PRINT THE REQUIRED O/P.\n",
    "# I/P-'hello,world,nitin'\n",
    "# o/p-'nitin,world,hello'\n",
    "\n",
    "# string.split(separator, maxsplit)\n",
    "\n",
    "s='hello,world,nitin'\n",
    "s=s.split(',')\n",
    "print(s)\n",
    "s=s[::-1]\n",
    "print(s)\n",
    "s=' '.join(s)\n",
    "print(s)\n",
    "\n",
    "\n",
    "# The join() method takes all items in an iterable and joins them into one string.\n",
    "\n",
    "# A string must be specified as the separator.\n",
    "\n",
    "# string.join(iterable)"
   ]
  },
  {
   "cell_type": "code",
   "execution_count": 7,
   "id": "7607ea09",
   "metadata": {},
   "outputs": [
    {
     "name": "stdout",
     "output_type": "stream",
     "text": [
      "nitin,world,hello\n"
     ]
    }
   ],
   "source": [
    "#or \n",
    "\n",
    "s='hello,world,nitin'\n",
    "print(','.join(s.split(',')[::-1]))\n"
   ]
  },
  {
   "cell_type": "code",
   "execution_count": 1,
   "id": "f00e1b8e",
   "metadata": {},
   "outputs": [
    {
     "name": "stdout",
     "output_type": "stream",
     "text": [
      "20a1b1c2d3e5f8\n"
     ]
    }
   ],
   "source": [
    "#I/P- abcdef,(fibonacci-112358)\n",
    "# o/p-20a1b1c2d3e5f8\n",
    "\n",
    "s1='abcdef'\n",
    "fibo=[1,1,2,3,5,8]\n",
    "sum=0\n",
    "for i in fibo:\n",
    "    sum+=i\n",
    "#     print(sum)\n",
    "new_s=str(sum)\n",
    "n=len(s1)\n",
    "for i in range(n):\n",
    "    new_s=new_s+str(s1[i])+str(fibo[i])\n",
    "print(new_s)    "
   ]
  },
  {
   "cell_type": "code",
   "execution_count": 6,
   "id": "b527f1d0",
   "metadata": {},
   "outputs": [
    {
     "name": "stdout",
     "output_type": "stream",
     "text": [
      "5\n",
      "0\n",
      "1\n",
      "[9, 3, 1, 4, 2]\n"
     ]
    }
   ],
   "source": [
    "#REVERSE THE LIST W/O PREDEFINED FUNS:\n",
    "\n",
    "a=[2,4,1,3,9]\n",
    "n=len(a)\n",
    "print(n)\n",
    "for i in range(int(n/2)):\n",
    "    print(i)\n",
    "    a[i],a[n-i-1]=a[n-i-1],a[i]\n",
    "print(a)\n",
    "\n",
    "#a[n-i-1]=means last wale element ko 1st m store krege ie a[i] n ase he sbhi ke liye krege..n/2 means yha 2.5 length tk he\n",
    "# access krega like 2 ,4 tk he jayega baki chizo ko access krne ki need nh h cz rem ko hm swap krke samne la lege,jisse list\n",
    "# reverse ho jayegi."
   ]
  },
  {
   "cell_type": "code",
   "execution_count": 11,
   "id": "714b7343",
   "metadata": {},
   "outputs": [
    {
     "name": "stdout",
     "output_type": "stream",
     "text": [
      "[9, 3, 1, 4, 2]\n"
     ]
    }
   ],
   "source": [
    "a=[2,4,1,3,9]\n",
    "print(a[::-1])"
   ]
  },
  {
   "cell_type": "code",
   "execution_count": 14,
   "id": "bc130eec",
   "metadata": {},
   "outputs": [
    {
     "data": {
      "text/plain": [
       "[8, 27, 64, 343, 512, -1, -27]"
      ]
     },
     "execution_count": 14,
     "metadata": {},
     "output_type": "execute_result"
    }
   ],
   "source": [
    "#CREATE A LIST CONTAINING CUBES OF ELEMENTS IN A LIST USING LIST COMPREHENSION:\n",
    "\n",
    "a=[2,3,4,7,8,-1,-3]\n",
    "b=[i**3 for i in a]\n",
    "b"
   ]
  },
  {
   "cell_type": "code",
   "execution_count": 11,
   "id": "36bfe158",
   "metadata": {},
   "outputs": [
    {
     "name": "stdout",
     "output_type": "stream",
     "text": [
      "Enter number: 123\n",
      "Reverse of the number: 321\n"
     ]
    }
   ],
   "source": [
    "# Here is the source code of the Python Program to reverse a given number.\n",
    "\n",
    " \n",
    "n=int(input(\"Enter number: \"))\n",
    "rev=0\n",
    "while(n>0):\n",
    "    dig=n%10\n",
    "    rev=rev*10+dig\n",
    "    n=n//10\n",
    "print(\"Reverse of the number:\",rev)\n",
    "\n",
    "# Program Explanation\n",
    "# 1. User must first enter the value and store it in a variable n.\n",
    "# 2. The while loop is used and the last digit of the number is obtained by using the modulus operator.\n",
    "# 3. The last digit is then stored at the one’s place, second last at the ten’s place and so on.\n",
    "# 4. The last digit is then removed by truly dividing the number with 10.\n",
    "# 5. This loop terminates when the value of the number is 0.\n",
    "# 6. The reverse of the number is then printed."
   ]
  },
  {
   "cell_type": "code",
   "execution_count": 15,
   "id": "f265f7a6",
   "metadata": {},
   "outputs": [
    {
     "name": "stdout",
     "output_type": "stream",
     "text": [
      "135\n",
      "5\n"
     ]
    }
   ],
   "source": [
    "#DEFINE A FUN THAT WILL TAKE 2 NO N AN OPERATOR AS AN ASSIGNMENT N EVALUATE IT'S RESULT.\n",
    "\n",
    "def eval_result(x,y,operator):\n",
    "    result=eval(str(x)+operator+str(y))\n",
    "    return result\n",
    "print(eval_result(3,45,'*'))\n",
    "print(eval_result(7,2,'-'))"
   ]
  },
  {
   "cell_type": "code",
   "execution_count": 7,
   "id": "026c0985",
   "metadata": {},
   "outputs": [
    {
     "ename": "FileNotFoundError",
     "evalue": "[Errno 2] No such file or directory: 'hello.txt'",
     "output_type": "error",
     "traceback": [
      "\u001b[1;31m---------------------------------------------------------------------------\u001b[0m",
      "\u001b[1;31mFileNotFoundError\u001b[0m                         Traceback (most recent call last)",
      "\u001b[1;32m~\\AppData\\Local\\Temp/ipykernel_10248/2182736254.py\u001b[0m in \u001b[0;36m<module>\u001b[1;34m\u001b[0m\n\u001b[0;32m      2\u001b[0m \u001b[1;33m\u001b[0m\u001b[0m\n\u001b[0;32m      3\u001b[0m \u001b[0ml\u001b[0m\u001b[1;33m=\u001b[0m\u001b[1;33m[\u001b[0m\u001b[1;33m]\u001b[0m\u001b[1;33m\u001b[0m\u001b[1;33m\u001b[0m\u001b[0m\n\u001b[1;32m----> 4\u001b[1;33m \u001b[1;32mwith\u001b[0m \u001b[0mopen\u001b[0m\u001b[1;33m(\u001b[0m\u001b[1;34m'hello.txt'\u001b[0m\u001b[1;33m,\u001b[0m\u001b[1;34m'r'\u001b[0m\u001b[1;33m)\u001b[0m \u001b[1;32mas\u001b[0m \u001b[0mf\u001b[0m\u001b[1;33m:\u001b[0m\u001b[1;33m\u001b[0m\u001b[1;33m\u001b[0m\u001b[0m\n\u001b[0m\u001b[0;32m      5\u001b[0m     \u001b[0ml\u001b[0m\u001b[1;33m=\u001b[0m\u001b[0mf\u001b[0m\u001b[1;33m.\u001b[0m\u001b[0mreadlines\u001b[0m\u001b[1;33m(\u001b[0m\u001b[1;33m)\u001b[0m\u001b[1;33m\u001b[0m\u001b[1;33m\u001b[0m\u001b[0m\n\u001b[0;32m      6\u001b[0m     \u001b[0mf\u001b[0m\u001b[1;33m.\u001b[0m\u001b[0mclose\u001b[0m\u001b[1;33m(\u001b[0m\u001b[1;33m)\u001b[0m\u001b[1;33m\u001b[0m\u001b[1;33m\u001b[0m\u001b[0m\n",
      "\u001b[1;31mFileNotFoundError\u001b[0m: [Errno 2] No such file or directory: 'hello.txt'"
     ]
    }
   ],
   "source": [
    "#COPY CONTENT OF hello.txt to hello2.txt by using 'with' n 'open' that contains 'nitin' keyword in line.\n",
    "\n",
    "l=[]\n",
    "with open('hello.txt','r') as f:\n",
    "    l=f.readlines()\n",
    "    f.close()\n",
    "    \n",
    "with open('hello2.txt','w') as f:\n",
    "    for i in l:\n",
    "        if i.contains('nitin'):\n",
    "            f.write(i)"
   ]
  },
  {
   "cell_type": "code",
   "execution_count": 8,
   "id": "79f6fc1e",
   "metadata": {},
   "outputs": [
    {
     "ename": "FileNotFoundError",
     "evalue": "[Errno 2] No such file or directory: 'hello.txt'",
     "output_type": "error",
     "traceback": [
      "\u001b[1;31m---------------------------------------------------------------------------\u001b[0m",
      "\u001b[1;31mFileNotFoundError\u001b[0m                         Traceback (most recent call last)",
      "\u001b[1;32m~\\AppData\\Local\\Temp/ipykernel_10248/2653898125.py\u001b[0m in \u001b[0;36m<module>\u001b[1;34m\u001b[0m\n\u001b[1;32m----> 1\u001b[1;33m \u001b[1;32mwith\u001b[0m \u001b[0mopen\u001b[0m\u001b[1;33m(\u001b[0m\u001b[1;34m'hello.txt'\u001b[0m\u001b[1;33m,\u001b[0m\u001b[1;34m'r'\u001b[0m\u001b[1;33m)\u001b[0m \u001b[1;32mas\u001b[0m \u001b[0mf1\u001b[0m\u001b[1;33m,\u001b[0m\u001b[0mopen\u001b[0m\u001b[1;33m(\u001b[0m\u001b[1;34m'hello2.txt'\u001b[0m\u001b[1;33m,\u001b[0m\u001b[1;34m'w'\u001b[0m\u001b[1;33m)\u001b[0m \u001b[1;32mas\u001b[0m \u001b[0mf2\u001b[0m\u001b[1;33m:\u001b[0m\u001b[1;33m\u001b[0m\u001b[1;33m\u001b[0m\u001b[0m\n\u001b[0m\u001b[0;32m      2\u001b[0m     \u001b[1;31m#read content from first file\u001b[0m\u001b[1;33m\u001b[0m\u001b[1;33m\u001b[0m\u001b[0m\n\u001b[0;32m      3\u001b[0m     \u001b[1;32mfor\u001b[0m \u001b[0mline\u001b[0m \u001b[1;32min\u001b[0m \u001b[0mf1\u001b[0m\u001b[1;33m:\u001b[0m\u001b[1;33m\u001b[0m\u001b[1;33m\u001b[0m\u001b[0m\n\u001b[0;32m      4\u001b[0m         \u001b[1;32mif\u001b[0m \u001b[0mline\u001b[0m\u001b[1;33m.\u001b[0m\u001b[0mcontains\u001b[0m\u001b[1;33m(\u001b[0m\u001b[1;34m'nitin'\u001b[0m\u001b[1;33m)\u001b[0m\u001b[1;33m:\u001b[0m\u001b[1;33m\u001b[0m\u001b[1;33m\u001b[0m\u001b[0m\n\u001b[0;32m      5\u001b[0m             \u001b[1;31m#write content to secod file\u001b[0m\u001b[1;33m\u001b[0m\u001b[1;33m\u001b[0m\u001b[0m\n",
      "\u001b[1;31mFileNotFoundError\u001b[0m: [Errno 2] No such file or directory: 'hello.txt'"
     ]
    }
   ],
   "source": [
    "with open('hello.txt','r') as f1,open('hello2.txt','w') as f2:\n",
    "    #read content from first file\n",
    "    for line in f1:\n",
    "        if line.contains('nitin'): \n",
    "            #write content to secod file\n",
    "            f2.write(line)"
   ]
  },
  {
   "cell_type": "code",
   "execution_count": 21,
   "id": "6d3f24b1",
   "metadata": {},
   "outputs": [
    {
     "name": "stdout",
     "output_type": "stream",
     "text": [
      "b\n"
     ]
    }
   ],
   "source": [
    "#WAP TO EXPLAIN MULTIPLE INHERITANCE.\n",
    "\n",
    "class A:\n",
    "    def abc(self):\n",
    "        print(\"a\")\n",
    "class B(A):\n",
    "    def abc(self):\n",
    "        print(\"b\")\n",
    "class C(A):\n",
    "    def abc(self):\n",
    "        print(\"c\")\n",
    "class D(B,C):\n",
    "    pass\n",
    "d=D()\n",
    "d.abc()\n",
    "        "
   ]
  },
  {
   "cell_type": "code",
   "execution_count": 24,
   "id": "2218455e",
   "metadata": {},
   "outputs": [
    {
     "name": "stdout",
     "output_type": "stream",
     "text": [
      "   id Name\n",
      "0  A1  ABC\n",
      "1  A2  DEF\n",
      "2  A3  GHI\n",
      "0  B1  XYZ\n",
      "1  B2  PQR\n",
      "2  B3  MNO\n",
      "   id Name\n",
      "0  A1  ABC\n",
      "1  A2  DEF\n",
      "2  A3  GHI\n",
      "0  B1  XYZ\n",
      "1  B2  PQR\n",
      "2  B3  MNO\n"
     ]
    }
   ],
   "source": [
    "#COMBINE 2 DATAFRAMES IN PYTHON USING PANDAS:\n",
    "\n",
    "import pandas as pd\n",
    "df1=pd.DataFrame({'id':['A1','A2','A3'],\n",
    "                 'Name':['ABC','DEF','GHI']})\n",
    "df2=pd.DataFrame({'id':['B1','B2','B3'],\n",
    "                 'Name':['XYZ','PQR','MNO']})\n",
    "\n",
    "frames=[df1,df2]\n",
    "\n",
    "#using concat\n",
    "result=pd.concat(frames)\n",
    "print(result)\n",
    "\n",
    "#using append method\n",
    "result=df1.append(df2)\n",
    "print(result)"
   ]
  },
  {
   "cell_type": "code",
   "execution_count": 25,
   "id": "12142f75",
   "metadata": {},
   "outputs": [
    {
     "ename": "FileNotFoundError",
     "evalue": "[Errno 2] No such file or directory: 'hello.txt'",
     "output_type": "error",
     "traceback": [
      "\u001b[1;31m---------------------------------------------------------------------------\u001b[0m",
      "\u001b[1;31mFileNotFoundError\u001b[0m                         Traceback (most recent call last)",
      "\u001b[1;32m~\\AppData\\Local\\Temp/ipykernel_5740/743018125.py\u001b[0m in \u001b[0;36m<module>\u001b[1;34m\u001b[0m\n\u001b[0;32m      1\u001b[0m \u001b[1;31m#HOW TO READ FILES IN PYTHON?\u001b[0m\u001b[1;33m\u001b[0m\u001b[1;33m\u001b[0m\u001b[0m\n\u001b[0;32m      2\u001b[0m \u001b[1;33m\u001b[0m\u001b[0m\n\u001b[1;32m----> 3\u001b[1;33m \u001b[1;32mwith\u001b[0m \u001b[0mopen\u001b[0m\u001b[1;33m(\u001b[0m\u001b[1;34m'hello.txt'\u001b[0m\u001b[1;33m)\u001b[0m \u001b[1;32mas\u001b[0m \u001b[0mf\u001b[0m\u001b[1;33m:\u001b[0m\u001b[1;33m\u001b[0m\u001b[1;33m\u001b[0m\u001b[0m\n\u001b[0m\u001b[0;32m      4\u001b[0m     \u001b[0mlines\u001b[0m\u001b[1;33m=\u001b[0m\u001b[0mf\u001b[0m\u001b[1;33m.\u001b[0m\u001b[0mreadlines\u001b[0m\u001b[1;33m(\u001b[0m\u001b[1;33m)\u001b[0m\u001b[1;33m\u001b[0m\u001b[1;33m\u001b[0m\u001b[0m\n",
      "\u001b[1;31mFileNotFoundError\u001b[0m: [Errno 2] No such file or directory: 'hello.txt'"
     ]
    }
   ],
   "source": [
    "#HOW TO READ FILES IN PYTHON?\n",
    "\n",
    "with open('hello.txt') as f:\n",
    "    lines=f.readlines()"
   ]
  },
  {
   "cell_type": "code",
   "execution_count": 27,
   "id": "e95dffb4",
   "metadata": {},
   "outputs": [
    {
     "name": "stdout",
     "output_type": "stream",
     "text": [
      "1\n",
      "2\n",
      "3\n",
      "4\n",
      "5\n",
      "7\n",
      "11\n",
      "13\n",
      "17\n",
      "19\n"
     ]
    }
   ],
   "source": [
    "#WAP FOR PRIME NO:\n",
    "n=20\n",
    "for i in range(1,n):\n",
    "    for j in range(2,i//2):\n",
    "        if i%j==0:\n",
    "            break\n",
    "    else:\n",
    "        print(i)\n",
    "        \n",
    "#problem in this program"
   ]
  },
  {
   "cell_type": "code",
   "execution_count": 28,
   "id": "36253967",
   "metadata": {},
   "outputs": [
    {
     "name": "stdout",
     "output_type": "stream",
     "text": [
      "1\n",
      "2\n",
      "3\n",
      "4\n",
      "5\n",
      "7\n",
      "11\n",
      "13\n",
      "17\n",
      "19\n"
     ]
    }
   ],
   "source": [
    "#WAP FOR PRIME NO by function:\n",
    "\n",
    "def prime(n):\n",
    "    for i in range(1,n):\n",
    "        for j in range(2,i//2):\n",
    "            if i%j==0:\n",
    "                break\n",
    "        else:\n",
    "            print(i)\n",
    "prime(20)"
   ]
  },
  {
   "cell_type": "code",
   "execution_count": 30,
   "id": "87237352",
   "metadata": {},
   "outputs": [
    {
     "name": "stdout",
     "output_type": "stream",
     "text": [
      "1\n",
      "2\n",
      "3\n",
      "4\n",
      "5\n",
      "7\n",
      "11\n",
      "13\n",
      "17\n",
      "19\n",
      "0.000997781753540039\n"
     ]
    }
   ],
   "source": [
    "#TOTAL TIME TAKEN IN WHOLE PROCESS:\n",
    "import time\n",
    "def prime(n):\n",
    "    t1=time.time()\n",
    "    for i in range(1,n):\n",
    "        for j in range(2,i//2):\n",
    "            if i%j==0:\n",
    "                break\n",
    "        else:\n",
    "            print(i)\n",
    "    print(time.time()-t1)      \n",
    "prime(20)\n",
    "    "
   ]
  },
  {
   "cell_type": "code",
   "execution_count": 31,
   "id": "f56cfcf4",
   "metadata": {},
   "outputs": [
    {
     "name": "stdout",
     "output_type": "stream",
     "text": [
      "None\n",
      "None\n",
      "None\n",
      "None\n",
      "None\n",
      "None\n",
      "None\n",
      "None\n",
      "None\n",
      "None\n",
      "0.0010006427764892578\n"
     ]
    }
   ],
   "source": [
    "#CONVERT PRIME NO IN ROMAN FORMAT:\n",
    "\n",
    "import time\n",
    "def roman(i):\n",
    "    pass\n",
    "\n",
    "def prime(n):\n",
    "    t1=time.time()\n",
    "    for i in range(1,n):\n",
    "        for j in range(2,i//2):\n",
    "            if i%j==0:\n",
    "                break\n",
    "        else:\n",
    "            roman_name=roman(i)\n",
    "            print(roman_name)\n",
    "    print(time.time()-t1)      \n",
    "prime(20)"
   ]
  },
  {
   "cell_type": "code",
   "execution_count": 33,
   "id": "47d7f8f1",
   "metadata": {},
   "outputs": [
    {
     "name": "stdout",
     "output_type": "stream",
     "text": [
      "101\n",
      "103\n",
      "107\n",
      "109\n",
      "113\n",
      "127\n",
      "131\n",
      "137\n",
      "139\n",
      "149\n",
      "151\n",
      "157\n",
      "163\n",
      "167\n",
      "173\n",
      "179\n",
      "181\n",
      "191\n",
      "193\n",
      "197\n",
      "199\n",
      "0.0010001659393310547\n"
     ]
    }
   ],
   "source": [
    "# define logic by having a range:\n",
    "\n",
    "#CONVERT PRIME NO IN ROMAN FORMAT:\n",
    "\n",
    "import time\n",
    "def roman(i):\n",
    "    pass\n",
    "\n",
    "def prime(start,end):\n",
    "    t1=time.time()\n",
    "    for i in range(start,end):\n",
    "        for j in range(2,i//2):\n",
    "            if i%j==0:\n",
    "                break\n",
    "        else:\n",
    "#             roman_name=roman(i)\n",
    "#             print(roman_name)\n",
    "            print(i)\n",
    "    print(time.time()-t1)      \n",
    "prime(100,200)"
   ]
  },
  {
   "cell_type": "code",
   "execution_count": 1,
   "id": "fd5ab080",
   "metadata": {},
   "outputs": [
    {
     "name": "stdout",
     "output_type": "stream",
     "text": [
      "{'p': 4, 'q': 2, 'a': 3}\n",
      "{'p': 1, 'q': 2}\n"
     ]
    }
   ],
   "source": [
    "def my_func(*args,**kwargs):\n",
    "    c=kwargs.get('my_dictionary')\n",
    "    c={k:v for k,v in c.items()}\n",
    "    c['a']=3\n",
    "    c['p']=4\n",
    "    print(c)\n",
    "    \n",
    "def my_func_2():\n",
    "    c={'p':1,'q':2}\n",
    "    my_func(my_dictionary=c)\n",
    "    print(c)\n",
    "    \n",
    "my_func_2()"
   ]
  },
  {
   "cell_type": "code",
   "execution_count": null,
   "id": "ffe95c63",
   "metadata": {},
   "outputs": [],
   "source": []
  }
 ],
 "metadata": {
  "kernelspec": {
   "display_name": "Python 3 (ipykernel)",
   "language": "python",
   "name": "python3"
  },
  "language_info": {
   "codemirror_mode": {
    "name": "ipython",
    "version": 3
   },
   "file_extension": ".py",
   "mimetype": "text/x-python",
   "name": "python",
   "nbconvert_exporter": "python",
   "pygments_lexer": "ipython3",
   "version": "3.9.7"
  }
 },
 "nbformat": 4,
 "nbformat_minor": 5
}
