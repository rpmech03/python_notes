{
 "cells": [
  {
   "cell_type": "code",
   "execution_count": null,
   "id": "836dbcbb",
   "metadata": {},
   "outputs": [],
   "source": [
    "ljust: left side se justify krna h ."
   ]
  },
  {
   "cell_type": "code",
   "execution_count": null,
   "id": "5a6bea02",
   "metadata": {},
   "outputs": [],
   "source": [
    "lstrip :left side se space hta dega."
   ]
  },
  {
   "cell_type": "code",
   "execution_count": 6,
   "id": "3df623b8",
   "metadata": {},
   "outputs": [
    {
     "name": "stdout",
     "output_type": "stream",
     "text": [
      "hello*******\n"
     ]
    }
   ],
   "source": [
    "s=\"hello\"               #Return a left-justified string of length width.\n",
    "s=s.ljust(12,'*')\n",
    "print(s)"
   ]
  },
  {
   "cell_type": "code",
   "execution_count": 1,
   "id": "4f2c43ce",
   "metadata": {},
   "outputs": [
    {
     "name": "stdout",
     "output_type": "stream",
     "text": [
      "*******hello\n"
     ]
    }
   ],
   "source": [
    "s=\"hello\"\n",
    "s=s.rjust(12,'*')\n",
    "print(s)"
   ]
  },
  {
   "cell_type": "code",
   "execution_count": 3,
   "id": "ae6da603",
   "metadata": {},
   "outputs": [
    {
     "name": "stdout",
     "output_type": "stream",
     "text": [
      "hello\n"
     ]
    }
   ],
   "source": [
    "s=\"hello\"\n",
    "s=s.lower()\n",
    "print(s)"
   ]
  },
  {
   "cell_type": "code",
   "execution_count": 5,
   "id": "e66a74c7",
   "metadata": {},
   "outputs": [
    {
     "name": "stdout",
     "output_type": "stream",
     "text": [
      "hello    \n"
     ]
    }
   ],
   "source": [
    "s=\"    hello    \"\n",
    "s=s.lstrip()\n",
    "print(s)"
   ]
  },
  {
   "cell_type": "code",
   "execution_count": 4,
   "id": "adced544",
   "metadata": {},
   "outputs": [
    {
     "name": "stdout",
     "output_type": "stream",
     "text": [
      "     hello\n"
     ]
    }
   ],
   "source": [
    "s=\"     hello     \"\n",
    "s=s.rstrip()\n",
    "print(s)"
   ]
  },
  {
   "cell_type": "code",
   "execution_count": 6,
   "id": "94f49c66",
   "metadata": {},
   "outputs": [
    {
     "name": "stdout",
     "output_type": "stream",
     "text": [
      "hello\n"
     ]
    }
   ],
   "source": [
    "s=\"     hello     \"\n",
    "s=s.strip()\n",
    "print(s)"
   ]
  },
  {
   "cell_type": "code",
   "execution_count": 2,
   "id": "b268d5cc",
   "metadata": {},
   "outputs": [],
   "source": [
    "str.maketrans?"
   ]
  },
  {
   "cell_type": "code",
   "execution_count": 8,
   "id": "00317e78",
   "metadata": {},
   "outputs": [
    {
     "name": "stdout",
     "output_type": "stream",
     "text": [
      "('We ', 'are', ' learning python')\n"
     ]
    }
   ],
   "source": [
    "s2=\"We are learning python\"\n",
    "s2=s2.partition(\"are\")\n",
    "print(s2)\n",
    "\n",
    "# To divide a string in 3 parts and return as a tuple."
   ]
  },
  {
   "cell_type": "code",
   "execution_count": 9,
   "id": "1e7c1b6a",
   "metadata": {},
   "outputs": [
    {
     "name": "stdout",
     "output_type": "stream",
     "text": [
      "('We ', 'are', ' learning are python')\n"
     ]
    }
   ],
   "source": [
    "s2=\"We are learning are python\"\n",
    "s2=s2.partition(\"are\")\n",
    "print(s2)"
   ]
  },
  {
   "cell_type": "code",
   "execution_count": 10,
   "id": "ef45bf61",
   "metadata": {},
   "outputs": [
    {
     "name": "stdout",
     "output_type": "stream",
     "text": [
      "('We are learning ', 'are', ' python')\n"
     ]
    }
   ],
   "source": [
    "s2=\"We are learning are python\"\n",
    "s2=s2.rpartition(\"are\")\n",
    "print(s2)"
   ]
  },
  {
   "cell_type": "code",
   "execution_count": 12,
   "id": "86e1ce2b",
   "metadata": {},
   "outputs": [
    {
     "name": "stdout",
     "output_type": "stream",
     "text": [
      "yeLlo\n"
     ]
    }
   ],
   "source": [
    "s=\"heLlo\"\n",
    "s=s.replace(\"he\",\"ye\")\n",
    "print(s)\n",
    "\n",
    "# To replace some content of string with another content."
   ]
  },
  {
   "cell_type": "code",
   "execution_count": 3,
   "id": "2f90716a",
   "metadata": {},
   "outputs": [
    {
     "name": "stdout",
     "output_type": "stream",
     "text": [
      "baka bacha maba bahi hai awaba\n"
     ]
    }
   ],
   "source": [
    "s=\"raka racha mara rahi hai awara\"\n",
    "s=s.replace(\"ra\",\"ba\")\n",
    "print(s)"
   ]
  },
  {
   "cell_type": "code",
   "execution_count": 12,
   "id": "371bbfda",
   "metadata": {},
   "outputs": [
    {
     "name": "stdout",
     "output_type": "stream",
     "text": [
      "['We are learning are python']\n"
     ]
    }
   ],
   "source": [
    "s2=\"We are learning are python\"\n",
    "s2=s2.split(\" \")\n",
    "print(s2)\n",
    "\n",
    "# To split a string according to a substring and return list of substring."
   ]
  },
  {
   "cell_type": "code",
   "execution_count": 11,
   "id": "5e913631",
   "metadata": {},
   "outputs": [
    {
     "name": "stdout",
     "output_type": "stream",
     "text": [
      "['chaman raka bhopal ja rha hai']\n"
     ]
    }
   ],
   "source": [
    "s=\"chaman raka bhopal ja rha hai\"\n",
    "s=s.split(\",\")\n",
    "print(s)"
   ]
  },
  {
   "cell_type": "code",
   "execution_count": 10,
   "id": "f5a8c6fb",
   "metadata": {},
   "outputs": [
    {
     "name": "stdout",
     "output_type": "stream",
     "text": [
      "['We are learning are python']\n"
     ]
    }
   ],
   "source": [
    "s2=\"We are learning are python\"\n",
    "s2=s2.splitlines()\n",
    "print(s2)"
   ]
  },
  {
   "cell_type": "code",
   "execution_count": 22,
   "id": "045d5483",
   "metadata": {},
   "outputs": [
    {
     "name": "stdout",
     "output_type": "stream",
     "text": [
      "HElLO\n"
     ]
    }
   ],
   "source": [
    "s=\"heLlo\"\n",
    "s=s.swapcase()\n",
    "print(s)"
   ]
  },
  {
   "cell_type": "code",
   "execution_count": 23,
   "id": "e8eeecc0",
   "metadata": {},
   "outputs": [
    {
     "name": "stdout",
     "output_type": "stream",
     "text": [
      "Hello\n"
     ]
    }
   ],
   "source": [
    "s=\"heLlo\"\n",
    "s=s.swapcase().capitalize()\n",
    "print(s)"
   ]
  },
  {
   "cell_type": "code",
   "execution_count": 25,
   "id": "9c90d3fd",
   "metadata": {},
   "outputs": [
    {
     "name": "stdout",
     "output_type": "stream",
     "text": [
      "Hello\n"
     ]
    }
   ],
   "source": [
    "s=\"HELLO\"\n",
    "s=s.capitalize()\n",
    "print(s)"
   ]
  },
  {
   "cell_type": "code",
   "execution_count": 26,
   "id": "51988126",
   "metadata": {},
   "outputs": [
    {
     "name": "stdout",
     "output_type": "stream",
     "text": [
      "We Are Learning Are Python\n"
     ]
    }
   ],
   "source": [
    "s2=\"We are learning are python\"\n",
    "s2=s2.title()\n",
    "print(s2)                  #sentence ke each letter ko capital kr deta h."
   ]
  },
  {
   "cell_type": "code",
   "execution_count": 28,
   "id": "0a927647",
   "metadata": {},
   "outputs": [
    {
     "name": "stdout",
     "output_type": "stream",
     "text": [
      "00hello\n"
     ]
    }
   ],
   "source": [
    "s=\"hello\"\n",
    "s=s.zfill(7)\n",
    "print(s)          #argument m jitni b value di h like yha 7 h so string m to phle se he 5 h to 2 zero or add kr dega"
   ]
  },
  {
   "cell_type": "code",
   "execution_count": 29,
   "id": "f3a12e1f",
   "metadata": {},
   "outputs": [
    {
     "name": "stdout",
     "output_type": "stream",
     "text": [
      "hello ajay\n"
     ]
    }
   ],
   "source": [
    "s=\"hello {name}\"\n",
    "s=s.format(name=\"ajay\")\n",
    "print(s)"
   ]
  },
  {
   "cell_type": "code",
   "execution_count": 32,
   "id": "a4de3e49",
   "metadata": {},
   "outputs": [
    {
     "name": "stdout",
     "output_type": "stream",
     "text": [
      "hi how are you Raka and how's your Yojna \n"
     ]
    }
   ],
   "source": [
    "s=\"hi how are you {name} and how's your {ex} \"\n",
    "s=s.format(name=\"Raka\",ex=\"Yojna\")\n",
    "print(s)"
   ]
  },
  {
   "cell_type": "code",
   "execution_count": 36,
   "id": "15dd7f27",
   "metadata": {},
   "outputs": [
    {
     "name": "stdout",
     "output_type": "stream",
     "text": [
      "Tezzo\n"
     ]
    }
   ],
   "source": [
    "s=\"hello\"\n",
    "t=s.maketrans(\"hl\",\"Tz\")\n",
    "s=s.translate(t)\n",
    "print(s)"
   ]
  },
  {
   "cell_type": "code",
   "execution_count": 43,
   "id": "56c8e804",
   "metadata": {},
   "outputs": [
    {
     "name": "stdout",
     "output_type": "stream",
     "text": [
      "hhd thku hos ath dou and shat ath do u doing hhth\n"
     ]
    }
   ],
   "source": [
    "s=\"hey reku how are you and what are yo u doing here\"\n",
    "t=s.maketrans(\"rewy\",\"thsd\")\n",
    "s=s.translate(t)\n",
    "print(s)"
   ]
  },
  {
   "cell_type": "code",
   "execution_count": null,
   "id": "b3ae9103",
   "metadata": {},
   "outputs": [],
   "source": []
  },
  {
   "cell_type": "code",
   "execution_count": null,
   "id": "03836a13",
   "metadata": {},
   "outputs": [],
   "source": []
  },
  {
   "cell_type": "code",
   "execution_count": null,
   "id": "83f4bb59",
   "metadata": {},
   "outputs": [],
   "source": []
  }
 ],
 "metadata": {
  "kernelspec": {
   "display_name": "Python 3 (ipykernel)",
   "language": "python",
   "name": "python3"
  },
  "language_info": {
   "codemirror_mode": {
    "name": "ipython",
    "version": 3
   },
   "file_extension": ".py",
   "mimetype": "text/x-python",
   "name": "python",
   "nbconvert_exporter": "python",
   "pygments_lexer": "ipython3",
   "version": "3.9.7"
  }
 },
 "nbformat": 4,
 "nbformat_minor": 5
}
