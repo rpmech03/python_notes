{
 "cells": [
  {
   "cell_type": "markdown",
   "id": "9075677c",
   "metadata": {},
   "source": [
    "# Python Compilation process by command prompt : \n",
    "\n",
    "As we know when we will compile our python program then we will get .pyc file(bite code) and we can execute or run this bite \n",
    "\n",
    "code or .pyc file by using python virtual machine or interpreter-\n",
    "\n",
    "1_ Go to cmd\n",
    "2_md abcd (abcd is a file)\n",
    "3_cd abcd  (entering into abcd file) \n",
    "4_notepad first.py(write here whatever you want but we wrote here print(\"hello\")\n",
    "5_python\n",
    "6_ import py_compile\n",
    "7_ py_compile.compile('first.py')\n",
    "8_ exit()\n",
    "9_ cd __pycache__\n",
    "10_python first.cpython-37.pyc"
   ]
  },
  {
   "cell_type": "markdown",
   "id": "935bafd9",
   "metadata": {},
   "source": [
    "# System defined modules :\n",
    "    \n",
    "System defined modules are .py files that contains n no of functions through which we can perform some imp operation in our \n",
    "\n",
    "python program,some commonly used predefined modules are-\n",
    "\n",
    "os,sys,calender,date,time,math [MODTCS] etc."
   ]
  },
  {
   "cell_type": "markdown",
   "id": "f027aa09",
   "metadata": {},
   "source": [
    "# SYS MODULE :"
   ]
  },
  {
   "cell_type": "markdown",
   "id": "2d5c317a",
   "metadata": {},
   "source": [
    "# Command line arguments:\n",
    "    \n",
    "CLA is technique through which we can take input from user at run time by cmd prompt.We will use argv method of sys module to \n",
    "achieve command line argument in python.It will always return a list and list contains program name as first argument."
   ]
  },
  {
   "cell_type": "code",
   "execution_count": 2,
   "id": "47315a0e",
   "metadata": {},
   "outputs": [],
   "source": [
    "import sys"
   ]
  },
  {
   "cell_type": "code",
   "execution_count": 3,
   "id": "016b999f",
   "metadata": {},
   "outputs": [
    {
     "name": "stdout",
     "output_type": "stream",
     "text": [
      "3.9.7 (default, Sep 16 2021, 16:59:28) [MSC v.1916 64 bit (AMD64)]\n"
     ]
    }
   ],
   "source": [
    "print(sys.version)"
   ]
  },
  {
   "cell_type": "code",
   "execution_count": 4,
   "id": "2becf2be",
   "metadata": {},
   "outputs": [
    {
     "name": "stdout",
     "output_type": "stream",
     "text": [
      "['C:\\\\Users\\\\HZT\\\\Tanveer Sir', 'C:\\\\Users\\\\HZT\\\\anaconda3\\\\python39.zip', 'C:\\\\Users\\\\HZT\\\\anaconda3\\\\DLLs', 'C:\\\\Users\\\\HZT\\\\anaconda3\\\\lib', 'C:\\\\Users\\\\HZT\\\\anaconda3', '', 'C:\\\\Users\\\\HZT\\\\anaconda3\\\\lib\\\\site-packages', 'C:\\\\Users\\\\HZT\\\\anaconda3\\\\lib\\\\site-packages\\\\locket-0.2.1-py3.9.egg', 'C:\\\\Users\\\\HZT\\\\anaconda3\\\\lib\\\\site-packages\\\\win32', 'C:\\\\Users\\\\HZT\\\\anaconda3\\\\lib\\\\site-packages\\\\win32\\\\lib', 'C:\\\\Users\\\\HZT\\\\anaconda3\\\\lib\\\\site-packages\\\\Pythonwin', 'C:\\\\Users\\\\HZT\\\\anaconda3\\\\lib\\\\site-packages\\\\IPython\\\\extensions', 'C:\\\\Users\\\\HZT\\\\.ipython']\n"
     ]
    }
   ],
   "source": [
    "print(sys.path)   #path nam ke variable m jitne b path set h wo sare path yha show ho jayege."
   ]
  },
  {
   "cell_type": "code",
   "execution_count": 5,
   "id": "35c280ea",
   "metadata": {},
   "outputs": [
    {
     "name": "stdout",
     "output_type": "stream",
     "text": [
      "C:\\Users\\HZT\\anaconda3\\python.exe\n"
     ]
    }
   ],
   "source": [
    "print(sys.executable)    #python kha se execute ho rha h,we can find out."
   ]
  },
  {
   "cell_type": "code",
   "execution_count": 7,
   "id": "49e615e3",
   "metadata": {},
   "outputs": [
    {
     "name": "stdout",
     "output_type": "stream",
     "text": [
      "win32\n"
     ]
    }
   ],
   "source": [
    "print(sys.platform)   #which version installed in your system."
   ]
  },
  {
   "cell_type": "code",
   "execution_count": 8,
   "id": "a2d61a3d",
   "metadata": {},
   "outputs": [
    {
     "name": "stdout",
     "output_type": "stream",
     "text": [
      "9223372036854775807\n"
     ]
    }
   ],
   "source": [
    "print(sys.maxsize)   #koi b variable kitna data hold kr skta h n ye digits h."
   ]
  },
  {
   "cell_type": "code",
   "execution_count": 9,
   "id": "5a80288d",
   "metadata": {},
   "outputs": [
    {
     "name": "stdout",
     "output_type": "stream",
     "text": [
      "<built-in function exit>\n"
     ]
    }
   ],
   "source": [
    "print(sys.exit)  #current interpreter se exit kr dega. "
   ]
  },
  {
   "cell_type": "code",
   "execution_count": 10,
   "id": "0b32f383",
   "metadata": {},
   "outputs": [
    {
     "ename": "SystemExit",
     "evalue": "",
     "output_type": "error",
     "traceback": [
      "An exception has occurred, use %tb to see the full traceback.\n",
      "\u001b[1;31mSystemExit\u001b[0m\n"
     ]
    },
    {
     "name": "stderr",
     "output_type": "stream",
     "text": [
      "C:\\Users\\HZT\\anaconda3\\lib\\site-packages\\IPython\\core\\interactiveshell.py:3452: UserWarning: To exit: use 'exit', 'quit', or Ctrl-D.\n",
      "  warn(\"To exit: use 'exit', 'quit', or Ctrl-D.\", stacklevel=1)\n"
     ]
    }
   ],
   "source": [
    "sys.exit()#isme error islye de rha h cz isme hmne kch argument pass nh kiya h ,thats y interpreter m hm only exit() use krte h. "
   ]
  },
  {
   "cell_type": "markdown",
   "id": "a41bf2a8",
   "metadata": {},
   "source": [
    "# OS MODULE :"
   ]
  },
  {
   "cell_type": "code",
   "execution_count": 1,
   "id": "b1c170c1",
   "metadata": {},
   "outputs": [],
   "source": [
    "import os"
   ]
  },
  {
   "cell_type": "code",
   "execution_count": 2,
   "id": "bcea8e9b",
   "metadata": {},
   "outputs": [
    {
     "name": "stdout",
     "output_type": "stream",
     "text": [
      "C:\\Users\\HZT\\Tanveer Sir\n"
     ]
    }
   ],
   "source": [
    "print(os.getcwd()) #ye return krta h hm abhi currently kha work kr rhe h.\n",
    "                    # cwd= current working directory"
   ]
  },
  {
   "cell_type": "code",
   "execution_count": 6,
   "id": "a00876a2",
   "metadata": {},
   "outputs": [
    {
     "ename": "FileNotFoundError",
     "evalue": "[WinError 2] The system cannot find the file specified: 'C:\\\\aa'",
     "output_type": "error",
     "traceback": [
      "\u001b[1;31m---------------------------------------------------------------------------\u001b[0m",
      "\u001b[1;31mFileNotFoundError\u001b[0m                         Traceback (most recent call last)",
      "\u001b[1;32m~\\AppData\\Local\\Temp/ipykernel_11404/1118997740.py\u001b[0m in \u001b[0;36m<module>\u001b[1;34m\u001b[0m\n\u001b[1;32m----> 1\u001b[1;33m \u001b[0mprint\u001b[0m\u001b[1;33m(\u001b[0m\u001b[0mos\u001b[0m\u001b[1;33m.\u001b[0m\u001b[0mchdir\u001b[0m\u001b[1;33m(\u001b[0m\u001b[1;34m\"C:\\\\aa\"\u001b[0m\u001b[1;33m)\u001b[0m\u001b[1;33m)\u001b[0m     \u001b[1;31m#hm current folder ki location ko change kr skte h.\u001b[0m\u001b[1;33m\u001b[0m\u001b[1;33m\u001b[0m\u001b[0m\n\u001b[0m\u001b[0;32m      2\u001b[0m \u001b[1;31m# print(os.getcwd())\u001b[0m\u001b[1;33m\u001b[0m\u001b[1;33m\u001b[0m\u001b[0m\n",
      "\u001b[1;31mFileNotFoundError\u001b[0m: [WinError 2] The system cannot find the file specified: 'C:\\\\aa'"
     ]
    }
   ],
   "source": [
    "os.chdir(\"C:\\\\aa\")    #hm current folder ki location ko change kr skte h.\n",
    "# print(os.getcwd())"
   ]
  },
  {
   "cell_type": "code",
   "execution_count": 5,
   "id": "152fb823",
   "metadata": {},
   "outputs": [
    {
     "name": "stdout",
     "output_type": "stream",
     "text": [
      "['.ipynb_checkpoints', '10_PY_WHILE LOOP_FOR EACH LOOP.ipynb', '11_PY_NESTED LOOP.ipynb', '12_PY_FUNCTION.ipynb', '13_Python_Notes..ipynb', '13_PY_TEST.ipynb', '14_PY_LIST_OPERATIONS_PY COLLECTIONS.ipynb', '15_Python_List_Programs_Sum_Size_Counting_Smallest_Biggest_Even_odd_Repeated_Factorial.ipynb', '16_Py_Nested_List_Counting of integer, float, string_Printing In Matrix Pattern_Sum of the Nested list and Normal element_Tuple_Begining.ipynb', '17_Py_Set_Operations_Con List to Tuple.ipynb', '18_py_sum of list tuple int_zip function_list comprehension.ipynb', '19_py_Dictionary_Definition_Operations.ipynb', '1_JS_TS.ipynb', '1_Python_Calculator_Type.ipynb', '20_PY_DICT METHODS.ipynb', '21_py_nested_dictionary_pass_keyword_dict ques.ipynb', '22_py_dict.ipynb', '23_py_test.ipynb', '24_py_del_keyword_nested list comprehension_modules.ipynb', '25&26&27_py_py compilation process by cmd_SYS_OS_CALENDAR_MODULES.ipynb', '28_py_math_datetime_modules_booking program.ipynb', '29_PY_PIP_STRING METHODS_01.ipynb', '2_JS.ipynb', '2_Python_Swapping.ipynb', '30_PY_STRING_02.ipynb', '31_PY_STRING_03.ipynb', '32_PY_STRING_SLICING_EXCEPTION HANDLING_BIGGEST  CHARACTER_STRING PALINDROME OR NOT_04.ipynb', '33n34n35_PY_STRING_BLOCKS FOR EXCEPTION HANDLING_05.ipynb', '36n37_PY_FILE HANDLING_01.ipynb', '38_PY_TEST.ipynb', '3n4_JS.ipynb', '3_Python_have to complete some content.ipynb', '4_PY_IS_IS NOT_TRUE_FALSE_IN_IN NOT.ipynb', '5_PY_USERID_EVEN_ODD_SALARY_BONUS.ipynb', '6_APY_INHERITANCE.ipynb', '6_PY_RANDOM_LOOP.ipynb', '7_PY_RANGE WITH 2 ARGUMENTS_TABLE_SUM OF ITERATION.ipynb', '8_Python_Break_Keyword_Sum of even n odd_Factorial.ipynb', '9_PY_CONTINUE KEYWORD_FIBONACCI_PRIME.ipynb', 'ADVANCE PYTHON', 'practise.ipynb', 'Untitled.ipynb']\n"
     ]
    }
   ],
   "source": [
    "print(os.listdir())   #current folder m kitni file h pta kr skte h."
   ]
  },
  {
   "cell_type": "code",
   "execution_count": 9,
   "id": "8d64e82f",
   "metadata": {},
   "outputs": [],
   "source": [
    "os.mkdir(\"C:\\\\abc\")   #hm khi pr b system m folder create kr skte h."
   ]
  },
  {
   "cell_type": "code",
   "execution_count": 32,
   "id": "4e3a8cf5",
   "metadata": {},
   "outputs": [
    {
     "ename": "FileNotFoundError",
     "evalue": "[WinError 2] The system cannot find the file specified: 'C:\\\\ab\\\\temp.txt'",
     "output_type": "error",
     "traceback": [
      "\u001b[1;31m---------------------------------------------------------------------------\u001b[0m",
      "\u001b[1;31mFileNotFoundError\u001b[0m                         Traceback (most recent call last)",
      "\u001b[1;32m~\\AppData\\Local\\Temp/ipykernel_2340/213780894.py\u001b[0m in \u001b[0;36m<module>\u001b[1;34m\u001b[0m\n\u001b[1;32m----> 1\u001b[1;33m \u001b[0mos\u001b[0m\u001b[1;33m.\u001b[0m\u001b[0mremove\u001b[0m\u001b[1;33m(\u001b[0m\u001b[1;34m\"C:\\\\ab\\\\temp.txt\"\u001b[0m\u001b[1;33m)\u001b[0m      \u001b[1;31m#remove krta h kisi b perticular file ko.\u001b[0m\u001b[1;33m\u001b[0m\u001b[1;33m\u001b[0m\u001b[0m\n\u001b[0m",
      "\u001b[1;31mFileNotFoundError\u001b[0m: [WinError 2] The system cannot find the file specified: 'C:\\\\ab\\\\temp.txt'"
     ]
    }
   ],
   "source": [
    "os.remove(\"C:\\\\ab\\\\temp.txt\")      #remove krta h kisi b perticular file ko."
   ]
  },
  {
   "cell_type": "code",
   "execution_count": 34,
   "id": "2e1b0ca9",
   "metadata": {},
   "outputs": [],
   "source": [
    "os.rename(\"C:\\\\ab\",\"C:\\\\abd\")"
   ]
  },
  {
   "cell_type": "code",
   "execution_count": 36,
   "id": "810ec797",
   "metadata": {},
   "outputs": [
    {
     "ename": "OSError",
     "evalue": "[WinError 145] The directory is not empty: 'C:\\\\abd'",
     "output_type": "error",
     "traceback": [
      "\u001b[1;31m---------------------------------------------------------------------------\u001b[0m",
      "\u001b[1;31mOSError\u001b[0m                                   Traceback (most recent call last)",
      "\u001b[1;32m~\\AppData\\Local\\Temp/ipykernel_2340/938055100.py\u001b[0m in \u001b[0;36m<module>\u001b[1;34m\u001b[0m\n\u001b[1;32m----> 1\u001b[1;33m \u001b[0mos\u001b[0m\u001b[1;33m.\u001b[0m\u001b[0mrmdir\u001b[0m\u001b[1;33m(\u001b[0m\u001b[1;34m\"C:\\\\abd\"\u001b[0m\u001b[1;33m)\u001b[0m   \u001b[1;31m#remove directory = rmdir,\u001b[0m\u001b[1;33m\u001b[0m\u001b[1;33m\u001b[0m\u001b[0m\n\u001b[0m",
      "\u001b[1;31mOSError\u001b[0m: [WinError 145] The directory is not empty: 'C:\\\\abd'"
     ]
    }
   ],
   "source": [
    "os.rmdir(\"C:\\\\abd\")   #remove directory = rmdir,"
   ]
  },
  {
   "cell_type": "markdown",
   "id": "cb64e34b",
   "metadata": {},
   "source": [
    "# CALENDAR MODULE :"
   ]
  },
  {
   "cell_type": "code",
   "execution_count": 37,
   "id": "ab7f9e4f",
   "metadata": {},
   "outputs": [],
   "source": [
    "import calendar"
   ]
  },
  {
   "cell_type": "code",
   "execution_count": 38,
   "id": "9e566d6b",
   "metadata": {},
   "outputs": [
    {
     "name": "stdout",
     "output_type": "stream",
     "text": [
      "   February 2022\n",
      "Mo Tu We Th Fr Sa Su\n",
      "    1  2  3  4  5  6\n",
      " 7  8  9 10 11 12 13\n",
      "14 15 16 17 18 19 20\n",
      "21 22 23 24 25 26 27\n",
      "28\n",
      "\n"
     ]
    }
   ],
   "source": [
    "s=calendar.month(2022,2)\n",
    "print(s)"
   ]
  },
  {
   "cell_type": "code",
   "execution_count": 39,
   "id": "5db1c035",
   "metadata": {},
   "outputs": [
    {
     "name": "stdout",
     "output_type": "stream",
     "text": [
      "                                  2022\n",
      "\n",
      "      January                   February                   March\n",
      "Mo Tu We Th Fr Sa Su      Mo Tu We Th Fr Sa Su      Mo Tu We Th Fr Sa Su\n",
      "                1  2          1  2  3  4  5  6          1  2  3  4  5  6\n",
      " 3  4  5  6  7  8  9       7  8  9 10 11 12 13       7  8  9 10 11 12 13\n",
      "10 11 12 13 14 15 16      14 15 16 17 18 19 20      14 15 16 17 18 19 20\n",
      "17 18 19 20 21 22 23      21 22 23 24 25 26 27      21 22 23 24 25 26 27\n",
      "24 25 26 27 28 29 30      28                        28 29 30 31\n",
      "31\n",
      "\n",
      "       April                      May                       June\n",
      "Mo Tu We Th Fr Sa Su      Mo Tu We Th Fr Sa Su      Mo Tu We Th Fr Sa Su\n",
      "             1  2  3                         1             1  2  3  4  5\n",
      " 4  5  6  7  8  9 10       2  3  4  5  6  7  8       6  7  8  9 10 11 12\n",
      "11 12 13 14 15 16 17       9 10 11 12 13 14 15      13 14 15 16 17 18 19\n",
      "18 19 20 21 22 23 24      16 17 18 19 20 21 22      20 21 22 23 24 25 26\n",
      "25 26 27 28 29 30         23 24 25 26 27 28 29      27 28 29 30\n",
      "                          30 31\n",
      "\n",
      "        July                     August                  September\n",
      "Mo Tu We Th Fr Sa Su      Mo Tu We Th Fr Sa Su      Mo Tu We Th Fr Sa Su\n",
      "             1  2  3       1  2  3  4  5  6  7                1  2  3  4\n",
      " 4  5  6  7  8  9 10       8  9 10 11 12 13 14       5  6  7  8  9 10 11\n",
      "11 12 13 14 15 16 17      15 16 17 18 19 20 21      12 13 14 15 16 17 18\n",
      "18 19 20 21 22 23 24      22 23 24 25 26 27 28      19 20 21 22 23 24 25\n",
      "25 26 27 28 29 30 31      29 30 31                  26 27 28 29 30\n",
      "\n",
      "      October                   November                  December\n",
      "Mo Tu We Th Fr Sa Su      Mo Tu We Th Fr Sa Su      Mo Tu We Th Fr Sa Su\n",
      "                1  2          1  2  3  4  5  6                1  2  3  4\n",
      " 3  4  5  6  7  8  9       7  8  9 10 11 12 13       5  6  7  8  9 10 11\n",
      "10 11 12 13 14 15 16      14 15 16 17 18 19 20      12 13 14 15 16 17 18\n",
      "17 18 19 20 21 22 23      21 22 23 24 25 26 27      19 20 21 22 23 24 25\n",
      "24 25 26 27 28 29 30      28 29 30                  26 27 28 29 30 31\n",
      "31\n",
      "\n"
     ]
    }
   ],
   "source": [
    "s=calendar.calendar(2022)\n",
    "print(s)"
   ]
  },
  {
   "cell_type": "markdown",
   "id": "68843744",
   "metadata": {},
   "source": [
    "# Math Module :\n",
    "\n",
    "math module is mainly use to perform mathematical operations in python we can easily call factorial,square root and all \n",
    "trignometric operations in python. "
   ]
  },
  {
   "cell_type": "code",
   "execution_count": 6,
   "id": "11b20842",
   "metadata": {},
   "outputs": [],
   "source": [
    "import math"
   ]
  },
  {
   "cell_type": "code",
   "execution_count": 7,
   "id": "fcba00f3",
   "metadata": {},
   "outputs": [
    {
     "data": {
      "text/plain": [
       "['__doc__',\n",
       " '__loader__',\n",
       " '__name__',\n",
       " '__package__',\n",
       " '__spec__',\n",
       " 'acos',\n",
       " 'acosh',\n",
       " 'asin',\n",
       " 'asinh',\n",
       " 'atan',\n",
       " 'atan2',\n",
       " 'atanh',\n",
       " 'ceil',\n",
       " 'comb',\n",
       " 'copysign',\n",
       " 'cos',\n",
       " 'cosh',\n",
       " 'degrees',\n",
       " 'dist',\n",
       " 'e',\n",
       " 'erf',\n",
       " 'erfc',\n",
       " 'exp',\n",
       " 'expm1',\n",
       " 'fabs',\n",
       " 'factorial',\n",
       " 'floor',\n",
       " 'fmod',\n",
       " 'frexp',\n",
       " 'fsum',\n",
       " 'gamma',\n",
       " 'gcd',\n",
       " 'hypot',\n",
       " 'inf',\n",
       " 'isclose',\n",
       " 'isfinite',\n",
       " 'isinf',\n",
       " 'isnan',\n",
       " 'isqrt',\n",
       " 'lcm',\n",
       " 'ldexp',\n",
       " 'lgamma',\n",
       " 'log',\n",
       " 'log10',\n",
       " 'log1p',\n",
       " 'log2',\n",
       " 'modf',\n",
       " 'nan',\n",
       " 'nextafter',\n",
       " 'perm',\n",
       " 'pi',\n",
       " 'pow',\n",
       " 'prod',\n",
       " 'radians',\n",
       " 'remainder',\n",
       " 'sin',\n",
       " 'sinh',\n",
       " 'sqrt',\n",
       " 'tan',\n",
       " 'tanh',\n",
       " 'tau',\n",
       " 'trunc',\n",
       " 'ulp']"
      ]
     },
     "execution_count": 7,
     "metadata": {},
     "output_type": "execute_result"
    }
   ],
   "source": [
    "dir(math)"
   ]
  },
  {
   "cell_type": "code",
   "execution_count": null,
   "id": "a69b9b44",
   "metadata": {},
   "outputs": [],
   "source": []
  }
 ],
 "metadata": {
  "kernelspec": {
   "display_name": "Python 3 (ipykernel)",
   "language": "python",
   "name": "python3"
  },
  "language_info": {
   "codemirror_mode": {
    "name": "ipython",
    "version": 3
   },
   "file_extension": ".py",
   "mimetype": "text/x-python",
   "name": "python",
   "nbconvert_exporter": "python",
   "pygments_lexer": "ipython3",
   "version": "3.9.7"
  }
 },
 "nbformat": 4,
 "nbformat_minor": 5
}
