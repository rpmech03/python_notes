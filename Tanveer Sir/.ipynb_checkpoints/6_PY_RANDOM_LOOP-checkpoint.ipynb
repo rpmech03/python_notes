{
 "cells": [
  {
   "cell_type": "code",
   "execution_count": 1,
   "id": "19d87ca5",
   "metadata": {},
   "outputs": [
    {
     "name": "stdout",
     "output_type": "stream",
     "text": [
      "enter first number :10\n",
      "enter your choice :+\n",
      "enter second number :20\n",
      "add is 30\n"
     ]
    }
   ],
   "source": [
    "a=int(input(\"enter first number :\"))\n",
    "ch=input(\"enter your choice :\")\n",
    "b=int(input(\"enter second number :\"))\n",
    "if ch=='+':\n",
    "    print(\"add is\",a+b)\n",
    "elif ch=='-':\n",
    "    print(\"sub is\",a-b)\n",
    "elif ch=='*':\n",
    "    print(\"mul is\",a*b)\n",
    "elif ch=='/':\n",
    "    print(\"div is\",a/b)\n",
    "else:\n",
    "    print(\"Invalid choice\")"
   ]
  },
  {
   "cell_type": "code",
   "execution_count": 2,
   "id": "7416a7e8",
   "metadata": {},
   "outputs": [
    {
     "name": "stdout",
     "output_type": "stream",
     "text": [
      "enter first number10\n",
      "enter your choice%\n",
      "enter second number20\n",
      "Invalid choice\n"
     ]
    }
   ],
   "source": [
    "a=int(input(\"enter first number\"))\n",
    "ch=input(\"enter your choice\")\n",
    "b=int(input(\"enter second number\"))\n",
    "if ch=='+':\n",
    "    print(\"add is\",a+b)\n",
    "elif ch=='-':\n",
    "    print(\"sub is\",a-b)\n",
    "elif ch=='*':\n",
    "    print(\"mul is\",a*b)\n",
    "elif ch=='/':\n",
    "    print(\"div is\",a/b)\n",
    "else:\n",
    "    print(\"Invalid choice\")"
   ]
  },
  {
   "cell_type": "code",
   "execution_count": 17,
   "id": "b9b576ec",
   "metadata": {},
   "outputs": [
    {
     "name": "stdout",
     "output_type": "stream",
     "text": [
      "0.3772750403703745\n"
     ]
    }
   ],
   "source": [
    "import random\n",
    "a=random.random()\n",
    "print(a)"
   ]
  },
  {
   "cell_type": "code",
   "execution_count": 18,
   "id": "4ebf7f08",
   "metadata": {},
   "outputs": [
    {
     "name": "stdout",
     "output_type": "stream",
     "text": [
      "515\n"
     ]
    }
   ],
   "source": [
    "import random\n",
    "a=int(random.random()*1000)\n",
    "print(a)"
   ]
  },
  {
   "cell_type": "code",
   "execution_count": 10,
   "id": "37b4d4d4",
   "metadata": {},
   "outputs": [
    {
     "name": "stdout",
     "output_type": "stream",
     "text": [
      "56\n",
      "Danger\n"
     ]
    }
   ],
   "source": [
    "import random\n",
    "a=int(random.random()*100)\n",
    "print(a)\n",
    "if a>=0 and a<=9:\n",
    "    print(\"Temp is very low\")\n",
    "elif a>=10 and a<=19:\n",
    "    print(\"Temp is low\")\n",
    "elif a>=20 and a<=29:\n",
    "    print(\"Temp is normal\")\n",
    "elif a>=30 and a<=39:\n",
    "    print(\"Temp is high\")\n",
    "elif a<=40 and a>=50:\n",
    "    print(\"Temp is very high\")\n",
    "else:\n",
    "    print(\"Danger\")\n"
   ]
  },
  {
   "cell_type": "code",
   "execution_count": 2,
   "id": "9f8fc08b",
   "metadata": {},
   "outputs": [
    {
     "name": "stdout",
     "output_type": "stream",
     "text": [
      "**\n"
     ]
    }
   ],
   "source": [
    " '''playing game in which u wil get stars after scoring sort of numbers'''\n",
    "\n",
    "\n",
    "import random\n",
    "a=int(random.random()*1000)\n",
    "if a>=0 and a<100:\n",
    "    print(\"Failed try again\")\n",
    "elif a>=100 and a<400:\n",
    "    print(\"*\")\n",
    "elif a>=400 and a<800:\n",
    "    print(\"**\")\n",
    "elif a>=800 and a<=999:\n",
    "    print(\"***\")\n",
    "else:\n",
    "    print(\"out of range\")\n"
   ]
  },
  {
   "cell_type": "markdown",
   "id": "26fc441d",
   "metadata": {},
   "source": [
    "# Loop:-"
   ]
  },
  {
   "cell_type": "code",
   "execution_count": 30,
   "id": "bce83bb4",
   "metadata": {},
   "outputs": [
    {
     "name": "stdout",
     "output_type": "stream",
     "text": [
      "0\n",
      "1\n",
      "2\n",
      "3\n",
      "4\n",
      "5\n"
     ]
    }
   ],
   "source": [
    "for i in range(6):\n",
    "    print(i)"
   ]
  },
  {
   "cell_type": "code",
   "execution_count": 29,
   "id": "cdd60be2",
   "metadata": {},
   "outputs": [
    {
     "name": "stdout",
     "output_type": "stream",
     "text": [
      "hello\n",
      "0\n",
      "hello\n",
      "1\n",
      "hello\n",
      "2\n",
      "hello\n",
      "3\n",
      "hello\n",
      "4\n",
      "hello\n",
      "5\n",
      "hello\n"
     ]
    }
   ],
   "source": [
    "for i in range(6):\n",
    "    print(\"hello\")\n",
    "    print(i)\n",
    "print(\"hello\")"
   ]
  },
  {
   "cell_type": "code",
   "execution_count": null,
   "id": "6e533828",
   "metadata": {},
   "outputs": [],
   "source": []
  }
 ],
 "metadata": {
  "kernelspec": {
   "display_name": "Python 3 (ipykernel)",
   "language": "python",
   "name": "python3"
  },
  "language_info": {
   "codemirror_mode": {
    "name": "ipython",
    "version": 3
   },
   "file_extension": ".py",
   "mimetype": "text/x-python",
   "name": "python",
   "nbconvert_exporter": "python",
   "pygments_lexer": "ipython3",
   "version": "3.9.7"
  }
 },
 "nbformat": 4,
 "nbformat_minor": 5
}
