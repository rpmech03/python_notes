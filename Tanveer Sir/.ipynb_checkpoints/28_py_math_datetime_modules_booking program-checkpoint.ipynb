{
 "cells": [
  {
   "cell_type": "markdown",
   "id": "28c7aa0f",
   "metadata": {},
   "source": [
    "# MATH MODULE :"
   ]
  },
  {
   "cell_type": "code",
   "execution_count": 2,
   "id": "c99f03d0",
   "metadata": {},
   "outputs": [],
   "source": [
    "import math\n"
   ]
  },
  {
   "cell_type": "code",
   "execution_count": 3,
   "id": "0ac09573",
   "metadata": {},
   "outputs": [
    {
     "data": {
      "text/plain": [
       "['__doc__',\n",
       " '__loader__',\n",
       " '__name__',\n",
       " '__package__',\n",
       " '__spec__',\n",
       " 'acos',\n",
       " 'acosh',\n",
       " 'asin',\n",
       " 'asinh',\n",
       " 'atan',\n",
       " 'atan2',\n",
       " 'atanh',\n",
       " 'ceil',\n",
       " 'comb',\n",
       " 'copysign',\n",
       " 'cos',\n",
       " 'cosh',\n",
       " 'degrees',\n",
       " 'dist',\n",
       " 'e',\n",
       " 'erf',\n",
       " 'erfc',\n",
       " 'exp',\n",
       " 'expm1',\n",
       " 'fabs',\n",
       " 'factorial',\n",
       " 'floor',\n",
       " 'fmod',\n",
       " 'frexp',\n",
       " 'fsum',\n",
       " 'gamma',\n",
       " 'gcd',\n",
       " 'hypot',\n",
       " 'inf',\n",
       " 'isclose',\n",
       " 'isfinite',\n",
       " 'isinf',\n",
       " 'isnan',\n",
       " 'isqrt',\n",
       " 'lcm',\n",
       " 'ldexp',\n",
       " 'lgamma',\n",
       " 'log',\n",
       " 'log10',\n",
       " 'log1p',\n",
       " 'log2',\n",
       " 'modf',\n",
       " 'nan',\n",
       " 'nextafter',\n",
       " 'perm',\n",
       " 'pi',\n",
       " 'pow',\n",
       " 'prod',\n",
       " 'radians',\n",
       " 'remainder',\n",
       " 'sin',\n",
       " 'sinh',\n",
       " 'sqrt',\n",
       " 'tan',\n",
       " 'tanh',\n",
       " 'tau',\n",
       " 'trunc',\n",
       " 'ulp']"
      ]
     },
     "execution_count": 3,
     "metadata": {},
     "output_type": "execute_result"
    }
   ],
   "source": [
    "dir(math)"
   ]
  },
  {
   "cell_type": "code",
   "execution_count": 4,
   "id": "d1f49951",
   "metadata": {},
   "outputs": [
    {
     "name": "stdout",
     "output_type": "stream",
     "text": [
      "3.141592653589793\n"
     ]
    }
   ],
   "source": [
    "print(math.pi)"
   ]
  },
  {
   "cell_type": "code",
   "execution_count": 5,
   "id": "68dd540c",
   "metadata": {},
   "outputs": [
    {
     "name": "stdout",
     "output_type": "stream",
     "text": [
      "120\n"
     ]
    }
   ],
   "source": [
    "print(math.factorial(5))"
   ]
  },
  {
   "cell_type": "code",
   "execution_count": 6,
   "id": "04e6cc8e",
   "metadata": {},
   "outputs": [
    {
     "name": "stdout",
     "output_type": "stream",
     "text": [
      "3.0\n"
     ]
    }
   ],
   "source": [
    "print(math.sqrt(9))"
   ]
  },
  {
   "cell_type": "code",
   "execution_count": 7,
   "id": "e2250ff1",
   "metadata": {},
   "outputs": [
    {
     "name": "stdout",
     "output_type": "stream",
     "text": [
      "100.0\n"
     ]
    }
   ],
   "source": [
    "print(math.pow(10,2))"
   ]
  },
  {
   "cell_type": "code",
   "execution_count": 8,
   "id": "bfc4c8dc",
   "metadata": {},
   "outputs": [
    {
     "name": "stdout",
     "output_type": "stream",
     "text": [
      "True\n"
     ]
    }
   ],
   "source": [
    "print(math.isfinite(10))   #no is finite then it will return true."
   ]
  },
  {
   "cell_type": "code",
   "execution_count": 9,
   "id": "1990dec8",
   "metadata": {},
   "outputs": [
    {
     "name": "stdout",
     "output_type": "stream",
     "text": [
      "3\n"
     ]
    }
   ],
   "source": [
    "a=3.4\n",
    "print(math.floor(a))"
   ]
  },
  {
   "cell_type": "code",
   "execution_count": 10,
   "id": "4604e422",
   "metadata": {},
   "outputs": [
    {
     "name": "stdout",
     "output_type": "stream",
     "text": [
      "4\n"
     ]
    }
   ],
   "source": [
    "print(math.ceil(a))"
   ]
  },
  {
   "cell_type": "code",
   "execution_count": 11,
   "id": "a08699f0",
   "metadata": {},
   "outputs": [
    {
     "name": "stdout",
     "output_type": "stream",
     "text": [
      "-0.9880316240928618\n"
     ]
    }
   ],
   "source": [
    "print(math.sin(30))"
   ]
  },
  {
   "cell_type": "code",
   "execution_count": 12,
   "id": "01fa88c9",
   "metadata": {},
   "outputs": [
    {
     "name": "stdout",
     "output_type": "stream",
     "text": [
      "1.0\n"
     ]
    }
   ],
   "source": [
    "print(math.log10(10))"
   ]
  },
  {
   "cell_type": "code",
   "execution_count": 13,
   "id": "6b94e47f",
   "metadata": {},
   "outputs": [
    {
     "name": "stdout",
     "output_type": "stream",
     "text": [
      "0.49999999999999994\n"
     ]
    }
   ],
   "source": [
    "print(math.sin(math.radians(30)))   #radians type kroge tb degree me ayega."
   ]
  },
  {
   "cell_type": "code",
   "execution_count": 14,
   "id": "1009157b",
   "metadata": {},
   "outputs": [
    {
     "name": "stdout",
     "output_type": "stream",
     "text": [
      "0.5773502691896257\n"
     ]
    }
   ],
   "source": [
    "print(math.tan(math.radians(30)))"
   ]
  },
  {
   "cell_type": "code",
   "execution_count": 15,
   "id": "9ab86612",
   "metadata": {},
   "outputs": [
    {
     "name": "stdout",
     "output_type": "stream",
     "text": [
      "False\n"
     ]
    }
   ],
   "source": [
    "a=3.4\n",
    "print(math.isnan(a))     #Return True if x is a NaN (not a number), and False otherwise."
   ]
  },
  {
   "cell_type": "code",
   "execution_count": 31,
   "id": "3126f9f5",
   "metadata": {},
   "outputs": [
    {
     "ename": "TypeError",
     "evalue": "must be real number, not NoneType",
     "output_type": "error",
     "traceback": [
      "\u001b[1;31m---------------------------------------------------------------------------\u001b[0m",
      "\u001b[1;31mTypeError\u001b[0m                                 Traceback (most recent call last)",
      "\u001b[1;32m~\\AppData\\Local\\Temp/ipykernel_9792/3432722232.py\u001b[0m in \u001b[0;36m<module>\u001b[1;34m\u001b[0m\n\u001b[0;32m      1\u001b[0m \u001b[0ma\u001b[0m\u001b[1;33m=\u001b[0m\u001b[1;32mNone\u001b[0m\u001b[1;33m\u001b[0m\u001b[1;33m\u001b[0m\u001b[0m\n\u001b[1;32m----> 2\u001b[1;33m \u001b[0mprint\u001b[0m\u001b[1;33m(\u001b[0m\u001b[0mmath\u001b[0m\u001b[1;33m.\u001b[0m\u001b[0misnan\u001b[0m\u001b[1;33m(\u001b[0m\u001b[0ma\u001b[0m\u001b[1;33m)\u001b[0m\u001b[1;33m)\u001b[0m\u001b[1;33m\u001b[0m\u001b[1;33m\u001b[0m\u001b[0m\n\u001b[0m",
      "\u001b[1;31mTypeError\u001b[0m: must be real number, not NoneType"
     ]
    }
   ],
   "source": [
    "a=None\n",
    "print(math.isnan(a))    #agr none dene ke bad error de rha h to ise hm exception handling ke through handle krege."
   ]
  },
  {
   "cell_type": "markdown",
   "id": "b465c1d5",
   "metadata": {},
   "source": [
    "# DATETIME MODULE"
   ]
  },
  {
   "cell_type": "code",
   "execution_count": 16,
   "id": "8650d202",
   "metadata": {},
   "outputs": [],
   "source": [
    "import datetime as d\n"
   ]
  },
  {
   "cell_type": "code",
   "execution_count": 32,
   "id": "8c32c52e",
   "metadata": {},
   "outputs": [
    {
     "data": {
      "text/plain": [
       "['MAXYEAR',\n",
       " 'MINYEAR',\n",
       " '__all__',\n",
       " '__builtins__',\n",
       " '__cached__',\n",
       " '__doc__',\n",
       " '__file__',\n",
       " '__loader__',\n",
       " '__name__',\n",
       " '__package__',\n",
       " '__spec__',\n",
       " 'date',\n",
       " 'datetime',\n",
       " 'datetime_CAPI',\n",
       " 'sys',\n",
       " 'time',\n",
       " 'timedelta',\n",
       " 'timezone',\n",
       " 'tzinfo']"
      ]
     },
     "execution_count": 32,
     "metadata": {},
     "output_type": "execute_result"
    }
   ],
   "source": [
    "dir(d)"
   ]
  },
  {
   "cell_type": "code",
   "execution_count": 17,
   "id": "464e27e1",
   "metadata": {},
   "outputs": [
    {
     "data": {
      "text/plain": [
       "['__add__',\n",
       " '__class__',\n",
       " '__delattr__',\n",
       " '__dir__',\n",
       " '__doc__',\n",
       " '__eq__',\n",
       " '__format__',\n",
       " '__ge__',\n",
       " '__getattribute__',\n",
       " '__gt__',\n",
       " '__hash__',\n",
       " '__init__',\n",
       " '__init_subclass__',\n",
       " '__le__',\n",
       " '__lt__',\n",
       " '__ne__',\n",
       " '__new__',\n",
       " '__radd__',\n",
       " '__reduce__',\n",
       " '__reduce_ex__',\n",
       " '__repr__',\n",
       " '__rsub__',\n",
       " '__setattr__',\n",
       " '__sizeof__',\n",
       " '__str__',\n",
       " '__sub__',\n",
       " '__subclasshook__',\n",
       " 'astimezone',\n",
       " 'combine',\n",
       " 'ctime',\n",
       " 'date',\n",
       " 'day',\n",
       " 'dst',\n",
       " 'fold',\n",
       " 'fromisocalendar',\n",
       " 'fromisoformat',\n",
       " 'fromordinal',\n",
       " 'fromtimestamp',\n",
       " 'hour',\n",
       " 'isocalendar',\n",
       " 'isoformat',\n",
       " 'isoweekday',\n",
       " 'max',\n",
       " 'microsecond',\n",
       " 'min',\n",
       " 'minute',\n",
       " 'month',\n",
       " 'now',\n",
       " 'replace',\n",
       " 'resolution',\n",
       " 'second',\n",
       " 'strftime',\n",
       " 'strptime',\n",
       " 'time',\n",
       " 'timestamp',\n",
       " 'timetuple',\n",
       " 'timetz',\n",
       " 'today',\n",
       " 'toordinal',\n",
       " 'tzinfo',\n",
       " 'tzname',\n",
       " 'utcfromtimestamp',\n",
       " 'utcnow',\n",
       " 'utcoffset',\n",
       " 'utctimetuple',\n",
       " 'weekday',\n",
       " 'year']"
      ]
     },
     "execution_count": 17,
     "metadata": {},
     "output_type": "execute_result"
    }
   ],
   "source": [
    "dir(d.datetime)    #datetime module ke andar datetime name ki class hoti h n uske andar iske functions hote h."
   ]
  },
  {
   "cell_type": "code",
   "execution_count": 28,
   "id": "62c5d03b",
   "metadata": {},
   "outputs": [
    {
     "name": "stdout",
     "output_type": "stream",
     "text": [
      "2022-02-10 08:10:01.640176\n"
     ]
    }
   ],
   "source": [
    "dt=d.datetime.now()    #you will get present date n time of the system.\n",
    "print(dt)"
   ]
  },
  {
   "cell_type": "code",
   "execution_count": 33,
   "id": "863ba904",
   "metadata": {},
   "outputs": [
    {
     "name": "stdout",
     "output_type": "stream",
     "text": [
      "2022-02-10 00:00:00\n"
     ]
    }
   ],
   "source": [
    "dt=d.datetime(2022,2,10)   #you will get present date n time of yours.\n",
    "print(dt)"
   ]
  },
  {
   "cell_type": "code",
   "execution_count": 34,
   "id": "7630e742",
   "metadata": {},
   "outputs": [
    {
     "name": "stdout",
     "output_type": "stream",
     "text": [
      "2022-02-09 12:00:00\n"
     ]
    }
   ],
   "source": [
    "dt=d.datetime(2022,2,9,12)   #hour\n",
    "print(dt)"
   ]
  },
  {
   "cell_type": "code",
   "execution_count": 35,
   "id": "a03a173f",
   "metadata": {},
   "outputs": [
    {
     "name": "stdout",
     "output_type": "stream",
     "text": [
      "2022-02-09 12:30:00\n"
     ]
    }
   ],
   "source": [
    "dt=d.datetime(2022,2,9,12,30)   #mins\n",
    "print(dt)"
   ]
  },
  {
   "cell_type": "code",
   "execution_count": 37,
   "id": "406374de",
   "metadata": {},
   "outputs": [
    {
     "name": "stdout",
     "output_type": "stream",
     "text": [
      "2022-02-09 12:30:45\n"
     ]
    }
   ],
   "source": [
    "dt=d.datetime(2022,2,9,12,30,45)   #secs\n",
    "print(dt)"
   ]
  },
  {
   "cell_type": "code",
   "execution_count": 38,
   "id": "e53a87ec",
   "metadata": {},
   "outputs": [
    {
     "name": "stdout",
     "output_type": "stream",
     "text": [
      "2022-02-09 12:30:45.006000\n"
     ]
    }
   ],
   "source": [
    "dt=d.datetime(2022,2,9,12,30,45,6000)   #microsecond\n",
    "print(dt)"
   ]
  },
  {
   "cell_type": "code",
   "execution_count": 39,
   "id": "3102dbb8",
   "metadata": {},
   "outputs": [
    {
     "name": "stdout",
     "output_type": "stream",
     "text": [
      "2022-02-09\n"
     ]
    }
   ],
   "source": [
    "print(dt.date())   #built in fun m parenthesis lgane ki need nh hoti h but its not a built in fun."
   ]
  },
  {
   "cell_type": "code",
   "execution_count": 41,
   "id": "d1c1eec9",
   "metadata": {},
   "outputs": [
    {
     "name": "stdout",
     "output_type": "stream",
     "text": [
      "9\n"
     ]
    }
   ],
   "source": [
    "print(dt.day) "
   ]
  },
  {
   "cell_type": "code",
   "execution_count": 43,
   "id": "ae1b5d9f",
   "metadata": {},
   "outputs": [
    {
     "name": "stdout",
     "output_type": "stream",
     "text": [
      "2\n"
     ]
    }
   ],
   "source": [
    "print(dt.month) "
   ]
  },
  {
   "cell_type": "code",
   "execution_count": 44,
   "id": "8092c6e3",
   "metadata": {},
   "outputs": [
    {
     "name": "stdout",
     "output_type": "stream",
     "text": [
      "2022\n"
     ]
    }
   ],
   "source": [
    "print(dt.year) "
   ]
  },
  {
   "cell_type": "code",
   "execution_count": 45,
   "id": "7d8b8b91",
   "metadata": {},
   "outputs": [
    {
     "name": "stdout",
     "output_type": "stream",
     "text": [
      "12\n"
     ]
    }
   ],
   "source": [
    "print(dt.hour) "
   ]
  },
  {
   "cell_type": "code",
   "execution_count": 46,
   "id": "28d46b35",
   "metadata": {},
   "outputs": [
    {
     "name": "stdout",
     "output_type": "stream",
     "text": [
      "30\n"
     ]
    }
   ],
   "source": [
    "print(dt.minute) "
   ]
  },
  {
   "cell_type": "code",
   "execution_count": 47,
   "id": "d2002046",
   "metadata": {},
   "outputs": [
    {
     "name": "stdout",
     "output_type": "stream",
     "text": [
      "45\n"
     ]
    }
   ],
   "source": [
    "print(dt.second) "
   ]
  },
  {
   "cell_type": "code",
   "execution_count": 48,
   "id": "3d8dddee",
   "metadata": {},
   "outputs": [
    {
     "name": "stdout",
     "output_type": "stream",
     "text": [
      "6000\n"
     ]
    }
   ],
   "source": [
    "print(dt.microsecond) "
   ]
  },
  {
   "cell_type": "code",
   "execution_count": 49,
   "id": "713d0513",
   "metadata": {},
   "outputs": [
    {
     "name": "stdout",
     "output_type": "stream",
     "text": [
      "2022-02-10 08:32:19.937957\n"
     ]
    }
   ],
   "source": [
    "print(dt.today()) "
   ]
  },
  {
   "cell_type": "code",
   "execution_count": 51,
   "id": "17aed94b",
   "metadata": {},
   "outputs": [
    {
     "name": "stdout",
     "output_type": "stream",
     "text": [
      "2\n"
     ]
    }
   ],
   "source": [
    "print(dt.weekday()) "
   ]
  },
  {
   "cell_type": "code",
   "execution_count": 53,
   "id": "3527d880",
   "metadata": {},
   "outputs": [
    {
     "name": "stdout",
     "output_type": "stream",
     "text": [
      "Wednesday\n"
     ]
    }
   ],
   "source": [
    "print(dt.strftime(\"%A\"))   #strftime is imp for us it will be best amongst datetime module."
   ]
  },
  {
   "cell_type": "code",
   "execution_count": 54,
   "id": "94fd90c0",
   "metadata": {},
   "outputs": [
    {
     "name": "stdout",
     "output_type": "stream",
     "text": [
      "Wed\n"
     ]
    }
   ],
   "source": [
    "print(dt.strftime(\"%a\"))"
   ]
  },
  {
   "cell_type": "code",
   "execution_count": 56,
   "id": "7423609e",
   "metadata": {},
   "outputs": [
    {
     "name": "stdout",
     "output_type": "stream",
     "text": [
      "2022\n"
     ]
    }
   ],
   "source": [
    "print(dt.strftime(\"%Y\"))"
   ]
  },
  {
   "cell_type": "code",
   "execution_count": 57,
   "id": "a45a4bb1",
   "metadata": {},
   "outputs": [
    {
     "name": "stdout",
     "output_type": "stream",
     "text": [
      "22\n"
     ]
    }
   ],
   "source": [
    "print(dt.strftime(\"%y\"))"
   ]
  },
  {
   "cell_type": "code",
   "execution_count": 58,
   "id": "4d895c9d",
   "metadata": {},
   "outputs": [
    {
     "name": "stdout",
     "output_type": "stream",
     "text": [
      "02\n"
     ]
    }
   ],
   "source": [
    "print(dt.strftime(\"%m\"))"
   ]
  },
  {
   "cell_type": "code",
   "execution_count": 59,
   "id": "515acdfe",
   "metadata": {},
   "outputs": [
    {
     "name": "stdout",
     "output_type": "stream",
     "text": [
      "February\n"
     ]
    }
   ],
   "source": [
    "print(dt.strftime(\"%B\"))   #month"
   ]
  },
  {
   "cell_type": "code",
   "execution_count": 60,
   "id": "c96f460e",
   "metadata": {},
   "outputs": [
    {
     "name": "stdout",
     "output_type": "stream",
     "text": [
      "Feb\n"
     ]
    }
   ],
   "source": [
    "print(dt.strftime(\"%b\"))"
   ]
  },
  {
   "cell_type": "code",
   "execution_count": 71,
   "id": "be205bc2",
   "metadata": {},
   "outputs": [
    {
     "name": "stdout",
     "output_type": "stream",
     "text": [
      "welcome to bank\n"
     ]
    }
   ],
   "source": [
    "dt=d.datetime.now()\n",
    "if dt.strftime(\"%a\")=='Sun':\n",
    "    print(\"sorry today is sunday\")\n",
    "else:\n",
    "    print(\"welcome to bank\")"
   ]
  },
  {
   "cell_type": "code",
   "execution_count": 70,
   "id": "6b449a85",
   "metadata": {},
   "outputs": [
    {
     "name": "stdout",
     "output_type": "stream",
     "text": [
      "sorry today is sunday\n"
     ]
    }
   ],
   "source": [
    "dt=d.datetime.now()\n",
    "b=\"%a\"\n",
    "b='Sun'\n",
    "if dt.strftime(b)=='Sun':\n",
    "    print(\"sorry today is sunday\")\n",
    "else:\n",
    "    print(\"welcome to bank\")"
   ]
  },
  {
   "cell_type": "code",
   "execution_count": 72,
   "id": "a0767357",
   "metadata": {},
   "outputs": [
    {
     "name": "stdout",
     "output_type": "stream",
     "text": [
      "unable to perform any operation\n"
     ]
    }
   ],
   "source": [
    "dt=d.datetime.now()\n",
    "if dt.strftime(\"%a\")=='sun':\n",
    "    print(\"sorry today is sunday\")\n",
    "elif dt.hour>=9 and dt.hour<=18:\n",
    "    print(\"welcome to bank\")\n",
    "else:\n",
    "    print(\"unable to perform any operation\")"
   ]
  }
 ],
 "metadata": {
  "kernelspec": {
   "display_name": "Python 3 (ipykernel)",
   "language": "python",
   "name": "python3"
  },
  "language_info": {
   "codemirror_mode": {
    "name": "ipython",
    "version": 3
   },
   "file_extension": ".py",
   "mimetype": "text/x-python",
   "name": "python",
   "nbconvert_exporter": "python",
   "pygments_lexer": "ipython3",
   "version": "3.9.7"
  }
 },
 "nbformat": 4,
 "nbformat_minor": 5
}
