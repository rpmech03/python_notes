{
 "cells": [
  {
   "cell_type": "code",
   "execution_count": 1,
   "id": "355e1924",
   "metadata": {},
   "outputs": [
    {
     "name": "stdout",
     "output_type": "stream",
     "text": [
      "value of a is 10\n",
      "value of a is 10 value of b is 20\n"
     ]
    }
   ],
   "source": [
    "a=10\n",
    "b=20\n",
    "print(\"value of a is\",a)\n",
    "print(\"value of a is\",a,\"and\",\"value of b is\",b)"
   ]
  },
  {
   "cell_type": "code",
   "execution_count": null,
   "id": "d3cf3543",
   "metadata": {},
   "outputs": [],
   "source": [
    "# ye sb multiple line m h but hme agr single line m lana ho to kya krege...hm end=\"\" ka use krege."
   ]
  },
  {
   "cell_type": "code",
   "execution_count": 1,
   "id": "0bc6f242",
   "metadata": {},
   "outputs": [
    {
     "name": "stdout",
     "output_type": "stream",
     "text": [
      "Hello\n",
      "We\n",
      "are\n",
      "learning\n",
      "Python\n"
     ]
    }
   ],
   "source": [
    "print(\"Hello\")       \n",
    "print(\"We\")\n",
    "print(\"are\")\n",
    "print(\"learning\")\n",
    "print(\"Python\")"
   ]
  },
  {
   "cell_type": "code",
   "execution_count": 6,
   "id": "6b5f82d9",
   "metadata": {},
   "outputs": [
    {
     "name": "stdout",
     "output_type": "stream",
     "text": [
      "value of a is 10\n",
      "value of a is 10 value of b is 20\n"
     ]
    }
   ],
   "source": [
    "a=10\n",
    "b=20\n",
    "print(\"value of a is\",a)\n",
    "print(\"value of a is\",a,\"value of b is\",b)"
   ]
  },
  {
   "cell_type": "code",
   "execution_count": 1,
   "id": "ce4f4ff8",
   "metadata": {},
   "outputs": [
    {
     "name": "stdout",
     "output_type": "stream",
     "text": [
      "Hello 10\n",
      "We are learning special python\n"
     ]
    }
   ],
   "source": [
    "a=10\n",
    "print(\"Hello\",a)\n",
    "print(\"We\",end=\" \")\n",
    "print(\"are\",end=\" \")\n",
    "print(\"learning\",end=\" special \")\n",
    "print(\"python\")"
   ]
  },
  {
   "cell_type": "code",
   "execution_count": 3,
   "id": "22593c2b",
   "metadata": {},
   "outputs": [
    {
     "name": "stdout",
     "output_type": "stream",
     "text": [
      "language name java fees 50000\n",
      "language name python fees 40000\n",
      "language name react fees 45000\n"
     ]
    }
   ],
   "source": [
    "a=\"java\"\n",
    "fa=50000\n",
    "b=\"python\"\n",
    "fb=40000\n",
    "c=\"react\"\n",
    "fc=45000\n",
    "print(\"language name\",a,\"fees\",fa)\n",
    "print(\"language name\",b,\"fees\",fb)\n",
    "print(\"language name\",c,\"fees\",fc)"
   ]
  },
  {
   "cell_type": "code",
   "execution_count": 4,
   "id": "8d8ecf04",
   "metadata": {},
   "outputs": [
    {
     "name": "stdout",
     "output_type": "stream",
     "text": [
      "language name java fees 50000 language name python fees 40000 language name react fees 45000\n"
     ]
    }
   ],
   "source": [
    "a=\"java\"\n",
    "fa=50000\n",
    "b=\"python\"\n",
    "fb=40000\n",
    "c=\"react\"\n",
    "fc=45000\n",
    "print(\"language name\",a,\"fees\",fa,\n",
    "\"language name\",b,\"fees\",fb,\n",
    "\"language name\",c,\"fees\",fc)"
   ]
  },
  {
   "cell_type": "code",
   "execution_count": 8,
   "id": "1ca5a675",
   "metadata": {},
   "outputs": [
    {
     "name": "stdout",
     "output_type": "stream",
     "text": [
      "language name java fees 50000 \n",
      "language name python fees 40000 \n",
      "language name react fees 45000\n"
     ]
    }
   ],
   "source": [
    "a=\"java\"\n",
    "fa=50000\n",
    "b=\"python\"\n",
    "fb=40000\n",
    "c=\"react\"\n",
    "fc=45000\n",
    "print(\"language name\",a,\"fees\",fa,\n",
    "\"\\nlanguage name\",b,\"fees\",fb,\n",
    "\"\\nlanguage name\",c,\"fees\",fc)"
   ]
  },
  {
   "cell_type": "code",
   "execution_count": 1,
   "id": "be6f4153",
   "metadata": {},
   "outputs": [
    {
     "name": "stdout",
     "output_type": "stream",
     "text": [
      "before swapping value of a is 10 value of b is 20\n",
      "20 10\n",
      "after swappin value of a is 20 value of b is 10\n"
     ]
    }
   ],
   "source": [
    "# Swapping---\n",
    "a=10\n",
    "b=20\n",
    "print(\"before swapping value of a is\",a,\"value of b is\",b)\n",
    "a,b=b,a\n",
    "# print(a,b)\n",
    "# new=old\n",
    "print(\"after swappin value of a is\",a,\"value of b is\",b)"
   ]
  },
  {
   "cell_type": "code",
   "execution_count": 6,
   "id": "ff557722",
   "metadata": {},
   "outputs": [
    {
     "name": "stdout",
     "output_type": "stream",
     "text": [
      "add is 15\n",
      "sub is 5\n",
      "mul is 50\n",
      "div is 2.0\n",
      "floor div is 2\n",
      "mod is 0\n",
      "expo is 100000\n"
     ]
    }
   ],
   "source": [
    "a=10\n",
    "b=5\n",
    "print(\"add is\",a+b)\n",
    "print(\"sub is\",a-b)\n",
    "print(\"mul is\",a*b)\n",
    "print(\"div is\",a/b)\n",
    "print(\"floor div is\",a//b)\n",
    "print(\"mod is\",a%b)\n",
    "print(\"expo is\",a**b)"
   ]
  }
 ],
 "metadata": {
  "kernelspec": {
   "display_name": "Python 3 (ipykernel)",
   "language": "python",
   "name": "python3"
  },
  "language_info": {
   "codemirror_mode": {
    "name": "ipython",
    "version": 3
   },
   "file_extension": ".py",
   "mimetype": "text/x-python",
   "name": "python",
   "nbconvert_exporter": "python",
   "pygments_lexer": "ipython3",
   "version": "3.9.7"
  }
 },
 "nbformat": 4,
 "nbformat_minor": 5
}
