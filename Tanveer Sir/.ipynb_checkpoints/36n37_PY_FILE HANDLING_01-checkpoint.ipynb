{
 "cells": [
  {
   "cell_type": "markdown",
   "id": "e91dcdc7",
   "metadata": {},
   "source": [
    "# FILE HANDLING:\n",
    "\n",
    "File is a place at secondary storage which is used to store data permanently and with the help of file handling we can perform read ,write and append operations with files.\n",
    "\n",
    "Commonly used fun of file handling are--\n",
    "\n",
    "1_OPEN FUNCTION :\n",
    "    \n",
    "Open function is mainly use to open a file in read, write, append and create mode.\n",
    "\n",
    "Open fun contains two arguments...\n",
    "\n",
    "       a_File name as a string.\n",
    "\n",
    "       b_Mode of opening.\n",
    "        \n",
    "We will use following modes for opening....\n",
    "\n",
    "        1_R-READ MODE :\n",
    "\n",
    "        Mainly use to open a file in reading mode but if file does not exist then it will raise an error.\n",
    "\n",
    "        2_W-WRITE :\n",
    "\n",
    "        Mainly use to open a file in writing mode but if file already exist then it will erase all contents of file.\n",
    "\n",
    "        3_A-APPEND MODE :\n",
    "\n",
    "        Mainly use to open a file in append mode but if file does not exist then it will open file in writing mode.\n",
    "\n",
    "        4_X-CREATE MODE :\n",
    "\n",
    "        Mainly use to create a file only but if file already exist it will raise an error.\n",
    "\n",
    "2_CLOSE FUNCTION :\n",
    "\n",
    "Mainly use to close already opened file.\n",
    "\n",
    "3_WRITE FUNCTION :\n",
    "\n",
    "Mainly use to write data in file,it contains string as an argument.\n",
    "\n",
    "4_READ FUNCTION :\n",
    "\n",
    "Mainly use to read data from file.Read is also an overloaded fun that contains either zero or one argument.If we will pass an \n",
    "\n",
    "integer argument in read function then it will return number of characters according to integer arguments from file.\n",
    "\n",
    "5_READ LINE FUNCTION :\n",
    "\n",
    "Mainly use to read data, line by line from file."
   ]
  },
  {
   "cell_type": "markdown",
   "id": "c9edb83c",
   "metadata": {},
   "source": [
    "sbse phle hm ek folder bnayege ,uske bad ek var lege path n usme folder aa ka path rkh denge then ab apko kis nam ki file bnani \n",
    "h uska input user se lenge ...ab is file ke nam ko path ke sath create krke ek file bnani h n us file ko mjhe writing mode m \n",
    "open krni h,so yha exception ane ke chances h so hm phle he ise try m use krege...n usme hm open fun ka use krege n wo do a\n",
    "argument leta h...first is file name ie path+fname,path n file ka nam milkr ek argument bnayege...2nd  is mode ie \"w\" means \n",
    "writing mode...ab tk hm ye bta chuke h ki path pr kis nam ki file bnanin h n iska mode kya hoga ie writing mode...n ab file \n",
    "writing mode m successfully open ho jaye to thik h na ho to kya ayega exception...hme nh pta kaunsa ayega but hm use except\n",
    "m dal denge n likhege except Exception as e n uske andar hm print krerge e ko n uska type b pta krege...ab jb file succesfully \n",
    "writing mode m open ho jayega to ab hme file ke liye data chahye hoga...to ek var lenge data n uska input user se lenege n ab is\n",
    "data ko hme is file m write krna h to hm likhege f.write(data)...ab write hone ke bad print krwa do written successfully n iske \n",
    "just bad jo file hmne open kri thi use close kr do like f.close()"
   ]
  },
  {
   "cell_type": "code",
   "execution_count": 4,
   "id": "b80432e7",
   "metadata": {},
   "outputs": [
    {
     "name": "stdout",
     "output_type": "stream",
     "text": [
      "enter file name :a1.txt\n",
      "enter file data :We are learning file handling\n",
      "written succesfully \n"
     ]
    }
   ],
   "source": [
    "path=\"C:\\\\Users\\\\HZT\\\\Documents\\\\aa\\\\\"\n",
    "fname=input(\"enter file name :\")\n",
    "try:\n",
    "    f=open(path+fname,\"w\")\n",
    "    data=input(\"enter file data :\")\n",
    "    f.write(data)\n",
    "    print(\"written succesfully \")\n",
    "    f.close()\n",
    "except Exception as e:\n",
    "    print(e)\n",
    "    print(type(e))"
   ]
  },
  {
   "cell_type": "code",
   "execution_count": null,
   "id": "60da9e3b",
   "metadata": {},
   "outputs": [],
   "source": [
    "#writing mode ka ek drawback h ki m fir se agr us file m kch likhta hu to phle wala data erase ho jayega...but hme yha old data \n",
    "# b chahye to hm kya krege append mode m open krege."
   ]
  },
  {
   "cell_type": "code",
   "execution_count": 1,
   "id": "ac2cdaa2",
   "metadata": {},
   "outputs": [
    {
     "name": "stdout",
     "output_type": "stream",
     "text": [
      "enter a file name :a1.txt\n",
      "enter file data :s={     s1:{         'roll':101,         'name':'ajay',         'address':'indore'     },     s2:{         'roll':102,         'name':'jay',         'address':'indore'     } }\n",
      "written successfully\n"
     ]
    }
   ],
   "source": [
    "path=\"C:\\\\Users\\\\HZT\\\\Documents\\\\aa\\\\\"\n",
    "fname=input(\"enter a file name :\")\n",
    "try:\n",
    "    f=open(path+fname,\"a\")\n",
    "    data=input(\"enter file data :\")\n",
    "    f.write(data)\n",
    "    print(\"written successfully\")\n",
    "    f.close()\n",
    "except Exception as e:\n",
    "    print(e)\n",
    "    print(type(e))"
   ]
  },
  {
   "cell_type": "code",
   "execution_count": null,
   "id": "32c42448",
   "metadata": {},
   "outputs": [],
   "source": [
    "lekin ab apke man m ek doubt ayega...kya ...ki ab file exist nh krti h to kya krege....append mode check krta h phle ki file\n",
    "h ya nh agr h tousme he likh dega n agr nh h to file create krke usme likh dega so better to use append mode as compare to \n",
    "writitng mode.\n",
    "\n",
    "append mode m old content erase nh hota h n new content b add ho jatah but writing mode m old content erase ho jata h."
   ]
  },
  {
   "cell_type": "code",
   "execution_count": 6,
   "id": "2e1bdb5b",
   "metadata": {},
   "outputs": [
    {
     "name": "stdout",
     "output_type": "stream",
     "text": [
      "enter a file name :a2.txt\n",
      "enter file data :hello\n",
      "written successfully\n"
     ]
    }
   ],
   "source": [
    "path=\"C:\\\\Users\\\\HZT\\\\Documents\\\\aa\\\\\"\n",
    "fname=input(\"enter a file name :\")\n",
    "try:\n",
    "    f=open(path+fname,\"a\")\n",
    "    data=input(\"enter file data :\")\n",
    "    f.write(data)\n",
    "    print(\"written successfully\")\n",
    "    f.close()\n",
    "except Exception as e:\n",
    "    print(e)\n",
    "    print(type(e))"
   ]
  },
  {
   "cell_type": "code",
   "execution_count": null,
   "id": "72254266",
   "metadata": {},
   "outputs": [],
   "source": [
    "#ab hmne file sm data write kr liya h ab hm read krna sikhege...read krne ke liye file honi chshye agr nhn h to error askta h\n",
    "# ie file exist error...path n file name user se lenge n ab is bar open hm read mode m open krege n data nikaln e ke liye hm\n",
    "# f.read() method ka use krege n ise data var m store kra denge n us data ko print kr denge n use close kr denge....n run krne \n",
    "# ke bad pura data ajayega n agr wo file nhn rhi to error ajayega."
   ]
  },
  {
   "cell_type": "code",
   "execution_count": 8,
   "id": "88074c44",
   "metadata": {},
   "outputs": [
    {
     "name": "stdout",
     "output_type": "stream",
     "text": [
      "enter a file name :a1.txt\n",
      "We are learning file handlingWe are learning python\n"
     ]
    }
   ],
   "source": [
    "path=\"C:\\\\Users\\\\HZT\\\\Documents\\\\aa\\\\\"\n",
    "fname=input(\"enter a file name :\")\n",
    "try:\n",
    "    f=open(path+fname,\"r\")\n",
    "    data=f.read()\n",
    "    print(data)\n",
    "    f.close()\n",
    "except Exception as e:\n",
    "    print(e)\n",
    "    print(type(e))"
   ]
  },
  {
   "cell_type": "code",
   "execution_count": 9,
   "id": "6933e503",
   "metadata": {},
   "outputs": [
    {
     "name": "stdout",
     "output_type": "stream",
     "text": [
      "enter a file name :aaa.txt\n",
      "[Errno 2] No such file or directory: 'C:\\\\Users\\\\HZT\\\\Documents\\\\aa\\\\aaa.txt'\n",
      "<class 'FileNotFoundError'>\n"
     ]
    }
   ],
   "source": [
    "path=\"C:\\\\Users\\\\HZT\\\\Documents\\\\aa\\\\\"\n",
    "fname=input(\"enter a file name :\")\n",
    "try:\n",
    "    f=open(path+fname,\"r\")\n",
    "    data=f.read()\n",
    "    print(data)\n",
    "    f.close()\n",
    "except Exception as e:\n",
    "    print(e)\n",
    "    print(type(e))"
   ]
  },
  {
   "cell_type": "code",
   "execution_count": null,
   "id": "a488b61b",
   "metadata": {},
   "outputs": [],
   "source": [
    "# yha error agya but apko pta h ki ise kse handle krege...\n"
   ]
  },
  {
   "cell_type": "code",
   "execution_count": 10,
   "id": "eb92e05f",
   "metadata": {},
   "outputs": [
    {
     "name": "stdout",
     "output_type": "stream",
     "text": [
      "enter a file name :aa.txt\n",
      "file not exist\n"
     ]
    }
   ],
   "source": [
    "path=\"C:\\\\Users\\\\HZT\\\\Documents\\\\aa\\\\\"\n",
    "fname=input(\"enter a file name :\")\n",
    "try:\n",
    "    f=open(path+fname,\"r\")\n",
    "    data=f.read()\n",
    "    print(data)\n",
    "    f.close()\n",
    "except FileNotFoundError:\n",
    "    print(\"file not exist\")\n",
    "except Exception as e:\n",
    "    print(e)\n",
    "    print(type(e))"
   ]
  },
  {
   "cell_type": "code",
   "execution_count": null,
   "id": "4883baab",
   "metadata": {},
   "outputs": [],
   "source": [
    "#read is a overloaded method if you wouldn't pass anything then you will get the whole data but if you defined already what you \n",
    "# want to have like 5 or 6 words then u will get those letters.\n",
    "#agr mjhe ab starting ke 5 he word chahye to ap argument m 5 dal doge..."
   ]
  },
  {
   "cell_type": "code",
   "execution_count": 11,
   "id": "27b5ba22",
   "metadata": {},
   "outputs": [
    {
     "name": "stdout",
     "output_type": "stream",
     "text": [
      "enter a file name :a1.txt\n",
      "We ar\n"
     ]
    }
   ],
   "source": [
    "path=\"C:\\\\Users\\\\HZT\\\\Documents\\\\aa\\\\\"\n",
    "fname=input(\"enter a file name :\")\n",
    "try:\n",
    "    f=open(path+fname,\"r\")\n",
    "    data=f.read(5)\n",
    "    print(data)\n",
    "    f.close()\n",
    "except FileNotFoundError:\n",
    "    print(\"file not exist\")\n",
    "except Exception as e:\n",
    "    print(e)\n",
    "    print(type(e))"
   ]
  },
  {
   "cell_type": "code",
   "execution_count": null,
   "id": "f516fac2",
   "metadata": {},
   "outputs": [],
   "source": [
    "#now i have created a file name aa in aa folder then wrote letters there line by line then here we want to get read  \n",
    "# those letters line by line means you got the data of perticularly first line or second if you would run it another time\n",
    "# then we will use here readline() fun---\n",
    "\n",
    "#but apko na to readline use krni h na he wo jisme hm argument dete h read fun m ....we only use read fun cz isme hm jitni line\n",
    "# chahe utni read kr skte h ."
   ]
  },
  {
   "cell_type": "code",
   "execution_count": 13,
   "id": "37726466",
   "metadata": {},
   "outputs": [
    {
     "name": "stdout",
     "output_type": "stream",
     "text": [
      "enter a file name :aa.txt\n",
      "hello\n",
      "\n"
     ]
    }
   ],
   "source": [
    "path=\"C:\\\\Users\\\\HZT\\\\Documents\\\\aa\\\\\"\n",
    "fname=input(\"enter a file name :\")\n",
    "try:\n",
    "    f=open(path+fname,\"r\")\n",
    "#     data=f.read(5)\n",
    "    data=f.readline()\n",
    "    print(data)\n",
    "    f.close()\n",
    "except FileNotFoundError:\n",
    "    print(\"file not exist\")\n",
    "except Exception as e:\n",
    "    print(e)\n",
    "    print(type(e))"
   ]
  },
  {
   "cell_type": "code",
   "execution_count": 17,
   "id": "935ac76d",
   "metadata": {},
   "outputs": [
    {
     "ename": "SyntaxError",
     "evalue": "invalid syntax (Temp/ipykernel_5196/2970714818.py, line 6)",
     "output_type": "error",
     "traceback": [
      "\u001b[1;36m  File \u001b[1;32m\"C:\\Users\\HZT\\AppData\\Local\\Temp/ipykernel_5196/2970714818.py\"\u001b[1;36m, line \u001b[1;32m6\u001b[0m\n\u001b[1;33m    print(type{data})\u001b[0m\n\u001b[1;37m              ^\u001b[0m\n\u001b[1;31mSyntaxError\u001b[0m\u001b[1;31m:\u001b[0m invalid syntax\n"
     ]
    }
   ],
   "source": [
    "path=\"C:\\\\Users\\\\HZT\\\\Documents\\\\aa\\\\\"\n",
    "fname=input(\"enter a file name :\")\n",
    "try:\n",
    "    f=open(path+fname,\"r\")\n",
    "    data=f.read()\n",
    "    print(data)\n",
    "    f.close()\n",
    "except FileNotFoundError:\n",
    "    print(\"file not exist\")\n",
    "except Exception as e:\n",
    "    print(e)\n",
    "    print(type(e))"
   ]
  },
  {
   "cell_type": "markdown",
   "id": "b7c5a02a",
   "metadata": {},
   "source": [
    "# CLASS_02"
   ]
  },
  {
   "cell_type": "code",
   "execution_count": 18,
   "id": "fea6f76c",
   "metadata": {},
   "outputs": [
    {
     "name": "stdout",
     "output_type": "stream",
     "text": [
      "enter a file name :a2.txt\n"
     ]
    },
    {
     "ename": "AttributeError",
     "evalue": "'NoneType' object has no attribute 'close'",
     "output_type": "error",
     "traceback": [
      "\u001b[1;31m---------------------------------------------------------------------------\u001b[0m",
      "\u001b[1;31mFileExistsError\u001b[0m                           Traceback (most recent call last)",
      "\u001b[1;32m~\\AppData\\Local\\Temp/ipykernel_5196/3406318637.py\u001b[0m in \u001b[0;36m<module>\u001b[1;34m\u001b[0m\n\u001b[0;32m      4\u001b[0m     \u001b[0mfname\u001b[0m\u001b[1;33m=\u001b[0m\u001b[0minput\u001b[0m\u001b[1;33m(\u001b[0m\u001b[1;34m\"enter a file name :\"\u001b[0m\u001b[1;33m)\u001b[0m\u001b[1;33m\u001b[0m\u001b[1;33m\u001b[0m\u001b[0m\n\u001b[1;32m----> 5\u001b[1;33m     \u001b[0mf\u001b[0m\u001b[1;33m=\u001b[0m\u001b[0mopen\u001b[0m\u001b[1;33m(\u001b[0m\u001b[0mpath\u001b[0m\u001b[1;33m+\u001b[0m\u001b[0mfname\u001b[0m\u001b[1;33m,\u001b[0m\u001b[1;34m\"x\"\u001b[0m\u001b[1;33m)\u001b[0m\u001b[1;33m\u001b[0m\u001b[1;33m\u001b[0m\u001b[0m\n\u001b[0m\u001b[0;32m      6\u001b[0m     \u001b[0mf\u001b[0m\u001b[1;33m=\u001b[0m\u001b[0mopen\u001b[0m\u001b[1;33m(\u001b[0m\u001b[0mpath\u001b[0m\u001b[1;33m+\u001b[0m\u001b[0mfname\u001b[0m\u001b[1;33m,\u001b[0m\u001b[1;34m\"w\"\u001b[0m\u001b[1;33m)\u001b[0m\u001b[1;33m\u001b[0m\u001b[1;33m\u001b[0m\u001b[0m\n",
      "\u001b[1;31mFileExistsError\u001b[0m: [Errno 17] File exists: 'C:\\\\Users\\\\HZT\\\\Documents\\\\aa\\\\a2.txt'",
      "\nDuring handling of the above exception, another exception occurred:\n",
      "\u001b[1;31mNameError\u001b[0m                                 Traceback (most recent call last)",
      "\u001b[1;32m~\\AppData\\Local\\Temp/ipykernel_5196/3406318637.py\u001b[0m in \u001b[0;36m<module>\u001b[1;34m\u001b[0m\n\u001b[0;32m      9\u001b[0m     \u001b[0mprint\u001b[0m\u001b[1;33m(\u001b[0m\u001b[1;34m\"done........\"\u001b[0m\u001b[1;33m)\u001b[0m\u001b[1;33m\u001b[0m\u001b[1;33m\u001b[0m\u001b[0m\n\u001b[1;32m---> 10\u001b[1;33m \u001b[1;32mexcept\u001b[0m \u001b[0mFileExistError\u001b[0m\u001b[1;33m:\u001b[0m\u001b[1;33m\u001b[0m\u001b[1;33m\u001b[0m\u001b[0m\n\u001b[0m\u001b[0;32m     11\u001b[0m     \u001b[0mf\u001b[0m\u001b[1;33m=\u001b[0m\u001b[0mopen\u001b[0m\u001b[1;33m(\u001b[0m\u001b[0mpath\u001b[0m\u001b[1;33m+\u001b[0m\u001b[0mfname\u001b[0m\u001b[1;33m,\u001b[0m\u001b[1;34m\"r\"\u001b[0m\u001b[1;33m)\u001b[0m\u001b[1;33m\u001b[0m\u001b[1;33m\u001b[0m\u001b[0m\n",
      "\u001b[1;31mNameError\u001b[0m: name 'FileExistError' is not defined",
      "\nDuring handling of the above exception, another exception occurred:\n",
      "\u001b[1;31mAttributeError\u001b[0m                            Traceback (most recent call last)",
      "\u001b[1;32m~\\AppData\\Local\\Temp/ipykernel_5196/3406318637.py\u001b[0m in \u001b[0;36m<module>\u001b[1;34m\u001b[0m\n\u001b[0;32m     16\u001b[0m     \u001b[0mprint\u001b[0m\u001b[1;33m(\u001b[0m\u001b[0mtype\u001b[0m\u001b[1;33m(\u001b[0m\u001b[0me\u001b[0m\u001b[1;33m)\u001b[0m\u001b[1;33m)\u001b[0m\u001b[1;33m\u001b[0m\u001b[1;33m\u001b[0m\u001b[0m\n\u001b[0;32m     17\u001b[0m \u001b[1;32mfinally\u001b[0m\u001b[1;33m:\u001b[0m\u001b[1;33m\u001b[0m\u001b[1;33m\u001b[0m\u001b[0m\n\u001b[1;32m---> 18\u001b[1;33m     \u001b[0mf\u001b[0m\u001b[1;33m.\u001b[0m\u001b[0mclose\u001b[0m\u001b[1;33m(\u001b[0m\u001b[1;33m)\u001b[0m\u001b[1;33m\u001b[0m\u001b[1;33m\u001b[0m\u001b[0m\n\u001b[0m\u001b[0;32m     19\u001b[0m \u001b[1;33m\u001b[0m\u001b[0m\n",
      "\u001b[1;31mAttributeError\u001b[0m: 'NoneType' object has no attribute 'close'"
     ]
    }
   ],
   "source": [
    "f=None\n",
    "try:\n",
    "    path=\"C:\\\\Users\\\\HZT\\\\Documents\\\\aa\\\\\"\n",
    "    fname=input(\"enter a file name :\")\n",
    "    f=open(path+fname,\"x\")\n",
    "    f=open(path+fname,\"w\")\n",
    "    data=input(\"enter file dta :\")\n",
    "    f.write(data)\n",
    "    print(\"done........\")\n",
    "except FileExistError:\n",
    "    f=open(path+fname,\"r\")\n",
    "    data=f.read()\n",
    "    print(data)\n",
    "except Exception as e:\n",
    "    print(e)\n",
    "    print(type(e))\n",
    "finally:\n",
    "    f.close()\n",
    "    "
   ]
  },
  {
   "cell_type": "code",
   "execution_count": null,
   "id": "7759f67a",
   "metadata": {},
   "outputs": [],
   "source": []
  }
 ],
 "metadata": {
  "kernelspec": {
   "display_name": "Python 3 (ipykernel)",
   "language": "python",
   "name": "python3"
  },
  "language_info": {
   "codemirror_mode": {
    "name": "ipython",
    "version": 3
   },
   "file_extension": ".py",
   "mimetype": "text/x-python",
   "name": "python",
   "nbconvert_exporter": "python",
   "pygments_lexer": "ipython3",
   "version": "3.9.7"
  }
 },
 "nbformat": 4,
 "nbformat_minor": 5
}
