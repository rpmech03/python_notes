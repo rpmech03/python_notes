{
 "cells": [
  {
   "cell_type": "code",
   "execution_count": 1,
   "id": "358dade1",
   "metadata": {},
   "outputs": [
    {
     "name": "stdout",
     "output_type": "stream",
     "text": [
      "roll 101\n",
      "name ajay\n",
      "marks [98, 78, 99, 79, 68]\n",
      "roll 102\n",
      "name jay\n",
      "marks [88, 68, 69, 79, 78]\n",
      "roll 103\n",
      "name jaya\n",
      "marks [48, 58, 59, 69, 68]\n"
     ]
    }
   ],
   "source": [
    "s1={\n",
    "    'roll':101,\n",
    "    'name':'ajay',\n",
    "    'marks':[98,78,99,79,68]\n",
    "}\n",
    "s2={\n",
    "    'roll':102,\n",
    "    'name':'jay',\n",
    "    'marks':[88,68,69,79,78]\n",
    "}\n",
    "s3={\n",
    "    'roll':103,\n",
    "    'name':'jaya',\n",
    "    'marks':[48,58,59,69,68]\n",
    "}\n",
    "s=[s1,s2,s3]\n",
    "for n in s:\n",
    "    for i,j in n.items():\n",
    "        print(i,j)"
   ]
  },
  {
   "cell_type": "code",
   "execution_count": 2,
   "id": "ad3632f9",
   "metadata": {},
   "outputs": [
    {
     "name": "stdout",
     "output_type": "stream",
     "text": [
      "roll 101\n",
      "name ajay\n",
      "marks \n",
      "result is 84.4\n",
      "roll 102\n",
      "name jay\n",
      "marks \n",
      "result is 76.4\n",
      "roll 103\n",
      "name jaya\n",
      "marks \n",
      "result is 60.4\n"
     ]
    }
   ],
   "source": [
    "s1={\n",
    "    'roll':101,\n",
    "    'name':'ajay',\n",
    "    'marks':[98,78,99,79,68]\n",
    "}\n",
    "s2={\n",
    "    'roll':102,\n",
    "    'name':'jay',\n",
    "    'marks':[88,68,69,79,78]\n",
    "}\n",
    "s3={\n",
    "    'roll':103,\n",
    "    'name':'jaya',\n",
    "    'marks':[48,58,59,69,68]\n",
    "}\n",
    "s=[s1,s2,s3]\n",
    "for n in s:\n",
    "    for i,j in n.items():\n",
    "        if i=='marks' :\n",
    "            r=0\n",
    "            print(i,end=\" \")\n",
    "            for t in j:\n",
    "                r=r+t\n",
    "            print(\"\\nresult is\",r/len(j))\n",
    "        else:\n",
    "            print(i,j)\n",
    "       \n"
   ]
  },
  {
   "cell_type": "code",
   "execution_count": 3,
   "id": "8fb6fd11",
   "metadata": {},
   "outputs": [
    {
     "name": "stdout",
     "output_type": "stream",
     "text": [
      "roll 101\n",
      "name ajay\n",
      "c 98\n",
      "c++ 78\n",
      "java 99\n",
      "python 79\n",
      "oracle 68\n"
     ]
    }
   ],
   "source": [
    "languages = ['c','c++','java','python','oracle']\n",
    "s={\n",
    "    'roll':101,\n",
    "    'name':'ajay',\n",
    "    'marks':[98,78,99,79,68]\n",
    "}\n",
    "for i,j in s.items():\n",
    "    if i=='marks':\n",
    "        for x,y in zip(languages,j):\n",
    "            print(x,y)\n",
    "    else:\n",
    "        print(i,j)"
   ]
  },
  {
   "cell_type": "code",
   "execution_count": null,
   "id": "2bbacbbb",
   "metadata": {},
   "outputs": [],
   "source": []
  }
 ],
 "metadata": {
  "kernelspec": {
   "display_name": "Python 3 (ipykernel)",
   "language": "python",
   "name": "python3"
  },
  "language_info": {
   "codemirror_mode": {
    "name": "ipython",
    "version": 3
   },
   "file_extension": ".py",
   "mimetype": "text/x-python",
   "name": "python",
   "nbconvert_exporter": "python",
   "pygments_lexer": "ipython3",
   "version": "3.9.7"
  }
 },
 "nbformat": 4,
 "nbformat_minor": 5
}
