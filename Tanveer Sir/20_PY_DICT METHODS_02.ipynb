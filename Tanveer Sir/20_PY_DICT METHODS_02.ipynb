{
 "cells": [
  {
   "cell_type": "code",
   "execution_count": 1,
   "id": "41c101b8",
   "metadata": {},
   "outputs": [
    {
     "name": "stdout",
     "output_type": "stream",
     "text": [
      "{'roll': 101}\n"
     ]
    }
   ],
   "source": [
    "# keys = ['roll','name','fees']\n",
    "a={\n",
    "    'roll': 101,\n",
    "    'name' : 'ajay'\n",
    "}\n",
    "b={}\n",
    "b.setdefault('roll',101)     #Insert key with a value of default if key is not in the dictionary.\n",
    "print(b)\n",
    "\n",
    "\n",
    "# setdefault: this method is used to set a value according to specified key and dictionary but if key already exist in \n",
    "# dictionary then it will do nothing and return value of the existing key."
   ]
  },
  {
   "cell_type": "code",
   "execution_count": 2,
   "id": "1e9d3ed4",
   "metadata": {},
   "outputs": [
    {
     "name": "stdout",
     "output_type": "stream",
     "text": [
      "{'rolls': 101}\n"
     ]
    }
   ],
   "source": [
    "# keys = ['roll','name','fees']\n",
    "a={\n",
    "    'roll': 101,\n",
    "    'name' : 'ajay'\n",
    "}\n",
    "b={}\n",
    "b.setdefault('rolls',101)     #Insert key with a value of default if key is not in the dictionary.\n",
    "print(b)                      # Jo phle se value h use new key ko de diya jata hai.\n"
   ]
  },
  {
   "cell_type": "code",
   "execution_count": 1,
   "id": "0c406ab6",
   "metadata": {},
   "outputs": [
    {
     "name": "stdout",
     "output_type": "stream",
     "text": [
      "{'roll': 101, 'name': 'ajay', 'address': 'indore'}\n"
     ]
    }
   ],
   "source": [
    "keys=['roll','name','fees']\n",
    "a={\n",
    "    'roll':101,\n",
    "    'name':'ajay'\n",
    "}\n",
    "b={'address':'indore'}\n",
    "a.update(b)\n",
    "print(a)\n",
    "\n",
    "# it is used to add another dict elements within a dictionary ."
   ]
  },
  {
   "cell_type": "code",
   "execution_count": 1,
   "id": "017346c3",
   "metadata": {},
   "outputs": [
    {
     "name": "stdout",
     "output_type": "stream",
     "text": [
      "keys by for loop :\n",
      "roll\n",
      "name\n",
      "address\n"
     ]
    }
   ],
   "source": [
    "a={\n",
    "    'roll':101,\n",
    "    'name':'ajay',\n",
    "    'address':'indore'\n",
    "}\n",
    "print(\"keys by for loop :\")\n",
    "for i in a:\n",
    "    print(i)\n",
    "    "
   ]
  },
  {
   "cell_type": "code",
   "execution_count": 2,
   "id": "dda90590",
   "metadata": {},
   "outputs": [
    {
     "name": "stdout",
     "output_type": "stream",
     "text": [
      "values by for loop using index :\n",
      "101\n",
      "ajay\n",
      "indore\n"
     ]
    }
   ],
   "source": [
    "a={\n",
    "    'roll':101,\n",
    "    'name':'ajay',\n",
    "    'address':'indore'\n",
    "}\n",
    "print(\"values by for loop using index :\")\n",
    "for i in a:\n",
    "    print(a[i])"
   ]
  },
  {
   "cell_type": "code",
   "execution_count": 3,
   "id": "0f0a6d9e",
   "metadata": {},
   "outputs": [
    {
     "name": "stdout",
     "output_type": "stream",
     "text": [
      "values by for loop using get method :\n",
      "101\n",
      "ajay\n",
      "indore\n"
     ]
    }
   ],
   "source": [
    "a={\n",
    "    'roll':101,\n",
    "    'name':'ajay',\n",
    "    'address':'indore'\n",
    "}\n",
    "print(\"values by for loop using get method :\")\n",
    "for i in a:\n",
    "    print(a.get(i))"
   ]
  },
  {
   "cell_type": "code",
   "execution_count": 7,
   "id": "f6059895",
   "metadata": {},
   "outputs": [
    {
     "name": "stdout",
     "output_type": "stream",
     "text": [
      "keys by keys method \n",
      "roll\n",
      "name\n",
      "address\n"
     ]
    }
   ],
   "source": [
    "a={\n",
    "    'roll':101,\n",
    "    'name':'ajay',\n",
    "    'address':'indore'\n",
    "}\n",
    "print(\"keys by keys method \")\n",
    "for i in a.keys():\n",
    "    print(i)\n",
    "    \n",
    "# Keys method return list of keys from dictionary."
   ]
  },
  {
   "cell_type": "code",
   "execution_count": 8,
   "id": "e745afba",
   "metadata": {},
   "outputs": [
    {
     "name": "stdout",
     "output_type": "stream",
     "text": [
      "values by values method \n",
      "101\n",
      "ajay\n",
      "indore\n"
     ]
    }
   ],
   "source": [
    "a={\n",
    "    'roll':101,\n",
    "    'name':'ajay',\n",
    "    'address':'indore'\n",
    "}\n",
    "print(\"values by values method \")\n",
    "for i in a.values():\n",
    "    print(i)"
   ]
  },
  {
   "cell_type": "code",
   "execution_count": 5,
   "id": "8ca570f4",
   "metadata": {},
   "outputs": [
    {
     "name": "stdout",
     "output_type": "stream",
     "text": [
      "enter number of entry3\n",
      "enter detail for entry 1\n",
      "enter key :roll\n",
      "enter value :101\n",
      "enter detail for entry 2\n",
      "enter key :name\n",
      "enter value :ajay\n",
      "enter detail for entry 3\n",
      "enter key :address\n",
      "enter value :indore\n",
      "{'roll': '101', 'name': 'ajay', 'address': 'indore'}\n"
     ]
    }
   ],
   "source": [
    "a={}\n",
    "e=int(input(\"enter number of entry\"))\n",
    "for i in range(1,e+1):\n",
    "    print(\"enter detail for entry\",i)\n",
    "    k=input(\"enter key :\")\n",
    "    v=input(\"enter value :\")\n",
    "    a.update({k:v})\n",
    "print(a)"
   ]
  },
  {
   "cell_type": "code",
   "execution_count": 9,
   "id": "d06fe901",
   "metadata": {},
   "outputs": [
    {
     "name": "stdout",
     "output_type": "stream",
     "text": [
      "enter number of entry2\n",
      "enter detail for entry 1\n",
      "enter key :101\n",
      "enter type of value102\n",
      "enter value :102\n",
      "enter detail for entry 2\n",
      "enter key :102\n",
      "enter type of value122\n",
      "enter value :12\n",
      "{'101': '102', '102': '12'}\n"
     ]
    }
   ],
   "source": [
    "a={}\n",
    "e=int(input(\"enter number of entry\"))\n",
    "for i in range(1,e+1):\n",
    "    print(\"enter detail for entry\",i)\n",
    "    k=input(\"enter key :\")\n",
    "    t=input(\"enter type of value\")\n",
    "    v=input(\"enter value :\")\n",
    "    if t==\"int\":\n",
    "        v=int(v)\n",
    "    a.update({k:v})\n",
    "print(a)"
   ]
  },
  {
   "cell_type": "markdown",
   "id": "1b20be19",
   "metadata": {},
   "source": []
  },
  {
   "cell_type": "code",
   "execution_count": null,
   "id": "c6ee4519",
   "metadata": {},
   "outputs": [],
   "source": []
  },
  {
   "cell_type": "code",
   "execution_count": null,
   "id": "108f5d78",
   "metadata": {},
   "outputs": [],
   "source": []
  }
 ],
 "metadata": {
  "kernelspec": {
   "display_name": "Python 3 (ipykernel)",
   "language": "python",
   "name": "python3"
  },
  "language_info": {
   "codemirror_mode": {
    "name": "ipython",
    "version": 3
   },
   "file_extension": ".py",
   "mimetype": "text/x-python",
   "name": "python",
   "nbconvert_exporter": "python",
   "pygments_lexer": "ipython3",
   "version": "3.9.7"
  }
 },
 "nbformat": 4,
 "nbformat_minor": 5
}
