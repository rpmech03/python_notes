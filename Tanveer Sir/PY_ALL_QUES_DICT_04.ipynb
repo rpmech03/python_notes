{
 "cells": [
  {
   "cell_type": "code",
   "execution_count": 2,
   "id": "c8f68b29",
   "metadata": {},
   "outputs": [
    {
     "name": "stdout",
     "output_type": "stream",
     "text": [
      "{'roll': 101, 'name': 'jay', 'mobile': 9643837, 'reference': 'jay'}\n"
     ]
    }
   ],
   "source": [
    "a={                   \n",
    "     'roll': 101,      \n",
    "    'name': 'ajay',   \n",
    "    'mobile': 9643837,\n",
    "    'name' :'jay',     \n",
    "    'reference':'jay'\n",
    "}\n",
    "print(a)\n",
    "\n",
    "\n",
    "#yha key always unique rhegi n values can be duplicate but hmne yha do same key di h so wo last wali lega.\n",
    "# We will represent indexes of dictionary by their keys.\n",
    "#ajay islye print nh hua cz usko replace kr diya jay wali key ne.\n",
    "#yha key unique h it shows by name print hua h last wala n 1st wale ko replace kr diya h.\n",
    "#values can be duplicate which is shown by reference ."
   ]
  },
  {
   "cell_type": "markdown",
   "id": "28448c4e",
   "metadata": {},
   "source": [
    "# Sort Dictionary By Key in Python"
   ]
  },
  {
   "cell_type": "code",
   "execution_count": 3,
   "id": "85ce22d4",
   "metadata": {},
   "outputs": [
    {
     "data": {
      "text/plain": [
       "{'rajnish': 9, 'ravi': 10, 'sanjeev': 15, 'suraj': 32, 'yash': 2}"
      ]
     },
     "execution_count": 3,
     "metadata": {},
     "output_type": "execute_result"
    }
   ],
   "source": [
    "d = {'ravi': 10, 'rajnish': 9,'sanjeev': 15, 'yash': 2, 'suraj': 32}\n",
    "a=list(d.keys())\n",
    "a.sort()\n",
    "b={i:d[i] for i in a}\n",
    "b    "
   ]
  },
  {
   "cell_type": "code",
   "execution_count": 4,
   "id": "b6ba17d8",
   "metadata": {},
   "outputs": [
    {
     "name": "stdout",
     "output_type": "stream",
     "text": [
      "101\n",
      "{'roll': 101, 'name': 'jay', 'mobile': 9643837, 'reference': 'jay'}\n"
     ]
    }
   ],
   "source": [
    "a={                  #ise indexed based collection islye nh kha jata h cz hm yha ise index se represent nh krte h,yha hm \n",
    "'roll': 101,         #represent krte h by keys like hme print krna h a ka roll no so hm directly likh dege wha.\n",
    "'name': 'ajay',\n",
    " 'mobile': 9643837,\n",
    "'name' :'jay', \n",
    "'reference':'jay'\n",
    "}\n",
    "print(a['roll'])\n",
    "print(a)"
   ]
  },
  {
   "cell_type": "code",
   "execution_count": 5,
   "id": "039713ee",
   "metadata": {},
   "outputs": [
    {
     "ename": "SyntaxError",
     "evalue": "invalid syntax (Temp/ipykernel_1820/13629495.py, line 5)",
     "output_type": "error",
     "traceback": [
      "\u001b[1;36m  File \u001b[1;32m\"C:\\Users\\HZT\\AppData\\Local\\Temp/ipykernel_1820/13629495.py\"\u001b[1;36m, line \u001b[1;32m5\u001b[0m\n\u001b[1;33m    'name' :'jay',\u001b[0m\n\u001b[1;37m    ^\u001b[0m\n\u001b[1;31mSyntaxError\u001b[0m\u001b[1;31m:\u001b[0m invalid syntax\n"
     ]
    }
   ],
   "source": [
    "a={\n",
    "'roll': 101,\n",
    "'name': 'ajay',\n",
    " 'mobile': 9643837\n",
    "'name' :'jay', \n",
    "'reference':'jay'\n",
    "}\n",
    "print(a.roll)     #a.roll ye javascript m work krta h but yha python m nh krega.\n",
    "print(a)"
   ]
  },
  {
   "cell_type": "code",
   "execution_count": 37,
   "id": "17446e92",
   "metadata": {},
   "outputs": [
    {
     "name": "stdout",
     "output_type": "stream",
     "text": [
      "101\n",
      "{'roll': 105, 'name': 'jay', 'mobile': 9643837, 'reference': 'jay'}\n"
     ]
    }
   ],
   "source": [
    "a={\n",
    "'roll': 101,\n",
    "'name': 'ajay',\n",
    " 'mobile': 9643837,\n",
    "'name' :'jay', \n",
    "'reference':'jay'\n",
    "}\n",
    "print(a['roll'])\n",
    "a['roll']=105       #We can also update the dictionary you can see we updated here roll no.\n",
    "print(a)"
   ]
  },
  {
   "cell_type": "code",
   "execution_count": 38,
   "id": "3a033e7e",
   "metadata": {},
   "outputs": [
    {
     "name": "stdout",
     "output_type": "stream",
     "text": [
      "{'name': None, 'email': None, 'pwd': None}\n"
     ]
    }
   ],
   "source": [
    "b={}                    #is list ke according ek dictionary create krni h so kse krege uske liye fromkeys ka use krege n ek\n",
    "a=[\"name\",\"email\",\"pwd\"]    # empty dict create krege n agr isme none ki jgh kch or rkhna ho to hm (a,0)rkh dege.\n",
    "b=b.fromkeys(a)\n",
    "print(b)"
   ]
  },
  {
   "cell_type": "code",
   "execution_count": 39,
   "id": "fcec202f",
   "metadata": {},
   "outputs": [
    {
     "name": "stdout",
     "output_type": "stream",
     "text": [
      "{'name': 0, 'email': 0, 'pwd': 0}\n"
     ]
    }
   ],
   "source": [
    "b={} \n",
    "a=[\"name\",\"email\",\"pwd\"]\n",
    "b=b.fromkeys(a,0)\n",
    "print(b)"
   ]
  },
  {
   "cell_type": "code",
   "execution_count": 40,
   "id": "3626c102",
   "metadata": {},
   "outputs": [
    {
     "name": "stdout",
     "output_type": "stream",
     "text": [
      "enter number of entry2\n",
      "enter detail for entry 1\n",
      "enter key :1\n",
      "enter value :2\n",
      "enter detail for entry 2\n",
      "enter key :3\n",
      "enter value :4\n",
      "{'1': '2', '3': '4'}\n"
     ]
    }
   ],
   "source": [
    "a={}\n",
    "e=int(input(\"enter number of entry\"))\n",
    "for i in range(1,e+1):\n",
    "    print(\"enter detail for entry\",i)\n",
    "    k=input(\"enter key :\")\n",
    "    v=input(\"enter value :\")\n",
    "    a.update({k:v})\n",
    "print(a)"
   ]
  },
  {
   "cell_type": "code",
   "execution_count": null,
   "id": "24d06ab7",
   "metadata": {},
   "outputs": [],
   "source": [
    "a={}\n",
    "e=int(input(\"enter number of entry\"))\n",
    "for i in range(1,e+1):\n",
    "    print(\"enter detail for entry\",i)\n",
    "    k=input(\"enter key :\")\n",
    "    t=input(\"enter type of value\")\n",
    "    v=input(\"enter value :\")\n",
    "    if t==\"int\":\n",
    "        v=int(v)\n",
    "    a.update({k:v})\n",
    "print(a)"
   ]
  },
  {
   "cell_type": "code",
   "execution_count": null,
   "id": "d8d2e8e8",
   "metadata": {},
   "outputs": [],
   "source": [
    "a={\n",
    "    'roll':101,\n",
    "    'name':'raka',\n",
    "    'address':'zambada',\n",
    "    'marks':[100,99,99,99,99]\n",
    "}\n",
    "for i,j in a.items():\n",
    "    if i=='marks' :\n",
    "        print(i,end=\" \")\n",
    "        r=0\n",
    "        for t in j:\n",
    "            print(t,end=\" \")\n",
    "            r=r+t\n",
    "        print(\"\\nresult is\",r/len(j))\n",
    "    else:\n",
    "        print(i,j)\n",
    "    "
   ]
  },
  {
   "cell_type": "code",
   "execution_count": 6,
   "id": "006e39ff",
   "metadata": {},
   "outputs": [
    {
     "name": "stdout",
     "output_type": "stream",
     "text": [
      "roll 101\n",
      "name raka\n",
      "address zambada road Amla mp "
     ]
    }
   ],
   "source": [
    "a={\n",
    "    'roll':101,\n",
    "    'name':'raka',\n",
    "    'address':{'street':'zambada road',\n",
    "              'city':'Amla',\n",
    "              'state':'mp'}\n",
    "}\n",
    "for i,j in a.items():\n",
    "    if type(j)==dict:\n",
    "        print(i,end=\" \")\n",
    "        for t in j.values():\n",
    "            print(t,end=\" \")\n",
    "    else:\n",
    "        print(i,j)"
   ]
  },
  {
   "cell_type": "code",
   "execution_count": 7,
   "id": "37d09930",
   "metadata": {},
   "outputs": [
    {
     "name": "stdout",
     "output_type": "stream",
     "text": [
      "roll 101\n",
      "name raka\n",
      "address street city state "
     ]
    }
   ],
   "source": [
    "a={\n",
    "    'roll':101,\n",
    "    'name':'raka',\n",
    "    'address':{'street':'zambada road',\n",
    "              'city':'Amla',\n",
    "              'state':'mp'}\n",
    "}\n",
    "for i,j in a.items():\n",
    "    if type(j)==dict:\n",
    "        print(i,end=\" \")\n",
    "        for t in j:\n",
    "            print(t,end=\" \")\n",
    "    else:\n",
    "        print(i,j)\n",
    "        \n",
    "# values ko hta de 2nd loop m se to only keys print hogi."
   ]
  },
  {
   "cell_type": "code",
   "execution_count": 8,
   "id": "c8bb0515",
   "metadata": {},
   "outputs": [
    {
     "name": "stdout",
     "output_type": "stream",
     "text": [
      "{'student1': {'roll': 101, 'name': 'jay', 'address': 'Indore'}, 'student2': {'roll': 102, 'name': 'ajay', 'address': 'Ujjain'}, 'student3': {'roll': 103, 'name': 'jaya', 'address': 'Bhopal'}}\n"
     ]
    }
   ],
   "source": [
    "s1={\n",
    "    'roll':101,\n",
    "    'name':'jay',\n",
    "    'address':'Indore'\n",
    "}\n",
    "s2={\n",
    "    'roll':102,\n",
    "    'name':'ajay',\n",
    "    'address':'Ujjain'\n",
    "}\n",
    "s3={\n",
    "    'roll':103,\n",
    "    'name':'jaya',\n",
    "    'address':'Bhopal'\n",
    "}\n",
    "s={\n",
    "    'student1':s1,\n",
    "    'student2':s2,\n",
    "    'student3':s3\n",
    "}\n",
    "print(s)\n"
   ]
  },
  {
   "cell_type": "code",
   "execution_count": 9,
   "id": "48063266",
   "metadata": {},
   "outputs": [
    {
     "name": "stdout",
     "output_type": "stream",
     "text": [
      "student1 :\n",
      "roll : 101\n",
      "name : jay\n",
      "address : Indore\n",
      "student2 :\n",
      "roll : 102\n",
      "name : ajay\n",
      "address : Ujjain\n",
      "student3 :\n",
      "roll : 103\n",
      "name : jaya\n",
      "address : Bhopal\n"
     ]
    }
   ],
   "source": [
    "s1={\n",
    "    'roll':101,\n",
    "    'name':'jay',\n",
    "    'address':'Indore'\n",
    "}\n",
    "s2={\n",
    "    'roll':102,\n",
    "    'name':'ajay',\n",
    "    'address':'Ujjain'\n",
    "}\n",
    "s3={\n",
    "    'roll':103,\n",
    "    'name':'jaya',\n",
    "    'address':'Bhopal'\n",
    "}\n",
    "s={\n",
    "    'student1':s1,\n",
    "    'student2':s2,\n",
    "    'student3':s3\n",
    "}\n",
    "for i,j in s.items():\n",
    "    print(i,':')\n",
    "    for k,v in j.items():\n",
    "        print(k,':',v)\n"
   ]
  },
  {
   "cell_type": "code",
   "execution_count": 10,
   "id": "0484ea3b",
   "metadata": {},
   "outputs": [
    {
     "name": "stdout",
     "output_type": "stream",
     "text": [
      "student1\n",
      "roll 101\n",
      "name jay\n",
      "address Indore\n",
      "student2\n",
      "roll 102\n",
      "name ajay\n",
      "address Ujjain\n",
      "student3\n",
      "roll 103\n",
      "name jaya\n",
      "address Bhopal\n"
     ]
    }
   ],
   "source": [
    "# doing same thing but above process better to use.\n",
    "s={\n",
    "    'student1':{\n",
    "    'roll':101,\n",
    "    'name':'jay',\n",
    "    'address':'Indore'\n",
    "},\n",
    "    'student2':{\n",
    "    'roll':102,\n",
    "    'name':'ajay',\n",
    "    'address':'Ujjain'\n",
    "},\n",
    "    'student3':{\n",
    "    'roll':103,\n",
    "    'name':'jaya',\n",
    "    'address':'Bhopal'\n",
    "}\n",
    "}\n",
    "for i,j in s.items():\n",
    "    print(i)\n",
    "    for k,v in j.items():\n",
    "        print(k,v)\n"
   ]
  },
  {
   "cell_type": "code",
   "execution_count": 11,
   "id": "15c7acbd",
   "metadata": {},
   "outputs": [
    {
     "name": "stdout",
     "output_type": "stream",
     "text": [
      "roll 101\n",
      "name ajay\n",
      "marks [98, 78, 99, 79, 68]\n",
      "roll 102\n",
      "name jay\n",
      "marks [88, 68, 69, 79, 78]\n",
      "roll 103\n",
      "name jaya\n",
      "marks [48, 58, 59, 69, 68]\n"
     ]
    }
   ],
   "source": [
    "s1={\n",
    "    'roll':101,\n",
    "    'name':'ajay',\n",
    "    'marks':[98,78,99,79,68]\n",
    "}\n",
    "s2={\n",
    "    'roll':102,\n",
    "    'name':'jay',\n",
    "    'marks':[88,68,69,79,78]\n",
    "}\n",
    "s3={\n",
    "    'roll':103,\n",
    "    'name':'jaya',\n",
    "    'marks':[48,58,59,69,68]\n",
    "}\n",
    "s=[s1,s2,s3]\n",
    "for n in s:\n",
    "    for i,j in n.items():\n",
    "        print(i,j)"
   ]
  },
  {
   "cell_type": "code",
   "execution_count": 12,
   "id": "5a733f62",
   "metadata": {},
   "outputs": [
    {
     "name": "stdout",
     "output_type": "stream",
     "text": [
      "student1 :\n",
      "roll 101\n",
      "name ajay\n",
      "marks [98, 78, 99, 79, 68]\n",
      "student2 :\n",
      "roll 102\n",
      "name jay\n",
      "marks [88, 68, 69, 79, 78]\n",
      "student3 :\n",
      "roll 103\n",
      "name jaya\n",
      "marks [48, 58, 59, 69, 68]\n"
     ]
    }
   ],
   "source": [
    "s1={\n",
    "    'roll':101,\n",
    "    'name':'ajay',\n",
    "    'marks':[98,78,99,79,68]\n",
    "}\n",
    "s2={\n",
    "    'roll':102,\n",
    "    'name':'jay',\n",
    "    'marks':[88,68,69,79,78]\n",
    "}\n",
    "s3={\n",
    "    'roll':103,\n",
    "    'name':'jaya',\n",
    "    'marks':[48,58,59,69,68]\n",
    "}\n",
    "s={\n",
    "    'student1':s1,\n",
    "    'student2':s2,\n",
    "    'student3':s3\n",
    "}\n",
    "for i,j in s.items():\n",
    "    print(i,':')\n",
    "    for k,v in j.items():\n",
    "        print(k,v)"
   ]
  },
  {
   "cell_type": "code",
   "execution_count": 13,
   "id": "6033b0ce",
   "metadata": {},
   "outputs": [
    {
     "name": "stdout",
     "output_type": "stream",
     "text": [
      "roll 101\n",
      "name ajay\n",
      "marks \n",
      "result is 84.4\n",
      "roll 102\n",
      "name jay\n",
      "marks \n",
      "result is 76.4\n",
      "roll 103\n",
      "name jaya\n",
      "marks \n",
      "result is 60.4\n"
     ]
    }
   ],
   "source": [
    "s1={\n",
    "    'roll':101,\n",
    "    'name':'ajay',\n",
    "    'marks':[98,78,99,79,68]\n",
    "}\n",
    "s2={\n",
    "    'roll':102,\n",
    "    'name':'jay',\n",
    "    'marks':[88,68,69,79,78]\n",
    "}\n",
    "s3={\n",
    "    'roll':103,\n",
    "    'name':'jaya',\n",
    "    'marks':[48,58,59,69,68]\n",
    "}\n",
    "s=[s1,s2,s3]\n",
    "for n in s:\n",
    "    for i,j in n.items():\n",
    "        if i=='marks' :\n",
    "            r=0\n",
    "            print(i,end=\" \")\n",
    "            for t in j:\n",
    "                r=r+t\n",
    "            print(\"\\nresult is\",r/len(j))\n",
    "        else:\n",
    "            print(i,j)\n",
    "       \n"
   ]
  },
  {
   "cell_type": "code",
   "execution_count": 14,
   "id": "bd429d76",
   "metadata": {},
   "outputs": [
    {
     "name": "stdout",
     "output_type": "stream",
     "text": [
      "roll 101\n",
      "name ajay\n",
      "c 98\n",
      "c++ 78\n",
      "java 99\n",
      "python 79\n",
      "oracle 68\n"
     ]
    }
   ],
   "source": [
    "languages = ['c','c++','java','python','oracle']\n",
    "s={\n",
    "    'roll':101,\n",
    "    'name':'ajay',\n",
    "    'marks':[98,78,99,79,68]\n",
    "}\n",
    "for i,j in s.items():\n",
    "    if i=='marks':\n",
    "        for x,y in zip(languages,j):\n",
    "            print(x,y)\n",
    "    else:\n",
    "        print(i,j)"
   ]
  },
  {
   "cell_type": "code",
   "execution_count": 15,
   "id": "c9745b29",
   "metadata": {},
   "outputs": [
    {
     "name": "stdout",
     "output_type": "stream",
     "text": [
      "before deletion of dict {'roll': 101, 'name': 'ajay'}\n",
      "after deletion of dict {'name': 'ajay'}\n"
     ]
    }
   ],
   "source": [
    "a={\n",
    "    'roll':101,\n",
    "    'name': 'ajay'\n",
    "}\n",
    "print('before deletion of dict',a)\n",
    "del a['roll']\n",
    "print('after deletion of dict',a)              "
   ]
  },
  {
   "cell_type": "code",
   "execution_count": 16,
   "id": "9fc1b6ca",
   "metadata": {},
   "outputs": [],
   "source": [
    "# How to remove items from a dictionary\n",
    "# We can use the following methods to remove items from a dictionary in Python:\n",
    "\n",
    "# The del keyword\n",
    "# The clear() method\n",
    "# The pop() method\n",
    "# The popitem() method"
   ]
  },
  {
   "cell_type": "code",
   "execution_count": 17,
   "id": "9a4f529b",
   "metadata": {},
   "outputs": [
    {
     "name": "stdout",
     "output_type": "stream",
     "text": [
      "{}\n"
     ]
    }
   ],
   "source": [
    "countries={\"Ghana\": \"Accra\", \"China\": \"Beijing\"}\n",
    "# using the clear() method\n",
    "countries.clear()\n",
    "print(countries)"
   ]
  },
  {
   "cell_type": "code",
   "execution_count": 18,
   "id": "89b6e694",
   "metadata": {},
   "outputs": [
    {
     "name": "stdout",
     "output_type": "stream",
     "text": [
      "{'Ghana': 'Accra'}\n"
     ]
    }
   ],
   "source": [
    "countries={\"Ghana\": \"Accra\", \"China\": \"Beijing\"}\n",
    "# using the pop() method\n",
    "countries.pop(\"China\")\n",
    "print(countries)"
   ]
  },
  {
   "cell_type": "code",
   "execution_count": 19,
   "id": "a79f6102",
   "metadata": {},
   "outputs": [
    {
     "name": "stdout",
     "output_type": "stream",
     "text": [
      "{'Ghana': 'Accra'}\n"
     ]
    }
   ],
   "source": [
    "countries={\"Ghana\": \"Accra\", \"China\": \"Beijing\"}\n",
    "# using the clear() method\n",
    "countries.popitem()\n",
    "print(countries)"
   ]
  },
  {
   "cell_type": "code",
   "execution_count": 20,
   "id": "34fd5fb3",
   "metadata": {},
   "outputs": [
    {
     "name": "stdout",
     "output_type": "stream",
     "text": [
      "Sum : 600\n"
     ]
    }
   ],
   "source": [
    "# Python3 Program to find sum of\n",
    "# all items in a Dictionary\n",
    "\n",
    "# Function to print sum\n",
    "\n",
    "\n",
    "def returnSum(myDict):\n",
    "\n",
    "\tlist = []\n",
    "\tfor i in myDict:\n",
    "\t\tlist.append(myDict[i])\n",
    "\tfinal = sum(list)\n",
    "\n",
    "\treturn final\n",
    "\n",
    "\n",
    "# Driver Function\n",
    "dict = {'a': 100, 'b': 200, 'c': 300}\n",
    "print(\"Sum :\", returnSum(dict))\n"
   ]
  },
  {
   "cell_type": "code",
   "execution_count": 21,
   "id": "4ed73667",
   "metadata": {},
   "outputs": [
    {
     "name": "stdout",
     "output_type": "stream",
     "text": [
      "Sum : 600\n"
     ]
    }
   ],
   "source": [
    "# Python3 Program to find sum of\n",
    "# all items in a Dictionary\n",
    "\n",
    "# Function to print sum\n",
    "\n",
    "\n",
    "def returnSum(dict):\n",
    "\n",
    "\tsum = 0\n",
    "\tfor i in dict.values():\n",
    "\t\tsum = sum + i\n",
    "\n",
    "\treturn sum\n",
    "\n",
    "\n",
    "# Driver Function\n",
    "dict = {'a': 100, 'b': 200, 'c': 300}\n",
    "print(\"Sum :\", returnSum(dict))\n"
   ]
  },
  {
   "cell_type": "code",
   "execution_count": 22,
   "id": "edba87d7",
   "metadata": {},
   "outputs": [
    {
     "name": "stdout",
     "output_type": "stream",
     "text": [
      "[2, 4, 6, 8, 10]\n"
     ]
    }
   ],
   "source": [
    "a=[i for i in range(2,11,2)]\n",
    "print(a)"
   ]
  },
  {
   "cell_type": "code",
   "execution_count": 23,
   "id": "ccf121bb",
   "metadata": {},
   "outputs": [
    {
     "name": "stdout",
     "output_type": "stream",
     "text": [
      "[[1, 2, 3], [2, 3, 4], [3, 4, 5]]\n"
     ]
    }
   ],
   "source": [
    "\n",
    "a=[[j for j in range(i,3+i)] for i in range(1,4)]\n",
    "print(a)"
   ]
  },
  {
   "cell_type": "code",
   "execution_count": 24,
   "id": "9976dc9f",
   "metadata": {},
   "outputs": [
    {
     "data": {
      "text/plain": [
       "[[1, 1, 1], [2, 2, 2], [3, 3, 3]]"
      ]
     },
     "execution_count": 24,
     "metadata": {},
     "output_type": "execute_result"
    }
   ],
   "source": [
    "a=[[i for j in range(i,3+i)] for i in range(1,4)]\n",
    "a"
   ]
  },
  {
   "cell_type": "code",
   "execution_count": 25,
   "id": "a184528e",
   "metadata": {},
   "outputs": [
    {
     "name": "stdout",
     "output_type": "stream",
     "text": [
      "[[2, 4, 6], [4, 6, 8], [6, 8, 10]]\n"
     ]
    }
   ],
   "source": [
    "\n",
    "a=[[j*2 for j in range(i,3+i)] for i in range(1,4)]\n",
    "print(a)"
   ]
  },
  {
   "cell_type": "code",
   "execution_count": 26,
   "id": "de85f43c",
   "metadata": {},
   "outputs": [],
   "source": [
    "#set"
   ]
  },
  {
   "cell_type": "code",
   "execution_count": 27,
   "id": "aac7a11f",
   "metadata": {},
   "outputs": [
    {
     "data": {
      "text/plain": [
       "{'Ujjain', 'bhopal', 'dewas', 'indore', 'ujjain'}"
      ]
     },
     "execution_count": 27,
     "metadata": {},
     "output_type": "execute_result"
    }
   ],
   "source": [
    "city=[\"ujjain\",\"dewas\",\"indore\",\"bhopal\",\"ujjain\",\"Ujjain\"]\n",
    "set(city)   #unique things will give'''"
   ]
  },
  {
   "cell_type": "code",
   "execution_count": 28,
   "id": "01aa4f38",
   "metadata": {},
   "outputs": [
    {
     "name": "stdout",
     "output_type": "stream",
     "text": [
      "hello\n",
      "hi\n",
      "namaste\n"
     ]
    }
   ],
   "source": [
    "s=\"hello\\nhi\\nnamaste\"\n",
    "for i in s.splitlines():    #Split a string into a list where each line is a list item.\n",
    "    print(i)                #Return a list of the lines in the string, breaking at line boundaries."
   ]
  },
  {
   "cell_type": "code",
   "execution_count": 29,
   "id": "207aeb5a",
   "metadata": {},
   "outputs": [
    {
     "name": "stdout",
     "output_type": "stream",
     "text": [
      "['hello', 'hi', 'namaste']\n"
     ]
    }
   ],
   "source": [
    "s=\"hello\\nhi\\nnamaste\"\n",
    "x=s.splitlines()\n",
    "print(x)#Return a list of the lines in the string, breaking at line boundaries."
   ]
  },
  {
   "cell_type": "code",
   "execution_count": 30,
   "id": "04033781",
   "metadata": {},
   "outputs": [
    {
     "name": "stdout",
     "output_type": "stream",
     "text": [
      "['Thank you for the music', 'Welcome to the jungle']\n"
     ]
    }
   ],
   "source": [
    "txt = \"Thank you for the music\\nWelcome to the jungle\"\n",
    "\n",
    "x = txt.splitlines()\n",
    "\n",
    "print(x)"
   ]
  },
  {
   "cell_type": "code",
   "execution_count": 31,
   "id": "81bc8e0c",
   "metadata": {},
   "outputs": [
    {
     "data": {
      "text/plain": [
       "{1: 'kishore',\n",
       " '2': 'Indore',\n",
       " 'c': 'Trainer',\n",
       " 1.5: [1, 2, 3, 4],\n",
       " '2.6': (11, 22, 33)}"
      ]
     },
     "execution_count": 31,
     "metadata": {},
     "output_type": "execute_result"
    }
   ],
   "source": [
    "d1={1:\"kishore\",\"2\":\"Indore\",\"c\":\"Trainer\",1.5:[1,2,3,4],\"2.6\":(11,22,33)}\n",
    "d1"
   ]
  },
  {
   "cell_type": "code",
   "execution_count": 32,
   "id": "9067816b",
   "metadata": {},
   "outputs": [
    {
     "name": "stdout",
     "output_type": "stream",
     "text": [
      "1\n",
      "2\n",
      "c\n",
      "1.5\n",
      "2.6\n"
     ]
    }
   ],
   "source": [
    "for i in  d1:\n",
    "    print(i)"
   ]
  },
  {
   "cell_type": "code",
   "execution_count": 33,
   "id": "4246e1d5",
   "metadata": {},
   "outputs": [
    {
     "data": {
      "text/plain": [
       "{'eid': [101, 102, 103, 104, 105],\n",
       " 'ename': ['kishore', 'aditya', 'jay', 'jaya', 'chhaya'],\n",
       " 'salary': [1000, 1200, 1500, 900, 800],\n",
       " 'profile': ['developer', 'tester', 'hr', 'tester', 'developer'],\n",
       " 'city': ['indore', 'ujjain', 'indore', 'bhopal', 'bhopal']}"
      ]
     },
     "execution_count": 33,
     "metadata": {},
     "output_type": "execute_result"
    }
   ],
   "source": [
    "emp={\"eid\":[101,102,103,104,105],\n",
    "     \"ename\":[\"kishore\",\"aditya\",\"jay\",\"jaya\",\"chhaya\"],\"salary\":[1000,1200,1500,900,800],\n",
    "     \"profile\":[\"developer\",\"tester\",\"hr\",\"tester\",\"developer\"],\"city\":[\"indore\",\"ujjain\",\"indore\",\"bhopal\",\"bhopal\"]}\n",
    "emp\n"
   ]
  },
  {
   "cell_type": "code",
   "execution_count": 34,
   "id": "ee6bd4fe",
   "metadata": {},
   "outputs": [
    {
     "name": "stdout",
     "output_type": "stream",
     "text": [
      "eid\n",
      "ename\n",
      "salary\n",
      "profile\n",
      "city\n"
     ]
    }
   ],
   "source": [
    "for i in emp:\n",
    "    print(i)"
   ]
  },
  {
   "cell_type": "code",
   "execution_count": 35,
   "id": "850132ac",
   "metadata": {},
   "outputs": [
    {
     "data": {
      "text/plain": [
       "['kishore', 'aditya', 'jay', 'jaya', 'chhaya']"
      ]
     },
     "execution_count": 35,
     "metadata": {},
     "output_type": "execute_result"
    }
   ],
   "source": [
    "emp[\"ename\"]"
   ]
  },
  {
   "cell_type": "code",
   "execution_count": 36,
   "id": "930253b2",
   "metadata": {},
   "outputs": [
    {
     "ename": "KeyError",
     "evalue": "'gender'",
     "output_type": "error",
     "traceback": [
      "\u001b[1;31m---------------------------------------------------------------------------\u001b[0m",
      "\u001b[1;31mKeyError\u001b[0m                                  Traceback (most recent call last)",
      "\u001b[1;32m~\\AppData\\Local\\Temp/ipykernel_1820/2850256227.py\u001b[0m in \u001b[0;36m<module>\u001b[1;34m\u001b[0m\n\u001b[1;32m----> 1\u001b[1;33m \u001b[0memp\u001b[0m\u001b[1;33m[\u001b[0m\u001b[1;34m\"gender\"\u001b[0m\u001b[1;33m]\u001b[0m\u001b[1;33m\u001b[0m\u001b[1;33m\u001b[0m\u001b[0m\n\u001b[0m",
      "\u001b[1;31mKeyError\u001b[0m: 'gender'"
     ]
    }
   ],
   "source": [
    "emp[\"gender\"]"
   ]
  },
  {
   "cell_type": "code",
   "execution_count": null,
   "id": "387ee101",
   "metadata": {},
   "outputs": [],
   "source": [
    "emp[\"gender\"]=[\"male\",\"male\",\"male\",\"female\",\"female\"]"
   ]
  },
  {
   "cell_type": "code",
   "execution_count": null,
   "id": "a8e19f62",
   "metadata": {},
   "outputs": [],
   "source": [
    "emp\n"
   ]
  },
  {
   "cell_type": "code",
   "execution_count": null,
   "id": "09fa7b88",
   "metadata": {},
   "outputs": [],
   "source": [
    "import pandas as pd"
   ]
  },
  {
   "cell_type": "code",
   "execution_count": null,
   "id": "12c62d62",
   "metadata": {},
   "outputs": [],
   "source": [
    "df=pd.DataFrame(emp)\n",
    "df"
   ]
  },
  {
   "cell_type": "code",
   "execution_count": null,
   "id": "b20ccb61",
   "metadata": {},
   "outputs": [],
   "source": [
    "df.drop(\"gender\",axis=1)"
   ]
  },
  {
   "cell_type": "code",
   "execution_count": null,
   "id": "d3eb8966",
   "metadata": {},
   "outputs": [],
   "source": [
    "emp[\"ename\"]"
   ]
  },
  {
   "cell_type": "code",
   "execution_count": null,
   "id": "e871dce8",
   "metadata": {},
   "outputs": [],
   "source": [
    "emp[\"ename\"][1]"
   ]
  },
  {
   "cell_type": "code",
   "execution_count": null,
   "id": "f671d781",
   "metadata": {},
   "outputs": [],
   "source": [
    "emp.get(\"gender\")"
   ]
  },
  {
   "cell_type": "code",
   "execution_count": null,
   "id": "ceacab4d",
   "metadata": {},
   "outputs": [],
   "source": [
    "for i in emp.items():\n",
    "    keys,values=i\n",
    "    print(keys,\":\",values)"
   ]
  },
  {
   "cell_type": "code",
   "execution_count": null,
   "id": "ac69e79f",
   "metadata": {},
   "outputs": [],
   "source": [
    "emp.values()"
   ]
  },
  {
   "cell_type": "code",
   "execution_count": null,
   "id": "7e16a675",
   "metadata": {},
   "outputs": [],
   "source": [
    "emp.keys()"
   ]
  },
  {
   "cell_type": "code",
   "execution_count": null,
   "id": "7310e307",
   "metadata": {},
   "outputs": [],
   "source": [
    "emp.setdefault     # used to print the value at a given key position. If there is no value at the given index, it prints None."
   ]
  },
  {
   "cell_type": "code",
   "execution_count": null,
   "id": "e07323f0",
   "metadata": {},
   "outputs": [],
   "source": [
    "emp.popitem()       #Remove and return a (key, value) pair as a tuple."
   ]
  },
  {
   "cell_type": "code",
   "execution_count": null,
   "id": "2b8ed38a",
   "metadata": {},
   "outputs": [],
   "source": [
    "bonus={\"eid\":[101, 102, 103, 104, 105],\"bonus\":[500,100,150,200,180]}\n",
    "bonus"
   ]
  },
  {
   "cell_type": "code",
   "execution_count": null,
   "id": "05ff7ca3",
   "metadata": {},
   "outputs": [],
   "source": [
    "emp.update(bonus)\n",
    "emp"
   ]
  },
  {
   "cell_type": "code",
   "execution_count": null,
   "id": "4372ffac",
   "metadata": {},
   "outputs": [],
   "source": [
    "set(emp[\"profile\"])"
   ]
  },
  {
   "cell_type": "code",
   "execution_count": null,
   "id": "3dbcb8d5",
   "metadata": {},
   "outputs": [],
   "source": [
    "set(emp[\"gender\"])"
   ]
  },
  {
   "cell_type": "code",
   "execution_count": null,
   "id": "569a9755",
   "metadata": {},
   "outputs": [],
   "source": [
    "sum(emp[\"salary\"])/len(emp[\"salary\"])\n"
   ]
  },
  {
   "cell_type": "code",
   "execution_count": null,
   "id": "c0260d96",
   "metadata": {},
   "outputs": [],
   "source": [
    "def price_cal(n):\n",
    "    total_price=0\n",
    "    for i in range(n):\n",
    "        price=int(input(\"Enter the price of item\"))\n",
    "        total_price=total_price+price\n",
    "    return total_price\n",
    "NoI=int(input(\"Enter the number of items purchased by you :\"))\n",
    "price_cal(NoI)"
   ]
  },
  {
   "cell_type": "code",
   "execution_count": 1,
   "id": "363561ed",
   "metadata": {},
   "outputs": [
    {
     "data": {
      "text/plain": [
       "180.0"
      ]
     },
     "execution_count": 1,
     "metadata": {},
     "output_type": "execute_result"
    }
   ],
   "source": [
    "def discount(n):\n",
    "    if(n>=300):\n",
    "        n=n-n*.2\n",
    "    else:\n",
    "        n=n-n*.1\n",
    "    return n\n",
    "discount(200)"
   ]
  },
  {
   "cell_type": "code",
   "execution_count": null,
   "id": "490851dc",
   "metadata": {},
   "outputs": [],
   "source": []
  }
 ],
 "metadata": {
  "kernelspec": {
   "display_name": "Python 3 (ipykernel)",
   "language": "python",
   "name": "python3"
  },
  "language_info": {
   "codemirror_mode": {
    "name": "ipython",
    "version": 3
   },
   "file_extension": ".py",
   "mimetype": "text/x-python",
   "name": "python",
   "nbconvert_exporter": "python",
   "pygments_lexer": "ipython3",
   "version": "3.9.7"
  }
 },
 "nbformat": 4,
 "nbformat_minor": 5
}
