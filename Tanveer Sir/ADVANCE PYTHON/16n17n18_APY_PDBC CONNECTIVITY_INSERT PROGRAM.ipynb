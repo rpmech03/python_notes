{
 "cells": [
  {
   "cell_type": "markdown",
   "id": "ddc358a1",
   "metadata": {},
   "source": [
    "# PDBC CONNECTIVITY STEPS:\n",
    "\n",
    "While we install pip,first we have to add not symbol(!) ie compulsory.\n",
    "\n",
    "1ST STEP_\n",
    "\n",
    "First of all we import mysql.connector then will call connect method at mysql.connector object that contains 4 \n",
    "\n",
    "arguments...\n",
    "\n",
    "1st one is POST,in which we will pass server name and we will use local host,\n",
    "\n",
    "2nd one is user name for MYSQL, \n",
    "\n",
    "3rd one is pwd of mysql and \n",
    "\n",
    "last one contains name of database.\n",
    "\n",
    "Connect method will return db connectivity obj.\n",
    "\n",
    "We can execute query by using cursor and we can construct a cursor object when we will call cursor method on db connectivity \n",
    "\n",
    "object.\n",
    "\n",
    "We can execute a query by using cursor when we will call execute method of cursor in which we will pass one or two \n",
    "\n",
    "argument.Either we can pass only query as 1st argument or we can pass query and tuple that contains actual values which we want \n",
    "\n",
    "to store in db.We will call commit method after each DML operations."
   ]
  },
  {
   "cell_type": "markdown",
   "id": "898b81e9",
   "metadata": {},
   "source": [
    "# INSERT PROGRAM:"
   ]
  },
  {
   "cell_type": "code",
   "execution_count": 2,
   "id": "e935f47e",
   "metadata": {},
   "outputs": [
    {
     "name": "stdout",
     "output_type": "stream",
     "text": [
      "Requirement already satisfied: mysql-connector in c:\\users\\hzt\\anaconda3\\lib\\site-packages (2.2.9)\n"
     ]
    }
   ],
   "source": [
    "!pip install mysql-connector"
   ]
  },
  {
   "cell_type": "code",
   "execution_count": 1,
   "id": "7829688f",
   "metadata": {},
   "outputs": [
    {
     "name": "stderr",
     "output_type": "stream",
     "text": [
      "WARNING: Retrying (Retry(total=4, connect=None, read=None, redirect=None, status=None)) after connection broken by 'NewConnectionError('<pip._vendor.urllib3.connection.HTTPSConnection object at 0x000001F8BFF78910>: Failed to establish a new connection: [Errno 11001] getaddrinfo failed')': /simple/mysql-connector-python/\n",
      "WARNING: Retrying (Retry(total=3, connect=None, read=None, redirect=None, status=None)) after connection broken by 'NewConnectionError('<pip._vendor.urllib3.connection.HTTPSConnection object at 0x000001F8BFF784C0>: Failed to establish a new connection: [Errno 11001] getaddrinfo failed')': /simple/mysql-connector-python/\n",
      "WARNING: Retrying (Retry(total=2, connect=None, read=None, redirect=None, status=None)) after connection broken by 'NewConnectionError('<pip._vendor.urllib3.connection.HTTPSConnection object at 0x000001F8BFF822E0>: Failed to establish a new connection: [Errno 11001] getaddrinfo failed')': /simple/mysql-connector-python/\n",
      "WARNING: Retrying (Retry(total=1, connect=None, read=None, redirect=None, status=None)) after connection broken by 'NewConnectionError('<pip._vendor.urllib3.connection.HTTPSConnection object at 0x000001F8BFF82490>: Failed to establish a new connection: [Errno 11001] getaddrinfo failed')': /simple/mysql-connector-python/\n",
      "WARNING: Retrying (Retry(total=0, connect=None, read=None, redirect=None, status=None)) after connection broken by 'NewConnectionError('<pip._vendor.urllib3.connection.HTTPSConnection object at 0x000001F8BFF82640>: Failed to establish a new connection: [Errno 11001] getaddrinfo failed')': /simple/mysql-connector-python/\n",
      "ERROR: Could not find a version that satisfies the requirement mysql-connector-python (from versions: none)\n",
      "ERROR: No matching distribution found for mysql-connector-python\n"
     ]
    }
   ],
   "source": [
    "!pip install mysql-connector-python\n",
    "\n",
    "# if above pip doesn't work then you can use this pip."
   ]
  },
  {
   "cell_type": "code",
   "execution_count": 3,
   "id": "210ca5e0",
   "metadata": {},
   "outputs": [],
   "source": [
    "import mysql.connector"
   ]
  },
  {
   "cell_type": "code",
   "execution_count": null,
   "id": "90c40428",
   "metadata": {},
   "outputs": [],
   "source": [
    "mysql.connector ke andar n connector object pr ek method call kruga ie connect() ...n ye connect method kch arguments leti h..\n",
    "1st is host--host means server ka name..ap local machine pr chla rhe ho to us pr jo work krta h uska nam h local host..\n",
    "1_host='localhost'\n",
    "2_user='root'\n",
    "3_password='root'\n",
    "4_database=iska db bnana pdta h hmne py12 bnaya tha n nh mil rha ho ya delete ho gya ho to bna lo...\n",
    "create database py12;\n",
    "use py12;\n",
    "create table emp(id int,name varchar(20),sal int,job varchar(15))\n",
    "desc emp;\n",
    "4_database='py12'\n",
    "\n",
    "n ye sb return krke deta h database connectivity ka obj db."
   ]
  },
  {
   "cell_type": "code",
   "execution_count": 4,
   "id": "a58bc49e",
   "metadata": {},
   "outputs": [
    {
     "ename": "NotSupportedError",
     "evalue": "Authentication plugin 'caching_sha2_password' is not supported",
     "output_type": "error",
     "traceback": [
      "\u001b[1;31m---------------------------------------------------------------------------\u001b[0m",
      "\u001b[1;31mNotSupportedError\u001b[0m                         Traceback (most recent call last)",
      "\u001b[1;32m~\\AppData\\Local\\Temp/ipykernel_9868/1814298736.py\u001b[0m in \u001b[0;36m<module>\u001b[1;34m\u001b[0m\n\u001b[0;32m      1\u001b[0m \u001b[1;31m# !pip install mysql-connector\u001b[0m\u001b[1;33m\u001b[0m\u001b[1;33m\u001b[0m\u001b[0m\n\u001b[0;32m      2\u001b[0m \u001b[1;32mimport\u001b[0m \u001b[0mmysql\u001b[0m\u001b[1;33m.\u001b[0m\u001b[0mconnector\u001b[0m\u001b[1;33m\u001b[0m\u001b[1;33m\u001b[0m\u001b[0m\n\u001b[1;32m----> 3\u001b[1;33m db=mysql.connector.connect(\n\u001b[0m\u001b[0;32m      4\u001b[0m \u001b[0mhost\u001b[0m\u001b[1;33m=\u001b[0m\u001b[1;34m'localhost'\u001b[0m\u001b[1;33m,\u001b[0m\u001b[1;33m\u001b[0m\u001b[1;33m\u001b[0m\u001b[0m\n\u001b[0;32m      5\u001b[0m \u001b[0muser\u001b[0m\u001b[1;33m=\u001b[0m\u001b[1;34m'root'\u001b[0m\u001b[1;33m,\u001b[0m\u001b[1;33m\u001b[0m\u001b[1;33m\u001b[0m\u001b[0m\n",
      "\u001b[1;32m~\\anaconda3\\lib\\site-packages\\mysql\\connector\\__init__.py\u001b[0m in \u001b[0;36mconnect\u001b[1;34m(*args, **kwargs)\u001b[0m\n\u001b[0;32m    177\u001b[0m         \u001b[1;32mreturn\u001b[0m \u001b[0mCMySQLConnection\u001b[0m\u001b[1;33m(\u001b[0m\u001b[1;33m*\u001b[0m\u001b[0margs\u001b[0m\u001b[1;33m,\u001b[0m \u001b[1;33m**\u001b[0m\u001b[0mkwargs\u001b[0m\u001b[1;33m)\u001b[0m\u001b[1;33m\u001b[0m\u001b[1;33m\u001b[0m\u001b[0m\n\u001b[0;32m    178\u001b[0m     \u001b[1;32melse\u001b[0m\u001b[1;33m:\u001b[0m\u001b[1;33m\u001b[0m\u001b[1;33m\u001b[0m\u001b[0m\n\u001b[1;32m--> 179\u001b[1;33m         \u001b[1;32mreturn\u001b[0m \u001b[0mMySQLConnection\u001b[0m\u001b[1;33m(\u001b[0m\u001b[1;33m*\u001b[0m\u001b[0margs\u001b[0m\u001b[1;33m,\u001b[0m \u001b[1;33m**\u001b[0m\u001b[0mkwargs\u001b[0m\u001b[1;33m)\u001b[0m\u001b[1;33m\u001b[0m\u001b[1;33m\u001b[0m\u001b[0m\n\u001b[0m\u001b[0;32m    180\u001b[0m \u001b[0mConnect\u001b[0m \u001b[1;33m=\u001b[0m \u001b[0mconnect\u001b[0m  \u001b[1;31m# pylint: disable=C0103\u001b[0m\u001b[1;33m\u001b[0m\u001b[1;33m\u001b[0m\u001b[0m\n\u001b[0;32m    181\u001b[0m \u001b[1;33m\u001b[0m\u001b[0m\n",
      "\u001b[1;32m~\\anaconda3\\lib\\site-packages\\mysql\\connector\\connection.py\u001b[0m in \u001b[0;36m__init__\u001b[1;34m(self, *args, **kwargs)\u001b[0m\n\u001b[0;32m     93\u001b[0m \u001b[1;33m\u001b[0m\u001b[0m\n\u001b[0;32m     94\u001b[0m         \u001b[1;32mif\u001b[0m \u001b[0mlen\u001b[0m\u001b[1;33m(\u001b[0m\u001b[0mkwargs\u001b[0m\u001b[1;33m)\u001b[0m \u001b[1;33m>\u001b[0m \u001b[1;36m0\u001b[0m\u001b[1;33m:\u001b[0m\u001b[1;33m\u001b[0m\u001b[1;33m\u001b[0m\u001b[0m\n\u001b[1;32m---> 95\u001b[1;33m             \u001b[0mself\u001b[0m\u001b[1;33m.\u001b[0m\u001b[0mconnect\u001b[0m\u001b[1;33m(\u001b[0m\u001b[1;33m**\u001b[0m\u001b[0mkwargs\u001b[0m\u001b[1;33m)\u001b[0m\u001b[1;33m\u001b[0m\u001b[1;33m\u001b[0m\u001b[0m\n\u001b[0m\u001b[0;32m     96\u001b[0m \u001b[1;33m\u001b[0m\u001b[0m\n\u001b[0;32m     97\u001b[0m     \u001b[1;32mdef\u001b[0m \u001b[0m_do_handshake\u001b[0m\u001b[1;33m(\u001b[0m\u001b[0mself\u001b[0m\u001b[1;33m)\u001b[0m\u001b[1;33m:\u001b[0m\u001b[1;33m\u001b[0m\u001b[1;33m\u001b[0m\u001b[0m\n",
      "\u001b[1;32m~\\anaconda3\\lib\\site-packages\\mysql\\connector\\abstracts.py\u001b[0m in \u001b[0;36mconnect\u001b[1;34m(self, **kwargs)\u001b[0m\n\u001b[0;32m    714\u001b[0m \u001b[1;33m\u001b[0m\u001b[0m\n\u001b[0;32m    715\u001b[0m         \u001b[0mself\u001b[0m\u001b[1;33m.\u001b[0m\u001b[0mdisconnect\u001b[0m\u001b[1;33m(\u001b[0m\u001b[1;33m)\u001b[0m\u001b[1;33m\u001b[0m\u001b[1;33m\u001b[0m\u001b[0m\n\u001b[1;32m--> 716\u001b[1;33m         \u001b[0mself\u001b[0m\u001b[1;33m.\u001b[0m\u001b[0m_open_connection\u001b[0m\u001b[1;33m(\u001b[0m\u001b[1;33m)\u001b[0m\u001b[1;33m\u001b[0m\u001b[1;33m\u001b[0m\u001b[0m\n\u001b[0m\u001b[0;32m    717\u001b[0m         \u001b[0mself\u001b[0m\u001b[1;33m.\u001b[0m\u001b[0m_post_connection\u001b[0m\u001b[1;33m(\u001b[0m\u001b[1;33m)\u001b[0m\u001b[1;33m\u001b[0m\u001b[1;33m\u001b[0m\u001b[0m\n\u001b[0;32m    718\u001b[0m \u001b[1;33m\u001b[0m\u001b[0m\n",
      "\u001b[1;32m~\\anaconda3\\lib\\site-packages\\mysql\\connector\\connection.py\u001b[0m in \u001b[0;36m_open_connection\u001b[1;34m(self)\u001b[0m\n\u001b[0;32m    206\u001b[0m         \u001b[0mself\u001b[0m\u001b[1;33m.\u001b[0m\u001b[0m_socket\u001b[0m\u001b[1;33m.\u001b[0m\u001b[0mopen_connection\u001b[0m\u001b[1;33m(\u001b[0m\u001b[1;33m)\u001b[0m\u001b[1;33m\u001b[0m\u001b[1;33m\u001b[0m\u001b[0m\n\u001b[0;32m    207\u001b[0m         \u001b[0mself\u001b[0m\u001b[1;33m.\u001b[0m\u001b[0m_do_handshake\u001b[0m\u001b[1;33m(\u001b[0m\u001b[1;33m)\u001b[0m\u001b[1;33m\u001b[0m\u001b[1;33m\u001b[0m\u001b[0m\n\u001b[1;32m--> 208\u001b[1;33m         self._do_auth(self._user, self._password,\n\u001b[0m\u001b[0;32m    209\u001b[0m                       \u001b[0mself\u001b[0m\u001b[1;33m.\u001b[0m\u001b[0m_database\u001b[0m\u001b[1;33m,\u001b[0m \u001b[0mself\u001b[0m\u001b[1;33m.\u001b[0m\u001b[0m_client_flags\u001b[0m\u001b[1;33m,\u001b[0m \u001b[0mself\u001b[0m\u001b[1;33m.\u001b[0m\u001b[0m_charset_id\u001b[0m\u001b[1;33m,\u001b[0m\u001b[1;33m\u001b[0m\u001b[1;33m\u001b[0m\u001b[0m\n\u001b[0;32m    210\u001b[0m                       self._ssl)\n",
      "\u001b[1;32m~\\anaconda3\\lib\\site-packages\\mysql\\connector\\connection.py\u001b[0m in \u001b[0;36m_do_auth\u001b[1;34m(self, username, password, database, client_flags, charset, ssl_options)\u001b[0m\n\u001b[0;32m    135\u001b[0m             \u001b[0mself\u001b[0m\u001b[1;33m.\u001b[0m\u001b[0m_ssl_active\u001b[0m \u001b[1;33m=\u001b[0m \u001b[1;32mTrue\u001b[0m\u001b[1;33m\u001b[0m\u001b[1;33m\u001b[0m\u001b[0m\n\u001b[0;32m    136\u001b[0m \u001b[1;33m\u001b[0m\u001b[0m\n\u001b[1;32m--> 137\u001b[1;33m         packet = self._protocol.make_auth(\n\u001b[0m\u001b[0;32m    138\u001b[0m             \u001b[0mhandshake\u001b[0m\u001b[1;33m=\u001b[0m\u001b[0mself\u001b[0m\u001b[1;33m.\u001b[0m\u001b[0m_handshake\u001b[0m\u001b[1;33m,\u001b[0m\u001b[1;33m\u001b[0m\u001b[1;33m\u001b[0m\u001b[0m\n\u001b[0;32m    139\u001b[0m             \u001b[0musername\u001b[0m\u001b[1;33m=\u001b[0m\u001b[0musername\u001b[0m\u001b[1;33m,\u001b[0m \u001b[0mpassword\u001b[0m\u001b[1;33m=\u001b[0m\u001b[0mpassword\u001b[0m\u001b[1;33m,\u001b[0m \u001b[0mdatabase\u001b[0m\u001b[1;33m=\u001b[0m\u001b[0mdatabase\u001b[0m\u001b[1;33m,\u001b[0m\u001b[1;33m\u001b[0m\u001b[1;33m\u001b[0m\u001b[0m\n",
      "\u001b[1;32m~\\anaconda3\\lib\\site-packages\\mysql\\connector\\protocol.py\u001b[0m in \u001b[0;36mmake_auth\u001b[1;34m(self, handshake, username, password, database, charset, client_flags, max_allowed_packet, ssl_enabled, auth_plugin)\u001b[0m\n\u001b[0;32m     97\u001b[0m                              username_bytes)\n\u001b[0;32m     98\u001b[0m \u001b[1;33m\u001b[0m\u001b[0m\n\u001b[1;32m---> 99\u001b[1;33m         packet += self._auth_response(client_flags, username, password,\n\u001b[0m\u001b[0;32m    100\u001b[0m                                       \u001b[0mdatabase\u001b[0m\u001b[1;33m,\u001b[0m\u001b[1;33m\u001b[0m\u001b[1;33m\u001b[0m\u001b[0m\n\u001b[0;32m    101\u001b[0m                                       \u001b[0mauth_plugin\u001b[0m\u001b[1;33m,\u001b[0m\u001b[1;33m\u001b[0m\u001b[1;33m\u001b[0m\u001b[0m\n",
      "\u001b[1;32m~\\anaconda3\\lib\\site-packages\\mysql\\connector\\protocol.py\u001b[0m in \u001b[0;36m_auth_response\u001b[1;34m(self, client_flags, username, password, database, auth_plugin, auth_data, ssl_enabled)\u001b[0m\n\u001b[0;32m     56\u001b[0m \u001b[1;33m\u001b[0m\u001b[0m\n\u001b[0;32m     57\u001b[0m         \u001b[1;32mtry\u001b[0m\u001b[1;33m:\u001b[0m\u001b[1;33m\u001b[0m\u001b[1;33m\u001b[0m\u001b[0m\n\u001b[1;32m---> 58\u001b[1;33m             auth = get_auth_plugin(auth_plugin)(\n\u001b[0m\u001b[0;32m     59\u001b[0m                 \u001b[0mauth_data\u001b[0m\u001b[1;33m,\u001b[0m\u001b[1;33m\u001b[0m\u001b[1;33m\u001b[0m\u001b[0m\n\u001b[0;32m     60\u001b[0m                 \u001b[0musername\u001b[0m\u001b[1;33m=\u001b[0m\u001b[0musername\u001b[0m\u001b[1;33m,\u001b[0m \u001b[0mpassword\u001b[0m\u001b[1;33m=\u001b[0m\u001b[0mpassword\u001b[0m\u001b[1;33m,\u001b[0m \u001b[0mdatabase\u001b[0m\u001b[1;33m=\u001b[0m\u001b[0mdatabase\u001b[0m\u001b[1;33m,\u001b[0m\u001b[1;33m\u001b[0m\u001b[1;33m\u001b[0m\u001b[0m\n",
      "\u001b[1;32m~\\anaconda3\\lib\\site-packages\\mysql\\connector\\authentication.py\u001b[0m in \u001b[0;36mget_auth_plugin\u001b[1;34m(plugin_name)\u001b[0m\n\u001b[0;32m    188\u001b[0m             \u001b[1;32mreturn\u001b[0m \u001b[0mauthclass\u001b[0m\u001b[1;33m\u001b[0m\u001b[1;33m\u001b[0m\u001b[0m\n\u001b[0;32m    189\u001b[0m \u001b[1;33m\u001b[0m\u001b[0m\n\u001b[1;32m--> 190\u001b[1;33m     raise errors.NotSupportedError(\n\u001b[0m\u001b[0;32m    191\u001b[0m         \"Authentication plugin '{0}' is not supported\".format(plugin_name))\n",
      "\u001b[1;31mNotSupportedError\u001b[0m: Authentication plugin 'caching_sha2_password' is not supported"
     ]
    }
   ],
   "source": [
    "# !pip install mysql-connector\n",
    "import mysql.connector\n",
    "db=mysql.connector.connect(\n",
    "host='localhost',\n",
    "user='root',\n",
    "password='root',\n",
    "database='py121'\n",
    ")\n",
    "cr=db.cursor()\n",
    "id=int(input(\"Enter id :\"))\n",
    "name=input(\"Enter Name :\")\n",
    "sal=int(input(\"Enter Salary :\"))\n",
    "job=input(\"Enter Job :\")\n",
    "qr=\"insert into emp values(%s,%s,%s,%s)\"\n",
    "val=(id,name,sal,job)\n",
    "cr.execute(qr,val)\n",
    "db.commit()\n",
    "print(cr.rowcount,\"Emp Added\")"
   ]
  },
  {
   "cell_type": "code",
   "execution_count": 6,
   "id": "cf00f905",
   "metadata": {},
   "outputs": [
    {
     "ename": "NotSupportedError",
     "evalue": "Authentication plugin 'caching_sha2_password' is not supported",
     "output_type": "error",
     "traceback": [
      "\u001b[1;31m---------------------------------------------------------------------------\u001b[0m",
      "\u001b[1;31mNotSupportedError\u001b[0m                         Traceback (most recent call last)",
      "\u001b[1;32m~\\AppData\\Local\\Temp/ipykernel_5364/3699150166.py\u001b[0m in \u001b[0;36m<module>\u001b[1;34m\u001b[0m\n\u001b[0;32m      1\u001b[0m \u001b[1;32mimport\u001b[0m \u001b[0mmysql\u001b[0m\u001b[1;33m.\u001b[0m\u001b[0mconnector\u001b[0m\u001b[1;33m\u001b[0m\u001b[1;33m\u001b[0m\u001b[0m\n\u001b[1;32m----> 2\u001b[1;33m db=mysql.connector.connect(\n\u001b[0m\u001b[0;32m      3\u001b[0m \u001b[0mhost\u001b[0m\u001b[1;33m=\u001b[0m\u001b[1;34m'localhost'\u001b[0m\u001b[1;33m,\u001b[0m\u001b[1;33m\u001b[0m\u001b[1;33m\u001b[0m\u001b[0m\n\u001b[0;32m      4\u001b[0m \u001b[0muser\u001b[0m\u001b[1;33m=\u001b[0m\u001b[1;34m'root'\u001b[0m\u001b[1;33m,\u001b[0m\u001b[1;33m\u001b[0m\u001b[1;33m\u001b[0m\u001b[0m\n\u001b[0;32m      5\u001b[0m \u001b[0mpassword\u001b[0m\u001b[1;33m=\u001b[0m\u001b[1;34m'root'\u001b[0m\u001b[1;33m,\u001b[0m\u001b[1;33m\u001b[0m\u001b[1;33m\u001b[0m\u001b[0m\n",
      "\u001b[1;32m~\\anaconda3\\lib\\site-packages\\mysql\\connector\\__init__.py\u001b[0m in \u001b[0;36mconnect\u001b[1;34m(*args, **kwargs)\u001b[0m\n\u001b[0;32m    177\u001b[0m         \u001b[1;32mreturn\u001b[0m \u001b[0mCMySQLConnection\u001b[0m\u001b[1;33m(\u001b[0m\u001b[1;33m*\u001b[0m\u001b[0margs\u001b[0m\u001b[1;33m,\u001b[0m \u001b[1;33m**\u001b[0m\u001b[0mkwargs\u001b[0m\u001b[1;33m)\u001b[0m\u001b[1;33m\u001b[0m\u001b[1;33m\u001b[0m\u001b[0m\n\u001b[0;32m    178\u001b[0m     \u001b[1;32melse\u001b[0m\u001b[1;33m:\u001b[0m\u001b[1;33m\u001b[0m\u001b[1;33m\u001b[0m\u001b[0m\n\u001b[1;32m--> 179\u001b[1;33m         \u001b[1;32mreturn\u001b[0m \u001b[0mMySQLConnection\u001b[0m\u001b[1;33m(\u001b[0m\u001b[1;33m*\u001b[0m\u001b[0margs\u001b[0m\u001b[1;33m,\u001b[0m \u001b[1;33m**\u001b[0m\u001b[0mkwargs\u001b[0m\u001b[1;33m)\u001b[0m\u001b[1;33m\u001b[0m\u001b[1;33m\u001b[0m\u001b[0m\n\u001b[0m\u001b[0;32m    180\u001b[0m \u001b[0mConnect\u001b[0m \u001b[1;33m=\u001b[0m \u001b[0mconnect\u001b[0m  \u001b[1;31m# pylint: disable=C0103\u001b[0m\u001b[1;33m\u001b[0m\u001b[1;33m\u001b[0m\u001b[0m\n\u001b[0;32m    181\u001b[0m \u001b[1;33m\u001b[0m\u001b[0m\n",
      "\u001b[1;32m~\\anaconda3\\lib\\site-packages\\mysql\\connector\\connection.py\u001b[0m in \u001b[0;36m__init__\u001b[1;34m(self, *args, **kwargs)\u001b[0m\n\u001b[0;32m     93\u001b[0m \u001b[1;33m\u001b[0m\u001b[0m\n\u001b[0;32m     94\u001b[0m         \u001b[1;32mif\u001b[0m \u001b[0mlen\u001b[0m\u001b[1;33m(\u001b[0m\u001b[0mkwargs\u001b[0m\u001b[1;33m)\u001b[0m \u001b[1;33m>\u001b[0m \u001b[1;36m0\u001b[0m\u001b[1;33m:\u001b[0m\u001b[1;33m\u001b[0m\u001b[1;33m\u001b[0m\u001b[0m\n\u001b[1;32m---> 95\u001b[1;33m             \u001b[0mself\u001b[0m\u001b[1;33m.\u001b[0m\u001b[0mconnect\u001b[0m\u001b[1;33m(\u001b[0m\u001b[1;33m**\u001b[0m\u001b[0mkwargs\u001b[0m\u001b[1;33m)\u001b[0m\u001b[1;33m\u001b[0m\u001b[1;33m\u001b[0m\u001b[0m\n\u001b[0m\u001b[0;32m     96\u001b[0m \u001b[1;33m\u001b[0m\u001b[0m\n\u001b[0;32m     97\u001b[0m     \u001b[1;32mdef\u001b[0m \u001b[0m_do_handshake\u001b[0m\u001b[1;33m(\u001b[0m\u001b[0mself\u001b[0m\u001b[1;33m)\u001b[0m\u001b[1;33m:\u001b[0m\u001b[1;33m\u001b[0m\u001b[1;33m\u001b[0m\u001b[0m\n",
      "\u001b[1;32m~\\anaconda3\\lib\\site-packages\\mysql\\connector\\abstracts.py\u001b[0m in \u001b[0;36mconnect\u001b[1;34m(self, **kwargs)\u001b[0m\n\u001b[0;32m    714\u001b[0m \u001b[1;33m\u001b[0m\u001b[0m\n\u001b[0;32m    715\u001b[0m         \u001b[0mself\u001b[0m\u001b[1;33m.\u001b[0m\u001b[0mdisconnect\u001b[0m\u001b[1;33m(\u001b[0m\u001b[1;33m)\u001b[0m\u001b[1;33m\u001b[0m\u001b[1;33m\u001b[0m\u001b[0m\n\u001b[1;32m--> 716\u001b[1;33m         \u001b[0mself\u001b[0m\u001b[1;33m.\u001b[0m\u001b[0m_open_connection\u001b[0m\u001b[1;33m(\u001b[0m\u001b[1;33m)\u001b[0m\u001b[1;33m\u001b[0m\u001b[1;33m\u001b[0m\u001b[0m\n\u001b[0m\u001b[0;32m    717\u001b[0m         \u001b[0mself\u001b[0m\u001b[1;33m.\u001b[0m\u001b[0m_post_connection\u001b[0m\u001b[1;33m(\u001b[0m\u001b[1;33m)\u001b[0m\u001b[1;33m\u001b[0m\u001b[1;33m\u001b[0m\u001b[0m\n\u001b[0;32m    718\u001b[0m \u001b[1;33m\u001b[0m\u001b[0m\n",
      "\u001b[1;32m~\\anaconda3\\lib\\site-packages\\mysql\\connector\\connection.py\u001b[0m in \u001b[0;36m_open_connection\u001b[1;34m(self)\u001b[0m\n\u001b[0;32m    206\u001b[0m         \u001b[0mself\u001b[0m\u001b[1;33m.\u001b[0m\u001b[0m_socket\u001b[0m\u001b[1;33m.\u001b[0m\u001b[0mopen_connection\u001b[0m\u001b[1;33m(\u001b[0m\u001b[1;33m)\u001b[0m\u001b[1;33m\u001b[0m\u001b[1;33m\u001b[0m\u001b[0m\n\u001b[0;32m    207\u001b[0m         \u001b[0mself\u001b[0m\u001b[1;33m.\u001b[0m\u001b[0m_do_handshake\u001b[0m\u001b[1;33m(\u001b[0m\u001b[1;33m)\u001b[0m\u001b[1;33m\u001b[0m\u001b[1;33m\u001b[0m\u001b[0m\n\u001b[1;32m--> 208\u001b[1;33m         self._do_auth(self._user, self._password,\n\u001b[0m\u001b[0;32m    209\u001b[0m                       \u001b[0mself\u001b[0m\u001b[1;33m.\u001b[0m\u001b[0m_database\u001b[0m\u001b[1;33m,\u001b[0m \u001b[0mself\u001b[0m\u001b[1;33m.\u001b[0m\u001b[0m_client_flags\u001b[0m\u001b[1;33m,\u001b[0m \u001b[0mself\u001b[0m\u001b[1;33m.\u001b[0m\u001b[0m_charset_id\u001b[0m\u001b[1;33m,\u001b[0m\u001b[1;33m\u001b[0m\u001b[1;33m\u001b[0m\u001b[0m\n\u001b[0;32m    210\u001b[0m                       self._ssl)\n",
      "\u001b[1;32m~\\anaconda3\\lib\\site-packages\\mysql\\connector\\connection.py\u001b[0m in \u001b[0;36m_do_auth\u001b[1;34m(self, username, password, database, client_flags, charset, ssl_options)\u001b[0m\n\u001b[0;32m    135\u001b[0m             \u001b[0mself\u001b[0m\u001b[1;33m.\u001b[0m\u001b[0m_ssl_active\u001b[0m \u001b[1;33m=\u001b[0m \u001b[1;32mTrue\u001b[0m\u001b[1;33m\u001b[0m\u001b[1;33m\u001b[0m\u001b[0m\n\u001b[0;32m    136\u001b[0m \u001b[1;33m\u001b[0m\u001b[0m\n\u001b[1;32m--> 137\u001b[1;33m         packet = self._protocol.make_auth(\n\u001b[0m\u001b[0;32m    138\u001b[0m             \u001b[0mhandshake\u001b[0m\u001b[1;33m=\u001b[0m\u001b[0mself\u001b[0m\u001b[1;33m.\u001b[0m\u001b[0m_handshake\u001b[0m\u001b[1;33m,\u001b[0m\u001b[1;33m\u001b[0m\u001b[1;33m\u001b[0m\u001b[0m\n\u001b[0;32m    139\u001b[0m             \u001b[0musername\u001b[0m\u001b[1;33m=\u001b[0m\u001b[0musername\u001b[0m\u001b[1;33m,\u001b[0m \u001b[0mpassword\u001b[0m\u001b[1;33m=\u001b[0m\u001b[0mpassword\u001b[0m\u001b[1;33m,\u001b[0m \u001b[0mdatabase\u001b[0m\u001b[1;33m=\u001b[0m\u001b[0mdatabase\u001b[0m\u001b[1;33m,\u001b[0m\u001b[1;33m\u001b[0m\u001b[1;33m\u001b[0m\u001b[0m\n",
      "\u001b[1;32m~\\anaconda3\\lib\\site-packages\\mysql\\connector\\protocol.py\u001b[0m in \u001b[0;36mmake_auth\u001b[1;34m(self, handshake, username, password, database, charset, client_flags, max_allowed_packet, ssl_enabled, auth_plugin)\u001b[0m\n\u001b[0;32m     97\u001b[0m                              username_bytes)\n\u001b[0;32m     98\u001b[0m \u001b[1;33m\u001b[0m\u001b[0m\n\u001b[1;32m---> 99\u001b[1;33m         packet += self._auth_response(client_flags, username, password,\n\u001b[0m\u001b[0;32m    100\u001b[0m                                       \u001b[0mdatabase\u001b[0m\u001b[1;33m,\u001b[0m\u001b[1;33m\u001b[0m\u001b[1;33m\u001b[0m\u001b[0m\n\u001b[0;32m    101\u001b[0m                                       \u001b[0mauth_plugin\u001b[0m\u001b[1;33m,\u001b[0m\u001b[1;33m\u001b[0m\u001b[1;33m\u001b[0m\u001b[0m\n",
      "\u001b[1;32m~\\anaconda3\\lib\\site-packages\\mysql\\connector\\protocol.py\u001b[0m in \u001b[0;36m_auth_response\u001b[1;34m(self, client_flags, username, password, database, auth_plugin, auth_data, ssl_enabled)\u001b[0m\n\u001b[0;32m     56\u001b[0m \u001b[1;33m\u001b[0m\u001b[0m\n\u001b[0;32m     57\u001b[0m         \u001b[1;32mtry\u001b[0m\u001b[1;33m:\u001b[0m\u001b[1;33m\u001b[0m\u001b[1;33m\u001b[0m\u001b[0m\n\u001b[1;32m---> 58\u001b[1;33m             auth = get_auth_plugin(auth_plugin)(\n\u001b[0m\u001b[0;32m     59\u001b[0m                 \u001b[0mauth_data\u001b[0m\u001b[1;33m,\u001b[0m\u001b[1;33m\u001b[0m\u001b[1;33m\u001b[0m\u001b[0m\n\u001b[0;32m     60\u001b[0m                 \u001b[0musername\u001b[0m\u001b[1;33m=\u001b[0m\u001b[0musername\u001b[0m\u001b[1;33m,\u001b[0m \u001b[0mpassword\u001b[0m\u001b[1;33m=\u001b[0m\u001b[0mpassword\u001b[0m\u001b[1;33m,\u001b[0m \u001b[0mdatabase\u001b[0m\u001b[1;33m=\u001b[0m\u001b[0mdatabase\u001b[0m\u001b[1;33m,\u001b[0m\u001b[1;33m\u001b[0m\u001b[1;33m\u001b[0m\u001b[0m\n",
      "\u001b[1;32m~\\anaconda3\\lib\\site-packages\\mysql\\connector\\authentication.py\u001b[0m in \u001b[0;36mget_auth_plugin\u001b[1;34m(plugin_name)\u001b[0m\n\u001b[0;32m    188\u001b[0m             \u001b[1;32mreturn\u001b[0m \u001b[0mauthclass\u001b[0m\u001b[1;33m\u001b[0m\u001b[1;33m\u001b[0m\u001b[0m\n\u001b[0;32m    189\u001b[0m \u001b[1;33m\u001b[0m\u001b[0m\n\u001b[1;32m--> 190\u001b[1;33m     raise errors.NotSupportedError(\n\u001b[0m\u001b[0;32m    191\u001b[0m         \"Authentication plugin '{0}' is not supported\".format(plugin_name))\n",
      "\u001b[1;31mNotSupportedError\u001b[0m: Authentication plugin 'caching_sha2_password' is not supported"
     ]
    }
   ],
   "source": [
    "import mysql.connector\n",
    "db=mysql.connector.connect(\n",
    "host='localhost',\n",
    "user='root',\n",
    "password='root',\n",
    "database='py121'\n",
    ")\n",
    "cr=db.cursor()\n",
    "id=int(input(\"Enter id :\"))\n",
    "name=input(\"Enter Name :\")\n",
    "sal=int(input(\"Enter Salary :\"))\n",
    "job=input(\"Enter Job :\")\n",
    "qr=\"insert into emp values(%s,%s,%s,%s)\"\n",
    "val=(id,name,sal,job)\n",
    "cr.execute(qr,val)\n",
    "db.commit()\n",
    "print(cr.rowcount,\"Emp Added\")"
   ]
  },
  {
   "cell_type": "code",
   "execution_count": 15,
   "id": "6f982a06",
   "metadata": {},
   "outputs": [
    {
     "name": "stdout",
     "output_type": "stream",
     "text": [
      "Enter id :102\n",
      "1 emp deleted\n"
     ]
    }
   ],
   "source": [
    "import mysql.connector\n",
    "db=mysql.connector.connect(\n",
    "host='localhost',\n",
    "user='root',\n",
    "password='root',\n",
    "database='py121'\n",
    ")\n",
    "cr=db.cursor()\n",
    "id=int(input(\"Enter id :\"))\n",
    "qr=\"delete from emp where id=%s\"\n",
    "val=(id,)\n",
    "cr.execute(qr,val)\n",
    "db.commit()\n",
    "print(cr.rowcount,\"emp deleted\")"
   ]
  },
  {
   "cell_type": "code",
   "execution_count": 18,
   "id": "d855c964",
   "metadata": {},
   "outputs": [
    {
     "name": "stdout",
     "output_type": "stream",
     "text": [
      "Enter Old id :103\n",
      "Enter New Name :jaya\n",
      "Enter New Salary :3500\n",
      "Enter New Job :manager\n",
      "0 Emp Updated\n"
     ]
    }
   ],
   "source": [
    "import mysql.connector\n",
    "db=mysql.connector.connect(\n",
    "host='localhost',\n",
    "user='root',\n",
    "password='root',\n",
    "database='py121'\n",
    ")\n",
    "cr=db.cursor()\n",
    "id=int(input(\"Enter Old id :\"))\n",
    "name=input(\"Enter New Name :\")\n",
    "sal=int(input(\"Enter New Salary :\"))\n",
    "job=input(\"Enter New Job :\")\n",
    "qr=\"update emp set name=%s,sal=%s,job=%s where id=%s\"\n",
    "val=(name,sal,job,id)\n",
    "cr.execute(qr,val)\n",
    "db.commit()\n",
    "print(cr.rowcount,\"Emp Updated\")"
   ]
  },
  {
   "cell_type": "markdown",
   "id": "1cb4233b",
   "metadata": {},
   "source": [
    "# NOTE:\n",
    "\n",
    "abhi tk ap jitni b query execute krte the sb MYsql ke console se krte the...\n",
    "\n",
    "db ke andar apke pas tables h n is table se deal krne ke liye apko mysql ke console ki need hoti h..abhi tk jo apki query hoti \n",
    "\n",
    "thi wo mysql ke console se hoti thi...n apko kya lgta tha ki jo b query ap raise krte the wo directly db ke table pe hit kr \n",
    "\n",
    "dega but asa nh h...bich m ek memory area hota h jiska nam h \"cursor\" ..jo logically nh phisically exist krti hui memory h...\n",
    "\n",
    "to apne koi b query mysql ke console pr type ki to wo ja rhi h \"cursor\" ke pas..then cursor use table ke pas deta tha..then \n",
    "\n",
    "table pr query execute hone ke bad again cursor ke pas ati thi n cursor again console ko deta tha...pr is bar apke pas mysql ka \n",
    "\n",
    "console nh h..is bar apke pas jo query h execute krna h use python ke program ke through...means apke pas is bar cursor nh h \n",
    "\n",
    "python program h..ab ap python program se query execute kroge wo b ap directly execute nh kr paoge uske liye apko manually \n",
    "\n",
    "cursor bnana pdega...n ap python program se phle construct kroge cursor n ye cursor deal krega table se...ntable ka result waps \n",
    "\n",
    "cursor ke pas then python program ke pas jayega...mysql console internally deal krta h cursor se n python program ko externally \n",
    "\n",
    "cursor bnana pdega phle...\n",
    "\n",
    "apke pas db connectivity ka ek option h db n ap us pr ek method call kroge ie 1_cursor() n apko return hokr milega uska obj ie \n",
    "\n",
    "\"cr\" n ye cursor resposible rhega apki queries execute krne ke liye...n ab is program m cursor tk ka kam ho gyah means apke pas \n",
    "\n",
    "sbkch h ab ap user se input loge...id li,name,sal,job...ab apko dhyan rkhna h ap user se kitni value le rhe ho...n ab ap apni \n",
    "\n",
    "query likhoge as a string...insert into emp emp values..n jha2 pr values dena h us jgh ap use kroge %s ka..\"%s means DUMMY \n",
    "\n",
    "PARAMETER\"...like(%s,%s,%s,%s)...n ise store kra denge tuple m n us tuple m hm queries ko put krte jayege jisme 1st place pr \n",
    "\n",
    "id,2nd name ,3rd sal n 4th job...n ab table pr query execute krega cursor...ap cursor pr ek method call \n",
    "\n",
    "kroge..cr.execute(qr,val)...ab query apne as a tuple deni h n use apne store krai h val m...is db pr apne jo operation perform \n",
    "\n",
    "kiya tha wo h DML n dml m last m commit krna hota h...db.commit()..n apko pta h kitni row affect hui to ..ap print kr skte ho \n",
    "\n",
    "cursor.rowcount(),\"emp added\")..n iske bad hm input dete jayege n ek emp add ho jayeg n ab hme ise dekhne ke liye db m jayege n \n",
    "\n",
    "wha cmd run krege ie select * from emp;...n in sb ka mtlb yeh ki ab apko bar2 db m jakr insert krne ki need nh h ye sb ap \n",
    "\n",
    "python program ke through b kr skte ho..."
   ]
  },
  {
   "cell_type": "code",
   "execution_count": 27,
   "id": "89e4f0c3",
   "metadata": {},
   "outputs": [
    {
     "name": "stdout",
     "output_type": "stream",
     "text": [
      "Enter id :104\n",
      "Enter Name :dev\n",
      "Enter Salary :8900\n",
      "Enter Job :dba\n",
      "1 Emp Added\n"
     ]
    }
   ],
   "source": [
    "import mysql.connector\n",
    "db=mysql.connector.connect(\n",
    "host='localhost',\n",
    "user='root',\n",
    "password='root',\n",
    "database='py121'\n",
    ")\n",
    "cr=db.cursor()\n",
    "id=int(input(\"Enter id :\"))\n",
    "name=input(\"Enter Name :\")\n",
    "sal=int(input(\"Enter Salary :\"))\n",
    "job=input(\"Enter Job :\")\n",
    "qr=\"insert into emp values(%s,%s,%s,%s)\"\n",
    "val=(id,name,sal,job)\n",
    "cr.execute(qr,val)\n",
    "db.commit()\n",
    "print(cr.rowcount,\"Emp Added\")"
   ]
  },
  {
   "cell_type": "code",
   "execution_count": 28,
   "id": "5359a17a",
   "metadata": {},
   "outputs": [
    {
     "name": "stdout",
     "output_type": "stream",
     "text": [
      "[(101, 'jaya', 3500, 'manager'), (102, 'jayash', 3500, 'manager'), (103, 'harsh', 5600, 'developer'), (104, 'dev', 8900, 'dba')]\n"
     ]
    }
   ],
   "source": [
    "import mysql.connector\n",
    "db=mysql.connector.connect(\n",
    "host='localhost',\n",
    "user='root',\n",
    "password='root',\n",
    "database='py121'\n",
    ")\n",
    "cr=db.cursor()\n",
    "qr=\"select * from emp\"\n",
    "cr.execute(qr)\n",
    "data=cr.fetchall()\n",
    "print(data)"
   ]
  },
  {
   "cell_type": "code",
   "execution_count": 29,
   "id": "70370abf",
   "metadata": {},
   "outputs": [
    {
     "name": "stdout",
     "output_type": "stream",
     "text": [
      "101 \n",
      "jaya \n",
      "3500 \n",
      "manager \n",
      "10 \n",
      "103 \n",
      "jaya \n",
      "3500 \n",
      "manager \n",
      "30 \n",
      "104 \n",
      "raj \n",
      "3200 \n",
      "developer \n",
      "10 \n",
      "105 \n",
      "raju \n",
      "3000 \n",
      "developer \n",
      "20 \n",
      "106 \n",
      "dev \n",
      "3100 \n",
      "developer \n",
      "30 \n",
      "107 \n",
      "abhi \n",
      "1200 \n",
      "designer \n",
      "10 \n",
      "108 \n",
      "abhishek \n",
      "1500 \n",
      "designer \n",
      "20 \n",
      "109 \n",
      "vibhuti \n",
      "3300 \n",
      "manager \n",
      "10 \n"
     ]
    }
   ],
   "source": [
    "import mysql.connector\n",
    "db=mysql.connector.connect(\n",
    "host='localhost',\n",
    "user='root',\n",
    "password='root',\n",
    "database='py12'\n",
    ")\n",
    "cr=db.cursor()\n",
    "qr=\"select * from emp\"\n",
    "cr.execute(qr)\n",
    "data=cr.fetchall()\n",
    "if len(data)>0:\n",
    "    for i in data:\n",
    "        for j in i:\n",
    "            print(j,end=\" \")\n",
    "            print()\n",
    "else:\n",
    "    print(\"no records found\")"
   ]
  },
  {
   "cell_type": "code",
   "execution_count": 32,
   "id": "96878efe",
   "metadata": {},
   "outputs": [
    {
     "name": "stdout",
     "output_type": "stream",
     "text": [
      "101 jaya 3500 manager \n",
      "102 jayash 3500 manager \n",
      "103 harsh 5600 developer \n",
      "104 dev 8900 dba \n"
     ]
    }
   ],
   "source": [
    "import mysql.connector\n",
    "db=mysql.connector.connect(\n",
    "host='localhost',\n",
    "user='root',\n",
    "password='root',\n",
    "database='py121'\n",
    ")\n",
    "cr=db.cursor()\n",
    "qr=\"select * from emp\"\n",
    "cr.execute(qr)\n",
    "data=cr.fetchall()\n",
    "if len(data)>0:\n",
    "    for i in data:\n",
    "        for j in i:\n",
    "            print(j,end=\" \")\n",
    "        print()\n",
    "else:\n",
    "    print(\"no records found\")"
   ]
  },
  {
   "cell_type": "code",
   "execution_count": 34,
   "id": "047cfd4c",
   "metadata": {},
   "outputs": [
    {
     "name": "stdout",
     "output_type": "stream",
     "text": [
      "Enter Id :101\n",
      "101 jaya 3500 manager \n"
     ]
    }
   ],
   "source": [
    "import mysql.connector\n",
    "db=mysql.connector.connect(\n",
    "host='localhost',\n",
    "user='root',\n",
    "password='root',\n",
    "database='py121'\n",
    ")\n",
    "cr=db.cursor()\n",
    "id=int(input(\"Enter Id :\"))\n",
    "qr=\"select * from emp where id=%s\"\n",
    "cr.execute(qr,(id,))\n",
    "data=cr.fetchall()\n",
    "if len(data)>0:\n",
    "    for i in data:\n",
    "        for j in i:\n",
    "            print(j,end=\" \")\n",
    "        print()\n",
    "else:\n",
    "    print(\"no records found\")"
   ]
  },
  {
   "cell_type": "code",
   "execution_count": null,
   "id": "a638db11",
   "metadata": {},
   "outputs": [],
   "source": [
    "# TASK :\n",
    "\n",
    "ek table leni h student...\n",
    "roll\n",
    "name\n",
    "course\n",
    "fees\n",
    "year\n",
    "sem\n",
    "branch\n",
    "this all are student table's column\n",
    "select your choice :\n",
    "1 add student\n",
    "2_delete student\n",
    "3_update student\n",
    "4_show all students list\n",
    "5_search student by roll\n",
    "6_search student by name\n",
    "7_search student by course\n",
    "8_search student by branch\n",
    "9_search student by year\n",
    "10_search by fee condition\n",
    "\n",
    "like fee=5000 or greater than 5000"
   ]
  },
  {
   "cell_type": "code",
   "execution_count": null,
   "id": "37ecdffd",
   "metadata": {},
   "outputs": [],
   "source": []
  }
 ],
 "metadata": {
  "kernelspec": {
   "display_name": "Python 3 (ipykernel)",
   "language": "python",
   "name": "python3"
  },
  "language_info": {
   "codemirror_mode": {
    "name": "ipython",
    "version": 3
   },
   "file_extension": ".py",
   "mimetype": "text/x-python",
   "name": "python",
   "nbconvert_exporter": "python",
   "pygments_lexer": "ipython3",
   "version": "3.9.7"
  }
 },
 "nbformat": 4,
 "nbformat_minor": 5
}
