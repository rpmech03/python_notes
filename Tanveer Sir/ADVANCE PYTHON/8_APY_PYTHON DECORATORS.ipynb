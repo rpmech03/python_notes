{
 "cells": [
  {
   "cell_type": "markdown",
   "id": "87e523a4",
   "metadata": {},
   "source": [
    "# SUPER FUNCTION:\n",
    "\n",
    "If we want to call parent class method from child class method then we will use super function or in case of method overriding\n",
    "\n",
    "if you want to call parent as well as child class method we will use super fun in child class method to call parent class \n",
    "\n",
    "method."
   ]
  },
  {
   "cell_type": "code",
   "execution_count": 2,
   "id": "b00dcf09",
   "metadata": {},
   "outputs": [
    {
     "name": "stdout",
     "output_type": "stream",
     "text": [
      "show is running from demo\n"
     ]
    }
   ],
   "source": [
    "class Dummy:\n",
    "    def show(self):\n",
    "        print(\"show is running from dummy\")\n",
    "class Demo(Dummy):\n",
    "    def show(self):\n",
    "        print(\"show is running from demo\")\n",
    "d=Demo()\n",
    "d.show()\n",
    "        \n",
    "# BUT I WANNA CALL DUMMY CLASS FROM DEMO CLASS SO I WILL USE \"SUPER FUNCTION\" "
   ]
  },
  {
   "cell_type": "code",
   "execution_count": 2,
   "id": "669afd0e",
   "metadata": {},
   "outputs": [
    {
     "name": "stdout",
     "output_type": "stream",
     "text": [
      "show is running from dummy\n",
      "show is running from demo\n"
     ]
    }
   ],
   "source": [
    "class Dummy:\n",
    "    def show(self):\n",
    "        print(\"show is running from dummy\")\n",
    "class Demo(Dummy):\n",
    "    def show(self):\n",
    "        super().show()\n",
    "        print(\"show is running from demo\")\n",
    "d=Demo()\n",
    "d.show()\n",
    "        "
   ]
  },
  {
   "cell_type": "markdown",
   "id": "78ad8b81",
   "metadata": {},
   "source": [
    "# PYTHON DECORATORS:\n",
    "\n",
    "We will represent \"Python decorators\" with the help of \" @ symbol \".Decorator is a special type of fun that 'contains another \n",
    "\n",
    "function in an argument' and 'return an inner function with some extra operation'.In decorators we will treat fun in following \n",
    "\n",
    "ways---\n",
    "\n",
    "1_fun as an object.\n",
    "\n",
    "2_We can pass a function in the argument of another fun.\n",
    "\n",
    "3_A function can return another function.\n",
    "\n",
    "###REAL TIME EX OF DECORATOR : SCHOOL EXAMS\n",
    "\n",
    "WHEN STUDENTS ARE TAKING THEIR EXAM 1STLY THEY HAVE TO BE VERIFIED BEFORE ENTERING THE EXAM HALL LIKE ADMIT CARD N ANY KIND OF \n",
    "\n",
    "CHEATS, THEREAFTER YOU GET THE ENTRY, SO HERE SCHOOL EXAM HALL IS A DECORATOR AND TEACHERS ARE WRAPPER FUN AND STUDENTS ARE \n",
    "\n",
    "ARGUMENTAL FUN SO WHEN YOU ARE WRITING IN THE EXAM HALL NOONE WILL AFFECT YOU MEANS DECORATOR AND WRAPPER FUN BOTH DIDN'T HAVE \n",
    "\n",
    "EFFECT ON ARGUMENTAL FUN."
   ]
  },
  {
   "cell_type": "code",
   "execution_count": null,
   "id": "09d6a5d6",
   "metadata": {},
   "outputs": [],
   "source": [
    "# WHY DO WE USE A DECORATOR?\n",
    "\n",
    "# We will use a decorator when we need to change the behaviour of fun w/o modifying the fun itslef.\n",
    "# (KISI BHI FUN M MODIFICATION NA KRNA PDE BUT ADDITIONAL CHIZE ADD KR SKE)\n",
    "\n",
    "# You can also use one when you need to run the same code on multiple funs.\n",
    "# (EK BAR DECORATOR BNA DIYA TO AP USE BAHUT SARE FUNS M USE KR SKTE H)\n",
    "\n",
    "# Add logging, authorization, test performance, performing caching, verify permissions and so on.\n",
    "\n",
    "#DECORATOR'S PROJ USE:\n",
    "\n",
    "# 1_CRON JOBS:\n",
    "    \n",
    "# APNE KOI FUN RUN KIYA N APNE KOI LOGIN LGAYA HUA HAI N JB YE CRON JOBS RUN HOGI TO USKA NAME N KYA TYM HOGA ,ISKE LIYE SBSE\n",
    "# PHLE DECORATOR DEF KRNE KI NEED HAI."
   ]
  },
  {
   "cell_type": "code",
   "execution_count": 6,
   "id": "1f6a377e",
   "metadata": {},
   "outputs": [],
   "source": [
    "import time"
   ]
  },
  {
   "cell_type": "code",
   "execution_count": 7,
   "id": "c93d30b7",
   "metadata": {},
   "outputs": [],
   "source": [
    "from datetime import datetime"
   ]
  },
  {
   "cell_type": "code",
   "execution_count": 1,
   "id": "3956e9f8",
   "metadata": {},
   "outputs": [],
   "source": [
    "def log_datetime_decorator(func):\n",
    "    '''Log the date & time of a fun'''\n",
    "    def wrapper_func():\n",
    "        print(f\"Function: {func.__name__}\")\n",
    "        print(f\"Run on: {datetime.today().strftime('%Y-%m-%d %H:%M:%S')}\")\n",
    "        print(f'{\"---------------\"}')\n",
    "    return wrapper_func"
   ]
  },
  {
   "cell_type": "code",
   "execution_count": 13,
   "id": "94039360",
   "metadata": {},
   "outputs": [
    {
     "name": "stdout",
     "output_type": "stream",
     "text": [
      "Function: daily_cron_job\n",
      "Run on: 2022-11-04 11:19:57\n",
      "---------------\n",
      "Function: weekly_cron_job\n",
      "Run on: 2022-11-04 11:19:57\n",
      "---------------\n",
      "Function: monthly_cron_job\n",
      "Run on: 2022-11-04 11:19:57\n",
      "---------------\n"
     ]
    }
   ],
   "source": [
    "@log_datetime_decorator\n",
    "def daily_cron_job():\n",
    "    #do anything here\n",
    "    time.sleep(9)\n",
    "    print(\"daily cron jobs has finished\")\n",
    "    \n",
    "@log_datetime_decorator\n",
    "def weekly_cron_job():\n",
    "    #do anything here\n",
    "    time.sleep(61.7)\n",
    "    print(\"weekly cron jobs has finished\")\n",
    "    \n",
    "@log_datetime_decorator\n",
    "def monthly_cron_job():\n",
    "    #do anything here\n",
    "    time.sleep(3.1)\n",
    "    print(\"monthly cron jobs has finished\")\n",
    "    \n",
    "daily_cron_job()\n",
    "weekly_cron_job()\n",
    "monthly_cron_job()\n"
   ]
  },
  {
   "cell_type": "code",
   "execution_count": 3,
   "id": "8e9b03e7",
   "metadata": {},
   "outputs": [
    {
     "name": "stdout",
     "output_type": "stream",
     "text": [
      "show is running\n",
      "show is running\n"
     ]
    }
   ],
   "source": [
    "#1_fun worked as an object:\n",
    "\n",
    "def show():\n",
    "    print(\"show is running\")\n",
    "display=show#function worked as an object\n",
    "show()\n",
    "display()\n",
    "\n",
    "# yha hmne show fun ko var display m store kra diya h...n show ke piche parenthesis nh h that means show ko hmne obj bna diya..\n",
    "# n parenthesis lga diya to wo fun bn jayega or call ho jayega islye parenthesis nh lgayege."
   ]
  },
  {
   "cell_type": "code",
   "execution_count": 6,
   "id": "7159ceaa",
   "metadata": {},
   "outputs": [
    {
     "name": "stdout",
     "output_type": "stream",
     "text": [
      "display is starting\n",
      "show is running\n",
      "display ending\n"
     ]
    }
   ],
   "source": [
    "# 2_We can pass a function in the argument of another fun.\n",
    "\n",
    "def show():\n",
    "    print(\"show is running\")\n",
    "def display(fun):\n",
    "    print(\"display is starting\")\n",
    "    fun()\n",
    "    print(\"display ending\")\n",
    "display(show)\n",
    "\n",
    "# dusre fun ke argument m kisi or ka fun pass kiya h...fun m jo kch ayega use hm call kra dege in the next step like fun()...so\n",
    "# yha show ko display m call kra diya...bich m fun ko call kiya h n display fun m show fun ko call kiya h so bich m show is \n",
    "# running ayega...or show jo h fun m chla gya h....n yha fun n obj ka name same hona chahye jse show is worked here as a fun\n",
    "# but while we are passing it in display fun then it works as an obj."
   ]
  },
  {
   "cell_type": "code",
   "execution_count": 5,
   "id": "1cd0008a",
   "metadata": {},
   "outputs": [
    {
     "name": "stdout",
     "output_type": "stream",
     "text": [
      "inner function is running\n"
     ]
    }
   ],
   "source": [
    "# 3_A function can return another function:\n",
    "\n",
    "def show():\n",
    "    def inner():\n",
    "        print(\"inner function is running\")\n",
    "    return inner\n",
    "display=show()\n",
    "display()\n",
    "\n",
    "# 1st point n 3 rd point m difference ye h ki isme hm only inner part ko he return kra skte  h n 1st point m hm pura ka pura fun\n",
    "# print krwa rhe the ,you can see above.\n",
    "\n",
    "# show fun ka kch or specific part jo h store kra diya h display m then use call krege like display()\n",
    "\n",
    "# show fun ne return kiya h inner(ye ek obj h) ko n hmne show fun ko store kra diya h display m n ab inner display m store ho \n",
    "# chuka h,now we can call display fun."
   ]
  },
  {
   "cell_type": "code",
   "execution_count": null,
   "id": "36dd113f",
   "metadata": {},
   "outputs": [],
   "source": []
  },
  {
   "cell_type": "code",
   "execution_count": null,
   "id": "a8294f60",
   "metadata": {},
   "outputs": [],
   "source": [
    "###WHAT DO YOU MEAN BY DECORATOR?\n",
    "\n",
    "DECORATOR IS JUST A FUN LIKE WHEN WE ARE PASSING STR N INT IN ANY FUN THEN IT IS NORMAL FUN BUT WHEN WE WILL PASS FUN INSIDE THE\n",
    "\n",
    "ARGUMENT OF THE ANOTHER FUN THEN IT IS \"DECORATOR\"\n",
    "\n"
   ]
  },
  {
   "cell_type": "code",
   "execution_count": null,
   "id": "1330cff4",
   "metadata": {},
   "outputs": [],
   "source": [
    "# WHY DO WE USE A DECORATOR?\n",
    "\n",
    "# We will use a decorator when we need to change the behaviour of fun w/o modifying the fun itslef.\n",
    "# (KISI BHI FUN M MODIFICATION NA KRNA PDE BUT ADDITIONAL CHIZE ADD KR SKE)\n",
    "\n",
    "# You can also use one when you need to run the same code on multiple funs.\n",
    "# (EK BAR DECORATOR BNA DIYA TO AP USE BAHUT SARE FUNS M USE KR SKTE H)\n",
    "\n",
    "# Add logging, authorization, test performance, performing caching, verify permissions and so on.\n"
   ]
  },
  {
   "cell_type": "code",
   "execution_count": 8,
   "id": "5f508c8a",
   "metadata": {},
   "outputs": [
    {
     "name": "stdout",
     "output_type": "stream",
     "text": [
      "<function func at 0x000001C0DA62D9D0>\n"
     ]
    }
   ],
   "source": [
    "###1_HOW A FUN EXECUTE IN A PYTHON?\n",
    "\n",
    "# BY USING () OR PARENTHESIS\n",
    "\n",
    "# YHA FUN KI DEFINITION DEKHNE KO MILI BUT WO EXECUTE NH HUA CZ W/O OPEN BRACKET WE CANT EXECUTE A FUN.\n",
    "\n",
    "def func():\n",
    "    print(\"Func runs\")\n",
    "    \n",
    "print(func)"
   ]
  },
  {
   "cell_type": "code",
   "execution_count": 15,
   "id": "38fa01a2",
   "metadata": {},
   "outputs": [
    {
     "name": "stdout",
     "output_type": "stream",
     "text": [
      "Func runs\n",
      "None\n"
     ]
    }
   ],
   "source": [
    "def func():\n",
    "    print(\"Func runs\")\n",
    "    \n",
    "print(func())\n",
    "\n",
    "#YHA NONE ISLYE RETURN KR RHA H CZ HMNE YHA FUN KO RETURN NH KRWAYA H"
   ]
  },
  {
   "cell_type": "code",
   "execution_count": 4,
   "id": "b0ec2b20",
   "metadata": {},
   "outputs": [
    {
     "name": "stdout",
     "output_type": "stream",
     "text": [
      "Func runs\n",
      "func exit\n"
     ]
    }
   ],
   "source": [
    "def func():\n",
    "    print(\"Func runs\")\n",
    "    return \"func exit\"\n",
    "print(func())"
   ]
  },
  {
   "cell_type": "code",
   "execution_count": null,
   "id": "723fbfb7",
   "metadata": {},
   "outputs": [],
   "source": [
    "###2_EVERYTHING IN PYTHON IS AN OBJECT?\n",
    "\n",
    "# SB CHIZE OBJ HOTI H CHAHE WO INT,STR,BOOLEAN VALUE,LIST,TUPLE ETC ETC SO FUN IS ALSO A FUN.\n",
    "\n",
    "# a=1\n",
    "# a=func\n",
    "\n",
    "# a=1 likh diya to wse he a=func ko def kr skta hu cz 1 ek obj hota h to func b ek obj hota h jiski wjh se \n",
    "# hm ye dono chize kr skte h.\n",
    "\n"
   ]
  },
  {
   "cell_type": "code",
   "execution_count": 19,
   "id": "548b7ca1",
   "metadata": {},
   "outputs": [
    {
     "name": "stdout",
     "output_type": "stream",
     "text": [
      "this is func\n"
     ]
    }
   ],
   "source": [
    "def func():\n",
    "    print(\"this is func\")\n",
    "    \n",
    "#assign the fun to a variable w/o perenthesis.\n",
    "#we dont want to execute the fun\n",
    "\n",
    "func_variable = func\n",
    "\n",
    "func_variable()"
   ]
  },
  {
   "cell_type": "code",
   "execution_count": 21,
   "id": "f650baaa",
   "metadata": {},
   "outputs": [
    {
     "name": "stdout",
     "output_type": "stream",
     "text": [
      "this is inner fun\n",
      "this is end of the outer fun\n"
     ]
    }
   ],
   "source": [
    "###3_FUN CAN BE NESTED WITHIN ANOTHER FUN:\n",
    "\n",
    "def outer_fun():#1\n",
    "    def inner_fun():#2\n",
    "        print(\"this is inner fun\")#3\n",
    "        #4\n",
    "    #executing the inner fun inside the outer fun#5\n",
    "    inner_fun()#6\n",
    "    print(\"this is end of the outer fun\")#7\n",
    "    #8\n",
    "outer_fun()#9\n",
    "\n",
    "#ye chiz run kse hogi, hmne outer_fun ko call kiya to sara control outer fun ke pas jayega then 2nd n 3rd line run nh hogi, \n",
    "# usse phle\n",
    "#6th line or inner fun jha call kiya h wo line run hogi cz us tym pr mne inner fun ko call kiya h, so uske bad uske andar wali \n",
    "# line print hogi then agr kch return nh kraya h to kch return nh hoga, uske bad 7th line run hogi so this is end of outer fun."
   ]
  },
  {
   "cell_type": "code",
   "execution_count": 22,
   "id": "0da03a6c",
   "metadata": {},
   "outputs": [
    {
     "ename": "NameError",
     "evalue": "name 'inner_fun' is not defined",
     "output_type": "error",
     "traceback": [
      "\u001b[1;31m---------------------------------------------------------------------------\u001b[0m",
      "\u001b[1;31mNameError\u001b[0m                                 Traceback (most recent call last)",
      "\u001b[1;32m~\\AppData\\Local\\Temp/ipykernel_10068/1665761111.py\u001b[0m in \u001b[0;36m<module>\u001b[1;34m\u001b[0m\n\u001b[0;32m      8\u001b[0m \u001b[1;33m\u001b[0m\u001b[0m\n\u001b[0;32m      9\u001b[0m \u001b[1;31m# outer_fun()\u001b[0m\u001b[1;33m\u001b[0m\u001b[1;33m\u001b[0m\u001b[0m\n\u001b[1;32m---> 10\u001b[1;33m \u001b[0minner_fun\u001b[0m\u001b[1;33m(\u001b[0m\u001b[1;33m)\u001b[0m\u001b[1;33m\u001b[0m\u001b[1;33m\u001b[0m\u001b[0m\n\u001b[0m",
      "\u001b[1;31mNameError\u001b[0m: name 'inner_fun' is not defined"
     ]
    }
   ],
   "source": [
    "def outer_fun():\n",
    "    def inner_fun():\n",
    "        print(\"this is inner fun\")\n",
    "        \n",
    "    #executing the inner fun inside the outer fun\n",
    "    inner_fun()\n",
    "    print(\"this is end of the outer fun\")\n",
    "    \n",
    "# outer_fun()\n",
    "inner_fun()"
   ]
  },
  {
   "cell_type": "code",
   "execution_count": 12,
   "id": "2c58d109",
   "metadata": {},
   "outputs": [
    {
     "name": "stdout",
     "output_type": "stream",
     "text": [
      "this is inner fun\n",
      "this is end of outer fun\n"
     ]
    }
   ],
   "source": [
    "###4_A FUN CAN RETURN ANOTHER FUN:\n",
    "\n",
    "def outer_fun():\n",
    "    def inner_fun():\n",
    "        print(\"this is inner fun\")\n",
    "    return inner_fun()\n",
    "    print(\"this is end of outer fun\")\n",
    "variable_outer_fun = outer_fun\n",
    "\n",
    "variable_outer_fun()"
   ]
  },
  {
   "cell_type": "code",
   "execution_count": 10,
   "id": "a4c3f58c",
   "metadata": {},
   "outputs": [],
   "source": [
    "###5_A FUN CAN BE PASSED TO ANOTHER FUN AS AN ARGUMENT:\n",
    "\n"
   ]
  },
  {
   "cell_type": "code",
   "execution_count": null,
   "id": "c48b95c5",
   "metadata": {},
   "outputs": [],
   "source": []
  },
  {
   "cell_type": "code",
   "execution_count": null,
   "id": "d4ed1c42",
   "metadata": {},
   "outputs": [],
   "source": []
  },
  {
   "cell_type": "code",
   "execution_count": null,
   "id": "db1e5f4d",
   "metadata": {},
   "outputs": [],
   "source": []
  },
  {
   "cell_type": "code",
   "execution_count": null,
   "id": "4be3987f",
   "metadata": {},
   "outputs": [],
   "source": []
  }
 ],
 "metadata": {
  "kernelspec": {
   "display_name": "Python 3 (ipykernel)",
   "language": "python",
   "name": "python3"
  },
  "language_info": {
   "codemirror_mode": {
    "name": "ipython",
    "version": 3
   },
   "file_extension": ".py",
   "mimetype": "text/x-python",
   "name": "python",
   "nbconvert_exporter": "python",
   "pygments_lexer": "ipython3",
   "version": "3.9.7"
  }
 },
 "nbformat": 4,
 "nbformat_minor": 5
}
