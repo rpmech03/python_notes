{
 "cells": [
  {
   "cell_type": "markdown",
   "id": "e362d964",
   "metadata": {},
   "source": [
    "# ACCESS MODIFIERS IN PYTHON:\n",
    "\n",
    "AMIP are mainly use to 'design accessibility and life time of data members and member functions of class'.We will use following \n",
    "\n",
    "three types of access modifiers...\n",
    "\n",
    "1_PUBLIC:\n",
    "\n",
    "We can access public data of class 'within derived class and outside the class'.\n",
    "\n",
    "2_PROTECTED:\n",
    "\n",
    "We can represent protected data member by using 'underscore( _ )' but python exactly 'doesn't support concept of protected' \n",
    "\n",
    "because we 'can access protected data members within derived class' but we 'can't access protected data members outside the \n",
    "\n",
    "class'.\n",
    "\n",
    "3_PRIVATE:\n",
    "\n",
    "We can access 'private data members of class within class only',we can't access private data members outside the class or \n",
    "\n",
    "derived class. \n",
    "\n",
    "Agr m nh chahta ke class ke bahr koi mera data access kr paye so m private ka use kruga."
   ]
  },
  {
   "cell_type": "code",
   "execution_count": 2,
   "id": "7fe88807",
   "metadata": {},
   "outputs": [
    {
     "name": "stdout",
     "output_type": "stream",
     "text": [
      "10\n",
      "20\n"
     ]
    },
    {
     "ename": "AttributeError",
     "evalue": "'Demo' object has no attribute '__c'",
     "output_type": "error",
     "traceback": [
      "\u001b[1;31m---------------------------------------------------------------------------\u001b[0m",
      "\u001b[1;31mAttributeError\u001b[0m                            Traceback (most recent call last)",
      "\u001b[1;32m~\\AppData\\Local\\Temp/ipykernel_5292/3851821306.py\u001b[0m in \u001b[0;36m<module>\u001b[1;34m\u001b[0m\n\u001b[0;32m      7\u001b[0m \u001b[0mprint\u001b[0m\u001b[1;33m(\u001b[0m\u001b[0md\u001b[0m\u001b[1;33m.\u001b[0m\u001b[0ma\u001b[0m\u001b[1;33m)\u001b[0m\u001b[1;33m\u001b[0m\u001b[1;33m\u001b[0m\u001b[0m\n\u001b[0;32m      8\u001b[0m \u001b[0mprint\u001b[0m\u001b[1;33m(\u001b[0m\u001b[0md\u001b[0m\u001b[1;33m.\u001b[0m\u001b[0m_b\u001b[0m\u001b[1;33m)\u001b[0m\u001b[1;33m\u001b[0m\u001b[1;33m\u001b[0m\u001b[0m\n\u001b[1;32m----> 9\u001b[1;33m \u001b[0mprint\u001b[0m\u001b[1;33m(\u001b[0m\u001b[0md\u001b[0m\u001b[1;33m.\u001b[0m\u001b[0m__c\u001b[0m\u001b[1;33m)\u001b[0m\u001b[1;33m\u001b[0m\u001b[1;33m\u001b[0m\u001b[0m\n\u001b[0m",
      "\u001b[1;31mAttributeError\u001b[0m: 'Demo' object has no attribute '__c'"
     ]
    }
   ],
   "source": [
    "# outside class\n",
    "class Demo:\n",
    "    a=10#public\n",
    "    _b=20#protected\n",
    "    __c=10#private\n",
    "d=Demo()\n",
    "print(d.a)\n",
    "print(d._b)\n",
    "print(d.__c)"
   ]
  },
  {
   "cell_type": "code",
   "execution_count": 3,
   "id": "e4095fcb",
   "metadata": {},
   "outputs": [
    {
     "name": "stdout",
     "output_type": "stream",
     "text": [
      "10   20   10\n"
     ]
    }
   ],
   "source": [
    "# within class\n",
    "class Demo:\n",
    "    a=10#public\n",
    "    _b=20#protected\n",
    "    __c=10#private\n",
    "    def show(self):\n",
    "        print(self.a,\" \",self._b,\" \",self.__c)\n",
    "d=Demo()\n",
    "d.show()\n",
    "\n",
    "# within class all accessible."
   ]
  },
  {
   "cell_type": "code",
   "execution_count": 4,
   "id": "d1226000",
   "metadata": {},
   "outputs": [
    {
     "ename": "AttributeError",
     "evalue": "'Demo' object has no attribute '_Demo__c'",
     "output_type": "error",
     "traceback": [
      "\u001b[1;31m---------------------------------------------------------------------------\u001b[0m",
      "\u001b[1;31mAttributeError\u001b[0m                            Traceback (most recent call last)",
      "\u001b[1;32m~\\AppData\\Local\\Temp/ipykernel_5292/3245837701.py\u001b[0m in \u001b[0;36m<module>\u001b[1;34m\u001b[0m\n\u001b[0;32m      8\u001b[0m         \u001b[0mprint\u001b[0m\u001b[1;33m(\u001b[0m\u001b[0mself\u001b[0m\u001b[1;33m.\u001b[0m\u001b[0ma\u001b[0m\u001b[1;33m,\u001b[0m\u001b[1;34m\" \"\u001b[0m\u001b[1;33m,\u001b[0m\u001b[0mself\u001b[0m\u001b[1;33m.\u001b[0m\u001b[0m_b\u001b[0m\u001b[1;33m,\u001b[0m\u001b[1;34m\" \"\u001b[0m\u001b[1;33m,\u001b[0m\u001b[0mself\u001b[0m\u001b[1;33m.\u001b[0m\u001b[0m__c\u001b[0m\u001b[1;33m)\u001b[0m\u001b[1;33m\u001b[0m\u001b[1;33m\u001b[0m\u001b[0m\n\u001b[0;32m      9\u001b[0m \u001b[0md\u001b[0m\u001b[1;33m=\u001b[0m\u001b[0mDemo\u001b[0m\u001b[1;33m(\u001b[0m\u001b[1;33m)\u001b[0m\u001b[1;33m\u001b[0m\u001b[1;33m\u001b[0m\u001b[0m\n\u001b[1;32m---> 10\u001b[1;33m \u001b[0md\u001b[0m\u001b[1;33m.\u001b[0m\u001b[0mshow\u001b[0m\u001b[1;33m(\u001b[0m\u001b[1;33m)\u001b[0m\u001b[1;33m\u001b[0m\u001b[1;33m\u001b[0m\u001b[0m\n\u001b[0m",
      "\u001b[1;32m~\\AppData\\Local\\Temp/ipykernel_5292/3245837701.py\u001b[0m in \u001b[0;36mshow\u001b[1;34m(self)\u001b[0m\n\u001b[0;32m      6\u001b[0m \u001b[1;32mclass\u001b[0m \u001b[0mDemo\u001b[0m\u001b[1;33m(\u001b[0m\u001b[0mDummy\u001b[0m\u001b[1;33m)\u001b[0m\u001b[1;33m:\u001b[0m\u001b[1;33m\u001b[0m\u001b[1;33m\u001b[0m\u001b[0m\n\u001b[0;32m      7\u001b[0m     \u001b[1;32mdef\u001b[0m \u001b[0mshow\u001b[0m\u001b[1;33m(\u001b[0m\u001b[0mself\u001b[0m\u001b[1;33m)\u001b[0m\u001b[1;33m:\u001b[0m\u001b[1;33m\u001b[0m\u001b[1;33m\u001b[0m\u001b[0m\n\u001b[1;32m----> 8\u001b[1;33m         \u001b[0mprint\u001b[0m\u001b[1;33m(\u001b[0m\u001b[0mself\u001b[0m\u001b[1;33m.\u001b[0m\u001b[0ma\u001b[0m\u001b[1;33m,\u001b[0m\u001b[1;34m\" \"\u001b[0m\u001b[1;33m,\u001b[0m\u001b[0mself\u001b[0m\u001b[1;33m.\u001b[0m\u001b[0m_b\u001b[0m\u001b[1;33m,\u001b[0m\u001b[1;34m\" \"\u001b[0m\u001b[1;33m,\u001b[0m\u001b[0mself\u001b[0m\u001b[1;33m.\u001b[0m\u001b[0m__c\u001b[0m\u001b[1;33m)\u001b[0m\u001b[1;33m\u001b[0m\u001b[1;33m\u001b[0m\u001b[0m\n\u001b[0m\u001b[0;32m      9\u001b[0m \u001b[0md\u001b[0m\u001b[1;33m=\u001b[0m\u001b[0mDemo\u001b[0m\u001b[1;33m(\u001b[0m\u001b[1;33m)\u001b[0m\u001b[1;33m\u001b[0m\u001b[1;33m\u001b[0m\u001b[0m\n\u001b[0;32m     10\u001b[0m \u001b[0md\u001b[0m\u001b[1;33m.\u001b[0m\u001b[0mshow\u001b[0m\u001b[1;33m(\u001b[0m\u001b[1;33m)\u001b[0m\u001b[1;33m\u001b[0m\u001b[1;33m\u001b[0m\u001b[0m\n",
      "\u001b[1;31mAttributeError\u001b[0m: 'Demo' object has no attribute '_Demo__c'"
     ]
    }
   ],
   "source": [
    "# within child or derived class\n",
    "class Dummy:\n",
    "        a=10#public\n",
    "        _b=20#protected\n",
    "        __c=10#private\n",
    "class Demo(Dummy):\n",
    "    def show(self):\n",
    "        print(self.a,\" \",self._b,\" \",self.__c)\n",
    "d=Demo()\n",
    "d.show()\n",
    "\n",
    "# how any condition we cant use private outside the class"
   ]
  },
  {
   "cell_type": "markdown",
   "id": "7c797b21",
   "metadata": {},
   "source": [
    "# ENCAPSULATION:\n",
    "    \n",
    "It is a process of OOP SYSTEM in which we will 'bind data members and member function in single unit'.We can achieve \n",
    "\n",
    "encapsulation when a 'class contains private properties and setter methods' to 'set data of private properties' and 'getter \n",
    "\n",
    "methods to get data of private properties',so if a 'class contains private properties and setter and getter method' so we will \n",
    "\n",
    "call it \"Encapsulate class\".\n",
    "\n",
    "encapsulate class =PSG\n",
    "\n",
    "P= PVT PROPERTIES\n",
    "S= SETTER METHOD\n",
    "G= GETTER METHOD"
   ]
  },
  {
   "cell_type": "code",
   "execution_count": 5,
   "id": "c7fb12a4",
   "metadata": {},
   "outputs": [
    {
     "name": "stdout",
     "output_type": "stream",
     "text": [
      "101\n",
      "Ajay\n"
     ]
    }
   ],
   "source": [
    "class Emp:\n",
    "    __empno:int\n",
    "    __name:str\n",
    "    def setEmpno(self,empno):\n",
    "        self.__empno=empno\n",
    "    def setName(self,name):\n",
    "        self.__name=name\n",
    "    def getEmpno(self):\n",
    "        return self.__empno\n",
    "    def getName(self):\n",
    "        return self.__name\n",
    "e=Emp()\n",
    "e.setEmpno(101)\n",
    "print(e.getEmpno())\n",
    "e.setName(\"Ajay\")\n",
    "print(e.getName())\n",
    "\n"
   ]
  },
  {
   "cell_type": "code",
   "execution_count": null,
   "id": "44fccaa0",
   "metadata": {},
   "outputs": [],
   "source": []
  }
 ],
 "metadata": {
  "kernelspec": {
   "display_name": "Python 3 (ipykernel)",
   "language": "python",
   "name": "python3"
  },
  "language_info": {
   "codemirror_mode": {
    "name": "ipython",
    "version": 3
   },
   "file_extension": ".py",
   "mimetype": "text/x-python",
   "name": "python",
   "nbconvert_exporter": "python",
   "pygments_lexer": "ipython3",
   "version": "3.9.7"
  }
 },
 "nbformat": 4,
 "nbformat_minor": 5
}
