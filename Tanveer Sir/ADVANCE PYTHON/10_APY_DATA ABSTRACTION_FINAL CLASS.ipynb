{
 "cells": [
  {
   "cell_type": "markdown",
   "id": "b4c46e9b",
   "metadata": {},
   "source": [
    "# DATA ABSTRACTION OR ABSTRACT CLASS:\n",
    "\n",
    "A class that contains 'all the declaration of methods' which we can 'implement in child class' is known \n",
    "\n",
    "as \"Abstract class\".\n",
    "\n",
    "A class which 'inherit ABC class of abc module' and in which we will 'define all the abstarct methods with decorator' is known \n",
    "\n",
    "as \"Abstract class\".When a 'class will inherit an abstract class' then we 'will over-ride all the abstract method of abstract \n",
    "\n",
    "class into child class' 'otherwise we shall consider child class also as abstract'.\n",
    "\n",
    "\"We can't create an object of an abstract class\"\n",
    "\n",
    "example1:\n",
    "\n",
    "1 bhk---bed,hall,kitchen...size nh bta skte h exactly kya hoga cz wo matter krta h ki apko uska size kitna rkhna h ya bnane\n",
    "wale ne kitna rkha tha...but normally kch purchase krna ho to is type ke words hm use krte h like 1bhk,2bhk like that so is type ke words hmne phle se bnakr rkhe hue h ya define krke rkha h..agr kch search krna ho to inhi names ka use krte h like 1 bhk flat so isme fix h ki 1 bed,1hall,1kitchen hoga he hoga ye kisi ko btana nh pdega so 1bhk flat ka jo critera h isi ko hm abstraction khte h.\n",
    "\n",
    "example2:\n",
    "\n",
    "mne programmers point ki 5 frenchise open krni h so m iske phle se he kch criteria fix krke rkhuga ki ye rules h agr ap is rules ko follow kr paoge tbhi hm apko franchise dege otherwise nh so ye jo rules h predefined h isi ko hm abstraction class kehte h...like chai sutta baar...usne apne abstraction decide krke rkha h ki ye chize hogi tbhi ap franchise le skte ho...\n",
    "\n",
    "so ase he jb b koi software bnaya jata h to uska ek abstraction model bnaya jta h...rbi apna abstract model bnayega...n jb b apko ac open krwana hota h to ap sbi ya axis ya kisi b bank ke pas jate ho na ki rbi ke pas so all the banks follow the rules of rbi means rbi ne phle se he apne abstraction decide krke rkhe h ke jisko b bank bnana h use rbi ko inherit krna pdega...n abstract model is nothing but it is abstract class whatever the operation you want to make them perform just define inside of it...\n",
    "\n",
    "class bnai rbi nam se but agr use abstract bnana h to hme module abc se import krna h ABC class ko or sath he sath ek decorator fun h abstarctmethod usko b..dono he abc module se milega.. ab mjhe kisi class ko abstract bnana h to always inherit krega ABC class ko tb tk wo abstract class nh bnega...ab rbi ne apne kch rules define kr diye jise koi change nh kr skta n isme ek or method define ki or uska nam h deposit..but kya ap rbi m jate ho kya psa deposit krne nh na but unfortunately apka psa rbi m he deposit hota h n again withdraw ko define kr diya n ab m chahta hu ki jo b class is rbi ko inherit kre wo indono method ko override kre or can say dono ko abstract bnana h...\"jb kisi fun or method m koi extra functionality add krana ho n return krana ho to decorators ka use krte h\"....rbi class m total 3 method h rules,deposit,withdrawl n isme se \n",
    "abstarct method do he h deposit n withdraw...\n",
    "\n",
    "from abc import ABC,abstractmethod---abstractmethod is a decorator.\n",
    "class Rbi(ABC):\n",
    "    def rules(self):\n",
    "        print(\"rules given by RBI\")\n",
    "    @abstractmethod\n",
    "    def deposit(self):\n",
    "        pass\n",
    "    @abstractmethod\n",
    "    def withdraw(self):\n",
    "        pass\n",
    "class Sbi(Rbi):\n",
    "    def welcome(self):\n",
    "        print(\"welcome to sbi\")\n",
    "    def deposit(self):\n",
    "        print(\"deposit amoubt in sbi\")\n",
    "    def withdraw(self):\n",
    "        print(\"you can withdraw amoubt from sbi\")\n",
    "s=Sbi()\n",
    "s.welcome()\n",
    "s.rules()\n",
    "s.deposit()\n",
    "s.withdraw()\n",
    "\n",
    "###interview ques---\n",
    "\n",
    "'agr ab m yha rbi ka obj create kr lu to error ajayega cz hm abstract class n abstract methods ka object create nh kr skta \n",
    "\n",
    "hu'...yha 'inheritance n decorators dono use ho rhe h'...\n",
    "\n",
    "ab mne ek or class bnai ie sbi..sbi ne rbi ko inherit kiya...n mne yha def kr\n",
    "\n",
    "diya method welcome n sbi m total 4 method h abhi tk 3 to rbi ki h n ek sbi khud ki..n rbi ki do method abstract h or can say \n",
    "\n",
    "incomplete method n class m ek b method abstract h to hm kisi ek ko chhode bina uska objective nh bna payege so hme inko \n",
    "\n",
    "override krna he hoga sbi class m ...\"without override kiye obj bnayege to error ajayega\"...n \"yha hmesa objective child class\n",
    "\n",
    "ka he bnega ie sbi\"...\"isme hm override kr rhe h but yha mandatory h ki override krna he h jo abstract h but polymorphism m \n",
    "\n",
    "mandatory nh hota h\" ...\n",
    "\n",
    "Que:why we cant create object of abstract class???\n",
    "\n",
    "If we will create an object of abstract class then we will get an error because if we create then anyone can use that class.\n",
    "\n",
    "Hence, only way to use this abstract class to override the methods of abstract class.\n",
    "\n",
    "We get error if we make an object w/o doing override and one more thing to remember here sir we will make an object of only \n",
    "\n",
    "child class.\n",
    "\n",
    "EXAMPLE:\n",
    "\n",
    "ABSTRACT MODEL JO BNAYA H USE HIDE KRKE RKHEGE LIKE JO ABHI RBI WALA ABSTRACT MODEL BNAYA H USE HIDE KR DENGE N JO BANK SBI H USME INHERIT KR LENGE RBI ABSTRACT MODEL KO CZ RBI APNA PURA ABSTRACT MODEL THODE HE DEGA ...UTNI HE CHIZE DEGA JITNA REQUIRED H BANK BNANE KE LIYE...THIS IS THE EXAMPLE OF ABSTRACTION CLASS."
   ]
  },
  {
   "cell_type": "code",
   "execution_count": null,
   "id": "acc0d081",
   "metadata": {},
   "outputs": [],
   "source": [
    "from abc[module hai] import ABC[ye class hai],abstractmethod[decorator fun hai]"
   ]
  },
  {
   "cell_type": "code",
   "execution_count": 1,
   "id": "409f6edf",
   "metadata": {},
   "outputs": [
    {
     "name": "stdout",
     "output_type": "stream",
     "text": [
      "welcome to sbi\n",
      "rules given by RBI\n",
      "deposit amoubt in sbi\n",
      "you can withdraw amoubt from sbi\n"
     ]
    }
   ],
   "source": [
    "from abc import ABC,abstractmethod\n",
    "class Rbi(ABC):\n",
    "    def rules(self):\n",
    "        print(\"rules given by RBI\")\n",
    "    @abstractmethod\n",
    "    def deposit(self):\n",
    "        pass\n",
    "    @abstractmethod\n",
    "    def withdraw(self):\n",
    "        pass\n",
    "class Sbi(Rbi):\n",
    "    def welcome(self):\n",
    "        print(\"welcome to sbi\")\n",
    "    def deposit(self):\n",
    "        print(\"deposit amoubt in sbi\")\n",
    "    def withdraw(self):\n",
    "        print(\"you can withdraw amoubt from sbi\")\n",
    "s=Sbi()\n",
    "s.welcome()\n",
    "s.rules()\n",
    "s.deposit()\n",
    "s.withdraw()"
   ]
  },
  {
   "cell_type": "code",
   "execution_count": 1,
   "id": "f16e5011",
   "metadata": {},
   "outputs": [],
   "source": [
    "from abc import ABC,abstractmethod\n",
    "class Rbi(ABC):\n",
    "    def rules(self):\n",
    "        print(\"rules give by RBI\")\n",
    "    @abstractmethod\n",
    "    def deposit(self):\n",
    "        pass\n",
    "    @abstractmethod\n",
    "    def withdraw(self):\n",
    "        pass"
   ]
  },
  {
   "cell_type": "code",
   "execution_count": 2,
   "id": "1cf32b6b",
   "metadata": {},
   "outputs": [
    {
     "name": "stdout",
     "output_type": "stream",
     "text": [
      "welcome to sbi\n",
      "rules give by RBI\n",
      "deposit amoubt in sbi\n",
      "you can withdraw amoubt from sbi\n"
     ]
    }
   ],
   "source": [
    "class Sbi(Rbi):\n",
    "    def welcome(self):\n",
    "        print(\"welcome to sbi\")\n",
    "    def deposit(self):\n",
    "        print(\"deposit amoubt in sbi\")\n",
    "    def withdraw(self):\n",
    "        print(\"you can withdraw amoubt from sbi\")\n",
    "s=Sbi()\n",
    "s.welcome()\n",
    "s.rules()\n",
    "s.deposit()\n",
    "s.withdraw()"
   ]
  },
  {
   "cell_type": "markdown",
   "id": "f1208ffd",
   "metadata": {},
   "source": [
    "# FINAL CLASS:\n",
    "\n",
    "If you want 'make a class as final' then 'we will use final decorator before class' and we 'cant inherit a final class but if \n",
    "\n",
    "you want to make a class final we will import final decorator from final_class module'.We can 'install following pip to use \n",
    "\n",
    "\n",
    "final class in python'...\n",
    "\n",
    "!pip install final-class\n",
    "\n",
    "We can use final class after python 3.6.\n",
    "\n",
    "3.6 se phle final class ka concept nh tha.\n",
    "\n",
    "\n",
    "\"agr apko kisi b class ka aggregation stop krna ho to ap us class ko abstract bnayege..ab m kisi class ka inheritance stop krna chahta hu to m class ka final class bnauga\""
   ]
  },
  {
   "cell_type": "code",
   "execution_count": 2,
   "id": "838c64b8",
   "metadata": {},
   "outputs": [
    {
     "name": "stdout",
     "output_type": "stream",
     "text": [
      "Requirement already satisfied: final-class in c:\\users\\hzt\\anaconda3\\lib\\site-packages (0.2.0)\n",
      "Requirement already satisfied: typing_extensions<4.0,>=3.7 in c:\\users\\hzt\\anaconda3\\lib\\site-packages (from final-class) (3.10.0.2)\n"
     ]
    }
   ],
   "source": [
    "!pip install final-class "
   ]
  },
  {
   "cell_type": "code",
   "execution_count": 8,
   "id": "4f8c6f96",
   "metadata": {},
   "outputs": [],
   "source": [
    "from final_class import final"
   ]
  },
  {
   "cell_type": "code",
   "execution_count": 1,
   "id": "8a4f0f66",
   "metadata": {},
   "outputs": [
    {
     "name": "stdout",
     "output_type": "stream",
     "text": [
      "show is running from Demo\n"
     ]
    }
   ],
   "source": [
    "# from final_class import final\n",
    "# @final\n",
    "class Base:\n",
    "    def show(self):\n",
    "        print(\"show is running from Base\")\n",
    "class Demo(Base):\n",
    "    def show(self):\n",
    "        print(\"show is running from Demo\")\n",
    "d=Demo()\n",
    "d.show()"
   ]
  },
  {
   "cell_type": "code",
   "execution_count": 9,
   "id": "e9bdcb1b",
   "metadata": {},
   "outputs": [
    {
     "ename": "TypeError",
     "evalue": "Subclassing final classes is restricted",
     "output_type": "error",
     "traceback": [
      "\u001b[1;31m---------------------------------------------------------------------------\u001b[0m",
      "\u001b[1;31mTypeError\u001b[0m                                 Traceback (most recent call last)",
      "\u001b[1;32m~\\AppData\\Local\\Temp/ipykernel_8460/357559955.py\u001b[0m in \u001b[0;36m<module>\u001b[1;34m\u001b[0m\n\u001b[0;32m      4\u001b[0m     \u001b[1;32mdef\u001b[0m \u001b[0mshow\u001b[0m\u001b[1;33m(\u001b[0m\u001b[0mself\u001b[0m\u001b[1;33m)\u001b[0m\u001b[1;33m:\u001b[0m\u001b[1;33m\u001b[0m\u001b[1;33m\u001b[0m\u001b[0m\n\u001b[0;32m      5\u001b[0m         \u001b[0mprint\u001b[0m\u001b[1;33m(\u001b[0m\u001b[1;34m\"show is running from Base\"\u001b[0m\u001b[1;33m)\u001b[0m\u001b[1;33m\u001b[0m\u001b[1;33m\u001b[0m\u001b[0m\n\u001b[1;32m----> 6\u001b[1;33m \u001b[1;32mclass\u001b[0m \u001b[0mDemo\u001b[0m\u001b[1;33m(\u001b[0m\u001b[0mBase\u001b[0m\u001b[1;33m)\u001b[0m\u001b[1;33m:\u001b[0m\u001b[1;33m\u001b[0m\u001b[1;33m\u001b[0m\u001b[0m\n\u001b[0m\u001b[0;32m      7\u001b[0m     \u001b[1;32mdef\u001b[0m \u001b[0mshow\u001b[0m\u001b[1;33m(\u001b[0m\u001b[0mself\u001b[0m\u001b[1;33m)\u001b[0m\u001b[1;33m:\u001b[0m\u001b[1;33m\u001b[0m\u001b[1;33m\u001b[0m\u001b[0m\n\u001b[0;32m      8\u001b[0m         \u001b[0mprint\u001b[0m\u001b[1;33m(\u001b[0m\u001b[1;34m\"show is running from Demo\"\u001b[0m\u001b[1;33m)\u001b[0m\u001b[1;33m\u001b[0m\u001b[1;33m\u001b[0m\u001b[0m\n",
      "\u001b[1;32m~\\anaconda3\\lib\\site-packages\\final_class\\final_class.py\u001b[0m in \u001b[0;36m_init_subclass\u001b[1;34m(cls, *args, **kwargs)\u001b[0m\n\u001b[0;32m      3\u001b[0m \u001b[1;33m\u001b[0m\u001b[0m\n\u001b[0;32m      4\u001b[0m \u001b[1;32mdef\u001b[0m \u001b[0m_init_subclass\u001b[0m\u001b[1;33m(\u001b[0m\u001b[0mcls\u001b[0m\u001b[1;33m,\u001b[0m \u001b[1;33m*\u001b[0m\u001b[0margs\u001b[0m\u001b[1;33m,\u001b[0m \u001b[1;33m**\u001b[0m\u001b[0mkwargs\u001b[0m\u001b[1;33m)\u001b[0m \u001b[1;33m->\u001b[0m \u001b[1;32mNone\u001b[0m\u001b[1;33m:\u001b[0m\u001b[1;33m\u001b[0m\u001b[1;33m\u001b[0m\u001b[0m\n\u001b[1;32m----> 5\u001b[1;33m     \u001b[1;32mraise\u001b[0m \u001b[0mTypeError\u001b[0m\u001b[1;33m(\u001b[0m\u001b[1;34m'Subclassing final classes is restricted'\u001b[0m\u001b[1;33m)\u001b[0m\u001b[1;33m\u001b[0m\u001b[1;33m\u001b[0m\u001b[0m\n\u001b[0m\u001b[0;32m      6\u001b[0m \u001b[1;33m\u001b[0m\u001b[0m\n\u001b[0;32m      7\u001b[0m \u001b[1;33m\u001b[0m\u001b[0m\n",
      "\u001b[1;31mTypeError\u001b[0m: Subclassing final classes is restricted"
     ]
    }
   ],
   "source": [
    "from final_class import final\n",
    "@final\n",
    "class Base:\n",
    "    def show(self):\n",
    "        print(\"show is running from Base\")\n",
    "class Demo(Base):\n",
    "    def show(self):\n",
    "        print(\"show is running from Demo\")\n",
    "d=Demo()\n",
    "d.show()"
   ]
  },
  {
   "cell_type": "markdown",
   "id": "ed336a42",
   "metadata": {},
   "source": [
    "# note:\n",
    "\n",
    "m nh chahta ki base class ko koi override kre so m iska inheritance stop krwa duga..to class ke andar @final lga do ...usse phle hme final_class se import krna hoga final ko...n ise koi inherit krne ka try krega to error ajayega... "
   ]
  }
 ],
 "metadata": {
  "kernelspec": {
   "display_name": "Python 3 (ipykernel)",
   "language": "python",
   "name": "python3"
  },
  "language_info": {
   "codemirror_mode": {
    "name": "ipython",
    "version": 3
   },
   "file_extension": ".py",
   "mimetype": "text/x-python",
   "name": "python",
   "nbconvert_exporter": "python",
   "pygments_lexer": "ipython3",
   "version": "3.9.7"
  }
 },
 "nbformat": 4,
 "nbformat_minor": 5
}
