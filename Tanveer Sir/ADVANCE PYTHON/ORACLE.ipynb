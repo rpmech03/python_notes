{
 "cells": [
  {
   "cell_type": "code",
   "execution_count": null,
   "id": "7aaefc32",
   "metadata": {},
   "outputs": [],
   "source": [
    "update emp set sal=3300 where id=109;\n",
    "update emp set job='manager',deptno=10 where id=109;\n",
    "\n",
    "alter table emp add comm int(3);\n",
    "update emp set comm=500;// to set default value\n",
    "alter table emp modify column comm int(5);\n",
    "alter table emp drop column comm;\n",
    "\n"
   ]
  },
  {
   "cell_type": "code",
   "execution_count": null,
   "id": "3d6a1a10",
   "metadata": {},
   "outputs": [],
   "source": [
    " select name from emp order by name;\n",
    "select name from emp order by name desc;"
   ]
  },
  {
   "cell_type": "code",
   "execution_count": null,
   "id": "f4c49dcf",
   "metadata": {},
   "outputs": [],
   "source": [
    "create table student(roll int primary key,name varchar(20) not null,mob int unique,fees int default 6000);"
   ]
  }
 ],
 "metadata": {
  "kernelspec": {
   "display_name": "Python 3 (ipykernel)",
   "language": "python",
   "name": "python3"
  },
  "language_info": {
   "codemirror_mode": {
    "name": "ipython",
    "version": 3
   },
   "file_extension": ".py",
   "mimetype": "text/x-python",
   "name": "python",
   "nbconvert_exporter": "python",
   "pygments_lexer": "ipython3",
   "version": "3.9.7"
  }
 },
 "nbformat": 4,
 "nbformat_minor": 5
}
