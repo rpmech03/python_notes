{
 "cells": [
  {
   "cell_type": "code",
   "execution_count": 1,
   "id": "caf4889c",
   "metadata": {},
   "outputs": [
    {
     "name": "stdout",
     "output_type": "stream",
     "text": [
      "101   ajay\n",
      "102   jay\n",
      "103   jaya\n"
     ]
    }
   ],
   "source": [
    "class Emp:\n",
    "    eid:int\n",
    "    name:str\n",
    "    def __init__(self,eid,name):\n",
    "        self.eid=eid\n",
    "        self.name=name\n",
    "    def show(self):\n",
    "        print(self.eid,\" \",self.name)\n",
    "e1=Emp(101,\"ajay\")\n",
    "e2=Emp(102,\"jay\")\n",
    "e3=Emp(103,\"jaya\")\n",
    "a=[e1,e2,e3]\n",
    "for i in a:\n",
    "    i.show()"
   ]
  },
  {
   "cell_type": "code",
   "execution_count": null,
   "id": "b964e118",
   "metadata": {},
   "outputs": [],
   "source": [
    "# yha hmne bs phle jo kiya tha whi kiya h bs last m tino obj ko store kra diya 'list a' m n usme loop chlakar traverse krwa liya\n",
    "# then i m show method call kra diya."
   ]
  },
  {
   "cell_type": "code",
   "execution_count": 4,
   "id": "71bea45a",
   "metadata": {},
   "outputs": [
    {
     "name": "stdout",
     "output_type": "stream",
     "text": [
      "103   jaya   45000\n"
     ]
    }
   ],
   "source": [
    "# MAX SALARY:\n",
    "\n",
    "class Emp:\n",
    "    eid:int\n",
    "    name:str\n",
    "    sal:int\n",
    "    def __init__(self,eid,name,sal):\n",
    "        self.eid=eid\n",
    "        self.name=name\n",
    "        self.sal=sal\n",
    "    def show(self):\n",
    "        print(self.eid,\" \",self.name,\" \",self.sal)\n",
    "e1=Emp(101,\"ajay\",25000)\n",
    "e2=Emp(102,\"jay\",35000)\n",
    "e3=Emp(103,\"jaya\",45000)\n",
    "a=[e1,e2,e3]\n",
    "b=0\n",
    "o=None\n",
    "for i in a:\n",
    "    if i.sal>b:\n",
    "        b=i.sal\n",
    "        o=i\n",
    "o.show()\n",
    "  \n",
    "\n",
    "\n",
    "# yha condition lga di ki jiski sal b se jyada hogi whi age bdega..ab b se bdi sal wala i.sal m se b m store ho gya n ab yha o \n",
    "# ko islye liya gya h taki ek asi memory ho jisme kch na ho bs jiski sal sbse jyada ho whi store ho so hm i=o kr dete h n last m\n",
    "# show fun call kr dete h o me."
   ]
  },
  {
   "cell_type": "code",
   "execution_count": 9,
   "id": "13ecc8c5",
   "metadata": {},
   "outputs": [
    {
     "name": "stdout",
     "output_type": "stream",
     "text": [
      "101   ajay   25000\n",
      "102   jay   35000\n",
      "103   jaya   45000\n",
      "Total Sal Amount is 105000\n",
      "Avg Sal is 35000.0\n"
     ]
    }
   ],
   "source": [
    "# AVG SALARY :\n",
    "\n",
    "class Emp:\n",
    "    eid:int\n",
    "    name:str\n",
    "    sal:int\n",
    "    def __init__(self,eid,name,sal):\n",
    "        self.eid=eid\n",
    "        self.name=name\n",
    "        self.sal=sal\n",
    "    def show(self):\n",
    "        print(self.eid,\" \",self.name,\" \",self.sal)\n",
    "e1=Emp(101,\"ajay\",25000)\n",
    "e2=Emp(102,\"jay\",35000)\n",
    "e3=Emp(103,\"jaya\",45000)\n",
    "a=[e1,e2,e3]\n",
    "s=0\n",
    "for i in a:\n",
    "    i.show()\n",
    "    s=s+i.sal\n",
    "print(\"Total Sal Amount is\",s)\n",
    "print(\"Avg Sal is\",s/len(a))"
   ]
  },
  {
   "cell_type": "code",
   "execution_count": 7,
   "id": "8204bffe",
   "metadata": {},
   "outputs": [
    {
     "name": "stdout",
     "output_type": "stream",
     "text": [
      "enter no of emps :4\n",
      "Enter Details For Emp 1\n",
      "Enter Emp Id :101\n",
      "Enter Emp Name :Ajay\n",
      "Enter Emp Sal :25000\n",
      "Enter Details For Emp 2\n",
      "Enter Emp Id :102\n",
      "Enter Emp Name :Jay\n",
      "Enter Emp Sal :30000\n",
      "Enter Details For Emp 3\n",
      "Enter Emp Id :103\n",
      "Enter Emp Name :Jaya\n",
      "Enter Emp Sal :35000\n",
      "Enter Details For Emp 4\n",
      "Enter Emp Id :104\n",
      "Enter Emp Name :Abhi\n",
      "Enter Emp Sal :40000\n",
      "Your Emp List is :\n",
      "101   Ajay   25000\n",
      "102   Jay   30000\n",
      "103   Jaya   35000\n",
      "104   Abhi   40000\n"
     ]
    }
   ],
   "source": [
    "class Emp:\n",
    "    eid:int\n",
    "    name:str\n",
    "    sal:int\n",
    "    def __init__(self,eid,name,sal):\n",
    "        self.eid=eid\n",
    "        self.name=name\n",
    "        self.sal=sal\n",
    "    def show(self):\n",
    "        print(self.eid,\" \",self.name,\" \",self.sal)\n",
    "a=[]\n",
    "n=int(input(\"enter no of emps :\"))\n",
    "for i in range(1,n+1):\n",
    "    print(\"Enter Details For Emp\",i)\n",
    "    eid=int(input(\"Enter Emp Id :\"))\n",
    "    name=input(\"Enter Emp Name :\")\n",
    "    sal=int(input(\"Enter Emp Sal :\"))\n",
    "    e=Emp(eid,name,sal)\n",
    "    a.append(e)\n",
    "print(\"Your Emp List is :\")\n",
    "for i in a:\n",
    "    i.show()\n",
    "    \n",
    "# baki sari chize same rhegi show methods tk bs uske bad hme empty list a le lenge...then input lenge no of emps ka then loop\n",
    "# chlwa denge 1 to n+1 tk...phir jo details h emp ki use print krwa denge...then 1 by 1,eid ,name,sal inka input lete chlege..\n",
    "# then class Emp h use e m store krwa denge n arguments de denge eid,name,sal ka...then a m append krwa denge e ko ..iske bad\n",
    "# print krwa denge list ko n list element ko traverse krne ke liye loop chla denge n show method call krwa ke list show krwa deg"
   ]
  },
  {
   "cell_type": "code",
   "execution_count": 4,
   "id": "e85eb4f5",
   "metadata": {},
   "outputs": [
    {
     "name": "stdout",
     "output_type": "stream",
     "text": [
      "enter no of emps :3\n",
      "Enter Details For Emp 1\n",
      "Enter Emp Id :101\n",
      "Enter Emp Name :Kanha\n",
      "Enter Emp Sal :20000\n"
     ]
    },
    {
     "ename": "AttributeError",
     "evalue": "'dict' object has no attribute 'append'",
     "output_type": "error",
     "traceback": [
      "\u001b[1;31m---------------------------------------------------------------------------\u001b[0m",
      "\u001b[1;31mAttributeError\u001b[0m                            Traceback (most recent call last)",
      "\u001b[1;32m~\\AppData\\Local\\Temp/ipykernel_1576/4207194836.py\u001b[0m in \u001b[0;36m<module>\u001b[1;34m\u001b[0m\n\u001b[0;32m     17\u001b[0m     \u001b[0msal\u001b[0m\u001b[1;33m=\u001b[0m\u001b[0mint\u001b[0m\u001b[1;33m(\u001b[0m\u001b[0minput\u001b[0m\u001b[1;33m(\u001b[0m\u001b[1;34m\"Enter Emp Sal :\"\u001b[0m\u001b[1;33m)\u001b[0m\u001b[1;33m)\u001b[0m\u001b[1;33m\u001b[0m\u001b[1;33m\u001b[0m\u001b[0m\n\u001b[0;32m     18\u001b[0m     \u001b[0me\u001b[0m\u001b[1;33m=\u001b[0m\u001b[0mEmp\u001b[0m\u001b[1;33m(\u001b[0m\u001b[0meid\u001b[0m\u001b[1;33m,\u001b[0m\u001b[0mname\u001b[0m\u001b[1;33m,\u001b[0m\u001b[0msal\u001b[0m\u001b[1;33m)\u001b[0m\u001b[1;33m\u001b[0m\u001b[1;33m\u001b[0m\u001b[0m\n\u001b[1;32m---> 19\u001b[1;33m     \u001b[0ma\u001b[0m\u001b[1;33m.\u001b[0m\u001b[0mappend\u001b[0m\u001b[1;33m(\u001b[0m\u001b[0me\u001b[0m\u001b[1;33m)\u001b[0m\u001b[1;33m\u001b[0m\u001b[1;33m\u001b[0m\u001b[0m\n\u001b[0m\u001b[0;32m     20\u001b[0m \u001b[0mprint\u001b[0m\u001b[1;33m(\u001b[0m\u001b[1;34m\"Your Emp List is :\"\u001b[0m\u001b[1;33m)\u001b[0m\u001b[1;33m\u001b[0m\u001b[1;33m\u001b[0m\u001b[0m\n\u001b[0;32m     21\u001b[0m \u001b[1;32mfor\u001b[0m \u001b[0mi\u001b[0m \u001b[1;32min\u001b[0m \u001b[0ma\u001b[0m\u001b[1;33m:\u001b[0m\u001b[1;33m\u001b[0m\u001b[1;33m\u001b[0m\u001b[0m\n",
      "\u001b[1;31mAttributeError\u001b[0m: 'dict' object has no attribute 'append'"
     ]
    }
   ],
   "source": [
    "class Emp:\n",
    "    eid:int\n",
    "    name:str\n",
    "    sal:int\n",
    "    def __init__(self,eid,name,sal):\n",
    "        self.eid=eid\n",
    "        self.name=name\n",
    "        self.sal=sal\n",
    "    def show(self):\n",
    "        print(self.eid,\" \",self.name,\" \",self.sal)\n",
    "a={}\n",
    "n=int(input(\"enter no of emps :\"))\n",
    "for i in range(1,n+1):\n",
    "    print(\"Enter Details For Emp\",i)\n",
    "    eid=int(input(\"Enter Emp Id :\"))\n",
    "    name=input(\"Enter Emp Name :\")\n",
    "    sal=int(input(\"Enter Emp Sal :\"))\n",
    "    e=Emp(eid,name,sal)\n",
    "    a.append(e)\n",
    "print(\"Your Emp List is :\")\n",
    "for i in a:\n",
    "    i.show()"
   ]
  },
  {
   "cell_type": "code",
   "execution_count": null,
   "id": "804be041",
   "metadata": {},
   "outputs": [],
   "source": [
    "ab ye kam set,dict,list se b krwana h...assignment\n",
    "\n",
    "SAL=2ND BIGGEST SAL"
   ]
  },
  {
   "cell_type": "markdown",
   "id": "81ef48f9",
   "metadata": {},
   "source": []
  },
  {
   "cell_type": "code",
   "execution_count": null,
   "id": "4e3a6e15",
   "metadata": {},
   "outputs": [],
   "source": []
  },
  {
   "cell_type": "code",
   "execution_count": null,
   "id": "daf4de30",
   "metadata": {},
   "outputs": [],
   "source": []
  },
  {
   "cell_type": "code",
   "execution_count": null,
   "id": "a8b803eb",
   "metadata": {},
   "outputs": [],
   "source": []
  }
 ],
 "metadata": {
  "kernelspec": {
   "display_name": "Python 3 (ipykernel)",
   "language": "python",
   "name": "python3"
  },
  "language_info": {
   "codemirror_mode": {
    "name": "ipython",
    "version": 3
   },
   "file_extension": ".py",
   "mimetype": "text/x-python",
   "name": "python",
   "nbconvert_exporter": "python",
   "pygments_lexer": "ipython3",
   "version": "3.9.7"
  }
 },
 "nbformat": 4,
 "nbformat_minor": 5
}
