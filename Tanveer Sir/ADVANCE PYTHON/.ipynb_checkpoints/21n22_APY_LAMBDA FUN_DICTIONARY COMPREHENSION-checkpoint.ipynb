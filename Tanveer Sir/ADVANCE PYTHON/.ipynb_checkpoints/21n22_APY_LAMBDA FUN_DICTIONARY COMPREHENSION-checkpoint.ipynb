{
 "cells": [
  {
   "cell_type": "markdown",
   "id": "b8598191",
   "metadata": {},
   "source": [
    "# LAMBDA FUNCTION:\n",
    "\n",
    "It is small anonymous function which is mainly use to perform single line operation in python.We can define lambda FUN by using \n",
    "\n",
    "lambda keyword and we will store a lambda fun in a variable and that variable should be considered as fun name.\n",
    "\n",
    "DRAWBACK----DEALS WITH ONLY SINGLE VALUE.\n",
    "\n",
    "what it is?\n",
    "\n",
    "use\n",
    "\n",
    "define\n",
    "\n",
    "store in variable\n",
    "\n",
    "variable= function\n",
    "\n",
    "note:\n",
    "print just shows the human user a string representing what is going on inside the computer. The computer cannot make use of that printing. return is how a function gives back a value. This value is often unseen by the human user, but it can be used by the computer in further functions."
   ]
  },
  {
   "cell_type": "code",
   "execution_count": 1,
   "id": "0752017c",
   "metadata": {},
   "outputs": [
    {
     "name": "stdout",
     "output_type": "stream",
     "text": [
      "125\n"
     ]
    }
   ],
   "source": [
    "def cube(n):\n",
    "    return n**3\n",
    "print(cube(5))"
   ]
  },
  {
   "cell_type": "code",
   "execution_count": 2,
   "id": "f74c3942",
   "metadata": {},
   "outputs": [
    {
     "name": "stdout",
     "output_type": "stream",
     "text": [
      "125\n"
     ]
    }
   ],
   "source": [
    "cube=lambda n:n**3\n",
    "print(cube(5))"
   ]
  },
  {
   "cell_type": "code",
   "execution_count": 1,
   "id": "8d887645",
   "metadata": {},
   "outputs": [
    {
     "name": "stdout",
     "output_type": "stream",
     "text": [
      "144\n"
     ]
    }
   ],
   "source": [
    "square=lambda n:n**2\n",
    "print(square(12))"
   ]
  },
  {
   "cell_type": "code",
   "execution_count": 3,
   "id": "083e4789",
   "metadata": {},
   "outputs": [
    {
     "name": "stdout",
     "output_type": "stream",
     "text": [
      "100000\n"
     ]
    }
   ],
   "source": [
    "pow=lambda a,b:a**b\n",
    "print(pow(10,5))"
   ]
  },
  {
   "cell_type": "markdown",
   "id": "26e40401",
   "metadata": {},
   "source": [
    "# DICTIONARY COMPREHENSION:\n",
    "    \n",
    "A dictionary comprehension is mainly use to construct a 'dictionary in a very short manner' but it will 'internally increase \n",
    "\n",
    "processing time of programs'.We can use following syntax for dictionary comprehension...\n",
    "\n",
    "obj={k:v for i,j in iterable} \n",
    "\n",
    "NOTE: k = key and v= value"
   ]
  },
  {
   "cell_type": "code",
   "execution_count": 1,
   "id": "974f05c1",
   "metadata": {},
   "outputs": [
    {
     "name": "stdout",
     "output_type": "stream",
     "text": [
      "{'ajay': 4, 'jay': 3, 'jaya': 4, 'abhi': 4, 'shubham': 7}\n"
     ]
    }
   ],
   "source": [
    "#que: want to create that kind of dictionary in which name should be as key and the length of name as value???\n",
    "# {'ajay':4,'jay':3}like that\n",
    "\n",
    "name=[\"ajay\",\"jay\",\"jaya\",\"abhi\",\"shubham\"]\n",
    "a={}\n",
    "for i in name:\n",
    "    a.update({i:len(i)})\n",
    "print(a)"
   ]
  },
  {
   "cell_type": "code",
   "execution_count": 2,
   "id": "b6b9d350",
   "metadata": {},
   "outputs": [
    {
     "name": "stdout",
     "output_type": "stream",
     "text": [
      "{'loku': 4, 'raka': 4}\n"
     ]
    }
   ],
   "source": [
    "nm=[\"loku\",\"raka\"]\n",
    "a={}\n",
    "for i in nm:\n",
    "    a.update({i:len(i)})\n",
    "print(a)"
   ]
  },
  {
   "cell_type": "code",
   "execution_count": 4,
   "id": "d0b042af",
   "metadata": {},
   "outputs": [
    {
     "data": {
      "text/plain": [
       "{'loku': 4, 'raka': 4}"
      ]
     },
     "execution_count": 4,
     "metadata": {},
     "output_type": "execute_result"
    }
   ],
   "source": [
    "a={i:len(i) for i in nm}\n",
    "a"
   ]
  },
  {
   "cell_type": "code",
   "execution_count": 2,
   "id": "35696b84",
   "metadata": {},
   "outputs": [
    {
     "name": "stdout",
     "output_type": "stream",
     "text": [
      "{'ajay': 4, 'jay': 3, 'jaya': 4, 'abhi': 4, 'shubham': 7}\n"
     ]
    }
   ],
   "source": [
    "# Dictionary comprehension:\n",
    "\n",
    "a={i:len(i) for i in name}\n",
    "print(a)"
   ]
  },
  {
   "cell_type": "code",
   "execution_count": 3,
   "id": "522bcb0b",
   "metadata": {},
   "outputs": [
    {
     "name": "stdout",
     "output_type": "stream",
     "text": [
      "{1: 1, 2: 4, 3: 9, 4: 16}\n"
     ]
    }
   ],
   "source": [
    "# {1:1,2:4,3:9,4:16}\n",
    "\n",
    "a=[1,2,3,4]\n",
    "b={}\n",
    "for i in a:\n",
    "    b.update({i:i**2})\n",
    "print(b)"
   ]
  },
  {
   "cell_type": "code",
   "execution_count": 4,
   "id": "26f3ab6f",
   "metadata": {},
   "outputs": [
    {
     "name": "stdout",
     "output_type": "stream",
     "text": [
      "{1: 1, 2: 4, 3: 9, 4: 16}\n"
     ]
    }
   ],
   "source": [
    "b={i:i**2 for i in a}\n",
    "print(b)"
   ]
  },
  {
   "cell_type": "code",
   "execution_count": 6,
   "id": "f79e52a8",
   "metadata": {},
   "outputs": [
    {
     "name": "stdout",
     "output_type": "stream",
     "text": [
      "{1: 1, 2: 4, 3: 9, 4: 16}\n"
     ]
    }
   ],
   "source": [
    "b={i:i**2 for i in range(1,5)}\n",
    "print(b)"
   ]
  },
  {
   "cell_type": "code",
   "execution_count": 13,
   "id": "54695ec1",
   "metadata": {},
   "outputs": [
    {
     "name": "stdout",
     "output_type": "stream",
     "text": [
      "{'h': 'hello', 'e': 'hello', 'l': 'hello', 'o': 'hello'}\n"
     ]
    }
   ],
   "source": [
    "# a=hello\n",
    "# in this string we have to print h as a key and hello would be as value and \n",
    "# this arrangement made for each character and l should be come at one time?\n",
    "\n",
    "a=\"hello\"\n",
    "b={}\n",
    "for i in a:\n",
    "    b.update({i:a})\n",
    "print(b)\n",
    "    "
   ]
  },
  {
   "cell_type": "code",
   "execution_count": 12,
   "id": "a5e12077",
   "metadata": {},
   "outputs": [
    {
     "name": "stdout",
     "output_type": "stream",
     "text": [
      "{'h': 'hello', 'e': 'hello', 'l': 'hello', 'o': 'hello'}\n"
     ]
    }
   ],
   "source": [
    "b={i:a for i in a}\n",
    "print(b)"
   ]
  },
  {
   "cell_type": "code",
   "execution_count": 21,
   "id": "35f2deb8",
   "metadata": {},
   "outputs": [
    {
     "name": "stdout",
     "output_type": "stream",
     "text": [
      "{'h': 'hello', 'e': 'ello', 'l': 'lo', 'o': 'o'}\n"
     ]
    }
   ],
   "source": [
    "# a=\"hello\"\n",
    "# {h:hello,e:ello,l:llo,o:o}\n",
    "\n",
    "a=\"hello\"\n",
    "b={a[i]:a[i::] for i in range(len(a))}\n",
    "print(b)"
   ]
  },
  {
   "cell_type": "code",
   "execution_count": 22,
   "id": "21766fa5",
   "metadata": {},
   "outputs": [
    {
     "name": "stdout",
     "output_type": "stream",
     "text": [
      "{'a': 97, 'b': 98, 'c': 99, 'd': 100, 'e': 101}\n"
     ]
    }
   ],
   "source": [
    "a=\"abcde\"\n",
    "b={i:ord(i) for i in a}\n",
    "print(b)"
   ]
  },
  {
   "cell_type": "code",
   "execution_count": 23,
   "id": "0ab1eb5b",
   "metadata": {},
   "outputs": [
    {
     "name": "stdout",
     "output_type": "stream",
     "text": [
      "{'ajay': 4, 'jay': 3, 'jaya': 4, 'abhi': 4, 'shubham': 7}\n"
     ]
    }
   ],
   "source": [
    "a={'ajay':4,'jay':3,'jaya':4,'abhi':4,'shubham':7}\n",
    "b={i:j for i,j in a.items()}\n",
    "print(b)"
   ]
  },
  {
   "cell_type": "markdown",
   "id": "8250f85d",
   "metadata": {},
   "source": [
    "# MAP FUN:\n",
    "\n",
    "Mainly use to perform some special operations on iterable if we want to \"call a function on each element of iterable\" then we \n",
    "\n",
    "will use map function.It contains 2 arguments 1st one is a \"\"function\"\" and 2nd one is any \"\"iterable object\"\".\n",
    "\n",
    "note:Ap kisi iterable obj ke each element ko kisi b trh python collection m store krna chahte ho to map fun ka use krege."
   ]
  },
  {
   "cell_type": "code",
   "execution_count": 25,
   "id": "4dffbe9b",
   "metadata": {},
   "outputs": [
    {
     "name": "stdout",
     "output_type": "stream",
     "text": [
      "120\n",
      "720\n",
      "5040\n",
      "40320\n",
      "362880\n"
     ]
    }
   ],
   "source": [
    "def factorial(n):\n",
    "    f=1\n",
    "    for i in range(1,n+1):\n",
    "        f=f*i\n",
    "    print(f)\n",
    "data=[5,6,7,8,9]\n",
    "for i in data:\n",
    "    factorial(i)\n",
    "    \n",
    "# hm phle asa krte the but ab ise hm map fun se krege."
   ]
  },
  {
   "cell_type": "code",
   "execution_count": 26,
   "id": "ea4df9e7",
   "metadata": {},
   "outputs": [
    {
     "data": {
      "text/plain": [
       "<map at 0x21a868dcc10>"
      ]
     },
     "execution_count": 26,
     "metadata": {},
     "output_type": "execute_result"
    }
   ],
   "source": [
    "def factorial(n):\n",
    "    f=1\n",
    "    for i in range(1,n+1):\n",
    "        f=f*i\n",
    "    print(f)\n",
    "data=[5,6,7,8,9]\n",
    "map(factorial,data)\n",
    "\n",
    "# return here map object."
   ]
  },
  {
   "cell_type": "code",
   "execution_count": 27,
   "id": "a3e20e99",
   "metadata": {},
   "outputs": [
    {
     "name": "stdout",
     "output_type": "stream",
     "text": [
      "120\n",
      "720\n",
      "5040\n",
      "40320\n",
      "362880\n",
      "{None}\n"
     ]
    }
   ],
   "source": [
    "# but hm is map obj ko store kra dege kisi object m then set method call kr dege...\n",
    "def factorial(n):\n",
    "    f=1\n",
    "    for i in range(1,n+1):\n",
    "        f=f*i\n",
    "    print(f)\n",
    "data=[5,6,7,8,9]\n",
    "m=map(factorial,data)\n",
    "r=set(m)\n",
    "print(r)\n",
    "\n",
    "# none islye arha h cz hmne return nh krwaya h"
   ]
  },
  {
   "cell_type": "code",
   "execution_count": 4,
   "id": "e70de7c9",
   "metadata": {},
   "outputs": [
    {
     "name": "stdout",
     "output_type": "stream",
     "text": [
      "{362880, 40320, 5040, 720, 120}\n"
     ]
    }
   ],
   "source": [
    "def factorial(n):\n",
    "    f=1\n",
    "    for i in range(1,n+1):\n",
    "        f=f*i\n",
    "#     print(f)\n",
    "    return f\n",
    "data=[5,6,7,8,9]\n",
    "m=map(factorial,data)\n",
    "r=set(m)\n",
    "print(r)\n",
    "\n",
    "# n ye fact ordered nh h cz set m store h."
   ]
  },
  {
   "cell_type": "code",
   "execution_count": 1,
   "id": "23a1de7c",
   "metadata": {},
   "outputs": [
    {
     "data": {
      "text/plain": [
       "[4, 9, 16, 25]"
      ]
     },
     "execution_count": 1,
     "metadata": {},
     "output_type": "execute_result"
    }
   ],
   "source": [
    "#how to use map fun with lambda fun:\n",
    "\n",
    "num=[2,3,4,5]\n",
    "m=list(map(lambda x:x**2,num))\n",
    "m"
   ]
  },
  {
   "cell_type": "code",
   "execution_count": 3,
   "id": "581b0cbe",
   "metadata": {},
   "outputs": [
    {
     "data": {
      "text/plain": [
       "[4, 9, 16]"
      ]
     },
     "execution_count": 3,
     "metadata": {},
     "output_type": "execute_result"
    }
   ],
   "source": [
    "def sqr(x):\n",
    "    return x**2\n",
    "num=[2,3,4]\n",
    "m=list(map(sqr,num))\n",
    "m"
   ]
  },
  {
   "cell_type": "code",
   "execution_count": 4,
   "id": "2d8eb984",
   "metadata": {},
   "outputs": [
    {
     "ename": "TypeError",
     "evalue": "'list' object is not callable",
     "output_type": "error",
     "traceback": [
      "\u001b[1;31m---------------------------------------------------------------------------\u001b[0m",
      "\u001b[1;31mTypeError\u001b[0m                                 Traceback (most recent call last)",
      "\u001b[1;32m~\\AppData\\Local\\Temp/ipykernel_12208/1571192637.py\u001b[0m in \u001b[0;36m<module>\u001b[1;34m\u001b[0m\n\u001b[0;32m      9\u001b[0m \u001b[0mnum\u001b[0m \u001b[1;33m=\u001b[0m \u001b[1;33m[\u001b[0m\u001b[1;36m2\u001b[0m\u001b[1;33m,\u001b[0m\u001b[1;36m3\u001b[0m\u001b[1;33m,\u001b[0m\u001b[1;36m4\u001b[0m\u001b[1;33m,\u001b[0m\u001b[1;36m5\u001b[0m\u001b[1;33m]\u001b[0m\u001b[1;33m\u001b[0m\u001b[1;33m\u001b[0m\u001b[0m\n\u001b[0;32m     10\u001b[0m \u001b[1;33m\u001b[0m\u001b[0m\n\u001b[1;32m---> 11\u001b[1;33m \u001b[0mm\u001b[0m \u001b[1;33m=\u001b[0m \u001b[0mlist\u001b[0m\u001b[1;33m(\u001b[0m\u001b[0mmap\u001b[0m\u001b[1;33m(\u001b[0m\u001b[0mdata\u001b[0m\u001b[1;33m,\u001b[0m\u001b[0mnum\u001b[0m\u001b[1;33m)\u001b[0m\u001b[1;33m)\u001b[0m\u001b[1;33m\u001b[0m\u001b[1;33m\u001b[0m\u001b[0m\n\u001b[0m\u001b[0;32m     12\u001b[0m \u001b[1;33m\u001b[0m\u001b[0m\n\u001b[0;32m     13\u001b[0m \u001b[0mm\u001b[0m\u001b[1;33m\u001b[0m\u001b[1;33m\u001b[0m\u001b[0m\n",
      "\u001b[1;31mTypeError\u001b[0m: 'list' object is not callable"
     ]
    }
   ],
   "source": [
    "def sqr(x):\n",
    "    return x**2\n",
    "\n",
    "def cube(x):\n",
    "    return x**3\n",
    "\n",
    "data=[sqr,cube]\n",
    "\n",
    "num = [2,3,4,5]\n",
    "\n",
    "m = list(map(lambda x:))\n",
    "\n",
    "m"
   ]
  },
  {
   "cell_type": "markdown",
   "id": "0c652598",
   "metadata": {},
   "source": [
    "# FILTER METHOD:\n",
    "\n",
    "Filter method use to apply filtration on any iterable object like list,tuple,set and dictionary.It is mainly use to reduce\n",
    "\n",
    "a collection object according to specified conditions.Its also contains 2 arguments 1st one is function and 2nd one is iterable \n",
    "\n",
    "object and return a filter object and we can cast it into any another object."
   ]
  },
  {
   "cell_type": "code",
   "execution_count": 30,
   "id": "004a6767",
   "metadata": {},
   "outputs": [
    {
     "name": "stdout",
     "output_type": "stream",
     "text": [
      "<filter object at 0x0000021A868DCB80>\n"
     ]
    }
   ],
   "source": [
    "def check(n):\n",
    "    if n%2==0:\n",
    "        return n\n",
    "data=[i for i in range(1,11)]\n",
    "f=filter(check,data)\n",
    "print(f)"
   ]
  },
  {
   "cell_type": "code",
   "execution_count": 31,
   "id": "4035143c",
   "metadata": {},
   "outputs": [
    {
     "name": "stdout",
     "output_type": "stream",
     "text": [
      "[2, 4, 6, 8, 10]\n"
     ]
    }
   ],
   "source": [
    "def check(n):\n",
    "    if n%2==0:\n",
    "        return n\n",
    "data=[i for i in range(1,11)]\n",
    "f=filter(check,data)\n",
    "r=list(f)\n",
    "print(r)"
   ]
  },
  {
   "cell_type": "code",
   "execution_count": 32,
   "id": "0e6b27ad",
   "metadata": {},
   "outputs": [
    {
     "name": "stdout",
     "output_type": "stream",
     "text": [
      "[2, 4, 6, 8, 10]\n"
     ]
    }
   ],
   "source": [
    "def check(n):\n",
    "    return n%2==0\n",
    "data=[i for i in range(1,11)]\n",
    "f=filter(check,data)\n",
    "r=list(f)\n",
    "print(r)\n",
    "\n",
    "# no need to use if ,we can use return here also."
   ]
  },
  {
   "cell_type": "markdown",
   "id": "d479a8c5",
   "metadata": {},
   "source": [
    "# REDUCE FUNCTION:\n",
    "\n",
    "It is mainly use to reduce an iterable object and return a single value corresponding to iterable object. "
   ]
  },
  {
   "cell_type": "code",
   "execution_count": 33,
   "id": "2ee0eb2a",
   "metadata": {},
   "outputs": [
    {
     "name": "stdout",
     "output_type": "stream",
     "text": [
      "55\n"
     ]
    }
   ],
   "source": [
    "import functools\n",
    "def sum(a,b):\n",
    "    return a+b\n",
    "data=[i for i in range(1,11)]\n",
    "f=functools.reduce(sum,data)\n",
    "print(f)\n",
    "\n",
    "# Note:a jo h isme result ayega n jo b h usme phla element jayega."
   ]
  },
  {
   "cell_type": "code",
   "execution_count": null,
   "id": "5d42dba6",
   "metadata": {},
   "outputs": [],
   "source": []
  }
 ],
 "metadata": {
  "kernelspec": {
   "display_name": "Python 3 (ipykernel)",
   "language": "python",
   "name": "python3"
  },
  "language_info": {
   "codemirror_mode": {
    "name": "ipython",
    "version": 3
   },
   "file_extension": ".py",
   "mimetype": "text/x-python",
   "name": "python",
   "nbconvert_exporter": "python",
   "pygments_lexer": "ipython3",
   "version": "3.9.7"
  }
 },
 "nbformat": 4,
 "nbformat_minor": 5
}
