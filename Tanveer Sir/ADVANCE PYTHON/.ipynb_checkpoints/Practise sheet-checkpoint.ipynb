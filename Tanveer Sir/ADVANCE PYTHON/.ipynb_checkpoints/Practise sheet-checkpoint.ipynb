{
 "cells": [
  {
   "cell_type": "code",
   "execution_count": 3,
   "id": "61e0e460",
   "metadata": {},
   "outputs": [
    {
     "name": "stdout",
     "output_type": "stream",
     "text": [
      "10\n",
      "60\n"
     ]
    }
   ],
   "source": [
    "class Demo():\n",
    "    def __init__(self,*args):\n",
    "        print(sum(args))\n",
    "d=Demo(10)\n",
    "d=Demo(10,20,30)"
   ]
  },
  {
   "cell_type": "code",
   "execution_count": 6,
   "id": "c53ebf76",
   "metadata": {},
   "outputs": [
    {
     "name": "stdout",
     "output_type": "stream",
     "text": [
      "10\n",
      "100\n",
      "106\n"
     ]
    }
   ],
   "source": [
    "class Demo():\n",
    "    def __init__(self,*args):\n",
    "        print((args))\n",
    "d=Demo(10)\n",
    "d=Demo(10,20,30,40)\n",
    "d=Demo(10,12,34,45,5)"
   ]
  },
  {
   "cell_type": "code",
   "execution_count": 28,
   "id": "16add987",
   "metadata": {},
   "outputs": [
    {
     "name": "stdout",
     "output_type": "stream",
     "text": [
      "101\n",
      "loku\n"
     ]
    }
   ],
   "source": [
    "class Emp:\n",
    "    __empno=int\n",
    "    __name=str\n",
    "    def setEmpno(self,empno):\n",
    "        self.__empno=empno\n",
    "    def setName(self,name):\n",
    "        self.__name=name\n",
    "    def getEmpno(self):\n",
    "        return self.__empno\n",
    "    def getName(self):\n",
    "        return self.__name\n",
    "e=Emp()\n",
    "e.setEmpno(101)\n",
    "print(e.getEmpno())\n",
    "e.setName('loku')\n",
    "print(e.getName())"
   ]
  },
  {
   "cell_type": "code",
   "execution_count": 14,
   "id": "4115028a",
   "metadata": {},
   "outputs": [
    {
     "name": "stdout",
     "output_type": "stream",
     "text": [
      "show is running\n",
      "demo is running\n"
     ]
    }
   ],
   "source": [
    "class Account:\n",
    "    __name=str\n",
    "    __acno=int\n",
    "    def setName(self,name):\n",
    "        self.__name=name\n",
    "    def setAcno(self,acno):\n",
    "        self.__acno=acno\n",
    "    def getName(self):\n",
    "        return self.__name\n",
    "    def getAcno(self):\n",
    "        return self.__acno\n",
    "a=Account()\n",
    "a.setName(\"raka\")\n",
    "print(e.getName())\n",
    "a.setAcno(102)\n",
    "print(e.getAcno())"
   ]
  },
  {
   "cell_type": "code",
   "execution_count": 15,
   "id": "0f7cb4e5",
   "metadata": {},
   "outputs": [
    {
     "name": "stdout",
     "output_type": "stream",
     "text": [
      "show is running\n",
      "display is running\n"
     ]
    }
   ],
   "source": [
    "def show():\n",
    "    print(\"show is running\")\n",
    "    def display():\n",
    "        print(\"display is running\")\n",
    "    return display\n",
    "d=show()\n",
    "d()"
   ]
  },
  {
   "cell_type": "code",
   "execution_count": 1,
   "id": "30bbf7e3",
   "metadata": {},
   "outputs": [
    {
     "name": "stdout",
     "output_type": "stream",
     "text": [
      "[1, 6, 25, 67, 90, 98]\n"
     ]
    }
   ],
   "source": [
    "a=[1,25,6,67,98,90]\n",
    "for i in range(len(a)):\n",
    "    for j in range(i+1,len(a)):\n",
    "        if a[i]>a[j]:\n",
    "            a[i],a[j]=a[j],a[i]\n",
    "print(a)"
   ]
  },
  {
   "cell_type": "code",
   "execution_count": 80,
   "id": "a4180779",
   "metadata": {},
   "outputs": [
    {
     "data": {
      "text/plain": [
       "{'h': 'hello', 'e': 'ello', 'l': 'lo', 'o': 'o'}"
      ]
     },
     "execution_count": 80,
     "metadata": {},
     "output_type": "execute_result"
    }
   ],
   "source": [
    "a=\"hello\"\n",
    "b={a[i]:a[i::] for i in range(len(a))}\n",
    "b"
   ]
  },
  {
   "cell_type": "code",
   "execution_count": 85,
   "id": "a11a9c50",
   "metadata": {},
   "outputs": [
    {
     "data": {
      "text/plain": [
       "{2, 6, 24, 120}"
      ]
     },
     "execution_count": 85,
     "metadata": {},
     "output_type": "execute_result"
    }
   ],
   "source": [
    "def fact(n):\n",
    "    f=1\n",
    "    for i in range(1,n+1):\n",
    "        f=f*i\n",
    "    return f\n",
    "data=[2,3,4,5]\n",
    "m=map(fact,data)\n",
    "r=set(m)\n",
    "r"
   ]
  },
  {
   "cell_type": "code",
   "execution_count": 7,
   "id": "533ecdec",
   "metadata": {},
   "outputs": [
    {
     "name": "stdout",
     "output_type": "stream",
     "text": [
      "show is running\n",
      "display is running\n"
     ]
    }
   ],
   "source": [
    "class Emp:\n",
    "    __empno:int\n",
    "    __name:str\n",
    "    def setEmpno(self,empno):\n",
    "        self.__empno=empno\n",
    "    def setName(self,name):\n",
    "        self.__name=name\n",
    "    def getEmpno(self):\n",
    "        return self.__empno\n",
    "    def getName(self):\n",
    "        return self.__name\n",
    "e=Emp()\n",
    "e.setEmpno(101)\n",
    "print(e.getEmpno())\n",
    "e.setName(\"Ajay\")\n",
    "print(e.getName())\n",
    "\n"
   ]
  },
  {
   "cell_type": "code",
   "execution_count": 14,
   "id": "5ecb4ab9",
   "metadata": {},
   "outputs": [
    {
     "name": "stdout",
     "output_type": "stream",
     "text": [
      "101   loku\n",
      "102   raka\n",
      "103   kanu\n"
     ]
    }
   ],
   "source": [
    "class Emp():\n",
    "    eid:int\n",
    "    name:str\n",
    "    def __init__(self,eid,name):\n",
    "        self.eid=eid\n",
    "        self.name=name\n",
    "    def show(self):\n",
    "        print(self.eid,\" \",self.name)\n",
    "e1=Emp(101,\"loku\")\n",
    "e2=Emp(102,\"raka\")\n",
    "e3=Emp(103,\"kanu\")\n",
    "a=[e1,e2,e3]\n",
    "for i in a:\n",
    "    i.show()"
   ]
  },
  {
   "cell_type": "code",
   "execution_count": 13,
   "id": "8102176e",
   "metadata": {},
   "outputs": [
    {
     "name": "stdout",
     "output_type": "stream",
     "text": [
      "101   loku\n"
     ]
    }
   ],
   "source": [
    "class Emp():\n",
    "    eid:int\n",
    "    name:str\n",
    "    def __init__(self,eid,name):\n",
    "        self.eid=eid\n",
    "        self.name=name\n",
    "    def show(self):\n",
    "        print(self.eid,\" \",self.name)\n",
    "e=Emp(101,\"loku\")\n",
    "e.show()"
   ]
  },
  {
   "cell_type": "code",
   "execution_count": null,
   "id": "3c225445",
   "metadata": {},
   "outputs": [],
   "source": []
  }
 ],
 "metadata": {
  "kernelspec": {
   "display_name": "Python 3 (ipykernel)",
   "language": "python",
   "name": "python3"
  },
  "language_info": {
   "codemirror_mode": {
    "name": "ipython",
    "version": 3
   },
   "file_extension": ".py",
   "mimetype": "text/x-python",
   "name": "python",
   "nbconvert_exporter": "python",
   "pygments_lexer": "ipython3",
   "version": "3.9.7"
  }
 },
 "nbformat": 4,
 "nbformat_minor": 5
}
