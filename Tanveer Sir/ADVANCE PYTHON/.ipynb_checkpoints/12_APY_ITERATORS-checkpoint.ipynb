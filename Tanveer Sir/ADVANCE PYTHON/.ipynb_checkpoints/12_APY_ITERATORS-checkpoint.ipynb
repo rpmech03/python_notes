{
 "cells": [
  {
   "cell_type": "markdown",
   "id": "07eafe42",
   "metadata": {},
   "source": [
    "# ITERATORS:\n",
    "\n",
    "Mainly use to 'iterate collection objects' like 'list,tuple,set,dictionary,string or any other sequence in python'.We can use \n",
    "\n",
    "two functions for implement iterator in python---\n",
    "\n",
    "1_ITER FUNCTION\n",
    "\n",
    "2_NEXT FUNCTION\n",
    "\n",
    "1_ITER FUN:\n",
    "\n",
    "ITER fun 'contains an object and return iterable object' corresponding to given objects.\n",
    "(ITER KE ANDAR OBJ HOTA H N RETURN B KRTA H ITERABLE OBJ RESPECT TO GIVEN OBJS)\n",
    "(USED WHEN WE WANT TO CONVER ITERABLE OBJ INTO ITERATOR)\n",
    "\n",
    "2_NEXT FUN:\n",
    "\n",
    "It always 'returns next iterable value'.When next method 'unable to find any object in iterable' then it will 'raise \n",
    "\n",
    "stop iteration exception'.\n",
    "\n",
    "(YE ALWAYS RETURN KRTA H NEXT ITERABLE FUN N ISE OBJ NH MILTA H JISKO ITERATE KR RHA HO YE EXCEPTION RAISE KRTA H )\n",
    "(WHEN WE WANT TO ACCESS NEXT ELEMENT THEN WE R USING THIS)\n",
    "\n",
    "s=\"hello\"\n",
    "it=iter(s)\n",
    "print(next(it))\n",
    "\n",
    "#We can make iterator with the help of iter fun by converting iterable objs(LSDT=LIST,STRING,SET,DICT,TUPLE)\n",
    "\n",
    "\n",
    "                                                     ITER()\n",
    "     ITERABLE OBJECTS              ----------------------------------------->>>>>>>>>>>  ITERATOR\n",
    "[LIST,STRING,SET,DICT,TUPLE]\n",
    "\n",
    "\n"
   ]
  },
  {
   "cell_type": "code",
   "execution_count": 3,
   "id": "d3ea70f1",
   "metadata": {},
   "outputs": [
    {
     "name": "stdout",
     "output_type": "stream",
     "text": [
      "1\n",
      "2\n",
      "loku\n",
      "True\n"
     ]
    },
    {
     "ename": "StopIteration",
     "evalue": "",
     "output_type": "error",
     "traceback": [
      "\u001b[1;31m---------------------------------------------------------------------------\u001b[0m",
      "\u001b[1;31mStopIteration\u001b[0m                             Traceback (most recent call last)",
      "\u001b[1;32m~\\AppData\\Local\\Temp/ipykernel_9116/2021664460.py\u001b[0m in \u001b[0;36m<module>\u001b[1;34m\u001b[0m\n\u001b[0;32m      6\u001b[0m \u001b[0mprint\u001b[0m\u001b[1;33m(\u001b[0m\u001b[0mnext\u001b[0m\u001b[1;33m(\u001b[0m\u001b[0mlist_iter\u001b[0m\u001b[1;33m)\u001b[0m\u001b[1;33m)\u001b[0m\u001b[1;33m\u001b[0m\u001b[1;33m\u001b[0m\u001b[0m\n\u001b[0;32m      7\u001b[0m \u001b[0mprint\u001b[0m\u001b[1;33m(\u001b[0m\u001b[0mnext\u001b[0m\u001b[1;33m(\u001b[0m\u001b[0mlist_iter\u001b[0m\u001b[1;33m)\u001b[0m\u001b[1;33m)\u001b[0m\u001b[1;33m\u001b[0m\u001b[1;33m\u001b[0m\u001b[0m\n\u001b[1;32m----> 8\u001b[1;33m \u001b[0mprint\u001b[0m\u001b[1;33m(\u001b[0m\u001b[0mnext\u001b[0m\u001b[1;33m(\u001b[0m\u001b[0mlist_iter\u001b[0m\u001b[1;33m)\u001b[0m\u001b[1;33m)\u001b[0m\u001b[1;33m\u001b[0m\u001b[1;33m\u001b[0m\u001b[0m\n\u001b[0m",
      "\u001b[1;31mStopIteration\u001b[0m: "
     ]
    }
   ],
   "source": [
    "list1 = [1,2,'loku', True]\n",
    "list_iter = iter(list1)\n",
    "\n",
    "print(next(list_iter))\n",
    "print(next(list_iter))\n",
    "print(next(list_iter))\n",
    "print(next(list_iter))\n",
    "print(next(list_iter))"
   ]
  },
  {
   "cell_type": "code",
   "execution_count": 5,
   "id": "ee1cf1d2",
   "metadata": {},
   "outputs": [
    {
     "ename": "TypeError",
     "evalue": "'list' object is not an iterator",
     "output_type": "error",
     "traceback": [
      "\u001b[1;31m---------------------------------------------------------------------------\u001b[0m",
      "\u001b[1;31mTypeError\u001b[0m                                 Traceback (most recent call last)",
      "\u001b[1;32m~\\AppData\\Local\\Temp/ipykernel_9116/1833268004.py\u001b[0m in \u001b[0;36m<module>\u001b[1;34m\u001b[0m\n\u001b[0;32m      8\u001b[0m \u001b[1;31m# list_iter = iter(list1)\u001b[0m\u001b[1;33m\u001b[0m\u001b[1;33m\u001b[0m\u001b[0m\n\u001b[0;32m      9\u001b[0m \u001b[1;33m\u001b[0m\u001b[0m\n\u001b[1;32m---> 10\u001b[1;33m \u001b[0mprint\u001b[0m\u001b[1;33m(\u001b[0m\u001b[0mnext\u001b[0m\u001b[1;33m(\u001b[0m\u001b[0mlist1\u001b[0m\u001b[1;33m)\u001b[0m\u001b[1;33m)\u001b[0m\u001b[1;33m\u001b[0m\u001b[1;33m\u001b[0m\u001b[0m\n\u001b[0m\u001b[0;32m     11\u001b[0m \u001b[0mprint\u001b[0m\u001b[1;33m(\u001b[0m\u001b[0mnext\u001b[0m\u001b[1;33m(\u001b[0m\u001b[0mlist1\u001b[0m\u001b[1;33m)\u001b[0m\u001b[1;33m)\u001b[0m\u001b[1;33m\u001b[0m\u001b[1;33m\u001b[0m\u001b[0m\n\u001b[0;32m     12\u001b[0m \u001b[0mprint\u001b[0m\u001b[1;33m(\u001b[0m\u001b[0mnext\u001b[0m\u001b[1;33m(\u001b[0m\u001b[0mlist1\u001b[0m\u001b[1;33m)\u001b[0m\u001b[1;33m)\u001b[0m\u001b[1;33m\u001b[0m\u001b[1;33m\u001b[0m\u001b[0m\n",
      "\u001b[1;31mTypeError\u001b[0m: 'list' object is not an iterator"
     ]
    }
   ],
   "source": [
    "#Que: list,set,string,dict,tuple why these all are not considered as an iterator? Is these are two different things?\n",
    "\n",
    "#Ans: Yes! these are two different things cz LSDT are iterable objs and when we convert those into iterator by iter fun.\n",
    "\n",
    "# EXAMPLE:\n",
    "\n",
    "list1 = [1,2,'loku', True]\n",
    "# list_iter = iter(list1)\n",
    "\n",
    "print(next(list1))\n",
    "print(next(list1))\n",
    "print(next(list1))\n",
    "print(next(list1))\n",
    "\n",
    "#so ye proof h ke list object is not an iterator."
   ]
  },
  {
   "cell_type": "code",
   "execution_count": 9,
   "id": "f2c5a5f9",
   "metadata": {},
   "outputs": [
    {
     "name": "stdout",
     "output_type": "stream",
     "text": [
      "1\n",
      "2\n"
     ]
    }
   ],
   "source": [
    "list1 = [1,2,'loku', True]\n",
    "list_iter = iter(list1)\n",
    "# print(next(list_iter))\n",
    "# print(next(list_iter))\n",
    "print(list_iter.__next__())\n",
    "print(list_iter.__next__())\n",
    "\n",
    "#also use __next__() this at the place of next()\n"
   ]
  },
  {
   "cell_type": "code",
   "execution_count": 1,
   "id": "1b0c773a",
   "metadata": {},
   "outputs": [
    {
     "name": "stdout",
     "output_type": "stream",
     "text": [
      "h\n",
      "e\n",
      "l\n",
      "l\n",
      "o\n"
     ]
    }
   ],
   "source": [
    "#we can also use for loop to iterate--\n",
    "\n",
    "s=\"hello\"\n",
    "for i in s:\n",
    "    print(i)\n",
    "    \n",
    "# yha m h print krne ke bad apna msg print nh kr pa rha hu so m uske liye use kruga iterators ka."
   ]
  },
  {
   "cell_type": "code",
   "execution_count": null,
   "id": "7c024389",
   "metadata": {},
   "outputs": [],
   "source": []
  },
  {
   "cell_type": "code",
   "execution_count": null,
   "id": "aefe085a",
   "metadata": {},
   "outputs": [],
   "source": [
    "# upr wale code m, m apna message add nh kr skta tha but niche wale m message de skte h cz we r using here iterators."
   ]
  },
  {
   "cell_type": "code",
   "execution_count": 2,
   "id": "dfdb7f88",
   "metadata": {},
   "outputs": [
    {
     "name": "stdout",
     "output_type": "stream",
     "text": [
      "h\n",
      "hello\n",
      "e\n",
      "my code\n",
      "l\n",
      "l\n",
      "o\n"
     ]
    },
    {
     "ename": "StopIteration",
     "evalue": "",
     "output_type": "error",
     "traceback": [
      "\u001b[1;31m---------------------------------------------------------------------------\u001b[0m",
      "\u001b[1;31mStopIteration\u001b[0m                             Traceback (most recent call last)",
      "\u001b[1;32m~\\AppData\\Local\\Temp/ipykernel_9796/3285528140.py\u001b[0m in \u001b[0;36m<module>\u001b[1;34m\u001b[0m\n\u001b[0;32m      8\u001b[0m \u001b[0mprint\u001b[0m\u001b[1;33m(\u001b[0m\u001b[0mnext\u001b[0m\u001b[1;33m(\u001b[0m\u001b[0mit\u001b[0m\u001b[1;33m)\u001b[0m\u001b[1;33m)\u001b[0m\u001b[1;33m\u001b[0m\u001b[1;33m\u001b[0m\u001b[0m\n\u001b[0;32m      9\u001b[0m \u001b[0mprint\u001b[0m\u001b[1;33m(\u001b[0m\u001b[0mnext\u001b[0m\u001b[1;33m(\u001b[0m\u001b[0mit\u001b[0m\u001b[1;33m)\u001b[0m\u001b[1;33m)\u001b[0m\u001b[1;33m\u001b[0m\u001b[1;33m\u001b[0m\u001b[0m\n\u001b[1;32m---> 10\u001b[1;33m \u001b[0mprint\u001b[0m\u001b[1;33m(\u001b[0m\u001b[0mnext\u001b[0m\u001b[1;33m(\u001b[0m\u001b[0mit\u001b[0m\u001b[1;33m)\u001b[0m\u001b[1;33m)\u001b[0m\u001b[1;33m\u001b[0m\u001b[1;33m\u001b[0m\u001b[0m\n\u001b[0m",
      "\u001b[1;31mStopIteration\u001b[0m: "
     ]
    }
   ],
   "source": [
    "s=\"hello\"\n",
    "it=iter(s)\n",
    "print(next(it))\n",
    "print(\"hello\")\n",
    "print(next(it))\n",
    "print(\"my code\")\n",
    "print(next(it))\n",
    "print(next(it))\n",
    "print(next(it))\n",
    "print(next(it))\n",
    "\n",
    "# mere pas string h \"hello\" n m chahta hu ki is hello m se ek2 element apko milta jaye..n jaise he element milna bnd ho iterator\n",
    "# automatically raise krta h ek exception...n us exception ka nam h \"STOP ITERATOR\" ...iter m 's argument' pass kra diya n use\n",
    "# store kra diya it m...n ab mjhe next value pta krna h..n print m next method ko call krege n'it as an argument'pass krwa denge\n",
    "# to mjhe only  h milega phle...n iske bad hm apna code chla skte h like print(\"hello\")..ab mjhe last kya print kraya usse mtlb\n",
    "# nh h so m call kruga again next fun ko n print krwauga use...n again m apna msg print krwa duga...then ye process chlte rhegi\n",
    "# jb tk elements milte rhege...n jb elements milna bnd ho jayege to error ajayega or exception n usme stop iteration ajayega."
   ]
  },
  {
   "cell_type": "markdown",
   "id": "a11801a7",
   "metadata": {},
   "source": [
    "# CUSTOM ITERATOR:\n",
    "\n"
   ]
  }
 ],
 "metadata": {
  "kernelspec": {
   "display_name": "Python 3 (ipykernel)",
   "language": "python",
   "name": "python3"
  },
  "language_info": {
   "codemirror_mode": {
    "name": "ipython",
    "version": 3
   },
   "file_extension": ".py",
   "mimetype": "text/x-python",
   "name": "python",
   "nbconvert_exporter": "python",
   "pygments_lexer": "ipython3",
   "version": "3.9.7"
  }
 },
 "nbformat": 4,
 "nbformat_minor": 5
}
