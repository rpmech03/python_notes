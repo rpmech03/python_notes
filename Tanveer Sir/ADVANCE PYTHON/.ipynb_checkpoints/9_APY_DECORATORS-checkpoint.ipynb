{
 "cells": [
  {
   "cell_type": "markdown",
   "id": "d18254c8",
   "metadata": {},
   "source": [
    "# 1_TREAT FUN AS AN OBJECT:\n",
    "\n",
    "1_HM FUN KO TREAT KR SKTE H AS AN OBJ..MNE DEF KIYA EK FUN SHOW..N IS SHOW FUN KE ANDAR JO CHAHE WO CODE LIKH SKTE H...\n",
    "\n",
    "M WRITING..SHOW IS RUNNING..AGR AP LIKH RHE HO ONLY SHOW N PICHE LGA DE RHE HO PARENTHESIS TO FUN CALL HO JAYEGA..BUT AGR M \n",
    "\n",
    "PARENTHESIS HTA LU TO YE FUN AB TREAT HOGA AS AN OBJECT...N ISE STORE KRA DENGE \"d\" ME..."
   ]
  },
  {
   "cell_type": "code",
   "execution_count": 1,
   "id": "3dba8bdf",
   "metadata": {},
   "outputs": [
    {
     "name": "stdout",
     "output_type": "stream",
     "text": [
      "show is running\n"
     ]
    }
   ],
   "source": [
    "def show():\n",
    "    print(\"show is running\")\n",
    "d=show\n",
    "d()"
   ]
  },
  {
   "cell_type": "markdown",
   "id": "0655ba8a",
   "metadata": {},
   "source": [
    "# 2_PASS FUN TO THE ARGUMENT OF OTHERS:\n",
    "\n",
    "2_M KISI FUN KO KISI OR FUN KE ARGUMENT M PASS KR SKTA HU ...KSE???...MNE DEF KIYA FUN WELCOME N USME PRINT KRA DENGE\n",
    "\n",
    "WELCOME IS RUNNING..AB M CHAHTA HU ..JO YE WELCOME AS AN OBJ SHOW KE PAS CHLA JAYE ..N SHOW JO H ARGUMENT M LETA H KOI B EK NO\n",
    "\n",
    "SO SHOW KE ARGUMENT M KYA PASS HUA...TO YE JARURI NH H KI NUM M INTEGER HE JAYE..FLOAT,STRING B JA SKTA H..KHUD EK AS AN OBJ \n",
    "\n",
    "FUN B JA SKTA H...AB M IS SHOW FUN KO CALL KRU N US TYM MNE BS WELCOME LIKHA H PARENTHESIS NH LGAYA H ..SO WELCOME TREAT HOGA \n",
    "\n",
    "AS AN OBJECT..N WELCOME NAM KA EK FUN B H...AGR M YHA 10 PASS KRTA TO NUM M 10 JATA ...10 INTEGER KA OBJ H..10.5 PASS KRTA TO \n",
    "\n",
    "NUM M 10.5 JATA..N 10.5 FLOAT KA OBJ H...WSE HE MNE WELCOME PASS KR DIYA TO AB WO CHECK KREGA KI WELCOME KYAH ...SO WELCOME NAM \n",
    "\n",
    "KA EK FUN HAI..SO WELCOME FUN TREAT HOGA AS AN OBJ N NUM M JAKR STORE HOGA...N AB NUM M WELCOME KI DEFINITION H...N AB ISE CALL\n",
    "\n",
    "KRNA HO TO NUM WITH PARENTHESIS...N NUM KYA THA WELCOME SO PARENTHESIS LGAKR WELCOME CALL HO RHA H..."
   ]
  },
  {
   "cell_type": "code",
   "execution_count": 2,
   "id": "9b62b3b3",
   "metadata": {},
   "outputs": [
    {
     "name": "stdout",
     "output_type": "stream",
     "text": [
      "show is running....\n",
      "welcome is running....\n"
     ]
    }
   ],
   "source": [
    "def show(num):\n",
    "    print(\"show is running....\")\n",
    "    num()\n",
    "def welcome():\n",
    "    print(\"welcome is running....\")\n",
    "show(welcome)"
   ]
  },
  {
   "cell_type": "markdown",
   "id": "1d3f106c",
   "metadata": {},
   "source": [
    "# 3_RETURN FUN AS AN OBJ INSIDE THE FUN :\n",
    "\n",
    "HM FUN KE ANDAR SE FUN KO RETURN KRA SKTE H...MNE SHOW KE ANDAR EK OR FUN DISPALY KO DEF KR DIYA..ISE INNER FUN KEHTE H...N \n",
    "\n",
    "ISKE ANDAR PRINT KRWA DIYA DISPLAY IS RUNNING..N IS DISPLAY KO HM AS AN OBJ TREAT KR SKTE H JB RETURN KRWA RHE H...YE OBJ H \n",
    "\n",
    "DISPLAY FUN KA...JIS PLACE PR AP SHOW FUN CALL KRA RHE HO US PLACE PR RETURN VALUE MILEGI N DISPLAY MEANS DISPLAY KI DEFINITION \n",
    "\n",
    "N ISE MNE D M STORE KRA DIYA ...AB DISPLAY FUN KI DEFINITION D KE ANDAR AGAI H..N DISPLAY RETURN KR RHA SHOW FUN ...JSE HE SHOW \n",
    "\n",
    "KO CALL KR RHE H WO RETURN KR RHA H DISPLAY OBJ N WO STORE HO RHA H D ME...\n"
   ]
  },
  {
   "cell_type": "code",
   "execution_count": 1,
   "id": "1247d763",
   "metadata": {},
   "outputs": [
    {
     "name": "stdout",
     "output_type": "stream",
     "text": [
      "show is running\n",
      "display is running\n"
     ]
    }
   ],
   "source": [
    "def show():\n",
    "    print(\"show is running\")\n",
    "    def display():\n",
    "        print(\"display is running\")\n",
    "    return display\n",
    "d=show()\n",
    "# d=display\n",
    "d()"
   ]
  },
  {
   "cell_type": "markdown",
   "id": "fed3ac4c",
   "metadata": {},
   "source": [
    "# DECORATORS:\n",
    "\n",
    "Decorator fun is a special type of fun that contains another fun in argument and add some extra code with fun and return an\n",
    "inner fun. \n",
    "\n",
    "TRAINER H EK..N USKE ANDAR EK FUN H SKILLS N USME PRINT KRWA RHE H..SKILLS BEFORE N AFTER...N INDONO KE BICH M JO YHA SE PASS \n",
    "\n",
    "HOGA STUD MEANS STUDENT N IN DONO KE BICH M KOI B EK STUDENT STUD AYEGA N MAN LO ANKIT STUDENT AYEGA...SO MNE FUN DEF KIYA \n",
    "\n",
    "ANKIT..ISKE PAS KISKI FUNATIONALITY HOGI USKI KHUD KI ...AB M KAUNSA FUN CALL KRUGA..TRAINER N USKE ARGUMENT M AKIT KO PASS KR \n",
    "\n",
    "DIYA N WO AS AN OBJ GYA HOGA N YHA SE JO RETURN HOKR ARHA H WO H SKILLS N YE KHUD EK FUN H N RETURN HOKR MIL RHA H N AB ISE \n",
    "\n",
    "STORE KRA DENGE ANKIT_TRAINED M ...N JB YE INTERVIEW DENE JAYEGA TO NEW WALA ANKIT BN KR JAYEGA ...N AB ANKIT_TRAINED()CALL \n",
    "\n",
    "HOGA...\n",
    "\n",
    "\n",
    "DECORATOR FUN MTLB ASA FUN JO ARGUMENT M KYA LEGA EK FUN KO N US FUN KE PHLE OR BAD M EK EXTRA CODE LGAYEGA OR WO EXTRA CODE \n",
    "\n",
    "ADD KRNE KE BAD USI FUN KO RETURN KR DEGA..OR RETURN FUN HM ANKIT TRAINED M STORE KRA DENGE..AB CALL KREGE ANKIT TRAINED KO..TO \n",
    "\n",
    "YHA PR JO TRAINER H WO DECORATOR FUN H...N YE HM MANUALLY KAM KR RHE H...EXACT DECORATOR FUN AASE KAM NH KRTA ..KSE KRTAH AGE \n",
    "\n",
    "DEKHTE H....\n",
    "\n",
    "\n",
    "N AB YE FUN APNE BNAKR RKH DIYA TO BHUL JAO ISE...ABYE FUN KAUNSA FUN H..DECORATOR...APNE KAUNSA FUN DEF KIYA IE ANKIT N AP \n",
    "\n",
    "CALL KROGE ANKIT KO...TWIST YE H KE ABHI BS KYA CALL HOGA YHA SE ANKIT..N AB ANKIT KO EXTRA SKILLS ADD KRNI H TO ANKIT KO \n",
    "\n",
    "DECORATOR KO CALL KRNE KI NEED NH H..SO ANKIT KO LAGANA H @TRAINER...ISKA MTLB KYA HOGA KI YE ANKIT JAYEGA TRAINER KE ANDAR WHA \n",
    "\n",
    "SE KYA RETURN HOKR AYEGA SKILLS N WO SKILLS AUTOMATICALLY ANKIT KE ANDAR CHLE JAYUEGI..N AP JB ANKIT KO CALL KROGE TO CALL \n",
    "\n",
    "KAUNSA FUN HOGA..INNER WALA..APKO YHA SE DIKH RHA HOGA KI AP CALL KR RHE HO ANKIT KO BUT ANKIT CALL NH HO RHA H...SKILLS CALL \n",
    "\n",
    "HO RHI H..\n",
    "\n",
    "\n",
    "DECORATOR MTLB KISI B CLASS YA FUN KE UPR LGA DIYA @ MEANS KYA LG GYA DECORATOR..US NAM KA FUN EXIST KRTA HOGA..JO FUN HM CALL \n",
    "\n",
    "KR RHE H OR JIS FUN KE UPR HMNE DECORATOR LGAYA H WO KHA JAYEGA...ARGUMENT M ..KISKE DECORATOR FUN KE..OR WHA SE RETURN HOKR \n",
    "\n",
    "APKO KYA MILEGA INNER FUN..PR WO INNER FUN APKO LG RHA H KI AP ANKIT KO CALL KR RHE H BUT CALL HO RHA H INNER FUN..."
   ]
  },
  {
   "cell_type": "code",
   "execution_count": 4,
   "id": "a24b58fa",
   "metadata": {},
   "outputs": [
    {
     "name": "stdout",
     "output_type": "stream",
     "text": [
      "some skills added before training\n",
      "own skills of ankit\n",
      "some mock sessions added after training\n"
     ]
    }
   ],
   "source": [
    "def Trainer(stud):\n",
    "    def skills():\n",
    "        print(\"some skills added before training\")\n",
    "        stud()\n",
    "        print(\"some mock sessions added after training\")\n",
    "    return skills\n",
    "def ankit():\n",
    "    print(\"own skills of ankit\")\n",
    "ankit_trained=Trainer(ankit)\n",
    "ankit_trained()\n"
   ]
  },
  {
   "cell_type": "code",
   "execution_count": null,
   "id": "d126a80a",
   "metadata": {},
   "outputs": [],
   "source": [
    "def Trainer(stud):\n",
    "    def skills():\n",
    "        print(\"some skills added before training\")\n",
    "        stud()\n",
    "        print(\"some mock sessions added after training\")\n",
    "    return skills"
   ]
  },
  {
   "cell_type": "code",
   "execution_count": 5,
   "id": "4314c72b",
   "metadata": {},
   "outputs": [
    {
     "name": "stdout",
     "output_type": "stream",
     "text": [
      "some skills added before training\n",
      "own skills of ankit\n",
      "some mock sessions added after training\n"
     ]
    }
   ],
   "source": [
    "@Trainer\n",
    "def ankit():\n",
    "    print(\"own skills of ankit\")\n",
    "ankit()"
   ]
  },
  {
   "cell_type": "code",
   "execution_count": null,
   "id": "094d26b7",
   "metadata": {},
   "outputs": [],
   "source": [
    "@Trainer\n",
    "def ankit():\n",
    "    print(\"own skills of ankit\")\n",
    "#ankit=show(ankit)---ye sb internally ho rha h.\n",
    "ankit()\n",
    "#skills()"
   ]
  },
  {
   "cell_type": "code",
   "execution_count": null,
   "id": "a2ca8c53",
   "metadata": {},
   "outputs": [],
   "source": [
    "ASA CODE JO APKO HR FUN KE SATH ADD KRNA HO BEFORE OR AFTER USKE LIYE KAUNSA FUN BNA DO...DECORATOR FUN BNA DO..OR US DECORATOR \n",
    "FUN KO CALL KROGE BY @TRAINER...AB AP @TRAINER KE PAS JO B FUN LIKHOHE WO KISKE ARGUMENT M JAYEGA...DECORATOR KE FUN KE ARGUMENT\n",
    "M JAYEGA...N DECORATOR FUN KE ARGUMENT M WO FUN JAYEGA..TO RETURN HOKR INNER FUN AYEGA...N JB RETURN HOKR INNER FUN AYEGA TO JHA\n",
    "AP NORMAL APKE NAM KO FUN CALL KR RHE HO INSTEAD OF THAT FUN KAUNSA FUN CALL HOGA..INNER FUN CALL HOGA..."
   ]
  },
  {
   "cell_type": "code",
   "execution_count": null,
   "id": "17ef256d",
   "metadata": {},
   "outputs": [],
   "source": []
  },
  {
   "cell_type": "code",
   "execution_count": null,
   "id": "cc7f8bd3",
   "metadata": {},
   "outputs": [],
   "source": []
  }
 ],
 "metadata": {
  "kernelspec": {
   "display_name": "Python 3 (ipykernel)",
   "language": "python",
   "name": "python3"
  },
  "language_info": {
   "codemirror_mode": {
    "name": "ipython",
    "version": 3
   },
   "file_extension": ".py",
   "mimetype": "text/x-python",
   "name": "python",
   "nbconvert_exporter": "python",
   "pygments_lexer": "ipython3",
   "version": "3.9.7"
  }
 },
 "nbformat": 4,
 "nbformat_minor": 5
}
