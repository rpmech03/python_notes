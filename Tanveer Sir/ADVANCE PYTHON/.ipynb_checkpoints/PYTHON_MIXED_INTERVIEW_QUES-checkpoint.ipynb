{
 "cells": [
  {
   "cell_type": "code",
   "execution_count": 1,
   "id": "921080bb",
   "metadata": {},
   "outputs": [
    {
     "name": "stdout",
     "output_type": "stream",
     "text": [
      "10\n",
      "100\n"
     ]
    }
   ],
   "source": [
    "fruit={\n",
    "    'Apple':10,\n",
    "       'orange':20,\n",
    "      'banana':30\n",
    "      }\n",
    "print(fruit['Apple'])\n",
    "fruit['Apple']=100\n",
    "print(fruit['Apple'])"
   ]
  },
  {
   "cell_type": "code",
   "execution_count": 2,
   "id": "60e9a7fc",
   "metadata": {},
   "outputs": [
    {
     "data": {
      "text/plain": [
       "{5, 6}"
      ]
     },
     "execution_count": 2,
     "metadata": {},
     "output_type": "execute_result"
    }
   ],
   "source": [
    "# how would you find common elements present in the given two sets?\n",
    "\n",
    "a={1,2,3,4,5,6}\n",
    "b={5,6,7,8,9}\n",
    "a.intersection(b)"
   ]
  },
  {
   "cell_type": "code",
   "execution_count": 4,
   "id": "e08d8cf8",
   "metadata": {},
   "outputs": [
    {
     "name": "stdout",
     "output_type": "stream",
     "text": [
      "enter a no121\n",
      "no is palindrome\n"
     ]
    }
   ],
   "source": [
    "# palindrome\n",
    "\n",
    "n=int(input(\"enter a no\"))\n",
    "temp=n\n",
    "rev=0\n",
    "while(n>0):\n",
    "    dig=n%10\n",
    "    rev=rev*10+dig\n",
    "    n=n//10\n",
    "if(temp==rev):\n",
    "    print(\"no is palindrome\")\n",
    "else:\n",
    "    print(\"not a palindrome\")"
   ]
  },
  {
   "cell_type": "code",
   "execution_count": 19,
   "id": "29398190",
   "metadata": {},
   "outputs": [
    {
     "name": "stdout",
     "output_type": "stream",
     "text": [
      "1 \n",
      "2 2 \n",
      "3 3 3 \n",
      "4 4 4 4 \n",
      "5 5 5 5 5 \n"
     ]
    }
   ],
   "source": [
    "for i in range(1,6):\n",
    "    for j in range(1,6):\n",
    "        if j<i+1:\n",
    "            print(i,end=\" \")\n",
    "    print()"
   ]
  },
  {
   "cell_type": "code",
   "execution_count": 1,
   "id": "05a0ca03",
   "metadata": {},
   "outputs": [
    {
     "name": "stdout",
     "output_type": "stream",
     "text": [
      "# \n",
      "# # \n",
      "# # # \n",
      "# # # # \n",
      "# # # # # \n"
     ]
    }
   ],
   "source": [
    "for i in range(1,6):\n",
    "    for j in range(1,6):\n",
    "        if j<i+1:\n",
    "            print('#',end=\" \")\n",
    "    print()"
   ]
  },
  {
   "cell_type": "code",
   "execution_count": 5,
   "id": "d6617b32",
   "metadata": {},
   "outputs": [
    {
     "name": "stdout",
     "output_type": "stream",
     "text": [
      "0 \n",
      "0 1 \n",
      "0 1 2 \n",
      "0 1 2 3 \n",
      "0 1 2 3 4 \n"
     ]
    }
   ],
   "source": [
    "for i in range(0,5):\n",
    "    for j in range(0,6):\n",
    "        if j<i+1:\n",
    "            print(j,end=\" \")\n",
    "    print()"
   ]
  },
  {
   "cell_type": "code",
   "execution_count": null,
   "id": "0a034f65",
   "metadata": {},
   "outputs": [],
   "source": [
    "# Pascal's Triangle Pattern\n",
    "\n"
   ]
  },
  {
   "cell_type": "code",
   "execution_count": 24,
   "id": "1c5b484b",
   "metadata": {},
   "outputs": [
    {
     "name": "stdout",
     "output_type": "stream",
     "text": [
      "A \n",
      "B B \n",
      "C C C \n",
      "D D D D \n",
      "E E E E E \n"
     ]
    }
   ],
   "source": [
    "# A\n",
    "# BB\n",
    "# CCC\n",
    "# DDDD\n",
    "# PRINT THE FOLLOWING PATTERN:\n",
    "number=65\n",
    "for i in range(1,6):\n",
    "    for j in range(1,i+1):\n",
    "        char=chr(number)\n",
    "        print(char,end=\" \")\n",
    "    number=number+1\n",
    "    print()"
   ]
  },
  {
   "cell_type": "code",
   "execution_count": 30,
   "id": "eb63f8f9",
   "metadata": {},
   "outputs": [
    {
     "name": "stdout",
     "output_type": "stream",
     "text": [
      "A \n",
      "B C \n",
      "D E F \n",
      "G H I J \n",
      "K L M N O \n"
     ]
    }
   ],
   "source": [
    "number=65\n",
    "for i in range(1,6):\n",
    "    for j in range(1,i+1):\n",
    "        char=chr(number)\n",
    "        print(char,end=\" \")\n",
    "        number=number+1\n",
    "    print()"
   ]
  },
  {
   "cell_type": "code",
   "execution_count": 41,
   "id": "146636e1",
   "metadata": {},
   "outputs": [
    {
     "name": "stdout",
     "output_type": "stream",
     "text": [
      "{'p': 10, 'q': 20, 'r': 30}\n",
      "{'p': 11, 'q': 21, 'r': 31}\n"
     ]
    }
   ],
   "source": [
    "# If you have a dictionary like this \n",
    "# a={\n",
    "#     'p':10,\n",
    "#     'q':20,\n",
    "#     'r':30\n",
    "# }\n",
    "# How would you increment values of all the keys?\n",
    "\n",
    "a={\n",
    "    'p':10,\n",
    "    'q':20,\n",
    "    'r':30\n",
    "}\n",
    "print(a)\n",
    "for i,j in a.items():\n",
    "    a[i]=a[i]+1\n",
    "print(a)\n"
   ]
  },
  {
   "cell_type": "code",
   "execution_count": 49,
   "id": "09647c10",
   "metadata": {},
   "outputs": [
    {
     "name": "stdout",
     "output_type": "stream",
     "text": [
      "0.08622789245457785\n"
     ]
    }
   ],
   "source": [
    "#print random number using the random library:\n",
    "\n",
    "import random\n",
    "n = random.random()\n",
    "print(n)"
   ]
  },
  {
   "cell_type": "code",
   "execution_count": 53,
   "id": "7cf848b4",
   "metadata": {},
   "outputs": [
    {
     "data": {
      "text/plain": [
       "27"
      ]
     },
     "execution_count": 53,
     "metadata": {},
     "output_type": "execute_result"
    }
   ],
   "source": [
    "# To generate a integer b/w a certain range (say from a to b):\n",
    "\n",
    "import random\n",
    "n = random.randint(10,30)\n",
    "n"
   ]
  },
  {
   "cell_type": "code",
   "execution_count": 55,
   "id": "e68ca726",
   "metadata": {},
   "outputs": [
    {
     "name": "stdout",
     "output_type": "stream",
     "text": [
      "(1, 'hello')\n",
      "{'name': 'loku'}\n"
     ]
    }
   ],
   "source": [
    "# Denote the usage of args and kwargs in python:\n",
    "\n",
    "def func(*args,**kwargs):\n",
    "    print(args)\n",
    "    print(kwargs)\n",
    "func(1,\"hello\",name=\"loku\")\n",
    "\n",
    "# args----supports withou named arguments\n",
    "# kwargs---named arguments"
   ]
  },
  {
   "cell_type": "code",
   "execution_count": 56,
   "id": "8e2b893f",
   "metadata": {},
   "outputs": [
    {
     "name": "stdout",
     "output_type": "stream",
     "text": [
      "[1, 2, 3, 4]\n",
      "[1, 2, 3, 4]\n"
     ]
    }
   ],
   "source": [
    "# How do you do shallow copy in python?\n",
    "\n",
    "# shallow copy supports changes in both the list what we have taken.\n",
    "\n",
    "a=[1,2,3]\n",
    "b=a\n",
    "b.append(4)\n",
    "print(a)\n",
    "print(b)"
   ]
  },
  {
   "cell_type": "code",
   "execution_count": 57,
   "id": "27f3c40c",
   "metadata": {},
   "outputs": [
    {
     "data": {
      "text/plain": [
       "[9, 8, 7]"
      ]
     },
     "execution_count": 57,
     "metadata": {},
     "output_type": "execute_result"
    }
   ],
   "source": [
    "# What will be the output of the following piece of code?\n",
    "\n",
    "a=[1,2,3,4,5,6,7,8,9]\n",
    "a[-1:-4:-1]"
   ]
  },
  {
   "cell_type": "code",
   "execution_count": 58,
   "id": "ab7077fb",
   "metadata": {},
   "outputs": [
    {
     "name": "stdout",
     "output_type": "stream",
     "text": [
      "97\n"
     ]
    }
   ],
   "source": [
    "# How do you print the ASCII value of a given character?\n",
    "\n",
    "value='a'\n",
    "print(ord(value))"
   ]
  },
  {
   "cell_type": "code",
   "execution_count": 59,
   "id": "dfbaa3d9",
   "metadata": {},
   "outputs": [
    {
     "data": {
      "text/plain": [
       "100"
      ]
     },
     "execution_count": 59,
     "metadata": {},
     "output_type": "execute_result"
    }
   ],
   "source": [
    "value='d'\n",
    "ord(value)"
   ]
  },
  {
   "cell_type": "code",
   "execution_count": 60,
   "id": "8c69d5e9",
   "metadata": {},
   "outputs": [
    {
     "data": {
      "text/plain": [
       "107"
      ]
     },
     "execution_count": 60,
     "metadata": {},
     "output_type": "execute_result"
    }
   ],
   "source": [
    "value='k'\n",
    "ord(value)"
   ]
  },
  {
   "cell_type": "code",
   "execution_count": 64,
   "id": "414deefb",
   "metadata": {},
   "outputs": [
    {
     "data": {
      "text/plain": [
       "['Responsebility', 'Accelerate', 'The', 'Process']"
      ]
     },
     "execution_count": 64,
     "metadata": {},
     "output_type": "execute_result"
    }
   ],
   "source": [
    "# What is the easiest way to shuffle a list?\n",
    "\n",
    "from random import shuffle\n",
    "\n",
    "a=['Responsebility','Accelerate','The','Process']\n",
    "shuffle(a)\n",
    "a"
   ]
  },
  {
   "cell_type": "code",
   "execution_count": 68,
   "id": "66d39b78",
   "metadata": {},
   "outputs": [
    {
     "data": {
      "text/plain": [
       "['Alone', 'Never', 'Walk', 'Youll']"
      ]
     },
     "execution_count": 68,
     "metadata": {},
     "output_type": "execute_result"
    }
   ],
   "source": [
    "from random import shuffle\n",
    "a=['Youll','Never','Walk','Alone']\n",
    "shuffle(a)\n",
    "a"
   ]
  },
  {
   "cell_type": "code",
   "execution_count": 69,
   "id": "74827056",
   "metadata": {},
   "outputs": [
    {
     "name": "stdout",
     "output_type": "stream",
     "text": [
      "2\n",
      "-4\n",
      "3.0\n",
      "-4.0\n"
     ]
    }
   ],
   "source": [
    "# How does floor division work in python?\n",
    "\n",
    "print(5//2)\n",
    "print(-7//2) #takes lower value so -4 is lower as compare to -3.5\n",
    "print(7.0//2)\n",
    "print(-7.0//2)"
   ]
  },
  {
   "cell_type": "code",
   "execution_count": 70,
   "id": "8f740f07",
   "metadata": {},
   "outputs": [
    {
     "name": "stdout",
     "output_type": "stream",
     "text": [
      "[1, 2, 3]\n",
      "[1, 2, 3, 4]\n"
     ]
    }
   ],
   "source": [
    "#Denote the usage of pass by value and pass by reference:\n",
    "\n",
    "def check_pass(arr):\n",
    "    arr.append(4)\n",
    "\n",
    "arr=[1,2,3]\n",
    "\n",
    "print(arr)#call by value\n",
    "\n",
    "check_pass(arr)#call by reference\n",
    "print(arr)"
   ]
  },
  {
   "cell_type": "code",
   "execution_count": 71,
   "id": "1e7cc9ef",
   "metadata": {},
   "outputs": [
    {
     "data": {
      "text/plain": [
       "'Hello Worl'"
      ]
     },
     "execution_count": 71,
     "metadata": {},
     "output_type": "execute_result"
    }
   ],
   "source": [
    "#What is the output of the following piece of code?\n",
    "\n",
    "\"Hello World\"[:-1]"
   ]
  },
  {
   "cell_type": "code",
   "execution_count": 72,
   "id": "6af85cf4",
   "metadata": {},
   "outputs": [
    {
     "data": {
      "text/plain": [
       "'dlroW olleH'"
      ]
     },
     "execution_count": 72,
     "metadata": {},
     "output_type": "execute_result"
    }
   ],
   "source": [
    "\"Hello World\"[::-1]#reverse string"
   ]
  },
  {
   "cell_type": "code",
   "execution_count": null,
   "id": "0ab4f11f",
   "metadata": {},
   "outputs": [],
   "source": []
  },
  {
   "cell_type": "code",
   "execution_count": null,
   "id": "c0311d30",
   "metadata": {},
   "outputs": [],
   "source": []
  },
  {
   "cell_type": "code",
   "execution_count": null,
   "id": "43caab09",
   "metadata": {},
   "outputs": [],
   "source": []
  }
 ],
 "metadata": {
  "kernelspec": {
   "display_name": "Python 3 (ipykernel)",
   "language": "python",
   "name": "python3"
  },
  "language_info": {
   "codemirror_mode": {
    "name": "ipython",
    "version": 3
   },
   "file_extension": ".py",
   "mimetype": "text/x-python",
   "name": "python",
   "nbconvert_exporter": "python",
   "pygments_lexer": "ipython3",
   "version": "3.9.7"
  }
 },
 "nbformat": 4,
 "nbformat_minor": 5
}
