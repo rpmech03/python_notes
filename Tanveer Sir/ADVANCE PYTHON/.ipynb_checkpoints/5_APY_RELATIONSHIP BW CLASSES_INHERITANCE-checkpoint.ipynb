{
 "cells": [
  {
   "cell_type": "markdown",
   "id": "cdf1e10f",
   "metadata": {},
   "source": [
    "# RELATIONSHIP B/W CLASSES:\n",
    "\n",
    "In python we used two types of relationship b/w classes...\n",
    "\n",
    "1_\"is a\" relationship(inheritance) :\n",
    "    \n",
    "Inheritance is use to achieve relationship in python.We can inherit data members and member fun of one class into another\n",
    "\n",
    "class with the help of inheritance.In python we will use following types of inheritance...\n",
    "\n",
    "A_SIMPLE OR SINGLE INHERITANCE \n",
    "\n",
    "B_MULTIPLE INHERITANCE   \n",
    "\n",
    "C_MULTI LEVEL INHERITANCE   \n",
    "\n",
    "D_HIERARCHICAL INHERITANCE \n",
    "\n",
    "E_HYBRID INHERITANCE\n",
    "\n",
    "\n",
    "1.SIMPLE INHERITANNCE       2.MULTIPLE INHERITANCE              3.MULTI LEVEL INHERITANCE          4.HIERARCHICAL INHERITANCE\n",
    "\n",
    "PARENT CLASS                  PARENT       PARENT                       PARENT                             PARENT CLASS   \n",
    "\n",
    "                                                                    CHILD OR PARENT\n",
    "\n",
    "CHILD CLASS                       CHILD CLASS                            CHILD                   CHILD CLASS        CHILD CLASS\n",
    "\n",
    "\n",
    "5.HYBRID INHERITANCE\n",
    "\n",
    "         PARENT CLASS \n",
    "\n",
    "CHILD/PARENT        CHILD/PARENT\n",
    "\n",
    "         CHILD CLASS\n",
    "                                                                        \n",
    "                                                                        \n",
    "                                                                        \n",
    "PARENT CLASS OR BASE CLASS\n",
    "\n",
    "We will use following syntax for inheritance...\n",
    "\n",
    "derived_class_name(base_class_name):\n",
    "        body\n",
    "\n",
    "INHERITANCE USED FOR CODE REUSABILITY.\n",
    "NOTE:\n",
    "IPYNB-I PYTHON NOTE BOOK---JUPYTER NOTEBOOK---I MEANS INDUSTRIAL OR INTERACTIVE PYTHON\n",
    "PY IDLE---\n",
    "\n",
    "Inheritance is defined as the capability of one class to derive or inherit the properties from some other class and use it whenever needed. Inheritance provides the following properties: \n",
    " \n",
    "\n",
    "It represents real-world relationships well. \n",
    "It provides reusability of code. We don’t have to write the same code again and again. Also, it allows us to add more features to a class without modifying it. \n",
    "It is transitive in nature, which means that if class B inherits from another class A, then all the subclasses of B would automatically inherit from class A. "
   ]
  },
  {
   "cell_type": "code",
   "execution_count": null,
   "id": "633b54a2",
   "metadata": {},
   "outputs": [],
   "source": [
    "# VEHICLE CLASS KE ANDAR TYRE,ENGINE,LIGHTS ETC THINGS HOGI...N AP ALG2 BRAND KO REPRESENT KRTE H...KCH LOG AP M SE CONSTRUCT  \n",
    "# KROGE...R15 N KTM...R15 M DESIGN KRNE SE PHLE YE TO NH SOCHOGEKI USME TYRE HOGA ENGINE HOGA YA NH...VO B KYA H EK VEHICLE H\n",
    "# SO BASIC JITNI B PROPERTY HOGI SB VEHICLE SE INHERIT HOGI LIKE TYRE LE LEGA,ENGINE LE LEGA,HEADLIGHT,GLASSES ETC...N KTM ALSO\n",
    "# INHERIT FROM VEHICLE...SO WE CALLED THIS RELATIONSHIP IS \"IS A RELATIONSHIP\"...SO HERE WE CAN CALL R15 N KTM \"IS A VEHICLE\".\n",
    "# N IS A RELATIONSHIP MEANS INHERITANCE.\n",
    "\n",
    "# Inheritance allows us to define a class that inherits all the methods and properties from another class.\n",
    "\n",
    "#Made object of derived or child class always.\n",
    "\n",
    "\n",
    "# NOTE : HERE I WORKED ON IDLE N MADE PY12 FOLDER IN WHICH I CREATED Calculator module n made there class Calculator then I made\n",
    "# abc.py where imported calculator class then made class Demo where i have only one operation ie self and i want to do \n",
    "# calculations here so i will inherit class calculator in class demo."
   ]
  },
  {
   "cell_type": "markdown",
   "id": "49e12032",
   "metadata": {},
   "source": [
    "# Single Inheritance: \n",
    "    \n",
    "Single inheritance enables a derived class to inherit properties from a single parent class, thus enabling code reusability and \n",
    "\n",
    "the addition of new features to existing code."
   ]
  },
  {
   "cell_type": "code",
   "execution_count": 1,
   "id": "d1a60987",
   "metadata": {},
   "outputs": [],
   "source": [
    "# MODULE----Calculator.py\n",
    "\n",
    "class Calculator:\n",
    "    def add(self,a,b):\n",
    "        print(\"add is\",a+b)\n",
    "    def sub(self,a,b):\n",
    "        print(\"sub is\",a-b)\n",
    "    def mul(self,a,b):\n",
    "        print(\"mul is\",a*b)\n",
    "    def div(self,a,b):\n",
    "        print(\"div is\",a/b)\n"
   ]
  },
  {
   "cell_type": "code",
   "execution_count": 2,
   "id": "de583367",
   "metadata": {},
   "outputs": [
    {
     "ename": "ModuleNotFoundError",
     "evalue": "No module named 'Calculator'",
     "output_type": "error",
     "traceback": [
      "\u001b[1;31m---------------------------------------------------------------------------\u001b[0m",
      "\u001b[1;31mModuleNotFoundError\u001b[0m                       Traceback (most recent call last)",
      "\u001b[1;32m~\\AppData\\Local\\Temp/ipykernel_9372/3313215510.py\u001b[0m in \u001b[0;36m<module>\u001b[1;34m\u001b[0m\n\u001b[0;32m      1\u001b[0m \u001b[1;31m# Module abc.py---\u001b[0m\u001b[1;33m\u001b[0m\u001b[1;33m\u001b[0m\u001b[0m\n\u001b[0;32m      2\u001b[0m \u001b[1;33m\u001b[0m\u001b[0m\n\u001b[1;32m----> 3\u001b[1;33m \u001b[1;32mfrom\u001b[0m \u001b[0mCalculator\u001b[0m \u001b[1;32mimport\u001b[0m \u001b[0mCalculator\u001b[0m\u001b[1;33m\u001b[0m\u001b[1;33m\u001b[0m\u001b[0m\n\u001b[0m\u001b[0;32m      4\u001b[0m \u001b[1;32mclass\u001b[0m \u001b[0mDemo\u001b[0m\u001b[1;33m(\u001b[0m\u001b[0mCalculator\u001b[0m\u001b[1;33m)\u001b[0m\u001b[1;33m:\u001b[0m\u001b[1;33m\u001b[0m\u001b[1;33m\u001b[0m\u001b[0m\n\u001b[0;32m      5\u001b[0m     \u001b[1;32mdef\u001b[0m \u001b[0mshow\u001b[0m\u001b[1;33m(\u001b[0m\u001b[0mself\u001b[0m\u001b[1;33m)\u001b[0m\u001b[1;33m:\u001b[0m\u001b[1;33m\u001b[0m\u001b[1;33m\u001b[0m\u001b[0m\n",
      "\u001b[1;31mModuleNotFoundError\u001b[0m: No module named 'Calculator'"
     ]
    }
   ],
   "source": [
    "# Module abc.py---\n",
    "\n",
    "from Calculator import Calculator\n",
    "class Demo(Calculator):\n",
    "    def show(self):\n",
    "        print(\"CALCULATOR\")\n",
    "d=Demo()\n",
    "d.show()\n",
    "d.add(10,20)\n",
    "d.sub(20,10)\n",
    "d.mul(10,20)\n",
    "d.div(10,2)\n"
   ]
  },
  {
   "cell_type": "code",
   "execution_count": null,
   "id": "8ffeb73b",
   "metadata": {},
   "outputs": [],
   "source": [
    "MULTILEVEL INHERITANCE:\n",
    "    \n",
    "    PARENT\n",
    "    \n",
    "    PARENT/CHILD\n",
    "    \n",
    "    CHILD"
   ]
  },
  {
   "cell_type": "code",
   "execution_count": 4,
   "id": "16a97b22",
   "metadata": {},
   "outputs": [
    {
     "name": "stdout",
     "output_type": "stream",
     "text": [
      "show is running from Demo\n",
      "display is running from Dummy\n",
      "welcome is running from base\n"
     ]
    }
   ],
   "source": [
    "# MULTILEVEL INHERITANCE : When we have a child and grandchild relationship.\n",
    "\n",
    "class Base:\n",
    "    def welcome(self):\n",
    "        print(\"welcome is running from base\")\n",
    "class Dummy(Base):\n",
    "    def display(self):\n",
    "        print(\"display is running from Dummy\")\n",
    "class Demo(Dummy):\n",
    "    def show(self):\n",
    "        print(\"show is running from Demo\")\n",
    "d=Demo()\n",
    "d.show()\n",
    "d.display()\n",
    "d.welcome()"
   ]
  },
  {
   "cell_type": "code",
   "execution_count": null,
   "id": "5f034c81",
   "metadata": {},
   "outputs": [],
   "source": [
    "# METHODS KA NAME SAME HO TO HM OVERRIDING USE KREGE...\n",
    "# DUMMY "
   ]
  },
  {
   "cell_type": "code",
   "execution_count": null,
   "id": "208702e2",
   "metadata": {},
   "outputs": [],
   "source": [
    "# MULTILEVEL INHERITANCE : When we have a child and grandchild relationship.\n",
    "\n",
    "class Base:\n",
    "    def welcome(self):\n",
    "        print(\"welcome is running from base\")\n",
    "class Dummy(Base):\n",
    "    def display(self):\n",
    "        print(\"display is running from Dummy\")\n",
    "class Demo(Dummy):\n",
    "    def show(self):\n",
    "        print(\"show is running from Demo\")\n",
    "d=Dummy()\n",
    "# d.show()\n",
    "d.display()\n",
    "# d.welcome()"
   ]
  },
  {
   "cell_type": "code",
   "execution_count": null,
   "id": "c3785f8f",
   "metadata": {},
   "outputs": [],
   "source": []
  },
  {
   "cell_type": "code",
   "execution_count": null,
   "id": "6b2b9a18",
   "metadata": {},
   "outputs": [],
   "source": []
  },
  {
   "cell_type": "code",
   "execution_count": null,
   "id": "324aadae",
   "metadata": {},
   "outputs": [],
   "source": []
  },
  {
   "cell_type": "code",
   "execution_count": null,
   "id": "e909a437",
   "metadata": {},
   "outputs": [],
   "source": []
  }
 ],
 "metadata": {
  "kernelspec": {
   "display_name": "Python 3 (ipykernel)",
   "language": "python",
   "name": "python3"
  },
  "language_info": {
   "codemirror_mode": {
    "name": "ipython",
    "version": 3
   },
   "file_extension": ".py",
   "mimetype": "text/x-python",
   "name": "python",
   "nbconvert_exporter": "python",
   "pygments_lexer": "ipython3",
   "version": "3.9.7"
  }
 },
 "nbformat": 4,
 "nbformat_minor": 5
}
