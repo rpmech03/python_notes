{
 "cells": [
  {
   "cell_type": "code",
   "execution_count": null,
   "id": "1911447c",
   "metadata": {},
   "outputs": [],
   "source": [
    "If you want to make an object oriented program then there should be 5 features to be used here ie...\n",
    "\n",
    "1_class\n",
    "2_object\n",
    "3_properties\n",
    "4_constructor\n",
    "5_method/operations.\n"
   ]
  },
  {
   "cell_type": "code",
   "execution_count": null,
   "id": "bd39cf0e",
   "metadata": {},
   "outputs": [],
   "source": [
    "python is a pure oop language...jb b koi language pure oop language hoti h to isme ek concept use hota h dynamic memory ka..\n",
    "dynamic memory means jha ap operation perform kr sko changes la sko\n",
    "i just want to construct a prog of add of 2 prog...ise hm 2 type se bna skte h...1st..we allocate two individual memory ie a n b\n",
    "n there is no conncetion b/w a n b,yha ye program shi to h but strategy vice glt h cz ap 2 memory de rhe ho,n ab hm yha object \n",
    "oriented way m memory bnayege..n 2nd way is to get a single memory n make 2 partitions so there is no need to make any kind\n",
    "of connection here so whats the better thing here ???i guess to give a single memory is a best way to handle it than 2 \n",
    "individual memory..\n",
    "\n",
    "EXAMPLE:\n",
    "\n",
    "mjhe agr ek bank ke customer ki detail dalni ho ek single memory m to m kiska use kruga list,dictionary ,tuple ka ...but yha\n",
    "m man lo list ka kr rha hu to ..ek customer ki details kya2 ho skti h ie acno,name,email,mob,bal,pin ye sb mne list ki help se\n",
    "bnwai h n ye ek customer ka data h n agr mjhe 50 customer ka data store krna h to 50 alg2 memory..\n",
    "\n",
    "but agr mjhe yha balance deposit krwana ho to isme krwa nh skta cz deposit nam ka operation h he nh list m ...or na he pin \n",
    "update kr skta hu na he withdraw kra pauga cz m whi operation use kr pauga jo list m h so normally m list m \n",
    "changes nh kra skta required data ke according so hm yha apne according memory bnayege..jse list bna h,dictionary bni h wse he \n",
    "\"hm apne according objects bna skte h n object means memory n ye dynamic memory hoti h n is memory ko ek bar store krane ke bad \n",
    "hm apne hisab se operation perform krwa skte h\"\n",
    "\n",
    "use krte asi chiz ka jisme hm operations apni requirement ke \n",
    "according bna skte h n isi ko hm object kehte h ...object means memory n us memory ka use hm kr skte h different kind of \n",
    "operations ko perform krne m."
   ]
  },
  {
   "cell_type": "code",
   "execution_count": 1,
   "id": "e6d5a0fe",
   "metadata": {},
   "outputs": [
    {
     "name": "stdout",
     "output_type": "stream",
     "text": [
      "30\n"
     ]
    }
   ],
   "source": [
    "a=10\n",
    "b=20\n",
    "print(a+b)"
   ]
  },
  {
   "cell_type": "code",
   "execution_count": null,
   "id": "974835e0",
   "metadata": {},
   "outputs": [],
   "source": [
    "what needs to make a program?\n",
    "\n",
    "sbse phle  hm class bnayege then object bnayege, object means memory allocate krege then third step will make partitions n us \n",
    "partitions m properties likhege..normally ye variable hote h but hm inhe class ke andar likh rhe h so ise properties he khege\n",
    "n uske bahr ise var ...n ye memory dynamic hoti h cz isme hm koi b changes kr skte h,koi b operation perform kr skte h..now\n",
    "4th step is constructor ,isme hm initial data add krege like acno m ac n name m name like that then 5th step is methods or \n",
    "operation in which we will perform our operations like we want to deposit money or withdraw, update our pin,mobile etc...so\n",
    "this sort of operations we can perform here...."
   ]
  },
  {
   "cell_type": "code",
   "execution_count": null,
   "id": "a16ad2c1",
   "metadata": {},
   "outputs": [],
   "source": [
    "1_CLASS\n",
    "\n",
    "2_OBJECT----ALLOCATE MEMORY\n",
    "\n",
    "3_PROPERTIES---AFTER MAKING PARTITIONS INSIDE THE MEMORY WILL ADD PROPERTIES....\n",
    "\n",
    "INSIDE CLASS---PROPERTIES   AND OUTSIDE CLASS----VARIABLE\n",
    "\n",
    "4_CONSTRUCTOR---ADD INITIAL DATA---LIKE ADD ACNO INSIDE OF AC N NAME INSIDE THE NAME ETC.\n",
    "\n",
    "5_METHODS/OPERATIONS---WILL PERFORM OPERATIONS LIKE DEPOSIT,WITHDRAW,UPDATE ETC."
   ]
  },
  {
   "cell_type": "code",
   "execution_count": null,
   "id": "30eb78cf",
   "metadata": {},
   "outputs": [],
   "source": [
    "class Class_Name:\n",
    "    acno\n",
    "    name\n",
    "    email\n",
    "    mob\n",
    "    bal\n",
    "    pin\n",
    "    def constructor():\n",
    "        acno=244566\n",
    "        name=\"ajay\"\n",
    "        assignments\n",
    "    def deposit(amount):\n",
    "        bal=bal+amount\n",
    "        \n",
    "        \n",
    "object"
   ]
  },
  {
   "cell_type": "markdown",
   "id": "86221278",
   "metadata": {},
   "source": [
    "# OOP SYSTEM IN PYTHON:\n",
    "\n",
    "1_CLASS :\n",
    "\n",
    "Class is a blueprint of an object or class is use to bind data members and member functions in single unit.We can access data \n",
    "\n",
    "of class with the help of an object.\n",
    "\n",
    "2_OBJECT :\n",
    "\n",
    "Object is a name of memory location that contains some properties and we can perform operations on property with the help of an \n",
    "\n",
    "object.We can say that \"\"object is an instance of class\"\".\n",
    "\n",
    "3_PROPERTIES:\n",
    "\n",
    "Variables which is declare inside the class with global scope is known as properties of an object.\n"
   ]
  },
  {
   "cell_type": "code",
   "execution_count": null,
   "id": "2dc46462",
   "metadata": {},
   "outputs": [],
   "source": [
    "class cust():\n",
    "    acno=123456\n",
    "    name"
   ]
  },
  {
   "cell_type": "code",
   "execution_count": null,
   "id": "f6ceadac",
   "metadata": {},
   "outputs": [],
   "source": []
  }
 ],
 "metadata": {
  "kernelspec": {
   "display_name": "Python 3 (ipykernel)",
   "language": "python",
   "name": "python3"
  },
  "language_info": {
   "codemirror_mode": {
    "name": "ipython",
    "version": 3
   },
   "file_extension": ".py",
   "mimetype": "text/x-python",
   "name": "python",
   "nbconvert_exporter": "python",
   "pygments_lexer": "ipython3",
   "version": "3.9.7"
  }
 },
 "nbformat": 4,
 "nbformat_minor": 5
}
