{
 "cells": [
  {
   "cell_type": "markdown",
   "id": "8b333119",
   "metadata": {},
   "source": [
    "# DOT OR MEMBER ACCESS OPERATOR :\n",
    "\n",
    "Mainly use to access data members and member functions of a python class with the help of an object.We will use dot as a member \n",
    "\n",
    "access operator in python.\n",
    "\n",
    "DOT= MEANS MEMBER ACCESS OPERATOR"
   ]
  },
  {
   "cell_type": "code",
   "execution_count": null,
   "id": "b4b627f5",
   "metadata": {},
   "outputs": [],
   "source": [
    "#hmne class bnai Emp nam ki n uski do properties de di n ab hme is class ka object bnana h to hm Emp class ke piche parenthesis \n",
    "# lga denge constructor ka n ab hm is object ko store kra denge \"e\" me...ab yha pr kch log bolte h ye ek object h but \n",
    "# technically dekha jaye to 'e' ek 'refrence variable' h...jb b koi memory allocate hoti h to uska ek specific address hota h..\n",
    "# or wo add hme python m nh milta h...to python m hm kisi b memory ka add nh milta h...cz add ko store krta h pointer n python\n",
    "# m pointer nh hota h...\"\"pointer ek ase variables\" hote h jiske pas memory ka add hota h...\n",
    "\n",
    "# to is memory ka b koi add hoga so is \n",
    "# memory ka add kya hoga like 1024..pr ab is memory ka add apko de diya jaye to ap wha pr rkhi values ko change kr skte ho..\n",
    "# ab jb ap add bnate ho kisi memory ka to ye alphanumeric reference m convert ho jata h like 143467467asds123asd ...n is \n",
    "# reference ko hm store krayege 'reference var e' me..so \"e\" is a reference variable...n is reference var ke pas reference h n\n",
    "# is reference ke pas add h n is add pr rkhi hui values ko ap access kr skoge...\n",
    "\n",
    "# SUMMARY---\n",
    "\n",
    "# hme python m direct add nh milega n add milta to hm store krte pointer m but python m pointer nh hota...so hme yha\n",
    "# milega reference n is ref ko hm var m store krege..n ise hm ref var khege..ya \"e\" ko he hm object khege...object means memory \n",
    "# n ise jb print(e) krege to 0x00000203015D0820 ye add milega...\n",
    "\n",
    "# e ke pas ref h n is ref ke pas add h is memory ka n is memory ke pas 2 properties h...uid n name..abhi usme koi value nh h\n",
    "# n agr apko wha pr value add krni h to apko dot ka use krna pdega n dot ko member access operator khege.\n",
    "\n",
    "# m \"e\" object ki uid wali property pr value rkhna chahta hu 101...like e.uid=101\n",
    "# e object ki name wali property pr value rkhna chahta hu ajay...like e.name=\"ajay\"\n",
    "# n ye ek object m 2 properties add ki n ab koi new memory bnana h to le lo e1 n usme store kra do...\n",
    "# like e1=Emp()\n",
    "# e1.uid=102\n",
    "# e1.name=\"jay\"\n",
    "# then print kra do insbko."
   ]
  },
  {
   "cell_type": "code",
   "execution_count": 1,
   "id": "f2c7bd8e",
   "metadata": {},
   "outputs": [
    {
     "name": "stdout",
     "output_type": "stream",
     "text": [
      "<__main__.Emp object at 0x00000203015D0820>\n"
     ]
    }
   ],
   "source": [
    "class Emp():\n",
    "    uid:int\n",
    "    name:str\n",
    "e=Emp()#object\n",
    "print(e)"
   ]
  },
  {
   "cell_type": "code",
   "execution_count": 2,
   "id": "d7c7e6e5",
   "metadata": {},
   "outputs": [
    {
     "name": "stdout",
     "output_type": "stream",
     "text": [
      "101\n",
      "ajay\n",
      "102\n",
      "jay\n"
     ]
    }
   ],
   "source": [
    "class Emp():\n",
    "    uid:int\n",
    "    name:str\n",
    "e=Emp()#object\n",
    "# print(e)\n",
    "e.uid=101\n",
    "e.name=\"ajay\"\n",
    "e1=Emp()#object\n",
    "e1.uid=102\n",
    "e1.name=\"jay\"\n",
    "print(e.uid)\n",
    "print(e.name)\n",
    "print(e1.uid)\n",
    "print(e1.name)"
   ]
  },
  {
   "cell_type": "markdown",
   "id": "b57fc564",
   "metadata": {},
   "source": [
    "# CONSTRUCTOR:\n",
    "    \n",
    "Constructor are those member functions of class which is mainly \"\"use to initialize properties of an object(IPO)\"\".We can \n",
    "\n",
    "define a constructor with the help of following syntax ...\n",
    "\n",
    "def __init__(self):\n",
    "   body\n",
    "   \n",
    "When we will \"create an object of class then constructor will automatically call\".We can call a constructor with the help of an \n",
    "\n",
    "object only so constructor will always take \"self as first argument\" because if you want to call a function using an object \n",
    "\n",
    "then we will always pass self as first argument.\n",
    "\n",
    "In python we will use two types of constructor...\n",
    "\n",
    "1_DEFAULT CONSTRUCTOR :\n",
    "\n",
    "A constructor that doesn't contain any arguments other than self is called \"Default Constrcutor\".\n",
    "\n",
    "\"When we will define a class in python and we will not write any constructor inside the class then python compiler always write \n",
    "\n",
    "an ''empty default constructor''.\"\n",
    "\n",
    "2_PARAMETERIZED CONSTRUCTOR :\n",
    "    \n",
    "A constructor that contains arguments other than self is known as \"Parameterized Constructor\"."
   ]
  },
  {
   "cell_type": "code",
   "execution_count": null,
   "id": "b7dca920",
   "metadata": {},
   "outputs": [],
   "source": [
    "#argument m self dena jaruri h,q jaruri h ye jbself pdege tb smjh ajayega....double under is a dender."
   ]
  },
  {
   "cell_type": "code",
   "execution_count": 5,
   "id": "52e9cb6b",
   "metadata": {},
   "outputs": [
    {
     "name": "stdout",
     "output_type": "stream",
     "text": [
      "default constructor is running...\n",
      "default constructor is running...\n",
      "default constructor is running...\n"
     ]
    }
   ],
   "source": [
    "class Demo:\n",
    "    def __init__(self):\n",
    "        print(\"default constructor is running...\")\n",
    "d=Demo()#calling constructor using parenthesis\n",
    "d1=Demo()\n",
    "d2=Demo()"
   ]
  },
  {
   "cell_type": "markdown",
   "id": "87a65d02",
   "metadata": {},
   "source": [
    "# 2_PARAMETERIZED CONSTRUCTOR :\n",
    "    \n",
    "A constructor that contains arguments other than self is known as \"Parameterized Constructor\"."
   ]
  },
  {
   "cell_type": "code",
   "execution_count": 2,
   "id": "9d90e0f7",
   "metadata": {},
   "outputs": [
    {
     "name": "stdout",
     "output_type": "stream",
     "text": [
      "Cube is 125\n",
      "Cube is 216\n",
      "Cube is 343\n"
     ]
    }
   ],
   "source": [
    "class Demo:\n",
    "    def __init__(self,n):\n",
    "        print(\"Cube is\",n**3)\n",
    "d=Demo(5)#calling constructor using parenthesis n yha 5 \"n\" m jayega.\n",
    "d1=Demo(6)\n",
    "d2=Demo(7)\n"
   ]
  },
  {
   "cell_type": "code",
   "execution_count": 7,
   "id": "db63bf60",
   "metadata": {},
   "outputs": [
    {
     "name": "stdout",
     "output_type": "stream",
     "text": [
      "Cube is 125\n",
      "Cube is 216\n"
     ]
    },
    {
     "ename": "TypeError",
     "evalue": "__init__() missing 1 required positional argument: 'n'",
     "output_type": "error",
     "traceback": [
      "\u001b[1;31m---------------------------------------------------------------------------\u001b[0m",
      "\u001b[1;31mTypeError\u001b[0m                                 Traceback (most recent call last)",
      "\u001b[1;32m~\\AppData\\Local\\Temp/ipykernel_6848/2318733038.py\u001b[0m in \u001b[0;36m<module>\u001b[1;34m\u001b[0m\n\u001b[0;32m      4\u001b[0m \u001b[0md\u001b[0m\u001b[1;33m=\u001b[0m\u001b[0mDemo\u001b[0m\u001b[1;33m(\u001b[0m\u001b[1;36m5\u001b[0m\u001b[1;33m)\u001b[0m\u001b[1;31m#calling constructor using parenthesis\u001b[0m\u001b[1;33m\u001b[0m\u001b[1;33m\u001b[0m\u001b[0m\n\u001b[0;32m      5\u001b[0m \u001b[0md1\u001b[0m\u001b[1;33m=\u001b[0m\u001b[0mDemo\u001b[0m\u001b[1;33m(\u001b[0m\u001b[1;36m6\u001b[0m\u001b[1;33m)\u001b[0m\u001b[1;33m\u001b[0m\u001b[1;33m\u001b[0m\u001b[0m\n\u001b[1;32m----> 6\u001b[1;33m \u001b[0md2\u001b[0m\u001b[1;33m=\u001b[0m\u001b[0mDemo\u001b[0m\u001b[1;33m(\u001b[0m\u001b[1;33m)\u001b[0m\u001b[1;33m\u001b[0m\u001b[1;33m\u001b[0m\u001b[0m\n\u001b[0m",
      "\u001b[1;31mTypeError\u001b[0m: __init__() missing 1 required positional argument: 'n'"
     ]
    }
   ],
   "source": [
    "class Demo:\n",
    "    def __init__(self,n):\n",
    "        print(\"Cube is\",n**3)\n",
    "d=Demo(5)#calling constructor using parenthesis\n",
    "d1=Demo(6)\n",
    "d2=Demo()"
   ]
  },
  {
   "cell_type": "code",
   "execution_count": null,
   "id": "0bd50421",
   "metadata": {},
   "outputs": [],
   "source": [
    "#error ajayega agr koi argument nh diya ho to...cz compiler jo h default m value le leta h but 1st wale constructor ke liye\n",
    "#but yha hm 2nd wala use kr rhe h so default value lenge to error ajayega."
   ]
  },
  {
   "cell_type": "markdown",
   "id": "29ec5d05",
   "metadata": {},
   "source": [
    "# CONSTRUCTOR OVERLOADING:\n",
    "\n",
    "Overloading means we can write more than one constructor within a python class with same name but with different argument.We \n",
    "\n",
    "can achieve overloading in python with the help of \"\"star args(non key arguments) and double star args(key arguments) in \n",
    "\n",
    "python\"\"."
   ]
  },
  {
   "cell_type": "code",
   "execution_count": 8,
   "id": "d45019ad",
   "metadata": {},
   "outputs": [
    {
     "ename": "TypeError",
     "evalue": "__init__() missing 2 required positional arguments: 'a' and 'b'",
     "output_type": "error",
     "traceback": [
      "\u001b[1;31m---------------------------------------------------------------------------\u001b[0m",
      "\u001b[1;31mTypeError\u001b[0m                                 Traceback (most recent call last)",
      "\u001b[1;32m~\\AppData\\Local\\Temp/ipykernel_6848/85430469.py\u001b[0m in \u001b[0;36m<module>\u001b[1;34m\u001b[0m\n\u001b[0;32m      6\u001b[0m     \u001b[1;32mdef\u001b[0m \u001b[0m__init__\u001b[0m\u001b[1;33m(\u001b[0m\u001b[0mself\u001b[0m\u001b[1;33m,\u001b[0m\u001b[0ma\u001b[0m\u001b[1;33m,\u001b[0m\u001b[0mb\u001b[0m\u001b[1;33m)\u001b[0m\u001b[1;33m:\u001b[0m\u001b[1;33m\u001b[0m\u001b[1;33m\u001b[0m\u001b[0m\n\u001b[0;32m      7\u001b[0m         \u001b[0mprint\u001b[0m\u001b[1;33m(\u001b[0m\u001b[1;34m\"add is\"\u001b[0m\u001b[1;33m,\u001b[0m\u001b[0ma\u001b[0m\u001b[1;33m+\u001b[0m\u001b[0mb\u001b[0m\u001b[1;33m)\u001b[0m\u001b[1;33m\u001b[0m\u001b[1;33m\u001b[0m\u001b[0m\n\u001b[1;32m----> 8\u001b[1;33m \u001b[0md\u001b[0m\u001b[1;33m=\u001b[0m\u001b[0mDemo\u001b[0m\u001b[1;33m(\u001b[0m\u001b[1;33m)\u001b[0m\u001b[1;33m\u001b[0m\u001b[1;33m\u001b[0m\u001b[0m\n\u001b[0m",
      "\u001b[1;31mTypeError\u001b[0m: __init__() missing 2 required positional arguments: 'a' and 'b'"
     ]
    }
   ],
   "source": [
    "class Demo:\n",
    "    def __init__(self):\n",
    "        print(\"default constructor is running\")\n",
    "    def __init__(self,n):\n",
    "        print(\"Cube is \",n**3)\n",
    "    def __init__(self,a,b):\n",
    "        print(\"add is\",a+b)\n",
    "d=Demo()#this is default construtor but we get error here.\n",
    "\n",
    "#there is 3 constructor,you can write here but last one will be called here...if we want to call all 3 then we have to use\n",
    "# star args and double star args."
   ]
  },
  {
   "cell_type": "code",
   "execution_count": 9,
   "id": "03d4cdd3",
   "metadata": {},
   "outputs": [
    {
     "ename": "TypeError",
     "evalue": "__init__() missing 1 required positional argument: 'b'",
     "output_type": "error",
     "traceback": [
      "\u001b[1;31m---------------------------------------------------------------------------\u001b[0m",
      "\u001b[1;31mTypeError\u001b[0m                                 Traceback (most recent call last)",
      "\u001b[1;32m~\\AppData\\Local\\Temp/ipykernel_6848/729042681.py\u001b[0m in \u001b[0;36m<module>\u001b[1;34m\u001b[0m\n\u001b[0;32m      7\u001b[0m         \u001b[0mprint\u001b[0m\u001b[1;33m(\u001b[0m\u001b[1;34m\"add is\"\u001b[0m\u001b[1;33m,\u001b[0m\u001b[0ma\u001b[0m\u001b[1;33m+\u001b[0m\u001b[0mb\u001b[0m\u001b[1;33m)\u001b[0m\u001b[1;33m\u001b[0m\u001b[1;33m\u001b[0m\u001b[0m\n\u001b[0;32m      8\u001b[0m \u001b[1;31m# d=Demo()\u001b[0m\u001b[1;33m\u001b[0m\u001b[1;33m\u001b[0m\u001b[0m\n\u001b[1;32m----> 9\u001b[1;33m \u001b[0md\u001b[0m\u001b[1;33m=\u001b[0m\u001b[0mDemo\u001b[0m\u001b[1;33m(\u001b[0m\u001b[1;36m5\u001b[0m\u001b[1;33m)\u001b[0m\u001b[1;33m\u001b[0m\u001b[1;33m\u001b[0m\u001b[0m\n\u001b[0m",
      "\u001b[1;31mTypeError\u001b[0m: __init__() missing 1 required positional argument: 'b'"
     ]
    }
   ],
   "source": [
    "class Demo:\n",
    "    def __init__(self):\n",
    "        print(\"default constructor is running\")\n",
    "    def __init__(self,n):\n",
    "        print(\"Cube is \",n**3)\n",
    "    def __init__(self,a,b):\n",
    "        print(\"add is\",a+b)\n",
    "# d=Demo()\n",
    "d=Demo(5)"
   ]
  },
  {
   "cell_type": "code",
   "execution_count": 3,
   "id": "46f8d283",
   "metadata": {},
   "outputs": [
    {
     "name": "stdout",
     "output_type": "stream",
     "text": [
      "add is 15\n"
     ]
    }
   ],
   "source": [
    "class Demo:\n",
    "    def __init__(self):\n",
    "        print(\"default constructor is running\")\n",
    "    def __init__(self,n):\n",
    "        print(\"Cube is \",n**3)\n",
    "    def __init__(self,a,b):\n",
    "        print(\"add is\",a+b)\n",
    "# d=Demo()\n",
    "# d=Demo(5)\n",
    "d=Demo(5,10)#this is kind of overloading butnot an exact overloading that will be achieved by us when using star args and double\n",
    "              #star args."
   ]
  },
  {
   "cell_type": "code",
   "execution_count": null,
   "id": "2caaf8f7",
   "metadata": {},
   "outputs": [],
   "source": []
  },
  {
   "cell_type": "code",
   "execution_count": null,
   "id": "53509265",
   "metadata": {},
   "outputs": [],
   "source": []
  }
 ],
 "metadata": {
  "kernelspec": {
   "display_name": "Python 3 (ipykernel)",
   "language": "python",
   "name": "python3"
  },
  "language_info": {
   "codemirror_mode": {
    "name": "ipython",
    "version": 3
   },
   "file_extension": ".py",
   "mimetype": "text/x-python",
   "name": "python",
   "nbconvert_exporter": "python",
   "pygments_lexer": "ipython3",
   "version": "3.9.7"
  }
 },
 "nbformat": 4,
 "nbformat_minor": 5
}
