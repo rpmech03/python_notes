{
 "cells": [
  {
   "cell_type": "markdown",
   "id": "ddc358a1",
   "metadata": {},
   "source": [
    "# PDBC CONNECTIVITY STEPS:\n",
    "\n",
    "While we install pip,first we have to add not symbol(!) ie compulsory.\n",
    "\n",
    "1ST STEP_\n",
    "\n",
    "First of all we import mysql.connector then will call connect method at mysql.connector object that contains 4 \n",
    "\n",
    "arguments...\n",
    "\n",
    "1st one is POST,in which we will pass server name and we will use local host,\n",
    "\n",
    "2nd one is user name for MYSQL, \n",
    "\n",
    "3rd one is pwd of mysql and \n",
    "\n",
    "last one contains name of database.\n",
    "\n",
    "Connect method will return db connectivity obj.\n",
    "\n",
    "We can execute query by using cursor and we can construct a cursor object\n",
    "when we will call cursor method on db connectivity \n",
    "\n",
    "object.\n",
    "\n",
    "We can execute a query by using cursor when we will call execute method of cursor in which we will pass one or two \n",
    "\n",
    "argument.Either we can pass only query as 1st argument or we can pass query and tuple that contains actual values which we want \n",
    "\n",
    "to store in db.We will call commit method after each DML operations."
   ]
  },
  {
   "cell_type": "markdown",
   "id": "898b81e9",
   "metadata": {},
   "source": [
    "# INSERT PROGRAM:"
   ]
  },
  {
   "cell_type": "code",
   "execution_count": 1,
   "id": "e935f47e",
   "metadata": {},
   "outputs": [
    {
     "name": "stdout",
     "output_type": "stream",
     "text": [
      "Collecting mysql-connector\n",
      "  Downloading mysql-connector-2.2.9.tar.gz (11.9 MB)\n",
      "Building wheels for collected packages: mysql-connector\n",
      "  Building wheel for mysql-connector (setup.py): started\n",
      "  Building wheel for mysql-connector (setup.py): finished with status 'done'\n",
      "  Created wheel for mysql-connector: filename=mysql_connector-2.2.9-cp39-cp39-win_amd64.whl size=247961 sha256=1798ec15e0b40e9aed2637cc71d75dafd8d1d4af132f3920c6c72244b52a6ad0\n",
      "  Stored in directory: c:\\users\\hzt\\appdata\\local\\pip\\cache\\wheels\\7b\\14\\39\\5aad423666e827dfe9a1fbcd111ac17171e7c9865d570780ce\n",
      "Successfully built mysql-connector\n",
      "Installing collected packages: mysql-connector\n",
      "Successfully installed mysql-connector-2.2.9\n"
     ]
    }
   ],
   "source": [
    "!pip install mysql-connector"
   ]
  },
  {
   "cell_type": "code",
   "execution_count": 9,
   "id": "7829688f",
   "metadata": {},
   "outputs": [
    {
     "name": "stdout",
     "output_type": "stream",
     "text": [
      "Collecting mysql-connector-python\n",
      "  Downloading mysql_connector_python-8.0.28-cp39-cp39-win_amd64.whl (7.2 MB)\n",
      "Collecting protobuf>=3.0.0\n",
      "  Downloading protobuf-3.19.4-cp39-cp39-win_amd64.whl (895 kB)\n",
      "Installing collected packages: protobuf, mysql-connector-python\n",
      "Successfully installed mysql-connector-python-8.0.28 protobuf-3.19.4\n"
     ]
    }
   ],
   "source": [
    "!pip install mysql-connector-python\n",
    "\n",
    "# if above pip doesn't work then you can use this pip."
   ]
  },
  {
   "cell_type": "code",
   "execution_count": 11,
   "id": "210ca5e0",
   "metadata": {},
   "outputs": [],
   "source": [
    "import mysql.connector"
   ]
  },
  {
   "cell_type": "code",
   "execution_count": null,
   "id": "90c40428",
   "metadata": {},
   "outputs": [],
   "source": [
    "mysql.connector ke andar n connector object pr ek method call kruga ie connect() ...n ye connect method kch arguments leti h..\n",
    "1st is host--host means server ka name..ap local machine pr chla rhe ho to us pr jo work krta h uska nam h local host..\n",
    "1_host='localhost'\n",
    "2_user='root'\n",
    "3_password='root'\n",
    "4_database=iska db bnana pdta h hmne py12 bnaya tha n nh mil rha ho ya delete ho gya ho to bna lo...\n",
    "create database py12;\n",
    "use py12;\n",
    "create table emp(id int,name varchar(20),sal int,job varchar(15))\n",
    "desc emp;\n",
    "4_database='py12'\n",
    "\n",
    "n ye sb return krke deta h database connectivity ka obj db."
   ]
  },
  {
   "cell_type": "code",
   "execution_count": 14,
   "id": "a58bc49e",
   "metadata": {},
   "outputs": [
    {
     "name": "stdout",
     "output_type": "stream",
     "text": [
      "Enter id :102\n",
      "Enter Name :jay\n",
      "Enter Salary :3500\n",
      "Enter Job :manager\n",
      "1 Emp Added\n"
     ]
    }
   ],
   "source": [
    "import mysql.connector\n",
    "db=mysql.connector.connect(\n",
    "host='localhost',\n",
    "user='root',\n",
    "password='root',\n",
    "database='py121'\n",
    ")\n",
    "cr=db.cursor()\n",
    "id=int(input(\"Enter id :\"))\n",
    "name=input(\"Enter Name :\")\n",
    "sal=int(input(\"Enter Salary :\"))\n",
    "job=input(\"Enter Job :\")\n",
    "qr=\"insert into emp values(%s,%s,%s,%s)\"\n",
    "val=(id,name,sal,job)\n",
    "cr.execute(qr,val)\n",
    "db.commit()\n",
    "print(cr.rowcount,\"Emp Added\")"
   ]
  },
  {
   "cell_type": "code",
   "execution_count": 15,
   "id": "6f982a06",
   "metadata": {},
   "outputs": [
    {
     "name": "stdout",
     "output_type": "stream",
     "text": [
      "Enter id :102\n",
      "1 emp deleted\n"
     ]
    }
   ],
   "source": [
    "import mysql.connector\n",
    "db=mysql.connector.connect(\n",
    "host='localhost',\n",
    "user='root',\n",
    "password='root',\n",
    "database='py121'\n",
    ")\n",
    "cr=db.cursor()\n",
    "id=int(input(\"Enter id :\"))\n",
    "qr=\"delete from emp where id=%s\"\n",
    "val=(id,)\n",
    "cr.execute(qr,val)\n",
    "db.commit()\n",
    "print(cr.rowcount,\"emp deleted\")"
   ]
  },
  {
   "cell_type": "code",
   "execution_count": 18,
   "id": "d855c964",
   "metadata": {},
   "outputs": [
    {
     "name": "stdout",
     "output_type": "stream",
     "text": [
      "Enter Old id :103\n",
      "Enter New Name :jaya\n",
      "Enter New Salary :3500\n",
      "Enter New Job :manager\n",
      "0 Emp Updated\n"
     ]
    }
   ],
   "source": [
    "import mysql.connector\n",
    "db=mysql.connector.connect(\n",
    "host='localhost',\n",
    "user='root',\n",
    "password='root',\n",
    "database='py121'\n",
    ")\n",
    "cr=db.cursor()\n",
    "id=int(input(\"Enter Old id :\"))\n",
    "name=input(\"Enter New Name :\")\n",
    "sal=int(input(\"Enter New Salary :\"))\n",
    "job=input(\"Enter New Job :\")\n",
    "qr=\"update emp set name=%s,sal=%s,job=%s where id=%s\"\n",
    "val=(name,sal,job,id)\n",
    "cr.execute(qr,val)\n",
    "db.commit()\n",
    "print(cr.rowcount,\"Emp Updated\")"
   ]
  },
  {
   "cell_type": "markdown",
   "id": "1cb4233b",
   "metadata": {},
   "source": [
    "# NOTE:\n",
    "\n",
    "abhi tk ap jitni b query execute krte the sb MYsql ke console se krte the...\n",
    "\n",
    "db ke andar apke pas tables h n is table se deal krne ke liye apko mysql ke console ki need hoti h..abhi tk jo apki query hoti \n",
    "\n",
    "thi wo mysql ke console se hoti thi...n apko kya lgta tha ki jo b query ap raise krte the wo directly db ke table pe hit kr \n",
    "\n",
    "dega but asa nh h...bich m ek memory area hota h jiska nam h \"cursor\" ..jo logically nh phisically exist krti hui memory h...\n",
    "\n",
    "to apne koi b query mysql ke console pr type ki to wo ja rhi h \"cursor\" ke pas..then cursor use table ke pas deta tha..then \n",
    "\n",
    "table pr query execute hone ke bad again cursor ke pas ati thi n cursor again console ko deta tha...pr is bar apke pas mysql ka \n",
    "\n",
    "console nh h..is bar apke pas jo query h execute krna h use python ke program ke through...means apke pas is bar cursor nh h \n",
    "\n",
    "python program h..ab ap python program se query execute kroge wo b ap directly execute nh kr paoge uske liye apko manually \n",
    "\n",
    "cursor bnana pdega...n ap python program se phle construct kroge cursor n ye cursor deal krega table se...ntable ka result waps \n",
    "\n",
    "cursor ke pas then python program ke pas jayega...mysql console internally deal krta h cursor se n python program ko externally \n",
    "\n",
    "cursor bnana pdega phle...\n",
    "\n",
    "apke pas db connectivity ka ek option h db n ap us pr ek method call kroge ie 1_cursor() n apko return hokr milega uska obj ie \n",
    "\n",
    "\"cr\" n ye cursor resposible rhega apki queries execute krne ke liye...n ab is program m cursor tk ka kam ho gyah means apke pas \n",
    "\n",
    "sbkch h ab ap user se input loge...id li,name,sal,job...ab apko dhyan rkhna h ap user se kitni value le rhe ho...n ab ap apni \n",
    "\n",
    "query likhoge as a string...insert into emp emp values..n jha2 pr values dena h us jgh ap use kroge %s ka..\"%s means DUMMY \n",
    "\n",
    "PARAMETER\"...like(%s,%s,%s,%s)...n ise store kra denge tuple m n us tuple m hm queries ko put krte jayege jisme 1st place pr \n",
    "\n",
    "id,2nd name ,3rd sal n 4th job...n ab table pr query execute krega cursor...ap cursor pr ek method call \n",
    "\n",
    "kroge..cr.execute(qr,val)...ab query apne as a tuple deni h n use apne store krai h val m...is db pr apne jo operation perform \n",
    "\n",
    "kiya tha wo h DML n dml m last m commit krna hota h...db.commit()..n apko pta h kitni row affect hui to ..ap print kr skte ho \n",
    "\n",
    "cursor.rowcount(),\"emp added\")..n iske bad hm input dete jayege n ek emp add ho jayeg n ab hme ise dekhne ke liye db m jayege n \n",
    "\n",
    "wha cmd run krege ie select * from emp;...n in sb ka mtlb yeh ki ab apko bar2 db m jakr insert krne ki need nh h ye sb ap \n",
    "\n",
    "python program ke through b kr skte ho..."
   ]
  },
  {
   "cell_type": "code",
   "execution_count": 27,
   "id": "89e4f0c3",
   "metadata": {},
   "outputs": [
    {
     "name": "stdout",
     "output_type": "stream",
     "text": [
      "Enter id :104\n",
      "Enter Name :dev\n",
      "Enter Salary :8900\n",
      "Enter Job :dba\n",
      "1 Emp Added\n"
     ]
    }
   ],
   "source": [
    "import mysql.connector\n",
    "db=mysql.connector.connect(\n",
    "host='localhost',\n",
    "user='root',\n",
    "password='root',\n",
    "database='py121'\n",
    ")\n",
    "cr=db.cursor()\n",
    "id=int(input(\"Enter id :\"))\n",
    "name=input(\"Enter Name :\")\n",
    "sal=int(input(\"Enter Salary :\"))\n",
    "job=input(\"Enter Job :\")\n",
    "qr=\"insert into emp values(%s,%s,%s,%s)\"\n",
    "val=(id,name,sal,job)\n",
    "cr.execute(qr,val)\n",
    "db.commit()\n",
    "print(cr.rowcount,\"Emp Added\")"
   ]
  },
  {
   "cell_type": "code",
   "execution_count": 28,
   "id": "5359a17a",
   "metadata": {},
   "outputs": [
    {
     "name": "stdout",
     "output_type": "stream",
     "text": [
      "[(101, 'jaya', 3500, 'manager'), (102, 'jayash', 3500, 'manager'), (103, 'harsh', 5600, 'developer'), (104, 'dev', 8900, 'dba')]\n"
     ]
    }
   ],
   "source": [
    "import mysql.connector\n",
    "db=mysql.connector.connect(\n",
    "host='localhost',\n",
    "user='root',\n",
    "password='root',\n",
    "database='py121'\n",
    ")\n",
    "cr=db.cursor()\n",
    "qr=\"select * from emp\"\n",
    "cr.execute(qr)\n",
    "data=cr.fetchall()\n",
    "print(data)"
   ]
  },
  {
   "cell_type": "code",
   "execution_count": 29,
   "id": "70370abf",
   "metadata": {},
   "outputs": [
    {
     "name": "stdout",
     "output_type": "stream",
     "text": [
      "101 \n",
      "jaya \n",
      "3500 \n",
      "manager \n",
      "10 \n",
      "103 \n",
      "jaya \n",
      "3500 \n",
      "manager \n",
      "30 \n",
      "104 \n",
      "raj \n",
      "3200 \n",
      "developer \n",
      "10 \n",
      "105 \n",
      "raju \n",
      "3000 \n",
      "developer \n",
      "20 \n",
      "106 \n",
      "dev \n",
      "3100 \n",
      "developer \n",
      "30 \n",
      "107 \n",
      "abhi \n",
      "1200 \n",
      "designer \n",
      "10 \n",
      "108 \n",
      "abhishek \n",
      "1500 \n",
      "designer \n",
      "20 \n",
      "109 \n",
      "vibhuti \n",
      "3300 \n",
      "manager \n",
      "10 \n"
     ]
    }
   ],
   "source": [
    "import mysql.connector\n",
    "db=mysql.connector.connect(\n",
    "host='localhost',\n",
    "user='root',\n",
    "password='root',\n",
    "database='py12'\n",
    ")\n",
    "cr=db.cursor()\n",
    "qr=\"select * from emp\"\n",
    "cr.execute(qr)\n",
    "data=cr.fetchall()\n",
    "if len(data)>0:\n",
    "    for i in data:\n",
    "        for j in i:\n",
    "            print(j,end=\" \")\n",
    "            print()\n",
    "else:\n",
    "    print(\"no records found\")"
   ]
  },
  {
   "cell_type": "code",
   "execution_count": 32,
   "id": "96878efe",
   "metadata": {},
   "outputs": [
    {
     "name": "stdout",
     "output_type": "stream",
     "text": [
      "101 jaya 3500 manager \n",
      "102 jayash 3500 manager \n",
      "103 harsh 5600 developer \n",
      "104 dev 8900 dba \n"
     ]
    }
   ],
   "source": [
    "import mysql.connector\n",
    "db=mysql.connector.connect(\n",
    "host='localhost',\n",
    "user='root',\n",
    "password='root',\n",
    "database='py121'\n",
    ")\n",
    "cr=db.cursor()\n",
    "qr=\"select * from emp\"\n",
    "cr.execute(qr)\n",
    "data=cr.fetchall()\n",
    "if len(data)>0:\n",
    "    for i in data:\n",
    "        for j in i:\n",
    "            print(j,end=\" \")\n",
    "        print()\n",
    "else:\n",
    "    print(\"no records found\")"
   ]
  },
  {
   "cell_type": "code",
   "execution_count": 33,
   "id": "9d54db6c",
   "metadata": {},
   "outputs": [
    {
     "name": "stdout",
     "output_type": "stream",
     "text": [
      "Enter Id :105\n",
      "no records found\n"
     ]
    }
   ],
   "source": [
    "import mysql.connector\n",
    "db=mysql.connector.connect(\n",
    "host='localhost',\n",
    "user='root',\n",
    "password='root',\n",
    "database='py121'\n",
    ")\n",
    "cr=db.cursor()\n",
    "id=int(input(\"Enter Id :\"))\n",
    "qr=\"select * from emp where id=%s\"\n",
    "cr.execute(qr,(id,))\n",
    "data=cr.fetchall()\n",
    "if len(data)>0:\n",
    "    for i in data:\n",
    "        for j in i:\n",
    "            print(j,end=\" \")\n",
    "        print()\n",
    "else:\n",
    "    print(\"no records found\")"
   ]
  },
  {
   "cell_type": "code",
   "execution_count": null,
   "id": "a638db11",
   "metadata": {},
   "outputs": [],
   "source": [
    "# TASK :\n",
    "\n",
    "ek table leni h student...\n",
    "roll\n",
    "name\n",
    "course\n",
    "fees\n",
    "year\n",
    "sem\n",
    "branch\n",
    "this all are student table's column\n",
    "select your choice :\n",
    "1 add student\n",
    "2_delete student\n",
    "3_update student\n",
    "4_show all students list\n",
    "5_search student by roll\n",
    "6_search student by name\n",
    "7_search student by course\n",
    "8_search student by branch\n",
    "9_search student by year\n",
    "10_search by fee condition\n",
    "\n",
    "like fee=5000 or greater than 5000"
   ]
  },
  {
   "cell_type": "code",
   "execution_count": null,
   "id": "37ecdffd",
   "metadata": {},
   "outputs": [],
   "source": []
  }
 ],
 "metadata": {
  "kernelspec": {
   "display_name": "Python 3 (ipykernel)",
   "language": "python",
   "name": "python3"
  },
  "language_info": {
   "codemirror_mode": {
    "name": "ipython",
    "version": 3
   },
   "file_extension": ".py",
   "mimetype": "text/x-python",
   "name": "python",
   "nbconvert_exporter": "python",
   "pygments_lexer": "ipython3",
   "version": "3.9.7"
  }
 },
 "nbformat": 4,
 "nbformat_minor": 5
}
