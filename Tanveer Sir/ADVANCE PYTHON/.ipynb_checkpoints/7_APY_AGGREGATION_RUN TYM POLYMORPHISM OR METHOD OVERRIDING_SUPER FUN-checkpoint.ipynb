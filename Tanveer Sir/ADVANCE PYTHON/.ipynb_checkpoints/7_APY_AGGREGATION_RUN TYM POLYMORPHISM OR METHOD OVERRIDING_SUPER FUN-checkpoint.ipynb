{
 "cells": [
  {
   "cell_type": "markdown",
   "id": "b48619dd",
   "metadata": {},
   "source": [
    "# 2_AGGREGATION OR HAS A RELATIONSHIP :\n",
    "\n",
    "We can 'access data' of 'one python class in another python class' with the 'help of an object' using aggregation.\n",
    "\n",
    "while Inheritance allows us to define a class that 'inherits all the methods and properties' from another class.\n",
    "\n",
    "KISI OR CLASS KA APNI CLASS M OBJ BNA SKO TO USE AGGREGATION KEHTE H...KISI B CLASS KO USE KRNE KE LIYE HMARE PAS DO TARIKE \n",
    "\n",
    "H...1ST..INHERITANCE...2ND...AGGREGATION`\n",
    "\n",
    "\"agr apko kisi b class ka aggregation stop krna ho to ap us class ko abstract bnayege..ab m kisi class ka inheritance stop krna chahta hu to m class ka final class bnauga\"\n",
    "\n",
    "m nh chahta ki base class ko koi override kre so m iska inheritance stop krwa duga..to class ke andar @final lga do ...usse phle hme final_class se import krna hoga final ko...n ise koi inherit krne ka try krega to error ajayega... \n",
    "\n",
    "\n",
    "AA N IF---ABSTRACT AGGREGATION....INHERITANCE FINAL CLASS"
   ]
  },
  {
   "cell_type": "code",
   "execution_count": null,
   "id": "86f3d988",
   "metadata": {},
   "outputs": [],
   "source": [
    "AGGREGATION VS INHERITANCE:\n",
    "    \n",
    "BOTH ASSOCIATIONS DESCRIBE TREES(HIERARCHIES)----\n",
    "\n",
    "AGGREGATION TREE DESCRIBES A-PART-OF RELATIONSHIP(ALSO CALLED AND-RELATIONSHIP)\n",
    "\n",
    "INHERITANCE TREE DESCRIBE \"KIND OF\" RELATIONSHIPS(ALSO CALLED OR-RELATIONSHIP)\n",
    "\n",
    "AGGREGATION RELATES INSTANCES(INVOLVES 2 OR MORE DIFFERENT OBJECTS)\n",
    "\n",
    "INHERITANCE RELATES CLASSES(A WAY TO STRUCTURE THE DIFFERENCE OF A SINGLE OBJECT)"
   ]
  },
  {
   "cell_type": "code",
   "execution_count": null,
   "id": "95d5fcb5",
   "metadata": {},
   "outputs": [],
   "source": [
    "INHERITANCE:(IS A RELATIONSHIP)\n",
    "    \n",
    "A BIKE IS A VEHICLE.\n",
    "A FULL TIME EMPLOYEE IS AN EMPLOYEE\n",
    "\n",
    "AGGREGATION:\n",
    "    \n",
    "A BIKE HAS A GEAR SYSTEM.\n",
    "AN EMPLOYEE HAS AN ADDRESS."
   ]
  },
  {
   "cell_type": "code",
   "execution_count": 6,
   "id": "51b02b94",
   "metadata": {},
   "outputs": [
    {
     "name": "stdout",
     "output_type": "stream",
     "text": [
      "add is 30\n",
      "sub is 10\n",
      "mul is 100\n",
      "add is 5.0\n"
     ]
    }
   ],
   "source": [
    "class Calculator:\n",
    "    def add(self,a,b):\n",
    "        print(\"add is\",a+b)\n",
    "    def sub(self,a,b):\n",
    "        print(\"sub is\",a-b)\n",
    "    def mul(self,a,b):\n",
    "        print(\"mul is\",a*b)\n",
    "    def div(self,a,b):\n",
    "        print(\"add is\",a/b)\n",
    "class Demo:\n",
    "    def show(self):\n",
    "        c=Calculator()#aggregation\n",
    "        c.add(20,10)\n",
    "        c.sub(20,10)\n",
    "        c.mul(10,10)\n",
    "        c.div(10,2)\n",
    "d=Demo()\n",
    "d.show()"
   ]
  },
  {
   "cell_type": "markdown",
   "id": "75053aee",
   "metadata": {},
   "source": [
    "# RUN TIME POLYMORPHISM OR METHOD OVER-RIDING:\n",
    "\n",
    "If parent and child both classes contains same method with same signature and same parameter then at the time of function \n",
    "\n",
    "calling parent class method will replace by child class method.This process is known as \"Method Over-riding or Run Time \n",
    "\n",
    "Polymorphism\".\n",
    "\n",
    "###classes alg2 h to data same likh skte h..or child class ke obj se ap us method ko call kr rhe ho...to child class ki he call hogi.\n",
    "\n",
    "Polymorphism means ability to take various form...ek he chiz ke alg2 form dekhne ko milte h like gangadhar he shaktiman,peterparker n spiderman etc.\n",
    "ex---\n",
    "print(5+6)=11\n",
    "print(\"5\" + \"6\" ) =56\n",
    "This is called polymorphism."
   ]
  },
  {
   "cell_type": "code",
   "execution_count": 2,
   "id": "36cb4de8",
   "metadata": {},
   "outputs": [
    {
     "name": "stdout",
     "output_type": "stream",
     "text": [
      "info about interview\n",
      "intro of student\n",
      "skills of trainer for language\n"
     ]
    }
   ],
   "source": [
    "class Trainer:\n",
    "    def intro(self):\n",
    "        print(\"intro of trainer\")\n",
    "    def skills(self):\n",
    "        print(\"skills of trainer for language\")\n",
    "class Student(Trainer):\n",
    "    def intro(self):\n",
    "        print(\"intro of student\")\n",
    "    def getInfo(self):\n",
    "        print(\"info about interview\")\n",
    "s=Student()\n",
    "s.getInfo()\n",
    "s.intro()\n",
    "s.skills()"
   ]
  },
  {
   "cell_type": "code",
   "execution_count": null,
   "id": "48f64398",
   "metadata": {},
   "outputs": [],
   "source": [
    "# SELF MTLB CURRENT OBJ KO POINT KRNE WALA ,AP OBJ BNAOGE CLASS KE BAHR USI OBJ KO CLASS KE ANDAR USE KRNA HO TO WO OBJ \n",
    "# CLASS KE ANDAR KSE JAYEGA,WO OBJ  CLASS KE ANDAR AUTOMATICALLY AJAYEGA.  "
   ]
  },
  {
   "cell_type": "code",
   "execution_count": 3,
   "id": "afa537e4",
   "metadata": {},
   "outputs": [
    {
     "name": "stdout",
     "output_type": "stream",
     "text": [
      "welcome to sbi\n",
      "rules by Rbi\n",
      "you can deposit in sbi\n",
      "you can withdraw from sbi\n"
     ]
    }
   ],
   "source": [
    "class Rbi:\n",
    "    def rules(self):\n",
    "        print(\"rules by Rbi\")\n",
    "    def deposit(self):\n",
    "        pass\n",
    "    def withdraw(self):\n",
    "        pass\n",
    "class Sbi(Rbi):\n",
    "    def deposit(self):\n",
    "        print(\"you can deposit in sbi\")\n",
    "    def withdraw(self):\n",
    "        print(\"you can withdraw from sbi\")\n",
    "    def welcome(self):\n",
    "        print(\"welcome to sbi\")\n",
    "s=Sbi()\n",
    "s.welcome()\n",
    "s.rules()\n",
    "s.deposit()\n",
    "s.withdraw()\n",
    "\n",
    "#polumorphism m ye jaruri nh h ki ap override kro he cz w/o override kiye he ap methods ko use kr skte ho."
   ]
  },
  {
   "cell_type": "markdown",
   "id": "1c7f6784",
   "metadata": {},
   "source": [
    "# SUPER FUNCTION:\n",
    "\n",
    "Super is a FUNCTION which is mainly use to \"call immidiate parent class member fun\". We can call \"constructor or method\" with \n",
    "\n",
    "the help of \"super fun\"...\n",
    "\n",
    "1_SUPER WITH CONSTRUCTOR :\n",
    "\n",
    "If we want 'to call parent class constructor from child class constructor' then we will use super function in child class \n",
    "\n",
    "construtor.\n",
    "\n",
    "\n",
    "NOTE :CALLING M SELF PASS NH HOTA H MEANS SUPER FUN M HMNE SELF NH PASS KIYA H ...DEFINE KRTE H TB SELF PASS KRTE H."
   ]
  },
  {
   "cell_type": "code",
   "execution_count": 8,
   "id": "d0d201af",
   "metadata": {},
   "outputs": [
    {
     "name": "stdout",
     "output_type": "stream",
     "text": [
      "constructor is running from demo class\n"
     ]
    }
   ],
   "source": [
    "class Dummy:\n",
    "    def __init__(self):\n",
    "        print(\"constructor is running from dummy class\")\n",
    "class Demo(Dummy):\n",
    "    def __init__(self):\n",
    "        print(\"constructor is running from demo class\")\n",
    "d=Demo()\n",
    "\n",
    "# abhi yha hm child class ko he call kr pa rhe h but hme parent class ko b krna h so hm use krege super fun ka."
   ]
  },
  {
   "cell_type": "code",
   "execution_count": 4,
   "id": "fc9b10fd",
   "metadata": {},
   "outputs": [
    {
     "name": "stdout",
     "output_type": "stream",
     "text": [
      "constructor is running from dummy class\n",
      "constructor is running from Demo class\n"
     ]
    }
   ],
   "source": [
    "class Dummy:\n",
    "    def __init__(self):\n",
    "        print(\"constructor is running from dummy class\")\n",
    "class Demo(Dummy):\n",
    "    def __init__(self):\n",
    "        super().__init__()\n",
    "        print(\"constructor is running from Demo class\")\n",
    "d=Demo()"
   ]
  },
  {
   "cell_type": "code",
   "execution_count": null,
   "id": "90d8ba2b",
   "metadata": {},
   "outputs": [],
   "source": [
    "# child class ke constructor se parent class ke constructor ko call krna ho to hm super fun ka use krte h...ISKI HELP SE METHOD \n",
    "# OVERRIDING KI PROBLEM SOLVE HO JAYEGI.\n",
    "\n",
    "# Normally obj bnane ke bad hm child class ko he call kr pa rhe the but super fun ki help se hm dummy ya parent class ko b call\n",
    "# kr skte h."
   ]
  },
  {
   "cell_type": "code",
   "execution_count": null,
   "id": "bd2dd94b",
   "metadata": {},
   "outputs": [],
   "source": []
  }
 ],
 "metadata": {
  "kernelspec": {
   "display_name": "Python 3 (ipykernel)",
   "language": "python",
   "name": "python3"
  },
  "language_info": {
   "codemirror_mode": {
    "name": "ipython",
    "version": 3
   },
   "file_extension": ".py",
   "mimetype": "text/x-python",
   "name": "python",
   "nbconvert_exporter": "python",
   "pygments_lexer": "ipython3",
   "version": "3.9.7"
  }
 },
 "nbformat": 4,
 "nbformat_minor": 5
}
