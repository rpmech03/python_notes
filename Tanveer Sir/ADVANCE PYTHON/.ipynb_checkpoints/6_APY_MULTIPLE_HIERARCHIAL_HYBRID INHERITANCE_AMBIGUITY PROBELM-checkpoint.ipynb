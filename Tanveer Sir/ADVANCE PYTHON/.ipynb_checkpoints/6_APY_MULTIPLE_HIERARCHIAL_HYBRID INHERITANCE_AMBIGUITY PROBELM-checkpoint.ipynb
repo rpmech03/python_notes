{
 "cells": [
  {
   "cell_type": "markdown",
   "id": "0d286199",
   "metadata": {},
   "source": [
    "# MULTIPLE INHERITANCE :\n",
    "\n",
    "JB DO PARENT CLASS HO N EK CHILD CLASS HO.\n",
    "\n",
    "SBSE PHLE DERIVED CLASS IE DEMO USKA OBJECT BNAYA THEN WHA SE WELCOME KO CALL KRAYA...AB SBSE PHLE WO DEMO M JA KR DEKHEGA H YA \n",
    "NH H TO THIK H..AB DISPLAY KO CALL KRAYA...AGAIN WO SBSE PHLE DEMO M DEKHEGA BUT WHA IS BAR DISPLAY NH H SO AB DEKHEGA JO INHERIT KRAI H CLASSES USME H KYA SO YHA DO CLASSES INHERIT KRI H BUT SBSE PHLE USME JAKR DEKHEGA JISE PHLE LIKHA H...SO BASE M JAKR DEKHEGA BUT WHA B NH H AB DUMMY M JAKR DEKHEGA WHA USE DISPLAY MIL JAYEGA ...NOW WE HAVE CALLED SHOW FUN NOW AGAIN PROCESS REPEATS N IT CHECKS FIRST IN DEMO CLASS BUT HERE AGAIN NOT GOT IT THEN WENT FOR BASE BUT THIS IT GETS IN BASE CLASS...SO THIS IS HOW THINGS WORK OUT IN THIS PROGRAM.\n",
    "\n",
    "Multiple Inheritance: \n",
    "\n",
    "When a class can be derived from more than one base class this type of inheritance is called multiple inheritance. In multiple \n",
    "\n",
    "inheritance, all the features of the base classes are inherited into the derived class. \n",
    "\n",
    "Ex-Mother-father\n",
    "\n",
    "PARENT   PARENT\n",
    "\n",
    "    CHILD"
   ]
  },
  {
   "cell_type": "code",
   "execution_count": 1,
   "id": "8a628c95",
   "metadata": {},
   "outputs": [
    {
     "name": "stdout",
     "output_type": "stream",
     "text": [
      "welcome is running from demo\n",
      "display is running from dummy\n",
      "show is running from base\n"
     ]
    }
   ],
   "source": [
    "class Base:\n",
    "    def show(self):\n",
    "        print(\"show is running from base\")\n",
    "class Dummy:\n",
    "    def display(self):\n",
    "        print(\"display is running from dummy\")\n",
    "class Demo(Base,Dummy):\n",
    "    def welcome(self):\n",
    "        print(\"welcome is running from demo\")\n",
    "d=Demo()\n",
    "d.welcome()\n",
    "d.display()\n",
    "d.show()"
   ]
  },
  {
   "cell_type": "markdown",
   "id": "3b66c9cb",
   "metadata": {},
   "source": [
    "# AMBIGUITY PROBLEM :\n",
    "\n",
    "IT'S NOT OCCURED IN PYTHON BECAUSE IT HAS RESOLVED BY PYTHON.\n",
    "\n",
    "PYTHON M DO ALG2 CLASSES H TO UNME SAME FUN LIKHA JA SKTA H N THIRD CLASS IN DONO CLASSES KO INHERIT KREGI TO INME JO PHLE LIKHI HOGI WO WALI CLASS KA FUN RUN HOGA BUT LIKHA TO DONO M H SO JO PHLE LIKHA H WHI Q RUN HOGA ISI KO AMBIGUITY PROBLEM KHTE H JISE PYTHON NE RESOLVE KR LIYA H...SO THEY RESOLVED IT BY MAKING THE PRIORITY MEANS WHICH HAS WRITTEN 1ST THAT WILL RUN...    "
   ]
  },
  {
   "cell_type": "code",
   "execution_count": 4,
   "id": "d3452366",
   "metadata": {},
   "outputs": [
    {
     "name": "stdout",
     "output_type": "stream",
     "text": [
      "welcome is running from demo\n",
      "show is running from base\n"
     ]
    }
   ],
   "source": [
    "class Base:\n",
    "    def show(self):\n",
    "        print(\"show is running from base\")\n",
    "class Dummy:\n",
    "    def show(self):\n",
    "        print(\"show is running from dummy\")\n",
    "class Demo(Base,Dummy):\n",
    "    def welcome(self):\n",
    "        print(\"welcome is running from demo\")\n",
    "d=Demo()\n",
    "d.welcome()\n",
    "d.show()"
   ]
  },
  {
   "cell_type": "markdown",
   "id": "6f26ae2c",
   "metadata": {},
   "source": [
    "# HIERARCHIAL INHERITANCE :\n",
    "\n",
    "EK PARENT CLASS KO DO CHILD CLASS INHERIT KRTI H...WHILE 2 OR MORE THAN 2 CHILD CLASSES INHERITED ONE PARENT CLASS.\n",
    "\n",
    "Hierarchical Inheritance: \n",
    "\n",
    "When more than one derived classes are created from a single base this type of inheritance is called hierarchical inheritance. \n",
    "\n",
    "In this program, we have a parent (base) class and two child (derived) classes.\n",
    "\n",
    "EX-Single Mother.\n",
    "\n",
    " 4.HIERARCHICAL INHERITANCE\n",
    " \n",
    " \n",
    "                      PARENT CLASS   \n",
    "\n",
    "             CHILD CLASS        CHILD CLASS\n"
   ]
  },
  {
   "cell_type": "code",
   "execution_count": 5,
   "id": "d0bbeb43",
   "metadata": {},
   "outputs": [
    {
     "name": "stdout",
     "output_type": "stream",
     "text": [
      "display is running from Demo\n",
      "show is running from base\n",
      "displlay is running from dummy\n",
      "show is running from base\n"
     ]
    }
   ],
   "source": [
    "class Base:\n",
    "    def show(self):\n",
    "        print(\"show is running from base\")\n",
    "class Dummy(Base):\n",
    "    def display(self):\n",
    "        print(\"displlay is running from dummy\")\n",
    "class Demo(Base):\n",
    "    def display(self):\n",
    "        print(\"display is running from Demo\")\n",
    "d=Demo()\n",
    "d.display()\n",
    "d.show()\n",
    "d=Dummy()\n",
    "d.display()\n",
    "d.show()"
   ]
  },
  {
   "cell_type": "markdown",
   "id": "49760f09",
   "metadata": {},
   "source": [
    "# HYBRID INHERITANCE :\n",
    "\n",
    "DO CHILD NE PARENT KO INHERIT KIYA THEN IN DONO KO KISI 3RD CLASS NE INHERIT KR LIYA ,N YHA DIAMOND SHAPE BN JAYEGA ....HYBRID.\n",
    "\n",
    "HYBRID INHERITANCE CAN BE DEFINED AS TWO CHILD CLASSES INHERIT ONE PARENT CLASS AND THESE TWO CLASSES INHERITED BY THIRD \n",
    "\n",
    "CLASS,THIS IS CALLED HYBRID INHERITANCE.THEREFORE,THOSE TWO CHILD ALSO WORKING AS A PARENT CLASSES.THESE ALL CLASSES MAKES THE   \n",
    "DIAMOND SHAPE.\n",
    "\n",
    "Hybrid Inheritance: \n",
    "\n",
    "Inheritance consisting of multiple types of inheritance is called hybrid inheritance.\n",
    "\n",
    "5.HYBRID INHERITANCE\n",
    "\n",
    "         PARENT CLASS \n",
    "\n",
    "CHILD/PARENT        CHILD/PARENT\n",
    "\n",
    "         CHILD CLASS"
   ]
  },
  {
   "cell_type": "code",
   "execution_count": 6,
   "id": "a6cfcf38",
   "metadata": {},
   "outputs": [
    {
     "name": "stdout",
     "output_type": "stream",
     "text": [
      "welcome is running inside Main class\n",
      "display1 is running inside Dummy class\n",
      "display2 is running inside Demo class\n",
      "show is running inside base class\n"
     ]
    }
   ],
   "source": [
    "class Base:\n",
    "    def show(self):\n",
    "        print(\"show is running inside base class\")\n",
    "class Dummy(Base):\n",
    "    def display1(self):\n",
    "        print(\"display1 is running inside Dummy class\")\n",
    "class Demo(Base):\n",
    "    def display2(self):\n",
    "        print(\"display2 is running inside Demo class\")\n",
    "class Main(Dummy,Demo):\n",
    "    def welcome(self):\n",
    "        print(\"welcome is running inside Main class\")\n",
    "m=Main()\n",
    "m.welcome()\n",
    "m.display1()\n",
    "m.display2()\n",
    "m.show()"
   ]
  },
  {
   "cell_type": "code",
   "execution_count": null,
   "id": "a55744fe",
   "metadata": {},
   "outputs": [],
   "source": []
  },
  {
   "cell_type": "code",
   "execution_count": null,
   "id": "5c802916",
   "metadata": {},
   "outputs": [],
   "source": []
  }
 ],
 "metadata": {
  "kernelspec": {
   "display_name": "Python 3 (ipykernel)",
   "language": "python",
   "name": "python3"
  },
  "language_info": {
   "codemirror_mode": {
    "name": "ipython",
    "version": 3
   },
   "file_extension": ".py",
   "mimetype": "text/x-python",
   "name": "python",
   "nbconvert_exporter": "python",
   "pygments_lexer": "ipython3",
   "version": "3.9.7"
  }
 },
 "nbformat": 4,
 "nbformat_minor": 5
}
