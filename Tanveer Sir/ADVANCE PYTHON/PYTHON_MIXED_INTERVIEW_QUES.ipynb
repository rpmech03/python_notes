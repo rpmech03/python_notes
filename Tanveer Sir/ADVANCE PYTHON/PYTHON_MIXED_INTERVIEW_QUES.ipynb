{
 "cells": [
  {
   "cell_type": "code",
   "execution_count": 1,
   "id": "921080bb",
   "metadata": {},
   "outputs": [
    {
     "name": "stdout",
     "output_type": "stream",
     "text": [
      "10\n",
      "100\n"
     ]
    }
   ],
   "source": [
    "fruit={\n",
    "    'Apple':10,\n",
    "       'orange':20,\n",
    "      'banana':30\n",
    "      }\n",
    "print(fruit['Apple'])\n",
    "fruit['Apple']=100\n",
    "print(fruit['Apple'])"
   ]
  },
  {
   "cell_type": "code",
   "execution_count": 2,
   "id": "60e9a7fc",
   "metadata": {},
   "outputs": [
    {
     "data": {
      "text/plain": [
       "{5, 6}"
      ]
     },
     "execution_count": 2,
     "metadata": {},
     "output_type": "execute_result"
    }
   ],
   "source": [
    "# how would you find common elements present in the given two sets?\n",
    "\n",
    "a={1,2,3,4,5,6}\n",
    "b={5,6,7,8,9}\n",
    "a.intersection(b)"
   ]
  },
  {
   "cell_type": "code",
   "execution_count": 4,
   "id": "e08d8cf8",
   "metadata": {},
   "outputs": [
    {
     "name": "stdout",
     "output_type": "stream",
     "text": [
      "enter a no121\n",
      "no is palindrome\n"
     ]
    }
   ],
   "source": [
    "# palindrome\n",
    "\n",
    "n=int(input(\"enter a no\"))\n",
    "temp=n\n",
    "rev=0\n",
    "while(n>0):\n",
    "    dig=n%10\n",
    "    rev=rev*10+dig\n",
    "    n=n//10\n",
    "if(temp==rev):\n",
    "    print(\"no is palindrome\")\n",
    "else:\n",
    "    print(\"not a palindrome\")"
   ]
  },
  {
   "cell_type": "code",
   "execution_count": 19,
   "id": "29398190",
   "metadata": {},
   "outputs": [
    {
     "name": "stdout",
     "output_type": "stream",
     "text": [
      "1 \n",
      "2 2 \n",
      "3 3 3 \n",
      "4 4 4 4 \n",
      "5 5 5 5 5 \n"
     ]
    }
   ],
   "source": [
    "for i in range(1,6):\n",
    "    for j in range(1,6):\n",
    "        if j<i+1:\n",
    "            print(i,end=\" \")\n",
    "    print()"
   ]
  },
  {
   "cell_type": "code",
   "execution_count": 1,
   "id": "05a0ca03",
   "metadata": {},
   "outputs": [
    {
     "name": "stdout",
     "output_type": "stream",
     "text": [
      "# \n",
      "# # \n",
      "# # # \n",
      "# # # # \n",
      "# # # # # \n"
     ]
    }
   ],
   "source": [
    "for i in range(1,6):\n",
    "    for j in range(1,6):\n",
    "        if j<i+1:\n",
    "            print('#',end=\" \")\n",
    "    print()"
   ]
  },
  {
   "cell_type": "code",
   "execution_count": 5,
   "id": "9fcc25ca",
   "metadata": {},
   "outputs": [
    {
     "name": "stdout",
     "output_type": "stream",
     "text": [
      "0 \n",
      "0 1 \n",
      "0 1 2 \n",
      "0 1 2 3 \n",
      "0 1 2 3 4 \n"
     ]
    }
   ],
   "source": [
    "for i in range(0,5):\n",
    "    for j in range(0,6):\n",
    "        if j<i+1:\n",
    "            print(j,end=\" \")\n",
    "    print()"
   ]
  },
  {
   "cell_type": "code",
   "execution_count": null,
   "id": "82953675",
   "metadata": {},
   "outputs": [],
   "source": [
    "# Pascal's Triangle Pattern\n",
    "\n"
   ]
  },
  {
   "cell_type": "code",
   "execution_count": 24,
   "id": "229670f7",
   "metadata": {},
   "outputs": [
    {
     "name": "stdout",
     "output_type": "stream",
     "text": [
      "A \n",
      "B B \n",
      "C C C \n",
      "D D D D \n",
      "E E E E E \n"
     ]
    }
   ],
   "source": [
    "# A\n",
    "# BB\n",
    "# CCC\n",
    "# DDDD\n",
    "# PRINT THE FOLLOWING PATTERN:\n",
    "number=65\n",
    "for i in range(1,6):\n",
    "    for j in range(1,i+1):\n",
    "        char=chr(number)\n",
    "        print(char,end=\" \")\n",
    "    number=number+1\n",
    "    print()"
   ]
  },
  {
   "cell_type": "code",
   "execution_count": 30,
   "id": "ae777cff",
   "metadata": {},
   "outputs": [
    {
     "name": "stdout",
     "output_type": "stream",
     "text": [
      "A \n",
      "B C \n",
      "D E F \n",
      "G H I J \n",
      "K L M N O \n"
     ]
    }
   ],
   "source": [
    "number=65\n",
    "for i in range(1,6):\n",
    "    for j in range(1,i+1):\n",
    "        char=chr(number)\n",
    "        print(char,end=\" \")\n",
    "        number=number+1\n",
    "    print()"
   ]
  },
  {
   "cell_type": "code",
   "execution_count": 41,
   "id": "bafe7382",
   "metadata": {},
   "outputs": [
    {
     "name": "stdout",
     "output_type": "stream",
     "text": [
      "{'p': 10, 'q': 20, 'r': 30}\n",
      "{'p': 11, 'q': 21, 'r': 31}\n"
     ]
    }
   ],
   "source": [
    "# If you have a dictionary like this \n",
    "# a={\n",
    "#     'p':10,\n",
    "#     'q':20,\n",
    "#     'r':30\n",
    "# }\n",
    "# How would you increment values of all the keys?\n",
    "\n",
    "a={\n",
    "    'p':10,\n",
    "    'q':20,\n",
    "    'r':30\n",
    "}\n",
    "print(a)\n",
    "for i,j in a.items():\n",
    "    a[i]=a[i]+1\n",
    "print(a)\n"
   ]
  },
  {
   "cell_type": "code",
   "execution_count": 49,
   "id": "80814982",
   "metadata": {},
   "outputs": [
    {
     "name": "stdout",
     "output_type": "stream",
     "text": [
      "0.08622789245457785\n"
     ]
    }
   ],
   "source": [
    "#print random number using the random library:\n",
    "\n",
    "import random\n",
    "n = random.random()\n",
    "print(n)"
   ]
  },
  {
   "cell_type": "code",
   "execution_count": 53,
   "id": "19c6a18e",
   "metadata": {},
   "outputs": [
    {
     "data": {
      "text/plain": [
       "27"
      ]
     },
     "execution_count": 53,
     "metadata": {},
     "output_type": "execute_result"
    }
   ],
   "source": [
    "# To generate a integer b/w a certain range (say from a to b):\n",
    "\n",
    "import random\n",
    "n = random.randint(10,30)\n",
    "n"
   ]
  },
  {
   "cell_type": "code",
   "execution_count": 2,
   "id": "3bbf915a",
   "metadata": {},
   "outputs": [
    {
     "name": "stdout",
     "output_type": "stream",
     "text": [
      "(1, 'hello', 'saddy')\n",
      "{'name': 'loku'}\n"
     ]
    }
   ],
   "source": [
    "# Denote the usage of args and kwargs in python:\n",
    "\n",
    "def func(*args,**kwargs):\n",
    "    print(args)\n",
    "    print(kwargs)\n",
    "func(1,\"hello\",\"saddy\",name=\"loku\")\n",
    "\n",
    "# args----supports without named arguments\n",
    "# kwargs---named arguments"
   ]
  },
  {
   "cell_type": "code",
   "execution_count": 56,
   "id": "914583a4",
   "metadata": {},
   "outputs": [
    {
     "name": "stdout",
     "output_type": "stream",
     "text": [
      "[1, 2, 3, 4]\n",
      "[1, 2, 3, 4]\n"
     ]
    }
   ],
   "source": [
    "# How do you do shallow copy in python?\n",
    "\n",
    "# shallow copy supports changes in both the list what we have taken.\n",
    "\n",
    "a=[1,2,3]\n",
    "b=a\n",
    "b.append(4)\n",
    "print(a)\n",
    "print(b)"
   ]
  },
  {
   "cell_type": "code",
   "execution_count": 57,
   "id": "6937c9ac",
   "metadata": {},
   "outputs": [
    {
     "data": {
      "text/plain": [
       "[9, 8, 7]"
      ]
     },
     "execution_count": 57,
     "metadata": {},
     "output_type": "execute_result"
    }
   ],
   "source": [
    "# What will be the output of the following piece of code?\n",
    "\n",
    "a=[1,2,3,4,5,6,7,8,9]\n",
    "a[-1:-4:-1]"
   ]
  },
  {
   "cell_type": "code",
   "execution_count": 58,
   "id": "9cc7ab5a",
   "metadata": {},
   "outputs": [
    {
     "name": "stdout",
     "output_type": "stream",
     "text": [
      "97\n"
     ]
    }
   ],
   "source": [
    "# How do you print the ASCII value of a given character?\n",
    "\n",
    "value='a'\n",
    "print(ord(value))"
   ]
  },
  {
   "cell_type": "code",
   "execution_count": 59,
   "id": "c1cbdae6",
   "metadata": {},
   "outputs": [
    {
     "data": {
      "text/plain": [
       "100"
      ]
     },
     "execution_count": 59,
     "metadata": {},
     "output_type": "execute_result"
    }
   ],
   "source": [
    "value='d'\n",
    "ord(value)"
   ]
  },
  {
   "cell_type": "code",
   "execution_count": 60,
   "id": "61bf4909",
   "metadata": {},
   "outputs": [
    {
     "data": {
      "text/plain": [
       "107"
      ]
     },
     "execution_count": 60,
     "metadata": {},
     "output_type": "execute_result"
    }
   ],
   "source": [
    "value='k'\n",
    "ord(value)"
   ]
  },
  {
   "cell_type": "code",
   "execution_count": 3,
   "id": "b7177c1c",
   "metadata": {},
   "outputs": [
    {
     "data": {
      "text/plain": [
       "['Accelerate', 'The', 'Process', 'Responsebility']"
      ]
     },
     "execution_count": 3,
     "metadata": {},
     "output_type": "execute_result"
    }
   ],
   "source": [
    "# What is the easiest way to shuffle a list?\n",
    "\n",
    "from random import shuffle\n",
    "\n",
    "a=['Responsebility','Accelerate','The','Process']\n",
    "shuffle(a)\n",
    "a"
   ]
  },
  {
   "cell_type": "code",
   "execution_count": 5,
   "id": "eb28c9fd",
   "metadata": {},
   "outputs": [
    {
     "data": {
      "text/plain": [
       "['Walk', 'Never', 'Alone', 'Youll']"
      ]
     },
     "execution_count": 5,
     "metadata": {},
     "output_type": "execute_result"
    }
   ],
   "source": [
    "from random import shuffle\n",
    "a=['Youll','Never','Walk','Alone']\n",
    "shuffle(a)\n",
    "a"
   ]
  },
  {
   "cell_type": "code",
   "execution_count": 69,
   "id": "1ca7dd00",
   "metadata": {},
   "outputs": [
    {
     "name": "stdout",
     "output_type": "stream",
     "text": [
      "2\n",
      "-4\n",
      "3.0\n",
      "-4.0\n"
     ]
    }
   ],
   "source": [
    "# How does floor division work in python?\n",
    "\n",
    "print(5//2)\n",
    "print(-7//2) #takes lower value so -4 is lower as compare to -3.5\n",
    "print(7.0//2)\n",
    "print(-7.0//2)"
   ]
  },
  {
   "cell_type": "code",
   "execution_count": 9,
   "id": "fbb40ed4",
   "metadata": {},
   "outputs": [
    {
     "name": "stdout",
     "output_type": "stream",
     "text": [
      "[1, 2, 3]\n",
      "[1, 2, 3, 4]\n"
     ]
    }
   ],
   "source": [
    "#Denote the usage of pass by value and pass by reference:\n",
    "\n",
    "def check_pass(arr):\n",
    "    arr.append(4)\n",
    "\n",
    "arr=[1,2,3]\n",
    "\n",
    "print(arr)#call by value\n",
    "\n",
    "check_pass(arr)#call by reference\n",
    "print(arr)"
   ]
  },
  {
   "cell_type": "code",
   "execution_count": 71,
   "id": "1a78f124",
   "metadata": {},
   "outputs": [
    {
     "data": {
      "text/plain": [
       "'Hello Worl'"
      ]
     },
     "execution_count": 71,
     "metadata": {},
     "output_type": "execute_result"
    }
   ],
   "source": [
    "#What is the output of the following piece of code?\n",
    "\n",
    "\"Hello World\"[:-1]"
   ]
  },
  {
   "cell_type": "code",
   "execution_count": 72,
   "id": "867bd7a8",
   "metadata": {},
   "outputs": [
    {
     "data": {
      "text/plain": [
       "'dlroW olleH'"
      ]
     },
     "execution_count": 72,
     "metadata": {},
     "output_type": "execute_result"
    }
   ],
   "source": [
    "\"Hello World\"[::-1]#reverse string"
   ]
  },
  {
   "cell_type": "code",
   "execution_count": 11,
   "id": "da323307",
   "metadata": {},
   "outputs": [
    {
     "data": {
      "text/plain": [
       "'dlroW olleH'"
      ]
     },
     "execution_count": 11,
     "metadata": {},
     "output_type": "execute_result"
    }
   ],
   "source": [
    "a=\"Hello World\"\n",
    "a=a[::-1]\n",
    "a"
   ]
  },
  {
   "cell_type": "code",
   "execution_count": 73,
   "id": "8899f0f8",
   "metadata": {},
   "outputs": [
    {
     "data": {
      "text/plain": [
       "[1, 2, 3, 1, 2, 3]"
      ]
     },
     "execution_count": 73,
     "metadata": {},
     "output_type": "execute_result"
    }
   ],
   "source": [
    "#What is the output of this operation on a list:list*2 ?\n",
    "\n",
    "list=[1,2,3]\n",
    "list*2"
   ]
  },
  {
   "cell_type": "code",
   "execution_count": 13,
   "id": "1b5f3700",
   "metadata": {},
   "outputs": [
    {
     "name": "stdout",
     "output_type": "stream",
     "text": [
      "enter a no 151\n",
      "127 is not an armstrong no\n"
     ]
    }
   ],
   "source": [
    "#Armstrong No:\n",
    "\n",
    "n=int(input(\"enter a no \"))\n",
    "sum=0\n",
    "temp=n\n",
    "while temp>0:\n",
    "    digit=temp%10\n",
    "    sum=sum+digit**3\n",
    "    temp=temp//10\n",
    "\n",
    "if n==sum:\n",
    "    print(sum,\" is an armstrong no\")\n",
    "else:\n",
    "    print(sum,\"is not an armstrong no\")\n",
    "\n"
   ]
  },
  {
   "cell_type": "code",
   "execution_count": 83,
   "id": "245e0957",
   "metadata": {},
   "outputs": [
    {
     "name": "stdout",
     "output_type": "stream",
     "text": [
      "enter a no 6\n",
      "6 is a perfect no\n"
     ]
    }
   ],
   "source": [
    "# write the logic to print a perfect no in python?\n",
    "# ex---6=divide by everything excluding itself---1,2,3  ...sum=1+2+3=6==perfect no\n",
    "#perfect no -sum of all factors excluding itself.\n",
    "\n",
    "n=int(input(\"enter a no \"))\n",
    "sum=0\n",
    "for i in range(1,n):\n",
    "    if n%i==0:\n",
    "        sum=sum+i\n",
    "if sum==n:\n",
    "    print(n,\"is a perfect no\")\n",
    "else:\n",
    "    print(n,\"is not a perfect no\")\n"
   ]
  },
  {
   "cell_type": "code",
   "execution_count": 84,
   "id": "785dc798",
   "metadata": {},
   "outputs": [
    {
     "name": "stdout",
     "output_type": "stream",
     "text": [
      "enter a no 145\n",
      "strong no\n"
     ]
    }
   ],
   "source": [
    "#write the logic to print a strong no in python?\n",
    "\n",
    "# sum of fact of each no must be the same as input ,145= 1! +4! +5! =145\n",
    "\n",
    "sum=0\n",
    "n=int(input(\"enter a no \"))\n",
    "temp=n\n",
    "while(n):\n",
    "    i=1\n",
    "    fact=1\n",
    "    rem=n%10\n",
    "    while(i<=rem):\n",
    "        fact=fact*i\n",
    "        i=i+1\n",
    "    sum=sum+fact\n",
    "    n=n//10\n",
    "if(sum==temp):\n",
    "    print(\"strong no\")\n",
    "else:\n",
    "    print(\"not a strong no\")"
   ]
  },
  {
   "cell_type": "code",
   "execution_count": 88,
   "id": "fdc5e092",
   "metadata": {},
   "outputs": [
    {
     "name": "stdout",
     "output_type": "stream",
     "text": [
      "enter no of elements :4\n",
      "enter elements :1\n",
      "enter elements :2\n",
      "enter elements :3\n",
      "enter elements :4\n",
      "second largest no is  3\n"
     ]
    }
   ],
   "source": [
    "a=[]\n",
    "n=int(input(\"enter no of elements :\"))\n",
    "for i in range(1,n+1):\n",
    "    b=int(input(\"enter elements :\"))\n",
    "    a.append(b)\n",
    "    a.sort()\n",
    "print(\"second largest no is \",a[n-2])\n",
    "    "
   ]
  },
  {
   "cell_type": "code",
   "execution_count": 89,
   "id": "baa6d5e9",
   "metadata": {},
   "outputs": [
    {
     "data": {
      "text/plain": [
       "[4, 3, 2, 1]"
      ]
     },
     "execution_count": 89,
     "metadata": {},
     "output_type": "execute_result"
    }
   ],
   "source": [
    "# swap 1st and last no:\n",
    "\n",
    "a=[1,2,3,4]\n",
    "a.reverse()\n",
    "a"
   ]
  },
  {
   "cell_type": "code",
   "execution_count": null,
   "id": "f619fe50",
   "metadata": {},
   "outputs": [],
   "source": []
  }
 ],
 "metadata": {
  "kernelspec": {
   "display_name": "Python 3 (ipykernel)",
   "language": "python",
   "name": "python3"
  },
  "language_info": {
   "codemirror_mode": {
    "name": "ipython",
    "version": 3
   },
   "file_extension": ".py",
   "mimetype": "text/x-python",
   "name": "python",
   "nbconvert_exporter": "python",
   "pygments_lexer": "ipython3",
   "version": "3.9.7"
  }
 },
 "nbformat": 4,
 "nbformat_minor": 5
}
