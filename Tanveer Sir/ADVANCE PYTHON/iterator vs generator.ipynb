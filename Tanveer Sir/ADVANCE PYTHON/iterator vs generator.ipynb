{
 "cells": [
  {
   "cell_type": "code",
   "execution_count": null,
   "id": "de9e2abb",
   "metadata": {},
   "outputs": [],
   "source": [
    "# rerturn keyword ka use krne pr wo fun completely terminate ho jata h but yield kw ka use krne pr ek iteration ke bad usko pause\n",
    "# krke rkh deta h taki ap use phir se use call kro to wo apko uski next value de de.\n",
    "\n",
    "#generator n iterator are same but only difference is that ek bar agr hmne generator ko use kr liya to again uske elements ko \n",
    "# use nh kr skte."
   ]
  },
  {
   "cell_type": "code",
   "execution_count": null,
   "id": "685ad0b1",
   "metadata": {},
   "outputs": [],
   "source": [
    "#cant use elements of generator once used while in iterator can use.\n",
    "\n",
    "#itearator use iter n  next fun while genn use only yield kw.\n",
    "\n",
    "#generators are better to use cz we r using it once so it is best for the memory."
   ]
  }
 ],
 "metadata": {
  "kernelspec": {
   "display_name": "Python 3 (ipykernel)",
   "language": "python",
   "name": "python3"
  },
  "language_info": {
   "codemirror_mode": {
    "name": "ipython",
    "version": 3
   },
   "file_extension": ".py",
   "mimetype": "text/x-python",
   "name": "python",
   "nbconvert_exporter": "python",
   "pygments_lexer": "ipython3",
   "version": "3.9.7"
  }
 },
 "nbformat": 4,
 "nbformat_minor": 5
}
