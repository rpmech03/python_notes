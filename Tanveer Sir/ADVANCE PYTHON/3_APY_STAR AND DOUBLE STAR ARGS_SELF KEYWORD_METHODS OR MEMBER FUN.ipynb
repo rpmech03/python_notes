{
 "cells": [
  {
   "cell_type": "markdown",
   "id": "e9f87756",
   "metadata": {},
   "source": [
    "# STAR ARGS(NON KEY ARGUMENT):\n",
    "\n",
    "It is mainly used to achieve overloading in python, when we will use star args in argument then we can pass arguments without \n",
    "\n",
    "key with different length at the time to call function.It's internally uses TUPLE to store elements means we can pass either \n",
    "\n",
    "same type or different type arguments in argument of function."
   ]
  },
  {
   "cell_type": "code",
   "execution_count": 3,
   "id": "f5c4725f",
   "metadata": {},
   "outputs": [
    {
     "name": "stdout",
     "output_type": "stream",
     "text": [
      "(10,)\n",
      "(10, 20)\n",
      "(10, 20, 30, 40, 50, 60, 40)\n"
     ]
    }
   ],
   "source": [
    "class Demo():\n",
    "    def __init__(self,*args):\n",
    "        print(args)\n",
    "d=Demo(10)\n",
    "d=Demo(10,20)\n",
    "d=Demo(10,20,30,40,50,60,40)\n",
    "\n",
    "# args ko print krege to ek tuple print hogi, n mne phir se iska obj bnaya (10,20) n ye jayega again args nam ke tuple m...\n",
    "# like that we can do this...args fun 'n' no of arguments le skta h...t\n",
    "# tuple m kisi b type ke elements store kra skte h..."
   ]
  },
  {
   "cell_type": "markdown",
   "id": "c0ecfa60",
   "metadata": {},
   "source": [
    "# SUM OF THE ARGUMENTS :"
   ]
  },
  {
   "cell_type": "code",
   "execution_count": 7,
   "id": "4910cb9c",
   "metadata": {},
   "outputs": [
    {
     "name": "stdout",
     "output_type": "stream",
     "text": [
      "10\n",
      "30\n",
      "250\n"
     ]
    }
   ],
   "source": [
    "class Demo():\n",
    "    def __init__(self,*args):\n",
    "        print(sum(args))\n",
    "d=Demo(10)\n",
    "d=Demo(10,20)\n",
    "d=Demo(10,20,30,40,50,60,40)\n",
    "\n",
    "# har bar jo elements arhe h wo args m arhe h n args store kra rha h tuple m n we know how to traverse tuple we shall call here\n",
    "# fun \"sum\"."
   ]
  },
  {
   "cell_type": "markdown",
   "id": "02ef28a1",
   "metadata": {},
   "source": [
    "# DOUBLE STAR ARGS(KEY ARGUMENTS):\n",
    "\n",
    "It is another way to achieve overloading in python and it is also use to store elements in dictionary."
   ]
  },
  {
   "cell_type": "code",
   "execution_count": 8,
   "id": "4bcafe84",
   "metadata": {},
   "outputs": [
    {
     "name": "stdout",
     "output_type": "stream",
     "text": [
      "{'roll': 101, 'name': 'ajay', 'marks': [89, 98, 78, 98, 78]}\n"
     ]
    }
   ],
   "source": [
    "class Demo:\n",
    "    def __init__(self,**args):\n",
    "        print(args)\n",
    "d=Demo(roll=101,name='ajay',marks=[89,98,78,98,78])"
   ]
  },
  {
   "cell_type": "code",
   "execution_count": 9,
   "id": "e7fdbaf3",
   "metadata": {},
   "outputs": [
    {
     "name": "stdout",
     "output_type": "stream",
     "text": [
      "{'roll': 101, 'name': 'ajay', 'marks': [89, 98, 78, 98, 78]}\n",
      "{'roll': 101, 'name': 'ajay'}\n"
     ]
    }
   ],
   "source": [
    "class Demo:\n",
    "    def __init__(self,**args):\n",
    "        print(args)\n",
    "d=Demo(roll=101,name='ajay',marks=[89,98,78,98,78])\n",
    "d=Demo(roll=101,name='ajay')"
   ]
  },
  {
   "cell_type": "code",
   "execution_count": null,
   "id": "496ab964",
   "metadata": {},
   "outputs": [],
   "source": []
  },
  {
   "cell_type": "markdown",
   "id": "4c441cae",
   "metadata": {},
   "source": [
    "# METHODS OR MEMBER FUNCTIONS:\n",
    "\n",
    "Methods contains block of code which we can repititively used in python program.We can use two types of methods in python classes ...\n",
    "\n",
    "1_NON-STATIC METHOD :\n",
    "\n",
    "A method that contains \"\"self as first argument\"\" is known as \"Non-Static Method Of Class\".We can call a non-static method of \n",
    "\n",
    "class with the  help of an object.\n",
    "\n",
    "2_STATIC METHOD :\n",
    "\n",
    "A Static method of class that doesn't contain self as first argument.We can call static method of class by using \n",
    "\n",
    "\"classname.staticmethodname\""
   ]
  },
  {
   "cell_type": "code",
   "execution_count": 10,
   "id": "f8360f7d",
   "metadata": {},
   "outputs": [
    {
     "ename": "TypeError",
     "evalue": "show() takes 0 positional arguments but 1 was given",
     "output_type": "error",
     "traceback": [
      "\u001b[1;31m---------------------------------------------------------------------------\u001b[0m",
      "\u001b[1;31mTypeError\u001b[0m                                 Traceback (most recent call last)",
      "\u001b[1;32m~\\AppData\\Local\\Temp/ipykernel_10148/3338515060.py\u001b[0m in \u001b[0;36m<module>\u001b[1;34m\u001b[0m\n\u001b[0;32m      5\u001b[0m         \u001b[0mprint\u001b[0m\u001b[1;33m(\u001b[0m\u001b[1;34m\"non static display is running\"\u001b[0m\u001b[1;33m)\u001b[0m\u001b[1;33m\u001b[0m\u001b[1;33m\u001b[0m\u001b[0m\n\u001b[0;32m      6\u001b[0m \u001b[0md\u001b[0m\u001b[1;33m=\u001b[0m\u001b[0mDemo\u001b[0m\u001b[1;33m(\u001b[0m\u001b[1;33m)\u001b[0m\u001b[1;33m\u001b[0m\u001b[1;33m\u001b[0m\u001b[0m\n\u001b[1;32m----> 7\u001b[1;33m \u001b[0md\u001b[0m\u001b[1;33m.\u001b[0m\u001b[0mshow\u001b[0m\u001b[1;33m(\u001b[0m\u001b[1;33m)\u001b[0m\u001b[1;33m\u001b[0m\u001b[1;33m\u001b[0m\u001b[0m\n\u001b[0m",
      "\u001b[1;31mTypeError\u001b[0m: show() takes 0 positional arguments but 1 was given"
     ]
    }
   ],
   "source": [
    "class Demo:\n",
    "    def show():\n",
    "        print(\"static show is running\")\n",
    "    def display(self):\n",
    "        print(\"non static display is running\")\n",
    "d=Demo()\n",
    "d.show()\n",
    "\n",
    "# constructor m to static method possible nh h...non-static whi h jisme 1st argument self ho n static wo jisme 1st argument \n",
    "# self na ho...static ko call krne ke liye specific syntax use krna hota h islye error de rha h.."
   ]
  },
  {
   "cell_type": "code",
   "execution_count": 11,
   "id": "d50801a7",
   "metadata": {},
   "outputs": [
    {
     "name": "stdout",
     "output_type": "stream",
     "text": [
      "static show is running\n"
     ]
    }
   ],
   "source": [
    "class Demo:\n",
    "    def show():\n",
    "        print(\"static show is running\")\n",
    "    def display(self):\n",
    "        print(\"non static display is running\")\n",
    "d=Demo()\n",
    "# d.show()\n",
    "Demo.show()"
   ]
  },
  {
   "cell_type": "code",
   "execution_count": 1,
   "id": "3294ef66",
   "metadata": {},
   "outputs": [
    {
     "ename": "TypeError",
     "evalue": "display() missing 1 required positional argument: 'self'",
     "output_type": "error",
     "traceback": [
      "\u001b[1;31m---------------------------------------------------------------------------\u001b[0m",
      "\u001b[1;31mTypeError\u001b[0m                                 Traceback (most recent call last)",
      "\u001b[1;32m~\\AppData\\Local\\Temp/ipykernel_4668/740372909.py\u001b[0m in \u001b[0;36m<module>\u001b[1;34m\u001b[0m\n\u001b[0;32m      5\u001b[0m         \u001b[0mprint\u001b[0m\u001b[1;33m(\u001b[0m\u001b[1;34m\"non static display is running\"\u001b[0m\u001b[1;33m)\u001b[0m\u001b[1;33m\u001b[0m\u001b[1;33m\u001b[0m\u001b[0m\n\u001b[0;32m      6\u001b[0m \u001b[0md\u001b[0m\u001b[1;33m=\u001b[0m\u001b[0mDemo\u001b[0m\u001b[1;33m(\u001b[0m\u001b[1;33m)\u001b[0m\u001b[1;33m\u001b[0m\u001b[1;33m\u001b[0m\u001b[0m\n\u001b[1;32m----> 7\u001b[1;33m \u001b[0mDemo\u001b[0m\u001b[1;33m.\u001b[0m\u001b[0mdisplay\u001b[0m\u001b[1;33m(\u001b[0m\u001b[1;33m)\u001b[0m\u001b[1;33m\u001b[0m\u001b[1;33m\u001b[0m\u001b[0m\n\u001b[0m",
      "\u001b[1;31mTypeError\u001b[0m: display() missing 1 required positional argument: 'self'"
     ]
    }
   ],
   "source": [
    "class Demo:\n",
    "    def show():\n",
    "        print(\"static show is running\")\n",
    "    def display(self):\n",
    "        print(\"non static display is running\")\n",
    "d=Demo()\n",
    "Demo.display()\n",
    "\n",
    "# m yha demo.display ko static method se call nh kra skta cz display non-static ka fun h ...use object ke through call krayege.."
   ]
  },
  {
   "cell_type": "code",
   "execution_count": 3,
   "id": "fd12afa5",
   "metadata": {},
   "outputs": [
    {
     "name": "stdout",
     "output_type": "stream",
     "text": [
      "non static display is running\n",
      "static show is running\n"
     ]
    }
   ],
   "source": [
    "class Demo:\n",
    "    def show():\n",
    "        print(\"static show is running\")\n",
    "    def display(self):\n",
    "        print(\"non static display is running\")\n",
    "d=Demo()\n",
    "# Demo.display()\n",
    "d.display()#for non-static method\n",
    "Demo.show()#for static method\n",
    "\n",
    "### non-static ko object se n static ko class name se call krana h."
   ]
  },
  {
   "cell_type": "markdown",
   "id": "9b53a172",
   "metadata": {},
   "source": [
    "# SELF KEYWORD:\n",
    "\n",
    "Self is a keyword which is mainly use to coin \"current class instance(object)(CCI)\".If we want to \"construct a non-static \n",
    "\n",
    "method\" in python class then we will pass \"self as first arguement(SAFA)\" and if we want to \"call or access a global var(CG)\" \n",
    "\n",
    "inside any non static member fun of class then we will use \"self keyword to access global var of class\"."
   ]
  },
  {
   "cell_type": "code",
   "execution_count": 2,
   "id": "6d584e04",
   "metadata": {},
   "outputs": [
    {
     "name": "stdout",
     "output_type": "stream",
     "text": [
      "101   ajay\n"
     ]
    }
   ],
   "source": [
    "class Emp:\n",
    "    eid:int\n",
    "    name:str\n",
    "    def __init__(self,eid,name):\n",
    "        self.eid=eid\n",
    "        self.name=name\n",
    "    def show(self):\n",
    "        print(self.eid,\" \",self.name)\n",
    "e=Emp(101,\"ajay\")\n",
    "e.show()\n",
    "\n",
    "# eid n name jo constructor m likhe h wo local var h n upr jo likhe h wo global var h...or jb b mjhe local var ki value global \n",
    "# m transfer krni hogi..ya kisi b fun m global var ko access krna chahoge to self likh kr kroge like self.eid ..is program m\n",
    "# class b h,properties b,constructor b n methods or operations b so it makes perfect oop...yha pr show fun def kiya h but wo\n",
    "# static nh h cz hmne argument m self pass kiya h so it is non-static....last m apne Emp class ko store kra liya e m then \n",
    "# usme values dena start ki so 101 sbse phle local m jayega then uske bad global m jayega n also for name...n jse he show fun \n",
    "# call kroge eid n name show ho jayege."
   ]
  },
  {
   "cell_type": "code",
   "execution_count": null,
   "id": "5a57a905",
   "metadata": {},
   "outputs": [],
   "source": [
    "class Emp:     (this is class)\n",
    "    \n",
    "    eid:int    (2 properties)\n",
    "    name:str\n",
    "        \n",
    "    def __init__(self,eid,name):      (constructor)\n",
    "        self.eid=eid\n",
    "        self.name=name\n",
    "        \n",
    "    def show(self):                    (methods or operations)\n",
    "        print(self.eid,\" \",self.name)\n",
    "        \n",
    "        \n",
    "e=Emp(101,\"ajay\")\n",
    "e.show()\n",
    "\n",
    "\n",
    "# is program m class,properties,constructor and methods or operations all things h ...so this is complete oop."
   ]
  }
 ],
 "metadata": {
  "kernelspec": {
   "display_name": "Python 3 (ipykernel)",
   "language": "python",
   "name": "python3"
  },
  "language_info": {
   "codemirror_mode": {
    "name": "ipython",
    "version": 3
   },
   "file_extension": ".py",
   "mimetype": "text/x-python",
   "name": "python",
   "nbconvert_exporter": "python",
   "pygments_lexer": "ipython3",
   "version": "3.9.7"
  }
 },
 "nbformat": 4,
 "nbformat_minor": 5
}
