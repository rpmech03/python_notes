{
 "cells": [
  {
   "cell_type": "code",
   "execution_count": 1,
   "id": "58a0eb42",
   "metadata": {},
   "outputs": [
    {
     "name": "stdout",
     "output_type": "stream",
     "text": [
      "[10, 20, 30, 12.5, 13.6, 'hello', 'python']\n"
     ]
    }
   ],
   "source": [
    "a=[10,20,30,12.5,13.6,\"hello\",\"python\"]\n",
    "print(a)"
   ]
  },
  {
   "cell_type": "markdown",
   "id": "abb985af",
   "metadata": {},
   "source": [
    "# Counting of integer, float, string :"
   ]
  },
  {
   "cell_type": "code",
   "execution_count": 1,
   "id": "18682d8a",
   "metadata": {},
   "outputs": [
    {
     "name": "stdout",
     "output_type": "stream",
     "text": [
      "total int 3\n",
      "total float 2\n",
      "total string 2\n"
     ]
    }
   ],
   "source": [
    "a=[10,20,30,12.5,13.6,\"hello\",\"python\"]\n",
    "ci=0\n",
    "cf=0\n",
    "cs=0\n",
    "for i in a:\n",
    "    if type(i)==int:\n",
    "        ci=ci+1\n",
    "    elif type(i)==float:\n",
    "        cf=cf+1\n",
    "    else:\n",
    "        cs=cs+1\n",
    "print(\"total int\",ci)\n",
    "print(\"total float\",cf)\n",
    "print(\"total string\",cs)"
   ]
  },
  {
   "cell_type": "markdown",
   "id": "ca4f87fe",
   "metadata": {},
   "source": [
    "# Nested List:\n",
    "\n",
    "A list contains another list is called \"Nested list\""
   ]
  },
  {
   "cell_type": "code",
   "execution_count": 3,
   "id": "dabeb167",
   "metadata": {},
   "outputs": [
    {
     "name": "stdout",
     "output_type": "stream",
     "text": [
      "[10, 20, 30]\n",
      "[40, 50, 60]\n",
      "[70, 80, 90]\n"
     ]
    }
   ],
   "source": [
    "a=[[10,20,30],[40,50,60],[70,80,90]]\n",
    "for i in a:\n",
    "    print(i)               # i m bhi list mil rhi hai so is list m se bhi har ek element nikalna h to ek or loop lgayege n us \n",
    "                           # i wali list m se ek2 element j m ayega n ye list nh matrix form m print hoga,u can see below-"
   ]
  },
  {
   "cell_type": "markdown",
   "id": "14c15b56",
   "metadata": {},
   "source": [
    "# Printing In Matrix Pattern :"
   ]
  },
  {
   "cell_type": "code",
   "execution_count": 2,
   "id": "9fc77d86",
   "metadata": {},
   "outputs": [
    {
     "name": "stdout",
     "output_type": "stream",
     "text": [
      "10 20 30 \n",
      "40 50 60 \n",
      "70 80 90 \n"
     ]
    }
   ],
   "source": [
    "a=[[10,20,30],[40,50,60],[70,80,90]]\n",
    "for i in a:\n",
    "    for j in i:\n",
    "        print(j,end=\" \")\n",
    "    print()"
   ]
  },
  {
   "cell_type": "markdown",
   "id": "36b5903a",
   "metadata": {},
   "source": [
    "# Sum of the Nested List :"
   ]
  },
  {
   "cell_type": "code",
   "execution_count": 2,
   "id": "b52c0727",
   "metadata": {},
   "outputs": [
    {
     "name": "stdout",
     "output_type": "stream",
     "text": [
      "450\n"
     ]
    }
   ],
   "source": [
    "a=[[10,20,30],[40,50,60],[70,80,90]]     #yha list h to ek2 element nikal kr add kiya jayega n wo element hm j wala loop \n",
    "s=0                                      #lgakr nikalege then uska sum kr denge s=s+j krke n bahr ek variable b man lenge.\n",
    "for i in a:                              \n",
    "    for j in i:\n",
    "        s=s+j\n",
    "print(s)"
   ]
  },
  {
   "cell_type": "markdown",
   "id": "c71de147",
   "metadata": {},
   "source": [
    "# Sum of the Nested list and Normal element :"
   ]
  },
  {
   "cell_type": "code",
   "execution_count": 3,
   "id": "272e3938",
   "metadata": {},
   "outputs": [
    {
     "name": "stdout",
     "output_type": "stream",
     "text": [
      "450\n"
     ]
    }
   ],
   "source": [
    "a=[[10,20,30],[40,50,60],70,80,90]      #yha normal element b h to kya kre,krna kch nh h i ka type check kr lenge n agr list h\n",
    "s=0                                     #to ek2 element j m nikal krke add kr lenge n jo list m nh h means normal element h use\n",
    "for i in a:                             # else wali condition lgakr directly add kr lenge so like that we got the sum.\n",
    "    if type(i)==list:\n",
    "        for j in i:\n",
    "                s=s+j\n",
    "    else:\n",
    "        s=s+i\n",
    "print(s)"
   ]
  },
  {
   "cell_type": "code",
   "execution_count": 4,
   "id": "33ee2278",
   "metadata": {},
   "outputs": [
    {
     "name": "stdout",
     "output_type": "stream",
     "text": [
      "10 20 30 \n",
      "40 50 60 \n",
      "70 80 90 \n"
     ]
    }
   ],
   "source": [
    "a=[[10,20,30],[40,50,60],[70,80,90]]\n",
    "for i in a:\n",
    "    for j in i:\n",
    "        print(j,end=\" \")\n",
    "    print()"
   ]
  },
  {
   "cell_type": "code",
   "execution_count": 8,
   "id": "a8bdb6a5",
   "metadata": {},
   "outputs": [
    {
     "name": "stdout",
     "output_type": "stream",
     "text": [
      "enter num of rows3\n",
      "enter num of cols4\n",
      "enter 4 elements for row 1\n",
      "1\n",
      "2\n",
      "3\n",
      "4\n",
      "enter 4 elements for row 2\n",
      "5\n",
      "6\n",
      "7\n",
      "8\n",
      "enter 4 elements for row 3\n",
      "9\n",
      "1\n",
      "2\n",
      "3\n",
      "[[1, 2, 3, 4], [5, 6, 7, 8], [9, 1, 2, 3]]\n"
     ]
    }
   ],
   "source": [
    "a=[]                                    #har row ke liye ek empty list lena hai ie b here,n next loop column ke liye chla rhe h\n",
    "r=int(input(\"enter num of rows\"))       #so jo b input hm dalege wo sb ek empty list b m jata jayega or can say append krwa \n",
    "c=int(input(\"enter num of cols\"))       #lenge,after that we will again append it into list a.\n",
    "for i in range(1,r+1):\n",
    "    print(\"enter\",c,\"elements for row\",i)\n",
    "    b=[]\n",
    "    for j in range(1,c+1):\n",
    "        b.append(int(input()))\n",
    "    a.append(b)\n",
    "print(a)"
   ]
  },
  {
   "cell_type": "markdown",
   "id": "222c4997",
   "metadata": {},
   "source": [
    "# Tuple:\n",
    "              \n",
    "Tuple operarions are also same like List but we couldn't update in tuple cz  tuple is immutable."
   ]
  },
  {
   "cell_type": "code",
   "execution_count": 4,
   "id": "543eb076",
   "metadata": {},
   "outputs": [
    {
     "name": "stdout",
     "output_type": "stream",
     "text": [
      "()\n",
      "<class 'tuple'>\n",
      "()\n",
      "<class 'tuple'>\n"
     ]
    }
   ],
   "source": [
    "a=()\n",
    "print(a)\n",
    "print(type(a))\n",
    "a=tuple()#by constructor\n",
    "print(a)\n",
    "print(type(a))"
   ]
  },
  {
   "cell_type": "code",
   "execution_count": null,
   "id": "6f545681",
   "metadata": {},
   "outputs": [],
   "source": [
    "# Python has two built-in methods that you can use on tuples."
   ]
  },
  {
   "cell_type": "code",
   "execution_count": 5,
   "id": "116aed3c",
   "metadata": {},
   "outputs": [
    {
     "data": {
      "text/plain": [
       "['__add__',\n",
       " '__class__',\n",
       " '__class_getitem__',\n",
       " '__contains__',\n",
       " '__delattr__',\n",
       " '__dir__',\n",
       " '__doc__',\n",
       " '__eq__',\n",
       " '__format__',\n",
       " '__ge__',\n",
       " '__getattribute__',\n",
       " '__getitem__',\n",
       " '__getnewargs__',\n",
       " '__gt__',\n",
       " '__hash__',\n",
       " '__init__',\n",
       " '__init_subclass__',\n",
       " '__iter__',\n",
       " '__le__',\n",
       " '__len__',\n",
       " '__lt__',\n",
       " '__mul__',\n",
       " '__ne__',\n",
       " '__new__',\n",
       " '__reduce__',\n",
       " '__reduce_ex__',\n",
       " '__repr__',\n",
       " '__rmul__',\n",
       " '__setattr__',\n",
       " '__sizeof__',\n",
       " '__str__',\n",
       " '__subclasshook__',\n",
       " 'count',\n",
       " 'index']"
      ]
     },
     "execution_count": 5,
     "metadata": {},
     "output_type": "execute_result"
    }
   ],
   "source": [
    "dir(tuple)"
   ]
  },
  {
   "cell_type": "code",
   "execution_count": 6,
   "id": "217ca523",
   "metadata": {},
   "outputs": [
    {
     "name": "stdout",
     "output_type": "stream",
     "text": [
      "Index vice traversing of tuple :\n",
      "10\n",
      "20\n",
      "30\n",
      "10\n",
      "20\n"
     ]
    }
   ],
   "source": [
    "a=(10,20,30,10,20)\n",
    "# a[0]=50,but cant update elements in tuple.\n",
    "print(\"Index vice traversing of tuple :\")\n",
    "for i in range(0,len(a)):\n",
    "    print(a[i])"
   ]
  },
  {
   "cell_type": "code",
   "execution_count": 7,
   "id": "00702c88",
   "metadata": {},
   "outputs": [
    {
     "name": "stdout",
     "output_type": "stream",
     "text": [
      "Element vice traversing of tuple :\n",
      "10\n",
      "20\n",
      "30\n",
      "10\n",
      "20\n"
     ]
    }
   ],
   "source": [
    "a=(10,20,30,10,20)\n",
    "# a[0]=50,but cant update elements in tuple.\n",
    "print(\"Element vice traversing of tuple :\")\n",
    "for i in a:\n",
    "    print(i)"
   ]
  },
  {
   "cell_type": "code",
   "execution_count": 8,
   "id": "053ebe67",
   "metadata": {},
   "outputs": [
    {
     "name": "stdout",
     "output_type": "stream",
     "text": [
      "2\n"
     ]
    }
   ],
   "source": [
    "a=(10,20,30,10,20)\n",
    "print(a.count(10))"
   ]
  },
  {
   "cell_type": "code",
   "execution_count": 9,
   "id": "c88742d5",
   "metadata": {},
   "outputs": [
    {
     "name": "stdout",
     "output_type": "stream",
     "text": [
      "0\n"
     ]
    }
   ],
   "source": [
    "a=(10,20,30,10,20)\n",
    "print(a.index(10))"
   ]
  },
  {
   "cell_type": "code",
   "execution_count": 4,
   "id": "a9d88f2d",
   "metadata": {},
   "outputs": [
    {
     "name": "stdout",
     "output_type": "stream",
     "text": [
      "<class 'tuple'>\n",
      "<class 'str'>\n"
     ]
    }
   ],
   "source": [
    "thistuple = (\"apple\",)\n",
    "print(type(thistuple))\n",
    "\n",
    "#NOT a tuple\n",
    "thistuple = (\"apple\")\n",
    "print(type(thistuple))"
   ]
  },
  {
   "cell_type": "code",
   "execution_count": null,
   "id": "ec4efba4",
   "metadata": {},
   "outputs": [],
   "source": []
  }
 ],
 "metadata": {
  "kernelspec": {
   "display_name": "Python 3 (ipykernel)",
   "language": "python",
   "name": "python3"
  },
  "language_info": {
   "codemirror_mode": {
    "name": "ipython",
    "version": 3
   },
   "file_extension": ".py",
   "mimetype": "text/x-python",
   "name": "python",
   "nbconvert_exporter": "python",
   "pygments_lexer": "ipython3",
   "version": "3.9.7"
  }
 },
 "nbformat": 4,
 "nbformat_minor": 5
}
