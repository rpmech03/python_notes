{
 "cells": [
  {
   "cell_type": "markdown",
   "id": "5b8a0865",
   "metadata": {},
   "source": [
    "# Sum of List,Tuple And Set :\n"
   ]
  },
  {
   "cell_type": "code",
   "execution_count": 4,
   "id": "e026957c",
   "metadata": {},
   "outputs": [
    {
     "name": "stdout",
     "output_type": "stream",
     "text": [
      "620\n"
     ]
    }
   ],
   "source": [
    "a=[[10,20,30],[40,50,60],(70,80,90),{80,90}]\n",
    "s=0\n",
    "for i in a:\n",
    "    for j in i:\n",
    "        s=s+j\n",
    "print(s)"
   ]
  },
  {
   "cell_type": "markdown",
   "id": "87a91649",
   "metadata": {},
   "source": [
    "# Sum of List,Tuple,Set And Integer :"
   ]
  },
  {
   "cell_type": "code",
   "execution_count": 2,
   "id": "4893c84c",
   "metadata": {},
   "outputs": [
    {
     "name": "stdout",
     "output_type": "stream",
     "text": [
      "790\n"
     ]
    }
   ],
   "source": [
    "a=[[10,20,30],[40,50,60],(70,80,90),{80,90},80,90]\n",
    "s=0\n",
    "for i in a:\n",
    "    if type(i)==int:\n",
    "        s=s+i\n",
    "    else:\n",
    "        for j in i:\n",
    "            s=s+j\n",
    "print(s)"
   ]
  },
  {
   "cell_type": "code",
   "execution_count": 1,
   "id": "d4508feb",
   "metadata": {},
   "outputs": [
    {
     "name": "stdout",
     "output_type": "stream",
     "text": [
      "60\n",
      "150\n"
     ]
    }
   ],
   "source": [
    "a=[(10,20,30),(40,50,60)]\n",
    "for i,j,k in a:\n",
    "    print(i+j+k)"
   ]
  },
  {
   "cell_type": "code",
   "execution_count": 12,
   "id": "666e04a7",
   "metadata": {},
   "outputs": [
    {
     "name": "stdout",
     "output_type": "stream",
     "text": [
      "210\n"
     ]
    }
   ],
   "source": [
    "a=[(10,20,30),(40,50,60)]#for complete sum\n",
    "s=0\n",
    "for i in a:\n",
    "#     print(i)\n",
    "    for j in i:\n",
    "#         print(j)\n",
    "        s=s+j\n",
    "print(s)\n",
    "        "
   ]
  },
  {
   "cell_type": "code",
   "execution_count": 4,
   "id": "901122cb",
   "metadata": {},
   "outputs": [
    {
     "name": "stdout",
     "output_type": "stream",
     "text": [
      "30\n",
      "90\n"
     ]
    }
   ],
   "source": [
    "a=[(10,20),(40,50)]\n",
    "for i,j in a:\n",
    "    print(i+j)"
   ]
  },
  {
   "cell_type": "markdown",
   "id": "d8044041",
   "metadata": {},
   "source": [
    "# Zip Function :\n",
    "                 \n",
    "Mainly used to club two list or tuple in a single object and we can fetch each elements individually from each collection object \n",
    "\n",
    "with the help of zip function."
   ]
  },
  {
   "cell_type": "code",
   "execution_count": 4,
   "id": "4a24432e",
   "metadata": {},
   "outputs": [
    {
     "name": "stdout",
     "output_type": "stream",
     "text": [
      "10 40\n",
      "20 50\n",
      "30 60\n"
     ]
    }
   ],
   "source": [
    "a=[10,20,30]\n",
    "b=[40,50,60,40]\n",
    "# zipobject=[[10,40],[20,50],[30,60]]\n",
    "for i,j in zip(a,b):\n",
    "    print(i,j)"
   ]
  },
  {
   "cell_type": "code",
   "execution_count": 17,
   "id": "aa898b9a",
   "metadata": {},
   "outputs": [
    {
     "name": "stdout",
     "output_type": "stream",
     "text": [
      "[10, 40]\n",
      "[20, 50]\n",
      "[30, 60]\n"
     ]
    },
    {
     "data": {
      "text/plain": [
       "[[10, 40], [20, 50], [30, 60]]"
      ]
     },
     "execution_count": 17,
     "metadata": {},
     "output_type": "execute_result"
    }
   ],
   "source": [
    "a=[10,20,30]\n",
    "b=[40,50,60,40]\n",
    "# zipobject=[[10,40],[20,50],[30,60]]\n",
    "c=[]\n",
    "for i,j in zip(a,b):\n",
    "    print([i,j])\n",
    "    c.append([i,j])\n",
    "c"
   ]
  },
  {
   "cell_type": "markdown",
   "id": "ce7ecb9d",
   "metadata": {},
   "source": [
    "# List Comprehension :\n",
    "                                      \n",
    "It is mainly used 'to create a filtered list in single line'.\n",
    "\n",
    "Used to 'reduce lot's of code' but it will 'internally increase execution speed of program'.\n",
    "\n",
    "We wil use following syntax for LC---\n",
    "                                      \n",
    "obj=[variable for variable in iterable]\n",
    "                                      "
   ]
  },
  {
   "cell_type": "code",
   "execution_count": 7,
   "id": "52f32ceb",
   "metadata": {},
   "outputs": [
    {
     "name": "stdout",
     "output_type": "stream",
     "text": [
      "[1, 2, 3, 4, 5, 6, 7, 8, 9, 10]\n"
     ]
    }
   ],
   "source": [
    "a=[]\n",
    "for i in range(1,11):\n",
    "    a.append(i)\n",
    "print(a)"
   ]
  },
  {
   "cell_type": "code",
   "execution_count": 6,
   "id": "6ad50df7",
   "metadata": {},
   "outputs": [
    {
     "name": "stdout",
     "output_type": "stream",
     "text": [
      "[1, 2, 3, 4, 5, 6, 7, 8, 9, 10]\n",
      "[1, 2, 3, 4, 5, 6, 7, 8, 9, 10]\n"
     ]
    }
   ],
   "source": [
    "a=[]\n",
    "for i in range(1,11):\n",
    "    a.append(i)\n",
    "print(a)\n",
    "b=[i for i in range(1,11)]\n",
    "print(b)"
   ]
  },
  {
   "cell_type": "code",
   "execution_count": 2,
   "id": "d0fe7c01",
   "metadata": {},
   "outputs": [
    {
     "name": "stdout",
     "output_type": "stream",
     "text": [
      "[1, 2, 3, 4, 5, 6, 7, 8, 9, 10]\n"
     ]
    }
   ],
   "source": [
    "b=[i for i in range(1,11)]\n",
    "print(b)"
   ]
  },
  {
   "cell_type": "code",
   "execution_count": 8,
   "id": "2a233c12",
   "metadata": {},
   "outputs": [
    {
     "name": "stdout",
     "output_type": "stream",
     "text": [
      "['h', 'e', 'l', 'l', 'o']\n"
     ]
    }
   ],
   "source": [
    "s=\"hello\"\n",
    "a=[i for i in s]\n",
    "print(a)"
   ]
  },
  {
   "cell_type": "code",
   "execution_count": 2,
   "id": "80e1aec3",
   "metadata": {},
   "outputs": [
    {
     "name": "stdout",
     "output_type": "stream",
     "text": [
      "[4, 8, 12, 16, 20, 24, 28, 32, 36, 40]\n"
     ]
    }
   ],
   "source": [
    "b=[i for i in range(1,41) if i%4==0]\n",
    "print(b)"
   ]
  },
  {
   "cell_type": "code",
   "execution_count": 3,
   "id": "6881fee7",
   "metadata": {},
   "outputs": [
    {
     "name": "stdout",
     "output_type": "stream",
     "text": [
      "[2, 4, 6, 8, 10, 12, 14, 16, 18, 20, 22, 24, 26, 28, 30, 32, 34, 36, 38, 40]\n"
     ]
    }
   ],
   "source": [
    "b=[i for i in range(1,41) if i%2==0]\n",
    "print(b)"
   ]
  },
  {
   "cell_type": "code",
   "execution_count": 9,
   "id": "f82dccbb",
   "metadata": {},
   "outputs": [
    {
     "name": "stdout",
     "output_type": "stream",
     "text": [
      "[1, 4, 9, 16, 25]\n"
     ]
    }
   ],
   "source": [
    "# print square in list:\n",
    "t=[i**2 for i in range(1,6)]\n",
    "print(t)"
   ]
  },
  {
   "cell_type": "code",
   "execution_count": null,
   "id": "84f4ee26",
   "metadata": {},
   "outputs": [],
   "source": []
  }
 ],
 "metadata": {
  "kernelspec": {
   "display_name": "Python 3 (ipykernel)",
   "language": "python",
   "name": "python3"
  },
  "language_info": {
   "codemirror_mode": {
    "name": "ipython",
    "version": 3
   },
   "file_extension": ".py",
   "mimetype": "text/x-python",
   "name": "python",
   "nbconvert_exporter": "python",
   "pygments_lexer": "ipython3",
   "version": "3.9.7"
  }
 },
 "nbformat": 4,
 "nbformat_minor": 5
}
