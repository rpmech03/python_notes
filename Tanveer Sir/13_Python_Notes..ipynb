{
 "cells": [
  {
   "cell_type": "markdown",
   "id": "34db8ca0",
   "metadata": {},
   "source": [
    "# List:\n"
   ]
  },
  {
   "cell_type": "markdown",
   "id": "1886b815",
   "metadata": {},
   "source": [
    "# Commonly used method of list class are-\n",
    "dir(list)\n",
    "\n",
    "1_Append: Append method is used to add an element at the end of list.\n",
    "    \n",
    "2_Clear: Clear method is used to remove all element of list but will not remove structure of a list.\n",
    "    \n",
    "3_Copy: To make shallow copy of list.\n",
    "    \n",
    "4_Count: Count specific element in list.\n",
    "    \n",
    "5_Extend:To add another list element with in a list.\n",
    "    \n",
    "6_Index:To find out index of a specific element in a list.\n",
    "    \n",
    "7_Insert:To add a element in specific position in list.\n",
    "    \n",
    "8_Remove:To remove sp element but if element not present in the list it will produce an error.\n",
    "    \n",
    "9_Pop:To remove last element from list.\n",
    "    \n",
    "10_Reverse: To arrange all element in list in reverse order.\n",
    "    \n",
    "11_Sort: To arrange list in ascending or descending order, by default its  arrange in ascending order and for descending order \n",
    "\n",
    "put reverse = True.\n",
    "        "
   ]
  },
  {
   "cell_type": "markdown",
   "id": "47f42905",
   "metadata": {},
   "source": [
    "# Tuple:\n",
    "            Tuple is a collection which is ordered and indexed.\n",
    "            We can also access tuple by their indexes but we can not modify elements of tuple.\n",
    "            We can also store duplicate elements in tuple as we know we can't modify a tuple thats why we called it \n",
    "            \"Immutable Object\"\n",
    "            \n",
    "   We can create tuple by two following ways:\n",
    "   a=()\n",
    "   print(a)\n",
    "   print(type(a))\n",
    "   a=type() #constructor\n",
    "   print(a)\n",
    "   print(type(a))\n",
    "   \n",
    "   Commonly used tuple class are following below-\n",
    "   \n",
    "   1_Count: To count sp element in tuple.\n",
    "   \n",
    "   2_Index: To find out lowest index of a specific elements in tuple.\n",
    "   \n",
    "            "
   ]
  },
  {
   "cell_type": "markdown",
   "id": "4d51e77f",
   "metadata": {},
   "source": [
    "# SET:\n",
    "\n",
    "Set is used to share unique element only.\n",
    "\n",
    "Set internally store unordered and unindex element and set is also an immutable object it means we cant modify or change element of set.\n",
    "\n",
    "We can create a python set with the help of following 2 ways-\n",
    "  \n",
    "Commonly used methods are-\n",
    "\n",
    "   1_Add: Used to add an element at the end of set but as we know set doesn't maintain any order when it will add at \n",
    "          any position.\n",
    "        \n",
    "   2_Clear: To remove all element of set but it will not remove structure of set.\n",
    "   \n",
    "   3_Copy: To create a duplicate copy of set.\n",
    "   \n",
    "   4_Difference: Difference method will return a set which is difference is 2 sets it means if two set contain some \n",
    "                 same element then it will remove element from one set.\n",
    "                 \n",
    "   5_Diffenrence Update: Diffenrence update method is used to return difference of 2 sets and update within a existing set\n",
    "                         ,calculate difference of 2 sets and update in existing set.\n",
    "                         \n",
    "   6_Discard: Discard method used to removal of specific element of set but if element is not present inside then it wiil do \n",
    "              nothing.\n",
    "              \n",
    "   7_Remove: To remove specific element of set but if element not present in set then it will raised exception.\n",
    "   \n",
    "   8_Pop: To remove last element from set but as we know set doesn't maintain any order so it remove random element.\n",
    "   \n",
    "   9_Intersection:Intersection method is return intersection 2 set as a new set.\n",
    "   \n",
    "   10_Intersection update: To find out intersection of two set and update in existing set.\n",
    "   \n",
    "   11_Isdisjoint: to check to 2 sets are equal or not it will return a true whenboth set's contain null intersection otherwise\n",
    "                  return false.\n",
    "                 \n",
    "   12_Issubset: It will return a true is when a set upset is another set.\n",
    "   \n",
    "   13_Issuper set: Issuper set it will return a true when a set is superset is another set.\n",
    "   \n",
    "   14_Symmetric Difference: Return  a set of symmetric difference of set a two set.\n",
    "   \n",
    "   15_Symmetric-difference update:Return symmetric difference to two set and update within existing set.\n",
    "   \n",
    "   16_Union:To return union of two set as a newset.\n",
    "   \n",
    "   17_Update: To update union of two set's in a set.\n",
    "              a=(10,20,30,10,20,10,10,20,40,50)\n",
    "              print(a)\n",
    "              "
   ]
  },
  {
   "cell_type": "code",
   "execution_count": null,
   "id": "1e8fa6f0",
   "metadata": {},
   "outputs": [],
   "source": [
    "1_Que:Take a no from user to check its prime or not using while loop.\n",
    "2_Que:Take start and add of a series from user and find out some of even and odd numbers?\n",
    "3_Que:Take start and end from user and print factorial of each number in series ?\n",
    "4_Que:Write a fun to check a number is prime or not?\n",
    "5_Que:Write a fun that contains one argument according to argument print fibonacci series?"
   ]
  },
  {
   "cell_type": "code",
   "execution_count": null,
   "id": "65d8ee2e",
   "metadata": {},
   "outputs": [],
   "source": []
  },
  {
   "cell_type": "code",
   "execution_count": null,
   "id": "ad9409e6",
   "metadata": {},
   "outputs": [],
   "source": []
  },
  {
   "cell_type": "code",
   "execution_count": null,
   "id": "c5d4db48",
   "metadata": {},
   "outputs": [],
   "source": []
  },
  {
   "cell_type": "code",
   "execution_count": null,
   "id": "b82fa660",
   "metadata": {},
   "outputs": [],
   "source": []
  },
  {
   "cell_type": "code",
   "execution_count": null,
   "id": "b6afd4b6",
   "metadata": {},
   "outputs": [],
   "source": []
  },
  {
   "cell_type": "code",
   "execution_count": null,
   "id": "685e4e1a",
   "metadata": {},
   "outputs": [],
   "source": []
  },
  {
   "cell_type": "code",
   "execution_count": null,
   "id": "3f13b906",
   "metadata": {},
   "outputs": [],
   "source": []
  }
 ],
 "metadata": {
  "kernelspec": {
   "display_name": "Python 3 (ipykernel)",
   "language": "python",
   "name": "python3"
  },
  "language_info": {
   "codemirror_mode": {
    "name": "ipython",
    "version": 3
   },
   "file_extension": ".py",
   "mimetype": "text/x-python",
   "name": "python",
   "nbconvert_exporter": "python",
   "pygments_lexer": "ipython3",
   "version": "3.9.7"
  }
 },
 "nbformat": 4,
 "nbformat_minor": 5
}
