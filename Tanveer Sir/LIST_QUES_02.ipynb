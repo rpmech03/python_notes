{
 "cells": [
  {
   "cell_type": "markdown",
   "id": "dcf8dee9",
   "metadata": {},
   "source": [
    "# Python | Ways to find length of list"
   ]
  },
  {
   "cell_type": "code",
   "execution_count": 2,
   "id": "f2ab5787",
   "metadata": {},
   "outputs": [
    {
     "name": "stdout",
     "output_type": "stream",
     "text": [
      "length of list is 5\n"
     ]
    }
   ],
   "source": [
    "a = [1, 4, 5, 7, 8]\n",
    "c=0\n",
    "for i in a:\n",
    "    c+=1\n",
    "print(\"length of list is\",c)"
   ]
  },
  {
   "cell_type": "markdown",
   "id": "ecc61d5b",
   "metadata": {},
   "source": [
    "# Check if element exists in list in Python"
   ]
  },
  {
   "cell_type": "code",
   "execution_count": null,
   "id": "8e6e712e",
   "metadata": {},
   "outputs": [],
   "source": [
    "# Example 1: Check if an element exists in the list using the if-else statement"
   ]
  },
  {
   "cell_type": "code",
   "execution_count": 3,
   "id": "ecccfb9b",
   "metadata": {},
   "outputs": [
    {
     "name": "stdout",
     "output_type": "stream",
     "text": [
      "not exist\n"
     ]
    }
   ],
   "source": [
    "# python code to Check if element exists in list or not\n",
    "\n",
    "lst=[ 1, 6, 3, 5, 3, 4 ]\n",
    "#checking if element 7 is present\n",
    "# in the given list or not\n",
    "i=7\n",
    "# if element present then return\n",
    "# exist otherwise not exist\n",
    "if i in lst:\n",
    "\tprint(\"exist\")\n",
    "else:\n",
    "\tprint(\"not exist\")\n",
    "\n",
    "\n",
    "\t# this code is contributed by gangarajula laxmi\n"
   ]
  },
  {
   "cell_type": "markdown",
   "id": "9f43845e",
   "metadata": {},
   "source": [
    "# Example 2: Check if an element exists in the list using a loop "
   ]
  },
  {
   "cell_type": "code",
   "execution_count": 6,
   "id": "9624133a",
   "metadata": {},
   "outputs": [
    {
     "name": "stdout",
     "output_type": "stream",
     "text": [
      "exist\n"
     ]
    }
   ],
   "source": [
    "a=[1,2,3,4]\n",
    "for i in a:\n",
    "    if i==4:\n",
    "        print(\"exist\")\n"
   ]
  },
  {
   "cell_type": "markdown",
   "id": "11258de8",
   "metadata": {},
   "source": [
    "# Example 3: Check if an element exists in the list using “in” "
   ]
  },
  {
   "cell_type": "code",
   "execution_count": 7,
   "id": "05eaea33",
   "metadata": {},
   "outputs": [
    {
     "name": "stdout",
     "output_type": "stream",
     "text": [
      "exist\n"
     ]
    }
   ],
   "source": [
    "a=[1,2,3,4]\n",
    "if 4 in a:\n",
    "    print(\"exist\")"
   ]
  },
  {
   "cell_type": "markdown",
   "id": "b48cd6c4",
   "metadata": {},
   "source": [
    "# Different ways to clear a list in Python"
   ]
  },
  {
   "cell_type": "code",
   "execution_count": 8,
   "id": "ec41516c",
   "metadata": {},
   "outputs": [
    {
     "data": {
      "text/plain": [
       "[]"
      ]
     },
     "execution_count": 8,
     "metadata": {},
     "output_type": "execute_result"
    }
   ],
   "source": [
    "a=[1,2,3]\n",
    "a.clear()\n",
    "a"
   ]
  },
  {
   "cell_type": "code",
   "execution_count": 9,
   "id": "77720502",
   "metadata": {},
   "outputs": [
    {
     "data": {
      "text/plain": [
       "[]"
      ]
     },
     "execution_count": 9,
     "metadata": {},
     "output_type": "execute_result"
    }
   ],
   "source": [
    "#using slicing\n",
    "\n",
    "a=[1,2,3]\n",
    "a=a[:0]\n",
    "a"
   ]
  },
  {
   "cell_type": "code",
   "execution_count": 10,
   "id": "4bee6ff3",
   "metadata": {},
   "outputs": [
    {
     "name": "stdout",
     "output_type": "stream",
     "text": [
      "6\n"
     ]
    }
   ],
   "source": [
    "a = [1,2,3]\n",
    "s=0\n",
    "for i in a:\n",
    "    s+=i\n",
    "print(s)"
   ]
  },
  {
   "cell_type": "code",
   "execution_count": 11,
   "id": "85828cf7",
   "metadata": {},
   "outputs": [
    {
     "name": "stdout",
     "output_type": "stream",
     "text": [
      "6\n"
     ]
    }
   ],
   "source": [
    "a = [1,2,3]\n",
    "s=0\n",
    "ele=0\n",
    "while ele<len(a):\n",
    "    s = s + a[ele]\n",
    "    ele+=1\n",
    "print(s)"
   ]
  },
  {
   "cell_type": "markdown",
   "id": "5a98bc75",
   "metadata": {},
   "source": [
    "# Python program to find N largest elements from a list"
   ]
  },
  {
   "cell_type": "code",
   "execution_count": 13,
   "id": "620019d8",
   "metadata": {},
   "outputs": [
    {
     "name": "stdout",
     "output_type": "stream",
     "text": [
      "[85, 41]\n"
     ]
    }
   ],
   "source": [
    "# Python program to find N largest\n",
    "# element from given list of integers\n",
    "\n",
    "# Function returns N largest elements\n",
    "def Nmaxelements(list1, N):\n",
    "\tfinal_list = []\n",
    "\n",
    "\tfor i in range(0, N):\n",
    "\t\tmax1 = 0\n",
    "\t\t\n",
    "\t\tfor j in range(len(list1)):\t\n",
    "\t\t\tif list1[j] > max1:\n",
    "\t\t\t\tmax1 = list1[j];\n",
    "\t\t\t\t\n",
    "\t\tlist1.remove(max1);\n",
    "\t\tfinal_list.append(max1)\n",
    "\t\t\n",
    "\tprint(final_list)\n",
    "\n",
    "# Driver code\n",
    "list1 = [2, 6, 41, 85, 0, 3, 7, 6, 10]\n",
    "N = 2\n",
    "\n",
    "# Calling the function\n",
    "Nmaxelements(list1, N)\n"
   ]
  },
  {
   "cell_type": "code",
   "execution_count": 14,
   "id": "54dfad0a",
   "metadata": {},
   "outputs": [
    {
     "name": "stdout",
     "output_type": "stream",
     "text": [
      "2\n",
      "[85, 41]\n"
     ]
    }
   ],
   "source": [
    "n=int(input())\n",
    "list1 = [2, 6, 41, 85, 0, 3, 7, 6, 10]\n",
    "f = []\n",
    "for i in range(0,n):\n",
    "    max1=0\n",
    "    for j in range(len(list1)):\n",
    "        if list1[j]>max1:\n",
    "            max1=list1[j]\n",
    "    list1.remove(max1)\n",
    "    f.append(max1)\n",
    "print(f)"
   ]
  },
  {
   "cell_type": "code",
   "execution_count": 15,
   "id": "b24c7006",
   "metadata": {},
   "outputs": [
    {
     "name": "stdout",
     "output_type": "stream",
     "text": [
      "[298, 900, 1000, 3579]\n"
     ]
    }
   ],
   "source": [
    "# Python program to find N largest\n",
    "# element from given list of integers\n",
    "\n",
    "l = [1000,298,3579,100,200,-45,900]\n",
    "n = 4\n",
    "\n",
    "l.sort()\n",
    "print(l[-n:])\n"
   ]
  },
  {
   "cell_type": "markdown",
   "id": "4efe0ae7",
   "metadata": {},
   "source": [
    "# Remove multiple elements from a list in Python"
   ]
  },
  {
   "cell_type": "code",
   "execution_count": null,
   "id": "49cb6418",
   "metadata": {},
   "outputs": [],
   "source": []
  },
  {
   "cell_type": "markdown",
   "id": "c4cd7ad5",
   "metadata": {},
   "source": [
    "# Python – Remove empty List from List"
   ]
  },
  {
   "cell_type": "code",
   "execution_count": 16,
   "id": "68608829",
   "metadata": {},
   "outputs": [
    {
     "name": "stdout",
     "output_type": "stream",
     "text": [
      "The original list is : [5, 6, [], 3, [], [], 9]\n",
      "List after empty list removal : [5, 6, 3, 9]\n"
     ]
    }
   ],
   "source": [
    "# Python3 code to Demonstrate Remove empty List\n",
    "# from List using list comprehension\n",
    "\n",
    "# Initializing list\n",
    "test_list = [5, 6, [], 3, [], [], 9]\n",
    "\n",
    "# printing original list\n",
    "print(\"The original list is : \" + str(test_list))\n",
    "\n",
    "# Remove empty List from List\n",
    "# using list comprehension\n",
    "res = [ele for ele in test_list if ele != []]\n",
    "\n",
    "# printing result\n",
    "print(\"List after empty list removal : \" + str(res))\n"
   ]
  },
  {
   "cell_type": "markdown",
   "id": "08d81eb1",
   "metadata": {},
   "source": [
    "# Python | Program to print duplicates from a list of integers"
   ]
  },
  {
   "cell_type": "code",
   "execution_count": 18,
   "id": "b4bf939a",
   "metadata": {},
   "outputs": [
    {
     "name": "stdout",
     "output_type": "stream",
     "text": [
      "[1, 2, 3]\n"
     ]
    }
   ],
   "source": [
    "a=[1,2,3,3,2,1,4,5,6,1,2,3]\n",
    "b=[]\n",
    "for i in a:\n",
    "    if a.count(i)>1 and i not in b:\n",
    "        b.append(i)\n",
    "print(b)"
   ]
  },
  {
   "cell_type": "code",
   "execution_count": 20,
   "id": "59d31839",
   "metadata": {},
   "outputs": [
    {
     "name": "stdout",
     "output_type": "stream",
     "text": [
      "[20, 30, -20, 60]\n"
     ]
    }
   ],
   "source": [
    "a = [10, 20, 30, 20, 20, 30, 40,50, -20, 60, 60, -20, -20]\n",
    "n=len(a)\n",
    "b=[]\n",
    "for i in range(n):\n",
    "    for j in range(i+1,n):\n",
    "        if a[i] == a[j] and a[i] not in b:\n",
    "            b.append(a[i])\n",
    "print(b)"
   ]
  },
  {
   "cell_type": "code",
   "execution_count": null,
   "id": "61502e5c",
   "metadata": {},
   "outputs": [],
   "source": []
  }
 ],
 "metadata": {
  "kernelspec": {
   "display_name": "Python 3 (ipykernel)",
   "language": "python",
   "name": "python3"
  },
  "language_info": {
   "codemirror_mode": {
    "name": "ipython",
    "version": 3
   },
   "file_extension": ".py",
   "mimetype": "text/x-python",
   "name": "python",
   "nbconvert_exporter": "python",
   "pygments_lexer": "ipython3",
   "version": "3.9.7"
  }
 },
 "nbformat": 4,
 "nbformat_minor": 5
}
