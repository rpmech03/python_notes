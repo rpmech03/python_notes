{
 "cells": [
  {
   "cell_type": "code",
   "execution_count": 4,
   "id": "66ac1747",
   "metadata": {},
   "outputs": [
    {
     "name": "stdout",
     "output_type": "stream",
     "text": [
      "[1, 0, 0, 4, 7, 5, 6, 7, 8, 7, 9, 8, 5, 4, 7, 6, 3, 2, 7, 5, 4, 8, 7, 6, 4, 2, 6, 4, 3, 8, 6, 5, 4, 6, 8, 6, 7, 3]\n"
     ]
    }
   ],
   "source": [
    "l = [3,7,6,8,6,4,5,6,8,3,4,6,2,4,6,7,8,4,5,7,2,3,6,7,4,5,8,9,7,8,7,6,5,7,4,0,0,1]\n",
    "n= len(l)\n",
    "\n"
   ]
  },
  {
   "cell_type": "code",
   "execution_count": null,
   "id": "6f9d8245",
   "metadata": {},
   "outputs": [],
   "source": [
    "list = [3,7,6,8,6,4,5,6,8,3,4,6,2,4,6,7,8,4,5,7,2,3,6,7,4,5,8,9,7,8,7,6,5,7,4,0,0,1]\n"
   ]
  }
 ],
 "metadata": {
  "kernelspec": {
   "display_name": "Python 3 (ipykernel)",
   "language": "python",
   "name": "python3"
  },
  "language_info": {
   "codemirror_mode": {
    "name": "ipython",
    "version": 3
   },
   "file_extension": ".py",
   "mimetype": "text/x-python",
   "name": "python",
   "nbconvert_exporter": "python",
   "pygments_lexer": "ipython3",
   "version": "3.9.7"
  }
 },
 "nbformat": 4,
 "nbformat_minor": 5
}
